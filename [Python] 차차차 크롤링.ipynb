{
 "cells": [
  {
   "cell_type": "markdown",
   "id": "d1d9c4ce",
   "metadata": {},
   "source": [
    "# KB차차차 사이트 크롤링 \n",
    "\n",
    "1) 검색 페이지 자동차 ListView에서 carSeq(차차차에서 지정한 자동차id) 크롤링    \n",
    "2) carSeq을 이용해 자동차 상세 페이지 접근 -> 상세 정보 크롤링     \n",
    "3) 크롤링 결과로 데이터 프레임 생성해서 csv로 write \n"
   ]
  },
  {
   "cell_type": "code",
   "execution_count": 114,
   "id": "20fb0303",
   "metadata": {},
   "outputs": [],
   "source": [
    "# import modules \n",
    "\n",
    "# - BeautifulSoup 관련 \n",
    "from urllib.request import urlopen \n",
    "from bs4 import BeautifulSoup"
   ]
  },
  {
   "cell_type": "code",
   "execution_count": 2,
   "id": "718585c4",
   "metadata": {},
   "outputs": [],
   "source": [
    "# - Selenium 관련 \n",
    "import requests\n",
    "from selenium import webdriver"
   ]
  },
  {
   "cell_type": "code",
   "execution_count": 115,
   "id": "17465f45",
   "metadata": {},
   "outputs": [],
   "source": [
    "# - time.sleep() \n",
    "import time "
   ]
  },
  {
   "cell_type": "code",
   "execution_count": 116,
   "id": "ceb7334f",
   "metadata": {},
   "outputs": [],
   "source": [
    "# - dataframe 관련 \n",
    "import pandas as pd"
   ]
  },
  {
   "cell_type": "markdown",
   "id": "dbb65d84",
   "metadata": {},
   "source": [
    "## 1. carSeq 크롤링 \n",
    "\n",
    "url = \"https://www.kbchachacha.com/public/search/main.kbc#!?countryOrder=1&page=1\"    \n",
    "countryOrder : 국산차(1) / 수입차(2)    \n",
    "page : paging Number (국산 / 수입 각각 500페이지 씩 있음)   \n"
   ]
  },
  {
   "cell_type": "code",
   "execution_count": null,
   "id": "1f54b58f",
   "metadata": {},
   "outputs": [],
   "source": [
    "# Selenium 라이브러리 사용 (동적 페이지라 BeautifulSoup 사용 불가함)\n",
    "# - 1) chrome webdriver 다운로드 -> workspace에 압축 풀기 \n",
    "# - 2) Navigator에서 Module 설치 후 import : Selenium, requests \n",
    "\n",
    "# !! chrome webdriver 실행 시 mac 오류 해결 !! \n",
    "# Terminal 해당 폴더 % xattr -d com.apple.quarantine /Users/jinyoungkang/Desktop/crawling/driver/chromedriver"
   ]
  },
  {
   "cell_type": "code",
   "execution_count": 5,
   "id": "75c2bd94",
   "metadata": {},
   "outputs": [],
   "source": [
    "# 드라이버 설치 \n",
    "driver = webdriver.Chrome(\"/Volumes/Data/KJinyoung/crawling/driver/chromedriver\")"
   ]
  },
  {
   "cell_type": "code",
   "execution_count": 6,
   "id": "57db7bd1",
   "metadata": {},
   "outputs": [],
   "source": [
    "url =  \"https://www.kbchachacha.com/public/search/main.kbc#!?countryOrder=1&page=1\""
   ]
  },
  {
   "cell_type": "code",
   "execution_count": 7,
   "id": "c2fd8b8e",
   "metadata": {},
   "outputs": [],
   "source": [
    "# 웹드라이버로 url에 직접 접근 \n",
    "driver.get(url)"
   ]
  },
  {
   "cell_type": "code",
   "execution_count": 8,
   "id": "5e2235aa",
   "metadata": {
    "collapsed": true
   },
   "outputs": [
    {
     "data": {
      "text/plain": [
       "'<html lang=\"ko\"><head>\\n<meta charset=\"utf-8\">\\n<meta http-equiv=\"X-UA-Compatible\" content=\"IE=edge\">\\n\\n\\n\\n\\n\\n\\n\\n\\t\\n\\t\\n\\t\\n\\t\\n\\t\\n\\t\\n\\t\\n\\t\\n\\t\\t\\n\\t\\t\\t\\n\\t\\t\\t\\n\\t\\t\\t\\n\\t\\t\\t\\t<title>중고차 검색하고 비교하기 - 중고차 매물대수 1위! 중고차 안심거래 플랫폼 Kbelieve, KB차차차</title>\\n\\t\\t\\t\\t<meta name=\"description\" content=\"차차차 AI시세로 정확한 시세를 확인하세요. 내차 시세, 중고차 비교견적, 중고차 비대면 거래, 전 차종 최다 매물 보유, 중고차 매매사이트, 100% 실차주 매물, 안심 중고차 KB차차차\">\\n\\t\\t\\t\\t<meta property=\"og:title\" content=\"중고차 검색하고 비교하기 - 중고차 매물대수 1위! 중고차 안심거래 플랫폼 Kbelieve, KB차차차\">\\n\\t\\t\\t\\t<meta property=\"og:description\" content=\"차차차 AI시세로 정확한 시세를 확인하세요. 내차 시세, 중고차 비교견적, 중고차 비대면 거래, 전 차종 최다 매물 보유, 중고차 매매사이트, 100% 실차주 매물, 안심 중고차 KB차차차\">\\n\\t\\t\\t\\n\\t\\t\\n\\n\\t\\t<meta property=\"og:url\" content=\"https://m.kbchachacha.com/public/web/search/list.kbc\">\\n\\t\\t<link rel=\"canonical\" href=\"https://m.kbchachacha.com/public/web/search/list.kbc\">\\n\\t\\n\\t\\n\\t\\n\\t\\n\\t\\n\\t\\n\\t\\n\\t\\n\\t\\n\\t\\n\\t\\n\\t\\n\\t\\n\\t\\n\\t\\n\\t\\n\\t\\n\\t\\n\\t\\n\\t\\n\\t\\n\\t\\n\\t\\n\\t\\n\\t\\n\\t\\n\\t\\n\\t\\n\\t\\n\\t\\n\\t\\n\\t\\n\\t\\n\\t\\n\\t\\n\\t\\n\\t\\n\\t\\n\\t\\n\\t\\n\\t\\n\\t\\n\\t\\n\\t\\n\\t\\n\\t\\n\\t\\n\\t\\n\\t\\n\\t\\n\\n\\n<meta property=\"og:type\" content=\"website\">\\n<meta property=\"og:locale\" content=\"ko_KR\">\\n\\n\\n\\n\\n<script src=\"https://teralog.techhub.co.kr/trk?la_tp=pv&amp;la_gc=TR10062602448&amp;la_uid=&amp;la_fid=3a9f0d0023897c1ca1ce170a7d68e682&amp;la_sid=&amp;la_infl=&amp;la_pa1=&amp;la_pa2=&amp;la_dccs=UTF-8&amp;la_r=1949735207&amp;la_crsd_gc=&amp;la_sv=59647be&amp;la_dcrf=&amp;la_dcurl=https%3A%2F%2Fwww.kbchachacha.com%2Fpublic%2Fsearch%2Fmain.kbc%23!%3FcountryOrder%3D1%26page%3D1&amp;la_dcttl=%EC%A4%91%EA%B3%A0%EC%B0%A8%20%EA%B2%80%EC%83%89%ED%95%98%EA%B3%A0%20%EB%B9%84%EA%B5%90%ED%95%98%EA%B8%B0%20-%20%EC%A4%91%EA%B3%A0%EC%B0%A8%20%EB%A7%A4%EB%AC%BC%EB%8C%80%EC%88%98%201%EC%9C%84!%20%EC%A4%91%EA%B3%A0%EC%B0%A8%20%EC%95%88%EC%8B%AC%EA%B1%B0%EB%9E%98%20%ED%94%8C%EB%9E%AB%ED%8F%BC%20Kbelieve%2C%20KB%EC%B0%A8%EC%B0%A8%EC%B0%A8&amp;la_ib=&amp;la_is=&amp;la_callback=_LA.CB\"></script><script src=\"https://teralog.techhub.co.kr/ckie\"></script><script type=\"text/javascript\" async=\"\" src=\"https://www.google-analytics.com/analytics.js\"></script><script type=\"text/javascript\" async=\"\" src=\"https://www.googletagmanager.com/gtag/js?id=G-17EJHQXX8T&amp;l=dataLayer&amp;cx=c\"></script><script async=\"\" defer=\"\" src=\"https://cdn.megadata.co.kr/dist/prod/enp_tracker_self_hosted.min.js\"></script><script src=\"https://sas.nsm-corp.com/sa-w.js?gc=TR10062602448&amp;rd=1654563896940\"></script><script async=\"\" src=\"https://www.googletagmanager.com/gtm.js?id=GTM-N5WLXVD\"></script><script language=\"javascript\">\\n\\tvar IMAGE_HOST = \"https://img.kbchachacha.com\";\\n</script>\\n\\n\\n<link rel=\"stylesheet\" href=\"/vendor/jquery-ui/v1.12.1/jquery-ui.min.css\">\\n<link rel=\"stylesheet\" href=\"/vendor/owlCarousel2/v2.3.4/assets/owl.carousel.min.css\">\\n<link rel=\"stylesheet\" href=\"/vendor/select2/v4.0.2/css/select2.min.css\">\\n<link rel=\"stylesheet\" href=\"/css/style-d172d70179107aa69cb4ebe7d8770b01.css\">\\n<link rel=\"stylesheet\" href=\"/css/common-2428709592b5f580ba2b599e2c3dd4d1.css\">\\n<link rel=\"stylesheet\" href=\"/css/custom-8ab570fc5c7a0d92bd22e74763fc9d91.css\">\\n<link rel=\"stylesheet\" href=\"/vendor/jquery.mCustomScrollbar/v3.1.5/jquery.mCustomScrollbar.min.css\">\\n<link rel=\"stylesheet\" href=\"/vendor/viewer/v1.3.3/viewer.min.css\">\\n\\n<script type=\"text/javascript\" src=\"/vendor/jquery/v1.12.4/jquery-1.12.4.min.js\"></script>\\n<script type=\"text/javascript\" src=\"/vendor/form/v3.5.1/jquery.form.js\"></script>\\n<script type=\"text/javascript\" src=\"/vendor/jquery-ui/v1.12.1/jquery-ui.min.js\"></script>\\n<script type=\"text/javascript\" src=\"/vendor/viewer/v1.3.3/viewer.min.js\"></script>\\n<script type=\"text/javascript\" src=\"/vendor/jquery.mCustomScrollbar/v3.1.5/jquery.mCustomScrollbar.concat.min.js\"></script>\\n<script type=\"text/javascript\" src=\"/vendor/doT/v1.1.1/doT.min.js\"></script>\\n\\n<script type=\"text/javascript\" src=\"/js/utils-06bbcef32d83a34425fb19bc81276719.js\"></script>\\n<script type=\"text/javascript\" src=\"/js/kbcstorage.web-adapter-da17c5889baf1c75b345da835e46153a.js\"></script>\\n<script type=\"text/javascript\" src=\"/js/kbcstorage-9c181f276889ba9e4f13bbd763b1042d.js\"></script>\\n<script type=\"text/javascript\" src=\"/js/common-5f264067eea538641e0594466cb61c83.js\"></script>\\n<script type=\"text/javascript\" src=\"/js/common.code-ac42fceee15bff304ca5c97ef737dc8e.js\"></script>\\n<script type=\"text/javascript\" src=\"/js/common.layer-961aa4f6b0f43597182d63bdaa9e2983.js\"></script>\\n<script type=\"text/javascript\" src=\"/js/common.car-a2a4aacb302b39186f65b0daa861087d.js\"></script>\\n<script type=\"text/javascript\" src=\"/js/common.banner-83187f3e3054878211adb7e10b31cb7a.js\"></script>\\n<script type=\"text/javascript\" src=\"/js/datepicker-ko-eab5373d22a7069ec8c0a157e623bade.js\"></script>\\n<script type=\"text/javascript\" src=\"/vendor/select2/v4.0.2/js/select2.full.min.js\"></script>\\n<script type=\"text/javascript\" src=\"/js/image.path-6bcd22d37341aad25a3203e972fba7de.js\"></script>\\n\\n\\n<script type=\"text/javascript\" src=\"/js/common.top.mydata-583df17664911074f1061054a60b5c99.js\"></script>\\n\\n\\n\\n<script type=\"text/javascript\" src=\"/js/common.chatting-a3f0428afb93301bf4cc07f86dcbb3d1.js\"></script>\\n<script type=\"text/javascript\" src=\"/js/common.validator-3661ec0623796079b9457f510397d43a.js\"></script>\\n<script type=\"text/javascript\" src=\"/js/common.navigator-6e026362dda77dbcbf1c6d59319a853c.js\"></script>\\n\\n\\n\\n<!-- 공통헤더 -->\\n\\n\\n\\n\\n<!-- 네이버 웹마스터 -->\\n<meta name=\"naver-site-verification\" content=\"603ac5e9496ae8060695affae2b8f5477f9c46c6\">\\n\\n<!-- 네이버 웹마스터 마크업-->\\n<script src=\"https://static.uni1id.com/jsf/common/enp_uni_id_adver.js\" type=\"text/javascript\" defer=\"\" async=\"\"></script><script src=\"https://cdn.megadata.co.kr/js/socialLink/social_sns_config_min.js\" type=\"text/javascript\" defer=\"\" async=\"\"></script><script id=\"tg360degree\" src=\"https://wan.kbdmp.com/provider?client_id=WA-1011&amp;isCookie=true&amp;page_location=https%3A%2F%2Fwww.kbchachacha.com%2Fpublic%2Fsearch%2Fmain.kbc%23!%3FcountryOrder%3D1%26page%3D1&amp;page_referrer=&amp;session_id=%7C1654563897987&amp;session_start=1654563897987&amp;language=ko&amp;country=KR&amp;page_title=%EC%A4%91%EA%B3%A0%EC%B0%A8%20%EA%B2%80%EC%83%89%ED%95%98%EA%B3%A0%20%EB%B9%84%EA%B5%90%ED%95%98%EA%B8%B0%20-%20%EC%A4%91%EA%B3%A0%EC%B0%A8%20%EB%A7%A4%EB%AC%BC%EB%8C%80%EC%88%98%201%EC%9C%84!%20%EC%A4%91%EA%B3%A0%EC%B0%A8%20%EC%95%88%EC%8B%AC%EA%B1%B0%EB%9E%98%20%ED%94%8C%EB%9E%AB%ED%8F%BC%20Kbelieve%2C%20KB%EC%B0%A8%EC%B0%A8%EC%B0%A8&amp;screen_resolution=2048X1152&amp;_m_uid=&amp;user_attribute=%7B%7D&amp;event_type=page_view&amp;event_category=&amp;event_label=&amp;search_term=&amp;_oaid=&amp;event_attribute=%7B%7D\"></script></head><body><span itemscope=\"\" itemtype=\"http://schema.org/Organization\">\\n\\t<link itemprop=\"url\" href=\"https://www.kbchachacha.com\">\\n\\t<a itemprop=\"sameAs\" href=\"http://post.naver.com/kbchabest\"></a>\\n\\t<a itemprop=\"sameAs\" href=\"https://www.facebook.com/KBcapital.chachacha/\"></a>\\n\\t<a itemprop=\"sameAs\" href=\"https://www.instagram.com/kb.kbchachacha.official/\"></a>\\n\\t<a itemprop=\"sameAs\" href=\"https://www.youtube.com/channel/UCQbPlGa8gKur5Vtzb1ZcEgQ\"></a>\\n\\t<a itemprop=\"sameAs\" href=\"https://play.google.com/store/apps/details?id=kr.co.kbc.cha.android\"></a>\\n\\t<a itemprop=\"sameAs\" href=\"https://itunes.apple.com/kr/app/kb%EC%B0%A8%EC%B0%A8%EC%B0%A8/id1112366886?l=en&amp;mt=8%E2%80%8B\"></a>\\n</span>\\n<!-- End 네이버 웹마스터 마크업-->\\n\\n\\n<!-- Google Tag Manager -->\\n\\n<script>(function(w,d,s,l,i){w[l]=w[l]||[];w[l].push({\\'gtm.start\\':\\nnew Date().getTime(),event:\\'gtm.js\\'});var f=d.getElementsByTagName(s)[0],\\nj=d.createElement(s),dl=l!=\\'dataLayer\\'?\\'&l=\\'+l:\\'\\';j.async=true;j.src=\\n\\'https://www.googletagmanager.com/gtm.js?id=\\'+i+dl;f.parentNode.insertBefore(j,f);\\n})(window,document,\\'script\\',\\'dataLayer\\',\\'GTM-N5WLXVD\\');</script>\\n\\n<!-- End Google Tag Manager -->\\n\\n<script type=\"text/javascript\" charset=\"UTF-8\" src=\"//t1.daumcdn.net/adfit/static/kp.js\"></script>\\n<script type=\"text/javascript\">\\n      kakaoPixel(\\'13462429156884036\\').pageView();\\n</script>\\n\\n\\n\\n<!--// 공통헤더 -->\\n\\n\\n\\n\\n<!-- 헤더 -->\\n\\n\\n\\n\\n<!-- Google Tag Manager (noscript) -->\\n \\n<noscript><iframe src=\"https://www.googletagmanager.com/ns.html?id=GTM-N5WLXVD\"\\nheight=\"0\" width=\"0\" style=\"display:none;visibility:hidden\"></iframe></noscript>\\n\\n<!-- End Google Tag Manager (noscript) -->\\n\\n<!-- 상단 선언 스크립트 : 모든페이지 공통 상단 필수 -->\\n<!-- PlayD TERA Log Definition Script Start -->\\n<script>\\nwindow[\\'_LA\\']=window[\\'_LA\\']||function(){\\n   (window[\\'_LA\\'].q=window[\\'_LA\\'].q||[]).push(arguments)\\n}\\n</script>\\n<!--// 헤더 -->\\n\\n<div class=\"wrap\" data-my-data=\"true\">\\n\\t<!-- 스킵 메뉴 -->\\n\\t<div class=\"skip-menu\">\\n\\t\\t<a href=\"#content\">본문바로가기</a>\\n\\t</div>\\n\\t<!-- 스킵 메뉴 -->\\n\\t<div class=\"container\">\\n\\t\\t<!-- 공통 Left 메뉴 -->\\n\\t\\t\\n\\n\\n\\n\\n\\n<style type=\"text/css\" scoped=\"scoped\">\\n.common-left-area .gnb > ul > li ul li.on a\\n{\\n    color: #2666c6;\\n}\\n</style>\\n\\n\\t\\t<!-- 공통 Left 메뉴 -->\\n\\t\\t\\n\\n\\t\\t\\t<div class=\"common-left-area\">\\n\\t\\t\\t\\t<div class=\"bg-gnb\"></div>\\n\\t\\t\\t\\t<h1 class=\"logo\"><a href=\"/public/main.kbc\"><span class=\"blind\">KB차차차</span></a></h1>\\n\\t\\t\\t\\t<div class=\"gnb\">\\n\\t\\t\\t\\t\\t<ul>\\n\\t\\t\\t\\t\\t\\t<li class=\"search on\"><a href=\"/public/search/main.kbc\" class=\"cursor-pointer\"><span>검색</span></a>\\n\\t\\t\\t\\t\\t\\t\\t<ul style=\"display: block;\">\\n\\t\\t\\t\\t\\t\\t\\t\\t<li class=\"on\"><a href=\"/public/search/main.kbc\">중고차 검색</a></li>\\n\\t\\t\\t\\t\\t\\t\\t\\t<li><a href=\"/public/search/newcar.kbc\">신차 검색</a></li>\\n\\t\\t\\t\\t\\t\\t\\t</ul></li>\\n\\t\\t\\t\\t\\t\\t<li class=\"buy\"><a href=\"/public/search/main.kbc?_menu=buy\" class=\"cursor-pointer\"><span>살때</span></a>\\n\\t\\t\\t\\t\\t\\t\\t<ul>\\n\\t\\t\\t\\t\\t\\t\\t\\t<li><a href=\"/public/search/main.kbc?_menu=buy\">나와라차차차</a></li>\\n\\t\\t\\t\\t\\t\\t\\t\\t<li><a href=\"/public/saveme/main.kbc\">구해줘차차차</a></li>\\n\\t\\t\\t\\t\\t\\t\\t\\t<!-- <li><a href=\"/public/sendme/main.kbc\">보내줘차차차</a></li> -->\\n\\t\\t\\t\\t\\t\\t\\t</ul>\\n\\t\\t\\t\\t\\t\\t</li>\\n\\t\\t\\t\\t\\t\\t<li class=\"sell\"><a href=\"/public/sellme/submain.kbc\" class=\"cursor-pointer\"><span>팔때</span></a>\\n\\t\\t\\t\\t\\t\\t\\t<ul>\\n\\t\\t\\t\\t\\t\\t\\t\\t<li><a href=\"/public/sellme/submain.kbc\">팔아줘차차차</a></li>\\n\\t\\t\\t\\t\\t\\t\\t\\t<li><a href=\"/public/car/direct/main.kbc\">직거래차차차</a></li>\\n\\t\\t\\t\\t\\t\\t\\t\\t<li><a href=\"/public/changeme/main.kbc\">바꿔줘차차차</a></li>\\n\\t\\t\\t\\t\\t\\t\\t</ul>\\n\\t\\t\\t\\t\\t\\t</li>\\n\\t\\t\\t\\t\\t\\t<li class=\"price\"><a class=\"cursor-pointer\" href=\"/public/market/main.kbc\"><span>시세</span></a></li>\\n\\t\\t\\t\\t\\t\\t<li class=\"benefit\"><a href=\"/public/event/basicMaster.kbc\" class=\"cursor-pointer\"><span>혜택</span></a>\\n\\t\\t\\t\\t\\t\\t\\t<ul>\\n\\t\\t\\t\\t\\t\\t\\t\\t<li><a href=\"/public/event/basicMaster.kbc\">이벤트</a></li>\\n\\t\\t\\t\\t\\t\\t\\t\\t<li><a href=\"/public/mypage/membership/list.kbc\">차차차멤버십</a></li>\\n\\t\\t\\t\\t\\t\\t\\t\\t<li><a onclick=\"nomalMemberCheck(\\'/secured/mypage/membership/coupon/list.kbc\\');\">쿠폰함</a></li>\\n\\t\\t\\t\\t\\t\\t\\t\\t<li><a onclick=\"nomalMemberCheck(\\'/secured/mypage/coin/list.kbc\\');\">KB코인</a></li>\\n\\t\\t\\t\\t\\t\\t\\t\\t\\n\\t\\t\\t\\t\\t\\t\\t\\t\\n\\t\\t\\t\\t\\t\\t\\t\\t\\n\\t\\t\\t\\t\\t\\t\\t\\t<li><a href=\"/public/common/pongift.kbc\" target=\"_blank\">자동차용품</a></li>\\n\\t\\t\\t\\t\\t\\t\\t</ul>\\n\\t\\t\\t\\t\\t\\t</li>\\n\\t\\t\\t\\t\\t\\t<li class=\"guide\"><a href=\"/public/notice/list.kbc\" class=\"cursor-pointer\"><span>안내</span></a>\\n\\t\\t\\t\\t\\t\\t\\t<ul>\\n\\t\\t\\t\\t\\t\\t\\t\\t<li><a href=\"/public/notice/list.kbc\">새소식</a></li>\\n\\t\\t\\t\\t\\t\\t\\t\\t<li><a href=\"/public/faq/list.kbc\">자주하는질문</a></li>\\n\\t\\t\\t\\t\\t\\t\\t\\t\\n\\t\\t\\t\\t\\t\\t\\t\\t\\n\\t\\t\\t\\t\\t\\t\\t\\t\\t<li><a href=\"/public/login.kbc?redirectUrl=/secured/qna/list.kbc\">문의하기</a></li>\\n\\t\\t\\t\\t\\t\\t\\t\\t\\n\\t\\t\\t\\t\\t\\t\\t\\t\\n\\t\\t\\t\\t\\t\\t\\t\\t\\n\\t\\t\\t\\t\\t\\t\\t\\t\\n\\t\\t\\t\\t\\t\\t\\t\\t\\t<li><a href=\"/public/login.kbc?redirectUrl=/secured/suggest/list.kbc\">제안하기</a></li>\\n\\t\\t\\t\\t\\t\\t\\t\\t\\n\\t\\t\\t\\t\\t\\t\\t\\t\\n\\t\\t\\t\\t\\t\\t\\t\\t\\n\\n\\t\\t\\t\\t\\t\\t\\t\\t<li><a href=\"/public/guide/serviceGuideMain.kbc\">서비스가이드</a></li>\\n\\t\\t\\t\\t\\t\\t\\t\\t<li><a href=\"/public/alliance/list.kbc\">제휴서비스</a></li>\\n\\t\\t\\t\\t\\t\\t\\t</ul>\\n\\t\\t\\t\\t\\t\\t</li>\\n\\t\\t\\t\\t\\t</ul>\\n\\t\\t\\t\\t</div>\\n\\t\\t\\t\\t<div class=\"ds-scroll\">\\n\\t\\t\\t\\t\\t<div class=\"mycar-going\">\\n\\t\\t\\t\\t\\t\\t<ul>\\n\\t\\t\\t\\t\\t\\t\\n\\t\\t\\t\\t\\t\\t\\t\\n\\t\\t\\t\\t\\t\\t\\t\\t<li><a href=\"/public/login.kbc?redirectUrl=/secured/member/mycar.kbc\"><span>내차고</span></a></li>\\n\\t\\t\\t\\t\\t\\t\\t\\n\\t\\t\\t\\t\\t\\t\\t\\n\\n\\t\\t\\t\\t\\t\\t\\t\\n\\t\\t\\t\\t\\t\\t\\t\\t<li><a href=\"/public/mypage/membership/list.kbc\"><span>차차차멤버십</span></a></li>\\n\\t\\t\\t\\t\\t\\t\\t\\n\\t\\t\\t\\t\\t\\t\\t\\n\\t\\t\\t\\t\\t\\t\\t\\n\\t\\t\\t\\t\\t\\t\\t\\n\\t\\t\\t\\t\\t\\t</ul>\\n\\t\\t\\t\\t\\t</div>\\n\\t\\t\\t\\t\\t<!-- 일반회원 배너 -->\\n\\t\\t\\t\\t\\t<div class=\"promotion\" style=\"margin-top:70px;\" id=\"divCommonLeftBanner1\"><a data-index=\"0\"><img src=\"https://img.kbchachacha.com/IMG/banner/1263/10520504806784206.png\" onerror=\"this.style.display=\\'none\\';\" style=\"width:116px; height:149px;\"></a></div>\\n\\t\\t\\t\\t\\t<!-- //일반회원 배너 -->\\n\\t\\t\\t\\t\\t\\n\\t\\t\\t\\t</div>\\n\\t\\t\\t</div>\\n\\t\\t\\n\\t\\t\\n\\t\\t\\n\\n\\t\\t\\n\\t\\t\\n\\t\\t\\n\\n\\t\\t<!-- //공통 Left 메뉴 -->\\n\\t\\t\\n\\t\\t\\n<script language=\"javascript\">\\n$(document).ready(function(){\\n\\t\\n\\tvar role = \"\";\\n\\t\\n\\t(function() {\\n\\t\\t\\n\\t\\t// 일반 로그인, 비로그인\\n\\t\\t\\n\\t\\t\\trole = \"member\";\\n\\t\\t\\tif (location.pathname == \\'/public/main.kbc\\') {\\n\\t\\t\\t\\t// ignore\\n\\t\\t\\t} else if (location.pathname == \\'/public/search/newcar.kbc\\') {\\n\\t\\t\\t\\t$(\\'.common-left-area>.gnb>ul>li.search\\').addClass(\\'on\\').children(\\'ul\\').show().children().eq(1).addClass(\\'on\\');\\n\\t\\t\\t} else if (/^(\\\\/public\\\\/search\\\\/|\\\\/public\\\\/car\\\\/detail\\\\.).+$/.test(location.pathname)) {\\n\\t\\t\\t\\tif (location.hash.indexOf(\\'_menu=buy\\') > -1) {\\n\\t\\t\\t\\t\\t$(\\'.common-left-area>.gnb>ul>li.buy\\').addClass(\\'on\\').children(\\'ul\\').show().children().eq(0).addClass(\\'on\\');\\n\\t\\t\\t\\t} else {\\n\\t\\t\\t\\t\\t$(\\'.common-left-area>.gnb>ul>li.search\\').addClass(\\'on\\').children(\\'ul\\').show().children().eq(0).addClass(\\'on\\');\\n\\t\\t\\t\\t}\\n\\t\\t\\t} else if (/^(\\\\/public\\\\/saveme\\\\/|\\\\/secured\\\\/saveme\\\\/).+$/.test(location.pathname)) {\\n\\t\\t\\t\\t$(\\'.common-left-area>.gnb>ul>li.buy\\').addClass(\\'on\\').children(\\'ul\\').show().children().eq(1).addClass(\\'on\\');\\n\\t\\t\\t} else if (/^(\\\\/public\\\\/sendme\\\\/|\\\\/secured\\\\/sendme\\\\/).+$/.test(location.pathname)) {\\n\\t\\t\\t\\t$(\\'.common-left-area>.gnb>ul>li.buy\\').addClass(\\'on\\').children(\\'ul\\').show().children().eq(2).addClass(\\'on\\');\\n\\t\\t\\t} else if (/^(\\\\/public\\\\/sellme\\\\/|\\\\/secured\\\\/sellme\\\\/).+$/.test(location.pathname)) {\\n\\t\\t\\t\\t$(\\'.common-left-area>.gnb>ul>li.sell\\').addClass(\\'on\\').children(\\'ul\\').show().children().eq(0).addClass(\\'on\\');\\n\\t\\t\\t} else if (/^(\\\\/public\\\\/car\\\\/direct\\\\/|\\\\/secured\\\\/car\\\\/direct\\\\/).+$/.test(location.pathname)) {\\n\\t\\t\\t\\t$(\\'.common-left-area>.gnb>ul>li.sell\\').addClass(\\'on\\').children(\\'ul\\').show().children().eq(1).addClass(\\'on\\');\\n\\t\\t\\t} else if (/^(\\\\/public\\\\/changeme\\\\/|\\\\/secured\\\\/changeme\\\\/).+$/.test(location.pathname)) {\\n\\t\\t\\t\\t$(\\'.common-left-area>.gnb>ul>li.sell\\').addClass(\\'on\\').children(\\'ul\\').show().children().eq(2).addClass(\\'on\\');\\n\\t\\t\\t} else if (/^(\\\\/public\\\\/market\\\\/|\\\\/secured\\\\/changeme\\\\/).+$/.test(location.pathname)) {\\n\\t\\t\\t\\t$(\\'.common-left-area>.gnb>ul>li.price\\').addClass(\\'on\\');\\n\\t\\t\\t} else if (/^(\\\\/public\\\\/event\\\\/|\\\\/secured\\\\/event\\\\/).+$/.test(location.pathname)) {\\n\\t\\t\\t\\t$(\\'.common-left-area>.gnb>ul>li.benefit\\').addClass(\\'on\\').children(\\'ul\\').show().children().eq(0).addClass(\\'on\\');\\n\\t\\t\\t} else if (/^(\\\\/public\\\\/mypage\\\\/membership\\\\/).+$/.test(location.pathname)) {\\n\\t\\t\\t\\t$(\\'.common-left-area>.gnb>ul>li.benefit\\').addClass(\\'on\\').children(\\'ul\\').show().children().eq(1).addClass(\\'on\\');\\n\\t\\t\\t} else if (/^(\\\\/secured\\\\/mypage\\\\/membership\\\\/coupon\\\\/).+$/.test(location.pathname)) {\\n\\t\\t\\t\\t$(\\'.common-left-area>.gnb>ul>li.benefit\\').addClass(\\'on\\').children(\\'ul\\').show().children().eq(2).addClass(\\'on\\');\\n\\t\\t\\t}  else if (/^(\\\\/secured\\\\/mypage\\\\/coin\\\\/).+$/.test(location.pathname)) {\\n\\t\\t\\t\\t$(\\'.common-left-area>.gnb>ul>li.benefit\\').addClass(\\'on\\').children(\\'ul\\').show().children().eq(3).addClass(\\'on\\');\\n\\t\\t\\t} else if (/^(\\\\/secured\\\\/config\\\\/invite\\\\/).+$/.test(location.pathname)) {\\n\\t\\t\\t\\t$(\\'.common-left-area>.gnb>ul>li.benefit\\').addClass(\\'on\\').children(\\'ul\\').show().children().eq(4).addClass(\\'on\\');\\n\\t\\t\\t} else if (/^(\\\\/public\\\\/common\\\\/pongift\\\\/).+$/.test(location.pathname)) {\\n\\t\\t\\t\\t$(\\'.common-left-area>.gnb>ul>li.benefit\\').addClass(\\'on\\').children(\\'ul\\').show().children().eq(5).addClass(\\'on\\');\\n\\t\\t\\t} else if (/^(\\\\/public\\\\/notice\\\\/|\\\\/secured\\\\/notice\\\\/).+$/.test(location.pathname)) {\\n\\t\\t\\t\\t$(\\'.common-left-area>.gnb>ul>li.guide\\').addClass(\\'on\\').children(\\'ul\\').show().children().eq(0).addClass(\\'on\\');\\n\\t\\t\\t} else if (/^(\\\\/public\\\\/faq\\\\/|\\\\/secured\\\\/faq\\\\/).+$/.test(location.pathname)) {\\n\\t\\t\\t\\t$(\\'.common-left-area>.gnb>ul>li.guide\\').addClass(\\'on\\').children(\\'ul\\').show().children().eq(1).addClass(\\'on\\');\\n\\t\\t\\t} else if (/^(\\\\/public\\\\/qna\\\\/|\\\\/secured\\\\/qna\\\\/).+$/.test(location.pathname)) {\\n\\t\\t\\t\\t$(\\'.common-left-area>.gnb>ul>li.guide\\').addClass(\\'on\\').children(\\'ul\\').show().children().eq(2).addClass(\\'on\\');\\n\\t\\t\\t} else if (/^(\\\\/public\\\\/suggest\\\\/|\\\\/secured\\\\/suggest\\\\/).+$/.test(location.pathname)) {\\n\\t\\t\\t\\t$(\\'.common-left-area>.gnb>ul>li.guide\\').addClass(\\'on\\').children(\\'ul\\').show().children().eq(3).addClass(\\'on\\');\\n\\t\\t\\t} else if (/^(\\\\/public\\\\/guide\\\\/|\\\\/secured\\\\/guide\\\\/).+$/.test(location.pathname)) {\\n\\t\\t\\t\\t$(\\'.common-left-area>.gnb>ul>li.guide\\').addClass(\\'on\\').children(\\'ul\\').show().children().eq(4).addClass(\\'on\\');\\n\\t\\t\\t} else if (/^(\\\\/public\\\\/alliance\\\\/|\\\\/secured\\\\/alliance\\\\/|\\\\/secured\\\\/wherego\\\\/).+$/.test(location.pathname)) {\\n\\t\\t\\t\\t$(\\'.common-left-area>.gnb>ul>li.guide\\').addClass(\\'on\\').children(\\'ul\\').show().children().eq(5).addClass(\\'on\\');\\n\\t\\t\\t}\\n\\t\\t\\n\\t\\t\\n\\t\\t// 딜러 로그인\\n\\t\\t\\n\\t})();\\n\\n\\t\\n\\tif(role == \"member\"){\\n\\t\\tsetBanner(\"230100\",\"#divCommonLeftBanner1\");\\t\\n\\t}else {/* role == dealer */\\n\\t\\tsetBanner(\"230130\",\"#divCommonLeftBanner2\");\\n\\t}\\n\\t\\n\\tfunction setBanner(bannerCode, bannerLocation){\\n\\t\\t$_BANNER.getList({\\n\\t\\t\\tbannerLocationCode:bannerCode,\\n\\t\\t\\tendNum:1,\\n\\t\\t\\tonLoad: function(data){\\n\\t\\t\\t\\tvar list = data.list;\\n\\t\\t\\t\\tvar strBanner = [];\\n\\n\\t\\t\\t\\t$(list).each(function(key,val){\\n\\t\\t\\t\\t\\tstrBanner.push(\"<a data-index=\\'\"+key+\"\\'><img src=\\'https://img.kbchachacha.com/IMG/banner/\"+val.bannerMasterSeq+\"/\"+val.bannerImgPc+\"\\' onerror=\\\\\"this.style.display=\\'none\\';\\\\\" style=\\'width:116px; height:149px;\\'></a>\");\\n\\t\\t\\t\\t});\\n\\n\\t\\t\\t\\t$(bannerLocation).html(strBanner.join(\"\\\\r\\\\n\"));\\n\\t\\t\\t\\t\\n\\t\\t\\t\\t$(bannerLocation).children(\"a\").on(\"click\", function(){\\n\\t\\t\\t\\t\\tvar index = $(this).attr(\"data-index\");\\n\\t\\t\\t\\t\\tvar data = list[index];\\n\\t\\t\\t\\t\\t\\n\\t\\t\\t\\t\\t$_BANNER.view(data);\\n\\t\\t\\t\\t});\\n\\t\\t\\t}\\n\\t\\t});\\t\\t\\n\\t}\\n\\t\\n\\t/*$(\"div.common-left-area\").find(\\'.gnb > ul > li\\').on(\\'click\\',function(){\\n\\t\\tif(!$(this).hasClass(\\'price\\')) {\\n\\t\\t\\tif($(this).hasClass(\\'on\\')){\\n\\t\\t\\t\\t$(this).removeClass(\\'on\\');\\n\\t\\t\\t\\t$(\\'.bg-gnb\\').stop().animate({\\n\\t\\t\\t\\t\\tleft: 0\\n\\t\\t\\t\\t});\\n\\t\\t\\t\\t$(\\'.gnb > ul > li ul\\').stop().fadeOut(200);\\n\\t\\t\\t} else {\\n\\t\\t\\t\\t$(this).addClass(\\'on\\').siblings().removeClass(\\'on\\');\\n\\t\\t\\t\\tif(!$(this).hasClass(\\'price\\')) {\\n\\t\\t\\t\\t\\t$(\\'.bg-gnb\\').stop().animate({\\n\\t\\t\\t\\t\\t\\tleft: 160 + \"px\"\\n\\t\\t\\t\\t\\t},400);\\n\\t\\t\\t\\t\\t$(\\'.gnb > ul > li ul\\').stop().fadeOut(200);\\n\\t\\t\\t\\t\\t$(this).find(\\'ul\\').stop().fadeIn(900);\\n\\t\\t\\t\\t}\\n\\t\\t\\t}\\n\\t\\t}\\n\\t\\t\\n\\t\\tif($(this).hasClass(\\'price\\')) {\\n\\t\\t\\t$(this).addClass(\\'on\\').siblings().removeClass(\\'on\\');\\n\\t\\t\\t$(\\'.gnb > ul > li ul\\').stop().fadeOut(200);\\n\\t\\t\\t$(\\'.bg-gnb\\').stop().animate({\\n\\t\\t\\t\\tleft: 0\\n\\t\\t\\t});\\n\\t\\t}\\n\\t\\t\\n\\t});*/\\n\\t\\n\\t\\n\\n\\n});\\nfunction nomalMemberCheck(url){\\n\\t$_VALIDATOR.memberGbnConfirm({\\n\\t\\tnoLogin : function(){\\n\\t\\t\\tvar popup = confirm(\"정회원 로그인 후 이용하실 수 있습니다.\\\\r\\\\n로그인 하시겠습니까?\");\\n\\t\\t\\tif(popup){\\n\\t\\t\\t\\tparent.location.href = \"/public/login.kbc\";\\n\\t\\t\\t}\\n\\t\\t},\\n\\t\\tsocialMember : function(){\\n\\t\\t\\tvar popup = confirm(\"정회원 로그인 후 이용하실 수 있습니다.\\\\r\\\\n로그인 하시겠습니까?\");\\n\\t\\t\\tif(popup){\\n\\t\\t\\t\\tparent.location.href = \"/public/normal/join.kbc\";\\n\\t\\t\\t}\\n\\t\\t},\\n\\t\\tnomalMember : function(){\\n\\t\\t\\tlocation.href = url;\\n\\t\\t}\\n\\t});\\n}\\n\\n</script>\\n\\t\\t<!-- //공통 Left 메뉴 -->\\n\\t\\t\\n\\t\\t<div id=\"content\" class=\"common-content \">\\n\\n\\t\\t\\t<!-- 컨텐츠 영역 -->\\n\\t\\t\\t\\n\\n\\n\\n\\n\\n\\n<style type=\"text/css\" scoped=\"scoped\">\\nli[aria-disabled=\"true\"]\\n{\\n    display: none;\\n}\\n.searchArea__content__info .searchAreaTabContent .searchAreaList .item .checkList--model .checkList__manufacturer__title.active .checkListLink span,\\n.searchArea__content__info .searchAreaTabContent .searchAreaList .item .checkList--model .checkList__model__title.active .checkListLink span\\n{\\n    color: #222;\\n}\\n.searchArea__content__info .searchAreaTabContent .searchAreaList .item .checkList--model .checkList__manufacturer__title.active ~ .checkList__model > strong\\n{\\n\\tdisplay: inline-block;\\n\\tpadding-top: 9px;\\n}\\n.searchArea__content__info .searchAreaTabContent .searchAreaList .item .checkList--model .checkList__model .checkList__model__title \\n{\\n\\tpadding-top: 14px;\\n}\\n.searchArea__content__info .searchAreaTabContent .searchAreaList .item .checkList--model .checkList__model .checkList__model__title.active\\n{\\n\\tpadding-top: 0px;\\n\\tmargin-top: 0px;\\n}\\n.searchArea__content__info .searchAreaTabContent .searchAreaList .item .checkList--model .checkList__model > .checkList__model__title\\n{\\n\\tmargin-top: 5px;\\n}\\n.searchArea__content__info .searchAreaTabContent .searchAreaList .item .checkList--model .checkList__model > .checkList__model__title:nth-child(2)\\n{\\n\\tmargin-top: 0px;\\n}\\n</style>\\n\\n<script type=\"text/javascript\" src=\"/vendor/navigo/v7.1.2/navigo.min.js\"></script>\\n<script type=\"text/javascript\" src=\"/js/views/search/search.util-a5cc489a6edade1388a09cd037cd11a0.js\"></script>\\n\\n<script type=\"text/javascript\">\\n\\tvar router = window.router = new Navigo(null, true, \\'#!\\');\\n\\trouter.hooks({\\n\\t\\tbefore : function(done, params) { $(document).triggerHandler(\\'navigo.before\\', arguments); done(); },\\n\\t\\tafter : function(params) { $(document).triggerHandler(\\'navigo.after\\', arguments); },\\n\\t\\tleave : function(params) { $(document).triggerHandler(\\'navigo.leave\\', arguments); },\\n\\t\\talready : function(params) { $(document).triggerHandler(\\'navigo.already\\', arguments); }\\n\\t});\\n\\n\\t//kbcSearchUtil.setupLoadingIndicator();\\n</script>\\n\\n<!-- 공통 상단 -->\\n<div class=\"common-top-area\">\\n\\t<div class=\"common-container common-container--top top-menu-type01\">\\t<div class=\"top-event-banner\"><a data-index=\"0\"><img src=\"https://img.kbchachacha.com/IMG/banner/300/11112826038050745.png\" onerror=\"this.style.display=\\'none\\';\"></a></div>\\n\\t<div class=\"common-search-bar\">\\n\\t\\t<div class=\"car-search active\">\\n\\t\\t\\t<div>\\n\\t\\t\\t\\t<fieldset>\\n\\t\\t\\t\\t\\t<legend>차량검색</legend>\\n\\t\\t\\t\\t\\t<span class=\"txt\"><strong>163,630 대</strong>의 차량이 있습니다.</span>\\n\\t\\t\\t\\t\\t<input type=\"text\" id=\"ks-input\">\\n\\t\\t\\t\\t\\t<button type=\"button\"><span class=\"blind\">검색</span></button>\\n\\t\\t\\t\\t</fieldset>\\n\\t\\t\\t</div><button type=\"button\" class=\"search-del\" onclick=\"$(this).prev().find(&quot;:text&quot;).val(&quot;&quot;);closeKeywordSearchLayer();\">삭제</button>\\n\\t\\t</div><div id=\"ks-mask\" style=\"position: fixed; top: 0; bottom: 0; left: 0; right: 0; display: none;\"></div><div class=\"common-direct-search\" style=\"display: none;\"></div>\\n\\t</div>\\n\\t<div class=\"login-area\">\\n\\t\\t<a href=\"https://m.kbchachacha.com/mydata/cm/ACMYCM010801M.kbc\" class=\"mydata-certificatioin\" target=\"_blank\"><span class=\"blind\">공동인증서 관리</span></a>\\n\\t\\t<a class=\"myinfo cursor-pointer\"><span class=\"blind\">나의정보</span></a>\\n\\t\\t<div class=\"layer-myinfo\">\\n\\t\\t\\t<ul>\\n\\t\\t\\t\\t<li><a href=\"/public/login.kbc\">로그인</a></li>\\n\\t\\t\\t</ul>\\n\\t\\t\\t<ul class=\"num-list\">\\n\\t\\t\\t\\t<li><a href=\"/public/car/reservation/member/list.kbc\">비회원방문예약</a></li>\\n\\t\\t\\t</ul>\\n\\t\\t</div>\\n\\t\\t<a class=\"latest-car cursor-pointer\"><span class=\"blind\">최근본차</span><span class=\"num\">0</span></a>\\n\\t\\t<div class=\"layer-latest-car\">\\n\\t\\t\\t<div class=\"ds-scroll mCustomScrollbar _mCS_2 mCS_no_scrollbar\"><div id=\"mCSB_2\" class=\"mCustomScrollBox mCS-dark mCSB_vertical mCSB_inside\" tabindex=\"0\" style=\"max-height: 195px;\"><div id=\"mCSB_2_container\" class=\"mCSB_container mCS_y_hidden mCS_no_scrollbar_y\" style=\"position:relative; top:0; left:0;\" dir=\"ltr\">\\n\\t\\t\\t\\t<ul></ul>\\n\\t\\t\\t</div><div id=\"mCSB_2_scrollbar_vertical\" class=\"mCSB_scrollTools mCSB_2_scrollbar mCS-dark mCSB_scrollTools_vertical\" style=\"display: none;\"><div class=\"mCSB_draggerContainer\"><div id=\"mCSB_2_dragger_vertical\" class=\"mCSB_dragger\" style=\"position: absolute; min-height: 30px; top: 0px;\"><div class=\"mCSB_dragger_bar\" style=\"line-height: 30px;\"></div></div><div class=\"mCSB_draggerRail\"></div></div></div></div></div>\\n\\t\\t\\t<div class=\"over-layer\">\\n\\t\\t\\t\\t<div class=\"txt\">\\n\\t\\t\\t\\t\\t<span class=\"car-name\"></span>\\n\\t\\t\\t\\t\\t<strong></strong>\\n\\t\\t\\t\\t</div>\\n\\t\\t\\t\\t<div class=\"img\"><img src=\"/images/common/noimage.jpg\" style=\"width:70px; height:53px;\"></div>\\n\\t\\t\\t</div>\\n\\t\\t</div>\\n\\t</div></div>\\n</div>\\n<!-- //공통 상단 -->\\n\\n<div class=\"common-sub-content fix-content\">\\n\\t<div class=\"common-container\">\\n\\t\\n\\t\\t\\n\\t\\t\\t\\n\\t\\t\\t\\t\\n\\t\\t\\t\\t\\t\\t\\n\\t\\t\\t\\t\\t\\t\\t\\n\\t\\t\\t\\t\\t\\t\\t\\t\\t\\t\\t\\t\\t\\t\\t\\n\\t\\t\\t\\t\\t\\t\\t\\t<div class=\"top-location mg-b60 common-menu-navigator\" data-type=\"type01\" data-name=\"중고차 검색\" style=\"z-index: 4;\"><a class=\"depth\">KB차차차</a>\\n<a class=\"depth\">검색</a>\\n<div class=\"now-box\">\\n\\t<button type=\"button\" class=\"now\">중고차 검색</button>\\n\\t<div class=\"loc-list\">\\n\\t\\t<ul>\\n\\t\\t\\t<li><a href=\"/public/search/main.kbc\">중고차 검색</a></li>\\n\\t\\t\\t<li><a href=\"/public/search/newcar.kbc\">신차 검색</a></li>\\n\\t\\t</ul>\\n\\t</div>\\n</div></div>\\n\\t\\t\\t\\t\\n\\t\\t\\t\\t\\n\\t\\t\\t\\n\\t\\t\\n\\t\\t\\n\\t\\t\\n\\n\\t\\t<div class=\"searchArea\">\\n\\t\\t\\t<!-- 검색메뉴 -->\\n\\t\\t\\t<div class=\"searchArea__content\">\\n\\t\\t\\t\\t<div class=\"searchArea__content__tab\">\\n\\t\\t\\t\\t\\t<ul data-update=\"$(this).children().removeClass(\\'on\\').eq(Number((query.countryOrder||[]).join(\\'\\'))).addClass(\\'on\\');\">\\n\\t\\t\\t\\t\\t\\t<li><a href=\"javascript:app.locateQuery({});\">전체</a></li>\\n\\t\\t\\t\\t\\t\\t<li class=\"on\"><a href=\"javascript:app.locateQuery({countryOrder:[1]});\">국산</a></li>\\n\\t\\t\\t\\t\\t\\t<li><a href=\"javascript:app.locateQuery({countryOrder:[2]});\">수입</a></li>\\n\\t\\t\\t\\t\\t</ul>\\n\\t\\t\\t\\t</div>\\n\\t\\n\\t\\t\\t\\t<!-- 전체 -->\\n\\t\\t\\t\\t<div class=\"searchArea__content__info\">\\n\\t\\t\\t\\t\\t<div class=\"searchAreaTabContent\">\\n\\t\\t\\t\\t\\t\\t<div class=\"initialize\">\\n\\t\\t\\t\\t\\t\\t\\t<button type=\"button\" class=\"button\" onclick=\"app.resetQuery();\">\\n\\t\\t\\t\\t\\t\\t\\t\\t<span>초기화</span>\\n\\t\\t\\t\\t\\t\\t\\t</button>\\n\\t\\t\\t\\t\\t\\t\\t<button type=\"button\" class=\"recentSearch\" onclick=\"app.toggleRecentSearchLayer();\">\\n\\t\\t\\t\\t\\t\\t\\t\\t<span>최근 검색조건</span>\\n\\t\\t\\t\\t\\t\\t\\t</button>\\n\\t\\t\\t\\t\\t\\t\\t<div>\\n\\t\\t\\t\\t\\t\\t\\t\\t<span class=\"__total\">129,879</span>대\\n\\t\\t\\t\\t\\t\\t\\t</div>\\n\\t\\t\\t\\t\\t\\t</div>\\n\\t\\t\\t\\t\\t\\t<!-- 최근검색조건 레이어팝업 -->\\n\\t\\t\\t\\t\\t\\t<div class=\"layerLatestSearch\" id=\"layerLatestSearchLayer\">\\n\\t\\t\\t\\t\\t\\t\\t<h3 class=\"title\">최근 검색조건</h3>\\n\\t\\t\\t\\t\\t\\t\\t<span class=\"smallText\">최근 검색조건 5개까지 자동저장됩니다.</span>\\n\\t\\t\\t\\t\\t\\t\\t<div class=\"layerLatestSearch__info\"></div>\\n\\t\\t\\t\\t\\t\\t\\t<button type=\"button\" class=\"btnClose\" onclick=\"app.toggleRecentSearchLayer();\"><span>닫기</span></button>\\n\\t\\t\\t\\t\\t\\t</div>\\n\\t\\t\\t\\t\\t\\t<!-- //최근검색조건 레이어팝업 -->\\n\\t\\t\\t\\t\\t\\t<div class=\"searchAreaList\">\\n\\t\\t\\t\\t\\t\\t\\t<!-- 차종 -->\\n\\t\\t\\t\\t\\t\\t\\t<div class=\"item\">\\n\\t\\t\\t\\t\\t\\t\\t\\t<h3 class=\"title\">\\n\\t\\t\\t\\t\\t\\t\\t\\t\\t<a href=\"javascript:;\">차종</a>\\n\\t\\t\\t\\t\\t\\t\\t\\t</h3>\\n\\t\\t\\t\\t\\t\\t\\t\\t<div class=\"checkList checkList--carType\">\\n\\t\\t\\t\\t\\t\\t\\t\\t\\t<div class=\"checkList__item\">\\n\\t\\t\\t\\t\\t\\t\\t\\t\\t\\t<span class=\"inp-ch checkButton\"><input type=\"checkbox\" id=\"ck1-1\" data-name=\"useCode\" data-value=\"002001\"><label for=\"ck1-1\"><span>경차</span></label></span>\\n\\t\\t\\t\\t\\t\\t\\t\\t\\t\\t<span class=\"number\">14,684</span>\\n\\t\\t\\t\\t\\t\\t\\t\\t\\t</div>\\n\\t\\t\\t\\t\\t\\t\\t\\t\\t<div class=\"checkList__item\">\\n\\t\\t\\t\\t\\t\\t\\t\\t\\t\\t<span class=\"inp-ch checkButton\"><input type=\"checkbox\" id=\"ck1-2\" data-name=\"useCode\" data-value=\"002002\"><label for=\"ck1-2\"><span>소형</span></label></span>\\n\\t\\t\\t\\t\\t\\t\\t\\t\\t\\t<span class=\"number\">2,801</span>\\n\\t\\t\\t\\t\\t\\t\\t\\t\\t</div>\\n\\t\\t\\t\\t\\t\\t\\t\\t\\t<div class=\"checkList__item\">\\n\\t\\t\\t\\t\\t\\t\\t\\t\\t\\t<span class=\"inp-ch checkButton\"><input type=\"checkbox\" id=\"ck1-3\" data-name=\"useCode\" data-value=\"002003\"><label for=\"ck1-3\"><span>준중형</span></label></span>\\n\\t\\t\\t\\t\\t\\t\\t\\t\\t\\t<span class=\"number\">14,152</span>\\n\\t\\t\\t\\t\\t\\t\\t\\t\\t</div>\\n\\t\\t\\t\\t\\t\\t\\t\\t\\t<div class=\"checkList__item\">\\n\\t\\t\\t\\t\\t\\t\\t\\t\\t\\t<span class=\"inp-ch checkButton\"><input type=\"checkbox\" id=\"ck1-4\" data-name=\"useCode\" data-value=\"002004\"><label for=\"ck1-4\"><span>중형</span></label></span>\\n\\t\\t\\t\\t\\t\\t\\t\\t\\t\\t<span class=\"number\">17,262</span>\\n\\t\\t\\t\\t\\t\\t\\t\\t\\t</div>\\n\\t\\t\\t\\t\\t\\t\\t\\t\\t<div class=\"checkList__item\">\\n\\t\\t\\t\\t\\t\\t\\t\\t\\t\\t<span class=\"inp-ch checkButton\"><input type=\"checkbox\" id=\"ck1-5\" data-name=\"useCode\" data-value=\"002005\"><label for=\"ck1-5\"><span>대형</span></label></span>\\n\\t\\t\\t\\t\\t\\t\\t\\t\\t\\t<span class=\"number\">21,887</span>\\n\\t\\t\\t\\t\\t\\t\\t\\t\\t</div>\\n\\t\\t\\t\\t\\t\\t\\t\\t\\t<div class=\"checkList__item\">\\n\\t\\t\\t\\t\\t\\t\\t\\t\\t\\t<span class=\"inp-ch checkButton\"><input type=\"checkbox\" id=\"ck1-6\" data-name=\"useCode\" data-value=\"002006\"><label for=\"ck1-6\"><span>스포츠카</span></label></span>\\n\\t\\t\\t\\t\\t\\t\\t\\t\\t\\t<span class=\"number\">424</span>\\n\\t\\t\\t\\t\\t\\t\\t\\t\\t</div>\\n\\t\\t\\t\\t\\t\\t\\t\\t\\t<div class=\"checkList__item\">\\n\\t\\t\\t\\t\\t\\t\\t\\t\\t\\t<span class=\"inp-ch checkButton\"><input type=\"checkbox\" id=\"ck1-7\" data-name=\"useCode\" data-value=\"002007\"><label for=\"ck1-7\"><span>RV</span></label></span>\\n\\t\\t\\t\\t\\t\\t\\t\\t\\t\\t<span class=\"number\">6,623</span>\\n\\t\\t\\t\\t\\t\\t\\t\\t\\t</div>\\n\\t\\t\\t\\t\\t\\t\\t\\t\\t<div class=\"checkList__item\">\\n\\t\\t\\t\\t\\t\\t\\t\\t\\t\\t<span class=\"inp-ch checkButton\"><input type=\"checkbox\" id=\"ck1-8\" data-name=\"useCode\" data-value=\"002008\"><label for=\"ck1-8\"><span>SUV</span></label></span>\\n\\t\\t\\t\\t\\t\\t\\t\\t\\t\\t<span class=\"number\">32,357</span>\\n\\t\\t\\t\\t\\t\\t\\t\\t\\t</div>\\n\\t\\t\\t\\t\\t\\t\\t\\t\\t<div class=\"checkList__item\">\\n\\t\\t\\t\\t\\t\\t\\t\\t\\t\\t<span class=\"inp-ch checkButton\"><input type=\"checkbox\" id=\"ck1-9\" data-name=\"useCode\" data-value=\"002009\"><label for=\"ck1-9\"><span>승합</span></label></span>\\n\\t\\t\\t\\t\\t\\t\\t\\t\\t\\t<span class=\"number\">4,252</span>\\n\\t\\t\\t\\t\\t\\t\\t\\t\\t</div>\\n\\t\\t\\t\\t\\t\\t\\t\\t\\t<div class=\"checkList__item\">\\n\\t\\t\\t\\t\\t\\t\\t\\t\\t\\t<span class=\"inp-ch checkButton\"><input type=\"checkbox\" id=\"ck1-10\" data-name=\"useCode\" data-value=\"002010\"><label for=\"ck1-10\"><span>버스</span></label></span>\\n\\t\\t\\t\\t\\t\\t\\t\\t\\t\\t<span class=\"number\">242</span>\\n\\t\\t\\t\\t\\t\\t\\t\\t\\t</div>\\n\\t\\t\\t\\t\\t\\t\\t\\t\\t<div class=\"checkList__item\">\\n\\t\\t\\t\\t\\t\\t\\t\\t\\t\\t<span class=\"inp-ch checkButton\"><input type=\"checkbox\" id=\"ck1-11\" data-name=\"useCode\" data-value=\"002011\"><label for=\"ck1-11\"><span>트럭</span></label></span>\\n\\t\\t\\t\\t\\t\\t\\t\\t\\t\\t<span class=\"number\">15,193</span>\\n\\t\\t\\t\\t\\t\\t\\t\\t\\t</div>\\n\\t\\t\\t\\t\\t\\t\\t\\t\\t<div class=\"checkList__item\">\\n\\t\\t\\t\\t\\t\\t\\t\\t\\t\\t<span class=\"inp-ch checkButton\"><input type=\"checkbox\" id=\"ck1-12\" data-name=\"useCode\" data-value=\"002012\"><label for=\"ck1-12\"><span>특수</span></label></span>\\n\\t\\t\\t\\t\\t\\t\\t\\t\\t\\t<span class=\"number\">1</span>\\n\\t\\t\\t\\t\\t\\t\\t\\t\\t</div>\\n\\t\\t\\t\\t\\t\\t\\t\\t\\t<div class=\"checkList__item\">\\n\\t\\t\\t\\t\\t\\t\\t\\t\\t\\t<span class=\"inp-ch checkButton\"><input type=\"checkbox\" id=\"ck1-13\" data-name=\"useCode\" data-value=\"002013\"><label for=\"ck1-13\"><span>중기</span></label></span>\\n\\t\\t\\t\\t\\t\\t\\t\\t\\t\\t<span class=\"number\">1</span>\\n\\t\\t\\t\\t\\t\\t\\t\\t\\t</div>\\n\\t\\t\\t\\t\\t\\t\\t\\t</div>\\n\\t\\t\\t\\t\\t\\t\\t</div>\\n\\t\\t\\t\\t\\t\\t\\t<!-- //차종 -->\\n\\t\\n\\t\\t\\t\\t\\t\\t\\t<!-- 제조사/모델 -->\\n\\t\\t\\t\\t\\t\\t\\t<div class=\"item item--nonSlide\">\\n\\t\\t\\t\\t\\t\\t\\t\\t<h3 class=\"title\">제조사/모델</h3>\\n\\t\\t\\t\\t\\t\\t\\t\\t<div class=\"checkList checkList--model\" style=\"display: block;\"><div class=\"scrollHeight mCustomScrollbar _mCS_1\" style=\"height: 200px;\"><div id=\"mCSB_1\" class=\"mCustomScrollBox mCS-dark mCSB_vertical mCSB_inside\" style=\"max-height: none;\" tabindex=\"0\"><div id=\"mCSB_1_container\" class=\"mCSB_container\" style=\"position:relative; top:0; left:0;\" dir=\"ltr\"><div class=\"checkList__manufacturer\"><div class=\"checkList__manufacturer__title\"><a href=\"javascript:app.setMakerCode(\\'101\\');\" class=\"checkListLink\"><span>현대</span></a><span class=\"number\">51,502</span></div></div><div class=\"checkList__manufacturer\"><div class=\"checkList__manufacturer__title\"><a href=\"javascript:app.setMakerCode(\\'102\\');\" class=\"checkListLink\"><span>기아</span></a><span class=\"number\">46,188</span></div></div><div class=\"checkList__manufacturer\"><div class=\"checkList__manufacturer__title\"><a href=\"javascript:app.setMakerCode(\\'103\\');\" class=\"checkListLink\"><span>한국GM</span></a><span class=\"number\">11,168</span></div></div><div class=\"checkList__manufacturer\"><div class=\"checkList__manufacturer__title\"><a href=\"javascript:app.setMakerCode(\\'104\\');\" class=\"checkListLink\"><span>쌍용</span></a><span class=\"number\">8,408</span></div></div><div class=\"checkList__manufacturer\"><div class=\"checkList__manufacturer__title\"><a href=\"javascript:app.setMakerCode(\\'105\\');\" class=\"checkListLink\"><span>르노코리아</span></a><span class=\"number\">8,243</span></div></div><div class=\"checkList__manufacturer\"><div class=\"checkList__manufacturer__title\"><a href=\"javascript:app.setMakerCode(\\'189\\');\" class=\"checkListLink\"><span>제네시스</span></a><span class=\"number\">4,360</span></div></div><div class=\"checkList__manufacturer\"><div class=\"checkList__manufacturer__title\"><a href=\"javascript:app.setMakerCode(\\'106\\');\" class=\"checkListLink\"><span>기타</span></a><span class=\"number\">10</span></div></div></div><div id=\"mCSB_1_scrollbar_vertical\" class=\"mCSB_scrollTools mCSB_1_scrollbar mCS-dark mCSB_scrollTools_vertical\" style=\"display: block;\"><div class=\"mCSB_draggerContainer\"><div id=\"mCSB_1_dragger_vertical\" class=\"mCSB_dragger\" style=\"position: absolute; min-height: 30px; display: block;\"><div class=\"mCSB_dragger_bar\"></div></div><div class=\"mCSB_draggerRail\"></div></div></div></div></div></div>\\n\\t\\t\\t\\t\\t\\t\\t</div>\\n\\t\\t\\t\\t\\t\\t\\t<!-- //제조사/모델 -->\\n\\t\\n\\t\\t\\t\\t\\t\\t\\t<!-- 연식 -->\\n\\t\\t\\t\\t\\t\\t\\t<div class=\"item\">\\n\\t\\t\\t\\t\\t\\t\\t\\t<h3 class=\"title\">\\n\\t\\t\\t\\t\\t\\t\\t\\t\\t<a href=\"javascript:;\">연식</a>\\n\\t\\t\\t\\t\\t\\t\\t\\t</h3>\\n\\t\\t\\t\\t\\t\\t\\t\\t<div class=\"searchAreaListSelect searchAreaListSelect--area\">\\n\\t\\t\\t\\t\\t\\t\\t\\t\\t<div class=\"searchAreaListSelect__min-max\">\\n\\t\\t\\t\\t\\t\\t\\t\\t\\t\\t<div class=\"searchAreaListSelect__min\">\\n\\t\\t\\t\\t\\t\\t\\t\\t\\t\\t\\t<select class=\"search-tp01 select2-hidden-accessible\" id=\"regiDay_min\" style=\"width:100%;\" tabindex=\"-1\" aria-hidden=\"true\">\\n\\t\\t\\t\\t\\t\\t\\t\\t\\t\\t\\t\\t<option value=\"\">최소</option>\\n\\t\\t\\t\\t\\t\\t\\t\\t\\t\\t\\t<option value=\"2023\">2023년</option><option value=\"2022\">2022년</option><option value=\"2021\">2021년</option><option value=\"2020\">2020년</option><option value=\"2019\">2019년</option><option value=\"2018\">2018년</option><option value=\"2017\">2017년</option><option value=\"2016\">2016년</option><option value=\"2015\">2015년</option><option value=\"2014\">2014년</option><option value=\"2013\">2013년</option><option value=\"2012\">2012년</option><option value=\"2011\">2011년</option><option value=\"2010\">2010년</option><option value=\"2009\">2009년</option><option value=\"2008\">2008년</option><option value=\"2007\">2007년</option><option value=\"2006\">2006년</option><option value=\"2005\">2005년</option><option value=\"2004\">2004년</option><option value=\"2003\">2003년</option><option value=\"2002\">2002년</option><option value=\"2001\">2001년</option><option value=\"2000\">2000년</option><option value=\"1999\">1999년</option><option value=\"1998\">1998년</option><option value=\"1997\">1997년</option><option value=\"1996\">1996년</option><option value=\"1995\">1995년</option><option value=\"1994\">1994년</option><option value=\"1993\">1993년</option><option value=\"1992\">1992년</option><option value=\"1991\">1991년</option><option value=\"1990\">1990년</option><option value=\"1989\">1989년</option></select><span class=\"select2 select2-container select2-container--default\" dir=\"ltr\" style=\"width: 100%;\"><span class=\"selection\"><span class=\"select2-selection select2-selection--single\" role=\"combobox\" aria-haspopup=\"true\" aria-expanded=\"false\" tabindex=\"0\" aria-labelledby=\"select2-regiDay_min-container\"><span class=\"select2-selection__rendered\" id=\"select2-regiDay_min-container\" title=\"최소\">최소</span><span class=\"select2-selection__arrow\" role=\"presentation\"><b role=\"presentation\"></b></span></span></span><span class=\"dropdown-wrapper\" aria-hidden=\"true\"></span></span>\\n\\t\\t\\t\\t\\t\\t\\t\\t\\t\\t</div>\\n\\t\\t\\t\\t\\t\\t\\t\\t\\t\\t<span class=\"searchAreaListSelect__tilde\">~</span>\\n\\t\\t\\t\\t\\t\\t\\t\\t\\t\\t<div class=\"searchAreaListSelect__max\">\\n\\t\\t\\t\\t\\t\\t\\t\\t\\t\\t\\t<select class=\"search-tp01 select2-hidden-accessible\" id=\"regiDay_max\" style=\"width:100%;\" tabindex=\"-1\" aria-hidden=\"true\">\\n\\t\\t\\t\\t\\t\\t\\t\\t\\t\\t\\t\\t<option value=\"\">최대</option>\\n\\t\\t\\t\\t\\t\\t\\t\\t\\t\\t\\t<option value=\"2023\">2023년</option><option value=\"2022\">2022년</option><option value=\"2021\">2021년</option><option value=\"2020\">2020년</option><option value=\"2019\">2019년</option><option value=\"2018\">2018년</option><option value=\"2017\">2017년</option><option value=\"2016\">2016년</option><option value=\"2015\">2015년</option><option value=\"2014\">2014년</option><option value=\"2013\">2013년</option><option value=\"2012\">2012년</option><option value=\"2011\">2011년</option><option value=\"2010\">2010년</option><option value=\"2009\">2009년</option><option value=\"2008\">2008년</option><option value=\"2007\">2007년</option><option value=\"2006\">2006년</option><option value=\"2005\">2005년</option><option value=\"2004\">2004년</option><option value=\"2003\">2003년</option><option value=\"2002\">2002년</option><option value=\"2001\">2001년</option><option value=\"2000\">2000년</option><option value=\"1999\">1999년</option><option value=\"1998\">1998년</option><option value=\"1997\">1997년</option><option value=\"1996\">1996년</option><option value=\"1995\">1995년</option><option value=\"1994\">1994년</option><option value=\"1993\">1993년</option><option value=\"1992\">1992년</option><option value=\"1991\">1991년</option><option value=\"1990\">1990년</option><option value=\"1989\">1989년</option></select><span class=\"select2 select2-container select2-container--default\" dir=\"ltr\" style=\"width: 100%;\"><span class=\"selection\"><span class=\"select2-selection select2-selection--single\" role=\"combobox\" aria-haspopup=\"true\" aria-expanded=\"false\" tabindex=\"0\" aria-labelledby=\"select2-regiDay_max-container\"><span class=\"select2-selection__rendered\" id=\"select2-regiDay_max-container\" title=\"최대\">최대</span><span class=\"select2-selection__arrow\" role=\"presentation\"><b role=\"presentation\"></b></span></span></span><span class=\"dropdown-wrapper\" aria-hidden=\"true\"></span></span>\\n\\t\\t\\t\\t\\t\\t\\t\\t\\t\\t</div>\\n\\t\\t\\t\\t\\t\\t\\t\\t\\t</div>\\n\\t\\t\\t\\t\\t\\t\\t\\t</div>\\n\\t\\t\\t\\t\\t\\t\\t</div>\\n\\t\\t\\t\\t\\t\\t\\t<!-- //연식 -->\\n\\t\\n\\t\\t\\t\\t\\t\\t\\t<!-- 주행거리 -->\\n\\t\\t\\t\\t\\t\\t\\t<div class=\"item\">\\n\\t\\t\\t\\t\\t\\t\\t\\t<h3 class=\"title\">\\n\\t\\t\\t\\t\\t\\t\\t\\t\\t<a href=\"javascript:;\">주행거리</a>\\n\\t\\t\\t\\t\\t\\t\\t\\t</h3>\\n\\t\\t\\t\\t\\t\\t\\t\\t<div class=\"searchAreaListSelect searchAreaListSelect--area\">\\n\\t\\t\\t\\t\\t\\t\\t\\t\\t<div class=\"searchAreaListSelect__min-max\">\\n\\t\\t\\t\\t\\t\\t\\t\\t\\t\\t<div class=\"searchAreaListSelect__min\">\\n\\t\\t\\t\\t\\t\\t\\t\\t\\t\\t\\t<select class=\"search-tp01 select2-hidden-accessible\" id=\"km_min\" style=\"width:100%\" tabindex=\"-1\" aria-hidden=\"true\">\\n\\t\\t\\t\\t\\t\\t\\t\\t\\t\\t\\t\\t<option value=\"\">최소</option>\\n\\t\\t\\t\\t\\t\\t\\t\\t\\t\\t\\t<option value=\"0\">0km</option><option value=\"10000\">10,000km</option><option value=\"20000\">20,000km</option><option value=\"30000\">30,000km</option><option value=\"40000\">40,000km</option><option value=\"50000\">50,000km</option><option value=\"60000\">60,000km</option><option value=\"70000\">70,000km</option><option value=\"80000\">80,000km</option><option value=\"90000\">90,000km</option><option value=\"100000\">100,000km</option><option value=\"110000\">110,000km</option><option value=\"120000\">120,000km</option><option value=\"130000\">130,000km</option><option value=\"140000\">140,000km</option><option value=\"150000\">150,000km</option><option value=\"160000\">160,000km</option><option value=\"170000\">170,000km</option><option value=\"180000\">180,000km</option><option value=\"190000\">190,000km</option></select><span class=\"select2 select2-container select2-container--default\" dir=\"ltr\" style=\"width: 100%;\"><span class=\"selection\"><span class=\"select2-selection select2-selection--single\" role=\"combobox\" aria-haspopup=\"true\" aria-expanded=\"false\" tabindex=\"0\" aria-labelledby=\"select2-km_min-container\"><span class=\"select2-selection__rendered\" id=\"select2-km_min-container\" title=\"최소\">최소</span><span class=\"select2-selection__arrow\" role=\"presentation\"><b role=\"presentation\"></b></span></span></span><span class=\"dropdown-wrapper\" aria-hidden=\"true\"></span></span>\\n\\t\\t\\t\\t\\t\\t\\t\\t\\t\\t</div>\\n\\t\\t\\t\\t\\t\\t\\t\\t\\t\\t<span class=\"searchAreaListSelect__tilde\">~</span>\\n\\t\\t\\t\\t\\t\\t\\t\\t\\t\\t<div class=\"searchAreaListSelect__max\">\\n\\t\\t\\t\\t\\t\\t\\t\\t\\t\\t\\t<select class=\"search-tp01 select2-hidden-accessible\" id=\"km_max\" style=\"width:100%;\" tabindex=\"-1\" aria-hidden=\"true\">\\n\\t\\t\\t\\t\\t\\t\\t\\t\\t\\t\\t\\t<option value=\"\">최대</option>\\n\\t\\t\\t\\t\\t\\t\\t\\t\\t\\t\\t<option value=\"10000\">10,000km</option><option value=\"20000\">20,000km</option><option value=\"30000\">30,000km</option><option value=\"40000\">40,000km</option><option value=\"50000\">50,000km</option><option value=\"60000\">60,000km</option><option value=\"70000\">70,000km</option><option value=\"80000\">80,000km</option><option value=\"90000\">90,000km</option><option value=\"100000\">100,000km</option><option value=\"110000\">110,000km</option><option value=\"120000\">120,000km</option><option value=\"130000\">130,000km</option><option value=\"140000\">140,000km</option><option value=\"150000\">150,000km</option><option value=\"160000\">160,000km</option><option value=\"170000\">170,000km</option><option value=\"180000\">180,000km</option><option value=\"190000\">190,000km</option><option value=\"200000\">200,000km</option></select><span class=\"select2 select2-container select2-container--default\" dir=\"ltr\" style=\"width: 100%;\"><span class=\"selection\"><span class=\"select2-selection select2-selection--single\" role=\"combobox\" aria-haspopup=\"true\" aria-expanded=\"false\" tabindex=\"0\" aria-labelledby=\"select2-km_max-container\"><span class=\"select2-selection__rendered\" id=\"select2-km_max-container\" title=\"최대\">최대</span><span class=\"select2-selection__arrow\" role=\"presentation\"><b role=\"presentation\"></b></span></span></span><span class=\"dropdown-wrapper\" aria-hidden=\"true\"></span></span>\\n\\t\\t\\t\\t\\t\\t\\t\\t\\t\\t</div>\\n\\t\\t\\t\\t\\t\\t\\t\\t\\t</div>\\n\\t\\t\\t\\t\\t\\t\\t\\t</div>\\n\\t\\t\\t\\t\\t\\t\\t</div>\\n\\t\\t\\t\\t\\t\\t\\t<!-- //주행거리 -->\\n\\t\\n\\t\\t\\t\\t\\t\\t\\t<!-- 가격 -->\\n\\t\\t\\t\\t\\t\\t\\t<div class=\"item\">\\n\\t\\t\\t\\t\\t\\t\\t\\t<h3 class=\"title\">\\n\\t\\t\\t\\t\\t\\t\\t\\t\\t<a href=\"javascript:;\">가격</a>\\n\\t\\t\\t\\t\\t\\t\\t\\t</h3>\\n\\t\\t\\t\\t\\t\\t\\t\\t<div class=\"priceTabWrap\">\\n\\t\\t\\t\\t\\t\\t\\t\\t\\t<div class=\"priceTab\">\\n\\t\\t\\t\\t\\t\\t\\t\\t\\t\\t<ul>\\n\\t\\t\\t\\t\\t\\t\\t\\t\\t\\t\\t<li data-update=\"(function(self) {\\n\\t\\t\\t\\t\\t\\t\\t\\t\\t\\t\\t\\t$(self).toggleClass(\\'on\\', (query.insAmt||[]).length == 0);\\n\\t\\t\\t\\t\\t\\t\\t\\t\\t\\t\\t})(this);\" onclick=\"(function(self) {\\n\\t\\t\\t\\t\\t\\t\\t\\t\\t\\t\\t\\tapp.selfEditQuery(function(query) {\\n\\t\\t\\t\\t\\t\\t\\t\\t\\t\\t\\t\\t\\tdelete query.insAmt;\\n\\t\\t\\t\\t\\t\\t\\t\\t\\t\\t\\t\\t}, $(self).closest(\\'.priceTabWrap\\'));\\n\\t\\t\\t\\t\\t\\t\\t\\t\\t\\t\\t})(this);\" class=\"on\"><a href=\"javascript:;\">가격</a></li>\\n\\t\\t\\t\\t\\t\\t\\t\\t\\t\\t\\t<li data-update=\"(function(self) {\\n\\t\\t\\t\\t\\t\\t\\t\\t\\t\\t\\t\\t$(self).toggleClass(\\'on\\', (query.insAmt||[]).length > 0);\\n\\t\\t\\t\\t\\t\\t\\t\\t\\t\\t\\t})(this);\" onclick=\"(function(self) {\\n\\t\\t\\t\\t\\t\\t\\t\\t\\t\\t\\t\\tapp.selfEditQuery(function(query) {\\n\\t\\t\\t\\t\\t\\t\\t\\t\\t\\t\\t\\t\\tdelete query.sellAmt;\\n\\t\\t\\t\\t\\t\\t\\t\\t\\t\\t\\t\\t\\tquery.insAmt = [null, null];\\n\\t\\t\\t\\t\\t\\t\\t\\t\\t\\t\\t\\t}, $(self).closest(\\'.priceTabWrap\\'));\\n\\t\\t\\t\\t\\t\\t\\t\\t\\t\\t\\t})(this);\"><a href=\"javascript:;\">대출</a></li>\\n\\t\\t\\t\\t\\t\\t\\t\\t\\t\\t</ul>\\n\\t\\t\\t\\t\\t\\t\\t\\t\\t</div>\\n\\t\\t\\t\\t\\t\\t\\t\\t\\t<div>\\n\\t\\t\\t\\t\\t\\t\\t\\t\\t\\t<div class=\"searchAreaListSelect pad-t10\" data-update=\"(function(self) {\\n\\t\\t\\t\\t\\t\\t\\t\\t\\t\\t\\t$(self).toggle((query.insAmt||[]).length == 0);\\n\\t\\t\\t\\t\\t\\t\\t\\t\\t\\t})(this);\" style=\"display: block;\">\\n\\t\\t\\t\\t\\t\\t\\t\\t\\t\\t\\t<div class=\"searchAreaListSelect__min-max\">\\n\\t\\t\\t\\t\\t\\t\\t\\t\\t\\t\\t\\t<div class=\"searchAreaListSelect__min\">\\n\\t\\t\\t\\t\\t\\t\\t\\t\\t\\t\\t\\t\\t<select class=\"search-tp01 select2-hidden-accessible\" id=\"sellAmt_min\" style=\"width: 100%;\" tabindex=\"-1\" aria-hidden=\"true\">\\n\\t\\t\\t\\t\\t\\t\\t\\t\\t\\t\\t\\t\\t\\t<option value=\"\">최소</option>\\n\\t\\t\\t\\t\\t\\t\\t\\t\\t\\t\\t\\t\\t<option value=\"0\">0만원</option><option value=\"100\">100만원</option><option value=\"200\">200만원</option><option value=\"300\">300만원</option><option value=\"400\">400만원</option><option value=\"500\">500만원</option><option value=\"600\">600만원</option><option value=\"700\">700만원</option><option value=\"800\">800만원</option><option value=\"900\">900만원</option><option value=\"1000\">1,000만원</option><option value=\"1100\">1,100만원</option><option value=\"1200\">1,200만원</option><option value=\"1300\">1,300만원</option><option value=\"1400\">1,400만원</option><option value=\"1500\">1,500만원</option><option value=\"2000\">2,000만원</option><option value=\"2500\">2,500만원</option><option value=\"3000\">3,000만원</option><option value=\"3500\">3,500만원</option><option value=\"4000\">4,000만원</option><option value=\"4500\">4,500만원</option><option value=\"5000\">5,000만원</option><option value=\"6000\">6,000만원</option><option value=\"7000\">7,000만원</option><option value=\"8000\">8,000만원</option><option value=\"9000\">9,000만원</option><option value=\"10000\">1억원</option></select><span class=\"select2 select2-container select2-container--default\" dir=\"ltr\" style=\"width: 100%;\"><span class=\"selection\"><span class=\"select2-selection select2-selection--single\" role=\"combobox\" aria-haspopup=\"true\" aria-expanded=\"false\" tabindex=\"0\" aria-labelledby=\"select2-sellAmt_min-container\"><span class=\"select2-selection__rendered\" id=\"select2-sellAmt_min-container\" title=\"최소\">최소</span><span class=\"select2-selection__arrow\" role=\"presentation\"><b role=\"presentation\"></b></span></span></span><span class=\"dropdown-wrapper\" aria-hidden=\"true\"></span></span>\\n\\t\\t\\t\\t\\t\\t\\t\\t\\t\\t\\t\\t</div>\\n\\t\\t\\t\\t\\t\\t\\t\\t\\t\\t\\t\\t<span class=\"searchAreaListSelect__tilde\">~</span>\\n\\t\\t\\t\\t\\t\\t\\t\\t\\t\\t\\t\\t<div class=\"searchAreaListSelect__max\">\\n\\t\\t\\t\\t\\t\\t\\t\\t\\t\\t\\t\\t\\t<select class=\"search-tp01 select2-hidden-accessible\" id=\"sellAmt_max\" style=\"width:100%;\" tabindex=\"-1\" aria-hidden=\"true\">\\n\\t\\t\\t\\t\\t\\t\\t\\t\\t\\t\\t\\t\\t\\t<option value=\"\">최대</option>\\n\\t\\t\\t\\t\\t\\t\\t\\t\\t\\t\\t\\t\\t<option value=\"100\">100만원</option><option value=\"200\">200만원</option><option value=\"300\">300만원</option><option value=\"400\">400만원</option><option value=\"500\">500만원</option><option value=\"600\">600만원</option><option value=\"700\">700만원</option><option value=\"800\">800만원</option><option value=\"900\">900만원</option><option value=\"1000\">1,000만원</option><option value=\"1100\">1,100만원</option><option value=\"1200\">1,200만원</option><option value=\"1300\">1,300만원</option><option value=\"1400\">1,400만원</option><option value=\"1500\">1,500만원</option><option value=\"2000\">2,000만원</option><option value=\"2500\">2,500만원</option><option value=\"3000\">3,000만원</option><option value=\"3500\">3,500만원</option><option value=\"4000\">4,000만원</option><option value=\"4500\">4,500만원</option><option value=\"5000\">5,000만원</option><option value=\"6000\">6,000만원</option><option value=\"7000\">7,000만원</option><option value=\"8000\">8,000만원</option><option value=\"9000\">9,000만원</option><option value=\"10000\">1억원</option><option value=\"99999\">1억원 초과</option></select><span class=\"select2 select2-container select2-container--default\" dir=\"ltr\" style=\"width: 100%;\"><span class=\"selection\"><span class=\"select2-selection select2-selection--single\" role=\"combobox\" aria-haspopup=\"true\" aria-expanded=\"false\" tabindex=\"0\" aria-labelledby=\"select2-sellAmt_max-container\"><span class=\"select2-selection__rendered\" id=\"select2-sellAmt_max-container\" title=\"최대\">최대</span><span class=\"select2-selection__arrow\" role=\"presentation\"><b role=\"presentation\"></b></span></span></span><span class=\"dropdown-wrapper\" aria-hidden=\"true\"></span></span>\\n\\t\\t\\t\\t\\t\\t\\t\\t\\t\\t\\t\\t</div>\\n                                            </div>\\n\\t\\t\\t\\t\\t\\t\\t\\t\\t\\t</div>\\n\\t\\t\\t\\t\\t\\t\\t\\t\\t\\t<div class=\"loanInput\" data-update=\"(function(self) {\\n\\t\\t\\t\\t\\t\\t\\t\\t\\t\\t\\t$(self).toggle((query.insAmt||[]).length > 0);\\n\\t\\t\\t\\t\\t\\t\\t\\t\\t\\t})(this);\" style=\"display: none;\">\\n\\t\\t\\t\\t\\t\\t\\t\\t\\t\\t\\t<div class=\"searchAreaListSelect__min-max\">\\n\\t\\t\\t\\t\\t\\t\\t\\t\\t\\t\\t\\t<div class=\"searchAreaListSelect__min\">\\n\\t\\t\\t\\t\\t\\t\\t\\t\\t\\t\\t\\t\\t<div class=\"inp-t inp-money\">\\n\\t\\t\\t\\t\\t\\t\\t\\t\\t\\t\\t\\t\\t\\t<input type=\"text\" title=\"금액\" id=\"insAmt_min\" maxlength=\"4\" onkeyup=\"this.value = this.value.replace(/\\\\D/g, \\'\\').substring(0, 4);\">\\n\\t\\t\\t\\t\\t\\t\\t\\t\\t\\t\\t\\t\\t\\t<div class=\"t-txt\">만원</div>\\n\\t\\t\\t\\t\\t\\t\\t\\t\\t\\t\\t\\t\\t</div>\\n\\t\\t\\t\\t\\t\\t\\t\\t\\t\\t\\t\\t</div>\\n\\t\\t\\t\\t\\t\\t\\t\\t\\t\\t\\t\\t<span class=\"searchAreaListSelect__tilde\">~</span>\\n\\t\\t\\t\\t\\t\\t\\t\\t\\t\\t\\t\\t<div class=\"searchAreaListSelect__max\">\\n\\t\\t\\t\\t\\t\\t\\t\\t\\t\\t\\t\\t\\t<div class=\"inp-t inp-money\">\\n\\t\\t\\t\\t\\t\\t\\t\\t\\t\\t\\t\\t\\t\\t<input type=\"text\" title=\"금액\" id=\"insAmt_max\" maxlength=\"4\" onkeyup=\"this.value = this.value.replace(/\\\\D/g, \\'\\').substring(0, 4);\">\\n\\t\\t\\t\\t\\t\\t\\t\\t\\t\\t\\t\\t\\t\\t<div class=\"t-txt\">만원</div>\\n\\t\\t\\t\\t\\t\\t\\t\\t\\t\\t\\t\\t\\t</div>\\n\\t\\t\\t\\t\\t\\t\\t\\t\\t\\t\\t\\t</div>\\n\\t\\t\\t\\t\\t\\t\\t\\t\\t\\t\\t</div>\\n\\t\\t\\t\\t\\t\\t\\t\\t\\t\\t\\t<div><p class=\"text mg-t30 mg-b0\">※월 납입금액은 선수금, 신용등급 또는<br>개인신용평점에 따라 차이가 발생할 수 있으니<br>정확한 금액은 상담을 통해 확인해 주세요.</p></div>\\n\\t\\t\\t\\t\\t\\t\\t\\t\\t\\t</div>\\n\\t\\t\\t\\t\\t\\t\\t\\t\\t</div>\\n\\t\\t\\t\\t\\t\\t\\t\\t</div>\\n\\t\\t\\t\\t\\t\\t\\t</div>\\n\\t\\t\\t\\t\\t\\t\\t<!-- //가격 -->\\n\\t\\n\\t\\t\\t\\t\\t\\t\\t<!-- 연료 -->\\n\\t\\t\\t\\t\\t\\t\\t<div class=\"item\">\\n\\t\\t\\t\\t\\t\\t\\t\\t<h3 class=\"title\">\\n\\t\\t\\t\\t\\t\\t\\t\\t\\t<a href=\"javascript:;\">연료</a>\\n\\t\\t\\t\\t\\t\\t\\t\\t</h3>\\n\\t\\t\\t\\t\\t\\t\\t\\t<div class=\"checkList checkList--carType\">\\n\\t\\t\\t\\t\\t\\t\\t\\t\\t<div class=\"checkList__item\">\\n\\t\\t\\t\\t\\t\\t\\t\\t\\t\\t<span class=\"inp-ch checkButton\"><input type=\"checkbox\" id=\"ck3-1\" data-name=\"gas\" data-value=\"004001\"><label for=\"ck3-1\"><span>가솔린</span></label></span>\\n\\t\\t\\t\\t\\t\\t\\t\\t\\t\\t<span class=\"number\">59,864</span>\\n\\t\\t\\t\\t\\t\\t\\t\\t\\t</div>\\n\\t\\t\\t\\t\\t\\t\\t\\t\\t<div class=\"checkList__item\">\\n\\t\\t\\t\\t\\t\\t\\t\\t\\t\\t<span class=\"inp-ch checkButton\"><input type=\"checkbox\" id=\"ck3-2\" data-name=\"gas\" data-value=\"004002\"><label for=\"ck3-2\"><span>디젤</span></label></span>\\n\\t\\t\\t\\t\\t\\t\\t\\t\\t\\t<span class=\"number\">54,858</span>\\n\\t\\t\\t\\t\\t\\t\\t\\t\\t</div>\\n\\t\\t\\t\\t\\t\\t\\t\\t\\t<div class=\"checkList__item\">\\n\\t\\t\\t\\t\\t\\t\\t\\t\\t\\t<span class=\"inp-ch checkButton\"><input type=\"checkbox\" id=\"ck3-3\" data-name=\"gas\" data-value=\"004003\"><label for=\"ck3-3\"><span>LPG</span></label></span>\\n\\t\\t\\t\\t\\t\\t\\t\\t\\t\\t<span class=\"number\">11,717</span>\\n\\t\\t\\t\\t\\t\\t\\t\\t\\t</div>\\n\\t\\t\\t\\t\\t\\t\\t\\t\\t<div class=\"checkList__item\">\\n\\t\\t\\t\\t\\t\\t\\t\\t\\t\\t<span class=\"inp-ch checkButton\"><input type=\"checkbox\" id=\"ck3-4\" data-name=\"gas\" data-value=\"004010\"><label for=\"ck3-4\"><span>가솔린+LPG</span></label></span>\\n\\t\\t\\t\\t\\t\\t\\t\\t\\t\\t<span class=\"number\">13</span>\\n\\t\\t\\t\\t\\t\\t\\t\\t\\t</div>\\n\\t\\t\\t\\t\\t\\t\\t\\t\\t<div class=\"checkList__item\">\\n\\t\\t\\t\\t\\t\\t\\t\\t\\t\\t<span class=\"inp-ch checkButton\"><input type=\"checkbox\" id=\"ck3-5\" data-name=\"gas\" data-value=\"004004\"><label for=\"ck3-5\"><span>하이브리드(LPG)</span></label></span>\\n\\t\\t\\t\\t\\t\\t\\t\\t\\t\\t<span class=\"number\">101</span>\\n\\t\\t\\t\\t\\t\\t\\t\\t\\t</div>\\n\\t\\t\\t\\t\\t\\t\\t\\t\\t<div class=\"checkList__item\">\\n\\t\\t\\t\\t\\t\\t\\t\\t\\t\\t<span class=\"inp-ch checkButton\"><input type=\"checkbox\" id=\"ck3-6\" data-name=\"gas\" data-value=\"004005\"><label for=\"ck3-6\"><span>하이브리드(가솔린)</span></label></span>\\n\\t\\t\\t\\t\\t\\t\\t\\t\\t\\t<span class=\"number\">2,620</span>\\n\\t\\t\\t\\t\\t\\t\\t\\t\\t</div>\\n\\t\\t\\t\\t\\t\\t\\t\\t\\t<div class=\"checkList__item\">\\n\\t\\t\\t\\t\\t\\t\\t\\t\\t\\t<span class=\"inp-ch checkButton disabled\"><input type=\"checkbox\" id=\"ck3-7\" data-name=\"gas\" data-value=\"004011\" disabled=\"\"><label for=\"ck3-7\"><span>하이브리드(디젤)</span></label></span>\\n\\t\\t\\t\\t\\t\\t\\t\\t\\t\\t<span class=\"number\">0</span>\\n\\t\\t\\t\\t\\t\\t\\t\\t\\t</div>\\n\\t\\t\\t\\t\\t\\t\\t\\t\\t<div class=\"checkList__item\">\\n\\t\\t\\t\\t\\t\\t\\t\\t\\t\\t<span class=\"inp-ch checkButton\"><input type=\"checkbox\" id=\"ck3-8\" data-name=\"gas\" data-value=\"004006\"><label for=\"ck3-8\"><span>CNG</span></label></span>\\n\\t\\t\\t\\t\\t\\t\\t\\t\\t\\t<span class=\"number\">14</span>\\n\\t\\t\\t\\t\\t\\t\\t\\t\\t</div>\\n\\t\\t\\t\\t\\t\\t\\t\\t\\t<div class=\"checkList__item\">\\n\\t\\t\\t\\t\\t\\t\\t\\t\\t\\t<span class=\"inp-ch checkButton\"><input type=\"checkbox\" id=\"ck3-9\" data-name=\"gas\" data-value=\"004007\"><label for=\"ck3-9\"><span>전기</span></label></span>\\n\\t\\t\\t\\t\\t\\t\\t\\t\\t\\t<span class=\"number\">608</span>\\n\\t\\t\\t\\t\\t\\t\\t\\t\\t</div>\\n\\t\\t\\t\\t\\t\\t\\t\\t\\t<div class=\"checkList__item\">\\n\\t\\t\\t\\t\\t\\t\\t\\t\\t\\t<span class=\"inp-ch checkButton\"><input type=\"checkbox\" id=\"ck3-10\" data-name=\"gas\" data-value=\"004008\"><label for=\"ck3-10\"><span>기타</span></label></span>\\n\\t\\t\\t\\t\\t\\t\\t\\t\\t\\t<span class=\"number\">26</span>\\n\\t\\t\\t\\t\\t\\t\\t\\t\\t</div>\\n\\t\\t\\t\\t\\t\\t\\t\\t</div>\\n\\t\\t\\t\\t\\t\\t\\t</div>\\n\\t\\t\\t\\t\\t\\t\\t<!-- //연료 -->\\n\\t\\n\\t\\t\\t\\t\\t\\t\\t<!-- 색상 -->\\n\\t\\t\\t\\t\\t\\t\\t<div class=\"item\">\\n\\t\\t\\t\\t\\t\\t\\t\\t<h3 class=\"title\">\\n\\t\\t\\t\\t\\t\\t\\t\\t\\t<a href=\"javascript:;\">색상</a>\\n\\t\\t\\t\\t\\t\\t\\t\\t</h3>\\n\\t\\t\\t\\t\\t\\t\\t\\t<div class=\"checkList checkList--carType\">\\n\\t\\t\\t\\t\\t\\t\\t\\t\\t<div class=\"checkList__item\">\\n\\t\\t\\t\\t\\t\\t\\t\\t\\t\\t<span class=\"inp-ch checkButton\"><input type=\"checkbox\" id=\"ck4-1\" data-name=\"color\" data-value=\"006001\"><label for=\"ck4-1\"><span class=\"color blackColor\">검정색</span></label></span>\\n\\t\\t\\t\\t\\t\\t\\t\\t\\t\\t<span class=\"number\">27,822</span>\\n\\t\\t\\t\\t\\t\\t\\t\\t\\t</div>\\n\\t\\t\\t\\t\\t\\t\\t\\t\\t<div class=\"checkList__item\">\\n\\t\\t\\t\\t\\t\\t\\t\\t\\t\\t<span class=\"inp-ch checkButton\"><input type=\"checkbox\" id=\"ck4-2\" data-name=\"color\" data-value=\"006002\"><label for=\"ck4-2\"><span class=\"color whiteColor\">흰색</span></label></span>\\n\\t\\t\\t\\t\\t\\t\\t\\t\\t\\t<span class=\"number\">43,049</span>\\n\\t\\t\\t\\t\\t\\t\\t\\t\\t</div>\\n\\t\\t\\t\\t\\t\\t\\t\\t\\t<div class=\"checkList__item\">\\n\\t\\t\\t\\t\\t\\t\\t\\t\\t\\t<span class=\"inp-ch checkButton\"><input type=\"checkbox\" id=\"ck4-3\" data-name=\"color\" data-value=\"006003\"><label for=\"ck4-3\"><span class=\"color silverColor\">은색</span></label></span>\\n\\t\\t\\t\\t\\t\\t\\t\\t\\t\\t<span class=\"number\">10,540</span>\\n\\t\\t\\t\\t\\t\\t\\t\\t\\t</div>\\n\\t\\t\\t\\t\\t\\t\\t\\t\\t<div class=\"checkList__item\">\\n\\t\\t\\t\\t\\t\\t\\t\\t\\t\\t<span class=\"inp-ch checkButton\"><input type=\"checkbox\" id=\"ck4-5\" data-name=\"color\" data-value=\"006004\"><label for=\"ck4-5\"><span class=\"color pearlColor\">진주색</span></label></span>\\n\\t\\t\\t\\t\\t\\t\\t\\t\\t\\t<span class=\"number\">6,193</span>\\n\\t\\t\\t\\t\\t\\t\\t\\t\\t</div>\\n\\t\\t\\t\\t\\t\\t\\t\\t\\t<div class=\"checkList__item\">\\n\\t\\t\\t\\t\\t\\t\\t\\t\\t\\t<span class=\"inp-ch checkButton\"><input type=\"checkbox\" id=\"ck4-4\" data-name=\"color\" data-value=\"006005\"><label for=\"ck4-4\"><span class=\"color grayColor\">회색</span></label></span>\\n\\t\\t\\t\\t\\t\\t\\t\\t\\t\\t<span class=\"number\">20,980</span>\\n\\t\\t\\t\\t\\t\\t\\t\\t\\t</div>\\n\\t\\t\\t\\t\\t\\t\\t\\t\\t<div class=\"checkList__item\">\\n\\t\\t\\t\\t\\t\\t\\t\\t\\t\\t<span class=\"inp-ch checkButton\"><input type=\"checkbox\" id=\"ck4-6\" data-name=\"color\" data-value=\"006006\"><label for=\"ck4-6\"><span class=\"color redColor\">빨간색</span></label></span>\\n\\t\\t\\t\\t\\t\\t\\t\\t\\t\\t<span class=\"number\">2,285</span>\\n\\t\\t\\t\\t\\t\\t\\t\\t\\t</div>\\n\\t\\t\\t\\t\\t\\t\\t\\t\\t<div class=\"checkList__item\">\\n\\t\\t\\t\\t\\t\\t\\t\\t\\t\\t<span class=\"inp-ch checkButton\"><input type=\"checkbox\" id=\"ck4-11\" data-name=\"color\" data-value=\"006007\"><label for=\"ck4-11\"><span class=\"color blueColor\">파란색</span></label></span>\\n\\t\\t\\t\\t\\t\\t\\t\\t\\t\\t<span class=\"number\">7,312</span>\\n\\t\\t\\t\\t\\t\\t\\t\\t\\t</div>\\n\\t\\t\\t\\t\\t\\t\\t\\t\\t<div class=\"checkList__item\">\\n\\t\\t\\t\\t\\t\\t\\t\\t\\t\\t<span class=\"inp-ch checkButton\"><input type=\"checkbox\" id=\"ck4-7\" data-name=\"color\" data-value=\"006008\"><label for=\"ck4-7\"><span class=\"color orangeColor\">주황색</span></label></span>\\n\\t\\t\\t\\t\\t\\t\\t\\t\\t\\t<span class=\"number\">116</span>\\n\\t\\t\\t\\t\\t\\t\\t\\t\\t</div>\\n\\t\\t\\t\\t\\t\\t\\t\\t\\t<div class=\"checkList__item\">\\n\\t\\t\\t\\t\\t\\t\\t\\t\\t\\t<span class=\"inp-ch checkButton\"><input type=\"checkbox\" id=\"ck4-9\" data-name=\"color\" data-value=\"006009\"><label for=\"ck4-9\"><span class=\"color brownColor\">갈색</span></label></span>\\n\\t\\t\\t\\t\\t\\t\\t\\t\\t\\t<span class=\"number\">896</span>\\n\\t\\t\\t\\t\\t\\t\\t\\t\\t</div>\\n\\t\\t\\t\\t\\t\\t\\t\\t\\t<div class=\"checkList__item\">\\n\\t\\t\\t\\t\\t\\t\\t\\t\\t\\t<span class=\"inp-ch checkButton\"><input type=\"checkbox\" id=\"ck4-10\" data-name=\"color\" data-value=\"006010\"><label for=\"ck4-10\"><span class=\"color greenColor\">초록색</span></label></span>\\n\\t\\t\\t\\t\\t\\t\\t\\t\\t\\t<span class=\"number\">2,791</span>\\n\\t\\t\\t\\t\\t\\t\\t\\t\\t</div>\\n\\t\\t\\t\\t\\t\\t\\t\\t\\t<div class=\"checkList__item\">\\n\\t\\t\\t\\t\\t\\t\\t\\t\\t\\t<span class=\"inp-ch checkButton\"><input type=\"checkbox\" id=\"ck4-8\" data-name=\"color\" data-value=\"006011\"><label for=\"ck4-8\"><span class=\"color yellowColor\">노란색</span></label></span>\\n\\t\\t\\t\\t\\t\\t\\t\\t\\t\\t<span class=\"number\">1,954</span>\\n\\t\\t\\t\\t\\t\\t\\t\\t\\t</div>\\n\\t\\t\\t\\t\\t\\t\\t\\t\\t<div class=\"checkList__item\">\\n\\t\\t\\t\\t\\t\\t\\t\\t\\t\\t<span class=\"inp-ch checkButton\"><input type=\"checkbox\" id=\"ck4-12\" data-name=\"color\" data-value=\"006012\"><label for=\"ck4-12\"><span class=\"color purpleColor\">보라색</span></label></span>\\n\\t\\t\\t\\t\\t\\t\\t\\t\\t\\t<span class=\"number\">147</span>\\n\\t\\t\\t\\t\\t\\t\\t\\t\\t</div>\\n\\t\\t\\t\\t\\t\\t\\t\\t</div>\\n\\t\\t\\t\\t\\t\\t\\t</div>\\n\\t\\t\\t\\t\\t\\t\\t<!-- //색상 -->\\n\\t\\n\\t\\t\\t\\t\\t\\t\\t<!-- 지역 및 매매단지 -->\\n\\t\\t\\t\\t\\t\\t\\t<div class=\"item\">\\n\\t\\t\\t\\t\\t\\t\\t\\t<h3 class=\"title\">\\n\\t\\t\\t\\t\\t\\t\\t\\t\\t<a href=\"javascript:;\">지역 및 매매단지</a>\\n\\t\\t\\t\\t\\t\\t\\t\\t</h3>\\n\\t\\t\\t\\t\\t\\t\\t\\t<div class=\"checkList checkList--carType\">\\n\\t\\t\\t\\t\\t\\t\\t\\t\\t<div class=\"checkList__item\">\\n\\t\\t\\t\\t\\t\\t\\t\\t\\t\\t<span class=\"inp-ch checkButton\"><input type=\"checkbox\" id=\"ck5-1\" data-name=\"cityCode\" data-value=\"021009\"><label for=\"ck5-1\"><span>서울</span></label></span>\\n\\t\\t\\t\\t\\t\\t\\t\\t\\t\\t<span class=\"number\">7,248</span>\\n\\t\\t\\t\\t\\t\\t\\t\\t\\t</div>\\n\\t\\t\\t\\t\\t\\t\\t\\t\\t<div class=\"checkList__item\">\\n\\t\\t\\t\\t\\t\\t\\t\\t\\t\\t<span class=\"inp-ch checkButton\"><input type=\"checkbox\" id=\"ck5-2\" data-name=\"cityCode\" data-value=\"021012\"><label for=\"ck5-2\"><span>인천</span></label></span>\\n\\t\\t\\t\\t\\t\\t\\t\\t\\t\\t<span class=\"number\">11,985</span>\\n\\t\\t\\t\\t\\t\\t\\t\\t\\t</div>\\n\\t\\t\\t\\t\\t\\t\\t\\t\\t<div class=\"checkList__item\">\\n\\t\\t\\t\\t\\t\\t\\t\\t\\t\\t<span class=\"inp-ch checkButton\"><input type=\"checkbox\" id=\"ck5-3\" data-name=\"cityCode\" data-value=\"021007\"><label for=\"ck5-3\"><span>대전</span></label></span>\\n\\t\\t\\t\\t\\t\\t\\t\\t\\t\\t<span class=\"number\">5,187</span>\\n\\t\\t\\t\\t\\t\\t\\t\\t\\t</div>\\n\\t\\t\\t\\t\\t\\t\\t\\t\\t<div class=\"checkList__item\">\\n\\t\\t\\t\\t\\t\\t\\t\\t\\t\\t<span class=\"inp-ch checkButton\"><input type=\"checkbox\" id=\"ck5-4\" data-name=\"cityCode\" data-value=\"021006\"><label for=\"ck5-4\"><span>대구</span></label></span>\\n\\t\\t\\t\\t\\t\\t\\t\\t\\t\\t<span class=\"number\">3,163</span>\\n\\t\\t\\t\\t\\t\\t\\t\\t\\t</div>\\n\\t\\t\\t\\t\\t\\t\\t\\t\\t<div class=\"checkList__item\">\\n\\t\\t\\t\\t\\t\\t\\t\\t\\t\\t<span class=\"inp-ch checkButton\"><input type=\"checkbox\" id=\"ck5-5\" data-name=\"cityCode\" data-value=\"021005\"><label for=\"ck5-5\"><span>광주</span></label></span>\\n\\t\\t\\t\\t\\t\\t\\t\\t\\t\\t<span class=\"number\">9,661</span>\\n\\t\\t\\t\\t\\t\\t\\t\\t\\t</div>\\n\\t\\t\\t\\t\\t\\t\\t\\t\\t<div class=\"checkList__item\">\\n\\t\\t\\t\\t\\t\\t\\t\\t\\t\\t<span class=\"inp-ch checkButton\"><input type=\"checkbox\" id=\"ck5-6\" data-name=\"cityCode\" data-value=\"021008\"><label for=\"ck5-6\"><span>부산</span></label></span>\\n\\t\\t\\t\\t\\t\\t\\t\\t\\t\\t<span class=\"number\">7,014</span>\\n\\t\\t\\t\\t\\t\\t\\t\\t\\t</div>\\n\\t\\t\\t\\t\\t\\t\\t\\t\\t<div class=\"checkList__item\">\\n\\t\\t\\t\\t\\t\\t\\t\\t\\t\\t<span class=\"inp-ch checkButton\"><input type=\"checkbox\" id=\"ck5-7\" data-name=\"cityCode\" data-value=\"021011\"><label for=\"ck5-7\"><span>울산</span></label></span>\\n\\t\\t\\t\\t\\t\\t\\t\\t\\t\\t<span class=\"number\">2,359</span>\\n\\t\\t\\t\\t\\t\\t\\t\\t\\t</div>\\n\\t\\t\\t\\t\\t\\t\\t\\t\\t<div class=\"checkList__item\">\\n\\t\\t\\t\\t\\t\\t\\t\\t\\t\\t<span class=\"inp-ch checkButton\"><input type=\"checkbox\" id=\"ck5-8\" data-name=\"cityCode\" data-value=\"021010\"><label for=\"ck5-8\"><span>세종</span></label></span>\\n\\t\\t\\t\\t\\t\\t\\t\\t\\t\\t<span class=\"number\">4</span>\\n\\t\\t\\t\\t\\t\\t\\t\\t\\t</div>\\n\\t\\t\\t\\t\\t\\t\\t\\t\\t<div class=\"checkList__item\">\\n\\t\\t\\t\\t\\t\\t\\t\\t\\t\\t<span class=\"inp-ch checkButton\"><input type=\"checkbox\" id=\"ck5-9\" data-name=\"cityCode\" data-value=\"021002\"><label for=\"ck5-9\"><span>경기</span></label></span>\\n\\t\\t\\t\\t\\t\\t\\t\\t\\t\\t<span class=\"number\">58,491</span>\\n\\t\\t\\t\\t\\t\\t\\t\\t\\t</div>\\n\\t\\t\\t\\t\\t\\t\\t\\t\\t<div class=\"checkList__item\">\\n\\t\\t\\t\\t\\t\\t\\t\\t\\t\\t<span class=\"inp-ch checkButton\"><input type=\"checkbox\" id=\"ck5-10\" data-name=\"cityCode\" data-value=\"021001\"><label for=\"ck5-10\"><span>강원</span></label></span>\\n\\t\\t\\t\\t\\t\\t\\t\\t\\t\\t<span class=\"number\">1,899</span>\\n\\t\\t\\t\\t\\t\\t\\t\\t\\t</div>\\n\\t\\t\\t\\t\\t\\t\\t\\t\\t<div class=\"checkList__item\">\\n\\t\\t\\t\\t\\t\\t\\t\\t\\t\\t<span class=\"inp-ch checkButton\"><input type=\"checkbox\" id=\"ck5-11\" data-name=\"cityCode\" data-value=\"021003\"><label for=\"ck5-11\"><span>경남</span></label></span>\\n\\t\\t\\t\\t\\t\\t\\t\\t\\t\\t<span class=\"number\">6,452</span>\\n\\t\\t\\t\\t\\t\\t\\t\\t\\t</div>\\n\\t\\t\\t\\t\\t\\t\\t\\t\\t<div class=\"checkList__item\">\\n\\t\\t\\t\\t\\t\\t\\t\\t\\t\\t<span class=\"inp-ch checkButton\"><input type=\"checkbox\" id=\"ck5-12\" data-name=\"cityCode\" data-value=\"021004\"><label for=\"ck5-12\"><span>경북</span></label></span>\\n\\t\\t\\t\\t\\t\\t\\t\\t\\t\\t<span class=\"number\">5,434</span>\\n\\t\\t\\t\\t\\t\\t\\t\\t\\t</div>\\n\\t\\t\\t\\t\\t\\t\\t\\t\\t<div class=\"checkList__item\">\\n\\t\\t\\t\\t\\t\\t\\t\\t\\t\\t<span class=\"inp-ch checkButton\"><input type=\"checkbox\" id=\"ck5-13\" data-name=\"cityCode\" data-value=\"021013\"><label for=\"ck5-13\"><span>전남</span></label></span>\\n\\t\\t\\t\\t\\t\\t\\t\\t\\t\\t<span class=\"number\">2,980</span>\\n\\t\\t\\t\\t\\t\\t\\t\\t\\t</div>\\n\\t\\t\\t\\t\\t\\t\\t\\t\\t<div class=\"checkList__item\">\\n\\t\\t\\t\\t\\t\\t\\t\\t\\t\\t<span class=\"inp-ch checkButton\"><input type=\"checkbox\" id=\"ck5-14\" data-name=\"cityCode\" data-value=\"021014\"><label for=\"ck5-14\"><span>전북</span></label></span>\\n\\t\\t\\t\\t\\t\\t\\t\\t\\t\\t<span class=\"number\">4,031</span>\\n\\t\\t\\t\\t\\t\\t\\t\\t\\t</div>\\n\\t\\t\\t\\t\\t\\t\\t\\t\\t<div class=\"checkList__item\">\\n\\t\\t\\t\\t\\t\\t\\t\\t\\t\\t<span class=\"inp-ch checkButton\"><input type=\"checkbox\" id=\"ck5-15\" data-name=\"cityCode\" data-value=\"021016\"><label for=\"ck5-15\"><span>충남</span></label></span>\\n\\t\\t\\t\\t\\t\\t\\t\\t\\t\\t<span class=\"number\">2,345</span>\\n\\t\\t\\t\\t\\t\\t\\t\\t\\t</div>\\n\\t\\t\\t\\t\\t\\t\\t\\t\\t<div class=\"checkList__item\">\\n\\t\\t\\t\\t\\t\\t\\t\\t\\t\\t<span class=\"inp-ch checkButton\"><input type=\"checkbox\" id=\"ck5-16\" data-name=\"cityCode\" data-value=\"021017\"><label for=\"ck5-16\"><span>충북</span></label></span>\\n\\t\\t\\t\\t\\t\\t\\t\\t\\t\\t<span class=\"number\">1,298</span>\\n\\t\\t\\t\\t\\t\\t\\t\\t\\t</div>\\n\\t\\t\\t\\t\\t\\t\\t\\t\\t<div class=\"checkList__item\">\\n\\t\\t\\t\\t\\t\\t\\t\\t\\t\\t<span class=\"inp-ch checkButton\"><input type=\"checkbox\" id=\"ck5-17\" data-name=\"cityCode\" data-value=\"021015\"><label for=\"ck5-17\"><span>제주</span></label></span>\\n\\t\\t\\t\\t\\t\\t\\t\\t\\t\\t<span class=\"number\">322</span>\\n\\t\\t\\t\\t\\t\\t\\t\\t\\t</div>\\n\\t\\t\\t\\t\\t\\t\\t\\t\\t<div class=\"buttonRight\">\\n\\t\\t\\t\\t\\t\\t\\t\\t\\t\\t<a href=\"javascript:;\" class=\"btnMore\" id=\"cityCodeMoreBtn\"><span>+ 매매단지 더보기</span></a>\\n\\t\\t\\t\\t\\t\\t\\t\\t\\t\\t<!-- 지역 선택 레이어팝업 -->\\n\\t\\t\\t\\t\\t\\t\\t\\t\\t\\t<div class=\"layerMenuArea\">\\n\\t\\t\\t\\t\\t\\t\\t\\t\\t\\t\\t<h4 class=\"title\">지역 선택</h4>\\n\\t\\t\\t\\t\\t\\t\\t\\t\\t\\t\\t<div class=\"areaWrap cmm-details-area\" style=\"display: block;\"></div>\\n\\t\\t\\t\\t\\t\\t\\t\\t\\t\\t\\t<button type=\"button\" class=\"pop-close\"><span>팝업 닫기</span></button>\\n\\t\\t\\t\\t\\t\\t\\t\\t\\t\\t</div>\\n\\t\\t\\t\\t\\t\\t\\t\\t\\t\\t<!-- //지역 선택 레이어팝업 -->\\n\\t\\t\\t\\t\\t\\t\\t\\t\\t</div>\\n\\t\\t\\t\\t\\t\\t\\t\\t</div>\\n\\t\\t\\t\\t\\t\\t\\t</div>\\n\\t\\t\\t\\t\\t\\t\\t<!-- //지역 및 매매단지 -->\\n\\t\\n\\t\\t\\t\\t\\t\\t\\t<!-- 차차차 서비스 -->\\n\\t\\t\\t\\t\\t\\t\\t<div class=\"item\">\\n\\t\\t\\t\\t\\t\\t\\t\\t<h3 class=\"title\">\\n\\t\\t\\t\\t\\t\\t\\t\\t\\t<a href=\"javascript:;\" class=\"on\">차차차 서비스</a>\\n\\t\\t\\t\\t\\t\\t\\t\\t</h3>\\n\\t\\t\\t\\t\\t\\t\\t\\t<a href=\"javascript:;\" class=\"layerPop layerPop--service\" onclick=\"common.popSh(\\'popup0101\\');\">\\n\\t\\t\\t\\t\\t\\t\\t\\t\\t<span>차차차 서비스 레이어팝업</span>\\n\\t\\t\\t\\t\\t\\t\\t\\t</a>\\n\\t\\t\\t\\t\\t\\t\\t\\t<div class=\"checkList checkList--carType\" style=\"display: block;\">\\n\\t\\t\\t\\t\\t\\t\\t\\t\\t<div class=\"checkList__item\">\\n\\t\\t\\t\\t\\t\\t\\t\\t\\t\\t<span class=\"inp-ch checkButton\"><input type=\"checkbox\" id=\"ck6-1\" data-name=\"falsityYn\" data-value=\"\"><label for=\"ck6-1\"><span>헛걸음보상</span></label></span>\\n\\t\\t\\t\\t\\t\\t\\t\\t\\t\\t<span class=\"number\">104,869</span>\\n\\t\\t\\t\\t\\t\\t\\t\\t\\t</div>\\n\\t\\t\\t\\t\\t\\t\\t\\t\\t<!-- <div class=\"checkList__item\">\\n\\t\\t\\t\\t\\t\\t\\t\\t\\t\\t<span class=\"inp-ch checkButton\"><input type=\"checkbox\" id=\"ck6-2\" data-name=\"warrantyYn\" data-value=\"\"><label for=\"ck6-2\"><span>연장보증</span></label></span>\\n\\t\\t\\t\\t\\t\\t\\t\\t\\t\\t<span class=\"number\"></span>\\n\\t\\t\\t\\t\\t\\t\\t\\t\\t</div> -->\\n\\t\\t\\t\\t\\t\\t\\t\\t\\t<!-- <div class=\"checkList__item\">\\n\\t\\t\\t\\t\\t\\t\\t\\t\\t\\t<span class=\"inp-ch checkButton\"><input type=\"checkbox\" id=\"ck6-3\" data-name=\"kbLeaseYn\" data-value=\"\"><label for=\"ck6-3\"><span>KB안심중고리스</span></label></span>\\n\\t\\t\\t\\t\\t\\t\\t\\t\\t\\t<span class=\"number\"></span>\\t\\t\\t\\t\\t\\t\\t\\t\\t\\t\\t\\n\\t\\t\\t\\t\\t\\t\\t\\t\\t</div> -->\\n\\t\\t\\t\\t\\t\\t\\t\\t\\t<!-- 2020-10-05 lhy. 제휴할인 계약만료로 아이콘 미노출 처리. <div class=\"checkList__item\">\\n\\t\\t\\t\\t\\t\\t\\t\\t\\t\\t<span class=\"inp-ch checkButton\"><input type=\"checkbox\" id=\"ck6-4\" data-name=\"friendDealerYn\" data-value=\"\"><label for=\"ck6-4\"><span>제휴할인</span></label></span>\\n\\t\\t\\t\\t\\t\\t\\t\\t\\t\\t<span class=\"number\"></span>\\n\\t\\t\\t\\t\\t\\t\\t\\t\\t</div> -->\\n\\t\\t\\t\\t\\t\\t\\t\\t\\t<!-- <div class=\"checkList__item\">\\n\\t\\t\\t\\t\\t\\t\\t\\t\\t\\t<span class=\"inp-ch checkButton\"><input type=\"checkbox\" id=\"ck6-5\" data-name=\"interestFreeYn\" data-value=\"\"><label for=\"ck6-5\"><span>무이자</span></label></span>\\n\\t\\t\\t\\t\\t\\t\\t\\t\\t\\t<span class=\"number\"></span>\\n\\t\\t\\t\\t\\t\\t\\t\\t\\t</div> -->\\n\\t\\t\\t\\t\\t\\t\\t\\t\\t<!-- <div class=\"checkList__item\">\\n\\t\\t\\t\\t\\t\\t\\t\\t\\t\\t<span class=\"inp-ch checkButton\"><input type=\"checkbox\" id=\"ck6-6\" data-name=\"kbCertifiedDeliveryYn\" data-value=\"\"><label for=\"ck6-6\"><span>보내줘차차차</span></label></span>\\n\\t\\t\\t\\t\\t\\t\\t\\t\\t\\t<span class=\"number\"></span>\\n\\t\\t\\t\\t\\t\\t\\t\\t\\t</div> -->\\n\\t\\t\\t\\t\\t\\t\\t\\t\\t<div class=\"checkList__item\">\\n\\t\\t\\t\\t\\t\\t\\t\\t\\t\\t<span class=\"inp-ch checkButton\"><input type=\"checkbox\" id=\"ck6-7\" data-name=\"changemeYn\" data-value=\"\"><label for=\"ck6-7\"><span>바꿔줘차차차</span></label></span>\\n\\t\\t\\t\\t\\t\\t\\t\\t\\t\\t<span class=\"number\">50,990</span>\\n\\t\\t\\t\\t\\t\\t\\t\\t\\t</div>\\n\\t\\t\\t\\t\\t\\t\\t\\t\\t<div class=\"checkList__item\">\\n\\t\\t\\t\\t\\t\\t\\t\\t\\t\\t<span class=\"inp-ch checkButton\"><input type=\"checkbox\" id=\"ck6-8\" data-name=\"leaseYn\" data-value=\"\"><label for=\"ck6-8\"><span>리스차량</span></label></span>\\n\\t\\t\\t\\t\\t\\t\\t\\t\\t\\t<span class=\"number\">17,176</span>\\n\\t\\t\\t\\t\\t\\t\\t\\t\\t</div>\\n\\t\\t\\t\\t\\t\\t\\t\\t</div>\\n\\t\\t\\t\\t\\t\\t\\t</div>\\n\\t\\t\\t\\t\\t\\t\\t<!-- //차차차 서비스 -->\\n\\t\\n\\t\\t\\t\\t\\t\\t\\t<!-- 판매구분 -->\\n\\t\\t\\t\\t\\t\\t\\t<div class=\"item\">\\n\\t\\t\\t\\t\\t\\t\\t\\t<h3 class=\"title\">\\n\\t\\t\\t\\t\\t\\t\\t\\t\\t<a href=\"javascript:;\">판매구분</a>\\n\\t\\t\\t\\t\\t\\t\\t\\t</h3>\\n\\t\\t\\t\\t\\t\\t\\t\\t<a href=\"javascript:;\" class=\"layerPop layerPop--sale\" onclick=\"common.popSh(\\'popup0102\\');\">\\n\\t\\t\\t\\t\\t\\t\\t\\t\\t<span>판매구분 레이어팝업</span>\\n\\t\\t\\t\\t\\t\\t\\t\\t</a>\\n\\t\\t\\t\\t\\t\\t\\t\\t<div class=\"checkList checkList--carType\">\\n\\t\\t\\t\\t\\t\\t\\t\\t\\t<div class=\"checkList__item\">\\n\\t\\t\\t\\t\\t\\t\\t\\t\\t\\t<span class=\"inp-ch checkButton\"><input type=\"checkbox\" id=\"ck7-1\" data-name=\"ownerYn\" data-value=\"\"><label for=\"ck7-1\"><span>실차주</span></label></span>\\n\\t\\t\\t\\t\\t\\t\\t\\t\\t\\t<span class=\"number\">116,429</span>\\n\\t\\t\\t\\t\\t\\t\\t\\t\\t</div>\\n\\t\\t\\t\\t\\t\\t\\t\\t\\t<div class=\"checkList__item\">\\n\\t\\t\\t\\t\\t\\t\\t\\t\\t\\t<span class=\"inp-ch checkButton\"><input type=\"checkbox\" id=\"ck7-2\" data-name=\"directYn\" data-value=\"\"><label for=\"ck7-2\"><span>직거래(개인)</span></label></span>\\n\\t\\t\\t\\t\\t\\t\\t\\t\\t\\t<span class=\"number\">708</span>\\n\\t\\t\\t\\t\\t\\t\\t\\t\\t</div>\\n\\t\\t\\t\\t\\t\\t\\t\\t\\t<div class=\"checkList__item\">\\n\\t\\t\\t\\t\\t\\t\\t\\t\\t\\t<span class=\"inp-ch checkButton\"><input type=\"checkbox\" id=\"ck7-3\" data-name=\"carMasterSpecialYn\" data-value=\"\"><label for=\"ck7-3\"><span>할인특가</span></label></span>\\n\\t\\t\\t\\t\\t\\t\\t\\t\\t\\t<span class=\"number\">2,266</span>\\n\\t\\t\\t\\t\\t\\t\\t\\t\\t</div>\\n\\t\\t\\t\\t\\t\\t\\t\\t\\t<div class=\"checkList__item\">\\n\\t\\t\\t\\t\\t\\t\\t\\t\\t\\t<span class=\"inp-ch checkButton\"><input type=\"checkbox\" id=\"ck7-4\" data-name=\"sellAmtGbn\" data-value=\"109110\"><label for=\"ck7-4\"><span>리스승계</span></label></span>\\n\\t\\t\\t\\t\\t\\t\\t\\t\\t\\t<span class=\"number\">125</span>\\n\\t\\t\\t\\t\\t\\t\\t\\t\\t</div>\\n\\t\\t\\t\\t\\t\\t\\t\\t\\t<div class=\"checkList__item\">\\n\\t\\t\\t\\t\\t\\t\\t\\t\\t\\t<span class=\"inp-ch checkButton\"><input type=\"checkbox\" id=\"ck7-5\" data-name=\"accidentYn\" data-value=\"\"><label for=\"ck7-5\"><span>무사고차량</span></label></span>\\n\\t\\t\\t\\t\\t\\t\\t\\t\\t\\t<span class=\"number\">29,450</span>\\n\\t\\t\\t\\t\\t\\t\\t\\t\\t</div>\\n\\t\\t\\t\\t\\t\\t\\t\\t\\t<div class=\"checkList__item\">\\n\\t\\t\\t\\t\\t\\t\\t\\t\\t\\t<span class=\"inp-ch checkButton\"><input type=\"checkbox\" id=\"ck7-8\" data-name=\"diagYn\" data-value=\"\"><label for=\"ck7-8\"><span>KB차차차 진단중고차</span></label></span>\\n\\t\\t\\t\\t\\t\\t\\t\\t\\t\\t<span class=\"number\">13,810</span>\\n\\t\\t\\t\\t\\t\\t\\t\\t\\t</div>\\n\\t\\t\\t\\t\\t\\t\\t\\t\\t<div class=\"checkList__item\">\\n\\t\\t\\t\\t\\t\\t\\t\\t\\t\\t<span class=\"inp-ch checkButton\"><input type=\"checkbox\" id=\"ck7-6\" data-name=\"certifiedShopYn\" data-value=\"\"><label for=\"ck7-6\"><span>제조사 인증중고차</span></label></span>\\n\\t\\t\\t\\t\\t\\t\\t\\t\\t\\t<span class=\"number\">3</span>\\n\\t\\t\\t\\t\\t\\t\\t\\t\\t</div>\\n\\t\\t\\t\\t\\t\\t\\t\\t\\t<div class=\"checkList__item\">\\n\\t\\t\\t\\t\\t\\t\\t\\t\\t\\t<span class=\"inp-ch checkButton\"><input type=\"checkbox\" id=\"ck7-7\" data-name=\"kbCertifiedYn\" data-value=\"\"><label for=\"ck7-7\"><span>KB캐피탈 인증중고차</span></label></span>\\n\\t\\t\\t\\t\\t\\t\\t\\t\\t\\t<span class=\"number\">171</span>\\n\\t\\t\\t\\t\\t\\t\\t\\t\\t</div>\\n\\t\\t\\t\\t\\t\\t\\t\\t</div>\\n\\t\\t\\t\\t\\t\\t\\t</div>\\n\\t\\t\\t\\t\\t\\t\\t<!-- //판매구분 -->\\n\\n\\t\\t\\t\\t\\t\\t\\t<!-- 금융상품 -->\\n\\t\\t\\t\\t\\t\\t\\t<div class=\"item\">\\n\\t\\t\\t\\t\\t\\t\\t\\t<h3 class=\"title\">\\n\\t\\t\\t\\t\\t\\t\\t\\t\\t<a href=\"javascript:;\">금융상품</a>\\n\\t\\t\\t\\t\\t\\t\\t\\t</h3>\\n\\t\\t\\t\\t\\t\\t\\t\\t<a href=\"javascript:;\" class=\"layerPop layerPop--sale\" onclick=\"common.popSh(\\'popup0103\\');\">\\n\\t\\t\\t\\t\\t\\t\\t\\t\\t<span>금융상품 레이어팝업</span>\\n\\t\\t\\t\\t\\t\\t\\t\\t</a>\\n\\t\\t\\t\\t\\t\\t\\t\\t<div class=\"checkList checkList--carType\">\\n\\t\\t\\t\\t\\t\\t\\t\\t\\t<div class=\"checkList__item\">\\n\\t\\t\\t\\t\\t\\t\\t\\t\\t\\t<span class=\"inp-ch checkButton\"><input type=\"checkbox\" id=\"ck71-1\" data-name=\"interestFreeYn\" data-value=\"\"><label for=\"ck71-1\"><span>무이자상품</span></label></span>\\n\\t\\t\\t\\t\\t\\t\\t\\t\\t\\t<span class=\"number\">122</span>\\n\\t\\t\\t\\t\\t\\t\\t\\t\\t</div>\\n\\t\\t\\t\\t\\t\\t\\t\\t\\t<div class=\"checkList__item\">\\n\\t\\t\\t\\t\\t\\t\\t\\t\\t\\t<span class=\"inp-ch checkButton\"><input type=\"checkbox\" id=\"ck71-2\" data-name=\"deferredYn\" data-value=\"\"><label for=\"ck71-2\"><span>거치상품</span></label></span>\\n\\t\\t\\t\\t\\t\\t\\t\\t\\t\\t<span class=\"number\">11,514</span>\\n\\t\\t\\t\\t\\t\\t\\t\\t\\t</div>\\n\\t\\t\\t\\t\\t\\t\\t\\t\\t<div class=\"checkList__item\">\\n\\t\\t\\t\\t\\t\\t\\t\\t\\t\\t<span class=\"inp-ch checkButton\"><input type=\"checkbox\" id=\"ck71-3\" data-name=\"kbLeaseYn\" data-value=\"\"><label for=\"ck71-3\"><span>KB안심중고리스</span></label></span>\\n\\t\\t\\t\\t\\t\\t\\t\\t\\t\\t<span class=\"number\">5,345</span>\\n\\t\\t\\t\\t\\t\\t\\t\\t\\t</div>\\n\\t\\t\\t\\t\\t\\t\\t\\t</div>\\n\\t\\t\\t\\t\\t\\t\\t</div>\\n\\t\\t\\t\\t\\t\\t\\t<!-- //금융상품 -->\\n\\t\\n\\t\\t\\t\\t\\t\\t\\t<!-- 변속기 -->\\n\\t\\t\\t\\t\\t\\t\\t<div class=\"item\">\\n\\t\\t\\t\\t\\t\\t\\t\\t<h3 class=\"title\">\\n\\t\\t\\t\\t\\t\\t\\t\\t\\t<a href=\"javascript:;\">변속기</a>\\n\\t\\t\\t\\t\\t\\t\\t\\t</h3>\\n\\t\\t\\t\\t\\t\\t\\t\\t<div class=\"checkList checkList--carType\">\\n\\t\\t\\t\\t\\t\\t\\t\\t\\t<div class=\"checkList__item\">\\n\\t\\t\\t\\t\\t\\t\\t\\t\\t\\t<span class=\"inp-ch checkButton\"><input type=\"checkbox\" id=\"ck8-1\" data-name=\"autoGbn\" data-value=\"005002\"><label for=\"ck8-1\"><span>오토</span></label></span>\\n\\t\\t\\t\\t\\t\\t\\t\\t\\t\\t<span class=\"number\">116,960</span>\\n\\t\\t\\t\\t\\t\\t\\t\\t\\t</div>\\n\\t\\t\\t\\t\\t\\t\\t\\t\\t<div class=\"checkList__item\">\\n\\t\\t\\t\\t\\t\\t\\t\\t\\t\\t<span class=\"inp-ch checkButton\"><input type=\"checkbox\" id=\"ck8-2\" data-name=\"autoGbn\" data-value=\"005001\"><label for=\"ck8-2\"><span>수동</span></label></span>\\n\\t\\t\\t\\t\\t\\t\\t\\t\\t\\t<span class=\"number\">11,258</span>\\n\\t\\t\\t\\t\\t\\t\\t\\t\\t</div>\\n\\t\\t\\t\\t\\t\\t\\t\\t\\t<div class=\"checkList__item\">\\n\\t\\t\\t\\t\\t\\t\\t\\t\\t\\t<span class=\"inp-ch checkButton\"><input type=\"checkbox\" id=\"ck8-3\" data-name=\"autoGbn\" data-value=\"005003\"><label for=\"ck8-3\"><span>세미오토</span></label></span>\\n\\t\\t\\t\\t\\t\\t\\t\\t\\t\\t<span class=\"number\">34</span>\\n\\t\\t\\t\\t\\t\\t\\t\\t\\t</div>\\n\\t\\t\\t\\t\\t\\t\\t\\t\\t<div class=\"checkList__item\">\\n\\t\\t\\t\\t\\t\\t\\t\\t\\t\\t<span class=\"inp-ch checkButton\"><input type=\"checkbox\" id=\"ck8-4\" data-name=\"autoGbn\" data-value=\"005004\"><label for=\"ck8-4\"><span>CVT</span></label></span>\\n\\t\\t\\t\\t\\t\\t\\t\\t\\t\\t<span class=\"number\">1,585</span>\\n\\t\\t\\t\\t\\t\\t\\t\\t\\t</div>\\n\\t\\t\\t\\t\\t\\t\\t\\t\\t<div class=\"checkList__item\">\\n\\t\\t\\t\\t\\t\\t\\t\\t\\t\\t<span class=\"inp-ch checkButton\"><input type=\"checkbox\" id=\"ck8-5\" data-name=\"autoGbn\" data-value=\"005005\"><label for=\"ck8-5\"><span>기타</span></label></span>\\n\\t\\t\\t\\t\\t\\t\\t\\t\\t\\t<span class=\"number\">11</span>\\n\\t\\t\\t\\t\\t\\t\\t\\t\\t</div>\\n\\t\\t\\t\\t\\t\\t\\t\\t</div>\\n\\t\\t\\t\\t\\t\\t\\t</div>\\n\\t\\t\\t\\t\\t\\t\\t<!-- //변속기 -->\\n\\t\\n\\t\\t\\t\\t\\t\\t\\t<!-- 옵션 -->\\n\\t\\t\\t\\t\\t\\t\\t<div class=\"item\">\\n\\t\\t\\t\\t\\t\\t\\t\\t<h3 class=\"title\">\\n\\t\\t\\t\\t\\t\\t\\t\\t\\t<a href=\"javascript:;\">옵션 <span>(추가선택 <em data-update=\"(function(self) {\\n\\t\\t\\t\\t\\t\\t            \\tvar oc = query.optionCodeArray || [];\\n\\t\\t\\t\\t\\t\\t            \\tvar count = 0;\\n\\t\\t\\t\\t\\t\\t            \\tif (oc.length > 0) {\\n\\t\\t\\t\\t\\t\\t            \\t\\tvar pc = {\\'100130\\':1, \\'100160\\':1, \\'100100\\':1, \\'100110\\':1, \\'100150\\':1, \\'100120\\':1, \\'700320\\':1, \\'400190\\':1};\\n\\t\\t\\t\\t\\t\\t            \\t\\tfor (var i in oc) {\\n\\t\\t\\t\\t\\t\\t            \\t\\t\\tif (!(oc[i] in pc)) {\\n\\t\\t\\t\\t\\t\\t            \\t\\t\\t\\tcount++;\\n\\t\\t\\t\\t\\t\\t            \\t\\t\\t}\\n\\t\\t\\t\\t\\t\\t            \\t\\t}\\n\\t\\t\\t\\t\\t\\t            \\t}\\n\\t\\t\\t\\t\\t\\t            \\t$(self).text(count);\\n\\t\\t\\t\\t\\t\\t            })(this);\">0</em>개)</span></a>\\n\\t\\t\\t\\t\\t\\t\\t\\t</h3>\\n\\t\\t\\t\\t\\t\\t\\t\\t<div class=\"checkList checkList--carType\">\\n\\t\\t\\t\\t\\t\\t\\t\\t\\t<div class=\"checkList__item\">\\n\\t\\t\\t\\t\\t\\t\\t\\t\\t\\t<span class=\"inp-ch checkButton\"><input type=\"checkbox\" id=\"ck9-1\" data-name=\"optionCodeArray\" data-value=\"100130\"><label for=\"ck9-1\"><span>썬루프(일반)</span></label></span>\\n\\t\\t\\t\\t\\t\\t\\t\\t\\t\\t<span class=\"number\">13,441</span>\\n\\t\\t\\t\\t\\t\\t\\t\\t\\t</div>\\n\\t\\t\\t\\t\\t\\t\\t\\t\\t<div class=\"checkList__item\">\\n\\t\\t\\t\\t\\t\\t\\t\\t\\t\\t<span class=\"inp-ch checkButton\"><input type=\"checkbox\" id=\"ck9-2\" data-name=\"optionCodeArray\" data-value=\"100160\"><label for=\"ck9-2\"><span>내비게이션(순정)</span></label></span>\\n\\t\\t\\t\\t\\t\\t\\t\\t\\t\\t<span class=\"number\">46,015</span>\\n\\t\\t\\t\\t\\t\\t\\t\\t\\t</div>\\n\\t\\t\\t\\t\\t\\t\\t\\t\\t<div class=\"checkList__item\">\\n\\t\\t\\t\\t\\t\\t\\t\\t\\t\\t<span class=\"inp-ch checkButton\"><input type=\"checkbox\" id=\"ck9-3\" data-name=\"optionCodeArray\" data-value=\"100100\"><label for=\"ck9-3\"><span>열선시트(앞좌석)</span></label></span>\\n\\t\\t\\t\\t\\t\\t\\t\\t\\t\\t<span class=\"number\">82,754</span>\\n\\t\\t\\t\\t\\t\\t\\t\\t\\t</div>\\n\\t\\t\\t\\t\\t\\t\\t\\t\\t<div class=\"checkList__item\">\\n\\t\\t\\t\\t\\t\\t\\t\\t\\t\\t<span class=\"inp-ch checkButton\"><input type=\"checkbox\" id=\"ck9-4\" data-name=\"optionCodeArray\" data-value=\"100110\"><label for=\"ck9-4\"><span>통풍시트(운전석)</span></label></span>\\n\\t\\t\\t\\t\\t\\t\\t\\t\\t\\t<span class=\"number\">15,868</span>\\n\\t\\t\\t\\t\\t\\t\\t\\t\\t</div>\\n\\t\\t\\t\\t\\t\\t\\t\\t\\t<div class=\"checkList__item\">\\n\\t\\t\\t\\t\\t\\t\\t\\t\\t\\t<span class=\"inp-ch checkButton\"><input type=\"checkbox\" id=\"ck9-5\" data-name=\"optionCodeArray\" data-value=\"100150\"><label for=\"ck9-5\"><span>스마트키</span></label></span>\\n\\t\\t\\t\\t\\t\\t\\t\\t\\t\\t<span class=\"number\">53,214</span>\\n\\t\\t\\t\\t\\t\\t\\t\\t\\t</div>\\n\\t\\t\\t\\t\\t\\t\\t\\t\\t<div class=\"checkList__item\">\\n\\t\\t\\t\\t\\t\\t\\t\\t\\t\\t<span class=\"inp-ch checkButton\"><input type=\"checkbox\" id=\"ck9-6\" data-name=\"optionCodeArray\" data-value=\"100120\"><label for=\"ck9-6\"><span>주차감지센서(후방)</span></label></span>\\n\\t\\t\\t\\t\\t\\t\\t\\t\\t\\t<span class=\"number\">55,035</span>\\n\\t\\t\\t\\t\\t\\t\\t\\t\\t</div>\\n\\t\\t\\t\\t\\t\\t\\t\\t\\t<div class=\"checkList__item\">\\n\\t\\t\\t\\t\\t\\t\\t\\t\\t\\t<span class=\"inp-ch checkButton\"><input type=\"checkbox\" id=\"ck9-7\" data-name=\"optionCodeArray\" data-value=\"700320\"><label for=\"ck9-7\"><span>블루투스</span></label></span>\\n\\t\\t\\t\\t\\t\\t\\t\\t\\t\\t<span class=\"number\">61,355</span>\\n\\t\\t\\t\\t\\t\\t\\t\\t\\t</div>\\n\\t\\t\\t\\t\\t\\t\\t\\t\\t<div class=\"checkList__item\">\\n\\t\\t\\t\\t\\t\\t\\t\\t\\t\\t<span class=\"inp-ch checkButton\"><input type=\"checkbox\" id=\"ck9-8\" data-name=\"optionCodeArray\" data-value=\"400190\"><label for=\"ck9-8\"><span>차선이탈경보장치</span></label></span>\\n\\t\\t\\t\\t\\t\\t\\t\\t\\t\\t<span class=\"number\">10,688</span>\\n\\t\\t\\t\\t\\t\\t\\t\\t\\t</div>\\n\\t\\t\\t\\t\\t\\t\\t\\t\\t<div class=\"buttonRight\">\\n\\t\\t\\t\\t\\t\\t\\t\\t\\t\\t<a href=\"javascript:;\" class=\"btnMore\" id=\"option-more-btn\"><span>+ 세부옵션 더보기</span></a>\\n\\t\\t\\t\\t\\t\\t\\t\\t\\t\\t<!-- 옵션 선택 레이어팝업 -->\\n\\t\\t\\t\\t\\t\\t\\t\\t\\t\\t<div class=\"layerMenuArea\" style=\"width: 1010px;\">\\n\\t\\t\\t\\t\\t\\t\\t\\t\\t\\t\\t<h4 class=\"title\">세부옵션 선택</h4>\\n\\t\\t\\t\\t\\t\\t\\t\\t\\t\\t\\t<ul class=\"layerMenuArea__option\"></ul>\\n\\t\\t\\t\\t\\t\\t\\t\\t\\t\\t\\t<button type=\"button\" class=\"pop-close\"><span>팝업 닫기</span></button>\\n\\t\\t\\t\\t\\t\\t\\t\\t\\t\\t</div>\\n\\t\\t\\t\\t\\t\\t\\t\\t\\t\\t<!-- //옵션 선택 레이어팝업 -->\\n\\t\\t\\t\\t\\t\\t\\t\\t\\t</div>\\n\\t\\t\\t\\t\\t\\t\\t\\t</div>\\n\\t\\t\\t\\t\\t\\t\\t</div>\\n\\t\\t\\t\\t\\t\\t\\t<!-- //옵션 -->\\n\\t\\n\\t\\t\\t\\t\\t\\t\\t<!-- 승차정원 -->\\n\\t\\t\\t\\t\\t\\t\\t<div class=\"item item--last\">\\n\\t\\t\\t\\t\\t\\t\\t\\t<h3 class=\"title\">\\n\\t\\t\\t\\t\\t\\t\\t\\t\\t<a href=\"javascript:;\">승차정원</a>\\n\\t\\t\\t\\t\\t\\t\\t\\t</h3>\\n\\t\\t\\t\\t\\t\\t\\t\\t<div class=\"checkList checkList--carType\">\\n\\t\\t\\t\\t\\t\\t\\t\\t\\t<div class=\"checkList__item\">\\n\\t\\t\\t\\t\\t\\t\\t\\t\\t\\t<span class=\"inp-ch checkButton\"><input type=\"checkbox\" id=\"ck10-1\" data-name=\"takeMen\" data-value=\"215100\"><label for=\"ck10-1\"><span>2명 이하</span></label></span>\\n\\t\\t\\t\\t\\t\\t\\t\\t\\t\\t<span class=\"number\">1,686</span>\\n\\t\\t\\t\\t\\t\\t\\t\\t\\t</div>\\n\\t\\t\\t\\t\\t\\t\\t\\t\\t<div class=\"checkList__item\">\\n\\t\\t\\t\\t\\t\\t\\t\\t\\t\\t<span class=\"inp-ch checkButton\"><input type=\"checkbox\" id=\"ck10-2\" data-name=\"takeMen\" data-value=\"215110\"><label for=\"ck10-2\"><span>3명</span></label></span>\\n\\t\\t\\t\\t\\t\\t\\t\\t\\t\\t<span class=\"number\">5,205</span>\\n\\t\\t\\t\\t\\t\\t\\t\\t\\t</div>\\n\\t\\t\\t\\t\\t\\t\\t\\t\\t<div class=\"checkList__item\">\\n\\t\\t\\t\\t\\t\\t\\t\\t\\t\\t<span class=\"inp-ch checkButton\"><input type=\"checkbox\" id=\"ck10-3\" data-name=\"takeMen\" data-value=\"215120\"><label for=\"ck10-3\"><span>4명</span></label></span>\\n\\t\\t\\t\\t\\t\\t\\t\\t\\t\\t<span class=\"number\">769</span>\\n\\t\\t\\t\\t\\t\\t\\t\\t\\t</div>\\n\\t\\t\\t\\t\\t\\t\\t\\t\\t<div class=\"checkList__item\">\\n\\t\\t\\t\\t\\t\\t\\t\\t\\t\\t<span class=\"inp-ch checkButton\"><input type=\"checkbox\" id=\"ck10-4\" data-name=\"takeMen\" data-value=\"215130\"><label for=\"ck10-4\"><span>5명</span></label></span>\\n\\t\\t\\t\\t\\t\\t\\t\\t\\t\\t<span class=\"number\">51,381</span>\\n\\t\\t\\t\\t\\t\\t\\t\\t\\t</div>\\n\\t\\t\\t\\t\\t\\t\\t\\t\\t<div class=\"checkList__item\">\\n\\t\\t\\t\\t\\t\\t\\t\\t\\t\\t<span class=\"inp-ch checkButton\"><input type=\"checkbox\" id=\"ck10-5\" data-name=\"takeMen\" data-value=\"215140\"><label for=\"ck10-5\"><span>6명</span></label></span>\\n\\t\\t\\t\\t\\t\\t\\t\\t\\t\\t<span class=\"number\">1,404</span>\\n\\t\\t\\t\\t\\t\\t\\t\\t\\t</div>\\n\\t\\t\\t\\t\\t\\t\\t\\t\\t<div class=\"checkList__item\">\\n\\t\\t\\t\\t\\t\\t\\t\\t\\t\\t<span class=\"inp-ch checkButton\"><input type=\"checkbox\" id=\"ck10-6\" data-name=\"takeMen\" data-value=\"215150\"><label for=\"ck10-6\"><span>7명</span></label></span>\\n\\t\\t\\t\\t\\t\\t\\t\\t\\t\\t<span class=\"number\">4,187</span>\\n\\t\\t\\t\\t\\t\\t\\t\\t\\t</div>\\n\\t\\t\\t\\t\\t\\t\\t\\t\\t<div class=\"checkList__item\">\\n\\t\\t\\t\\t\\t\\t\\t\\t\\t\\t<span class=\"inp-ch checkButton\"><input type=\"checkbox\" id=\"ck10-7\" data-name=\"takeMen\" data-value=\"215160\"><label for=\"ck10-7\"><span>8명</span></label></span>\\n\\t\\t\\t\\t\\t\\t\\t\\t\\t\\t<span class=\"number\">111</span>\\n\\t\\t\\t\\t\\t\\t\\t\\t\\t</div>\\n\\t\\t\\t\\t\\t\\t\\t\\t\\t<div class=\"checkList__item\">\\n\\t\\t\\t\\t\\t\\t\\t\\t\\t\\t<span class=\"inp-ch checkButton\"><input type=\"checkbox\" id=\"ck10-8\" data-name=\"takeMen\" data-value=\"215170\"><label for=\"ck10-8\"><span>9명</span></label></span>\\n\\t\\t\\t\\t\\t\\t\\t\\t\\t\\t<span class=\"number\">2,014</span>\\n\\t\\t\\t\\t\\t\\t\\t\\t\\t</div>\\n\\t\\t\\t\\t\\t\\t\\t\\t\\t<div class=\"checkList__item\">\\n\\t\\t\\t\\t\\t\\t\\t\\t\\t\\t<span class=\"inp-ch checkButton\"><input type=\"checkbox\" id=\"ck10-9\" data-name=\"takeMen\" data-value=\"215180\"><label for=\"ck10-9\"><span>10명</span></label></span>\\n\\t\\t\\t\\t\\t\\t\\t\\t\\t\\t<span class=\"number\">1</span>\\n\\t\\t\\t\\t\\t\\t\\t\\t\\t</div>\\n\\t\\t\\t\\t\\t\\t\\t\\t\\t<div class=\"checkList__item\">\\n\\t\\t\\t\\t\\t\\t\\t\\t\\t\\t<span class=\"inp-ch checkButton\"><input type=\"checkbox\" id=\"ck10-10\" data-name=\"takeMen\" data-value=\"215190\"><label for=\"ck10-10\"><span>11명 이상</span></label></span>\\n\\t\\t\\t\\t\\t\\t\\t\\t\\t\\t<span class=\"number\">1,489</span>\\n\\t\\t\\t\\t\\t\\t\\t\\t\\t</div>\\n\\t\\t\\t\\t\\t\\t\\t\\t</div>\\n\\t\\t\\t\\t\\t\\t\\t</div>\\n\\t\\t\\t\\t\\t\\t\\t<!-- //승차정원 -->\\n\\t\\t\\t\\t\\t\\t</div>\\n\\t\\t\\t\\t\\t</div>\\n\\t\\t\\t\\t</div>\\n\\t\\t\\t\\t<!-- //전체 -->\\n\\t\\n\\t\\t\\t\\t<!-- 차량번호/판매자명 검색 -->\\n\\t\\t\\t\\t<div class=\"carNumSellerName mg-b40\">\\n\\t\\t\\t\\t\\t<input type=\"text\" id=\"carNoMemberName\" placeholder=\"차량번호/판매자명 검색\">\\n\\t\\t\\t\\t\\t<button type=\"button\"><span>검색</span></button>\\n\\t\\t\\t\\t</div>\\n\\t\\t\\t\\t<!-- //차량번호/판매자명 검색 -->\\n\\t\\t\\t</div>\\n\\t\\t\\t<!-- //검색메뉴 -->\\n\\t\\n\\t\\t\\t<div class=\"searchArea__carList\">\\n\\t\\t\\t\\t<!-- 현재 검색조건 나열 -->\\n\\t\\t\\t\\t<div class=\"recentList __breadcrumb\"></div>\\n\\t\\t\\t\\t<!-- //현재 검색조건 나열 -->\\n\\t\\n\\t\\t\\t\\t<!--검색 리스트 소팅-->\\n\\t\\t\\t\\t<div class=\"sorting-area\">\\n\\t\\t\\t\\t\\t<div class=\"st-right\">\\n\\t\\t\\t\\t\\t\\t<ul class=\"sor-list\">\\n\\t\\t\\t\\t\\t\\t\\t\\n\\t\\t\\t\\t\\t\\t\\t<li class=\"on2\"><button type=\"button\" id=\"sort-orderDate\"><span>등록일</span></button></li>\\n\\t\\t\\t\\t\\t\\t\\t<li><button type=\"button\" id=\"sort-sellAmt\"><span>가격</span></button></li>\\n\\t\\t\\t\\t\\t\\t\\t<li><button type=\"button\" id=\"sort-km\"><span>주행거리</span></button></li>\\n\\t\\t\\t\\t\\t\\t\\t<li><button type=\"button\" id=\"sort-regiDay\"><span>연식</span></button></li>\\n\\t\\t\\t\\t\\t\\t\\t<li><button type=\"button\" id=\"sort-carGeoPoint\">가까운 순서<span></span></button></li>\\n\\t\\t\\t\\t\\t\\t</ul>\\n\\t\\t\\t\\t\\t</div>\\n\\t\\t\\t\\t</div>\\n\\t\\n\\t\\t\\t\\t<!-- 검색 리스트 영역 -->\\n\\t\\t\\t\\t<div class=\"__used-car-list\">\\n\\n\\n\\n\\n\\n\\n\\n\\n\\n\\n\\n\\n\\n\\n\\t\\n\\t\\t\\n\\t\\t\\t\\n\\t\\t\\t\\t\\n\\n\\n\\n\\n\\n\\n\\n\\t\\t\\t\\t\\n\\t\\t\\t\\t\\n\\t\\t\\t\\n\\t\\t\\t\\n\\t\\t\\n\\n\\t\\t\\n\\t\\t\\t\\n\\t\\t\\t\\t\\n\\n\\n\\n\\n\\n\\n\\n\\t\\t\\t\\t\\n\\t\\t\\t\\t\\n\\t\\t\\t\\n\\t\\t\\t\\n\\t\\t\\n\\n\\t\\t<!-- 인증 및 진단매물 -->\\n\\t\\t\\n\\t\\t\\t<!-- 인증 및 진단매물 -->\\n\\t\\t\\t<div class=\"cs-list02 cs-list02--ratio wd-change mg-b50\">\\n\\t\\t\\t\\t<div class=\"csTitleArea\">\\n\\t\\t\\t\\t\\t<h2 class=\"title\">인증 및 진단매물 </h2>\\n\\t\\t\\t\\t</div>\\n\\t\\t\\t\\t<div class=\"list-in\">\\n\\t\\t\\t\\t\\t\\n\\n\\t\\t\\t\\t\\t\\n\\n\\t\\t\\t\\t\\t\\n\\t\\t\\t\\t\\t\\t\\n\\t\\t\\t\\t\\t\\t\\n\\t\\t\\t\\t\\t\\t\\n\\t\\t\\t\\t\\t\\t\\t\\n\\t\\t\\t\\t\\t\\t\\n\\t\\t\\t\\t\\t\\t\\n\\t\\t\\t\\t\\t\\n\\t\\t\\t\\t\\t\\t<div class=\"area \" data-car-seq=\"23105842\" style=\"height: 435px;\">\\n\\t\\t\\t\\t\\t\\t\\t\\n\\t\\t\\t\\t\\t\\t\\t\\t\\n\\t\\t\\t\\t\\t\\t\\t\\t\\t<span class=\"bbadge bbadge-category\"><span class=\"bbadge-category__prefix\">KB</span>인증</span>\\n\\t\\t\\t\\t\\t\\t\\t\\t\\n\\t\\t\\t\\t\\t\\t\\t\\t\\n\\t\\t\\t\\t\\t\\t\\t\\t\\n\\t\\t\\t\\t\\t\\t\\t\\t\\n\\t\\t\\t\\t\\t\\t\\t\\n\\t\\t\\t\\t\\t\\t\\t<div class=\"thumnail owl-carousel swiper-area06\" style=\"display: block;\">\\n\\t\\t\\t\\t\\t\\t\\t\\t<a href=\"/public/car/detail.kbc?carSeq=23105842\" class=\"item\" target=\"_blank\">\\n\\t\\t\\t\\t\\t\\t\\t\\t\\t<span class=\"item__img\">\\n\\t\\t\\t\\t\\t\\t\\t\\t\\t\\t<img alt=\"\" src=\"https://img.kbchachacha.com/IMG/carimg/l/img10/img2310/23105842_11381568635924426.jpg?width=720\" onerror=\"this.src=\\'/images/common/noimage.jpg\\';\">\\n\\t\\t\\t\\t\\t\\t\\t\\t\\t</span>\\n\\t\\t\\t\\t\\t\\t\\t\\t</a>\\n\\t\\t\\t\\t\\t\\t\\t\\t<a href=\"/public/car/detail.kbc?carSeq=23105842\" class=\"item\" target=\"_blank\" style=\"display: none;\">\\n\\t\\t\\t\\t\\t\\t\\t\\t\\t<span class=\"item__img\">\\n\\t\\t\\t\\t\\t\\t\\t\\t\\t\\t<img alt=\"\" src=\"https://img.kbchachacha.com/IMG/carimg/l/img10/img2310/23105842_11381568801825558.jpg?width=720\" onerror=\"this.src=\\'/images/common/noimage.jpg\\';\">\\n\\t\\t\\t\\t\\t\\t\\t\\t\\t</span>\\n\\t\\t\\t\\t\\t\\t\\t\\t</a>\\n\\t\\t\\t\\t\\t\\t\\t\\t<a href=\"/public/car/detail.kbc?carSeq=23105842\" class=\"item\" target=\"_blank\" style=\"display: none;\">\\n\\t\\t\\t\\t\\t\\t\\t\\t\\t<span class=\"item__img\">\\n\\t\\t\\t\\t\\t\\t\\t\\t\\t\\t<img alt=\"\" src=\"https://img.kbchachacha.com/IMG/carimg/l/img10/img2310/23105842_11381568956099410.jpg?width=720\" onerror=\"this.src=\\'/images/common/noimage.jpg\\';\">\\n\\t\\t\\t\\t\\t\\t\\t\\t\\t</span>\\n\\t\\t\\t\\t\\t\\t\\t\\t</a>\\n\\t\\t\\t\\t\\t\\t\\t</div>\\n\\t\\t\\t\\t\\t\\t\\t\\n\\t\\t\\t\\t\\t\\t\\t<div class=\"con owl-carousel swiper-area06\" style=\"display: block;\">\\n\\t\\t\\t\\t\\t\\t\\t\\t<div class=\"item\">\\n\\t\\t\\t\\t\\t\\t\\t\\t\\t<a href=\"/public/car/detail.kbc?carSeq=23105842\" class=\"link\" target=\"_blank\">\\n\\t\\t\\t\\t\\t\\t\\t\\t\\t\\t<strong class=\"tit\">\\n\\t\\t\\t\\t\\t\\t\\t\\t\\t\\t\\t\\n\\t\\t\\t\\t\\t\\t\\t\\t\\t\\t\\t\\n\\t\\t\\t\\t\\t\\t\\t\\t\\t\\t\\t<span class=\"bbadge bbadge-service-small bbadge-stock\">실차주</span>\\n\\t\\t\\t\\t\\t\\t\\t\\t\\t\\t\\t\\n\\t\\t\\t\\t\\t\\t\\t\\t\\t\\t\\t\\n\\t\\t\\t\\t\\t\\t\\t\\t\\t\\t\\t\\n\\t\\t\\t\\t\\t\\t\\t\\t\\t\\t\\t기아 더 뉴 카니발 9인승 3.3 가솔린 노블레스 스페셜\\n\\t\\t\\t\\t\\t\\t\\t\\t\\t\\t</strong>\\n\\t\\t\\t\\t\\t\\t\\t\\t\\t\\t<div class=\"data-line tp03\">\\n\\t\\t\\t\\t\\t\\t\\t\\t\\t\\t\\t<div class=\"first\">2018년 04월 (19년식)</div>\\n\\t\\t\\t\\t\\t\\t\\t\\t\\t\\t\\t<div class=\"data-in\">\\n\\t\\t\\t\\t\\t\\t\\t\\t\\t\\t\\t\\t<span>60,950km</span>\\n\\t\\t\\t\\t\\t\\t\\t\\t\\t\\t\\t\\t<span>울산</span>\\n\\t\\t\\t\\t\\t\\t\\t\\t\\t\\t\\t</div>\\n\\t\\t\\t\\t\\t\\t\\t\\t\\t\\t</div>\\n\\t\\t\\t\\t\\t\\t\\t\\t\\t\\t<strong class=\"pay\">\\n\\t\\t\\t\\t\\t\\t\\t\\t\\t\\t\\t\\n\\t\\t\\t\\t\\t\\t\\t\\t\\t\\t\\t\\t\\n\\t\\t\\t\\t\\t\\t\\t\\t\\t\\t\\t\\t\\t2,600<span>만원</span>\\n\\t\\t\\t\\t\\t\\t\\t\\t\\t\\t\\t\\t\\n\\t\\t\\t\\t\\t\\t\\t\\t\\t\\t\\t\\t\\n\\t\\t\\t\\t\\t\\t\\t\\t\\t\\t\\t\\t\\n\\t\\t\\t\\t\\t\\t\\t\\t\\t\\t\\t\\n\\t\\t\\t\\t\\t\\t\\t\\t\\t\\t</strong>\\n\\t\\t\\t\\t\\t\\t\\t\\t\\t</a>\\n\\t\\t\\t\\t\\t\\t\\t\\t\\t\\n\\t\\t\\t\\t\\t\\t\\t\\t\\t<div class=\"sort-wrap\">\\n\\t\\t\\t\\t\\t\\t\\t\\t\\t\\t<div class=\"ck-wrap ck-tp02\">\\n\\t\\t\\t\\t\\t\\t\\t\\t\\t\\t\\t<button type=\"button\" class=\"lc-btn like ck-item  __wish\" data-car-seq=\"23105842\">\\n\\t\\t\\t\\t\\t\\t\\t\\t\\t\\t\\t\\t<span class=\"blind\">좋아요</span>\\n\\t\\t\\t\\t\\t\\t\\t\\t\\t\\t\\t</button>\\n\\t\\t\\t\\t\\t\\t\\t\\t\\t\\t\\t<!-- ck-on  onclick=\"common.popSh04(\\'popup0401\\')\" -->\\n\\t\\t\\t\\t\\t\\t\\t\\t\\t\\t\\t<button type=\"button\" class=\"lc-btn cpr ck-item  __compare\" data-car-seq=\"23105842\">\\n\\t\\t\\t\\t\\t\\t\\t\\t\\t\\t\\t\\t<span class=\"blind\">비교하기</span>\\n\\t\\t\\t\\t\\t\\t\\t\\t\\t\\t\\t</button>\\n\\t\\t\\t\\t\\t\\t\\t\\t\\t\\t</div>\\n\\t\\t\\t\\t\\t\\t\\t\\t\\t</div>\\n\\t\\t\\t\\t\\t\\t\\t\\t</div>\\n\\t\\t\\t\\t\\t\\t\\t\\t\\n\\t\\t\\t\\t\\t\\t\\t\\t\\t<div class=\"item mid-tp\" style=\"display: none;\">\\n\\t\\t\\t\\t\\t\\t\\t\\t\\t\\t<a href=\"/public/car/detail.kbc?carSeq=23105842\" class=\"link bg-blue\" target=\"_blank\">\\n\\t\\t\\t\\t\\t\\t\\t\\t\\t\\t\\t<div class=\"mid-box\">\\n\\t\\t\\t\\t\\t\\t\\t\\t\\t\\t\\t\\t<div class=\"sp-rd-img\">\\n\\t\\t\\t\\t\\t\\t\\t\\t\\t\\t\\t\\t\\t<span class=\"img\">\\n\\t\\t\\t\\t\\t\\t\\t\\t\\t\\t\\t\\t\\t\\t\\n\\t\\t\\t\\t\\t\\t\\t\\t\\t\\t\\t\\t\\t\\t\\t\\n\\t\\t\\t\\t\\t\\t\\t\\t\\t\\t\\t\\t\\t\\t\\t\\t<img src=\"https://img.kbchachacha.com/IMG/memberimg/2223609860300741.jpg?width=360\" alt=\"\" onerror=\"this.src=\\'/images/common/no_img_dealer_30_m.png\\';\">\\n\\t\\t\\t\\t\\t\\t\\t\\t\\t\\t\\t\\t\\t\\t\\t\\n\\t\\t\\t\\t\\t\\t\\t\\t\\t\\t\\t\\t\\t\\t\\t\\n\\t\\t\\t\\t\\t\\t\\t\\t\\t\\t\\t\\t\\t\\t\\n\\t\\t\\t\\t\\t\\t\\t\\t\\t\\t\\t\\t\\t</span>\\n\\t\\t\\t\\t\\t\\t\\t\\t\\t\\t\\t\\t\\t<span class=\"ft-md\">실차주</span> 차량입니다.\\n\\t\\t\\t\\t\\t\\t\\t\\t\\t\\t\\t\\t</div>\\n\\t\\t\\t\\t\\t\\t\\t\\t\\t\\t\\t</div>\\n\\t\\t\\t\\t\\t\\t\\t\\t\\t\\t</a>\\n\\t\\t\\t\\t\\t\\t\\t\\t\\t</div>\\n\\t\\t\\t\\t\\t\\t\\t\\t\\n\\t\\t\\t\\t\\t\\t\\t\\t<div class=\"item mid-tp\" style=\"display: none;\">\\n\\t\\t\\t\\t\\t\\t\\t\\t\\t<a href=\"/public/car/detail.kbc?carSeq=23105842\" class=\"link bg-blue\" target=\"_blank\">\\n\\t\\t\\t\\t\\t\\t\\t\\t\\t\\t<div class=\"mid-box\">\\n\\t\\t\\t\\t\\t\\t\\t\\t\\t\\t\\t<div class=\"sp-rd-acc\">\\n\\t\\t\\t\\t\\t\\t\\t\\t\\t\\t\\t\\t\\n\\t\\t\\t\\t\\t\\t\\t\\t\\t\\t\\t\\t\\t\\n\\t\\t\\t\\t\\t\\t\\t\\t\\t\\t\\t\\t\\t\\t<span class=\"num\">0</span> <span class=\"ft-md\">사고이력이 없습니다.</span>\\n\\t\\t\\t\\t\\t\\t\\t\\t\\t\\t\\t\\t\\t\\n\\t\\t\\t\\t\\t\\t\\t\\t\\t\\t\\t\\t\\t\\n\\t\\t\\t\\t\\t\\t\\t\\t\\t\\t\\t\\t\\n\\t\\t\\t\\t\\t\\t\\t\\t\\t\\t\\t</div>\\n\\t\\t\\t\\t\\t\\t\\t\\t\\t\\t</div>\\n\\t\\t\\t\\t\\t\\t\\t\\t\\t</a>\\n\\t\\t\\t\\t\\t\\t\\t\\t</div>\\n\\t\\t\\t\\t\\t\\t\\t\\t\\n\\t\\t\\t\\t\\t\\t\\t\\t\\t<div class=\"item mid-tp\" style=\"display: none;\">\\n\\t\\t\\t\\t\\t\\t\\t\\t\\t\\t<a href=\"/public/car/detail.kbc?carSeq=23105842\" class=\"link\" target=\"_blank\">\\n\\t\\t\\t\\t\\t\\t\\t\\t\\t\\t\\t<div class=\"mid-box\">\\n\\t\\t\\t\\t\\t\\t\\t\\t\\t\\t\\t\\t<div class=\"gua-list\">\\n\\t\\t\\t\\t\\t\\t\\t\\t\\t\\t\\t\\t\\t<ul>\\n\\t\\t\\t\\t\\t\\t\\t\\t\\t\\t\\t\\t\\t\\t<li class=\"\">연장보증</li>\\n\\t\\t\\t\\t\\t\\t\\t\\t\\t\\t\\t\\t\\t\\t<li class=\"on\">헛걸음보상</li>\\n\\t\\t\\t\\t\\t\\t\\t\\t\\t\\t\\t\\t\\t\\t\\n\\t\\t\\t\\t\\t\\t\\t\\t\\t\\t\\t\\t\\t\\t\\n\\t\\t\\t\\t\\t\\t\\t\\t\\t\\t\\t\\t\\t\\t\\t<li class=\"\">KB안심리스</li>\\n\\t\\t\\t\\t\\t\\t\\t\\t\\t\\t\\t\\t\\t\\t\\n\\t\\t\\t\\t\\t\\t\\t\\t\\t\\t\\t\\t\\t</ul>\\n\\t\\t\\t\\t\\t\\t\\t\\t\\t\\t\\t\\t</div>\\n\\t\\t\\t\\t\\t\\t\\t\\t\\t\\t\\t\\t<div class=\"sp-txt01\">\\n\\t\\t\\t\\t\\t\\t\\t\\t\\t\\t\\t\\t\\t<span class=\"cor-blue ft-bd\">보증</span> 가능합니다\\n\\t\\t\\t\\t\\t\\t\\t\\t\\t\\t\\t\\t</div>\\n\\t\\t\\t\\t\\t\\t\\t\\t\\t\\t\\t</div>\\n\\t\\t\\t\\t\\t\\t\\t\\t\\t\\t</a>\\n\\t\\t\\t\\t\\t\\t\\t\\t\\t</div>\\n\\t\\t\\t\\t\\t\\t\\t\\t\\n\\t\\t\\t\\t\\t\\t\\t\\t\\n\\t\\t\\t\\t\\t\\t\\t\\t\\n\\t\\t\\t\\t\\t\\t\\t\\t\\t\\n\\t\\t\\t\\t\\t\\t\\t\\t\\t\\n\\t\\t\\t\\t\\t\\t\\t\\t\\n\\t\\t\\t\\t\\t\\t\\t</div>\\n\\t\\t\\t\\t\\t\\t</div>\\n\\t\\t\\t\\t\\t\\n\\t\\t\\t\\t\\t\\t\\n\\t\\t\\t\\t\\t\\t\\n\\t\\t\\t\\t\\t\\t\\n\\t\\t\\t\\t\\t\\t\\t\\n\\t\\t\\t\\t\\t\\t\\n\\t\\t\\t\\t\\t\\t\\n\\t\\t\\t\\t\\t\\n\\t\\t\\t\\t\\t\\t<div class=\"area \" data-car-seq=\"23063612\" style=\"height: 435px;\">\\n\\t\\t\\t\\t\\t\\t\\t\\n\\t\\t\\t\\t\\t\\t\\t\\t\\n\\t\\t\\t\\t\\t\\t\\t\\t\\t<span class=\"bbadge bbadge-category\"><span class=\"bbadge-category__prefix\">KB</span>인증</span>\\n\\t\\t\\t\\t\\t\\t\\t\\t\\n\\t\\t\\t\\t\\t\\t\\t\\t\\n\\t\\t\\t\\t\\t\\t\\t\\t\\n\\t\\t\\t\\t\\t\\t\\t\\t\\n\\t\\t\\t\\t\\t\\t\\t\\n\\t\\t\\t\\t\\t\\t\\t<div class=\"thumnail owl-carousel swiper-area06\" style=\"display: block;\">\\n\\t\\t\\t\\t\\t\\t\\t\\t<a href=\"/public/car/detail.kbc?carSeq=23063612\" class=\"item\" target=\"_blank\">\\n\\t\\t\\t\\t\\t\\t\\t\\t\\t<span class=\"item__img\">\\n\\t\\t\\t\\t\\t\\t\\t\\t\\t\\t<img alt=\"\" src=\"https://img.kbchachacha.com/IMG/carimg/l/img06/img2306/23063612_10509634051322298.jpg?width=720\" onerror=\"this.src=\\'/images/common/noimage.jpg\\';\">\\n\\t\\t\\t\\t\\t\\t\\t\\t\\t</span>\\n\\t\\t\\t\\t\\t\\t\\t\\t</a>\\n\\t\\t\\t\\t\\t\\t\\t\\t<a href=\"/public/car/detail.kbc?carSeq=23063612\" class=\"item\" target=\"_blank\" style=\"display: none;\">\\n\\t\\t\\t\\t\\t\\t\\t\\t\\t<span class=\"item__img\">\\n\\t\\t\\t\\t\\t\\t\\t\\t\\t\\t<img alt=\"\" src=\"https://img.kbchachacha.com/IMG/carimg/l/img06/img2306/23063612_10509634226939250.jpg?width=720\" onerror=\"this.src=\\'/images/common/noimage.jpg\\';\">\\n\\t\\t\\t\\t\\t\\t\\t\\t\\t</span>\\n\\t\\t\\t\\t\\t\\t\\t\\t</a>\\n\\t\\t\\t\\t\\t\\t\\t\\t<a href=\"/public/car/detail.kbc?carSeq=23063612\" class=\"item\" target=\"_blank\" style=\"display: none;\">\\n\\t\\t\\t\\t\\t\\t\\t\\t\\t<span class=\"item__img\">\\n\\t\\t\\t\\t\\t\\t\\t\\t\\t\\t<img alt=\"\" src=\"https://img.kbchachacha.com/IMG/carimg/l/img06/img2306/23063612_10509634387401660.jpg?width=720\" onerror=\"this.src=\\'/images/common/noimage.jpg\\';\">\\n\\t\\t\\t\\t\\t\\t\\t\\t\\t</span>\\n\\t\\t\\t\\t\\t\\t\\t\\t</a>\\n\\t\\t\\t\\t\\t\\t\\t</div>\\n\\t\\t\\t\\t\\t\\t\\t\\n\\t\\t\\t\\t\\t\\t\\t<div class=\"con owl-carousel swiper-area06\" style=\"display: block;\">\\n\\t\\t\\t\\t\\t\\t\\t\\t<div class=\"item\">\\n\\t\\t\\t\\t\\t\\t\\t\\t\\t<a href=\"/public/car/detail.kbc?carSeq=23063612\" class=\"link\" target=\"_blank\">\\n\\t\\t\\t\\t\\t\\t\\t\\t\\t\\t<strong class=\"tit\">\\n\\t\\t\\t\\t\\t\\t\\t\\t\\t\\t\\t\\n\\t\\t\\t\\t\\t\\t\\t\\t\\t\\t\\t\\n\\t\\t\\t\\t\\t\\t\\t\\t\\t\\t\\t<span class=\"bbadge bbadge-service-small bbadge-stock\">실차주</span>\\n\\t\\t\\t\\t\\t\\t\\t\\t\\t\\t\\t\\n\\t\\t\\t\\t\\t\\t\\t\\t\\t\\t\\t\\n\\t\\t\\t\\t\\t\\t\\t\\t\\t\\t\\t\\n\\t\\t\\t\\t\\t\\t\\t\\t\\t\\t\\t제네시스 G90 5.0 GDi AWD 프레스티지 리무진\\n\\t\\t\\t\\t\\t\\t\\t\\t\\t\\t</strong>\\n\\t\\t\\t\\t\\t\\t\\t\\t\\t\\t<div class=\"data-line tp03\">\\n\\t\\t\\t\\t\\t\\t\\t\\t\\t\\t\\t<div class=\"first\">2019년 07월 (19년식)</div>\\n\\t\\t\\t\\t\\t\\t\\t\\t\\t\\t\\t<div class=\"data-in\">\\n\\t\\t\\t\\t\\t\\t\\t\\t\\t\\t\\t\\t<span>62,850km</span>\\n\\t\\t\\t\\t\\t\\t\\t\\t\\t\\t\\t\\t<span>울산</span>\\n\\t\\t\\t\\t\\t\\t\\t\\t\\t\\t\\t</div>\\n\\t\\t\\t\\t\\t\\t\\t\\t\\t\\t</div>\\n\\t\\t\\t\\t\\t\\t\\t\\t\\t\\t<strong class=\"pay\">\\n\\t\\t\\t\\t\\t\\t\\t\\t\\t\\t\\t\\n\\t\\t\\t\\t\\t\\t\\t\\t\\t\\t\\t\\t\\n\\t\\t\\t\\t\\t\\t\\t\\t\\t\\t\\t\\t\\t8,250<span>만원</span>\\n\\t\\t\\t\\t\\t\\t\\t\\t\\t\\t\\t\\t\\n\\t\\t\\t\\t\\t\\t\\t\\t\\t\\t\\t\\t\\n\\t\\t\\t\\t\\t\\t\\t\\t\\t\\t\\t\\t\\n\\t\\t\\t\\t\\t\\t\\t\\t\\t\\t\\t\\n\\t\\t\\t\\t\\t\\t\\t\\t\\t\\t</strong>\\n\\t\\t\\t\\t\\t\\t\\t\\t\\t</a>\\n\\t\\t\\t\\t\\t\\t\\t\\t\\t\\n\\t\\t\\t\\t\\t\\t\\t\\t\\t<div class=\"sort-wrap\">\\n\\t\\t\\t\\t\\t\\t\\t\\t\\t\\t<div class=\"ck-wrap ck-tp02\">\\n\\t\\t\\t\\t\\t\\t\\t\\t\\t\\t\\t<button type=\"button\" class=\"lc-btn like ck-item  __wish\" data-car-seq=\"23063612\">\\n\\t\\t\\t\\t\\t\\t\\t\\t\\t\\t\\t\\t<span class=\"blind\">좋아요</span>\\n\\t\\t\\t\\t\\t\\t\\t\\t\\t\\t\\t</button>\\n\\t\\t\\t\\t\\t\\t\\t\\t\\t\\t\\t<!-- ck-on  onclick=\"common.popSh04(\\'popup0401\\')\" -->\\n\\t\\t\\t\\t\\t\\t\\t\\t\\t\\t\\t<button type=\"button\" class=\"lc-btn cpr ck-item  __compare\" data-car-seq=\"23063612\">\\n\\t\\t\\t\\t\\t\\t\\t\\t\\t\\t\\t\\t<span class=\"blind\">비교하기</span>\\n\\t\\t\\t\\t\\t\\t\\t\\t\\t\\t\\t</button>\\n\\t\\t\\t\\t\\t\\t\\t\\t\\t\\t</div>\\n\\t\\t\\t\\t\\t\\t\\t\\t\\t</div>\\n\\t\\t\\t\\t\\t\\t\\t\\t</div>\\n\\t\\t\\t\\t\\t\\t\\t\\t\\n\\t\\t\\t\\t\\t\\t\\t\\t\\t<div class=\"item mid-tp\" style=\"display: none;\">\\n\\t\\t\\t\\t\\t\\t\\t\\t\\t\\t<a href=\"/public/car/detail.kbc?carSeq=23063612\" class=\"link bg-blue\" target=\"_blank\">\\n\\t\\t\\t\\t\\t\\t\\t\\t\\t\\t\\t<div class=\"mid-box\">\\n\\t\\t\\t\\t\\t\\t\\t\\t\\t\\t\\t\\t<div class=\"sp-rd-img\">\\n\\t\\t\\t\\t\\t\\t\\t\\t\\t\\t\\t\\t\\t<span class=\"img\">\\n\\t\\t\\t\\t\\t\\t\\t\\t\\t\\t\\t\\t\\t\\t\\n\\t\\t\\t\\t\\t\\t\\t\\t\\t\\t\\t\\t\\t\\t\\t\\n\\t\\t\\t\\t\\t\\t\\t\\t\\t\\t\\t\\t\\t\\t\\t\\t<img src=\"https://img.kbchachacha.com/IMG/memberimg/2223609860300741.jpg?width=360\" alt=\"\" onerror=\"this.src=\\'/images/common/no_img_dealer_30_m.png\\';\">\\n\\t\\t\\t\\t\\t\\t\\t\\t\\t\\t\\t\\t\\t\\t\\t\\n\\t\\t\\t\\t\\t\\t\\t\\t\\t\\t\\t\\t\\t\\t\\t\\n\\t\\t\\t\\t\\t\\t\\t\\t\\t\\t\\t\\t\\t\\t\\n\\t\\t\\t\\t\\t\\t\\t\\t\\t\\t\\t\\t\\t</span>\\n\\t\\t\\t\\t\\t\\t\\t\\t\\t\\t\\t\\t\\t<span class=\"ft-md\">실차주</span> 차량입니다.\\n\\t\\t\\t\\t\\t\\t\\t\\t\\t\\t\\t\\t</div>\\n\\t\\t\\t\\t\\t\\t\\t\\t\\t\\t\\t</div>\\n\\t\\t\\t\\t\\t\\t\\t\\t\\t\\t</a>\\n\\t\\t\\t\\t\\t\\t\\t\\t\\t</div>\\n\\t\\t\\t\\t\\t\\t\\t\\t\\n\\t\\t\\t\\t\\t\\t\\t\\t<div class=\"item mid-tp\" style=\"display: none;\">\\n\\t\\t\\t\\t\\t\\t\\t\\t\\t<a href=\"/public/car/detail.kbc?carSeq=23063612\" class=\"link bg-blue\" target=\"_blank\">\\n\\t\\t\\t\\t\\t\\t\\t\\t\\t\\t<div class=\"mid-box\">\\n\\t\\t\\t\\t\\t\\t\\t\\t\\t\\t\\t<div class=\"sp-rd-acc\">\\n\\t\\t\\t\\t\\t\\t\\t\\t\\t\\t\\t\\t\\n\\t\\t\\t\\t\\t\\t\\t\\t\\t\\t\\t\\t\\t\\n\\t\\t\\t\\t\\t\\t\\t\\t\\t\\t\\t\\t\\t\\t<span class=\"num\">0</span> <span class=\"ft-md\">사고이력이 없습니다.</span>\\n\\t\\t\\t\\t\\t\\t\\t\\t\\t\\t\\t\\t\\t\\n\\t\\t\\t\\t\\t\\t\\t\\t\\t\\t\\t\\t\\t\\n\\t\\t\\t\\t\\t\\t\\t\\t\\t\\t\\t\\t\\n\\t\\t\\t\\t\\t\\t\\t\\t\\t\\t\\t</div>\\n\\t\\t\\t\\t\\t\\t\\t\\t\\t\\t</div>\\n\\t\\t\\t\\t\\t\\t\\t\\t\\t</a>\\n\\t\\t\\t\\t\\t\\t\\t\\t</div>\\n\\t\\t\\t\\t\\t\\t\\t\\t\\n\\t\\t\\t\\t\\t\\t\\t\\t\\t<div class=\"item mid-tp\" style=\"display: none;\">\\n\\t\\t\\t\\t\\t\\t\\t\\t\\t\\t<a href=\"/public/car/detail.kbc?carSeq=23063612\" class=\"link\" target=\"_blank\">\\n\\t\\t\\t\\t\\t\\t\\t\\t\\t\\t\\t<div class=\"mid-box\">\\n\\t\\t\\t\\t\\t\\t\\t\\t\\t\\t\\t\\t<div class=\"gua-list\">\\n\\t\\t\\t\\t\\t\\t\\t\\t\\t\\t\\t\\t\\t<ul>\\n\\t\\t\\t\\t\\t\\t\\t\\t\\t\\t\\t\\t\\t\\t<li class=\"\">연장보증</li>\\n\\t\\t\\t\\t\\t\\t\\t\\t\\t\\t\\t\\t\\t\\t<li class=\"on\">헛걸음보상</li>\\n\\t\\t\\t\\t\\t\\t\\t\\t\\t\\t\\t\\t\\t\\t\\n\\t\\t\\t\\t\\t\\t\\t\\t\\t\\t\\t\\t\\t\\t\\n\\t\\t\\t\\t\\t\\t\\t\\t\\t\\t\\t\\t\\t\\t\\t<li class=\"on\">KB안심리스</li>\\n\\t\\t\\t\\t\\t\\t\\t\\t\\t\\t\\t\\t\\t\\t\\n\\t\\t\\t\\t\\t\\t\\t\\t\\t\\t\\t\\t\\t</ul>\\n\\t\\t\\t\\t\\t\\t\\t\\t\\t\\t\\t\\t</div>\\n\\t\\t\\t\\t\\t\\t\\t\\t\\t\\t\\t\\t<div class=\"sp-txt01\">\\n\\t\\t\\t\\t\\t\\t\\t\\t\\t\\t\\t\\t\\t<span class=\"cor-blue ft-bd\">보증</span> 가능합니다\\n\\t\\t\\t\\t\\t\\t\\t\\t\\t\\t\\t\\t</div>\\n\\t\\t\\t\\t\\t\\t\\t\\t\\t\\t\\t</div>\\n\\t\\t\\t\\t\\t\\t\\t\\t\\t\\t</a>\\n\\t\\t\\t\\t\\t\\t\\t\\t\\t</div>\\n\\t\\t\\t\\t\\t\\t\\t\\t\\n\\t\\t\\t\\t\\t\\t\\t\\t\\n\\t\\t\\t\\t\\t\\t\\t\\t\\n\\t\\t\\t\\t\\t\\t\\t\\t\\t\\n\\t\\t\\t\\t\\t\\t\\t\\t\\t\\n\\t\\t\\t\\t\\t\\t\\t\\t\\t\\t<div class=\"item mid-tp\" style=\"display: none;\">\\n\\t\\t\\t\\t\\t\\t\\t\\t\\t\\t\\t<a href=\"/public/car/detail.kbc?carSeq=23063612\" class=\"link\" target=\"_blank\">\\n\\t\\t\\t\\t\\t\\t\\t\\t\\t\\t\\t\\t<div class=\"mid-box\">\\n\\t\\t\\t\\t\\t\\t\\t\\t\\t\\t\\t\\t\\t<div class=\"sp-txt02\">\\n\\t\\t\\t\\t\\t\\t\\t\\t\\t\\t\\t\\t\\t\\t리스 <span class=\"cor-blue\">최저</span><br> 월납입 <span class=\"cor-blue money\">115</span>만원\\n\\t\\t\\t\\t\\t\\t\\t\\t\\t\\t\\t\\t\\t</div>\\n\\t\\t\\t\\t\\t\\t\\t\\t\\t\\t\\t\\t\\t<div class=\"sp-txt01\">\\n\\t\\t\\t\\t\\t\\t\\t\\t\\t\\t\\t\\t\\t\\t<span class=\"cor-blue\">리스</span> 가능합니다.\\n\\t\\t\\t\\t\\t\\t\\t\\t\\t\\t\\t\\t\\t</div>\\n\\t\\t\\t\\t\\t\\t\\t\\t\\t\\t\\t\\t</div>\\n\\t\\t\\t\\t\\t\\t\\t\\t\\t\\t\\t</a>\\n\\t\\t\\t\\t\\t\\t\\t\\t\\t\\t</div>\\n\\t\\t\\t\\t\\t\\t\\t\\t\\t\\n\\t\\t\\t\\t\\t\\t\\t\\t\\n\\t\\t\\t\\t\\t\\t\\t</div>\\n\\t\\t\\t\\t\\t\\t</div>\\n\\t\\t\\t\\t\\t\\n\\t\\t\\t\\t\\t\\t\\n\\t\\t\\t\\t\\t\\t\\n\\t\\t\\t\\t\\t\\t\\n\\t\\t\\t\\t\\t\\t\\t\\n\\t\\t\\t\\t\\t\\t\\n\\t\\t\\t\\t\\t\\t\\n\\t\\t\\t\\t\\t\\n\\t\\t\\t\\t\\t\\t<div class=\"area \" data-car-seq=\"22858355\" style=\"height: 435px;\">\\n\\t\\t\\t\\t\\t\\t\\t\\n\\t\\t\\t\\t\\t\\t\\t\\t\\n\\t\\t\\t\\t\\t\\t\\t\\t\\n\\t\\t\\t\\t\\t\\t\\t\\t\\t\\n\\t\\t\\t\\t\\t\\t\\t\\t\\t<span class=\"bbadge bbadge-category bbadge-diagnosis\"><span class=\"bbadge-category__prefix\">KB</span>진단</span>\\n\\t\\t\\t\\t\\t\\t\\t\\t\\n\\t\\t\\t\\t\\t\\t\\t\\t\\n\\t\\t\\t\\t\\t\\t\\t\\t\\n\\t\\t\\t\\t\\t\\t\\t\\n\\t\\t\\t\\t\\t\\t\\t<div class=\"thumnail owl-carousel swiper-area06\" style=\"display: block;\">\\n\\t\\t\\t\\t\\t\\t\\t\\t<a href=\"/public/car/detail.kbc?carSeq=22858355\" class=\"item\" target=\"_blank\">\\n\\t\\t\\t\\t\\t\\t\\t\\t\\t<span class=\"item__img\">\\n\\t\\t\\t\\t\\t\\t\\t\\t\\t\\t<img alt=\"\" src=\"https://img.kbchachacha.com/IMG/carimg/l/img05/img2285/22858355_6434525416399220.jpeg?width=720\" onerror=\"this.src=\\'/images/common/noimage.jpg\\';\">\\n\\t\\t\\t\\t\\t\\t\\t\\t\\t</span>\\n\\t\\t\\t\\t\\t\\t\\t\\t</a>\\n\\t\\t\\t\\t\\t\\t\\t\\t<a href=\"/public/car/detail.kbc?carSeq=22858355\" class=\"item\" target=\"_blank\" style=\"display: none;\">\\n\\t\\t\\t\\t\\t\\t\\t\\t\\t<span class=\"item__img\">\\n\\t\\t\\t\\t\\t\\t\\t\\t\\t\\t<img alt=\"\" src=\"https://img.kbchachacha.com/IMG/carimg/l/img05/img2285/22858355_6434525542088723.jpeg?width=720\" onerror=\"this.src=\\'/images/common/noimage.jpg\\';\">\\n\\t\\t\\t\\t\\t\\t\\t\\t\\t</span>\\n\\t\\t\\t\\t\\t\\t\\t\\t</a>\\n\\t\\t\\t\\t\\t\\t\\t\\t<a href=\"/public/car/detail.kbc?carSeq=22858355\" class=\"item\" target=\"_blank\" style=\"display: none;\">\\n\\t\\t\\t\\t\\t\\t\\t\\t\\t<span class=\"item__img\">\\n\\t\\t\\t\\t\\t\\t\\t\\t\\t\\t<img alt=\"\" src=\"https://img.kbchachacha.com/IMG/carimg/l/img05/img2285/22858355_6434525671791962.jpeg?width=720\" onerror=\"this.src=\\'/images/common/noimage.jpg\\';\">\\n\\t\\t\\t\\t\\t\\t\\t\\t\\t</span>\\n\\t\\t\\t\\t\\t\\t\\t\\t</a>\\n\\t\\t\\t\\t\\t\\t\\t</div>\\n\\t\\t\\t\\t\\t\\t\\t\\n\\t\\t\\t\\t\\t\\t\\t<div class=\"con owl-carousel swiper-area06\" style=\"display: block;\">\\n\\t\\t\\t\\t\\t\\t\\t\\t<div class=\"item\">\\n\\t\\t\\t\\t\\t\\t\\t\\t\\t<a href=\"/public/car/detail.kbc?carSeq=22858355\" class=\"link\" target=\"_blank\">\\n\\t\\t\\t\\t\\t\\t\\t\\t\\t\\t<strong class=\"tit\">\\n\\t\\t\\t\\t\\t\\t\\t\\t\\t\\t\\t\\n\\t\\t\\t\\t\\t\\t\\t\\t\\t\\t\\t\\n\\t\\t\\t\\t\\t\\t\\t\\t\\t\\t\\t<span class=\"bbadge bbadge-service-small bbadge-stock\">실차주</span>\\n\\t\\t\\t\\t\\t\\t\\t\\t\\t\\t\\t\\n\\t\\t\\t\\t\\t\\t\\t\\t\\t\\t\\t\\n\\t\\t\\t\\t\\t\\t\\t\\t\\t\\t\\t\\n\\t\\t\\t\\t\\t\\t\\t\\t\\t\\t\\t기아 올 뉴 K7 2.4 GDi 리미티드 \\n\\t\\t\\t\\t\\t\\t\\t\\t\\t\\t</strong>\\n\\t\\t\\t\\t\\t\\t\\t\\t\\t\\t<div class=\"data-line tp03\">\\n\\t\\t\\t\\t\\t\\t\\t\\t\\t\\t\\t<div class=\"first\">2016년 04월 (16년식)</div>\\n\\t\\t\\t\\t\\t\\t\\t\\t\\t\\t\\t<div class=\"data-in\">\\n\\t\\t\\t\\t\\t\\t\\t\\t\\t\\t\\t\\t<span>113,212km</span>\\n\\t\\t\\t\\t\\t\\t\\t\\t\\t\\t\\t\\t<span>경기</span>\\n\\t\\t\\t\\t\\t\\t\\t\\t\\t\\t\\t</div>\\n\\t\\t\\t\\t\\t\\t\\t\\t\\t\\t</div>\\n\\t\\t\\t\\t\\t\\t\\t\\t\\t\\t<strong class=\"pay\">\\n\\t\\t\\t\\t\\t\\t\\t\\t\\t\\t\\t\\n\\t\\t\\t\\t\\t\\t\\t\\t\\t\\t\\t\\t\\n\\t\\t\\t\\t\\t\\t\\t\\t\\t\\t\\t\\t\\t1,650<span>만원</span>\\n\\t\\t\\t\\t\\t\\t\\t\\t\\t\\t\\t\\t\\n\\t\\t\\t\\t\\t\\t\\t\\t\\t\\t\\t\\t\\n\\t\\t\\t\\t\\t\\t\\t\\t\\t\\t\\t\\t\\n\\t\\t\\t\\t\\t\\t\\t\\t\\t\\t\\t\\n\\t\\t\\t\\t\\t\\t\\t\\t\\t\\t</strong>\\n\\t\\t\\t\\t\\t\\t\\t\\t\\t</a>\\n\\t\\t\\t\\t\\t\\t\\t\\t\\t\\n\\t\\t\\t\\t\\t\\t\\t\\t\\t<div class=\"sort-wrap\">\\n\\t\\t\\t\\t\\t\\t\\t\\t\\t\\t<div class=\"ck-wrap ck-tp02\">\\n\\t\\t\\t\\t\\t\\t\\t\\t\\t\\t\\t<button type=\"button\" class=\"lc-btn like ck-item  __wish\" data-car-seq=\"22858355\">\\n\\t\\t\\t\\t\\t\\t\\t\\t\\t\\t\\t\\t<span class=\"blind\">좋아요</span>\\n\\t\\t\\t\\t\\t\\t\\t\\t\\t\\t\\t</button>\\n\\t\\t\\t\\t\\t\\t\\t\\t\\t\\t\\t<!-- ck-on  onclick=\"common.popSh04(\\'popup0401\\')\" -->\\n\\t\\t\\t\\t\\t\\t\\t\\t\\t\\t\\t<button type=\"button\" class=\"lc-btn cpr ck-item  __compare\" data-car-seq=\"22858355\">\\n\\t\\t\\t\\t\\t\\t\\t\\t\\t\\t\\t\\t<span class=\"blind\">비교하기</span>\\n\\t\\t\\t\\t\\t\\t\\t\\t\\t\\t\\t</button>\\n\\t\\t\\t\\t\\t\\t\\t\\t\\t\\t</div>\\n\\t\\t\\t\\t\\t\\t\\t\\t\\t</div>\\n\\t\\t\\t\\t\\t\\t\\t\\t</div>\\n\\t\\t\\t\\t\\t\\t\\t\\t\\n\\t\\t\\t\\t\\t\\t\\t\\t\\t<div class=\"item mid-tp\" style=\"display: none;\">\\n\\t\\t\\t\\t\\t\\t\\t\\t\\t\\t<a href=\"/public/car/detail.kbc?carSeq=22858355\" class=\"link bg-blue\" target=\"_blank\">\\n\\t\\t\\t\\t\\t\\t\\t\\t\\t\\t\\t<div class=\"mid-box\">\\n\\t\\t\\t\\t\\t\\t\\t\\t\\t\\t\\t\\t<div class=\"sp-rd-img\">\\n\\t\\t\\t\\t\\t\\t\\t\\t\\t\\t\\t\\t\\t<span class=\"img\">\\n\\t\\t\\t\\t\\t\\t\\t\\t\\t\\t\\t\\t\\t\\t\\n\\t\\t\\t\\t\\t\\t\\t\\t\\t\\t\\t\\t\\t\\t\\t\\n\\t\\t\\t\\t\\t\\t\\t\\t\\t\\t\\t\\t\\t\\t\\t\\t<img src=\"https://img.kbchachacha.com/IMG/memberimg/10169699647850568.jpg?width=360\" alt=\"\" onerror=\"this.src=\\'/images/common/no_img_dealer_30_m.png\\';\">\\n\\t\\t\\t\\t\\t\\t\\t\\t\\t\\t\\t\\t\\t\\t\\t\\n\\t\\t\\t\\t\\t\\t\\t\\t\\t\\t\\t\\t\\t\\t\\t\\n\\t\\t\\t\\t\\t\\t\\t\\t\\t\\t\\t\\t\\t\\t\\n\\t\\t\\t\\t\\t\\t\\t\\t\\t\\t\\t\\t\\t</span>\\n\\t\\t\\t\\t\\t\\t\\t\\t\\t\\t\\t\\t\\t<span class=\"ft-md\">실차주</span> 차량입니다.\\n\\t\\t\\t\\t\\t\\t\\t\\t\\t\\t\\t\\t</div>\\n\\t\\t\\t\\t\\t\\t\\t\\t\\t\\t\\t</div>\\n\\t\\t\\t\\t\\t\\t\\t\\t\\t\\t</a>\\n\\t\\t\\t\\t\\t\\t\\t\\t\\t</div>\\n\\t\\t\\t\\t\\t\\t\\t\\t\\n\\t\\t\\t\\t\\t\\t\\t\\t<div class=\"item mid-tp\" style=\"display: none;\">\\n\\t\\t\\t\\t\\t\\t\\t\\t\\t<a href=\"/public/car/detail.kbc?carSeq=22858355\" class=\"link bg-blue\" target=\"_blank\">\\n\\t\\t\\t\\t\\t\\t\\t\\t\\t\\t<div class=\"mid-box\">\\n\\t\\t\\t\\t\\t\\t\\t\\t\\t\\t\\t<div class=\"sp-rd-acc\">\\n\\t\\t\\t\\t\\t\\t\\t\\t\\t\\t\\t\\t\\n\\t\\t\\t\\t\\t\\t\\t\\t\\t\\t\\t\\t\\t\\n\\t\\t\\t\\t\\t\\t\\t\\t\\t\\t\\t\\t\\t\\t<span class=\"num\">0</span> <span class=\"ft-md\">사고이력이 없습니다.</span>\\n\\t\\t\\t\\t\\t\\t\\t\\t\\t\\t\\t\\t\\t\\n\\t\\t\\t\\t\\t\\t\\t\\t\\t\\t\\t\\t\\t\\n\\t\\t\\t\\t\\t\\t\\t\\t\\t\\t\\t\\t\\n\\t\\t\\t\\t\\t\\t\\t\\t\\t\\t\\t</div>\\n\\t\\t\\t\\t\\t\\t\\t\\t\\t\\t</div>\\n\\t\\t\\t\\t\\t\\t\\t\\t\\t</a>\\n\\t\\t\\t\\t\\t\\t\\t\\t</div>\\n\\t\\t\\t\\t\\t\\t\\t\\t\\n\\t\\t\\t\\t\\t\\t\\t\\t\\t<div class=\"item mid-tp\" style=\"display: none;\">\\n\\t\\t\\t\\t\\t\\t\\t\\t\\t\\t<a href=\"/public/car/detail.kbc?carSeq=22858355\" class=\"link\" target=\"_blank\">\\n\\t\\t\\t\\t\\t\\t\\t\\t\\t\\t\\t<div class=\"mid-box\">\\n\\t\\t\\t\\t\\t\\t\\t\\t\\t\\t\\t\\t<div class=\"gua-list\">\\n\\t\\t\\t\\t\\t\\t\\t\\t\\t\\t\\t\\t\\t<ul>\\n\\t\\t\\t\\t\\t\\t\\t\\t\\t\\t\\t\\t\\t\\t<li class=\"\">연장보증</li>\\n\\t\\t\\t\\t\\t\\t\\t\\t\\t\\t\\t\\t\\t\\t<li class=\"on\">헛걸음보상</li>\\n\\t\\t\\t\\t\\t\\t\\t\\t\\t\\t\\t\\t\\t\\t\\n\\t\\t\\t\\t\\t\\t\\t\\t\\t\\t\\t\\t\\t\\t\\n\\t\\t\\t\\t\\t\\t\\t\\t\\t\\t\\t\\t\\t\\t\\t<li class=\"\">KB안심리스</li>\\n\\t\\t\\t\\t\\t\\t\\t\\t\\t\\t\\t\\t\\t\\t\\n\\t\\t\\t\\t\\t\\t\\t\\t\\t\\t\\t\\t\\t</ul>\\n\\t\\t\\t\\t\\t\\t\\t\\t\\t\\t\\t\\t</div>\\n\\t\\t\\t\\t\\t\\t\\t\\t\\t\\t\\t\\t<div class=\"sp-txt01\">\\n\\t\\t\\t\\t\\t\\t\\t\\t\\t\\t\\t\\t\\t<span class=\"cor-blue ft-bd\">보증</span> 가능합니다\\n\\t\\t\\t\\t\\t\\t\\t\\t\\t\\t\\t\\t</div>\\n\\t\\t\\t\\t\\t\\t\\t\\t\\t\\t\\t</div>\\n\\t\\t\\t\\t\\t\\t\\t\\t\\t\\t</a>\\n\\t\\t\\t\\t\\t\\t\\t\\t\\t</div>\\n\\t\\t\\t\\t\\t\\t\\t\\t\\n\\t\\t\\t\\t\\t\\t\\t\\t\\n\\t\\t\\t\\t\\t\\t\\t\\t\\n\\t\\t\\t\\t\\t\\t\\t\\t\\t\\n\\t\\t\\t\\t\\t\\t\\t\\t\\t\\n\\t\\t\\t\\t\\t\\t\\t\\t\\n\\t\\t\\t\\t\\t\\t\\t</div>\\n\\t\\t\\t\\t\\t\\t</div>\\n\\t\\t\\t\\t\\t\\n\\t\\t\\t\\t\\t\\t\\n\\t\\t\\t\\t\\t\\t\\n\\t\\t\\t\\t\\t\\t\\n\\t\\t\\t\\t\\t\\t\\t\\n\\t\\t\\t\\t\\t\\t\\n\\t\\t\\t\\t\\t\\t\\n\\t\\t\\t\\t\\t\\n\\t\\t\\t\\t\\t\\t<div class=\"area \" data-car-seq=\"23000856\" style=\"height: 435px;\">\\n\\t\\t\\t\\t\\t\\t\\t\\n\\t\\t\\t\\t\\t\\t\\t\\t\\n\\t\\t\\t\\t\\t\\t\\t\\t\\n\\t\\t\\t\\t\\t\\t\\t\\t\\t\\n\\t\\t\\t\\t\\t\\t\\t\\t\\t<span class=\"bbadge bbadge-category bbadge-diagnosis\"><span class=\"bbadge-category__prefix\">KB</span>진단</span>\\n\\t\\t\\t\\t\\t\\t\\t\\t\\n\\t\\t\\t\\t\\t\\t\\t\\t\\n\\t\\t\\t\\t\\t\\t\\t\\t\\n\\t\\t\\t\\t\\t\\t\\t\\n\\t\\t\\t\\t\\t\\t\\t<div class=\"thumnail owl-carousel swiper-area06\" style=\"display: block;\">\\n\\t\\t\\t\\t\\t\\t\\t\\t<a href=\"/public/car/detail.kbc?carSeq=23000856\" class=\"item\" target=\"_blank\">\\n\\t\\t\\t\\t\\t\\t\\t\\t\\t<span class=\"item__img\">\\n\\t\\t\\t\\t\\t\\t\\t\\t\\t\\t<img alt=\"\" src=\"https://img.kbchachacha.com/IMG/carimg/l/img10/img2300/23000856_9193568755896559.jpeg?width=720\" onerror=\"this.src=\\'/images/common/noimage.jpg\\';\">\\n\\t\\t\\t\\t\\t\\t\\t\\t\\t</span>\\n\\t\\t\\t\\t\\t\\t\\t\\t</a>\\n\\t\\t\\t\\t\\t\\t\\t\\t<a href=\"/public/car/detail.kbc?carSeq=23000856\" class=\"item\" target=\"_blank\" style=\"display: none;\">\\n\\t\\t\\t\\t\\t\\t\\t\\t\\t<span class=\"item__img\">\\n\\t\\t\\t\\t\\t\\t\\t\\t\\t\\t<img alt=\"\" src=\"https://img.kbchachacha.com/IMG/carimg/l/img10/img2300/23000856_9193568977922441.jpeg?width=720\" onerror=\"this.src=\\'/images/common/noimage.jpg\\';\">\\n\\t\\t\\t\\t\\t\\t\\t\\t\\t</span>\\n\\t\\t\\t\\t\\t\\t\\t\\t</a>\\n\\t\\t\\t\\t\\t\\t\\t\\t<a href=\"/public/car/detail.kbc?carSeq=23000856\" class=\"item\" target=\"_blank\" style=\"display: none;\">\\n\\t\\t\\t\\t\\t\\t\\t\\t\\t<span class=\"item__img\">\\n\\t\\t\\t\\t\\t\\t\\t\\t\\t\\t<img alt=\"\" src=\"https://img.kbchachacha.com/IMG/carimg/l/img10/img2300/23000856_9193569205481362.jpeg?width=720\" onerror=\"this.src=\\'/images/common/noimage.jpg\\';\">\\n\\t\\t\\t\\t\\t\\t\\t\\t\\t</span>\\n\\t\\t\\t\\t\\t\\t\\t\\t</a>\\n\\t\\t\\t\\t\\t\\t\\t</div>\\n\\t\\t\\t\\t\\t\\t\\t\\n\\t\\t\\t\\t\\t\\t\\t<div class=\"con owl-carousel swiper-area06\" style=\"display: block;\">\\n\\t\\t\\t\\t\\t\\t\\t\\t<div class=\"item\">\\n\\t\\t\\t\\t\\t\\t\\t\\t\\t<a href=\"/public/car/detail.kbc?carSeq=23000856\" class=\"link\" target=\"_blank\">\\n\\t\\t\\t\\t\\t\\t\\t\\t\\t\\t<strong class=\"tit\">\\n\\t\\t\\t\\t\\t\\t\\t\\t\\t\\t\\t\\n\\t\\t\\t\\t\\t\\t\\t\\t\\t\\t\\t\\n\\t\\t\\t\\t\\t\\t\\t\\t\\t\\t\\t<span class=\"bbadge bbadge-service-small bbadge-stock\">실차주</span>\\n\\t\\t\\t\\t\\t\\t\\t\\t\\t\\t\\t\\n\\t\\t\\t\\t\\t\\t\\t\\t\\t\\t\\t\\n\\t\\t\\t\\t\\t\\t\\t\\t\\t\\t\\t\\n\\t\\t\\t\\t\\t\\t\\t\\t\\t\\t\\t현대 포터2 초장축 더블캡 CRDi Premium\\n\\t\\t\\t\\t\\t\\t\\t\\t\\t\\t</strong>\\n\\t\\t\\t\\t\\t\\t\\t\\t\\t\\t<div class=\"data-line tp03\">\\n\\t\\t\\t\\t\\t\\t\\t\\t\\t\\t\\t<div class=\"first\">2021년 03월 (22년식)</div>\\n\\t\\t\\t\\t\\t\\t\\t\\t\\t\\t\\t<div class=\"data-in\">\\n\\t\\t\\t\\t\\t\\t\\t\\t\\t\\t\\t\\t<span>18,763km</span>\\n\\t\\t\\t\\t\\t\\t\\t\\t\\t\\t\\t\\t<span>광주</span>\\n\\t\\t\\t\\t\\t\\t\\t\\t\\t\\t\\t</div>\\n\\t\\t\\t\\t\\t\\t\\t\\t\\t\\t</div>\\n\\t\\t\\t\\t\\t\\t\\t\\t\\t\\t<strong class=\"pay\">\\n\\t\\t\\t\\t\\t\\t\\t\\t\\t\\t\\t\\n\\t\\t\\t\\t\\t\\t\\t\\t\\t\\t\\t\\t\\n\\t\\t\\t\\t\\t\\t\\t\\t\\t\\t\\t\\t\\t2,350<span>만원</span>\\n\\t\\t\\t\\t\\t\\t\\t\\t\\t\\t\\t\\t\\n\\t\\t\\t\\t\\t\\t\\t\\t\\t\\t\\t\\t\\n\\t\\t\\t\\t\\t\\t\\t\\t\\t\\t\\t\\t\\n\\t\\t\\t\\t\\t\\t\\t\\t\\t\\t\\t\\n\\t\\t\\t\\t\\t\\t\\t\\t\\t\\t</strong>\\n\\t\\t\\t\\t\\t\\t\\t\\t\\t</a>\\n\\t\\t\\t\\t\\t\\t\\t\\t\\t\\n\\t\\t\\t\\t\\t\\t\\t\\t\\t<div class=\"sort-wrap\">\\n\\t\\t\\t\\t\\t\\t\\t\\t\\t\\t<div class=\"ck-wrap ck-tp02\">\\n\\t\\t\\t\\t\\t\\t\\t\\t\\t\\t\\t<button type=\"button\" class=\"lc-btn like ck-item  __wish\" data-car-seq=\"23000856\">\\n\\t\\t\\t\\t\\t\\t\\t\\t\\t\\t\\t\\t<span class=\"blind\">좋아요</span>\\n\\t\\t\\t\\t\\t\\t\\t\\t\\t\\t\\t</button>\\n\\t\\t\\t\\t\\t\\t\\t\\t\\t\\t\\t<!-- ck-on  onclick=\"common.popSh04(\\'popup0401\\')\" -->\\n\\t\\t\\t\\t\\t\\t\\t\\t\\t\\t\\t<button type=\"button\" class=\"lc-btn cpr ck-item  __compare\" data-car-seq=\"23000856\">\\n\\t\\t\\t\\t\\t\\t\\t\\t\\t\\t\\t\\t<span class=\"blind\">비교하기</span>\\n\\t\\t\\t\\t\\t\\t\\t\\t\\t\\t\\t</button>\\n\\t\\t\\t\\t\\t\\t\\t\\t\\t\\t</div>\\n\\t\\t\\t\\t\\t\\t\\t\\t\\t</div>\\n\\t\\t\\t\\t\\t\\t\\t\\t</div>\\n\\t\\t\\t\\t\\t\\t\\t\\t\\n\\t\\t\\t\\t\\t\\t\\t\\t\\t<div class=\"item mid-tp\" style=\"display: none;\">\\n\\t\\t\\t\\t\\t\\t\\t\\t\\t\\t<a href=\"/public/car/detail.kbc?carSeq=23000856\" class=\"link bg-blue\" target=\"_blank\">\\n\\t\\t\\t\\t\\t\\t\\t\\t\\t\\t\\t<div class=\"mid-box\">\\n\\t\\t\\t\\t\\t\\t\\t\\t\\t\\t\\t\\t<div class=\"sp-rd-img\">\\n\\t\\t\\t\\t\\t\\t\\t\\t\\t\\t\\t\\t\\t<span class=\"img\">\\n\\t\\t\\t\\t\\t\\t\\t\\t\\t\\t\\t\\t\\t\\t\\n\\t\\t\\t\\t\\t\\t\\t\\t\\t\\t\\t\\t\\t\\t\\t\\n\\t\\t\\t\\t\\t\\t\\t\\t\\t\\t\\t\\t\\t\\t\\t\\t<img src=\"https://img.kbchachacha.com/IMG/memberimg/128303.jpg?width=360\" alt=\"\" onerror=\"this.src=\\'/images/common/no_img_dealer_30_m.png\\';\">\\n\\t\\t\\t\\t\\t\\t\\t\\t\\t\\t\\t\\t\\t\\t\\t\\n\\t\\t\\t\\t\\t\\t\\t\\t\\t\\t\\t\\t\\t\\t\\t\\n\\t\\t\\t\\t\\t\\t\\t\\t\\t\\t\\t\\t\\t\\t\\n\\t\\t\\t\\t\\t\\t\\t\\t\\t\\t\\t\\t\\t</span>\\n\\t\\t\\t\\t\\t\\t\\t\\t\\t\\t\\t\\t\\t<span class=\"ft-md\">실차주</span> 차량입니다.\\n\\t\\t\\t\\t\\t\\t\\t\\t\\t\\t\\t\\t</div>\\n\\t\\t\\t\\t\\t\\t\\t\\t\\t\\t\\t</div>\\n\\t\\t\\t\\t\\t\\t\\t\\t\\t\\t</a>\\n\\t\\t\\t\\t\\t\\t\\t\\t\\t</div>\\n\\t\\t\\t\\t\\t\\t\\t\\t\\n\\t\\t\\t\\t\\t\\t\\t\\t<div class=\"item mid-tp\" style=\"display: none;\">\\n\\t\\t\\t\\t\\t\\t\\t\\t\\t<a href=\"/public/car/detail.kbc?carSeq=23000856\" class=\"link bg-blue\" target=\"_blank\">\\n\\t\\t\\t\\t\\t\\t\\t\\t\\t\\t<div class=\"mid-box\">\\n\\t\\t\\t\\t\\t\\t\\t\\t\\t\\t\\t<div class=\"sp-rd-acc\">\\n\\t\\t\\t\\t\\t\\t\\t\\t\\t\\t\\t\\t\\n\\t\\t\\t\\t\\t\\t\\t\\t\\t\\t\\t\\t\\t\\n\\t\\t\\t\\t\\t\\t\\t\\t\\t\\t\\t\\t\\t\\t<span class=\"num\">0</span> <span class=\"ft-md\">사고이력이 없습니다.</span>\\n\\t\\t\\t\\t\\t\\t\\t\\t\\t\\t\\t\\t\\t\\n\\t\\t\\t\\t\\t\\t\\t\\t\\t\\t\\t\\t\\t\\n\\t\\t\\t\\t\\t\\t\\t\\t\\t\\t\\t\\t\\n\\t\\t\\t\\t\\t\\t\\t\\t\\t\\t\\t</div>\\n\\t\\t\\t\\t\\t\\t\\t\\t\\t\\t</div>\\n\\t\\t\\t\\t\\t\\t\\t\\t\\t</a>\\n\\t\\t\\t\\t\\t\\t\\t\\t</div>\\n\\t\\t\\t\\t\\t\\t\\t\\t\\n\\t\\t\\t\\t\\t\\t\\t\\t\\t<div class=\"item mid-tp\" style=\"display: none;\">\\n\\t\\t\\t\\t\\t\\t\\t\\t\\t\\t<a href=\"/public/car/detail.kbc?carSeq=23000856\" class=\"link\" target=\"_blank\">\\n\\t\\t\\t\\t\\t\\t\\t\\t\\t\\t\\t<div class=\"mid-box\">\\n\\t\\t\\t\\t\\t\\t\\t\\t\\t\\t\\t\\t<div class=\"gua-list\">\\n\\t\\t\\t\\t\\t\\t\\t\\t\\t\\t\\t\\t\\t<ul>\\n\\t\\t\\t\\t\\t\\t\\t\\t\\t\\t\\t\\t\\t\\t<li class=\"\">연장보증</li>\\n\\t\\t\\t\\t\\t\\t\\t\\t\\t\\t\\t\\t\\t\\t<li class=\"on\">헛걸음보상</li>\\n\\t\\t\\t\\t\\t\\t\\t\\t\\t\\t\\t\\t\\t\\t\\n\\t\\t\\t\\t\\t\\t\\t\\t\\t\\t\\t\\t\\t\\t\\n\\t\\t\\t\\t\\t\\t\\t\\t\\t\\t\\t\\t\\t\\t\\t<li class=\"\">KB안심리스</li>\\n\\t\\t\\t\\t\\t\\t\\t\\t\\t\\t\\t\\t\\t\\t\\n\\t\\t\\t\\t\\t\\t\\t\\t\\t\\t\\t\\t\\t</ul>\\n\\t\\t\\t\\t\\t\\t\\t\\t\\t\\t\\t\\t</div>\\n\\t\\t\\t\\t\\t\\t\\t\\t\\t\\t\\t\\t<div class=\"sp-txt01\">\\n\\t\\t\\t\\t\\t\\t\\t\\t\\t\\t\\t\\t\\t<span class=\"cor-blue ft-bd\">보증</span> 가능합니다\\n\\t\\t\\t\\t\\t\\t\\t\\t\\t\\t\\t\\t</div>\\n\\t\\t\\t\\t\\t\\t\\t\\t\\t\\t\\t</div>\\n\\t\\t\\t\\t\\t\\t\\t\\t\\t\\t</a>\\n\\t\\t\\t\\t\\t\\t\\t\\t\\t</div>\\n\\t\\t\\t\\t\\t\\t\\t\\t\\n\\t\\t\\t\\t\\t\\t\\t\\t\\n\\t\\t\\t\\t\\t\\t\\t\\t\\n\\t\\t\\t\\t\\t\\t\\t\\t\\t\\n\\t\\t\\t\\t\\t\\t\\t\\t\\t\\n\\t\\t\\t\\t\\t\\t\\t\\t\\n\\t\\t\\t\\t\\t\\t\\t</div>\\n\\t\\t\\t\\t\\t\\t</div>\\n\\t\\t\\t\\t\\t\\n\\t\\t\\t\\t\\t\\t\\n\\t\\t\\t\\t\\t\\t\\n\\t\\t\\t\\t\\t\\t\\n\\t\\t\\t\\t\\t\\t\\t\\n\\t\\t\\t\\t\\t\\t\\n\\t\\t\\t\\t\\t\\t\\n\\t\\t\\t\\t\\t\\n\\t\\t\\t\\t\\t\\t<div class=\"area \" data-car-seq=\"22618741\" style=\"height: 435px;\">\\n\\t\\t\\t\\t\\t\\t\\t\\n\\t\\t\\t\\t\\t\\t\\t\\t\\n\\t\\t\\t\\t\\t\\t\\t\\t\\n\\t\\t\\t\\t\\t\\t\\t\\t\\t\\n\\t\\t\\t\\t\\t\\t\\t\\t\\t<span class=\"bbadge bbadge-category bbadge-diagnosis\"><span class=\"bbadge-category__prefix\">KB</span>진단</span>\\n\\t\\t\\t\\t\\t\\t\\t\\t\\n\\t\\t\\t\\t\\t\\t\\t\\t\\n\\t\\t\\t\\t\\t\\t\\t\\t\\n\\t\\t\\t\\t\\t\\t\\t\\n\\t\\t\\t\\t\\t\\t\\t<div class=\"thumnail owl-carousel swiper-area06\" style=\"display: block;\">\\n\\t\\t\\t\\t\\t\\t\\t\\t<a href=\"/public/car/detail.kbc?carSeq=22618741\" class=\"item\" target=\"_blank\">\\n\\t\\t\\t\\t\\t\\t\\t\\t\\t<span class=\"item__img\">\\n\\t\\t\\t\\t\\t\\t\\t\\t\\t\\t<img alt=\"\" src=\"https://img.kbchachacha.com/IMG/carimg/l/img01/img2261/22618741_4097097744191983.jpg?width=720\" onerror=\"this.src=\\'/images/common/noimage.jpg\\';\">\\n\\t\\t\\t\\t\\t\\t\\t\\t\\t</span>\\n\\t\\t\\t\\t\\t\\t\\t\\t</a>\\n\\t\\t\\t\\t\\t\\t\\t\\t<a href=\"/public/car/detail.kbc?carSeq=22618741\" class=\"item\" target=\"_blank\" style=\"display: none;\">\\n\\t\\t\\t\\t\\t\\t\\t\\t\\t<span class=\"item__img\">\\n\\t\\t\\t\\t\\t\\t\\t\\t\\t\\t<img alt=\"\" src=\"https://img.kbchachacha.com/IMG/carimg/l/img01/img2261/22618741_4097096403383905.jpg?width=720\" onerror=\"this.src=\\'/images/common/noimage.jpg\\';\">\\n\\t\\t\\t\\t\\t\\t\\t\\t\\t</span>\\n\\t\\t\\t\\t\\t\\t\\t\\t</a>\\n\\t\\t\\t\\t\\t\\t\\t\\t<a href=\"/public/car/detail.kbc?carSeq=22618741\" class=\"item\" target=\"_blank\" style=\"display: none;\">\\n\\t\\t\\t\\t\\t\\t\\t\\t\\t<span class=\"item__img\">\\n\\t\\t\\t\\t\\t\\t\\t\\t\\t\\t<img alt=\"\" src=\"https://img.kbchachacha.com/IMG/carimg/l/img01/img2261/22618741_4097097888227371.jpg?width=720\" onerror=\"this.src=\\'/images/common/noimage.jpg\\';\">\\n\\t\\t\\t\\t\\t\\t\\t\\t\\t</span>\\n\\t\\t\\t\\t\\t\\t\\t\\t</a>\\n\\t\\t\\t\\t\\t\\t\\t</div>\\n\\t\\t\\t\\t\\t\\t\\t\\n\\t\\t\\t\\t\\t\\t\\t<div class=\"con owl-carousel swiper-area06\" style=\"display: block;\">\\n\\t\\t\\t\\t\\t\\t\\t\\t<div class=\"item\">\\n\\t\\t\\t\\t\\t\\t\\t\\t\\t<a href=\"/public/car/detail.kbc?carSeq=22618741\" class=\"link\" target=\"_blank\">\\n\\t\\t\\t\\t\\t\\t\\t\\t\\t\\t<strong class=\"tit\">\\n\\t\\t\\t\\t\\t\\t\\t\\t\\t\\t\\t\\n\\t\\t\\t\\t\\t\\t\\t\\t\\t\\t\\t\\n\\t\\t\\t\\t\\t\\t\\t\\t\\t\\t\\t<span class=\"bbadge bbadge-service-small bbadge-stock\">실차주</span>\\n\\t\\t\\t\\t\\t\\t\\t\\t\\t\\t\\t\\n\\t\\t\\t\\t\\t\\t\\t\\t\\t\\t\\t\\n\\t\\t\\t\\t\\t\\t\\t\\t\\t\\t\\t\\n\\t\\t\\t\\t\\t\\t\\t\\t\\t\\t\\t기아 스포티지 4세대 디젤 1.7 2WD 노블레스 \\n\\t\\t\\t\\t\\t\\t\\t\\t\\t\\t</strong>\\n\\t\\t\\t\\t\\t\\t\\t\\t\\t\\t<div class=\"data-line tp03\">\\n\\t\\t\\t\\t\\t\\t\\t\\t\\t\\t\\t<div class=\"first\">2016년 04월 (16년식)</div>\\n\\t\\t\\t\\t\\t\\t\\t\\t\\t\\t\\t<div class=\"data-in\">\\n\\t\\t\\t\\t\\t\\t\\t\\t\\t\\t\\t\\t<span>69,424km</span>\\n\\t\\t\\t\\t\\t\\t\\t\\t\\t\\t\\t\\t<span>대전</span>\\n\\t\\t\\t\\t\\t\\t\\t\\t\\t\\t\\t</div>\\n\\t\\t\\t\\t\\t\\t\\t\\t\\t\\t</div>\\n\\t\\t\\t\\t\\t\\t\\t\\t\\t\\t<strong class=\"pay\">\\n\\t\\t\\t\\t\\t\\t\\t\\t\\t\\t\\t\\n\\t\\t\\t\\t\\t\\t\\t\\t\\t\\t\\t\\t\\n\\t\\t\\t\\t\\t\\t\\t\\t\\t\\t\\t\\t\\t1,670<span>만원</span>\\n\\t\\t\\t\\t\\t\\t\\t\\t\\t\\t\\t\\t\\n\\t\\t\\t\\t\\t\\t\\t\\t\\t\\t\\t\\t\\n\\t\\t\\t\\t\\t\\t\\t\\t\\t\\t\\t\\t\\n\\t\\t\\t\\t\\t\\t\\t\\t\\t\\t\\t\\n\\t\\t\\t\\t\\t\\t\\t\\t\\t\\t</strong>\\n\\t\\t\\t\\t\\t\\t\\t\\t\\t</a>\\n\\t\\t\\t\\t\\t\\t\\t\\t\\t\\n\\t\\t\\t\\t\\t\\t\\t\\t\\t<div class=\"sort-wrap\">\\n\\t\\t\\t\\t\\t\\t\\t\\t\\t\\t<div class=\"ck-wrap ck-tp02\">\\n\\t\\t\\t\\t\\t\\t\\t\\t\\t\\t\\t<button type=\"button\" class=\"lc-btn like ck-item  __wish\" data-car-seq=\"22618741\">\\n\\t\\t\\t\\t\\t\\t\\t\\t\\t\\t\\t\\t<span class=\"blind\">좋아요</span>\\n\\t\\t\\t\\t\\t\\t\\t\\t\\t\\t\\t</button>\\n\\t\\t\\t\\t\\t\\t\\t\\t\\t\\t\\t<!-- ck-on  onclick=\"common.popSh04(\\'popup0401\\')\" -->\\n\\t\\t\\t\\t\\t\\t\\t\\t\\t\\t\\t<button type=\"button\" class=\"lc-btn cpr ck-item  __compare\" data-car-seq=\"22618741\">\\n\\t\\t\\t\\t\\t\\t\\t\\t\\t\\t\\t\\t<span class=\"blind\">비교하기</span>\\n\\t\\t\\t\\t\\t\\t\\t\\t\\t\\t\\t</button>\\n\\t\\t\\t\\t\\t\\t\\t\\t\\t\\t</div>\\n\\t\\t\\t\\t\\t\\t\\t\\t\\t</div>\\n\\t\\t\\t\\t\\t\\t\\t\\t</div>\\n\\t\\t\\t\\t\\t\\t\\t\\t\\n\\t\\t\\t\\t\\t\\t\\t\\t\\t<div class=\"item mid-tp\" style=\"display: none;\">\\n\\t\\t\\t\\t\\t\\t\\t\\t\\t\\t<a href=\"/public/car/detail.kbc?carSeq=22618741\" class=\"link bg-blue\" target=\"_blank\">\\n\\t\\t\\t\\t\\t\\t\\t\\t\\t\\t\\t<div class=\"mid-box\">\\n\\t\\t\\t\\t\\t\\t\\t\\t\\t\\t\\t\\t<div class=\"sp-rd-img\">\\n\\t\\t\\t\\t\\t\\t\\t\\t\\t\\t\\t\\t\\t<span class=\"img\">\\n\\t\\t\\t\\t\\t\\t\\t\\t\\t\\t\\t\\t\\t\\t\\n\\t\\t\\t\\t\\t\\t\\t\\t\\t\\t\\t\\t\\t\\t\\t\\n\\t\\t\\t\\t\\t\\t\\t\\t\\t\\t\\t\\t\\t\\t\\t\\n\\t\\t\\t\\t\\t\\t\\t\\t\\t\\t\\t\\t\\t\\t\\t\\t<img src=\"/images/common/no_img_dealer_30_m.png\" alt=\"\">\\n\\t\\t\\t\\t\\t\\t\\t\\t\\t\\t\\t\\t\\t\\t\\t\\n\\t\\t\\t\\t\\t\\t\\t\\t\\t\\t\\t\\t\\t\\t\\n\\t\\t\\t\\t\\t\\t\\t\\t\\t\\t\\t\\t\\t</span>\\n\\t\\t\\t\\t\\t\\t\\t\\t\\t\\t\\t\\t\\t<span class=\"ft-md\">실차주</span> 차량입니다.\\n\\t\\t\\t\\t\\t\\t\\t\\t\\t\\t\\t\\t</div>\\n\\t\\t\\t\\t\\t\\t\\t\\t\\t\\t\\t</div>\\n\\t\\t\\t\\t\\t\\t\\t\\t\\t\\t</a>\\n\\t\\t\\t\\t\\t\\t\\t\\t\\t</div>\\n\\t\\t\\t\\t\\t\\t\\t\\t\\n\\t\\t\\t\\t\\t\\t\\t\\t<div class=\"item mid-tp\" style=\"display: none;\">\\n\\t\\t\\t\\t\\t\\t\\t\\t\\t<a href=\"/public/car/detail.kbc?carSeq=22618741\" class=\"link bg-blue\" target=\"_blank\">\\n\\t\\t\\t\\t\\t\\t\\t\\t\\t\\t<div class=\"mid-box\">\\n\\t\\t\\t\\t\\t\\t\\t\\t\\t\\t\\t<div class=\"sp-rd-acc\">\\n\\t\\t\\t\\t\\t\\t\\t\\t\\t\\t\\t\\t\\n\\t\\t\\t\\t\\t\\t\\t\\t\\t\\t\\t\\t\\t\\n\\t\\t\\t\\t\\t\\t\\t\\t\\t\\t\\t\\t\\t\\n\\t\\t\\t\\t\\t\\t\\t\\t\\t\\t\\t\\t\\t\\t<span class=\"num\">2</span> <span class=\"ft-md\">사고이력이 있습니다.</span>\\n\\t\\t\\t\\t\\t\\t\\t\\t\\t\\t\\t\\t\\t\\n\\t\\t\\t\\t\\t\\t\\t\\t\\t\\t\\t\\t\\n\\t\\t\\t\\t\\t\\t\\t\\t\\t\\t\\t</div>\\n\\t\\t\\t\\t\\t\\t\\t\\t\\t\\t</div>\\n\\t\\t\\t\\t\\t\\t\\t\\t\\t</a>\\n\\t\\t\\t\\t\\t\\t\\t\\t</div>\\n\\t\\t\\t\\t\\t\\t\\t\\t\\n\\t\\t\\t\\t\\t\\t\\t\\t\\t<div class=\"item mid-tp\" style=\"display: none;\">\\n\\t\\t\\t\\t\\t\\t\\t\\t\\t\\t<a href=\"/public/car/detail.kbc?carSeq=22618741\" class=\"link\" target=\"_blank\">\\n\\t\\t\\t\\t\\t\\t\\t\\t\\t\\t\\t<div class=\"mid-box\">\\n\\t\\t\\t\\t\\t\\t\\t\\t\\t\\t\\t\\t<div class=\"gua-list\">\\n\\t\\t\\t\\t\\t\\t\\t\\t\\t\\t\\t\\t\\t<ul>\\n\\t\\t\\t\\t\\t\\t\\t\\t\\t\\t\\t\\t\\t\\t<li class=\"\">연장보증</li>\\n\\t\\t\\t\\t\\t\\t\\t\\t\\t\\t\\t\\t\\t\\t<li class=\"on\">헛걸음보상</li>\\n\\t\\t\\t\\t\\t\\t\\t\\t\\t\\t\\t\\t\\t\\t\\n\\t\\t\\t\\t\\t\\t\\t\\t\\t\\t\\t\\t\\t\\t\\n\\t\\t\\t\\t\\t\\t\\t\\t\\t\\t\\t\\t\\t\\t\\t<li class=\"\">KB안심리스</li>\\n\\t\\t\\t\\t\\t\\t\\t\\t\\t\\t\\t\\t\\t\\t\\n\\t\\t\\t\\t\\t\\t\\t\\t\\t\\t\\t\\t\\t</ul>\\n\\t\\t\\t\\t\\t\\t\\t\\t\\t\\t\\t\\t</div>\\n\\t\\t\\t\\t\\t\\t\\t\\t\\t\\t\\t\\t<div class=\"sp-txt01\">\\n\\t\\t\\t\\t\\t\\t\\t\\t\\t\\t\\t\\t\\t<span class=\"cor-blue ft-bd\">보증</span> 가능합니다\\n\\t\\t\\t\\t\\t\\t\\t\\t\\t\\t\\t\\t</div>\\n\\t\\t\\t\\t\\t\\t\\t\\t\\t\\t\\t</div>\\n\\t\\t\\t\\t\\t\\t\\t\\t\\t\\t</a>\\n\\t\\t\\t\\t\\t\\t\\t\\t\\t</div>\\n\\t\\t\\t\\t\\t\\t\\t\\t\\n\\t\\t\\t\\t\\t\\t\\t\\t\\n\\t\\t\\t\\t\\t\\t\\t\\t\\n\\t\\t\\t\\t\\t\\t\\t\\t\\t\\n\\t\\t\\t\\t\\t\\t\\t\\t\\t\\n\\t\\t\\t\\t\\t\\t\\t\\t\\n\\t\\t\\t\\t\\t\\t\\t</div>\\n\\t\\t\\t\\t\\t\\t</div>\\n\\t\\t\\t\\t\\t\\n\\t\\t\\t\\n\\t\\t\\t\\t\\t\\n\\t\\t\\t\\t\\t\\t<div class=\"area\" id=\"themeBanner1\" style=\"height: 435px;\">\\n\\t\\t\\t\\t\\t\\t\\t<div class=\"thumnail\">\\n\\t\\t\\t\\t\\t\\t\\t\\t<span class=\"item\"></span>\\n\\t\\t\\t\\t\\t\\t\\t</div>\\n\\t\\t\\t\\t\\t\\t\\t<div class=\"con\">\\n\\t\\t\\t\\t\\t\\t\\t\\t<div class=\"item\"></div>\\n\\t\\t\\t\\t\\t\\t\\t</div>\\n\\t\\t\\t\\t\\t\\t\\t<img src=\"https://img.kbchachacha.com/IMG/banner/120/1009703561674927.png\" alt=\"\" class=\"link-img\">\\n\\t\\t\\t\\t\\t\\t\\t\\n\\t\\t\\t\\t\\t\\t</div>\\n\\t\\t\\t\\t\\t\\n\\t\\t\\t\\t</div>\\n\\t\\t\\t</div>\\n\\t\\t\\t<!-- //우대등록 -->\\n\\t\\t\\n\\t\\t<!-- //우대 -->\\n\\n\\n\\t\\t<!-- 추천매물 -->\\n\\t\\t\\n\\t\\t\\t<!-- 추천매물 -->\\n\\t\\t\\t<div class=\"cs-list02 cs-list02--ratio wd-change mg-b50\">\\n\\t\\t\\t\\t<div class=\"csTitleArea\">\\n\\t\\t\\t\\t\\t<h2 class=\"title\">추천 매물</h2>\\n\\t\\t\\t\\t</div>\\n\\t\\t\\t\\t<div class=\"list-in\">\\n\\t\\t\\t\\t\\t\\n\\t\\t\\n\\t\\t\\t\\t\\t\\n\\t\\t\\t\\t\\t\\t\\n\\t\\t\\t\\t\\t\\t\\n\\t\\t\\t\\t\\t\\t\\n\\t\\t\\t\\t\\t\\t    \\n\\t\\t\\t\\t\\t\\t\\n\\t\\t\\t\\t\\t\\t\\n\\t\\t\\t\\t\\t\\t\\n\\t\\t\\t\\t\\t\\t<div class=\"area \" data-car-seq=\"23067849\" style=\"height: 435px;\">\\n\\t\\t\\t\\t\\t\\t\\t\\n\\t\\t\\t\\t\\t\\t\\t\\t\\n\\t\\t\\t\\t\\t\\t\\t\\t\\n\\t\\t\\t\\t\\t\\t\\t\\t\\n\\t\\t\\t\\t\\t\\t\\t\\t\\n\\t\\t\\t\\t\\t\\t\\t\\n\\t\\t\\t\\t\\t\\t\\t<div class=\"thumnail owl-carousel swiper-area06\" style=\"display: block;\">\\n\\t\\t\\t\\t\\t\\t\\t\\t<a href=\"/public/car/detail.kbc?carSeq=23067849\" class=\"item\" target=\"_blank\">\\n\\t\\t\\t\\t\\t\\t\\t\\t\\t<span class=\"item__img\">\\n\\t\\t\\t\\t\\t\\t\\t\\t\\t\\t<img alt=\"\" src=\"https://img.kbchachacha.com/IMG/carimg/l/img06/img2306/23067849_10586854217697985.jpg?width=720\" onerror=\"this.src=\\'/images/common/noimage.jpg\\';\">\\n\\t\\t\\t\\t\\t\\t\\t\\t\\t</span>\\n\\t\\t\\t\\t\\t\\t\\t\\t</a>\\n\\t\\t\\t\\t\\t\\t\\t\\t<a href=\"/public/car/detail.kbc?carSeq=23067849\" class=\"item\" target=\"_blank\" style=\"display: none;\">\\n\\t\\t\\t\\t\\t\\t\\t\\t\\t<span class=\"item__img\">\\n\\t\\t\\t\\t\\t\\t\\t\\t\\t\\t<img alt=\"\" src=\"https://img.kbchachacha.com/IMG/carimg/l/img06/img2306/23067849_10586854389361842.jpg?width=720\" onerror=\"this.src=\\'/images/common/noimage.jpg\\';\">\\n\\t\\t\\t\\t\\t\\t\\t\\t\\t</span>\\n\\t\\t\\t\\t\\t\\t\\t\\t</a>\\n\\t\\t\\t\\t\\t\\t\\t\\t<a href=\"/public/car/detail.kbc?carSeq=23067849\" class=\"item\" target=\"_blank\" style=\"display: none;\">\\n\\t\\t\\t\\t\\t\\t\\t\\t\\t<span class=\"item__img\">\\n\\t\\t\\t\\t\\t\\t\\t\\t\\t\\t<img alt=\"\" src=\"https://img.kbchachacha.com/IMG/carimg/l/img06/img2306/23067849_10586854562323276.jpg?width=720\" onerror=\"this.src=\\'/images/common/noimage.jpg\\';\">\\n\\t\\t\\t\\t\\t\\t\\t\\t\\t</span>\\n\\t\\t\\t\\t\\t\\t\\t\\t</a>\\n\\t\\t\\t\\t\\t\\t\\t</div>\\n\\t\\t\\t\\t\\t\\t\\t\\n\\t\\t\\t\\t\\t\\t\\t<div class=\"con owl-carousel swiper-area06\" style=\"display: block;\">\\n\\t\\t\\t\\t\\t\\t\\t\\t<div class=\"item\">\\n\\t\\t\\t\\t\\t\\t\\t\\t\\t<a href=\"/public/car/detail.kbc?carSeq=23067849\" class=\"link\" target=\"_blank\">\\n\\t\\t\\t\\t\\t\\t\\t\\t\\t\\t<strong class=\"tit\">\\n\\t\\t\\t\\t\\t\\t\\t\\t\\t\\t\\t\\n\\t\\t\\t\\t\\t\\t\\t\\t\\t\\t\\t\\n\\t\\t\\t\\t\\t\\t\\t\\t\\t\\t\\t\\n\\t\\t\\t\\t\\t\\t\\t\\t\\t\\t\\t\\n\\t\\t\\t\\t\\t\\t\\t\\t\\t\\t\\t기아 all new 모닝 스마트 \\n\\t\\t\\t\\t\\t\\t\\t\\t\\t\\t</strong>\\n\\t\\t\\t\\t\\t\\t\\t\\t\\t\\t<div class=\"data-line tp03\">\\n\\t\\t\\t\\t\\t\\t\\t\\t\\t\\t\\t<div class=\"first\">2011년 12월 (12년식)</div>\\n\\t\\t\\t\\t\\t\\t\\t\\t\\t\\t\\t<div class=\"data-in\">\\n\\t\\t\\t\\t\\t\\t\\t\\t\\t\\t\\t\\t<span>116,234km</span>\\n\\t\\t\\t\\t\\t\\t\\t\\t\\t\\t\\t\\t<span>경남</span>\\n\\t\\t\\t\\t\\t\\t\\t\\t\\t\\t\\t</div>\\n\\t\\t\\t\\t\\t\\t\\t\\t\\t\\t</div>\\n\\t\\t\\t\\t\\t\\t\\t\\t\\t\\t<strong class=\"pay\">\\n\\t\\t\\t\\t\\t\\t\\t\\t\\t\\t\\t\\n\\t\\t\\t\\t\\t\\t\\t\\t\\t\\t\\t\\t\\n\\t\\t\\t\\t\\t\\t\\t\\t\\t\\t\\t\\t\\t450만원\\n\\t\\t\\t\\t\\t\\t\\t\\t\\t\\t\\t\\t\\n\\t\\t\\t\\t\\t\\t\\t\\t\\t\\t\\t\\t\\n\\t\\t\\t\\t\\t\\t\\t\\t\\t\\t\\t\\t\\n\\t\\t\\t\\t\\t\\t\\t\\t\\t\\t\\t\\n\\t\\t\\t\\t\\t\\t\\t\\t\\t\\t</strong>\\n\\t\\t\\t\\t\\t\\t\\t\\t\\t</a>\\n\\t\\t\\t\\t\\t\\t\\t\\t\\t\\n\\t\\t\\t\\t\\t\\t\\t\\t\\t\\t<div class=\"cor-btn\">\\n\\t\\t\\t\\t\\t\\t\\t\\t\\t\\t\\t\\n\\t\\t\\t\\t\\t\\t\\t\\t\\t\\t\\t    <span class=\"bbadge bbadge-service bbadge-compensation\">헛걸음보상</span>\\n\\t\\t\\t\\t\\t\\t\\t\\t\\t\\t\\t\\n\\t\\t\\t\\t\\t\\t\\t\\t\\t\\t\\t\\n\\t\\t\\t\\t\\t\\t\\t\\t\\t\\t</div>\\n\\t\\t\\t\\t\\t\\t\\t\\t\\t\\n\\t\\t\\t\\t\\t\\t\\t\\t\\t<div class=\"sort-wrap\">\\n\\t\\t\\t\\t\\t\\t\\t\\t\\t\\t<div class=\"ck-wrap ck-tp02\">\\n\\t\\t\\t\\t\\t\\t\\t\\t\\t\\t\\t<button type=\"button\" class=\"lc-btn like ck-item  __wish\" data-car-seq=\"23067849\">\\n\\t\\t\\t\\t\\t\\t\\t\\t\\t\\t\\t\\t<span class=\"blind\">좋아요</span>\\n\\t\\t\\t\\t\\t\\t\\t\\t\\t\\t\\t</button>\\n\\t\\t\\t\\t\\t\\t\\t\\t\\t\\t\\t<button type=\"button\" class=\"lc-btn cpr ck-item  __compare\" data-car-seq=\"23067849\">\\n\\t\\t\\t\\t\\t\\t\\t\\t\\t\\t\\t\\t<span class=\"blind\">비교하기</span>\\n\\t\\t\\t\\t\\t\\t\\t\\t\\t\\t\\t</button>\\n\\t\\t\\t\\t\\t\\t\\t\\t\\t\\t</div>\\n\\t\\t\\t\\t\\t\\t\\t\\t\\t</div>\\n\\t\\t\\t\\t\\t\\t\\t\\t</div>\\n\\t\\t\\t\\t\\t\\t\\t\\t\\n\\t\\t\\t\\t\\t\\t\\t\\t<div class=\"item mid-tp\" style=\"display: none;\">\\n\\t\\t\\t\\t\\t\\t\\t\\t\\t<a href=\"/public/car/detail.kbc?carSeq=23067849\" class=\"link bg-blue\" target=\"_blank\">\\n\\t\\t\\t\\t\\t\\t\\t\\t\\t\\t<div class=\"mid-box\">\\n\\t\\t\\t\\t\\t\\t\\t\\t\\t\\t\\t<div class=\"sp-rd-acc\">\\n\\t\\t\\t\\t\\t\\t\\t\\t\\t\\t\\t\\t\\n\\t\\t\\t\\t\\t\\t\\t\\t\\t\\t\\t\\t\\t\\n\\t\\t\\t\\t\\t\\t\\t\\t\\t\\t\\t\\t\\t\\n\\t\\t\\t\\t\\t\\t\\t\\t\\t\\t\\t\\t\\t\\t<span class=\"num\">3</span> <span class=\"ft-md\">사고이력이 있습니다.</span>\\n\\t\\t\\t\\t\\t\\t\\t\\t\\t\\t\\t\\t\\t\\n\\t\\t\\t\\t\\t\\t\\t\\t\\t\\t\\t\\t\\n\\t\\t\\t\\t\\t\\t\\t\\t\\t\\t\\t</div>\\n\\t\\t\\t\\t\\t\\t\\t\\t\\t\\t</div>\\n\\t\\t\\t\\t\\t\\t\\t\\t\\t</a>\\n\\t\\t\\t\\t\\t\\t\\t\\t</div>\\n\\t\\t\\t\\t\\t\\t\\t\\t\\n\\t\\t\\t\\t\\t\\t\\t\\t\\t<div class=\"item mid-tp\" style=\"display: none;\">\\n\\t\\t\\t\\t\\t\\t\\t\\t\\t\\t<a href=\"/public/car/detail.kbc?carSeq=23067849\" class=\"link\" target=\"_blank\">\\n\\t\\t\\t\\t\\t\\t\\t\\t\\t\\t\\t<div class=\"mid-box\">\\n\\t\\t\\t\\t\\t\\t\\t\\t\\t\\t\\t\\t<div class=\"gua-list\">\\n\\t\\t\\t\\t\\t\\t\\t\\t\\t\\t\\t\\t\\t<ul>\\n\\t\\t\\t\\t\\t\\t\\t\\t\\t\\t\\t\\t\\t\\t<li class=\"\">연장보증</li>\\n\\t\\t\\t\\t\\t\\t\\t\\t\\t\\t\\t\\t\\t\\t<li class=\"on\">헛걸음보상</li>\\n\\t\\t\\t\\t\\t\\t\\t\\t\\t\\t\\t\\t\\t\\t\\n\\t\\t\\t\\t\\t\\t\\t\\t\\t\\t\\t\\t\\t\\t\\n\\t\\t\\t\\t\\t\\t\\t\\t\\t\\t\\t\\t\\t\\t\\t<li class=\"\">KB안심리스</li>\\n\\t\\t\\t\\t\\t\\t\\t\\t\\t\\t\\t\\t\\t\\t\\n\\t\\t\\t\\t\\t\\t\\t\\t\\t\\t\\t\\t\\t</ul>\\n\\t\\t\\t\\t\\t\\t\\t\\t\\t\\t\\t\\t</div>\\n\\t\\t\\t\\t\\t\\t\\t\\t\\t\\t\\t\\t<div class=\"sp-txt01\">\\n\\t\\t\\t\\t\\t\\t\\t\\t\\t\\t\\t\\t\\t<span class=\"cor-blue ft-bd\">보증</span> 가능합니다\\n\\t\\t\\t\\t\\t\\t\\t\\t\\t\\t\\t\\t</div>\\n\\t\\t\\t\\t\\t\\t\\t\\t\\t\\t\\t</div>\\n\\t\\t\\t\\t\\t\\t\\t\\t\\t\\t</a>\\n\\t\\t\\t\\t\\t\\t\\t\\t\\t</div>\\n\\t\\t\\t\\t\\t\\t\\t\\t\\n\\t\\t\\t\\t\\t\\t\\t\\t\\n\\t\\t\\t\\t\\t\\t\\t\\t\\n\\t\\t\\t\\t\\t\\t\\t\\t\\t\\n\\t\\t\\t\\t\\t\\t\\t\\t\\t\\n\\t\\t\\t\\t\\t\\t\\t\\t\\n\\t\\t\\t\\t\\t\\t\\t</div>\\n\\t\\t\\t\\t\\t\\t</div>\\n\\t\\t\\t\\t\\t\\n\\t\\t\\t\\t\\t\\t\\n\\t\\t\\t\\t\\t\\t\\n\\t\\t\\t\\t\\t\\t\\n\\t\\t\\t\\t\\t\\t    \\n\\t\\t\\t\\t\\t\\t\\n\\t\\t\\t\\t\\t\\t\\n\\t\\t\\t\\t\\t\\t\\n\\t\\t\\t\\t\\t\\t<div class=\"area \" data-car-seq=\"23108861\" style=\"height: 435px;\">\\n\\t\\t\\t\\t\\t\\t\\t\\n\\t\\t\\t\\t\\t\\t\\t\\t\\n\\t\\t\\t\\t\\t\\t\\t\\t\\n\\t\\t\\t\\t\\t\\t\\t\\t\\n\\t\\t\\t\\t\\t\\t\\t\\t\\n\\t\\t\\t\\t\\t\\t\\t\\n\\t\\t\\t\\t\\t\\t\\t<div class=\"thumnail owl-carousel swiper-area06\" style=\"display: block;\">\\n\\t\\t\\t\\t\\t\\t\\t\\t<a href=\"/public/car/detail.kbc?carSeq=23108861\" class=\"item\" target=\"_blank\">\\n\\t\\t\\t\\t\\t\\t\\t\\t\\t<span class=\"item__img\">\\n\\t\\t\\t\\t\\t\\t\\t\\t\\t\\t<img alt=\"\" src=\"https://img.kbchachacha.com/IMG/carimg/l/img10/img2310/23108861_11458417552449192.jpg?width=720\" onerror=\"this.src=\\'/images/common/noimage.jpg\\';\">\\n\\t\\t\\t\\t\\t\\t\\t\\t\\t</span>\\n\\t\\t\\t\\t\\t\\t\\t\\t</a>\\n\\t\\t\\t\\t\\t\\t\\t\\t<a href=\"/public/car/detail.kbc?carSeq=23108861\" class=\"item\" target=\"_blank\" style=\"display: none;\">\\n\\t\\t\\t\\t\\t\\t\\t\\t\\t<span class=\"item__img\">\\n\\t\\t\\t\\t\\t\\t\\t\\t\\t\\t<img alt=\"\" src=\"https://img.kbchachacha.com/IMG/carimg/l/img10/img2310/23108861_11458417687997101.jpg?width=720\" onerror=\"this.src=\\'/images/common/noimage.jpg\\';\">\\n\\t\\t\\t\\t\\t\\t\\t\\t\\t</span>\\n\\t\\t\\t\\t\\t\\t\\t\\t</a>\\n\\t\\t\\t\\t\\t\\t\\t\\t<a href=\"/public/car/detail.kbc?carSeq=23108861\" class=\"item\" target=\"_blank\" style=\"display: none;\">\\n\\t\\t\\t\\t\\t\\t\\t\\t\\t<span class=\"item__img\">\\n\\t\\t\\t\\t\\t\\t\\t\\t\\t\\t<img alt=\"\" src=\"https://img.kbchachacha.com/IMG/carimg/l/img10/img2310/23108861_11458417796861196.jpg?width=720\" onerror=\"this.src=\\'/images/common/noimage.jpg\\';\">\\n\\t\\t\\t\\t\\t\\t\\t\\t\\t</span>\\n\\t\\t\\t\\t\\t\\t\\t\\t</a>\\n\\t\\t\\t\\t\\t\\t\\t</div>\\n\\t\\t\\t\\t\\t\\t\\t\\n\\t\\t\\t\\t\\t\\t\\t<div class=\"con owl-carousel swiper-area06\" style=\"display: block;\">\\n\\t\\t\\t\\t\\t\\t\\t\\t<div class=\"item\">\\n\\t\\t\\t\\t\\t\\t\\t\\t\\t<a href=\"/public/car/detail.kbc?carSeq=23108861\" class=\"link\" target=\"_blank\">\\n\\t\\t\\t\\t\\t\\t\\t\\t\\t\\t<strong class=\"tit\">\\n\\t\\t\\t\\t\\t\\t\\t\\t\\t\\t\\t\\n\\t\\t\\t\\t\\t\\t\\t\\t\\t\\t\\t\\n\\t\\t\\t\\t\\t\\t\\t\\t\\t\\t\\t\\n\\t\\t\\t\\t\\t\\t\\t\\t\\t\\t\\t\\n\\t\\t\\t\\t\\t\\t\\t\\t\\t\\t\\t현대 싼타페 TM 가솔린 2.0T 4WD 인스퍼레이션\\n\\t\\t\\t\\t\\t\\t\\t\\t\\t\\t</strong>\\n\\t\\t\\t\\t\\t\\t\\t\\t\\t\\t<div class=\"data-line tp03\">\\n\\t\\t\\t\\t\\t\\t\\t\\t\\t\\t\\t<div class=\"first\">2019년 10월 (20년식)</div>\\n\\t\\t\\t\\t\\t\\t\\t\\t\\t\\t\\t<div class=\"data-in\">\\n\\t\\t\\t\\t\\t\\t\\t\\t\\t\\t\\t\\t<span>69,504km</span>\\n\\t\\t\\t\\t\\t\\t\\t\\t\\t\\t\\t\\t<span>대구</span>\\n\\t\\t\\t\\t\\t\\t\\t\\t\\t\\t\\t</div>\\n\\t\\t\\t\\t\\t\\t\\t\\t\\t\\t</div>\\n\\t\\t\\t\\t\\t\\t\\t\\t\\t\\t<strong class=\"pay\">\\n\\t\\t\\t\\t\\t\\t\\t\\t\\t\\t\\t\\n\\t\\t\\t\\t\\t\\t\\t\\t\\t\\t\\t\\t\\n\\t\\t\\t\\t\\t\\t\\t\\t\\t\\t\\t\\t\\t3,230만원\\n\\t\\t\\t\\t\\t\\t\\t\\t\\t\\t\\t\\t\\n\\t\\t\\t\\t\\t\\t\\t\\t\\t\\t\\t\\t\\n\\t\\t\\t\\t\\t\\t\\t\\t\\t\\t\\t\\t\\n\\t\\t\\t\\t\\t\\t\\t\\t\\t\\t\\t\\n\\t\\t\\t\\t\\t\\t\\t\\t\\t\\t</strong>\\n\\t\\t\\t\\t\\t\\t\\t\\t\\t</a>\\n\\t\\t\\t\\t\\t\\t\\t\\t\\t\\n\\t\\t\\t\\t\\t\\t\\t\\t\\t\\t<div class=\"cor-btn\">\\n\\t\\t\\t\\t\\t\\t\\t\\t\\t\\t\\t\\n\\t\\t\\t\\t\\t\\t\\t\\t\\t\\t\\t    <span class=\"bbadge bbadge-service bbadge-compensation\">헛걸음보상</span>\\n\\t\\t\\t\\t\\t\\t\\t\\t\\t\\t\\t\\n\\t\\t\\t\\t\\t\\t\\t\\t\\t\\t\\t\\n\\t\\t\\t\\t\\t\\t\\t\\t\\t\\t</div>\\n\\t\\t\\t\\t\\t\\t\\t\\t\\t\\n\\t\\t\\t\\t\\t\\t\\t\\t\\t<div class=\"sort-wrap\">\\n\\t\\t\\t\\t\\t\\t\\t\\t\\t\\t<div class=\"ck-wrap ck-tp02\">\\n\\t\\t\\t\\t\\t\\t\\t\\t\\t\\t\\t<button type=\"button\" class=\"lc-btn like ck-item  __wish\" data-car-seq=\"23108861\">\\n\\t\\t\\t\\t\\t\\t\\t\\t\\t\\t\\t\\t<span class=\"blind\">좋아요</span>\\n\\t\\t\\t\\t\\t\\t\\t\\t\\t\\t\\t</button>\\n\\t\\t\\t\\t\\t\\t\\t\\t\\t\\t\\t<button type=\"button\" class=\"lc-btn cpr ck-item  __compare\" data-car-seq=\"23108861\">\\n\\t\\t\\t\\t\\t\\t\\t\\t\\t\\t\\t\\t<span class=\"blind\">비교하기</span>\\n\\t\\t\\t\\t\\t\\t\\t\\t\\t\\t\\t</button>\\n\\t\\t\\t\\t\\t\\t\\t\\t\\t\\t</div>\\n\\t\\t\\t\\t\\t\\t\\t\\t\\t</div>\\n\\t\\t\\t\\t\\t\\t\\t\\t</div>\\n\\t\\t\\t\\t\\t\\t\\t\\t\\n\\t\\t\\t\\t\\t\\t\\t\\t<div class=\"item mid-tp\" style=\"display: none;\">\\n\\t\\t\\t\\t\\t\\t\\t\\t\\t<a href=\"/public/car/detail.kbc?carSeq=23108861\" class=\"link bg-blue\" target=\"_blank\">\\n\\t\\t\\t\\t\\t\\t\\t\\t\\t\\t<div class=\"mid-box\">\\n\\t\\t\\t\\t\\t\\t\\t\\t\\t\\t\\t<div class=\"sp-rd-acc\">\\n\\t\\t\\t\\t\\t\\t\\t\\t\\t\\t\\t\\t\\n\\t\\t\\t\\t\\t\\t\\t\\t\\t\\t\\t\\t\\t\\n\\t\\t\\t\\t\\t\\t\\t\\t\\t\\t\\t\\t\\t\\n\\t\\t\\t\\t\\t\\t\\t\\t\\t\\t\\t\\t\\t\\t<span class=\"num\">2</span> <span class=\"ft-md\">사고이력이 있습니다.</span>\\n\\t\\t\\t\\t\\t\\t\\t\\t\\t\\t\\t\\t\\t\\n\\t\\t\\t\\t\\t\\t\\t\\t\\t\\t\\t\\t\\n\\t\\t\\t\\t\\t\\t\\t\\t\\t\\t\\t</div>\\n\\t\\t\\t\\t\\t\\t\\t\\t\\t\\t</div>\\n\\t\\t\\t\\t\\t\\t\\t\\t\\t</a>\\n\\t\\t\\t\\t\\t\\t\\t\\t</div>\\n\\t\\t\\t\\t\\t\\t\\t\\t\\n\\t\\t\\t\\t\\t\\t\\t\\t\\t<div class=\"item mid-tp\" style=\"display: none;\">\\n\\t\\t\\t\\t\\t\\t\\t\\t\\t\\t<a href=\"/public/car/detail.kbc?carSeq=23108861\" class=\"link\" target=\"_blank\">\\n\\t\\t\\t\\t\\t\\t\\t\\t\\t\\t\\t<div class=\"mid-box\">\\n\\t\\t\\t\\t\\t\\t\\t\\t\\t\\t\\t\\t<div class=\"gua-list\">\\n\\t\\t\\t\\t\\t\\t\\t\\t\\t\\t\\t\\t\\t<ul>\\n\\t\\t\\t\\t\\t\\t\\t\\t\\t\\t\\t\\t\\t\\t<li class=\"\">연장보증</li>\\n\\t\\t\\t\\t\\t\\t\\t\\t\\t\\t\\t\\t\\t\\t<li class=\"on\">헛걸음보상</li>\\n\\t\\t\\t\\t\\t\\t\\t\\t\\t\\t\\t\\t\\t\\t\\n\\t\\t\\t\\t\\t\\t\\t\\t\\t\\t\\t\\t\\t\\t\\n\\t\\t\\t\\t\\t\\t\\t\\t\\t\\t\\t\\t\\t\\t\\t<li class=\"\">KB안심리스</li>\\n\\t\\t\\t\\t\\t\\t\\t\\t\\t\\t\\t\\t\\t\\t\\n\\t\\t\\t\\t\\t\\t\\t\\t\\t\\t\\t\\t\\t</ul>\\n\\t\\t\\t\\t\\t\\t\\t\\t\\t\\t\\t\\t</div>\\n\\t\\t\\t\\t\\t\\t\\t\\t\\t\\t\\t\\t<div class=\"sp-txt01\">\\n\\t\\t\\t\\t\\t\\t\\t\\t\\t\\t\\t\\t\\t<span class=\"cor-blue ft-bd\">보증</span> 가능합니다\\n\\t\\t\\t\\t\\t\\t\\t\\t\\t\\t\\t\\t</div>\\n\\t\\t\\t\\t\\t\\t\\t\\t\\t\\t\\t</div>\\n\\t\\t\\t\\t\\t\\t\\t\\t\\t\\t</a>\\n\\t\\t\\t\\t\\t\\t\\t\\t\\t</div>\\n\\t\\t\\t\\t\\t\\t\\t\\t\\n\\t\\t\\t\\t\\t\\t\\t\\t\\n\\t\\t\\t\\t\\t\\t\\t\\t\\n\\t\\t\\t\\t\\t\\t\\t\\t\\t\\n\\t\\t\\t\\t\\t\\t\\t\\t\\t\\n\\t\\t\\t\\t\\t\\t\\t\\t\\n\\t\\t\\t\\t\\t\\t\\t</div>\\n\\t\\t\\t\\t\\t\\t</div>\\n\\t\\t\\t\\t\\t\\n\\t\\t\\t\\t\\t\\t\\n\\t\\t\\t\\t\\t\\t\\n\\t\\t\\t\\t\\t\\t\\n\\t\\t\\t\\t\\t\\t    \\n\\t\\t\\t\\t\\t\\t\\n\\t\\t\\t\\t\\t\\t\\n\\t\\t\\t\\t\\t\\t\\n\\t\\t\\t\\t\\t\\t<div class=\"area \" data-car-seq=\"23074730\" style=\"height: 435px;\">\\n\\t\\t\\t\\t\\t\\t\\t\\n\\t\\t\\t\\t\\t\\t\\t\\t\\n\\t\\t\\t\\t\\t\\t\\t\\t\\n\\t\\t\\t\\t\\t\\t\\t\\t\\n\\t\\t\\t\\t\\t\\t\\t\\t\\n\\t\\t\\t\\t\\t\\t\\t\\n\\t\\t\\t\\t\\t\\t\\t<div class=\"thumnail owl-carousel swiper-area06\" style=\"display: block;\">\\n\\t\\t\\t\\t\\t\\t\\t\\t<a href=\"/public/car/detail.kbc?carSeq=23074730\" class=\"item\" target=\"_blank\">\\n\\t\\t\\t\\t\\t\\t\\t\\t\\t<span class=\"item__img\">\\n\\t\\t\\t\\t\\t\\t\\t\\t\\t\\t<img alt=\"\" src=\"https://img.kbchachacha.com/IMG/carimg/l/img07/img2307/23074730_10688659332960798.jpeg?width=720\" onerror=\"this.src=\\'/images/common/noimage.jpg\\';\">\\n\\t\\t\\t\\t\\t\\t\\t\\t\\t</span>\\n\\t\\t\\t\\t\\t\\t\\t\\t</a>\\n\\t\\t\\t\\t\\t\\t\\t\\t<a href=\"/public/car/detail.kbc?carSeq=23074730\" class=\"item\" target=\"_blank\" style=\"display: none;\">\\n\\t\\t\\t\\t\\t\\t\\t\\t\\t<span class=\"item__img\">\\n\\t\\t\\t\\t\\t\\t\\t\\t\\t\\t<img alt=\"\" src=\"https://img.kbchachacha.com/IMG/carimg/l/img07/img2307/23074730_10688659684885482.jpeg?width=720\" onerror=\"this.src=\\'/images/common/noimage.jpg\\';\">\\n\\t\\t\\t\\t\\t\\t\\t\\t\\t</span>\\n\\t\\t\\t\\t\\t\\t\\t\\t</a>\\n\\t\\t\\t\\t\\t\\t\\t\\t<a href=\"/public/car/detail.kbc?carSeq=23074730\" class=\"item\" target=\"_blank\" style=\"display: none;\">\\n\\t\\t\\t\\t\\t\\t\\t\\t\\t<span class=\"item__img\">\\n\\t\\t\\t\\t\\t\\t\\t\\t\\t\\t<img alt=\"\" src=\"https://img.kbchachacha.com/IMG/carimg/l/img07/img2307/23074730_10688660025663857.jpeg?width=720\" onerror=\"this.src=\\'/images/common/noimage.jpg\\';\">\\n\\t\\t\\t\\t\\t\\t\\t\\t\\t</span>\\n\\t\\t\\t\\t\\t\\t\\t\\t</a>\\n\\t\\t\\t\\t\\t\\t\\t</div>\\n\\t\\t\\t\\t\\t\\t\\t\\n\\t\\t\\t\\t\\t\\t\\t<div class=\"con owl-carousel swiper-area06\" style=\"display: block;\">\\n\\t\\t\\t\\t\\t\\t\\t\\t<div class=\"item\">\\n\\t\\t\\t\\t\\t\\t\\t\\t\\t<a href=\"/public/car/detail.kbc?carSeq=23074730\" class=\"link\" target=\"_blank\">\\n\\t\\t\\t\\t\\t\\t\\t\\t\\t\\t<strong class=\"tit\">\\n\\t\\t\\t\\t\\t\\t\\t\\t\\t\\t\\t\\n\\t\\t\\t\\t\\t\\t\\t\\t\\t\\t\\t\\n\\t\\t\\t\\t\\t\\t\\t\\t\\t\\t\\t<span class=\"bbadge bbadge-service-small bbadge-stock\">실차주</span>\\n\\t\\t\\t\\t\\t\\t\\t\\t\\t\\t\\t\\n\\t\\t\\t\\t\\t\\t\\t\\t\\t\\t\\t\\n\\t\\t\\t\\t\\t\\t\\t\\t\\t\\t\\t\\n\\t\\t\\t\\t\\t\\t\\t\\t\\t\\t\\t현대 YF쏘나타 Y20 프리미어 고급형\\n\\t\\t\\t\\t\\t\\t\\t\\t\\t\\t</strong>\\n\\t\\t\\t\\t\\t\\t\\t\\t\\t\\t<div class=\"data-line tp03\">\\n\\t\\t\\t\\t\\t\\t\\t\\t\\t\\t\\t<div class=\"first\">2010년 12월 (11년식)</div>\\n\\t\\t\\t\\t\\t\\t\\t\\t\\t\\t\\t<div class=\"data-in\">\\n\\t\\t\\t\\t\\t\\t\\t\\t\\t\\t\\t\\t<span>139,032km</span>\\n\\t\\t\\t\\t\\t\\t\\t\\t\\t\\t\\t\\t<span>경기</span>\\n\\t\\t\\t\\t\\t\\t\\t\\t\\t\\t\\t</div>\\n\\t\\t\\t\\t\\t\\t\\t\\t\\t\\t</div>\\n\\t\\t\\t\\t\\t\\t\\t\\t\\t\\t<strong class=\"pay\">\\n\\t\\t\\t\\t\\t\\t\\t\\t\\t\\t\\t\\n\\t\\t\\t\\t\\t\\t\\t\\t\\t\\t\\t\\t\\n\\t\\t\\t\\t\\t\\t\\t\\t\\t\\t\\t\\t\\t590만원\\n\\t\\t\\t\\t\\t\\t\\t\\t\\t\\t\\t\\t\\n\\t\\t\\t\\t\\t\\t\\t\\t\\t\\t\\t\\t\\n\\t\\t\\t\\t\\t\\t\\t\\t\\t\\t\\t\\t\\n\\t\\t\\t\\t\\t\\t\\t\\t\\t\\t\\t\\n\\t\\t\\t\\t\\t\\t\\t\\t\\t\\t</strong>\\n\\t\\t\\t\\t\\t\\t\\t\\t\\t</a>\\n\\t\\t\\t\\t\\t\\t\\t\\t\\t\\n\\t\\t\\t\\t\\t\\t\\t\\t\\t\\t<div class=\"cor-btn\">\\n\\t\\t\\t\\t\\t\\t\\t\\t\\t\\t\\t\\n\\t\\t\\t\\t\\t\\t\\t\\t\\t\\t\\t    <span class=\"bbadge bbadge-service bbadge-compensation\">헛걸음보상</span>\\n\\t\\t\\t\\t\\t\\t\\t\\t\\t\\t\\t\\n\\t\\t\\t\\t\\t\\t\\t\\t\\t\\t\\t\\n\\t\\t\\t\\t\\t\\t\\t\\t\\t\\t</div>\\n\\t\\t\\t\\t\\t\\t\\t\\t\\t\\n\\t\\t\\t\\t\\t\\t\\t\\t\\t<div class=\"sort-wrap\">\\n\\t\\t\\t\\t\\t\\t\\t\\t\\t\\t<div class=\"ck-wrap ck-tp02\">\\n\\t\\t\\t\\t\\t\\t\\t\\t\\t\\t\\t<button type=\"button\" class=\"lc-btn like ck-item  __wish\" data-car-seq=\"23074730\">\\n\\t\\t\\t\\t\\t\\t\\t\\t\\t\\t\\t\\t<span class=\"blind\">좋아요</span>\\n\\t\\t\\t\\t\\t\\t\\t\\t\\t\\t\\t</button>\\n\\t\\t\\t\\t\\t\\t\\t\\t\\t\\t\\t<button type=\"button\" class=\"lc-btn cpr ck-item  __compare\" data-car-seq=\"23074730\">\\n\\t\\t\\t\\t\\t\\t\\t\\t\\t\\t\\t\\t<span class=\"blind\">비교하기</span>\\n\\t\\t\\t\\t\\t\\t\\t\\t\\t\\t\\t</button>\\n\\t\\t\\t\\t\\t\\t\\t\\t\\t\\t</div>\\n\\t\\t\\t\\t\\t\\t\\t\\t\\t</div>\\n\\t\\t\\t\\t\\t\\t\\t\\t</div>\\n\\t\\t\\t\\t\\t\\t\\t\\t\\n\\t\\t\\t\\t\\t\\t\\t\\t\\t<div class=\"item mid-tp\" style=\"display: none;\">\\n\\t\\t\\t\\t\\t\\t\\t\\t\\t\\t<a href=\"/public/car/detail.kbc?carSeq=23074730\" class=\"link bg-blue\" target=\"_blank\">\\n\\t\\t\\t\\t\\t\\t\\t\\t\\t\\t\\t<div class=\"mid-box\">\\n\\t\\t\\t\\t\\t\\t\\t\\t\\t\\t\\t\\t<div class=\"sp-rd-img\">\\n\\t\\t\\t\\t\\t\\t\\t\\t\\t\\t\\t\\t\\t<span class=\"img\">\\n\\t\\t\\t\\t\\t\\t\\t\\t\\t\\t\\t\\t\\t\\t\\n\\t\\t\\t\\t\\t\\t\\t\\t\\t\\t\\t\\t\\t\\t\\t\\n\\t\\t\\t\\t\\t\\t\\t\\t\\t\\t\\t\\t\\t\\t\\t\\t<img src=\"https://img.kbchachacha.com/IMG/memberimg/5849056967845374.jpg?width=360\" alt=\"\" onerror=\"this.src=\\'/images/common/no_img_dealer_30_m.png\\';\">\\n\\t\\t\\t\\t\\t\\t\\t\\t\\t\\t\\t\\t\\t\\t\\t\\n\\t\\t\\t\\t\\t\\t\\t\\t\\t\\t\\t\\t\\t\\t\\t\\n\\t\\t\\t\\t\\t\\t\\t\\t\\t\\t\\t\\t\\t\\t\\n\\t\\t\\t\\t\\t\\t\\t\\t\\t\\t\\t\\t\\t</span>\\n\\t\\t\\t\\t\\t\\t\\t\\t\\t\\t\\t\\t\\t<span class=\"ft-md\">실차주</span> 차량입니다.\\n\\t\\t\\t\\t\\t\\t\\t\\t\\t\\t\\t\\t</div>\\n\\t\\t\\t\\t\\t\\t\\t\\t\\t\\t\\t</div>\\n\\t\\t\\t\\t\\t\\t\\t\\t\\t\\t</a>\\n\\t\\t\\t\\t\\t\\t\\t\\t\\t</div>\\n\\t\\t\\t\\t\\t\\t\\t\\t\\n\\t\\t\\t\\t\\t\\t\\t\\t<div class=\"item mid-tp\" style=\"display: none;\">\\n\\t\\t\\t\\t\\t\\t\\t\\t\\t<a href=\"/public/car/detail.kbc?carSeq=23074730\" class=\"link bg-blue\" target=\"_blank\">\\n\\t\\t\\t\\t\\t\\t\\t\\t\\t\\t<div class=\"mid-box\">\\n\\t\\t\\t\\t\\t\\t\\t\\t\\t\\t\\t<div class=\"sp-rd-acc\">\\n\\t\\t\\t\\t\\t\\t\\t\\t\\t\\t\\t\\t\\n\\t\\t\\t\\t\\t\\t\\t\\t\\t\\t\\t\\t\\t\\n\\t\\t\\t\\t\\t\\t\\t\\t\\t\\t\\t\\t\\t\\n\\t\\t\\t\\t\\t\\t\\t\\t\\t\\t\\t\\t\\t\\t<span class=\"num\">1</span> <span class=\"ft-md\">사고이력이 있습니다.</span>\\n\\t\\t\\t\\t\\t\\t\\t\\t\\t\\t\\t\\t\\t\\n\\t\\t\\t\\t\\t\\t\\t\\t\\t\\t\\t\\t\\n\\t\\t\\t\\t\\t\\t\\t\\t\\t\\t\\t</div>\\n\\t\\t\\t\\t\\t\\t\\t\\t\\t\\t</div>\\n\\t\\t\\t\\t\\t\\t\\t\\t\\t</a>\\n\\t\\t\\t\\t\\t\\t\\t\\t</div>\\n\\t\\t\\t\\t\\t\\t\\t\\t\\n\\t\\t\\t\\t\\t\\t\\t\\t\\t<div class=\"item mid-tp\" style=\"display: none;\">\\n\\t\\t\\t\\t\\t\\t\\t\\t\\t\\t<a href=\"/public/car/detail.kbc?carSeq=23074730\" class=\"link\" target=\"_blank\">\\n\\t\\t\\t\\t\\t\\t\\t\\t\\t\\t\\t<div class=\"mid-box\">\\n\\t\\t\\t\\t\\t\\t\\t\\t\\t\\t\\t\\t<div class=\"gua-list\">\\n\\t\\t\\t\\t\\t\\t\\t\\t\\t\\t\\t\\t\\t<ul>\\n\\t\\t\\t\\t\\t\\t\\t\\t\\t\\t\\t\\t\\t\\t<li class=\"\">연장보증</li>\\n\\t\\t\\t\\t\\t\\t\\t\\t\\t\\t\\t\\t\\t\\t<li class=\"on\">헛걸음보상</li>\\n\\t\\t\\t\\t\\t\\t\\t\\t\\t\\t\\t\\t\\t\\t\\n\\t\\t\\t\\t\\t\\t\\t\\t\\t\\t\\t\\t\\t\\t\\n\\t\\t\\t\\t\\t\\t\\t\\t\\t\\t\\t\\t\\t\\t\\t<li class=\"\">KB안심리스</li>\\n\\t\\t\\t\\t\\t\\t\\t\\t\\t\\t\\t\\t\\t\\t\\n\\t\\t\\t\\t\\t\\t\\t\\t\\t\\t\\t\\t\\t</ul>\\n\\t\\t\\t\\t\\t\\t\\t\\t\\t\\t\\t\\t</div>\\n\\t\\t\\t\\t\\t\\t\\t\\t\\t\\t\\t\\t<div class=\"sp-txt01\">\\n\\t\\t\\t\\t\\t\\t\\t\\t\\t\\t\\t\\t\\t<span class=\"cor-blue ft-bd\">보증</span> 가능합니다\\n\\t\\t\\t\\t\\t\\t\\t\\t\\t\\t\\t\\t</div>\\n\\t\\t\\t\\t\\t\\t\\t\\t\\t\\t\\t</div>\\n\\t\\t\\t\\t\\t\\t\\t\\t\\t\\t</a>\\n\\t\\t\\t\\t\\t\\t\\t\\t\\t</div>\\n\\t\\t\\t\\t\\t\\t\\t\\t\\n\\t\\t\\t\\t\\t\\t\\t\\t\\n\\t\\t\\t\\t\\t\\t\\t\\t\\n\\t\\t\\t\\t\\t\\t\\t\\t\\t\\n\\t\\t\\t\\t\\t\\t\\t\\t\\t\\n\\t\\t\\t\\t\\t\\t\\t\\t\\n\\t\\t\\t\\t\\t\\t\\t</div>\\n\\t\\t\\t\\t\\t\\t</div>\\n\\t\\t\\t\\t\\t\\n\\t\\t\\t\\t\\t\\t\\n\\t\\t\\t\\t\\t\\t\\n\\t\\t\\t\\t\\t\\t\\n\\t\\t\\t\\t\\t\\t    \\n\\t\\t\\t\\t\\t\\t\\n\\t\\t\\t\\t\\t\\t\\n\\t\\t\\t\\t\\t\\t\\n\\t\\t\\t\\t\\t\\t<div class=\"area \" data-car-seq=\"23093185\" style=\"height: 435px;\">\\n\\t\\t\\t\\t\\t\\t\\t\\n\\t\\t\\t\\t\\t\\t\\t\\t\\n\\t\\t\\t\\t\\t\\t\\t\\t\\n\\t\\t\\t\\t\\t\\t\\t\\t\\n\\t\\t\\t\\t\\t\\t\\t\\t\\n\\t\\t\\t\\t\\t\\t\\t\\n\\t\\t\\t\\t\\t\\t\\t<div class=\"thumnail owl-carousel swiper-area06\" style=\"display: block;\">\\n\\t\\t\\t\\t\\t\\t\\t\\t<a href=\"/public/car/detail.kbc?carSeq=23093185\" class=\"item\" target=\"_blank\">\\n\\t\\t\\t\\t\\t\\t\\t\\t\\t<span class=\"item__img\">\\n\\t\\t\\t\\t\\t\\t\\t\\t\\t\\t<img alt=\"\" src=\"https://img.kbchachacha.com/IMG/carimg/l/img09/img2309/23093185_11386381077959305.jpg?width=720\" onerror=\"this.src=\\'/images/common/noimage.jpg\\';\">\\n\\t\\t\\t\\t\\t\\t\\t\\t\\t</span>\\n\\t\\t\\t\\t\\t\\t\\t\\t</a>\\n\\t\\t\\t\\t\\t\\t\\t\\t<a href=\"/public/car/detail.kbc?carSeq=23093185\" class=\"item\" target=\"_blank\" style=\"display: none;\">\\n\\t\\t\\t\\t\\t\\t\\t\\t\\t<span class=\"item__img\">\\n\\t\\t\\t\\t\\t\\t\\t\\t\\t\\t<img alt=\"\" src=\"https://img.kbchachacha.com/IMG/carimg/l/img09/img2309/23093185_11386388059927189.jpg?width=720\" onerror=\"this.src=\\'/images/common/noimage.jpg\\';\">\\n\\t\\t\\t\\t\\t\\t\\t\\t\\t</span>\\n\\t\\t\\t\\t\\t\\t\\t\\t</a>\\n\\t\\t\\t\\t\\t\\t\\t\\t<a href=\"/public/car/detail.kbc?carSeq=23093185\" class=\"item\" target=\"_blank\" style=\"display: none;\">\\n\\t\\t\\t\\t\\t\\t\\t\\t\\t<span class=\"item__img\">\\n\\t\\t\\t\\t\\t\\t\\t\\t\\t\\t<img alt=\"\" src=\"https://img.kbchachacha.com/IMG/carimg/l/img09/img2309/23093185_11386395428242927.jpg?width=720\" onerror=\"this.src=\\'/images/common/noimage.jpg\\';\">\\n\\t\\t\\t\\t\\t\\t\\t\\t\\t</span>\\n\\t\\t\\t\\t\\t\\t\\t\\t</a>\\n\\t\\t\\t\\t\\t\\t\\t</div>\\n\\t\\t\\t\\t\\t\\t\\t\\n\\t\\t\\t\\t\\t\\t\\t<div class=\"con owl-carousel swiper-area06\" style=\"display: block;\">\\n\\t\\t\\t\\t\\t\\t\\t\\t<div class=\"item\">\\n\\t\\t\\t\\t\\t\\t\\t\\t\\t<a href=\"/public/car/detail.kbc?carSeq=23093185\" class=\"link\" target=\"_blank\">\\n\\t\\t\\t\\t\\t\\t\\t\\t\\t\\t<strong class=\"tit\">\\n\\t\\t\\t\\t\\t\\t\\t\\t\\t\\t\\t\\n\\t\\t\\t\\t\\t\\t\\t\\t\\t\\t\\t\\n\\t\\t\\t\\t\\t\\t\\t\\t\\t\\t\\t<span class=\"bbadge bbadge-service-small bbadge-stock\">실차주</span>\\n\\t\\t\\t\\t\\t\\t\\t\\t\\t\\t\\t\\n\\t\\t\\t\\t\\t\\t\\t\\t\\t\\t\\t\\n\\t\\t\\t\\t\\t\\t\\t\\t\\t\\t\\t\\n\\t\\t\\t\\t\\t\\t\\t\\t\\t\\t\\t기아 레이 1.0 가솔린 프레스티지\\n\\t\\t\\t\\t\\t\\t\\t\\t\\t\\t</strong>\\n\\t\\t\\t\\t\\t\\t\\t\\t\\t\\t<div class=\"data-line tp03\">\\n\\t\\t\\t\\t\\t\\t\\t\\t\\t\\t\\t<div class=\"first\">2013년 07월 (13년식)</div>\\n\\t\\t\\t\\t\\t\\t\\t\\t\\t\\t\\t<div class=\"data-in\">\\n\\t\\t\\t\\t\\t\\t\\t\\t\\t\\t\\t\\t<span>127,014km</span>\\n\\t\\t\\t\\t\\t\\t\\t\\t\\t\\t\\t\\t<span>인천</span>\\n\\t\\t\\t\\t\\t\\t\\t\\t\\t\\t\\t</div>\\n\\t\\t\\t\\t\\t\\t\\t\\t\\t\\t</div>\\n\\t\\t\\t\\t\\t\\t\\t\\t\\t\\t<strong class=\"pay\">\\n\\t\\t\\t\\t\\t\\t\\t\\t\\t\\t\\t\\n\\t\\t\\t\\t\\t\\t\\t\\t\\t\\t\\t\\t\\n\\t\\t\\t\\t\\t\\t\\t\\t\\t\\t\\t\\t\\t720만원\\n\\t\\t\\t\\t\\t\\t\\t\\t\\t\\t\\t\\t\\n\\t\\t\\t\\t\\t\\t\\t\\t\\t\\t\\t\\t\\n\\t\\t\\t\\t\\t\\t\\t\\t\\t\\t\\t\\t\\n\\t\\t\\t\\t\\t\\t\\t\\t\\t\\t\\t\\n\\t\\t\\t\\t\\t\\t\\t\\t\\t\\t</strong>\\n\\t\\t\\t\\t\\t\\t\\t\\t\\t</a>\\n\\t\\t\\t\\t\\t\\t\\t\\t\\t\\n\\t\\t\\t\\t\\t\\t\\t\\t\\t\\t<div class=\"cor-btn\">\\n\\t\\t\\t\\t\\t\\t\\t\\t\\t\\t\\t\\n\\t\\t\\t\\t\\t\\t\\t\\t\\t\\t\\t    <span class=\"bbadge bbadge-service bbadge-compensation\">헛걸음보상</span>\\n\\t\\t\\t\\t\\t\\t\\t\\t\\t\\t\\t\\n\\t\\t\\t\\t\\t\\t\\t\\t\\t\\t\\t\\n\\t\\t\\t\\t\\t\\t\\t\\t\\t\\t</div>\\n\\t\\t\\t\\t\\t\\t\\t\\t\\t\\n\\t\\t\\t\\t\\t\\t\\t\\t\\t<div class=\"sort-wrap\">\\n\\t\\t\\t\\t\\t\\t\\t\\t\\t\\t<div class=\"ck-wrap ck-tp02\">\\n\\t\\t\\t\\t\\t\\t\\t\\t\\t\\t\\t<button type=\"button\" class=\"lc-btn like ck-item  __wish\" data-car-seq=\"23093185\">\\n\\t\\t\\t\\t\\t\\t\\t\\t\\t\\t\\t\\t<span class=\"blind\">좋아요</span>\\n\\t\\t\\t\\t\\t\\t\\t\\t\\t\\t\\t</button>\\n\\t\\t\\t\\t\\t\\t\\t\\t\\t\\t\\t<button type=\"button\" class=\"lc-btn cpr ck-item  __compare\" data-car-seq=\"23093185\">\\n\\t\\t\\t\\t\\t\\t\\t\\t\\t\\t\\t\\t<span class=\"blind\">비교하기</span>\\n\\t\\t\\t\\t\\t\\t\\t\\t\\t\\t\\t</button>\\n\\t\\t\\t\\t\\t\\t\\t\\t\\t\\t</div>\\n\\t\\t\\t\\t\\t\\t\\t\\t\\t</div>\\n\\t\\t\\t\\t\\t\\t\\t\\t</div>\\n\\t\\t\\t\\t\\t\\t\\t\\t\\n\\t\\t\\t\\t\\t\\t\\t\\t\\t<div class=\"item mid-tp\" style=\"display: none;\">\\n\\t\\t\\t\\t\\t\\t\\t\\t\\t\\t<a href=\"/public/car/detail.kbc?carSeq=23093185\" class=\"link bg-blue\" target=\"_blank\">\\n\\t\\t\\t\\t\\t\\t\\t\\t\\t\\t\\t<div class=\"mid-box\">\\n\\t\\t\\t\\t\\t\\t\\t\\t\\t\\t\\t\\t<div class=\"sp-rd-img\">\\n\\t\\t\\t\\t\\t\\t\\t\\t\\t\\t\\t\\t\\t<span class=\"img\">\\n\\t\\t\\t\\t\\t\\t\\t\\t\\t\\t\\t\\t\\t\\t\\n\\t\\t\\t\\t\\t\\t\\t\\t\\t\\t\\t\\t\\t\\t\\t\\n\\t\\t\\t\\t\\t\\t\\t\\t\\t\\t\\t\\t\\t\\t\\t\\t<img src=\"https://img.kbchachacha.com/IMG/memberimg/241369_9025261206278353.png?width=360\" alt=\"\" onerror=\"this.src=\\'/images/common/no_img_dealer_30_m.png\\';\">\\n\\t\\t\\t\\t\\t\\t\\t\\t\\t\\t\\t\\t\\t\\t\\t\\n\\t\\t\\t\\t\\t\\t\\t\\t\\t\\t\\t\\t\\t\\t\\t\\n\\t\\t\\t\\t\\t\\t\\t\\t\\t\\t\\t\\t\\t\\t\\n\\t\\t\\t\\t\\t\\t\\t\\t\\t\\t\\t\\t\\t</span>\\n\\t\\t\\t\\t\\t\\t\\t\\t\\t\\t\\t\\t\\t<span class=\"ft-md\">실차주</span> 차량입니다.\\n\\t\\t\\t\\t\\t\\t\\t\\t\\t\\t\\t\\t</div>\\n\\t\\t\\t\\t\\t\\t\\t\\t\\t\\t\\t</div>\\n\\t\\t\\t\\t\\t\\t\\t\\t\\t\\t</a>\\n\\t\\t\\t\\t\\t\\t\\t\\t\\t</div>\\n\\t\\t\\t\\t\\t\\t\\t\\t\\n\\t\\t\\t\\t\\t\\t\\t\\t<div class=\"item mid-tp\" style=\"display: none;\">\\n\\t\\t\\t\\t\\t\\t\\t\\t\\t<a href=\"/public/car/detail.kbc?carSeq=23093185\" class=\"link bg-blue\" target=\"_blank\">\\n\\t\\t\\t\\t\\t\\t\\t\\t\\t\\t<div class=\"mid-box\">\\n\\t\\t\\t\\t\\t\\t\\t\\t\\t\\t\\t<div class=\"sp-rd-acc\">\\n\\t\\t\\t\\t\\t\\t\\t\\t\\t\\t\\t\\t\\n\\t\\t\\t\\t\\t\\t\\t\\t\\t\\t\\t\\t\\t\\n\\t\\t\\t\\t\\t\\t\\t\\t\\t\\t\\t\\t\\t\\n\\t\\t\\t\\t\\t\\t\\t\\t\\t\\t\\t\\t\\t\\t<span class=\"num\">2</span> <span class=\"ft-md\">사고이력이 있습니다.</span>\\n\\t\\t\\t\\t\\t\\t\\t\\t\\t\\t\\t\\t\\t\\n\\t\\t\\t\\t\\t\\t\\t\\t\\t\\t\\t\\t\\n\\t\\t\\t\\t\\t\\t\\t\\t\\t\\t\\t</div>\\n\\t\\t\\t\\t\\t\\t\\t\\t\\t\\t</div>\\n\\t\\t\\t\\t\\t\\t\\t\\t\\t</a>\\n\\t\\t\\t\\t\\t\\t\\t\\t</div>\\n\\t\\t\\t\\t\\t\\t\\t\\t\\n\\t\\t\\t\\t\\t\\t\\t\\t\\t<div class=\"item mid-tp\" style=\"display: none;\">\\n\\t\\t\\t\\t\\t\\t\\t\\t\\t\\t<a href=\"/public/car/detail.kbc?carSeq=23093185\" class=\"link\" target=\"_blank\">\\n\\t\\t\\t\\t\\t\\t\\t\\t\\t\\t\\t<div class=\"mid-box\">\\n\\t\\t\\t\\t\\t\\t\\t\\t\\t\\t\\t\\t<div class=\"gua-list\">\\n\\t\\t\\t\\t\\t\\t\\t\\t\\t\\t\\t\\t\\t<ul>\\n\\t\\t\\t\\t\\t\\t\\t\\t\\t\\t\\t\\t\\t\\t<li class=\"\">연장보증</li>\\n\\t\\t\\t\\t\\t\\t\\t\\t\\t\\t\\t\\t\\t\\t<li class=\"on\">헛걸음보상</li>\\n\\t\\t\\t\\t\\t\\t\\t\\t\\t\\t\\t\\t\\t\\t\\n\\t\\t\\t\\t\\t\\t\\t\\t\\t\\t\\t\\t\\t\\t\\n\\t\\t\\t\\t\\t\\t\\t\\t\\t\\t\\t\\t\\t\\t\\t<li class=\"\">KB안심리스</li>\\n\\t\\t\\t\\t\\t\\t\\t\\t\\t\\t\\t\\t\\t\\t\\n\\t\\t\\t\\t\\t\\t\\t\\t\\t\\t\\t\\t\\t</ul>\\n\\t\\t\\t\\t\\t\\t\\t\\t\\t\\t\\t\\t</div>\\n\\t\\t\\t\\t\\t\\t\\t\\t\\t\\t\\t\\t<div class=\"sp-txt01\">\\n\\t\\t\\t\\t\\t\\t\\t\\t\\t\\t\\t\\t\\t<span class=\"cor-blue ft-bd\">보증</span> 가능합니다\\n\\t\\t\\t\\t\\t\\t\\t\\t\\t\\t\\t\\t</div>\\n\\t\\t\\t\\t\\t\\t\\t\\t\\t\\t\\t</div>\\n\\t\\t\\t\\t\\t\\t\\t\\t\\t\\t</a>\\n\\t\\t\\t\\t\\t\\t\\t\\t\\t</div>\\n\\t\\t\\t\\t\\t\\t\\t\\t\\n\\t\\t\\t\\t\\t\\t\\t\\t\\n\\t\\t\\t\\t\\t\\t\\t\\t\\n\\t\\t\\t\\t\\t\\t\\t\\t\\t\\n\\t\\t\\t\\t\\t\\t\\t\\t\\t\\n\\t\\t\\t\\t\\t\\t\\t\\t\\n\\t\\t\\t\\t\\t\\t\\t</div>\\n\\t\\t\\t\\t\\t\\t</div>\\n\\t\\t\\t\\t\\t\\n\\t\\t\\t\\t\\t\\t\\n\\t\\t\\t\\t\\t\\t\\n\\t\\t\\t\\t\\t\\t\\n\\t\\t\\t\\t\\t\\t    \\n\\t\\t\\t\\t\\t\\t\\n\\t\\t\\t\\t\\t\\t\\n\\t\\t\\t\\t\\t\\t\\n\\t\\t\\t\\t\\t\\t<div class=\"area \" data-car-seq=\"23061931\" style=\"height: 435px;\">\\n\\t\\t\\t\\t\\t\\t\\t\\n\\t\\t\\t\\t\\t\\t\\t\\t\\n\\t\\t\\t\\t\\t\\t\\t\\t\\n\\t\\t\\t\\t\\t\\t\\t\\t\\n\\t\\t\\t\\t\\t\\t\\t\\t\\n\\t\\t\\t\\t\\t\\t\\t\\n\\t\\t\\t\\t\\t\\t\\t<div class=\"thumnail owl-carousel swiper-area06\" style=\"display: block;\">\\n\\t\\t\\t\\t\\t\\t\\t\\t<a href=\"/public/car/detail.kbc?carSeq=23061931\" class=\"item\" target=\"_blank\">\\n\\t\\t\\t\\t\\t\\t\\t\\t\\t<span class=\"item__img\">\\n\\t\\t\\t\\t\\t\\t\\t\\t\\t\\t<img alt=\"\" src=\"https://img.kbchachacha.com/IMG/carimg/l/img06/img2306/23061931_10491413471796624.jpeg?width=720\" onerror=\"this.src=\\'/images/common/noimage.jpg\\';\">\\n\\t\\t\\t\\t\\t\\t\\t\\t\\t</span>\\n\\t\\t\\t\\t\\t\\t\\t\\t</a>\\n\\t\\t\\t\\t\\t\\t\\t\\t<a href=\"/public/car/detail.kbc?carSeq=23061931\" class=\"item\" target=\"_blank\" style=\"display: none;\">\\n\\t\\t\\t\\t\\t\\t\\t\\t\\t<span class=\"item__img\">\\n\\t\\t\\t\\t\\t\\t\\t\\t\\t\\t<img alt=\"\" src=\"https://img.kbchachacha.com/IMG/carimg/l/img06/img2306/23061931_10491413655599352.jpeg?width=720\" onerror=\"this.src=\\'/images/common/noimage.jpg\\';\">\\n\\t\\t\\t\\t\\t\\t\\t\\t\\t</span>\\n\\t\\t\\t\\t\\t\\t\\t\\t</a>\\n\\t\\t\\t\\t\\t\\t\\t\\t<a href=\"/public/car/detail.kbc?carSeq=23061931\" class=\"item\" target=\"_blank\" style=\"display: none;\">\\n\\t\\t\\t\\t\\t\\t\\t\\t\\t<span class=\"item__img\">\\n\\t\\t\\t\\t\\t\\t\\t\\t\\t\\t<img alt=\"\" src=\"https://img.kbchachacha.com/IMG/carimg/l/img06/img2306/23061931_10491413876618858.jpeg?width=720\" onerror=\"this.src=\\'/images/common/noimage.jpg\\';\">\\n\\t\\t\\t\\t\\t\\t\\t\\t\\t</span>\\n\\t\\t\\t\\t\\t\\t\\t\\t</a>\\n\\t\\t\\t\\t\\t\\t\\t</div>\\n\\t\\t\\t\\t\\t\\t\\t\\n\\t\\t\\t\\t\\t\\t\\t<div class=\"con owl-carousel swiper-area06\" style=\"display: block;\">\\n\\t\\t\\t\\t\\t\\t\\t\\t<div class=\"item\">\\n\\t\\t\\t\\t\\t\\t\\t\\t\\t<a href=\"/public/car/detail.kbc?carSeq=23061931\" class=\"link\" target=\"_blank\">\\n\\t\\t\\t\\t\\t\\t\\t\\t\\t\\t<strong class=\"tit\">\\n\\t\\t\\t\\t\\t\\t\\t\\t\\t\\t\\t\\n\\t\\t\\t\\t\\t\\t\\t\\t\\t\\t\\t\\n\\t\\t\\t\\t\\t\\t\\t\\t\\t\\t\\t<span class=\"bbadge bbadge-service-small bbadge-stock\">실차주</span>\\n\\t\\t\\t\\t\\t\\t\\t\\t\\t\\t\\t\\n\\t\\t\\t\\t\\t\\t\\t\\t\\t\\t\\t\\n\\t\\t\\t\\t\\t\\t\\t\\t\\t\\t\\t\\n\\t\\t\\t\\t\\t\\t\\t\\t\\t\\t\\t기아 더 뉴 카니발 9인승 2.2 디젤 프레스티지\\n\\t\\t\\t\\t\\t\\t\\t\\t\\t\\t</strong>\\n\\t\\t\\t\\t\\t\\t\\t\\t\\t\\t<div class=\"data-line tp03\">\\n\\t\\t\\t\\t\\t\\t\\t\\t\\t\\t\\t<div class=\"first\">2018년 05월 (19년식)</div>\\n\\t\\t\\t\\t\\t\\t\\t\\t\\t\\t\\t<div class=\"data-in\">\\n\\t\\t\\t\\t\\t\\t\\t\\t\\t\\t\\t\\t<span>92,072km</span>\\n\\t\\t\\t\\t\\t\\t\\t\\t\\t\\t\\t\\t<span>경기</span>\\n\\t\\t\\t\\t\\t\\t\\t\\t\\t\\t\\t</div>\\n\\t\\t\\t\\t\\t\\t\\t\\t\\t\\t</div>\\n\\t\\t\\t\\t\\t\\t\\t\\t\\t\\t<strong class=\"pay\">\\n\\t\\t\\t\\t\\t\\t\\t\\t\\t\\t\\t\\n\\t\\t\\t\\t\\t\\t\\t\\t\\t\\t\\t\\t\\n\\t\\t\\t\\t\\t\\t\\t\\t\\t\\t\\t\\t\\t2,290만원\\n\\t\\t\\t\\t\\t\\t\\t\\t\\t\\t\\t\\t\\n\\t\\t\\t\\t\\t\\t\\t\\t\\t\\t\\t\\t\\n\\t\\t\\t\\t\\t\\t\\t\\t\\t\\t\\t\\t\\n\\t\\t\\t\\t\\t\\t\\t\\t\\t\\t\\t\\n\\t\\t\\t\\t\\t\\t\\t\\t\\t\\t</strong>\\n\\t\\t\\t\\t\\t\\t\\t\\t\\t</a>\\n\\t\\t\\t\\t\\t\\t\\t\\t\\t\\n\\t\\t\\t\\t\\t\\t\\t\\t\\t\\t<div class=\"cor-btn\">\\n\\t\\t\\t\\t\\t\\t\\t\\t\\t\\t\\t\\n\\t\\t\\t\\t\\t\\t\\t\\t\\t\\t\\t    <span class=\"bbadge bbadge-service bbadge-compensation\">헛걸음보상</span>\\n\\t\\t\\t\\t\\t\\t\\t\\t\\t\\t\\t\\n\\t\\t\\t\\t\\t\\t\\t\\t\\t\\t\\t\\n\\t\\t\\t\\t\\t\\t\\t\\t\\t\\t</div>\\n\\t\\t\\t\\t\\t\\t\\t\\t\\t\\n\\t\\t\\t\\t\\t\\t\\t\\t\\t<div class=\"sort-wrap\">\\n\\t\\t\\t\\t\\t\\t\\t\\t\\t\\t<div class=\"ck-wrap ck-tp02\">\\n\\t\\t\\t\\t\\t\\t\\t\\t\\t\\t\\t<button type=\"button\" class=\"lc-btn like ck-item  __wish\" data-car-seq=\"23061931\">\\n\\t\\t\\t\\t\\t\\t\\t\\t\\t\\t\\t\\t<span class=\"blind\">좋아요</span>\\n\\t\\t\\t\\t\\t\\t\\t\\t\\t\\t\\t</button>\\n\\t\\t\\t\\t\\t\\t\\t\\t\\t\\t\\t<button type=\"button\" class=\"lc-btn cpr ck-item  __compare\" data-car-seq=\"23061931\">\\n\\t\\t\\t\\t\\t\\t\\t\\t\\t\\t\\t\\t<span class=\"blind\">비교하기</span>\\n\\t\\t\\t\\t\\t\\t\\t\\t\\t\\t\\t</button>\\n\\t\\t\\t\\t\\t\\t\\t\\t\\t\\t</div>\\n\\t\\t\\t\\t\\t\\t\\t\\t\\t</div>\\n\\t\\t\\t\\t\\t\\t\\t\\t</div>\\n\\t\\t\\t\\t\\t\\t\\t\\t\\n\\t\\t\\t\\t\\t\\t\\t\\t\\t<div class=\"item mid-tp\" style=\"display: none;\">\\n\\t\\t\\t\\t\\t\\t\\t\\t\\t\\t<a href=\"/public/car/detail.kbc?carSeq=23061931\" class=\"link bg-blue\" target=\"_blank\">\\n\\t\\t\\t\\t\\t\\t\\t\\t\\t\\t\\t<div class=\"mid-box\">\\n\\t\\t\\t\\t\\t\\t\\t\\t\\t\\t\\t\\t<div class=\"sp-rd-img\">\\n\\t\\t\\t\\t\\t\\t\\t\\t\\t\\t\\t\\t\\t<span class=\"img\">\\n\\t\\t\\t\\t\\t\\t\\t\\t\\t\\t\\t\\t\\t\\t\\n\\t\\t\\t\\t\\t\\t\\t\\t\\t\\t\\t\\t\\t\\t\\t\\n\\t\\t\\t\\t\\t\\t\\t\\t\\t\\t\\t\\t\\t\\t\\t\\t<img src=\"https://img.kbchachacha.com/IMG/memberimg/2128998089305389.jpg?width=360\" alt=\"\" onerror=\"this.src=\\'/images/common/no_img_dealer_30_m.png\\';\">\\n\\t\\t\\t\\t\\t\\t\\t\\t\\t\\t\\t\\t\\t\\t\\t\\n\\t\\t\\t\\t\\t\\t\\t\\t\\t\\t\\t\\t\\t\\t\\t\\n\\t\\t\\t\\t\\t\\t\\t\\t\\t\\t\\t\\t\\t\\t\\n\\t\\t\\t\\t\\t\\t\\t\\t\\t\\t\\t\\t\\t</span>\\n\\t\\t\\t\\t\\t\\t\\t\\t\\t\\t\\t\\t\\t<span class=\"ft-md\">실차주</span> 차량입니다.\\n\\t\\t\\t\\t\\t\\t\\t\\t\\t\\t\\t\\t</div>\\n\\t\\t\\t\\t\\t\\t\\t\\t\\t\\t\\t</div>\\n\\t\\t\\t\\t\\t\\t\\t\\t\\t\\t</a>\\n\\t\\t\\t\\t\\t\\t\\t\\t\\t</div>\\n\\t\\t\\t\\t\\t\\t\\t\\t\\n\\t\\t\\t\\t\\t\\t\\t\\t<div class=\"item mid-tp\" style=\"display: none;\">\\n\\t\\t\\t\\t\\t\\t\\t\\t\\t<a href=\"/public/car/detail.kbc?carSeq=23061931\" class=\"link bg-blue\" target=\"_blank\">\\n\\t\\t\\t\\t\\t\\t\\t\\t\\t\\t<div class=\"mid-box\">\\n\\t\\t\\t\\t\\t\\t\\t\\t\\t\\t\\t<div class=\"sp-rd-acc\">\\n\\t\\t\\t\\t\\t\\t\\t\\t\\t\\t\\t\\t\\n\\t\\t\\t\\t\\t\\t\\t\\t\\t\\t\\t\\t\\t\\n\\t\\t\\t\\t\\t\\t\\t\\t\\t\\t\\t\\t\\t\\n\\t\\t\\t\\t\\t\\t\\t\\t\\t\\t\\t\\t\\t\\t<span class=\"num\">1</span> <span class=\"ft-md\">사고이력이 있습니다.</span>\\n\\t\\t\\t\\t\\t\\t\\t\\t\\t\\t\\t\\t\\t\\n\\t\\t\\t\\t\\t\\t\\t\\t\\t\\t\\t\\t\\n\\t\\t\\t\\t\\t\\t\\t\\t\\t\\t\\t</div>\\n\\t\\t\\t\\t\\t\\t\\t\\t\\t\\t</div>\\n\\t\\t\\t\\t\\t\\t\\t\\t\\t</a>\\n\\t\\t\\t\\t\\t\\t\\t\\t</div>\\n\\t\\t\\t\\t\\t\\t\\t\\t\\n\\t\\t\\t\\t\\t\\t\\t\\t\\t<div class=\"item mid-tp\" style=\"display: none;\">\\n\\t\\t\\t\\t\\t\\t\\t\\t\\t\\t<a href=\"/public/car/detail.kbc?carSeq=23061931\" class=\"link\" target=\"_blank\">\\n\\t\\t\\t\\t\\t\\t\\t\\t\\t\\t\\t<div class=\"mid-box\">\\n\\t\\t\\t\\t\\t\\t\\t\\t\\t\\t\\t\\t<div class=\"gua-list\">\\n\\t\\t\\t\\t\\t\\t\\t\\t\\t\\t\\t\\t\\t<ul>\\n\\t\\t\\t\\t\\t\\t\\t\\t\\t\\t\\t\\t\\t\\t<li class=\"\">연장보증</li>\\n\\t\\t\\t\\t\\t\\t\\t\\t\\t\\t\\t\\t\\t\\t<li class=\"on\">헛걸음보상</li>\\n\\t\\t\\t\\t\\t\\t\\t\\t\\t\\t\\t\\t\\t\\t\\n\\t\\t\\t\\t\\t\\t\\t\\t\\t\\t\\t\\t\\t\\t\\n\\t\\t\\t\\t\\t\\t\\t\\t\\t\\t\\t\\t\\t\\t\\t<li class=\"\">KB안심리스</li>\\n\\t\\t\\t\\t\\t\\t\\t\\t\\t\\t\\t\\t\\t\\t\\n\\t\\t\\t\\t\\t\\t\\t\\t\\t\\t\\t\\t\\t</ul>\\n\\t\\t\\t\\t\\t\\t\\t\\t\\t\\t\\t\\t</div>\\n\\t\\t\\t\\t\\t\\t\\t\\t\\t\\t\\t\\t<div class=\"sp-txt01\">\\n\\t\\t\\t\\t\\t\\t\\t\\t\\t\\t\\t\\t\\t<span class=\"cor-blue ft-bd\">보증</span> 가능합니다\\n\\t\\t\\t\\t\\t\\t\\t\\t\\t\\t\\t\\t</div>\\n\\t\\t\\t\\t\\t\\t\\t\\t\\t\\t\\t</div>\\n\\t\\t\\t\\t\\t\\t\\t\\t\\t\\t</a>\\n\\t\\t\\t\\t\\t\\t\\t\\t\\t</div>\\n\\t\\t\\t\\t\\t\\t\\t\\t\\n\\t\\t\\t\\t\\t\\t\\t\\t\\n\\t\\t\\t\\t\\t\\t\\t\\t\\n\\t\\t\\t\\t\\t\\t\\t\\t\\t\\n\\t\\t\\t\\t\\t\\t\\t\\t\\t\\n\\t\\t\\t\\t\\t\\t\\t\\t\\n\\t\\t\\t\\t\\t\\t\\t</div>\\n\\t\\t\\t\\t\\t\\t</div>\\n\\t\\t\\t\\t\\t\\n\\t\\t\\t\\n\\t\\t\\t\\t\\t\\n\\t\\t\\t\\t\\t\\t<div class=\"area\" id=\"themeBanner2\" style=\"height: 435px;\">\\n\\t\\t\\t\\t\\t\\t\\t<img src=\"https://img.kbchachacha.com/IMG/banner/128/1009436415129906.png\" alt=\"\" class=\"link-img\">\\n\\t\\t\\t\\t\\t\\t\\t\\n\\t\\t\\t\\t\\t\\t</div>\\n\\t\\t\\t\\t\\t\\n\\t\\t\\t\\t</div>\\n\\t\\t\\t</div>\\n\\t\\t\\t<!-- //실차주매물 -->\\n\\t\\t\\n\\t\\t\\n\\t\\t\\t<!-- 실차주 아래 일반 배너 -->\\n\\t\\t\\t\\n\\t\\t\\t\\t<div class=\"banner-area buy-com-bar mg-b60\" id=\"normalBanner1\">\\n\\t\\t\\t\\t\\t<div class=\"banner-com\">\\n\\t\\t\\t\\t\\t\\t<div class=\"item\">\\n\\t\\t\\t\\t\\t\\t<span class=\"banner-com__left\" style=\"background-image:url(https://img.kbchachacha.com/IMG/banner/300/11642706190032123.png);\"></span>\\n\\t\\t\\t\\t\\t\\t<span class=\"banner-com__right\" style=\"background-image:url(https://img.kbchachacha.com/IMG/banner/300/11642706190032123.png);\"></span>\\n\\t\\t\\t\\t\\t\\t<img src=\"https://img.kbchachacha.com/IMG/banner/300/11642706190032123.png\" alt=\"\">\\n\\t\\t\\t\\t\\t\\t</div>\\n\\t\\t\\t\\t\\t\\t\\n\\t\\t\\t\\t\\t</div>\\n\\t\\t\\t\\t</div>\\n\\t\\t\\t\\n\\t\\t\\t<!-- //실차주 아래 일반 배너 -->\\n\\t\\t\\n\\t\\t<!-- //실차주 -->\\n\\n\\n\\t\\t\\n\\t\\t\\n\\t\\t\\n\\n\\t\\t\\n\\t\\t\\t\\n\\t\\t\\t\\t\\n\\t\\t\\t\\t\\n\\t\\t\\t\\t\\t\\n\\t\\t\\t\\t\\n\\t\\t\\t\\t\\n\\t\\t\\t\\n\\t\\t\\n\\t\\t\\t\\n\\t\\t\\t\\t\\n\\t\\t\\t\\t\\n\\t\\t\\t\\t\\t\\n\\t\\t\\t\\t\\n\\t\\t\\t\\t\\n\\t\\t\\t\\n\\t\\t\\n\\t\\t\\t\\n\\t\\t\\t\\t\\n\\t\\t\\t\\t\\n\\t\\t\\t\\t\\t\\n\\t\\t\\t\\t\\n\\t\\t\\t\\t\\n\\t\\t\\t\\n\\t\\t\\n\\t\\t\\t\\n\\t\\t\\t\\t\\n\\t\\t\\t\\t\\n\\t\\t\\t\\t\\t\\n\\t\\t\\t\\t\\n\\t\\t\\t\\t\\n\\t\\t\\t\\n\\t\\t\\n\\t\\t\\t\\n\\t\\t\\t\\t\\n\\t\\t\\t\\t\\n\\t\\t\\t\\t\\t\\n\\t\\t\\t\\t\\n\\t\\t\\t\\t\\n\\t\\t\\t\\n\\t\\t\\n\\t\\t\\t\\n\\t\\t\\t\\t\\n\\t\\t\\t\\t\\n\\t\\t\\t\\t\\t\\n\\t\\t\\t\\t\\n\\t\\t\\t\\t\\n\\t\\t\\t\\n\\t\\t\\n\\t\\t\\t\\n\\t\\t\\t\\t\\n\\t\\t\\t\\t\\n\\t\\t\\t\\t\\t\\n\\t\\t\\t\\t\\n\\t\\t\\t\\t\\n\\t\\t\\t\\n\\t\\t\\n\\t\\t\\t\\n\\t\\t\\t\\t\\n\\t\\t\\t\\t\\n\\t\\t\\t\\t\\t\\n\\t\\t\\t\\t\\n\\t\\t\\t\\t\\n\\t\\t\\t\\n\\t\\t\\n\\t\\t\\t\\n\\t\\t\\t\\t\\n\\t\\t\\t\\t\\n\\t\\t\\t\\t\\t\\n\\t\\t\\t\\t\\n\\t\\t\\t\\t\\n\\t\\t\\t\\n\\t\\t\\n\\t\\t\\t\\n\\t\\t\\t\\t\\n\\t\\t\\t\\t\\n\\t\\t\\t\\t\\t\\n\\t\\t\\t\\t\\n\\t\\t\\t\\t\\n\\t\\t\\t\\n\\t\\t\\n\\t\\t\\t\\n\\t\\t\\t\\t\\n\\t\\t\\t\\t\\n\\t\\t\\t\\t\\t\\n\\t\\t\\t\\t\\n\\t\\t\\t\\t\\n\\t\\t\\t\\n\\t\\t\\n\\t\\t\\t\\n\\t\\t\\t\\t\\n\\t\\t\\t\\t\\n\\t\\t\\t\\t\\t\\n\\t\\t\\t\\t\\n\\t\\t\\t\\t\\n\\t\\t\\t\\n\\t\\t\\n\\t\\t\\t\\n\\t\\t\\t\\t\\n\\t\\t\\t\\t\\n\\t\\t\\t\\t\\t\\n\\t\\t\\t\\t\\n\\t\\t\\t\\t\\n\\t\\t\\t\\n\\t\\t\\n\\t\\t\\t\\n\\t\\t\\t\\t\\n\\t\\t\\t\\t\\n\\t\\t\\t\\t\\t\\n\\t\\t\\t\\t\\n\\t\\t\\t\\t\\n\\t\\t\\t\\n\\t\\t\\n\\t\\t\\t\\n\\t\\t\\t\\t\\n\\t\\t\\t\\t\\n\\t\\t\\t\\t\\t\\n\\t\\t\\t\\t\\n\\t\\t\\t\\t\\n\\t\\t\\t\\n\\t\\t\\n\\t\\t\\t\\n\\t\\t\\t\\t\\n\\t\\t\\t\\t\\n\\t\\t\\t\\t\\t\\n\\t\\t\\t\\t\\n\\t\\t\\t\\t\\n\\t\\t\\t\\n\\t\\t\\n\\t\\t\\t\\n\\t\\t\\t\\t\\n\\t\\t\\t\\t\\n\\t\\t\\t\\t\\t\\n\\t\\t\\t\\t\\n\\t\\t\\t\\t\\n\\t\\t\\t\\n\\t\\t\\n\\t\\t\\t\\n\\t\\t\\t\\t\\n\\t\\t\\t\\t\\n\\t\\t\\t\\t\\t\\n\\t\\t\\t\\t\\n\\t\\t\\t\\t\\n\\t\\t\\t\\n\\t\\t\\n\\t\\t\\t\\n\\t\\t\\t\\t\\n\\t\\t\\t\\t\\n\\t\\t\\t\\t\\t\\n\\t\\t\\t\\t\\n\\t\\t\\t\\t\\n\\t\\t\\t\\n\\t\\t\\n\\t\\t\\t\\n\\t\\t\\t\\t\\n\\t\\t\\t\\t\\n\\t\\t\\t\\t\\t\\n\\t\\t\\t\\t\\n\\t\\t\\t\\t\\n\\t\\t\\t\\n\\t\\t\\n\\n\\t\\t<!-- 일반등록 -->\\n\\t\\t\\n\\t\\t\\t<div class=\"cs-list02 cs-list02--ratio small-tp generalRegist\">\\n\\t\\t\\t\\t<div class=\"csTitleArea\">\\n\\t\\t\\t\\t\\t<h2 class=\"title\">일반 매물</h2>\\n\\t\\t\\t\\t</div>\\n\\t\\t\\t\\t<div class=\"list-in\">\\n\\t\\t\\t\\t\\t\\n\\t\\t\\t\\t\\t\\t\\n\\t\\t\\t\\t\\t\\t\\n\\t\\t\\t\\t\\t\\t\\n\\t\\t\\t\\t\\t\\t    \\n\\t\\t\\t\\t\\t\\t\\n\\t\\t\\t\\t\\t\\t\\n\\t\\t\\t\\t\\t\\t\\n\\t\\t\\t\\t\\t\\t<div class=\"area \" title=\"한국GM 레스타 단축 STD 25인승 \" data-car-seq=\"20593721\">\\n\\t\\t\\t\\t\\t\\t\\t<div class=\"thumnail\">\\n\\t\\t\\t\\t\\t\\t\\t\\t\\n\\t\\t\\t\\t\\t\\t\\t\\t    \\n\\t\\t\\t\\t\\t\\t\\t\\t    \\n\\t\\t\\t\\t\\t\\t\\t\\t    \\n\\t\\t\\t\\t\\t\\t\\t\\t    \\n\\t\\t\\t\\t\\t\\t\\t\\t\\n\\t\\t\\t\\t\\t\\t\\t\\t<a href=\"/public/car/detail.kbc?carSeq=20593721\" class=\"item\" target=\"_blank\">\\n\\t\\t\\t\\t\\t\\t\\t\\t\\t<span class=\"item__img\">\\n\\t\\t\\t\\t\\t\\t\\t\\t\\t\\t<img alt=\"\" src=\"https://img.kbchachacha.com/IMG/carimg/l/img09/img2059/20593721_4477154582963476.jpg?width=360\" onerror=\"this.src=\\'/images/common/noimage.jpg\\';\">\\n\\t\\t\\t\\t\\t\\t\\t\\t\\t</span>\\n\\t\\t\\t\\t\\t\\t\\t\\t</a>\\n\\t\\t\\t\\t\\t\\t\\t</div>\\n\\t\\t\\t\\t\\t\\t\\t\\n\\t\\t\\t\\t\\t\\t\\t<div class=\"con\">\\n\\t\\t\\t\\t\\t\\t\\t\\t<div class=\"item\">\\n\\t\\t\\t\\t\\t\\t\\t\\t\\t<a href=\"/public/car/detail.kbc?carSeq=20593721\" class=\"link\" target=\"_blank\">\\n\\t\\t\\t\\t\\t\\t\\t\\t\\t\\t<strong class=\"tit\">\\n\\t\\t\\t\\t\\t\\t\\t\\t\\t\\t\\t\\n\\t\\t\\t\\t\\t\\t\\t\\t\\t\\t\\t\\n\\t\\t\\t\\t\\t\\t\\t\\t\\t\\t\\t\\n\\t\\t\\t\\t\\t\\t\\t\\t\\t\\t\\t\\n\\t\\t\\t\\t\\t\\t\\t\\t\\t\\t\\t한국GM 레스타 단축 STD 25인승 \\n\\t\\t\\t\\t\\t\\t\\t\\t\\t\\t</strong>\\n\\t\\t\\t\\t\\t\\t\\t\\t\\t\\t<div class=\"data-line tp03\">\\n\\t\\t\\t\\t\\t\\t\\t\\t\\t\\t\\t<div class=\"first\">2014년 05월 (14년식)</div>\\n\\t\\t\\t\\t\\t\\t\\t\\t\\t\\t\\t<div class=\"data-in\">\\n\\t\\t\\t\\t\\t\\t\\t\\t\\t\\t\\t\\t<span>109,000km</span>\\n\\t\\t\\t\\t\\t\\t\\t\\t\\t\\t\\t\\t<span>충남</span>\\n\\t\\t\\t\\t\\t\\t\\t\\t\\t\\t\\t</div>\\n\\t\\t\\t\\t\\t\\t\\t\\t\\t\\t</div>\\n\\t\\t\\t\\t\\t\\t\\t\\t\\t\\t<strong class=\"pay\">\\n\\t\\t\\t\\t\\t\\t\\t\\t\\t\\t\\t\\n\\t\\t\\t\\t\\t\\t\\t\\t\\t\\t\\t\\t\\n\\t\\t\\t\\t\\t\\t\\t\\t\\t\\t\\t\\t\\t4,500만원 <del>4,580만원</del>\\n\\t\\t\\t\\t\\t\\t\\t\\t\\t\\t\\t\\t\\n\\t\\t\\t\\t\\t\\t\\t\\t\\t\\t\\t\\t\\n\\t\\t\\t\\t\\t\\t\\t\\t\\t\\t\\t\\t\\n\\t\\t\\t\\t\\t\\t\\t\\t\\t\\t\\t\\n\\t\\t\\t\\t\\t\\t\\t\\t\\t\\t</strong>\\n\\t\\t\\t\\t\\t\\t\\t\\t\\t</a>\\n\\t\\t\\t\\t\\t\\t\\t\\t\\t\\n\\t\\t\\t\\t\\t\\t\\t\\t\\t\\t<div class=\"cor-btn\">\\n\\t\\t\\t\\t\\t\\t\\t\\t\\t\\t\\t\\n\\t\\t\\t\\t\\t\\t\\t\\t\\t\\t\\t    <span class=\"bbadge bbadge-service bbadge-compensation\">헛걸음보상</span>\\n\\t\\t\\t\\t\\t\\t\\t\\t\\t\\t\\t\\n\\t\\t\\t\\t\\t\\t\\t\\t\\t\\t\\t\\n\\t\\t\\t\\t\\t\\t\\t\\t\\t\\t</div>\\n\\t\\t\\t\\t\\t\\t\\t\\t\\t\\n\\t\\t\\t\\t\\t\\t\\t\\t\\t<div class=\"sort-wrap\">\\n\\t\\t\\t\\t\\t\\t\\t\\t\\t\\t<div class=\"ck-wrap ck-tp02\">\\n\\t\\t\\t\\t\\t\\t\\t\\t\\t\\t\\t<button type=\"button\" class=\"lc-btn like ck-item  __wish\" data-car-seq=\"20593721\">\\n\\t\\t\\t\\t\\t\\t\\t\\t\\t\\t\\t\\t<span class=\"blind\">좋아요</span>\\n\\t\\t\\t\\t\\t\\t\\t\\t\\t\\t\\t</button>\\n\\t\\t\\t\\t\\t\\t\\t\\t\\t\\t\\t<button type=\"button\" class=\"lc-btn cpr ck-item  __compare\" data-car-seq=\"20593721\">\\n\\t\\t\\t\\t\\t\\t\\t\\t\\t\\t\\t\\t<span class=\"blind\">비교하기</span>\\n\\t\\t\\t\\t\\t\\t\\t\\t\\t\\t\\t</button>\\n\\t\\t\\t\\t\\t\\t\\t\\t\\t\\t</div>\\n\\t\\t\\t\\t\\t\\t\\t\\t\\t</div>\\n\\t\\t\\t\\t\\t\\t\\t\\t</div>\\n\\t\\t\\t\\t\\t\\t\\t</div>\\n\\t\\t\\t\\t\\t\\t</div>\\n\\t\\t\\t\\t\\t\\n\\t\\t\\t\\t\\t\\t\\n\\t\\t\\t\\t\\t\\t\\n\\t\\t\\t\\t\\t\\t\\n\\t\\t\\t\\t\\t\\t    \\n\\t\\t\\t\\t\\t\\t\\n\\t\\t\\t\\t\\t\\t\\n\\t\\t\\t\\t\\t\\t\\n\\t\\t\\t\\t\\t\\t<div class=\"area \" title=\"기아 K7 2.4 GDI 프레스티지\" data-car-seq=\"20635829\">\\n\\t\\t\\t\\t\\t\\t\\t<div class=\"thumnail\">\\n\\t\\t\\t\\t\\t\\t\\t\\t\\n\\t\\t\\t\\t\\t\\t\\t\\t    \\n\\t\\t\\t\\t\\t\\t\\t\\t    \\n\\t\\t\\t\\t\\t\\t\\t\\t    \\n\\t\\t\\t\\t\\t\\t\\t\\t    \\n\\t\\t\\t\\t\\t\\t\\t\\t\\n\\t\\t\\t\\t\\t\\t\\t\\t<a href=\"/public/car/detail.kbc?carSeq=20635829\" class=\"item\" target=\"_blank\">\\n\\t\\t\\t\\t\\t\\t\\t\\t\\t<span class=\"item__img\">\\n\\t\\t\\t\\t\\t\\t\\t\\t\\t\\t<img alt=\"\" src=\"https://img.kbchachacha.com/IMG/carimg/l/img03/img2063/20635829_8597655860161928.jpeg?width=360\" onerror=\"this.src=\\'/images/common/noimage.jpg\\';\">\\n\\t\\t\\t\\t\\t\\t\\t\\t\\t</span>\\n\\t\\t\\t\\t\\t\\t\\t\\t</a>\\n\\t\\t\\t\\t\\t\\t\\t</div>\\n\\t\\t\\t\\t\\t\\t\\t\\n\\t\\t\\t\\t\\t\\t\\t<div class=\"con\">\\n\\t\\t\\t\\t\\t\\t\\t\\t<div class=\"item\">\\n\\t\\t\\t\\t\\t\\t\\t\\t\\t<a href=\"/public/car/detail.kbc?carSeq=20635829\" class=\"link\" target=\"_blank\">\\n\\t\\t\\t\\t\\t\\t\\t\\t\\t\\t<strong class=\"tit\">\\n\\t\\t\\t\\t\\t\\t\\t\\t\\t\\t\\t\\n\\t\\t\\t\\t\\t\\t\\t\\t\\t\\t\\t\\n\\t\\t\\t\\t\\t\\t\\t\\t\\t\\t\\t<span class=\"bbadge bbadge-service-small bbadge-stock\">실차주</span>\\n\\t\\t\\t\\t\\t\\t\\t\\t\\t\\t\\t\\n\\t\\t\\t\\t\\t\\t\\t\\t\\t\\t\\t\\n\\t\\t\\t\\t\\t\\t\\t\\t\\t\\t\\t\\n\\t\\t\\t\\t\\t\\t\\t\\t\\t\\t\\t기아 K7 2.4 GDI 프레스티지\\n\\t\\t\\t\\t\\t\\t\\t\\t\\t\\t</strong>\\n\\t\\t\\t\\t\\t\\t\\t\\t\\t\\t<div class=\"data-line tp03\">\\n\\t\\t\\t\\t\\t\\t\\t\\t\\t\\t\\t<div class=\"first\">2011년 04월 (12년식)</div>\\n\\t\\t\\t\\t\\t\\t\\t\\t\\t\\t\\t<div class=\"data-in\">\\n\\t\\t\\t\\t\\t\\t\\t\\t\\t\\t\\t\\t<span>176,385km</span>\\n\\t\\t\\t\\t\\t\\t\\t\\t\\t\\t\\t\\t<span>경남</span>\\n\\t\\t\\t\\t\\t\\t\\t\\t\\t\\t\\t</div>\\n\\t\\t\\t\\t\\t\\t\\t\\t\\t\\t</div>\\n\\t\\t\\t\\t\\t\\t\\t\\t\\t\\t<strong class=\"pay\">\\n\\t\\t\\t\\t\\t\\t\\t\\t\\t\\t\\t\\n\\t\\t\\t\\t\\t\\t\\t\\t\\t\\t\\t\\t\\n\\t\\t\\t\\t\\t\\t\\t\\t\\t\\t\\t\\t\\t590만원\\n\\t\\t\\t\\t\\t\\t\\t\\t\\t\\t\\t\\t\\n\\t\\t\\t\\t\\t\\t\\t\\t\\t\\t\\t\\t\\n\\t\\t\\t\\t\\t\\t\\t\\t\\t\\t\\t\\t\\n\\t\\t\\t\\t\\t\\t\\t\\t\\t\\t\\t\\n\\t\\t\\t\\t\\t\\t\\t\\t\\t\\t</strong>\\n\\t\\t\\t\\t\\t\\t\\t\\t\\t</a>\\n\\t\\t\\t\\t\\t\\t\\t\\t\\t\\n\\t\\t\\t\\t\\t\\t\\t\\t\\t\\t<div class=\"cor-btn\">\\n\\t\\t\\t\\t\\t\\t\\t\\t\\t\\t\\t\\n\\t\\t\\t\\t\\t\\t\\t\\t\\t\\t\\t    <span class=\"bbadge bbadge-service bbadge-compensation\">헛걸음보상</span>\\n\\t\\t\\t\\t\\t\\t\\t\\t\\t\\t\\t\\n\\t\\t\\t\\t\\t\\t\\t\\t\\t\\t\\t\\n\\t\\t\\t\\t\\t\\t\\t\\t\\t\\t</div>\\n\\t\\t\\t\\t\\t\\t\\t\\t\\t\\n\\t\\t\\t\\t\\t\\t\\t\\t\\t<div class=\"sort-wrap\">\\n\\t\\t\\t\\t\\t\\t\\t\\t\\t\\t<div class=\"ck-wrap ck-tp02\">\\n\\t\\t\\t\\t\\t\\t\\t\\t\\t\\t\\t<button type=\"button\" class=\"lc-btn like ck-item  __wish\" data-car-seq=\"20635829\">\\n\\t\\t\\t\\t\\t\\t\\t\\t\\t\\t\\t\\t<span class=\"blind\">좋아요</span>\\n\\t\\t\\t\\t\\t\\t\\t\\t\\t\\t\\t</button>\\n\\t\\t\\t\\t\\t\\t\\t\\t\\t\\t\\t<button type=\"button\" class=\"lc-btn cpr ck-item  __compare\" data-car-seq=\"20635829\">\\n\\t\\t\\t\\t\\t\\t\\t\\t\\t\\t\\t\\t<span class=\"blind\">비교하기</span>\\n\\t\\t\\t\\t\\t\\t\\t\\t\\t\\t\\t</button>\\n\\t\\t\\t\\t\\t\\t\\t\\t\\t\\t</div>\\n\\t\\t\\t\\t\\t\\t\\t\\t\\t</div>\\n\\t\\t\\t\\t\\t\\t\\t\\t</div>\\n\\t\\t\\t\\t\\t\\t\\t</div>\\n\\t\\t\\t\\t\\t\\t</div>\\n\\t\\t\\t\\t\\t\\n\\t\\t\\t\\t\\t\\t\\n\\t\\t\\t\\t\\t\\t\\n\\t\\t\\t\\t\\t\\t\\n\\t\\t\\t\\t\\t\\t    \\n\\t\\t\\t\\t\\t\\t\\n\\t\\t\\t\\t\\t\\t\\n\\t\\t\\t\\t\\t\\t\\n\\t\\t\\t\\t\\t\\t<div class=\"area \" title=\"현대 제네시스 BH380(수출형) 럭셔리\" data-car-seq=\"21432508\">\\n\\t\\t\\t\\t\\t\\t\\t<div class=\"thumnail\">\\n\\t\\t\\t\\t\\t\\t\\t\\t\\n\\t\\t\\t\\t\\t\\t\\t\\t    \\n\\t\\t\\t\\t\\t\\t\\t\\t    \\n\\t\\t\\t\\t\\t\\t\\t\\t    \\n\\t\\t\\t\\t\\t\\t\\t\\t    \\n\\t\\t\\t\\t\\t\\t\\t\\t\\n\\t\\t\\t\\t\\t\\t\\t\\t<a href=\"/public/car/detail.kbc?carSeq=21432508\" class=\"item\" target=\"_blank\">\\n\\t\\t\\t\\t\\t\\t\\t\\t\\t<span class=\"item__img\">\\n\\t\\t\\t\\t\\t\\t\\t\\t\\t\\t<img alt=\"\" src=\"https://img.kbchachacha.com/IMG/carimg/l/img03/img2143/21432508_29705049725769215.jpeg?width=360\" onerror=\"this.src=\\'/images/common/noimage.jpg\\';\">\\n\\t\\t\\t\\t\\t\\t\\t\\t\\t</span>\\n\\t\\t\\t\\t\\t\\t\\t\\t</a>\\n\\t\\t\\t\\t\\t\\t\\t</div>\\n\\t\\t\\t\\t\\t\\t\\t\\n\\t\\t\\t\\t\\t\\t\\t<div class=\"con\">\\n\\t\\t\\t\\t\\t\\t\\t\\t<div class=\"item\">\\n\\t\\t\\t\\t\\t\\t\\t\\t\\t<a href=\"/public/car/detail.kbc?carSeq=21432508\" class=\"link\" target=\"_blank\">\\n\\t\\t\\t\\t\\t\\t\\t\\t\\t\\t<strong class=\"tit\">\\n\\t\\t\\t\\t\\t\\t\\t\\t\\t\\t\\t\\n\\t\\t\\t\\t\\t\\t\\t\\t\\t\\t\\t\\n\\t\\t\\t\\t\\t\\t\\t\\t\\t\\t\\t<span class=\"bbadge bbadge-service-small bbadge-stock\">실차주</span>\\n\\t\\t\\t\\t\\t\\t\\t\\t\\t\\t\\t\\n\\t\\t\\t\\t\\t\\t\\t\\t\\t\\t\\t\\n\\t\\t\\t\\t\\t\\t\\t\\t\\t\\t\\t\\n\\t\\t\\t\\t\\t\\t\\t\\t\\t\\t\\t현대 제네시스 BH380(수출형) 럭셔리\\n\\t\\t\\t\\t\\t\\t\\t\\t\\t\\t</strong>\\n\\t\\t\\t\\t\\t\\t\\t\\t\\t\\t<div class=\"data-line tp03\">\\n\\t\\t\\t\\t\\t\\t\\t\\t\\t\\t\\t<div class=\"first\">2012년 08월 (12년식)</div>\\n\\t\\t\\t\\t\\t\\t\\t\\t\\t\\t\\t<div class=\"data-in\">\\n\\t\\t\\t\\t\\t\\t\\t\\t\\t\\t\\t\\t<span>64,475km</span>\\n\\t\\t\\t\\t\\t\\t\\t\\t\\t\\t\\t\\t<span>인천</span>\\n\\t\\t\\t\\t\\t\\t\\t\\t\\t\\t\\t</div>\\n\\t\\t\\t\\t\\t\\t\\t\\t\\t\\t</div>\\n\\t\\t\\t\\t\\t\\t\\t\\t\\t\\t<strong class=\"pay\">\\n\\t\\t\\t\\t\\t\\t\\t\\t\\t\\t\\t\\n\\t\\t\\t\\t\\t\\t\\t\\t\\t\\t\\t\\t\\n\\t\\t\\t\\t\\t\\t\\t\\t\\t\\t\\t\\t\\t950만원\\n\\t\\t\\t\\t\\t\\t\\t\\t\\t\\t\\t\\t\\n\\t\\t\\t\\t\\t\\t\\t\\t\\t\\t\\t\\t\\n\\t\\t\\t\\t\\t\\t\\t\\t\\t\\t\\t\\t\\n\\t\\t\\t\\t\\t\\t\\t\\t\\t\\t\\t\\n\\t\\t\\t\\t\\t\\t\\t\\t\\t\\t</strong>\\n\\t\\t\\t\\t\\t\\t\\t\\t\\t</a>\\n\\t\\t\\t\\t\\t\\t\\t\\t\\t\\n\\t\\t\\t\\t\\t\\t\\t\\t\\t\\t<div class=\"cor-btn\">\\n\\t\\t\\t\\t\\t\\t\\t\\t\\t\\t\\t\\n\\t\\t\\t\\t\\t\\t\\t\\t\\t\\t\\t    <span class=\"bbadge bbadge-service bbadge-compensation\">헛걸음보상</span>\\n\\t\\t\\t\\t\\t\\t\\t\\t\\t\\t\\t\\n\\t\\t\\t\\t\\t\\t\\t\\t\\t\\t\\t\\n\\t\\t\\t\\t\\t\\t\\t\\t\\t\\t</div>\\n\\t\\t\\t\\t\\t\\t\\t\\t\\t\\n\\t\\t\\t\\t\\t\\t\\t\\t\\t<div class=\"sort-wrap\">\\n\\t\\t\\t\\t\\t\\t\\t\\t\\t\\t<div class=\"ck-wrap ck-tp02\">\\n\\t\\t\\t\\t\\t\\t\\t\\t\\t\\t\\t<button type=\"button\" class=\"lc-btn like ck-item  __wish\" data-car-seq=\"21432508\">\\n\\t\\t\\t\\t\\t\\t\\t\\t\\t\\t\\t\\t<span class=\"blind\">좋아요</span>\\n\\t\\t\\t\\t\\t\\t\\t\\t\\t\\t\\t</button>\\n\\t\\t\\t\\t\\t\\t\\t\\t\\t\\t\\t<button type=\"button\" class=\"lc-btn cpr ck-item  __compare\" data-car-seq=\"21432508\">\\n\\t\\t\\t\\t\\t\\t\\t\\t\\t\\t\\t\\t<span class=\"blind\">비교하기</span>\\n\\t\\t\\t\\t\\t\\t\\t\\t\\t\\t\\t</button>\\n\\t\\t\\t\\t\\t\\t\\t\\t\\t\\t</div>\\n\\t\\t\\t\\t\\t\\t\\t\\t\\t</div>\\n\\t\\t\\t\\t\\t\\t\\t\\t</div>\\n\\t\\t\\t\\t\\t\\t\\t</div>\\n\\t\\t\\t\\t\\t\\t</div>\\n\\t\\t\\t\\t\\t\\n\\t\\t\\t\\t\\t\\t\\n\\t\\t\\t\\t\\t\\t\\n\\t\\t\\t\\t\\t\\t\\n\\t\\t\\t\\t\\t\\t    \\n\\t\\t\\t\\t\\t\\t\\n\\t\\t\\t\\t\\t\\t\\n\\t\\t\\t\\t\\t\\t\\n\\t\\t\\t\\t\\t\\t<div class=\"area \" title=\"현대 에쿠스(신형) VS380 럭셔리\" data-car-seq=\"21613914\">\\n\\t\\t\\t\\t\\t\\t\\t<div class=\"thumnail\">\\n\\t\\t\\t\\t\\t\\t\\t\\t\\n\\t\\t\\t\\t\\t\\t\\t\\t    \\n\\t\\t\\t\\t\\t\\t\\t\\t    \\n\\t\\t\\t\\t\\t\\t\\t\\t    \\n\\t\\t\\t\\t\\t\\t\\t\\t    \\n\\t\\t\\t\\t\\t\\t\\t\\t\\n\\t\\t\\t\\t\\t\\t\\t\\t<a href=\"/public/car/detail.kbc?carSeq=21613914\" class=\"item\" target=\"_blank\">\\n\\t\\t\\t\\t\\t\\t\\t\\t\\t<span class=\"item__img\">\\n\\t\\t\\t\\t\\t\\t\\t\\t\\t\\t<img alt=\"\" src=\"https://img.kbchachacha.com/IMG/carimg/l/img01/img2161/21613914_34027407008974407.jpg?width=360\" onerror=\"this.src=\\'/images/common/noimage.jpg\\';\">\\n\\t\\t\\t\\t\\t\\t\\t\\t\\t</span>\\n\\t\\t\\t\\t\\t\\t\\t\\t</a>\\n\\t\\t\\t\\t\\t\\t\\t</div>\\n\\t\\t\\t\\t\\t\\t\\t\\n\\t\\t\\t\\t\\t\\t\\t<div class=\"con\">\\n\\t\\t\\t\\t\\t\\t\\t\\t<div class=\"item\">\\n\\t\\t\\t\\t\\t\\t\\t\\t\\t<a href=\"/public/car/detail.kbc?carSeq=21613914\" class=\"link\" target=\"_blank\">\\n\\t\\t\\t\\t\\t\\t\\t\\t\\t\\t<strong class=\"tit\">\\n\\t\\t\\t\\t\\t\\t\\t\\t\\t\\t\\t\\n\\t\\t\\t\\t\\t\\t\\t\\t\\t\\t\\t\\n\\t\\t\\t\\t\\t\\t\\t\\t\\t\\t\\t\\n\\t\\t\\t\\t\\t\\t\\t\\t\\t\\t\\t\\n\\t\\t\\t\\t\\t\\t\\t\\t\\t\\t\\t현대 에쿠스(신형) VS380 럭셔리\\n\\t\\t\\t\\t\\t\\t\\t\\t\\t\\t</strong>\\n\\t\\t\\t\\t\\t\\t\\t\\t\\t\\t<div class=\"data-line tp03\">\\n\\t\\t\\t\\t\\t\\t\\t\\t\\t\\t\\t<div class=\"first\">2012년 02월 (12년식)</div>\\n\\t\\t\\t\\t\\t\\t\\t\\t\\t\\t\\t<div class=\"data-in\">\\n\\t\\t\\t\\t\\t\\t\\t\\t\\t\\t\\t\\t<span>183,000km</span>\\n\\t\\t\\t\\t\\t\\t\\t\\t\\t\\t\\t\\t<span>서울</span>\\n\\t\\t\\t\\t\\t\\t\\t\\t\\t\\t\\t</div>\\n\\t\\t\\t\\t\\t\\t\\t\\t\\t\\t</div>\\n\\t\\t\\t\\t\\t\\t\\t\\t\\t\\t<strong class=\"pay\">\\n\\t\\t\\t\\t\\t\\t\\t\\t\\t\\t\\t\\n\\t\\t\\t\\t\\t\\t\\t\\t\\t\\t\\t\\t\\n\\t\\t\\t\\t\\t\\t\\t\\t\\t\\t\\t\\t\\t950만원\\n\\t\\t\\t\\t\\t\\t\\t\\t\\t\\t\\t\\t\\n\\t\\t\\t\\t\\t\\t\\t\\t\\t\\t\\t\\t\\n\\t\\t\\t\\t\\t\\t\\t\\t\\t\\t\\t\\t\\n\\t\\t\\t\\t\\t\\t\\t\\t\\t\\t\\t\\n\\t\\t\\t\\t\\t\\t\\t\\t\\t\\t</strong>\\n\\t\\t\\t\\t\\t\\t\\t\\t\\t</a>\\n\\t\\t\\t\\t\\t\\t\\t\\t\\t\\n\\t\\t\\t\\t\\t\\t\\t\\t\\t\\t<div class=\"cor-btn\">\\n\\t\\t\\t\\t\\t\\t\\t\\t\\t\\t\\t\\n\\t\\t\\t\\t\\t\\t\\t\\t\\t\\t\\t    <span class=\"bbadge bbadge-service bbadge-compensation\">헛걸음보상</span>\\n\\t\\t\\t\\t\\t\\t\\t\\t\\t\\t\\t\\n\\t\\t\\t\\t\\t\\t\\t\\t\\t\\t\\t\\n\\t\\t\\t\\t\\t\\t\\t\\t\\t\\t</div>\\n\\t\\t\\t\\t\\t\\t\\t\\t\\t\\n\\t\\t\\t\\t\\t\\t\\t\\t\\t<div class=\"sort-wrap\">\\n\\t\\t\\t\\t\\t\\t\\t\\t\\t\\t<div class=\"ck-wrap ck-tp02\">\\n\\t\\t\\t\\t\\t\\t\\t\\t\\t\\t\\t<button type=\"button\" class=\"lc-btn like ck-item  __wish\" data-car-seq=\"21613914\">\\n\\t\\t\\t\\t\\t\\t\\t\\t\\t\\t\\t\\t<span class=\"blind\">좋아요</span>\\n\\t\\t\\t\\t\\t\\t\\t\\t\\t\\t\\t</button>\\n\\t\\t\\t\\t\\t\\t\\t\\t\\t\\t\\t<button type=\"button\" class=\"lc-btn cpr ck-item  __compare\" data-car-seq=\"21613914\">\\n\\t\\t\\t\\t\\t\\t\\t\\t\\t\\t\\t\\t<span class=\"blind\">비교하기</span>\\n\\t\\t\\t\\t\\t\\t\\t\\t\\t\\t\\t</button>\\n\\t\\t\\t\\t\\t\\t\\t\\t\\t\\t</div>\\n\\t\\t\\t\\t\\t\\t\\t\\t\\t</div>\\n\\t\\t\\t\\t\\t\\t\\t\\t</div>\\n\\t\\t\\t\\t\\t\\t\\t</div>\\n\\t\\t\\t\\t\\t\\t</div>\\n\\t\\t\\t\\t\\t\\n\\t\\t\\t\\t\\t\\t\\n\\t\\t\\t\\t\\t\\t\\n\\t\\t\\t\\t\\t\\t\\n\\t\\t\\t\\t\\t\\t    \\n\\t\\t\\t\\t\\t\\t\\n\\t\\t\\t\\t\\t\\t\\n\\t\\t\\t\\t\\t\\t\\n\\t\\t\\t\\t\\t\\t<div class=\"area \" title=\"한국GM 콜로라도 3.6L V6 4WD 익스트림-X\" data-car-seq=\"21669231\">\\n\\t\\t\\t\\t\\t\\t\\t<div class=\"thumnail\">\\n\\t\\t\\t\\t\\t\\t\\t\\t\\n\\t\\t\\t\\t\\t\\t\\t\\t    \\n\\t\\t\\t\\t\\t\\t\\t\\t    \\n\\t\\t\\t\\t\\t\\t\\t\\t    \\n\\t\\t\\t\\t\\t\\t\\t\\t    \\n\\t\\t\\t\\t\\t\\t\\t\\t\\n\\t\\t\\t\\t\\t\\t\\t\\t<a href=\"/public/car/detail.kbc?carSeq=21669231\" class=\"item\" target=\"_blank\">\\n\\t\\t\\t\\t\\t\\t\\t\\t\\t<span class=\"item__img\">\\n\\t\\t\\t\\t\\t\\t\\t\\t\\t\\t<img alt=\"\" src=\"https://img.kbchachacha.com/IMG/carimg/l/img06/img2166/21669231_35158399485643883.jpeg?width=360\" onerror=\"this.src=\\'/images/common/noimage.jpg\\';\">\\n\\t\\t\\t\\t\\t\\t\\t\\t\\t</span>\\n\\t\\t\\t\\t\\t\\t\\t\\t</a>\\n\\t\\t\\t\\t\\t\\t\\t</div>\\n\\t\\t\\t\\t\\t\\t\\t\\n\\t\\t\\t\\t\\t\\t\\t<div class=\"con\">\\n\\t\\t\\t\\t\\t\\t\\t\\t<div class=\"item\">\\n\\t\\t\\t\\t\\t\\t\\t\\t\\t<a href=\"/public/car/detail.kbc?carSeq=21669231\" class=\"link\" target=\"_blank\">\\n\\t\\t\\t\\t\\t\\t\\t\\t\\t\\t<strong class=\"tit\">\\n\\t\\t\\t\\t\\t\\t\\t\\t\\t\\t\\t\\n\\t\\t\\t\\t\\t\\t\\t\\t\\t\\t\\t\\n\\t\\t\\t\\t\\t\\t\\t\\t\\t\\t\\t<span class=\"bbadge bbadge-service-small bbadge-stock\">실차주</span>\\n\\t\\t\\t\\t\\t\\t\\t\\t\\t\\t\\t\\n\\t\\t\\t\\t\\t\\t\\t\\t\\t\\t\\t\\n\\t\\t\\t\\t\\t\\t\\t\\t\\t\\t\\t\\n\\t\\t\\t\\t\\t\\t\\t\\t\\t\\t\\t한국GM 콜로라도 3.6L V6 4WD 익스트림-X\\n\\t\\t\\t\\t\\t\\t\\t\\t\\t\\t</strong>\\n\\t\\t\\t\\t\\t\\t\\t\\t\\t\\t<div class=\"data-line tp03\">\\n\\t\\t\\t\\t\\t\\t\\t\\t\\t\\t\\t<div class=\"first\">2020년 07월 (20년식)</div>\\n\\t\\t\\t\\t\\t\\t\\t\\t\\t\\t\\t<div class=\"data-in\">\\n\\t\\t\\t\\t\\t\\t\\t\\t\\t\\t\\t\\t<span>20,000km</span>\\n\\t\\t\\t\\t\\t\\t\\t\\t\\t\\t\\t\\t<span>광주</span>\\n\\t\\t\\t\\t\\t\\t\\t\\t\\t\\t\\t</div>\\n\\t\\t\\t\\t\\t\\t\\t\\t\\t\\t</div>\\n\\t\\t\\t\\t\\t\\t\\t\\t\\t\\t<strong class=\"pay\">\\n\\t\\t\\t\\t\\t\\t\\t\\t\\t\\t\\t\\n\\t\\t\\t\\t\\t\\t\\t\\t\\t\\t\\t\\t\\n\\t\\t\\t\\t\\t\\t\\t\\t\\t\\t\\t\\t\\t3,580만원\\n\\t\\t\\t\\t\\t\\t\\t\\t\\t\\t\\t\\t\\n\\t\\t\\t\\t\\t\\t\\t\\t\\t\\t\\t\\t\\n\\t\\t\\t\\t\\t\\t\\t\\t\\t\\t\\t\\t\\n\\t\\t\\t\\t\\t\\t\\t\\t\\t\\t\\t\\n\\t\\t\\t\\t\\t\\t\\t\\t\\t\\t</strong>\\n\\t\\t\\t\\t\\t\\t\\t\\t\\t</a>\\n\\t\\t\\t\\t\\t\\t\\t\\t\\t\\n\\t\\t\\t\\t\\t\\t\\t\\t\\t\\t<div class=\"cor-btn\">\\n\\t\\t\\t\\t\\t\\t\\t\\t\\t\\t\\t\\n\\t\\t\\t\\t\\t\\t\\t\\t\\t\\t\\t    <span class=\"bbadge bbadge-service bbadge-compensation\">헛걸음보상</span>\\n\\t\\t\\t\\t\\t\\t\\t\\t\\t\\t\\t\\n\\t\\t\\t\\t\\t\\t\\t\\t\\t\\t\\t\\n\\t\\t\\t\\t\\t\\t\\t\\t\\t\\t</div>\\n\\t\\t\\t\\t\\t\\t\\t\\t\\t\\n\\t\\t\\t\\t\\t\\t\\t\\t\\t<div class=\"sort-wrap\">\\n\\t\\t\\t\\t\\t\\t\\t\\t\\t\\t<div class=\"ck-wrap ck-tp02\">\\n\\t\\t\\t\\t\\t\\t\\t\\t\\t\\t\\t<button type=\"button\" class=\"lc-btn like ck-item  __wish\" data-car-seq=\"21669231\">\\n\\t\\t\\t\\t\\t\\t\\t\\t\\t\\t\\t\\t<span class=\"blind\">좋아요</span>\\n\\t\\t\\t\\t\\t\\t\\t\\t\\t\\t\\t</button>\\n\\t\\t\\t\\t\\t\\t\\t\\t\\t\\t\\t<button type=\"button\" class=\"lc-btn cpr ck-item  __compare\" data-car-seq=\"21669231\">\\n\\t\\t\\t\\t\\t\\t\\t\\t\\t\\t\\t\\t<span class=\"blind\">비교하기</span>\\n\\t\\t\\t\\t\\t\\t\\t\\t\\t\\t\\t</button>\\n\\t\\t\\t\\t\\t\\t\\t\\t\\t\\t</div>\\n\\t\\t\\t\\t\\t\\t\\t\\t\\t</div>\\n\\t\\t\\t\\t\\t\\t\\t\\t</div>\\n\\t\\t\\t\\t\\t\\t\\t</div>\\n\\t\\t\\t\\t\\t\\t</div>\\n\\t\\t\\t\\t\\t\\n\\t\\t\\t\\t\\t\\t\\n\\t\\t\\t\\t\\t\\t\\n\\t\\t\\t\\t\\t\\t\\n\\t\\t\\t\\t\\t\\t    \\n\\t\\t\\t\\t\\t\\t\\n\\t\\t\\t\\t\\t\\t\\n\\t\\t\\t\\t\\t\\t\\n\\t\\t\\t\\t\\t\\t<div class=\"area \" title=\"한국GM 윈스톰 7인승 4WD LT 익스트림\" data-car-seq=\"21703437\">\\n\\t\\t\\t\\t\\t\\t\\t<div class=\"thumnail\">\\n\\t\\t\\t\\t\\t\\t\\t\\t\\n\\t\\t\\t\\t\\t\\t\\t\\t    \\n\\t\\t\\t\\t\\t\\t\\t\\t    \\n\\t\\t\\t\\t\\t\\t\\t\\t    \\n\\t\\t\\t\\t\\t\\t\\t\\t    \\n\\t\\t\\t\\t\\t\\t\\t\\t\\n\\t\\t\\t\\t\\t\\t\\t\\t<a href=\"/public/car/detail.kbc?carSeq=21703437\" class=\"item\" target=\"_blank\">\\n\\t\\t\\t\\t\\t\\t\\t\\t\\t<span class=\"item__img\">\\n\\t\\t\\t\\t\\t\\t\\t\\t\\t\\t<img alt=\"\" src=\"https://img.kbchachacha.com/IMG/carimg/l/img10/img2170/21703437_35847762004380813.jpg?width=360\" onerror=\"this.src=\\'/images/common/noimage.jpg\\';\">\\n\\t\\t\\t\\t\\t\\t\\t\\t\\t</span>\\n\\t\\t\\t\\t\\t\\t\\t\\t</a>\\n\\t\\t\\t\\t\\t\\t\\t</div>\\n\\t\\t\\t\\t\\t\\t\\t\\n\\t\\t\\t\\t\\t\\t\\t<div class=\"con\">\\n\\t\\t\\t\\t\\t\\t\\t\\t<div class=\"item\">\\n\\t\\t\\t\\t\\t\\t\\t\\t\\t<a href=\"/public/car/detail.kbc?carSeq=21703437\" class=\"link\" target=\"_blank\">\\n\\t\\t\\t\\t\\t\\t\\t\\t\\t\\t<strong class=\"tit\">\\n\\t\\t\\t\\t\\t\\t\\t\\t\\t\\t\\t\\n\\t\\t\\t\\t\\t\\t\\t\\t\\t\\t\\t\\n\\t\\t\\t\\t\\t\\t\\t\\t\\t\\t\\t\\n\\t\\t\\t\\t\\t\\t\\t\\t\\t\\t\\t\\n\\t\\t\\t\\t\\t\\t\\t\\t\\t\\t\\t한국GM 윈스톰 7인승 4WD LT 익스트림\\n\\t\\t\\t\\t\\t\\t\\t\\t\\t\\t</strong>\\n\\t\\t\\t\\t\\t\\t\\t\\t\\t\\t<div class=\"data-line tp03\">\\n\\t\\t\\t\\t\\t\\t\\t\\t\\t\\t\\t<div class=\"first\">2008년 03월 (08년식)</div>\\n\\t\\t\\t\\t\\t\\t\\t\\t\\t\\t\\t<div class=\"data-in\">\\n\\t\\t\\t\\t\\t\\t\\t\\t\\t\\t\\t\\t<span>164,407km</span>\\n\\t\\t\\t\\t\\t\\t\\t\\t\\t\\t\\t\\t<span>서울</span>\\n\\t\\t\\t\\t\\t\\t\\t\\t\\t\\t\\t</div>\\n\\t\\t\\t\\t\\t\\t\\t\\t\\t\\t</div>\\n\\t\\t\\t\\t\\t\\t\\t\\t\\t\\t<strong class=\"pay\">\\n\\t\\t\\t\\t\\t\\t\\t\\t\\t\\t\\t\\n\\t\\t\\t\\t\\t\\t\\t\\t\\t\\t\\t\\t\\n\\t\\t\\t\\t\\t\\t\\t\\t\\t\\t\\t\\t\\t450만원\\n\\t\\t\\t\\t\\t\\t\\t\\t\\t\\t\\t\\t\\n\\t\\t\\t\\t\\t\\t\\t\\t\\t\\t\\t\\t\\n\\t\\t\\t\\t\\t\\t\\t\\t\\t\\t\\t\\t\\n\\t\\t\\t\\t\\t\\t\\t\\t\\t\\t\\t\\n\\t\\t\\t\\t\\t\\t\\t\\t\\t\\t</strong>\\n\\t\\t\\t\\t\\t\\t\\t\\t\\t</a>\\n\\t\\t\\t\\t\\t\\t\\t\\t\\t\\n\\t\\t\\t\\t\\t\\t\\t\\t\\t\\t<div class=\"cor-btn\">\\n\\t\\t\\t\\t\\t\\t\\t\\t\\t\\t\\t\\n\\t\\t\\t\\t\\t\\t\\t\\t\\t\\t\\t    <span class=\"bbadge bbadge-service bbadge-compensation\">헛걸음보상</span>\\n\\t\\t\\t\\t\\t\\t\\t\\t\\t\\t\\t\\n\\t\\t\\t\\t\\t\\t\\t\\t\\t\\t\\t\\n\\t\\t\\t\\t\\t\\t\\t\\t\\t\\t</div>\\n\\t\\t\\t\\t\\t\\t\\t\\t\\t\\n\\t\\t\\t\\t\\t\\t\\t\\t\\t<div class=\"sort-wrap\">\\n\\t\\t\\t\\t\\t\\t\\t\\t\\t\\t<div class=\"ck-wrap ck-tp02\">\\n\\t\\t\\t\\t\\t\\t\\t\\t\\t\\t\\t<button type=\"button\" class=\"lc-btn like ck-item  __wish\" data-car-seq=\"21703437\">\\n\\t\\t\\t\\t\\t\\t\\t\\t\\t\\t\\t\\t<span class=\"blind\">좋아요</span>\\n\\t\\t\\t\\t\\t\\t\\t\\t\\t\\t\\t</button>\\n\\t\\t\\t\\t\\t\\t\\t\\t\\t\\t\\t<button type=\"button\" class=\"lc-btn cpr ck-item  __compare\" data-car-seq=\"21703437\">\\n\\t\\t\\t\\t\\t\\t\\t\\t\\t\\t\\t\\t<span class=\"blind\">비교하기</span>\\n\\t\\t\\t\\t\\t\\t\\t\\t\\t\\t\\t</button>\\n\\t\\t\\t\\t\\t\\t\\t\\t\\t\\t</div>\\n\\t\\t\\t\\t\\t\\t\\t\\t\\t</div>\\n\\t\\t\\t\\t\\t\\t\\t\\t</div>\\n\\t\\t\\t\\t\\t\\t\\t</div>\\n\\t\\t\\t\\t\\t\\t</div>\\n\\t\\t\\t\\t\\t\\n\\t\\t\\t\\t\\t\\t\\n\\t\\t\\t\\t\\t\\t\\n\\t\\t\\t\\t\\t\\t\\n\\t\\t\\t\\t\\t\\t    \\n\\t\\t\\t\\t\\t\\t\\n\\t\\t\\t\\t\\t\\t\\n\\t\\t\\t\\t\\t\\t\\n\\t\\t\\t\\t\\t\\t<div class=\"area \" title=\"현대 그랜저HG LPG HG300 프리미엄\" data-car-seq=\"21732256\">\\n\\t\\t\\t\\t\\t\\t\\t<div class=\"thumnail\">\\n\\t\\t\\t\\t\\t\\t\\t\\t\\n\\t\\t\\t\\t\\t\\t\\t\\t    \\n\\t\\t\\t\\t\\t\\t\\t\\t    \\n\\t\\t\\t\\t\\t\\t\\t\\t    \\n\\t\\t\\t\\t\\t\\t\\t\\t    \\n\\t\\t\\t\\t\\t\\t\\t\\t\\n\\t\\t\\t\\t\\t\\t\\t\\t<a href=\"/public/car/detail.kbc?carSeq=21732256\" class=\"item\" target=\"_blank\">\\n\\t\\t\\t\\t\\t\\t\\t\\t\\t<span class=\"item__img\">\\n\\t\\t\\t\\t\\t\\t\\t\\t\\t\\t<img alt=\"\" src=\"https://img.kbchachacha.com/IMG/carimg/l/img03/img2173/21732256_36517239349838856.jpg?width=360\" onerror=\"this.src=\\'/images/common/noimage.jpg\\';\">\\n\\t\\t\\t\\t\\t\\t\\t\\t\\t</span>\\n\\t\\t\\t\\t\\t\\t\\t\\t</a>\\n\\t\\t\\t\\t\\t\\t\\t</div>\\n\\t\\t\\t\\t\\t\\t\\t\\n\\t\\t\\t\\t\\t\\t\\t<div class=\"con\">\\n\\t\\t\\t\\t\\t\\t\\t\\t<div class=\"item\">\\n\\t\\t\\t\\t\\t\\t\\t\\t\\t<a href=\"/public/car/detail.kbc?carSeq=21732256\" class=\"link\" target=\"_blank\">\\n\\t\\t\\t\\t\\t\\t\\t\\t\\t\\t<strong class=\"tit\">\\n\\t\\t\\t\\t\\t\\t\\t\\t\\t\\t\\t\\n\\t\\t\\t\\t\\t\\t\\t\\t\\t\\t\\t\\n\\t\\t\\t\\t\\t\\t\\t\\t\\t\\t\\t\\n\\t\\t\\t\\t\\t\\t\\t\\t\\t\\t\\t\\n\\t\\t\\t\\t\\t\\t\\t\\t\\t\\t\\t현대 그랜저HG LPG HG300 프리미엄\\n\\t\\t\\t\\t\\t\\t\\t\\t\\t\\t</strong>\\n\\t\\t\\t\\t\\t\\t\\t\\t\\t\\t<div class=\"data-line tp03\">\\n\\t\\t\\t\\t\\t\\t\\t\\t\\t\\t\\t<div class=\"first\">2013년 09월 (14년식)</div>\\n\\t\\t\\t\\t\\t\\t\\t\\t\\t\\t\\t<div class=\"data-in\">\\n\\t\\t\\t\\t\\t\\t\\t\\t\\t\\t\\t\\t<span>191,285km</span>\\n\\t\\t\\t\\t\\t\\t\\t\\t\\t\\t\\t\\t<span>서울</span>\\n\\t\\t\\t\\t\\t\\t\\t\\t\\t\\t\\t</div>\\n\\t\\t\\t\\t\\t\\t\\t\\t\\t\\t</div>\\n\\t\\t\\t\\t\\t\\t\\t\\t\\t\\t<strong class=\"pay\">\\n\\t\\t\\t\\t\\t\\t\\t\\t\\t\\t\\t\\n\\t\\t\\t\\t\\t\\t\\t\\t\\t\\t\\t\\t\\n\\t\\t\\t\\t\\t\\t\\t\\t\\t\\t\\t\\t\\t1,150만원\\n\\t\\t\\t\\t\\t\\t\\t\\t\\t\\t\\t\\t\\n\\t\\t\\t\\t\\t\\t\\t\\t\\t\\t\\t\\t\\n\\t\\t\\t\\t\\t\\t\\t\\t\\t\\t\\t\\t\\n\\t\\t\\t\\t\\t\\t\\t\\t\\t\\t\\t\\n\\t\\t\\t\\t\\t\\t\\t\\t\\t\\t</strong>\\n\\t\\t\\t\\t\\t\\t\\t\\t\\t</a>\\n\\t\\t\\t\\t\\t\\t\\t\\t\\t\\n\\t\\t\\t\\t\\t\\t\\t\\t\\t\\t<div class=\"cor-btn\">\\n\\t\\t\\t\\t\\t\\t\\t\\t\\t\\t\\t\\n\\t\\t\\t\\t\\t\\t\\t\\t\\t\\t\\t    <span class=\"bbadge bbadge-service bbadge-compensation\">헛걸음보상</span>\\n\\t\\t\\t\\t\\t\\t\\t\\t\\t\\t\\t\\n\\t\\t\\t\\t\\t\\t\\t\\t\\t\\t\\t\\n\\t\\t\\t\\t\\t\\t\\t\\t\\t\\t</div>\\n\\t\\t\\t\\t\\t\\t\\t\\t\\t\\n\\t\\t\\t\\t\\t\\t\\t\\t\\t<div class=\"sort-wrap\">\\n\\t\\t\\t\\t\\t\\t\\t\\t\\t\\t<div class=\"ck-wrap ck-tp02\">\\n\\t\\t\\t\\t\\t\\t\\t\\t\\t\\t\\t<button type=\"button\" class=\"lc-btn like ck-item  __wish\" data-car-seq=\"21732256\">\\n\\t\\t\\t\\t\\t\\t\\t\\t\\t\\t\\t\\t<span class=\"blind\">좋아요</span>\\n\\t\\t\\t\\t\\t\\t\\t\\t\\t\\t\\t</button>\\n\\t\\t\\t\\t\\t\\t\\t\\t\\t\\t\\t<button type=\"button\" class=\"lc-btn cpr ck-item  __compare\" data-car-seq=\"21732256\">\\n\\t\\t\\t\\t\\t\\t\\t\\t\\t\\t\\t\\t<span class=\"blind\">비교하기</span>\\n\\t\\t\\t\\t\\t\\t\\t\\t\\t\\t\\t</button>\\n\\t\\t\\t\\t\\t\\t\\t\\t\\t\\t</div>\\n\\t\\t\\t\\t\\t\\t\\t\\t\\t</div>\\n\\t\\t\\t\\t\\t\\t\\t\\t</div>\\n\\t\\t\\t\\t\\t\\t\\t</div>\\n\\t\\t\\t\\t\\t\\t</div>\\n\\t\\t\\t\\t\\t\\n\\t\\t\\t\\t\\t\\t\\n\\t\\t\\t\\t\\t\\t\\n\\t\\t\\t\\t\\t\\t\\n\\t\\t\\t\\t\\t\\t    \\n\\t\\t\\t\\t\\t\\t\\n\\t\\t\\t\\t\\t\\t\\n\\t\\t\\t\\t\\t\\t\\n\\t\\t\\t\\t\\t\\t<div class=\"area \" title=\"현대 포터2 초장축 일반캡 CRDi SUP 기본형\" data-car-seq=\"21774755\">\\n\\t\\t\\t\\t\\t\\t\\t<div class=\"thumnail\">\\n\\t\\t\\t\\t\\t\\t\\t\\t\\n\\t\\t\\t\\t\\t\\t\\t\\t    \\n\\t\\t\\t\\t\\t\\t\\t\\t    \\n\\t\\t\\t\\t\\t\\t\\t\\t    \\n\\t\\t\\t\\t\\t\\t\\t\\t    \\n\\t\\t\\t\\t\\t\\t\\t\\t\\n\\t\\t\\t\\t\\t\\t\\t\\t<a href=\"/public/car/detail.kbc?carSeq=21774755\" class=\"item\" target=\"_blank\">\\n\\t\\t\\t\\t\\t\\t\\t\\t\\t<span class=\"item__img\">\\n\\t\\t\\t\\t\\t\\t\\t\\t\\t\\t<img alt=\"\" src=\"https://img.kbchachacha.com/IMG/carimg/l/img07/img2177/21774755_37643009578239166.jpg?width=360\" onerror=\"this.src=\\'/images/common/noimage.jpg\\';\">\\n\\t\\t\\t\\t\\t\\t\\t\\t\\t</span>\\n\\t\\t\\t\\t\\t\\t\\t\\t</a>\\n\\t\\t\\t\\t\\t\\t\\t</div>\\n\\t\\t\\t\\t\\t\\t\\t\\n\\t\\t\\t\\t\\t\\t\\t<div class=\"con\">\\n\\t\\t\\t\\t\\t\\t\\t\\t<div class=\"item\">\\n\\t\\t\\t\\t\\t\\t\\t\\t\\t<a href=\"/public/car/detail.kbc?carSeq=21774755\" class=\"link\" target=\"_blank\">\\n\\t\\t\\t\\t\\t\\t\\t\\t\\t\\t<strong class=\"tit\">\\n\\t\\t\\t\\t\\t\\t\\t\\t\\t\\t\\t\\n\\t\\t\\t\\t\\t\\t\\t\\t\\t\\t\\t\\n\\t\\t\\t\\t\\t\\t\\t\\t\\t\\t\\t<span class=\"bbadge bbadge-service-small bbadge-stock\">실차주</span>\\n\\t\\t\\t\\t\\t\\t\\t\\t\\t\\t\\t\\n\\t\\t\\t\\t\\t\\t\\t\\t\\t\\t\\t\\n\\t\\t\\t\\t\\t\\t\\t\\t\\t\\t\\t\\n\\t\\t\\t\\t\\t\\t\\t\\t\\t\\t\\t현대 포터2 초장축 일반캡 CRDi SUP 기본형\\n\\t\\t\\t\\t\\t\\t\\t\\t\\t\\t</strong>\\n\\t\\t\\t\\t\\t\\t\\t\\t\\t\\t<div class=\"data-line tp03\">\\n\\t\\t\\t\\t\\t\\t\\t\\t\\t\\t\\t<div class=\"first\">2011년 09월 (12년식)</div>\\n\\t\\t\\t\\t\\t\\t\\t\\t\\t\\t\\t<div class=\"data-in\">\\n\\t\\t\\t\\t\\t\\t\\t\\t\\t\\t\\t\\t<span>181,630km</span>\\n\\t\\t\\t\\t\\t\\t\\t\\t\\t\\t\\t\\t<span>경기</span>\\n\\t\\t\\t\\t\\t\\t\\t\\t\\t\\t\\t</div>\\n\\t\\t\\t\\t\\t\\t\\t\\t\\t\\t</div>\\n\\t\\t\\t\\t\\t\\t\\t\\t\\t\\t<strong class=\"pay\">\\n\\t\\t\\t\\t\\t\\t\\t\\t\\t\\t\\t\\n\\t\\t\\t\\t\\t\\t\\t\\t\\t\\t\\t\\t\\n\\t\\t\\t\\t\\t\\t\\t\\t\\t\\t\\t\\t\\t569만원\\n\\t\\t\\t\\t\\t\\t\\t\\t\\t\\t\\t\\t\\n\\t\\t\\t\\t\\t\\t\\t\\t\\t\\t\\t\\t\\n\\t\\t\\t\\t\\t\\t\\t\\t\\t\\t\\t\\t\\n\\t\\t\\t\\t\\t\\t\\t\\t\\t\\t\\t\\n\\t\\t\\t\\t\\t\\t\\t\\t\\t\\t</strong>\\n\\t\\t\\t\\t\\t\\t\\t\\t\\t</a>\\n\\t\\t\\t\\t\\t\\t\\t\\t\\t\\n\\t\\t\\t\\t\\t\\t\\t\\t\\t\\t<div class=\"cor-btn\">\\n\\t\\t\\t\\t\\t\\t\\t\\t\\t\\t\\t\\n\\t\\t\\t\\t\\t\\t\\t\\t\\t\\t\\t    <span class=\"bbadge bbadge-service bbadge-compensation\">헛걸음보상</span>\\n\\t\\t\\t\\t\\t\\t\\t\\t\\t\\t\\t\\n\\t\\t\\t\\t\\t\\t\\t\\t\\t\\t\\t\\n\\t\\t\\t\\t\\t\\t\\t\\t\\t\\t</div>\\n\\t\\t\\t\\t\\t\\t\\t\\t\\t\\n\\t\\t\\t\\t\\t\\t\\t\\t\\t<div class=\"sort-wrap\">\\n\\t\\t\\t\\t\\t\\t\\t\\t\\t\\t<div class=\"ck-wrap ck-tp02\">\\n\\t\\t\\t\\t\\t\\t\\t\\t\\t\\t\\t<button type=\"button\" class=\"lc-btn like ck-item  __wish\" data-car-seq=\"21774755\">\\n\\t\\t\\t\\t\\t\\t\\t\\t\\t\\t\\t\\t<span class=\"blind\">좋아요</span>\\n\\t\\t\\t\\t\\t\\t\\t\\t\\t\\t\\t</button>\\n\\t\\t\\t\\t\\t\\t\\t\\t\\t\\t\\t<button type=\"button\" class=\"lc-btn cpr ck-item  __compare\" data-car-seq=\"21774755\">\\n\\t\\t\\t\\t\\t\\t\\t\\t\\t\\t\\t\\t<span class=\"blind\">비교하기</span>\\n\\t\\t\\t\\t\\t\\t\\t\\t\\t\\t\\t</button>\\n\\t\\t\\t\\t\\t\\t\\t\\t\\t\\t</div>\\n\\t\\t\\t\\t\\t\\t\\t\\t\\t</div>\\n\\t\\t\\t\\t\\t\\t\\t\\t</div>\\n\\t\\t\\t\\t\\t\\t\\t</div>\\n\\t\\t\\t\\t\\t\\t</div>\\n\\t\\t\\t\\t\\t\\n\\t\\t\\t\\t\\t\\t\\n\\t\\t\\t\\t\\t\\t\\n\\t\\t\\t\\t\\t\\t\\n\\t\\t\\t\\t\\t\\t    \\n\\t\\t\\t\\t\\t\\t\\n\\t\\t\\t\\t\\t\\t\\n\\t\\t\\t\\t\\t\\t\\n\\t\\t\\t\\t\\t\\t<div class=\"area \" title=\"쌍용 액티언 4WD HYPER \" data-car-seq=\"21847306\">\\n\\t\\t\\t\\t\\t\\t\\t<div class=\"thumnail\">\\n\\t\\t\\t\\t\\t\\t\\t\\t\\n\\t\\t\\t\\t\\t\\t\\t\\t    \\n\\t\\t\\t\\t\\t\\t\\t\\t    \\n\\t\\t\\t\\t\\t\\t\\t\\t    \\n\\t\\t\\t\\t\\t\\t\\t\\t    \\n\\t\\t\\t\\t\\t\\t\\t\\t\\n\\t\\t\\t\\t\\t\\t\\t\\t<a href=\"/public/car/detail.kbc?carSeq=21847306\" class=\"item\" target=\"_blank\">\\n\\t\\t\\t\\t\\t\\t\\t\\t\\t<span class=\"item__img\">\\n\\t\\t\\t\\t\\t\\t\\t\\t\\t\\t<img alt=\"\" src=\"https://img.kbchachacha.com/IMG/carimg/l/img04/img2184/21847306_39121024953972136.jpeg?width=360\" onerror=\"this.src=\\'/images/common/noimage.jpg\\';\">\\n\\t\\t\\t\\t\\t\\t\\t\\t\\t</span>\\n\\t\\t\\t\\t\\t\\t\\t\\t</a>\\n\\t\\t\\t\\t\\t\\t\\t</div>\\n\\t\\t\\t\\t\\t\\t\\t\\n\\t\\t\\t\\t\\t\\t\\t<div class=\"con\">\\n\\t\\t\\t\\t\\t\\t\\t\\t<div class=\"item\">\\n\\t\\t\\t\\t\\t\\t\\t\\t\\t<a href=\"/public/car/detail.kbc?carSeq=21847306\" class=\"link\" target=\"_blank\">\\n\\t\\t\\t\\t\\t\\t\\t\\t\\t\\t<strong class=\"tit\">\\n\\t\\t\\t\\t\\t\\t\\t\\t\\t\\t\\t\\n\\t\\t\\t\\t\\t\\t\\t\\t\\t\\t\\t\\n\\t\\t\\t\\t\\t\\t\\t\\t\\t\\t\\t<span class=\"bbadge bbadge-service-small bbadge-stock\">실차주</span>\\n\\t\\t\\t\\t\\t\\t\\t\\t\\t\\t\\t\\n\\t\\t\\t\\t\\t\\t\\t\\t\\t\\t\\t\\n\\t\\t\\t\\t\\t\\t\\t\\t\\t\\t\\t\\n\\t\\t\\t\\t\\t\\t\\t\\t\\t\\t\\t쌍용 액티언 4WD HYPER \\n\\t\\t\\t\\t\\t\\t\\t\\t\\t\\t</strong>\\n\\t\\t\\t\\t\\t\\t\\t\\t\\t\\t<div class=\"data-line tp03\">\\n\\t\\t\\t\\t\\t\\t\\t\\t\\t\\t\\t<div class=\"first\">2006년 01월 (06년식)</div>\\n\\t\\t\\t\\t\\t\\t\\t\\t\\t\\t\\t<div class=\"data-in\">\\n\\t\\t\\t\\t\\t\\t\\t\\t\\t\\t\\t\\t<span>175,839km</span>\\n\\t\\t\\t\\t\\t\\t\\t\\t\\t\\t\\t\\t<span>인천</span>\\n\\t\\t\\t\\t\\t\\t\\t\\t\\t\\t\\t</div>\\n\\t\\t\\t\\t\\t\\t\\t\\t\\t\\t</div>\\n\\t\\t\\t\\t\\t\\t\\t\\t\\t\\t<strong class=\"pay\">\\n\\t\\t\\t\\t\\t\\t\\t\\t\\t\\t\\t\\n\\t\\t\\t\\t\\t\\t\\t\\t\\t\\t\\t\\t\\n\\t\\t\\t\\t\\t\\t\\t\\t\\t\\t\\t\\t\\t299만원\\n\\t\\t\\t\\t\\t\\t\\t\\t\\t\\t\\t\\t\\n\\t\\t\\t\\t\\t\\t\\t\\t\\t\\t\\t\\t\\n\\t\\t\\t\\t\\t\\t\\t\\t\\t\\t\\t\\t\\n\\t\\t\\t\\t\\t\\t\\t\\t\\t\\t\\t\\n\\t\\t\\t\\t\\t\\t\\t\\t\\t\\t</strong>\\n\\t\\t\\t\\t\\t\\t\\t\\t\\t</a>\\n\\t\\t\\t\\t\\t\\t\\t\\t\\t\\n\\t\\t\\t\\t\\t\\t\\t\\t\\t\\t<div class=\"cor-btn\">\\n\\t\\t\\t\\t\\t\\t\\t\\t\\t\\t\\t\\n\\t\\t\\t\\t\\t\\t\\t\\t\\t\\t\\t    <span class=\"bbadge bbadge-service bbadge-compensation\">헛걸음보상</span>\\n\\t\\t\\t\\t\\t\\t\\t\\t\\t\\t\\t\\n\\t\\t\\t\\t\\t\\t\\t\\t\\t\\t\\t\\n\\t\\t\\t\\t\\t\\t\\t\\t\\t\\t</div>\\n\\t\\t\\t\\t\\t\\t\\t\\t\\t\\n\\t\\t\\t\\t\\t\\t\\t\\t\\t<div class=\"sort-wrap\">\\n\\t\\t\\t\\t\\t\\t\\t\\t\\t\\t<div class=\"ck-wrap ck-tp02\">\\n\\t\\t\\t\\t\\t\\t\\t\\t\\t\\t\\t<button type=\"button\" class=\"lc-btn like ck-item  __wish\" data-car-seq=\"21847306\">\\n\\t\\t\\t\\t\\t\\t\\t\\t\\t\\t\\t\\t<span class=\"blind\">좋아요</span>\\n\\t\\t\\t\\t\\t\\t\\t\\t\\t\\t\\t</button>\\n\\t\\t\\t\\t\\t\\t\\t\\t\\t\\t\\t<button type=\"button\" class=\"lc-btn cpr ck-item  __compare\" data-car-seq=\"21847306\">\\n\\t\\t\\t\\t\\t\\t\\t\\t\\t\\t\\t\\t<span class=\"blind\">비교하기</span>\\n\\t\\t\\t\\t\\t\\t\\t\\t\\t\\t\\t</button>\\n\\t\\t\\t\\t\\t\\t\\t\\t\\t\\t</div>\\n\\t\\t\\t\\t\\t\\t\\t\\t\\t</div>\\n\\t\\t\\t\\t\\t\\t\\t\\t</div>\\n\\t\\t\\t\\t\\t\\t\\t</div>\\n\\t\\t\\t\\t\\t\\t</div>\\n\\t\\t\\t\\t\\t\\n\\t\\t\\t\\t\\t\\t\\n\\t\\t\\t\\t\\t\\t\\n\\t\\t\\t\\t\\t\\t\\n\\t\\t\\t\\t\\t\\t    \\n\\t\\t\\t\\t\\t\\t\\n\\t\\t\\t\\t\\t\\t\\n\\t\\t\\t\\t\\t\\t\\n\\t\\t\\t\\t\\t\\t<div class=\"area \" title=\"기아 K5 가솔린 2.0 프레스티지\" data-car-seq=\"21850179\">\\n\\t\\t\\t\\t\\t\\t\\t<div class=\"thumnail\">\\n\\t\\t\\t\\t\\t\\t\\t\\t\\n\\t\\t\\t\\t\\t\\t\\t\\t    \\n\\t\\t\\t\\t\\t\\t\\t\\t    \\n\\t\\t\\t\\t\\t\\t\\t\\t    \\n\\t\\t\\t\\t\\t\\t\\t\\t    \\n\\t\\t\\t\\t\\t\\t\\t\\t\\n\\t\\t\\t\\t\\t\\t\\t\\t<a href=\"/public/car/detail.kbc?carSeq=21850179\" class=\"item\" target=\"_blank\">\\n\\t\\t\\t\\t\\t\\t\\t\\t\\t<span class=\"item__img\">\\n\\t\\t\\t\\t\\t\\t\\t\\t\\t\\t<img alt=\"\" src=\"https://img.kbchachacha.com/IMG/carimg/l/img05/img2185/21850179_6095347514338288.jpg?width=360\" onerror=\"this.src=\\'/images/common/noimage.jpg\\';\">\\n\\t\\t\\t\\t\\t\\t\\t\\t\\t</span>\\n\\t\\t\\t\\t\\t\\t\\t\\t</a>\\n\\t\\t\\t\\t\\t\\t\\t</div>\\n\\t\\t\\t\\t\\t\\t\\t\\n\\t\\t\\t\\t\\t\\t\\t<div class=\"con\">\\n\\t\\t\\t\\t\\t\\t\\t\\t<div class=\"item\">\\n\\t\\t\\t\\t\\t\\t\\t\\t\\t<a href=\"/public/car/detail.kbc?carSeq=21850179\" class=\"link\" target=\"_blank\">\\n\\t\\t\\t\\t\\t\\t\\t\\t\\t\\t<strong class=\"tit\">\\n\\t\\t\\t\\t\\t\\t\\t\\t\\t\\t\\t\\n\\t\\t\\t\\t\\t\\t\\t\\t\\t\\t\\t\\n\\t\\t\\t\\t\\t\\t\\t\\t\\t\\t\\t<span class=\"bbadge bbadge-service-small bbadge-stock\">실차주</span>\\n\\t\\t\\t\\t\\t\\t\\t\\t\\t\\t\\t\\n\\t\\t\\t\\t\\t\\t\\t\\t\\t\\t\\t\\n\\t\\t\\t\\t\\t\\t\\t\\t\\t\\t\\t\\n\\t\\t\\t\\t\\t\\t\\t\\t\\t\\t\\t기아 K5 가솔린 2.0 프레스티지\\n\\t\\t\\t\\t\\t\\t\\t\\t\\t\\t</strong>\\n\\t\\t\\t\\t\\t\\t\\t\\t\\t\\t<div class=\"data-line tp03\">\\n\\t\\t\\t\\t\\t\\t\\t\\t\\t\\t\\t<div class=\"first\">2011년 03월 (11년식)</div>\\n\\t\\t\\t\\t\\t\\t\\t\\t\\t\\t\\t<div class=\"data-in\">\\n\\t\\t\\t\\t\\t\\t\\t\\t\\t\\t\\t\\t<span>114,000km</span>\\n\\t\\t\\t\\t\\t\\t\\t\\t\\t\\t\\t\\t<span>서울</span>\\n\\t\\t\\t\\t\\t\\t\\t\\t\\t\\t\\t</div>\\n\\t\\t\\t\\t\\t\\t\\t\\t\\t\\t</div>\\n\\t\\t\\t\\t\\t\\t\\t\\t\\t\\t<strong class=\"pay\">\\n\\t\\t\\t\\t\\t\\t\\t\\t\\t\\t\\t\\n\\t\\t\\t\\t\\t\\t\\t\\t\\t\\t\\t\\t\\n\\t\\t\\t\\t\\t\\t\\t\\t\\t\\t\\t\\t\\t790만원\\n\\t\\t\\t\\t\\t\\t\\t\\t\\t\\t\\t\\t\\n\\t\\t\\t\\t\\t\\t\\t\\t\\t\\t\\t\\t\\n\\t\\t\\t\\t\\t\\t\\t\\t\\t\\t\\t\\t\\n\\t\\t\\t\\t\\t\\t\\t\\t\\t\\t\\t\\n\\t\\t\\t\\t\\t\\t\\t\\t\\t\\t</strong>\\n\\t\\t\\t\\t\\t\\t\\t\\t\\t</a>\\n\\t\\t\\t\\t\\t\\t\\t\\t\\t\\n\\t\\t\\t\\t\\t\\t\\t\\t\\t\\t<div class=\"cor-btn\">\\n\\t\\t\\t\\t\\t\\t\\t\\t\\t\\t\\t\\n\\t\\t\\t\\t\\t\\t\\t\\t\\t\\t\\t    <span class=\"bbadge bbadge-service bbadge-compensation\">헛걸음보상</span>\\n\\t\\t\\t\\t\\t\\t\\t\\t\\t\\t\\t\\n\\t\\t\\t\\t\\t\\t\\t\\t\\t\\t\\t\\n\\t\\t\\t\\t\\t\\t\\t\\t\\t\\t</div>\\n\\t\\t\\t\\t\\t\\t\\t\\t\\t\\n\\t\\t\\t\\t\\t\\t\\t\\t\\t<div class=\"sort-wrap\">\\n\\t\\t\\t\\t\\t\\t\\t\\t\\t\\t<div class=\"ck-wrap ck-tp02\">\\n\\t\\t\\t\\t\\t\\t\\t\\t\\t\\t\\t<button type=\"button\" class=\"lc-btn like ck-item  __wish\" data-car-seq=\"21850179\">\\n\\t\\t\\t\\t\\t\\t\\t\\t\\t\\t\\t\\t<span class=\"blind\">좋아요</span>\\n\\t\\t\\t\\t\\t\\t\\t\\t\\t\\t\\t</button>\\n\\t\\t\\t\\t\\t\\t\\t\\t\\t\\t\\t<button type=\"button\" class=\"lc-btn cpr ck-item  __compare\" data-car-seq=\"21850179\">\\n\\t\\t\\t\\t\\t\\t\\t\\t\\t\\t\\t\\t<span class=\"blind\">비교하기</span>\\n\\t\\t\\t\\t\\t\\t\\t\\t\\t\\t\\t</button>\\n\\t\\t\\t\\t\\t\\t\\t\\t\\t\\t</div>\\n\\t\\t\\t\\t\\t\\t\\t\\t\\t</div>\\n\\t\\t\\t\\t\\t\\t\\t\\t</div>\\n\\t\\t\\t\\t\\t\\t\\t</div>\\n\\t\\t\\t\\t\\t\\t</div>\\n\\t\\t\\t\\t\\t\\n\\t\\t\\t\\t\\t\\t\\n\\t\\t\\t\\t\\t\\t\\n\\t\\t\\t\\t\\t\\t\\n\\t\\t\\t\\t\\t\\t    \\n\\t\\t\\t\\t\\t\\t\\n\\t\\t\\t\\t\\t\\t\\n\\t\\t\\t\\t\\t\\t\\n\\t\\t\\t\\t\\t\\t<div class=\"area \" title=\"현대 e-마이티 3.5톤 슈퍼캡 SUP \" data-car-seq=\"21857843\">\\n\\t\\t\\t\\t\\t\\t\\t<div class=\"thumnail\">\\n\\t\\t\\t\\t\\t\\t\\t\\t\\n\\t\\t\\t\\t\\t\\t\\t\\t    \\n\\t\\t\\t\\t\\t\\t\\t\\t    \\n\\t\\t\\t\\t\\t\\t\\t\\t    \\n\\t\\t\\t\\t\\t\\t\\t\\t    \\n\\t\\t\\t\\t\\t\\t\\t\\t\\n\\t\\t\\t\\t\\t\\t\\t\\t<a href=\"/public/car/detail.kbc?carSeq=21857843\" class=\"item\" target=\"_blank\">\\n\\t\\t\\t\\t\\t\\t\\t\\t\\t<span class=\"item__img\">\\n\\t\\t\\t\\t\\t\\t\\t\\t\\t\\t<img alt=\"\" src=\"https://img.kbchachacha.com/IMG/carimg/l/img05/img2185/21857843_39391709934057059.jpeg?width=360\" onerror=\"this.src=\\'/images/common/noimage.jpg\\';\">\\n\\t\\t\\t\\t\\t\\t\\t\\t\\t</span>\\n\\t\\t\\t\\t\\t\\t\\t\\t</a>\\n\\t\\t\\t\\t\\t\\t\\t</div>\\n\\t\\t\\t\\t\\t\\t\\t\\n\\t\\t\\t\\t\\t\\t\\t<div class=\"con\">\\n\\t\\t\\t\\t\\t\\t\\t\\t<div class=\"item\">\\n\\t\\t\\t\\t\\t\\t\\t\\t\\t<a href=\"/public/car/detail.kbc?carSeq=21857843\" class=\"link\" target=\"_blank\">\\n\\t\\t\\t\\t\\t\\t\\t\\t\\t\\t<strong class=\"tit\">\\n\\t\\t\\t\\t\\t\\t\\t\\t\\t\\t\\t\\n\\t\\t\\t\\t\\t\\t\\t\\t\\t\\t\\t\\n\\t\\t\\t\\t\\t\\t\\t\\t\\t\\t\\t<span class=\"bbadge bbadge-service-small bbadge-stock\">실차주</span>\\n\\t\\t\\t\\t\\t\\t\\t\\t\\t\\t\\t\\n\\t\\t\\t\\t\\t\\t\\t\\t\\t\\t\\t\\n\\t\\t\\t\\t\\t\\t\\t\\t\\t\\t\\t\\n\\t\\t\\t\\t\\t\\t\\t\\t\\t\\t\\t현대 e-마이티 3.5톤 슈퍼캡 SUP \\n\\t\\t\\t\\t\\t\\t\\t\\t\\t\\t</strong>\\n\\t\\t\\t\\t\\t\\t\\t\\t\\t\\t<div class=\"data-line tp03\">\\n\\t\\t\\t\\t\\t\\t\\t\\t\\t\\t\\t<div class=\"first\">2008년 04월 (08년식)</div>\\n\\t\\t\\t\\t\\t\\t\\t\\t\\t\\t\\t<div class=\"data-in\">\\n\\t\\t\\t\\t\\t\\t\\t\\t\\t\\t\\t\\t<span>310,192km</span>\\n\\t\\t\\t\\t\\t\\t\\t\\t\\t\\t\\t\\t<span>인천</span>\\n\\t\\t\\t\\t\\t\\t\\t\\t\\t\\t\\t</div>\\n\\t\\t\\t\\t\\t\\t\\t\\t\\t\\t</div>\\n\\t\\t\\t\\t\\t\\t\\t\\t\\t\\t<strong class=\"pay\">\\n\\t\\t\\t\\t\\t\\t\\t\\t\\t\\t\\t\\n\\t\\t\\t\\t\\t\\t\\t\\t\\t\\t\\t\\t\\n\\t\\t\\t\\t\\t\\t\\t\\t\\t\\t\\t\\t\\t1,490만원\\n\\t\\t\\t\\t\\t\\t\\t\\t\\t\\t\\t\\t\\n\\t\\t\\t\\t\\t\\t\\t\\t\\t\\t\\t\\t\\n\\t\\t\\t\\t\\t\\t\\t\\t\\t\\t\\t\\t\\n\\t\\t\\t\\t\\t\\t\\t\\t\\t\\t\\t\\n\\t\\t\\t\\t\\t\\t\\t\\t\\t\\t</strong>\\n\\t\\t\\t\\t\\t\\t\\t\\t\\t</a>\\n\\t\\t\\t\\t\\t\\t\\t\\t\\t\\n\\t\\t\\t\\t\\t\\t\\t\\t\\t\\t<div class=\"cor-btn\">\\n\\t\\t\\t\\t\\t\\t\\t\\t\\t\\t\\t\\n\\t\\t\\t\\t\\t\\t\\t\\t\\t\\t\\t    <span class=\"bbadge bbadge-service bbadge-compensation\">헛걸음보상</span>\\n\\t\\t\\t\\t\\t\\t\\t\\t\\t\\t\\t\\n\\t\\t\\t\\t\\t\\t\\t\\t\\t\\t\\t\\n\\t\\t\\t\\t\\t\\t\\t\\t\\t\\t</div>\\n\\t\\t\\t\\t\\t\\t\\t\\t\\t\\n\\t\\t\\t\\t\\t\\t\\t\\t\\t<div class=\"sort-wrap\">\\n\\t\\t\\t\\t\\t\\t\\t\\t\\t\\t<div class=\"ck-wrap ck-tp02\">\\n\\t\\t\\t\\t\\t\\t\\t\\t\\t\\t\\t<button type=\"button\" class=\"lc-btn like ck-item  __wish\" data-car-seq=\"21857843\">\\n\\t\\t\\t\\t\\t\\t\\t\\t\\t\\t\\t\\t<span class=\"blind\">좋아요</span>\\n\\t\\t\\t\\t\\t\\t\\t\\t\\t\\t\\t</button>\\n\\t\\t\\t\\t\\t\\t\\t\\t\\t\\t\\t<button type=\"button\" class=\"lc-btn cpr ck-item  __compare\" data-car-seq=\"21857843\">\\n\\t\\t\\t\\t\\t\\t\\t\\t\\t\\t\\t\\t<span class=\"blind\">비교하기</span>\\n\\t\\t\\t\\t\\t\\t\\t\\t\\t\\t\\t</button>\\n\\t\\t\\t\\t\\t\\t\\t\\t\\t\\t</div>\\n\\t\\t\\t\\t\\t\\t\\t\\t\\t</div>\\n\\t\\t\\t\\t\\t\\t\\t\\t</div>\\n\\t\\t\\t\\t\\t\\t\\t</div>\\n\\t\\t\\t\\t\\t\\t</div>\\n\\t\\t\\t\\t\\t\\n\\t\\t\\t\\t\\t\\t\\n\\t\\t\\t\\t\\t\\t\\n\\t\\t\\t\\t\\t\\t\\n\\t\\t\\t\\t\\t\\t    \\n\\t\\t\\t\\t\\t\\t\\n\\t\\t\\t\\t\\t\\t\\n\\t\\t\\t\\t\\t\\t\\n\\t\\t\\t\\t\\t\\t<div class=\"area \" title=\"기아 봉고3 1.2톤 파워게이트 표준캡 \" data-car-seq=\"21865808\">\\n\\t\\t\\t\\t\\t\\t\\t<div class=\"thumnail\">\\n\\t\\t\\t\\t\\t\\t\\t\\t\\n\\t\\t\\t\\t\\t\\t\\t\\t    \\n\\t\\t\\t\\t\\t\\t\\t\\t    \\n\\t\\t\\t\\t\\t\\t\\t\\t    \\n\\t\\t\\t\\t\\t\\t\\t\\t    \\n\\t\\t\\t\\t\\t\\t\\t\\t\\n\\t\\t\\t\\t\\t\\t\\t\\t<a href=\"/public/car/detail.kbc?carSeq=21865808\" class=\"item\" target=\"_blank\">\\n\\t\\t\\t\\t\\t\\t\\t\\t\\t<span class=\"item__img\">\\n\\t\\t\\t\\t\\t\\t\\t\\t\\t\\t<img alt=\"\" src=\"https://img.kbchachacha.com/IMG/carimg/l/img06/img2186/21865808_39558235881508334.jpeg?width=360\" onerror=\"this.src=\\'/images/common/noimage.jpg\\';\">\\n\\t\\t\\t\\t\\t\\t\\t\\t\\t</span>\\n\\t\\t\\t\\t\\t\\t\\t\\t</a>\\n\\t\\t\\t\\t\\t\\t\\t</div>\\n\\t\\t\\t\\t\\t\\t\\t\\n\\t\\t\\t\\t\\t\\t\\t<div class=\"con\">\\n\\t\\t\\t\\t\\t\\t\\t\\t<div class=\"item\">\\n\\t\\t\\t\\t\\t\\t\\t\\t\\t<a href=\"/public/car/detail.kbc?carSeq=21865808\" class=\"link\" target=\"_blank\">\\n\\t\\t\\t\\t\\t\\t\\t\\t\\t\\t<strong class=\"tit\">\\n\\t\\t\\t\\t\\t\\t\\t\\t\\t\\t\\t\\n\\t\\t\\t\\t\\t\\t\\t\\t\\t\\t\\t\\n\\t\\t\\t\\t\\t\\t\\t\\t\\t\\t\\t<span class=\"bbadge bbadge-service-small bbadge-stock\">실차주</span>\\n\\t\\t\\t\\t\\t\\t\\t\\t\\t\\t\\t\\n\\t\\t\\t\\t\\t\\t\\t\\t\\t\\t\\t\\n\\t\\t\\t\\t\\t\\t\\t\\t\\t\\t\\t\\n\\t\\t\\t\\t\\t\\t\\t\\t\\t\\t\\t기아 봉고3 1.2톤 파워게이트 표준캡 \\n\\t\\t\\t\\t\\t\\t\\t\\t\\t\\t</strong>\\n\\t\\t\\t\\t\\t\\t\\t\\t\\t\\t<div class=\"data-line tp03\">\\n\\t\\t\\t\\t\\t\\t\\t\\t\\t\\t\\t<div class=\"first\">2011년 09월 (12년식)</div>\\n\\t\\t\\t\\t\\t\\t\\t\\t\\t\\t\\t<div class=\"data-in\">\\n\\t\\t\\t\\t\\t\\t\\t\\t\\t\\t\\t\\t<span>86,000km</span>\\n\\t\\t\\t\\t\\t\\t\\t\\t\\t\\t\\t\\t<span>경기</span>\\n\\t\\t\\t\\t\\t\\t\\t\\t\\t\\t\\t</div>\\n\\t\\t\\t\\t\\t\\t\\t\\t\\t\\t</div>\\n\\t\\t\\t\\t\\t\\t\\t\\t\\t\\t<strong class=\"pay\">\\n\\t\\t\\t\\t\\t\\t\\t\\t\\t\\t\\t\\n\\t\\t\\t\\t\\t\\t\\t\\t\\t\\t\\t\\t\\n\\t\\t\\t\\t\\t\\t\\t\\t\\t\\t\\t\\t\\t690만원\\n\\t\\t\\t\\t\\t\\t\\t\\t\\t\\t\\t\\t\\n\\t\\t\\t\\t\\t\\t\\t\\t\\t\\t\\t\\t\\n\\t\\t\\t\\t\\t\\t\\t\\t\\t\\t\\t\\t\\n\\t\\t\\t\\t\\t\\t\\t\\t\\t\\t\\t\\n\\t\\t\\t\\t\\t\\t\\t\\t\\t\\t</strong>\\n\\t\\t\\t\\t\\t\\t\\t\\t\\t</a>\\n\\t\\t\\t\\t\\t\\t\\t\\t\\t\\n\\t\\t\\t\\t\\t\\t\\t\\t\\t\\t<div class=\"cor-btn\">\\n\\t\\t\\t\\t\\t\\t\\t\\t\\t\\t\\t\\n\\t\\t\\t\\t\\t\\t\\t\\t\\t\\t\\t    <span class=\"bbadge bbadge-service bbadge-compensation\">헛걸음보상</span>\\n\\t\\t\\t\\t\\t\\t\\t\\t\\t\\t\\t\\n\\t\\t\\t\\t\\t\\t\\t\\t\\t\\t\\t\\n\\t\\t\\t\\t\\t\\t\\t\\t\\t\\t</div>\\n\\t\\t\\t\\t\\t\\t\\t\\t\\t\\n\\t\\t\\t\\t\\t\\t\\t\\t\\t<div class=\"sort-wrap\">\\n\\t\\t\\t\\t\\t\\t\\t\\t\\t\\t<div class=\"ck-wrap ck-tp02\">\\n\\t\\t\\t\\t\\t\\t\\t\\t\\t\\t\\t<button type=\"button\" class=\"lc-btn like ck-item  __wish\" data-car-seq=\"21865808\">\\n\\t\\t\\t\\t\\t\\t\\t\\t\\t\\t\\t\\t<span class=\"blind\">좋아요</span>\\n\\t\\t\\t\\t\\t\\t\\t\\t\\t\\t\\t</button>\\n\\t\\t\\t\\t\\t\\t\\t\\t\\t\\t\\t<button type=\"button\" class=\"lc-btn cpr ck-item  __compare\" data-car-seq=\"21865808\">\\n\\t\\t\\t\\t\\t\\t\\t\\t\\t\\t\\t\\t<span class=\"blind\">비교하기</span>\\n\\t\\t\\t\\t\\t\\t\\t\\t\\t\\t\\t</button>\\n\\t\\t\\t\\t\\t\\t\\t\\t\\t\\t</div>\\n\\t\\t\\t\\t\\t\\t\\t\\t\\t</div>\\n\\t\\t\\t\\t\\t\\t\\t\\t</div>\\n\\t\\t\\t\\t\\t\\t\\t</div>\\n\\t\\t\\t\\t\\t\\t</div>\\n\\t\\t\\t\\t\\t\\n\\t\\t\\t\\t\\t\\t\\n\\t\\t\\t\\t\\t\\t\\n\\t\\t\\t\\t\\t\\t\\n\\t\\t\\t\\t\\t\\t    \\n\\t\\t\\t\\t\\t\\t\\n\\t\\t\\t\\t\\t\\t\\n\\t\\t\\t\\t\\t\\t\\n\\t\\t\\t\\t\\t\\t<div class=\"area \" title=\"현대 포터2 초장축 슈퍼캡 활어운반차 1.3톤\" data-car-seq=\"21880763\">\\n\\t\\t\\t\\t\\t\\t\\t<div class=\"thumnail\">\\n\\t\\t\\t\\t\\t\\t\\t\\t\\n\\t\\t\\t\\t\\t\\t\\t\\t    \\n\\t\\t\\t\\t\\t\\t\\t\\t    \\n\\t\\t\\t\\t\\t\\t\\t\\t    \\n\\t\\t\\t\\t\\t\\t\\t\\t    \\n\\t\\t\\t\\t\\t\\t\\t\\t\\n\\t\\t\\t\\t\\t\\t\\t\\t<a href=\"/public/car/detail.kbc?carSeq=21880763\" class=\"item\" target=\"_blank\">\\n\\t\\t\\t\\t\\t\\t\\t\\t\\t<span class=\"item__img\">\\n\\t\\t\\t\\t\\t\\t\\t\\t\\t\\t<img alt=\"\" src=\"https://img.kbchachacha.com/IMG/carimg/l/img08/img2188/21880763_39974354623076371.jpeg?width=360\" onerror=\"this.src=\\'/images/common/noimage.jpg\\';\">\\n\\t\\t\\t\\t\\t\\t\\t\\t\\t</span>\\n\\t\\t\\t\\t\\t\\t\\t\\t</a>\\n\\t\\t\\t\\t\\t\\t\\t</div>\\n\\t\\t\\t\\t\\t\\t\\t\\n\\t\\t\\t\\t\\t\\t\\t<div class=\"con\">\\n\\t\\t\\t\\t\\t\\t\\t\\t<div class=\"item\">\\n\\t\\t\\t\\t\\t\\t\\t\\t\\t<a href=\"/public/car/detail.kbc?carSeq=21880763\" class=\"link\" target=\"_blank\">\\n\\t\\t\\t\\t\\t\\t\\t\\t\\t\\t<strong class=\"tit\">\\n\\t\\t\\t\\t\\t\\t\\t\\t\\t\\t\\t\\n\\t\\t\\t\\t\\t\\t\\t\\t\\t\\t\\t\\n\\t\\t\\t\\t\\t\\t\\t\\t\\t\\t\\t<span class=\"bbadge bbadge-service-small bbadge-stock\">실차주</span>\\n\\t\\t\\t\\t\\t\\t\\t\\t\\t\\t\\t\\n\\t\\t\\t\\t\\t\\t\\t\\t\\t\\t\\t\\n\\t\\t\\t\\t\\t\\t\\t\\t\\t\\t\\t\\n\\t\\t\\t\\t\\t\\t\\t\\t\\t\\t\\t현대 포터2 초장축 슈퍼캡 활어운반차 1.3톤\\n\\t\\t\\t\\t\\t\\t\\t\\t\\t\\t</strong>\\n\\t\\t\\t\\t\\t\\t\\t\\t\\t\\t<div class=\"data-line tp03\">\\n\\t\\t\\t\\t\\t\\t\\t\\t\\t\\t\\t<div class=\"first\">2014년 12월 (15년식)</div>\\n\\t\\t\\t\\t\\t\\t\\t\\t\\t\\t\\t<div class=\"data-in\">\\n\\t\\t\\t\\t\\t\\t\\t\\t\\t\\t\\t\\t<span>120,000km</span>\\n\\t\\t\\t\\t\\t\\t\\t\\t\\t\\t\\t\\t<span>인천</span>\\n\\t\\t\\t\\t\\t\\t\\t\\t\\t\\t\\t</div>\\n\\t\\t\\t\\t\\t\\t\\t\\t\\t\\t</div>\\n\\t\\t\\t\\t\\t\\t\\t\\t\\t\\t<strong class=\"pay\">\\n\\t\\t\\t\\t\\t\\t\\t\\t\\t\\t\\t\\n\\t\\t\\t\\t\\t\\t\\t\\t\\t\\t\\t\\t\\n\\t\\t\\t\\t\\t\\t\\t\\t\\t\\t\\t\\t\\t1,230만원\\n\\t\\t\\t\\t\\t\\t\\t\\t\\t\\t\\t\\t\\n\\t\\t\\t\\t\\t\\t\\t\\t\\t\\t\\t\\t\\n\\t\\t\\t\\t\\t\\t\\t\\t\\t\\t\\t\\t\\n\\t\\t\\t\\t\\t\\t\\t\\t\\t\\t\\t\\n\\t\\t\\t\\t\\t\\t\\t\\t\\t\\t</strong>\\n\\t\\t\\t\\t\\t\\t\\t\\t\\t</a>\\n\\t\\t\\t\\t\\t\\t\\t\\t\\t\\n\\t\\t\\t\\t\\t\\t\\t\\t\\t\\t<div class=\"cor-btn\">\\n\\t\\t\\t\\t\\t\\t\\t\\t\\t\\t\\t\\n\\t\\t\\t\\t\\t\\t\\t\\t\\t\\t\\t    <span class=\"bbadge bbadge-service bbadge-compensation\">헛걸음보상</span>\\n\\t\\t\\t\\t\\t\\t\\t\\t\\t\\t\\t\\n\\t\\t\\t\\t\\t\\t\\t\\t\\t\\t\\t\\n\\t\\t\\t\\t\\t\\t\\t\\t\\t\\t</div>\\n\\t\\t\\t\\t\\t\\t\\t\\t\\t\\n\\t\\t\\t\\t\\t\\t\\t\\t\\t<div class=\"sort-wrap\">\\n\\t\\t\\t\\t\\t\\t\\t\\t\\t\\t<div class=\"ck-wrap ck-tp02\">\\n\\t\\t\\t\\t\\t\\t\\t\\t\\t\\t\\t<button type=\"button\" class=\"lc-btn like ck-item  __wish\" data-car-seq=\"21880763\">\\n\\t\\t\\t\\t\\t\\t\\t\\t\\t\\t\\t\\t<span class=\"blind\">좋아요</span>\\n\\t\\t\\t\\t\\t\\t\\t\\t\\t\\t\\t</button>\\n\\t\\t\\t\\t\\t\\t\\t\\t\\t\\t\\t<button type=\"button\" class=\"lc-btn cpr ck-item  __compare\" data-car-seq=\"21880763\">\\n\\t\\t\\t\\t\\t\\t\\t\\t\\t\\t\\t\\t<span class=\"blind\">비교하기</span>\\n\\t\\t\\t\\t\\t\\t\\t\\t\\t\\t\\t</button>\\n\\t\\t\\t\\t\\t\\t\\t\\t\\t\\t</div>\\n\\t\\t\\t\\t\\t\\t\\t\\t\\t</div>\\n\\t\\t\\t\\t\\t\\t\\t\\t</div>\\n\\t\\t\\t\\t\\t\\t\\t</div>\\n\\t\\t\\t\\t\\t\\t</div>\\n\\t\\t\\t\\t\\t\\n\\t\\t\\t\\t\\t\\t\\n\\t\\t\\t\\t\\t\\t\\n\\t\\t\\t\\t\\t\\t\\n\\t\\t\\t\\t\\t\\t    \\n\\t\\t\\t\\t\\t\\t\\n\\t\\t\\t\\t\\t\\t\\n\\t\\t\\t\\t\\t\\t\\n\\t\\t\\t\\t\\t\\t<div class=\"area \" title=\"현대 그랜드스타렉스 5인승 밴 CVX 럭셔리\" data-car-seq=\"21957064\">\\n\\t\\t\\t\\t\\t\\t\\t<div class=\"thumnail\">\\n\\t\\t\\t\\t\\t\\t\\t\\t\\n\\t\\t\\t\\t\\t\\t\\t\\t    \\n\\t\\t\\t\\t\\t\\t\\t\\t    \\n\\t\\t\\t\\t\\t\\t\\t\\t    \\n\\t\\t\\t\\t\\t\\t\\t\\t    \\n\\t\\t\\t\\t\\t\\t\\t\\t\\n\\t\\t\\t\\t\\t\\t\\t\\t<a href=\"/public/car/detail.kbc?carSeq=21957064\" class=\"item\" target=\"_blank\">\\n\\t\\t\\t\\t\\t\\t\\t\\t\\t<span class=\"item__img\">\\n\\t\\t\\t\\t\\t\\t\\t\\t\\t\\t<img alt=\"\" src=\"https://img.kbchachacha.com/IMG/carimg/l/img05/img2195/21957064_8253695638021759.jpg?width=360\" onerror=\"this.src=\\'/images/common/noimage.jpg\\';\">\\n\\t\\t\\t\\t\\t\\t\\t\\t\\t</span>\\n\\t\\t\\t\\t\\t\\t\\t\\t</a>\\n\\t\\t\\t\\t\\t\\t\\t</div>\\n\\t\\t\\t\\t\\t\\t\\t\\n\\t\\t\\t\\t\\t\\t\\t<div class=\"con\">\\n\\t\\t\\t\\t\\t\\t\\t\\t<div class=\"item\">\\n\\t\\t\\t\\t\\t\\t\\t\\t\\t<a href=\"/public/car/detail.kbc?carSeq=21957064\" class=\"link\" target=\"_blank\">\\n\\t\\t\\t\\t\\t\\t\\t\\t\\t\\t<strong class=\"tit\">\\n\\t\\t\\t\\t\\t\\t\\t\\t\\t\\t\\t\\n\\t\\t\\t\\t\\t\\t\\t\\t\\t\\t\\t\\n\\t\\t\\t\\t\\t\\t\\t\\t\\t\\t\\t<span class=\"bbadge bbadge-service-small bbadge-stock\">실차주</span>\\n\\t\\t\\t\\t\\t\\t\\t\\t\\t\\t\\t\\n\\t\\t\\t\\t\\t\\t\\t\\t\\t\\t\\t\\n\\t\\t\\t\\t\\t\\t\\t\\t\\t\\t\\t\\n\\t\\t\\t\\t\\t\\t\\t\\t\\t\\t\\t현대 그랜드스타렉스 5인승 밴 CVX 럭셔리\\n\\t\\t\\t\\t\\t\\t\\t\\t\\t\\t</strong>\\n\\t\\t\\t\\t\\t\\t\\t\\t\\t\\t<div class=\"data-line tp03\">\\n\\t\\t\\t\\t\\t\\t\\t\\t\\t\\t\\t<div class=\"first\">2012년 10월 (13년식)</div>\\n\\t\\t\\t\\t\\t\\t\\t\\t\\t\\t\\t<div class=\"data-in\">\\n\\t\\t\\t\\t\\t\\t\\t\\t\\t\\t\\t\\t<span>149,000km</span>\\n\\t\\t\\t\\t\\t\\t\\t\\t\\t\\t\\t\\t<span>전북</span>\\n\\t\\t\\t\\t\\t\\t\\t\\t\\t\\t\\t</div>\\n\\t\\t\\t\\t\\t\\t\\t\\t\\t\\t</div>\\n\\t\\t\\t\\t\\t\\t\\t\\t\\t\\t<strong class=\"pay\">\\n\\t\\t\\t\\t\\t\\t\\t\\t\\t\\t\\t\\n\\t\\t\\t\\t\\t\\t\\t\\t\\t\\t\\t\\t\\n\\t\\t\\t\\t\\t\\t\\t\\t\\t\\t\\t\\t\\t870만원\\n\\t\\t\\t\\t\\t\\t\\t\\t\\t\\t\\t\\t\\n\\t\\t\\t\\t\\t\\t\\t\\t\\t\\t\\t\\t\\n\\t\\t\\t\\t\\t\\t\\t\\t\\t\\t\\t\\t\\n\\t\\t\\t\\t\\t\\t\\t\\t\\t\\t\\t\\n\\t\\t\\t\\t\\t\\t\\t\\t\\t\\t</strong>\\n\\t\\t\\t\\t\\t\\t\\t\\t\\t</a>\\n\\t\\t\\t\\t\\t\\t\\t\\t\\t\\n\\t\\t\\t\\t\\t\\t\\t\\t\\t\\t<div class=\"cor-btn\">\\n\\t\\t\\t\\t\\t\\t\\t\\t\\t\\t\\t\\n\\t\\t\\t\\t\\t\\t\\t\\t\\t\\t\\t    <span class=\"bbadge bbadge-service bbadge-compensation\">헛걸음보상</span>\\n\\t\\t\\t\\t\\t\\t\\t\\t\\t\\t\\t\\n\\t\\t\\t\\t\\t\\t\\t\\t\\t\\t\\t\\n\\t\\t\\t\\t\\t\\t\\t\\t\\t\\t</div>\\n\\t\\t\\t\\t\\t\\t\\t\\t\\t\\n\\t\\t\\t\\t\\t\\t\\t\\t\\t<div class=\"sort-wrap\">\\n\\t\\t\\t\\t\\t\\t\\t\\t\\t\\t<div class=\"ck-wrap ck-tp02\">\\n\\t\\t\\t\\t\\t\\t\\t\\t\\t\\t\\t<button type=\"button\" class=\"lc-btn like ck-item  __wish\" data-car-seq=\"21957064\">\\n\\t\\t\\t\\t\\t\\t\\t\\t\\t\\t\\t\\t<span class=\"blind\">좋아요</span>\\n\\t\\t\\t\\t\\t\\t\\t\\t\\t\\t\\t</button>\\n\\t\\t\\t\\t\\t\\t\\t\\t\\t\\t\\t<button type=\"button\" class=\"lc-btn cpr ck-item  __compare\" data-car-seq=\"21957064\">\\n\\t\\t\\t\\t\\t\\t\\t\\t\\t\\t\\t\\t<span class=\"blind\">비교하기</span>\\n\\t\\t\\t\\t\\t\\t\\t\\t\\t\\t\\t</button>\\n\\t\\t\\t\\t\\t\\t\\t\\t\\t\\t</div>\\n\\t\\t\\t\\t\\t\\t\\t\\t\\t</div>\\n\\t\\t\\t\\t\\t\\t\\t\\t</div>\\n\\t\\t\\t\\t\\t\\t\\t</div>\\n\\t\\t\\t\\t\\t\\t</div>\\n\\t\\t\\t\\t\\t\\n\\t\\t\\t\\t\\t\\t\\n\\t\\t\\t\\t\\t\\t\\n\\t\\t\\t\\t\\t\\t\\n\\t\\t\\t\\t\\t\\t    \\n\\t\\t\\t\\t\\t\\t\\n\\t\\t\\t\\t\\t\\t\\n\\t\\t\\t\\t\\t\\t\\n\\t\\t\\t\\t\\t\\t<div class=\"area \" title=\"기아 오피러스 프리미엄 GH330 스페셜\" data-car-seq=\"21996979\">\\n\\t\\t\\t\\t\\t\\t\\t<div class=\"thumnail\">\\n\\t\\t\\t\\t\\t\\t\\t\\t\\n\\t\\t\\t\\t\\t\\t\\t\\t    \\n\\t\\t\\t\\t\\t\\t\\t\\t    \\n\\t\\t\\t\\t\\t\\t\\t\\t    \\n\\t\\t\\t\\t\\t\\t\\t\\t    \\n\\t\\t\\t\\t\\t\\t\\t\\t\\n\\t\\t\\t\\t\\t\\t\\t\\t<a href=\"/public/car/detail.kbc?carSeq=21996979\" class=\"item\" target=\"_blank\">\\n\\t\\t\\t\\t\\t\\t\\t\\t\\t<span class=\"item__img\">\\n\\t\\t\\t\\t\\t\\t\\t\\t\\t\\t<img alt=\"\" src=\"https://img.kbchachacha.com/IMG/carimg/l/img09/img2199/21996979_1104965628561252.jpg?width=360\" onerror=\"this.src=\\'/images/common/noimage.jpg\\';\">\\n\\t\\t\\t\\t\\t\\t\\t\\t\\t</span>\\n\\t\\t\\t\\t\\t\\t\\t\\t</a>\\n\\t\\t\\t\\t\\t\\t\\t</div>\\n\\t\\t\\t\\t\\t\\t\\t\\n\\t\\t\\t\\t\\t\\t\\t<div class=\"con\">\\n\\t\\t\\t\\t\\t\\t\\t\\t<div class=\"item\">\\n\\t\\t\\t\\t\\t\\t\\t\\t\\t<a href=\"/public/car/detail.kbc?carSeq=21996979\" class=\"link\" target=\"_blank\">\\n\\t\\t\\t\\t\\t\\t\\t\\t\\t\\t<strong class=\"tit\">\\n\\t\\t\\t\\t\\t\\t\\t\\t\\t\\t\\t\\n\\t\\t\\t\\t\\t\\t\\t\\t\\t\\t\\t\\n\\t\\t\\t\\t\\t\\t\\t\\t\\t\\t\\t<span class=\"bbadge bbadge-service-small bbadge-stock\">실차주</span>\\n\\t\\t\\t\\t\\t\\t\\t\\t\\t\\t\\t\\n\\t\\t\\t\\t\\t\\t\\t\\t\\t\\t\\t\\n\\t\\t\\t\\t\\t\\t\\t\\t\\t\\t\\t\\n\\t\\t\\t\\t\\t\\t\\t\\t\\t\\t\\t기아 오피러스 프리미엄 GH330 스페셜\\n\\t\\t\\t\\t\\t\\t\\t\\t\\t\\t</strong>\\n\\t\\t\\t\\t\\t\\t\\t\\t\\t\\t<div class=\"data-line tp03\">\\n\\t\\t\\t\\t\\t\\t\\t\\t\\t\\t\\t<div class=\"first\">2009년 11월 (10년식)</div>\\n\\t\\t\\t\\t\\t\\t\\t\\t\\t\\t\\t<div class=\"data-in\">\\n\\t\\t\\t\\t\\t\\t\\t\\t\\t\\t\\t\\t<span>140,000km</span>\\n\\t\\t\\t\\t\\t\\t\\t\\t\\t\\t\\t\\t<span>광주</span>\\n\\t\\t\\t\\t\\t\\t\\t\\t\\t\\t\\t</div>\\n\\t\\t\\t\\t\\t\\t\\t\\t\\t\\t</div>\\n\\t\\t\\t\\t\\t\\t\\t\\t\\t\\t<strong class=\"pay\">\\n\\t\\t\\t\\t\\t\\t\\t\\t\\t\\t\\t\\n\\t\\t\\t\\t\\t\\t\\t\\t\\t\\t\\t\\t\\n\\t\\t\\t\\t\\t\\t\\t\\t\\t\\t\\t\\t\\t550만원\\n\\t\\t\\t\\t\\t\\t\\t\\t\\t\\t\\t\\t\\n\\t\\t\\t\\t\\t\\t\\t\\t\\t\\t\\t\\t\\n\\t\\t\\t\\t\\t\\t\\t\\t\\t\\t\\t\\t\\n\\t\\t\\t\\t\\t\\t\\t\\t\\t\\t\\t\\n\\t\\t\\t\\t\\t\\t\\t\\t\\t\\t</strong>\\n\\t\\t\\t\\t\\t\\t\\t\\t\\t</a>\\n\\t\\t\\t\\t\\t\\t\\t\\t\\t\\n\\t\\t\\t\\t\\t\\t\\t\\t\\t\\t<div class=\"cor-btn\">\\n\\t\\t\\t\\t\\t\\t\\t\\t\\t\\t\\t\\n\\t\\t\\t\\t\\t\\t\\t\\t\\t\\t\\t    <span class=\"bbadge bbadge-service bbadge-compensation\">헛걸음보상</span>\\n\\t\\t\\t\\t\\t\\t\\t\\t\\t\\t\\t\\n\\t\\t\\t\\t\\t\\t\\t\\t\\t\\t\\t\\n\\t\\t\\t\\t\\t\\t\\t\\t\\t\\t</div>\\n\\t\\t\\t\\t\\t\\t\\t\\t\\t\\n\\t\\t\\t\\t\\t\\t\\t\\t\\t<div class=\"sort-wrap\">\\n\\t\\t\\t\\t\\t\\t\\t\\t\\t\\t<div class=\"ck-wrap ck-tp02\">\\n\\t\\t\\t\\t\\t\\t\\t\\t\\t\\t\\t<button type=\"button\" class=\"lc-btn like ck-item  __wish\" data-car-seq=\"21996979\">\\n\\t\\t\\t\\t\\t\\t\\t\\t\\t\\t\\t\\t<span class=\"blind\">좋아요</span>\\n\\t\\t\\t\\t\\t\\t\\t\\t\\t\\t\\t</button>\\n\\t\\t\\t\\t\\t\\t\\t\\t\\t\\t\\t<button type=\"button\" class=\"lc-btn cpr ck-item  __compare\" data-car-seq=\"21996979\">\\n\\t\\t\\t\\t\\t\\t\\t\\t\\t\\t\\t\\t<span class=\"blind\">비교하기</span>\\n\\t\\t\\t\\t\\t\\t\\t\\t\\t\\t\\t</button>\\n\\t\\t\\t\\t\\t\\t\\t\\t\\t\\t</div>\\n\\t\\t\\t\\t\\t\\t\\t\\t\\t</div>\\n\\t\\t\\t\\t\\t\\t\\t\\t</div>\\n\\t\\t\\t\\t\\t\\t\\t</div>\\n\\t\\t\\t\\t\\t\\t</div>\\n\\t\\t\\t\\t\\t\\n\\t\\t\\t\\t\\t\\t\\n\\t\\t\\t\\t\\t\\t\\n\\t\\t\\t\\t\\t\\t\\n\\t\\t\\t\\t\\t\\t    \\n\\t\\t\\t\\t\\t\\t\\n\\t\\t\\t\\t\\t\\t\\n\\t\\t\\t\\t\\t\\t\\n\\t\\t\\t\\t\\t\\t<div class=\"area \" title=\"기아 더 뉴 K9 3.3 GDI 프레스티지 \" data-car-seq=\"22033475\">\\n\\t\\t\\t\\t\\t\\t\\t<div class=\"thumnail\">\\n\\t\\t\\t\\t\\t\\t\\t\\t\\n\\t\\t\\t\\t\\t\\t\\t\\t    \\n\\t\\t\\t\\t\\t\\t\\t\\t    \\n\\t\\t\\t\\t\\t\\t\\t\\t    \\n\\t\\t\\t\\t\\t\\t\\t\\t    \\n\\t\\t\\t\\t\\t\\t\\t\\t\\n\\t\\t\\t\\t\\t\\t\\t\\t<a href=\"/public/car/detail.kbc?carSeq=22033475\" class=\"item\" target=\"_blank\">\\n\\t\\t\\t\\t\\t\\t\\t\\t\\t<span class=\"item__img\">\\n\\t\\t\\t\\t\\t\\t\\t\\t\\t\\t<img alt=\"\" src=\"https://img.kbchachacha.com/IMG/carimg/l/img03/img2203/22033475_1099105343143130.jpg?width=360\" onerror=\"this.src=\\'/images/common/noimage.jpg\\';\">\\n\\t\\t\\t\\t\\t\\t\\t\\t\\t</span>\\n\\t\\t\\t\\t\\t\\t\\t\\t</a>\\n\\t\\t\\t\\t\\t\\t\\t</div>\\n\\t\\t\\t\\t\\t\\t\\t\\n\\t\\t\\t\\t\\t\\t\\t<div class=\"con\">\\n\\t\\t\\t\\t\\t\\t\\t\\t<div class=\"item\">\\n\\t\\t\\t\\t\\t\\t\\t\\t\\t<a href=\"/public/car/detail.kbc?carSeq=22033475\" class=\"link\" target=\"_blank\">\\n\\t\\t\\t\\t\\t\\t\\t\\t\\t\\t<strong class=\"tit\">\\n\\t\\t\\t\\t\\t\\t\\t\\t\\t\\t\\t\\n\\t\\t\\t\\t\\t\\t\\t\\t\\t\\t\\t\\n\\t\\t\\t\\t\\t\\t\\t\\t\\t\\t\\t<span class=\"bbadge bbadge-service-small bbadge-stock\">실차주</span>\\n\\t\\t\\t\\t\\t\\t\\t\\t\\t\\t\\t\\n\\t\\t\\t\\t\\t\\t\\t\\t\\t\\t\\t\\n\\t\\t\\t\\t\\t\\t\\t\\t\\t\\t\\t\\n\\t\\t\\t\\t\\t\\t\\t\\t\\t\\t\\t기아 더 뉴 K9 3.3 GDI 프레스티지 \\n\\t\\t\\t\\t\\t\\t\\t\\t\\t\\t</strong>\\n\\t\\t\\t\\t\\t\\t\\t\\t\\t\\t<div class=\"data-line tp03\">\\n\\t\\t\\t\\t\\t\\t\\t\\t\\t\\t\\t<div class=\"first\">2015년 04월 (15년식)</div>\\n\\t\\t\\t\\t\\t\\t\\t\\t\\t\\t\\t<div class=\"data-in\">\\n\\t\\t\\t\\t\\t\\t\\t\\t\\t\\t\\t\\t<span>160,000km</span>\\n\\t\\t\\t\\t\\t\\t\\t\\t\\t\\t\\t\\t<span>경기</span>\\n\\t\\t\\t\\t\\t\\t\\t\\t\\t\\t\\t</div>\\n\\t\\t\\t\\t\\t\\t\\t\\t\\t\\t</div>\\n\\t\\t\\t\\t\\t\\t\\t\\t\\t\\t<strong class=\"pay\">\\n\\t\\t\\t\\t\\t\\t\\t\\t\\t\\t\\t\\n\\t\\t\\t\\t\\t\\t\\t\\t\\t\\t\\t\\t\\n\\t\\t\\t\\t\\t\\t\\t\\t\\t\\t\\t\\t\\t1,449만원\\n\\t\\t\\t\\t\\t\\t\\t\\t\\t\\t\\t\\t\\n\\t\\t\\t\\t\\t\\t\\t\\t\\t\\t\\t\\t\\n\\t\\t\\t\\t\\t\\t\\t\\t\\t\\t\\t\\t\\n\\t\\t\\t\\t\\t\\t\\t\\t\\t\\t\\t\\n\\t\\t\\t\\t\\t\\t\\t\\t\\t\\t</strong>\\n\\t\\t\\t\\t\\t\\t\\t\\t\\t</a>\\n\\t\\t\\t\\t\\t\\t\\t\\t\\t\\n\\t\\t\\t\\t\\t\\t\\t\\t\\t\\t<div class=\"cor-btn\">\\n\\t\\t\\t\\t\\t\\t\\t\\t\\t\\t\\t\\n\\t\\t\\t\\t\\t\\t\\t\\t\\t\\t\\t    <span class=\"bbadge bbadge-service bbadge-compensation\">헛걸음보상</span>\\n\\t\\t\\t\\t\\t\\t\\t\\t\\t\\t\\t\\n\\t\\t\\t\\t\\t\\t\\t\\t\\t\\t\\t\\n\\t\\t\\t\\t\\t\\t\\t\\t\\t\\t</div>\\n\\t\\t\\t\\t\\t\\t\\t\\t\\t\\n\\t\\t\\t\\t\\t\\t\\t\\t\\t<div class=\"sort-wrap\">\\n\\t\\t\\t\\t\\t\\t\\t\\t\\t\\t<div class=\"ck-wrap ck-tp02\">\\n\\t\\t\\t\\t\\t\\t\\t\\t\\t\\t\\t<button type=\"button\" class=\"lc-btn like ck-item  __wish\" data-car-seq=\"22033475\">\\n\\t\\t\\t\\t\\t\\t\\t\\t\\t\\t\\t\\t<span class=\"blind\">좋아요</span>\\n\\t\\t\\t\\t\\t\\t\\t\\t\\t\\t\\t</button>\\n\\t\\t\\t\\t\\t\\t\\t\\t\\t\\t\\t<button type=\"button\" class=\"lc-btn cpr ck-item  __compare\" data-car-seq=\"22033475\">\\n\\t\\t\\t\\t\\t\\t\\t\\t\\t\\t\\t\\t<span class=\"blind\">비교하기</span>\\n\\t\\t\\t\\t\\t\\t\\t\\t\\t\\t\\t</button>\\n\\t\\t\\t\\t\\t\\t\\t\\t\\t\\t</div>\\n\\t\\t\\t\\t\\t\\t\\t\\t\\t</div>\\n\\t\\t\\t\\t\\t\\t\\t\\t</div>\\n\\t\\t\\t\\t\\t\\t\\t</div>\\n\\t\\t\\t\\t\\t\\t</div>\\n\\t\\t\\t\\t\\t\\n\\t\\t\\t\\t\\t\\t\\n\\t\\t\\t\\t\\t\\t\\n\\t\\t\\t\\t\\t\\t\\n\\t\\t\\t\\t\\t\\t    \\n\\t\\t\\t\\t\\t\\t\\n\\t\\t\\t\\t\\t\\t\\n\\t\\t\\t\\t\\t\\t\\n\\t\\t\\t\\t\\t\\t<div class=\"area \" title=\"한국GM 더 넥스트 스파크 LT \" data-car-seq=\"22067525\">\\n\\t\\t\\t\\t\\t\\t\\t<div class=\"thumnail\">\\n\\t\\t\\t\\t\\t\\t\\t\\t\\n\\t\\t\\t\\t\\t\\t\\t\\t    \\n\\t\\t\\t\\t\\t\\t\\t\\t    \\n\\t\\t\\t\\t\\t\\t\\t\\t    \\n\\t\\t\\t\\t\\t\\t\\t\\t    \\n\\t\\t\\t\\t\\t\\t\\t\\t\\n\\t\\t\\t\\t\\t\\t\\t\\t<a href=\"/public/car/detail.kbc?carSeq=22067525\" class=\"item\" target=\"_blank\">\\n\\t\\t\\t\\t\\t\\t\\t\\t\\t<span class=\"item__img\">\\n\\t\\t\\t\\t\\t\\t\\t\\t\\t\\t<img alt=\"\" src=\"https://img.kbchachacha.com/IMG/carimg/l/img06/img2206/22067525_10166125093188554.jpg?width=360\" onerror=\"this.src=\\'/images/common/noimage.jpg\\';\">\\n\\t\\t\\t\\t\\t\\t\\t\\t\\t</span>\\n\\t\\t\\t\\t\\t\\t\\t\\t</a>\\n\\t\\t\\t\\t\\t\\t\\t</div>\\n\\t\\t\\t\\t\\t\\t\\t\\n\\t\\t\\t\\t\\t\\t\\t<div class=\"con\">\\n\\t\\t\\t\\t\\t\\t\\t\\t<div class=\"item\">\\n\\t\\t\\t\\t\\t\\t\\t\\t\\t<a href=\"/public/car/detail.kbc?carSeq=22067525\" class=\"link\" target=\"_blank\">\\n\\t\\t\\t\\t\\t\\t\\t\\t\\t\\t<strong class=\"tit\">\\n\\t\\t\\t\\t\\t\\t\\t\\t\\t\\t\\t\\n\\t\\t\\t\\t\\t\\t\\t\\t\\t\\t\\t\\n\\t\\t\\t\\t\\t\\t\\t\\t\\t\\t\\t<span class=\"bbadge bbadge-service-small bbadge-stock\">실차주</span>\\n\\t\\t\\t\\t\\t\\t\\t\\t\\t\\t\\t\\n\\t\\t\\t\\t\\t\\t\\t\\t\\t\\t\\t\\n\\t\\t\\t\\t\\t\\t\\t\\t\\t\\t\\t\\n\\t\\t\\t\\t\\t\\t\\t\\t\\t\\t\\t한국GM 더 넥스트 스파크 LT \\n\\t\\t\\t\\t\\t\\t\\t\\t\\t\\t</strong>\\n\\t\\t\\t\\t\\t\\t\\t\\t\\t\\t<div class=\"data-line tp03\">\\n\\t\\t\\t\\t\\t\\t\\t\\t\\t\\t\\t<div class=\"first\">2017년 09월 (18년식)</div>\\n\\t\\t\\t\\t\\t\\t\\t\\t\\t\\t\\t<div class=\"data-in\">\\n\\t\\t\\t\\t\\t\\t\\t\\t\\t\\t\\t\\t<span>14,700km</span>\\n\\t\\t\\t\\t\\t\\t\\t\\t\\t\\t\\t\\t<span>대전</span>\\n\\t\\t\\t\\t\\t\\t\\t\\t\\t\\t\\t</div>\\n\\t\\t\\t\\t\\t\\t\\t\\t\\t\\t</div>\\n\\t\\t\\t\\t\\t\\t\\t\\t\\t\\t<strong class=\"pay\">\\n\\t\\t\\t\\t\\t\\t\\t\\t\\t\\t\\t\\n\\t\\t\\t\\t\\t\\t\\t\\t\\t\\t\\t\\t\\n\\t\\t\\t\\t\\t\\t\\t\\t\\t\\t\\t\\t\\t760만원\\n\\t\\t\\t\\t\\t\\t\\t\\t\\t\\t\\t\\t\\n\\t\\t\\t\\t\\t\\t\\t\\t\\t\\t\\t\\t\\n\\t\\t\\t\\t\\t\\t\\t\\t\\t\\t\\t\\t\\n\\t\\t\\t\\t\\t\\t\\t\\t\\t\\t\\t\\n\\t\\t\\t\\t\\t\\t\\t\\t\\t\\t</strong>\\n\\t\\t\\t\\t\\t\\t\\t\\t\\t</a>\\n\\t\\t\\t\\t\\t\\t\\t\\t\\t\\n\\t\\t\\t\\t\\t\\t\\t\\t\\t\\t<div class=\"cor-btn\">\\n\\t\\t\\t\\t\\t\\t\\t\\t\\t\\t\\t\\n\\t\\t\\t\\t\\t\\t\\t\\t\\t\\t\\t    <span class=\"bbadge bbadge-service bbadge-compensation\">헛걸음보상</span>\\n\\t\\t\\t\\t\\t\\t\\t\\t\\t\\t\\t\\n\\t\\t\\t\\t\\t\\t\\t\\t\\t\\t\\t\\n\\t\\t\\t\\t\\t\\t\\t\\t\\t\\t</div>\\n\\t\\t\\t\\t\\t\\t\\t\\t\\t\\n\\t\\t\\t\\t\\t\\t\\t\\t\\t<div class=\"sort-wrap\">\\n\\t\\t\\t\\t\\t\\t\\t\\t\\t\\t<div class=\"ck-wrap ck-tp02\">\\n\\t\\t\\t\\t\\t\\t\\t\\t\\t\\t\\t<button type=\"button\" class=\"lc-btn like ck-item  __wish\" data-car-seq=\"22067525\">\\n\\t\\t\\t\\t\\t\\t\\t\\t\\t\\t\\t\\t<span class=\"blind\">좋아요</span>\\n\\t\\t\\t\\t\\t\\t\\t\\t\\t\\t\\t</button>\\n\\t\\t\\t\\t\\t\\t\\t\\t\\t\\t\\t<button type=\"button\" class=\"lc-btn cpr ck-item  __compare\" data-car-seq=\"22067525\">\\n\\t\\t\\t\\t\\t\\t\\t\\t\\t\\t\\t\\t<span class=\"blind\">비교하기</span>\\n\\t\\t\\t\\t\\t\\t\\t\\t\\t\\t\\t</button>\\n\\t\\t\\t\\t\\t\\t\\t\\t\\t\\t</div>\\n\\t\\t\\t\\t\\t\\t\\t\\t\\t</div>\\n\\t\\t\\t\\t\\t\\t\\t\\t</div>\\n\\t\\t\\t\\t\\t\\t\\t</div>\\n\\t\\t\\t\\t\\t\\t</div>\\n\\t\\t\\t\\t\\t\\n\\t\\t\\t\\t\\t\\t\\n\\t\\t\\t\\t\\t\\t\\n\\t\\t\\t\\t\\t\\t\\n\\t\\t\\t\\t\\t\\t    \\n\\t\\t\\t\\t\\t\\t\\n\\t\\t\\t\\t\\t\\t\\n\\t\\t\\t\\t\\t\\t\\n\\t\\t\\t\\t\\t\\t<div class=\"area \" title=\"기아 더 뉴 K7 2.4 GDI 프레스티지 스페셜 \" data-car-seq=\"22070338\">\\n\\t\\t\\t\\t\\t\\t\\t<div class=\"thumnail\">\\n\\t\\t\\t\\t\\t\\t\\t\\t\\n\\t\\t\\t\\t\\t\\t\\t\\t    \\n\\t\\t\\t\\t\\t\\t\\t\\t    \\n\\t\\t\\t\\t\\t\\t\\t\\t    \\n\\t\\t\\t\\t\\t\\t\\t\\t    \\n\\t\\t\\t\\t\\t\\t\\t\\t\\n\\t\\t\\t\\t\\t\\t\\t\\t<a href=\"/public/car/detail.kbc?carSeq=22070338\" class=\"item\" target=\"_blank\">\\n\\t\\t\\t\\t\\t\\t\\t\\t\\t<span class=\"item__img\">\\n\\t\\t\\t\\t\\t\\t\\t\\t\\t\\t<img alt=\"\" src=\"https://img.kbchachacha.com/IMG/carimg/l/img07/img2207/22070338_44547164477700106.jpeg?width=360\" onerror=\"this.src=\\'/images/common/noimage.jpg\\';\">\\n\\t\\t\\t\\t\\t\\t\\t\\t\\t</span>\\n\\t\\t\\t\\t\\t\\t\\t\\t</a>\\n\\t\\t\\t\\t\\t\\t\\t</div>\\n\\t\\t\\t\\t\\t\\t\\t\\n\\t\\t\\t\\t\\t\\t\\t<div class=\"con\">\\n\\t\\t\\t\\t\\t\\t\\t\\t<div class=\"item\">\\n\\t\\t\\t\\t\\t\\t\\t\\t\\t<a href=\"/public/car/detail.kbc?carSeq=22070338\" class=\"link\" target=\"_blank\">\\n\\t\\t\\t\\t\\t\\t\\t\\t\\t\\t<strong class=\"tit\">\\n\\t\\t\\t\\t\\t\\t\\t\\t\\t\\t\\t\\n\\t\\t\\t\\t\\t\\t\\t\\t\\t\\t\\t\\n\\t\\t\\t\\t\\t\\t\\t\\t\\t\\t\\t<span class=\"bbadge bbadge-service-small bbadge-stock\">실차주</span>\\n\\t\\t\\t\\t\\t\\t\\t\\t\\t\\t\\t\\n\\t\\t\\t\\t\\t\\t\\t\\t\\t\\t\\t\\n\\t\\t\\t\\t\\t\\t\\t\\t\\t\\t\\t\\n\\t\\t\\t\\t\\t\\t\\t\\t\\t\\t\\t기아 더 뉴 K7 2.4 GDI 프레스티지 스페셜 \\n\\t\\t\\t\\t\\t\\t\\t\\t\\t\\t</strong>\\n\\t\\t\\t\\t\\t\\t\\t\\t\\t\\t<div class=\"data-line tp03\">\\n\\t\\t\\t\\t\\t\\t\\t\\t\\t\\t\\t<div class=\"first\">2014년 01월 (13년식)</div>\\n\\t\\t\\t\\t\\t\\t\\t\\t\\t\\t\\t<div class=\"data-in\">\\n\\t\\t\\t\\t\\t\\t\\t\\t\\t\\t\\t\\t<span>108,000km</span>\\n\\t\\t\\t\\t\\t\\t\\t\\t\\t\\t\\t\\t<span>전북</span>\\n\\t\\t\\t\\t\\t\\t\\t\\t\\t\\t\\t</div>\\n\\t\\t\\t\\t\\t\\t\\t\\t\\t\\t</div>\\n\\t\\t\\t\\t\\t\\t\\t\\t\\t\\t<strong class=\"pay\">\\n\\t\\t\\t\\t\\t\\t\\t\\t\\t\\t\\t\\n\\t\\t\\t\\t\\t\\t\\t\\t\\t\\t\\t\\t\\n\\t\\t\\t\\t\\t\\t\\t\\t\\t\\t\\t\\t\\t1,240만원\\n\\t\\t\\t\\t\\t\\t\\t\\t\\t\\t\\t\\t\\n\\t\\t\\t\\t\\t\\t\\t\\t\\t\\t\\t\\t\\n\\t\\t\\t\\t\\t\\t\\t\\t\\t\\t\\t\\t\\n\\t\\t\\t\\t\\t\\t\\t\\t\\t\\t\\t\\n\\t\\t\\t\\t\\t\\t\\t\\t\\t\\t</strong>\\n\\t\\t\\t\\t\\t\\t\\t\\t\\t</a>\\n\\t\\t\\t\\t\\t\\t\\t\\t\\t\\n\\t\\t\\t\\t\\t\\t\\t\\t\\t\\t<div class=\"cor-btn\">\\n\\t\\t\\t\\t\\t\\t\\t\\t\\t\\t\\t\\n\\t\\t\\t\\t\\t\\t\\t\\t\\t\\t\\t    <span class=\"bbadge bbadge-service bbadge-compensation\">헛걸음보상</span>\\n\\t\\t\\t\\t\\t\\t\\t\\t\\t\\t\\t\\n\\t\\t\\t\\t\\t\\t\\t\\t\\t\\t\\t\\n\\t\\t\\t\\t\\t\\t\\t\\t\\t\\t</div>\\n\\t\\t\\t\\t\\t\\t\\t\\t\\t\\n\\t\\t\\t\\t\\t\\t\\t\\t\\t<div class=\"sort-wrap\">\\n\\t\\t\\t\\t\\t\\t\\t\\t\\t\\t<div class=\"ck-wrap ck-tp02\">\\n\\t\\t\\t\\t\\t\\t\\t\\t\\t\\t\\t<button type=\"button\" class=\"lc-btn like ck-item  __wish\" data-car-seq=\"22070338\">\\n\\t\\t\\t\\t\\t\\t\\t\\t\\t\\t\\t\\t<span class=\"blind\">좋아요</span>\\n\\t\\t\\t\\t\\t\\t\\t\\t\\t\\t\\t</button>\\n\\t\\t\\t\\t\\t\\t\\t\\t\\t\\t\\t<button type=\"button\" class=\"lc-btn cpr ck-item  __compare\" data-car-seq=\"22070338\">\\n\\t\\t\\t\\t\\t\\t\\t\\t\\t\\t\\t\\t<span class=\"blind\">비교하기</span>\\n\\t\\t\\t\\t\\t\\t\\t\\t\\t\\t\\t</button>\\n\\t\\t\\t\\t\\t\\t\\t\\t\\t\\t</div>\\n\\t\\t\\t\\t\\t\\t\\t\\t\\t</div>\\n\\t\\t\\t\\t\\t\\t\\t\\t</div>\\n\\t\\t\\t\\t\\t\\t\\t</div>\\n\\t\\t\\t\\t\\t\\t</div>\\n\\t\\t\\t\\t\\t\\n\\t\\t\\t\\t\\t\\t\\n\\t\\t\\t\\t\\t\\t\\n\\t\\t\\t\\t\\t\\t\\n\\t\\t\\t\\t\\t\\t    \\n\\t\\t\\t\\t\\t\\t\\n\\t\\t\\t\\t\\t\\t\\n\\t\\t\\t\\t\\t\\t\\n\\t\\t\\t\\t\\t\\t<div class=\"area \" title=\"현대 그랜드스타렉스 5인승 밴 CVX 디럭스\" data-car-seq=\"22138736\">\\n\\t\\t\\t\\t\\t\\t\\t<div class=\"thumnail\">\\n\\t\\t\\t\\t\\t\\t\\t\\t\\n\\t\\t\\t\\t\\t\\t\\t\\t    \\n\\t\\t\\t\\t\\t\\t\\t\\t    \\n\\t\\t\\t\\t\\t\\t\\t\\t    \\n\\t\\t\\t\\t\\t\\t\\t\\t    \\n\\t\\t\\t\\t\\t\\t\\t\\t\\n\\t\\t\\t\\t\\t\\t\\t\\t<a href=\"/public/car/detail.kbc?carSeq=22138736\" class=\"item\" target=\"_blank\">\\n\\t\\t\\t\\t\\t\\t\\t\\t\\t<span class=\"item__img\">\\n\\t\\t\\t\\t\\t\\t\\t\\t\\t\\t<img alt=\"\" src=\"https://img.kbchachacha.com/IMG/carimg/l/img03/img2213/22138736_46118228931876212.jpeg?width=360\" onerror=\"this.src=\\'/images/common/noimage.jpg\\';\">\\n\\t\\t\\t\\t\\t\\t\\t\\t\\t</span>\\n\\t\\t\\t\\t\\t\\t\\t\\t</a>\\n\\t\\t\\t\\t\\t\\t\\t</div>\\n\\t\\t\\t\\t\\t\\t\\t\\n\\t\\t\\t\\t\\t\\t\\t<div class=\"con\">\\n\\t\\t\\t\\t\\t\\t\\t\\t<div class=\"item\">\\n\\t\\t\\t\\t\\t\\t\\t\\t\\t<a href=\"/public/car/detail.kbc?carSeq=22138736\" class=\"link\" target=\"_blank\">\\n\\t\\t\\t\\t\\t\\t\\t\\t\\t\\t<strong class=\"tit\">\\n\\t\\t\\t\\t\\t\\t\\t\\t\\t\\t\\t\\n\\t\\t\\t\\t\\t\\t\\t\\t\\t\\t\\t\\n\\t\\t\\t\\t\\t\\t\\t\\t\\t\\t\\t<span class=\"bbadge bbadge-service-small bbadge-stock\">실차주</span>\\n\\t\\t\\t\\t\\t\\t\\t\\t\\t\\t\\t\\n\\t\\t\\t\\t\\t\\t\\t\\t\\t\\t\\t\\n\\t\\t\\t\\t\\t\\t\\t\\t\\t\\t\\t\\n\\t\\t\\t\\t\\t\\t\\t\\t\\t\\t\\t현대 그랜드스타렉스 5인승 밴 CVX 디럭스\\n\\t\\t\\t\\t\\t\\t\\t\\t\\t\\t</strong>\\n\\t\\t\\t\\t\\t\\t\\t\\t\\t\\t<div class=\"data-line tp03\">\\n\\t\\t\\t\\t\\t\\t\\t\\t\\t\\t\\t<div class=\"first\">2010년 03월 (10년식)</div>\\n\\t\\t\\t\\t\\t\\t\\t\\t\\t\\t\\t<div class=\"data-in\">\\n\\t\\t\\t\\t\\t\\t\\t\\t\\t\\t\\t\\t<span>407,424km</span>\\n\\t\\t\\t\\t\\t\\t\\t\\t\\t\\t\\t\\t<span>경기</span>\\n\\t\\t\\t\\t\\t\\t\\t\\t\\t\\t\\t</div>\\n\\t\\t\\t\\t\\t\\t\\t\\t\\t\\t</div>\\n\\t\\t\\t\\t\\t\\t\\t\\t\\t\\t<strong class=\"pay\">\\n\\t\\t\\t\\t\\t\\t\\t\\t\\t\\t\\t\\n\\t\\t\\t\\t\\t\\t\\t\\t\\t\\t\\t\\t\\n\\t\\t\\t\\t\\t\\t\\t\\t\\t\\t\\t\\t\\t399만원\\n\\t\\t\\t\\t\\t\\t\\t\\t\\t\\t\\t\\t\\n\\t\\t\\t\\t\\t\\t\\t\\t\\t\\t\\t\\t\\n\\t\\t\\t\\t\\t\\t\\t\\t\\t\\t\\t\\t\\n\\t\\t\\t\\t\\t\\t\\t\\t\\t\\t\\t\\n\\t\\t\\t\\t\\t\\t\\t\\t\\t\\t</strong>\\n\\t\\t\\t\\t\\t\\t\\t\\t\\t</a>\\n\\t\\t\\t\\t\\t\\t\\t\\t\\t\\n\\t\\t\\t\\t\\t\\t\\t\\t\\t\\t<div class=\"cor-btn\">\\n\\t\\t\\t\\t\\t\\t\\t\\t\\t\\t\\t\\n\\t\\t\\t\\t\\t\\t\\t\\t\\t\\t\\t    <span class=\"bbadge bbadge-service bbadge-compensation\">헛걸음보상</span>\\n\\t\\t\\t\\t\\t\\t\\t\\t\\t\\t\\t\\n\\t\\t\\t\\t\\t\\t\\t\\t\\t\\t\\t\\n\\t\\t\\t\\t\\t\\t\\t\\t\\t\\t</div>\\n\\t\\t\\t\\t\\t\\t\\t\\t\\t\\n\\t\\t\\t\\t\\t\\t\\t\\t\\t<div class=\"sort-wrap\">\\n\\t\\t\\t\\t\\t\\t\\t\\t\\t\\t<div class=\"ck-wrap ck-tp02\">\\n\\t\\t\\t\\t\\t\\t\\t\\t\\t\\t\\t<button type=\"button\" class=\"lc-btn like ck-item  __wish\" data-car-seq=\"22138736\">\\n\\t\\t\\t\\t\\t\\t\\t\\t\\t\\t\\t\\t<span class=\"blind\">좋아요</span>\\n\\t\\t\\t\\t\\t\\t\\t\\t\\t\\t\\t</button>\\n\\t\\t\\t\\t\\t\\t\\t\\t\\t\\t\\t<button type=\"button\" class=\"lc-btn cpr ck-item  __compare\" data-car-seq=\"22138736\">\\n\\t\\t\\t\\t\\t\\t\\t\\t\\t\\t\\t\\t<span class=\"blind\">비교하기</span>\\n\\t\\t\\t\\t\\t\\t\\t\\t\\t\\t\\t</button>\\n\\t\\t\\t\\t\\t\\t\\t\\t\\t\\t</div>\\n\\t\\t\\t\\t\\t\\t\\t\\t\\t</div>\\n\\t\\t\\t\\t\\t\\t\\t\\t</div>\\n\\t\\t\\t\\t\\t\\t\\t</div>\\n\\t\\t\\t\\t\\t\\t</div>\\n\\t\\t\\t\\t\\t\\n\\t\\t\\t\\t\\t\\t\\n\\t\\t\\t\\t\\t\\t\\n\\t\\t\\t\\t\\t\\t\\n\\t\\t\\t\\t\\t\\t    \\n\\t\\t\\t\\t\\t\\t\\n\\t\\t\\t\\t\\t\\t\\n\\t\\t\\t\\t\\t\\t\\n\\t\\t\\t\\t\\t\\t<div class=\"area \" title=\"기아 카니발 R 뉴카니발 리무진 President \" data-car-seq=\"22166746\">\\n\\t\\t\\t\\t\\t\\t\\t<div class=\"thumnail\">\\n\\t\\t\\t\\t\\t\\t\\t\\t\\n\\t\\t\\t\\t\\t\\t\\t\\t    \\n\\t\\t\\t\\t\\t\\t\\t\\t    \\n\\t\\t\\t\\t\\t\\t\\t\\t    \\n\\t\\t\\t\\t\\t\\t\\t\\t    \\n\\t\\t\\t\\t\\t\\t\\t\\t\\n\\t\\t\\t\\t\\t\\t\\t\\t<a href=\"/public/car/detail.kbc?carSeq=22166746\" class=\"item\" target=\"_blank\">\\n\\t\\t\\t\\t\\t\\t\\t\\t\\t<span class=\"item__img\">\\n\\t\\t\\t\\t\\t\\t\\t\\t\\t\\t<img alt=\"\" src=\"https://img.kbchachacha.com/IMG/carimg/l/img06/img2216/22166746_46724868213512674.jpeg?width=360\" onerror=\"this.src=\\'/images/common/noimage.jpg\\';\">\\n\\t\\t\\t\\t\\t\\t\\t\\t\\t</span>\\n\\t\\t\\t\\t\\t\\t\\t\\t</a>\\n\\t\\t\\t\\t\\t\\t\\t</div>\\n\\t\\t\\t\\t\\t\\t\\t\\n\\t\\t\\t\\t\\t\\t\\t<div class=\"con\">\\n\\t\\t\\t\\t\\t\\t\\t\\t<div class=\"item\">\\n\\t\\t\\t\\t\\t\\t\\t\\t\\t<a href=\"/public/car/detail.kbc?carSeq=22166746\" class=\"link\" target=\"_blank\">\\n\\t\\t\\t\\t\\t\\t\\t\\t\\t\\t<strong class=\"tit\">\\n\\t\\t\\t\\t\\t\\t\\t\\t\\t\\t\\t\\n\\t\\t\\t\\t\\t\\t\\t\\t\\t\\t\\t\\n\\t\\t\\t\\t\\t\\t\\t\\t\\t\\t\\t<span class=\"bbadge bbadge-service-small bbadge-stock\">실차주</span>\\n\\t\\t\\t\\t\\t\\t\\t\\t\\t\\t\\t\\n\\t\\t\\t\\t\\t\\t\\t\\t\\t\\t\\t\\n\\t\\t\\t\\t\\t\\t\\t\\t\\t\\t\\t\\n\\t\\t\\t\\t\\t\\t\\t\\t\\t\\t\\t기아 카니발 R 뉴카니발 리무진 President \\n\\t\\t\\t\\t\\t\\t\\t\\t\\t\\t</strong>\\n\\t\\t\\t\\t\\t\\t\\t\\t\\t\\t<div class=\"data-line tp03\">\\n\\t\\t\\t\\t\\t\\t\\t\\t\\t\\t\\t<div class=\"first\">2012년 01월 (12년식)</div>\\n\\t\\t\\t\\t\\t\\t\\t\\t\\t\\t\\t<div class=\"data-in\">\\n\\t\\t\\t\\t\\t\\t\\t\\t\\t\\t\\t\\t<span>278,737km</span>\\n\\t\\t\\t\\t\\t\\t\\t\\t\\t\\t\\t\\t<span>경기</span>\\n\\t\\t\\t\\t\\t\\t\\t\\t\\t\\t\\t</div>\\n\\t\\t\\t\\t\\t\\t\\t\\t\\t\\t</div>\\n\\t\\t\\t\\t\\t\\t\\t\\t\\t\\t<strong class=\"pay\">\\n\\t\\t\\t\\t\\t\\t\\t\\t\\t\\t\\t\\n\\t\\t\\t\\t\\t\\t\\t\\t\\t\\t\\t\\t\\n\\t\\t\\t\\t\\t\\t\\t\\t\\t\\t\\t\\t\\t770만원\\n\\t\\t\\t\\t\\t\\t\\t\\t\\t\\t\\t\\t\\n\\t\\t\\t\\t\\t\\t\\t\\t\\t\\t\\t\\t\\n\\t\\t\\t\\t\\t\\t\\t\\t\\t\\t\\t\\t\\n\\t\\t\\t\\t\\t\\t\\t\\t\\t\\t\\t\\n\\t\\t\\t\\t\\t\\t\\t\\t\\t\\t</strong>\\n\\t\\t\\t\\t\\t\\t\\t\\t\\t</a>\\n\\t\\t\\t\\t\\t\\t\\t\\t\\t\\n\\t\\t\\t\\t\\t\\t\\t\\t\\t\\t<div class=\"cor-btn\">\\n\\t\\t\\t\\t\\t\\t\\t\\t\\t\\t\\t\\n\\t\\t\\t\\t\\t\\t\\t\\t\\t\\t\\t    <span class=\"bbadge bbadge-service bbadge-compensation\">헛걸음보상</span>\\n\\t\\t\\t\\t\\t\\t\\t\\t\\t\\t\\t\\n\\t\\t\\t\\t\\t\\t\\t\\t\\t\\t\\t\\n\\t\\t\\t\\t\\t\\t\\t\\t\\t\\t</div>\\n\\t\\t\\t\\t\\t\\t\\t\\t\\t\\n\\t\\t\\t\\t\\t\\t\\t\\t\\t<div class=\"sort-wrap\">\\n\\t\\t\\t\\t\\t\\t\\t\\t\\t\\t<div class=\"ck-wrap ck-tp02\">\\n\\t\\t\\t\\t\\t\\t\\t\\t\\t\\t\\t<button type=\"button\" class=\"lc-btn like ck-item  __wish\" data-car-seq=\"22166746\">\\n\\t\\t\\t\\t\\t\\t\\t\\t\\t\\t\\t\\t<span class=\"blind\">좋아요</span>\\n\\t\\t\\t\\t\\t\\t\\t\\t\\t\\t\\t</button>\\n\\t\\t\\t\\t\\t\\t\\t\\t\\t\\t\\t<button type=\"button\" class=\"lc-btn cpr ck-item  __compare\" data-car-seq=\"22166746\">\\n\\t\\t\\t\\t\\t\\t\\t\\t\\t\\t\\t\\t<span class=\"blind\">비교하기</span>\\n\\t\\t\\t\\t\\t\\t\\t\\t\\t\\t\\t</button>\\n\\t\\t\\t\\t\\t\\t\\t\\t\\t\\t</div>\\n\\t\\t\\t\\t\\t\\t\\t\\t\\t</div>\\n\\t\\t\\t\\t\\t\\t\\t\\t</div>\\n\\t\\t\\t\\t\\t\\t\\t</div>\\n\\t\\t\\t\\t\\t\\t</div>\\n\\t\\t\\t\\t\\t\\n\\t\\t\\t\\t</div>\\n\\t\\t\\t</div>\\n\\t\\t\\n\\t\\t<!-- //일반등록 -->\\n\\n\\t\\t<!-- 간편정보 매물 -->\\n\\t\\t\\n\\t\\t<!-- //간편정보 매물 -->\\n\\n\\t\\t\\n\\n\\t\\t\\n\\n\\n\\n\\n\\n\\n\\n\\n\\n\\n\\n\\n\\t\\t<div class=\"paginate align-c mg-t0 mg-b100\">\\n\\t\\t\\t<a href=\"javascript:app.setPage(); window.scrollTo(0,0);\" class=\"prev\" style=\"visibility: hidden;\">이전페이지</a>\\n\\t\\t\\t\\n\\t\\t\\t\\t\\n\\t\\t\\t\\t\\t\\n\\t\\t\\t\\t\\t\\t<strong><span>1</span></strong>\\n\\t\\t\\t\\t\\t\\n\\t\\t\\t\\t\\t\\n\\t\\t\\t\\t\\n\\t\\t\\t\\n\\t\\t\\t\\t\\n\\t\\t\\t\\t\\t\\n\\t\\t\\t\\t\\t\\n\\t\\t\\t\\t\\t\\t<a href=\"javascript:app.setPage(2); window.scrollTo(0,0);\">2</a>\\n\\t\\t\\t\\t\\t\\n\\t\\t\\t\\t\\n\\t\\t\\t\\n\\t\\t\\t\\t\\n\\t\\t\\t\\t\\t\\n\\t\\t\\t\\t\\t\\n\\t\\t\\t\\t\\t\\t<a href=\"javascript:app.setPage(3); window.scrollTo(0,0);\">3</a>\\n\\t\\t\\t\\t\\t\\n\\t\\t\\t\\t\\n\\t\\t\\t\\n\\t\\t\\t\\t\\n\\t\\t\\t\\t\\t\\n\\t\\t\\t\\t\\t\\n\\t\\t\\t\\t\\t\\t<a href=\"javascript:app.setPage(4); window.scrollTo(0,0);\">4</a>\\n\\t\\t\\t\\t\\t\\n\\t\\t\\t\\t\\n\\t\\t\\t\\n\\t\\t\\t\\t\\n\\t\\t\\t\\t\\t\\n\\t\\t\\t\\t\\t\\n\\t\\t\\t\\t\\t\\t<a href=\"javascript:app.setPage(5); window.scrollTo(0,0);\">5</a>\\n\\t\\t\\t\\t\\t\\n\\t\\t\\t\\t\\n\\t\\t\\t\\n\\t\\t\\t\\t\\n\\t\\t\\t\\t\\t\\n\\t\\t\\t\\t\\t\\n\\t\\t\\t\\t\\t\\t<a href=\"javascript:app.setPage(6); window.scrollTo(0,0);\">6</a>\\n\\t\\t\\t\\t\\t\\n\\t\\t\\t\\t\\n\\t\\t\\t\\n\\t\\t\\t\\t\\n\\t\\t\\t\\t\\t\\n\\t\\t\\t\\t\\t\\n\\t\\t\\t\\t\\t\\t<a href=\"javascript:app.setPage(7); window.scrollTo(0,0);\">7</a>\\n\\t\\t\\t\\t\\t\\n\\t\\t\\t\\t\\n\\t\\t\\t\\n\\t\\t\\t\\t\\n\\t\\t\\t\\t\\t\\n\\t\\t\\t\\t\\t\\n\\t\\t\\t\\t\\t\\t<a href=\"javascript:app.setPage(8); window.scrollTo(0,0);\">8</a>\\n\\t\\t\\t\\t\\t\\n\\t\\t\\t\\t\\n\\t\\t\\t\\n\\t\\t\\t\\t\\n\\t\\t\\t\\t\\t\\n\\t\\t\\t\\t\\t\\n\\t\\t\\t\\t\\t\\t<a href=\"javascript:app.setPage(9); window.scrollTo(0,0);\">9</a>\\n\\t\\t\\t\\t\\t\\n\\t\\t\\t\\t\\n\\t\\t\\t\\n\\t\\t\\t\\t\\n\\t\\t\\t\\t\\t\\n\\t\\t\\t\\t\\t\\n\\t\\t\\t\\t\\t\\t<a href=\"javascript:app.setPage(10); window.scrollTo(0,0);\">10</a>\\n\\t\\t\\t\\t\\t\\n\\t\\t\\t\\t\\n\\t\\t\\t\\n\\t\\t\\t<a href=\"javascript:app.setPage(11); window.scrollTo(0,0);\" class=\"next\">다음페이지</a>\\n\\t\\t</div>\\n\\n\\t\\t<!-- 일반매물 아래 일반 배너 -->\\n\\t\\t\\n\\t\\t\\t<div class=\"banner-area buy-com-bar mg-b60\" id=\"normalBanner2\">\\n\\t\\t\\t\\t<div class=\"banner-com\">\\n\\t\\t\\t\\t\\t<div class=\"item\">\\n\\t\\t\\t\\t\\t<span class=\"banner-com__left\" style=\"background-image:url(https://img.kbchachacha.com/IMG/banner/883/31773884995373367.png);\"></span>\\n\\t\\t\\t\\t\\t<span class=\"banner-com__right\" style=\"background-image:url(https://img.kbchachacha.com/IMG/banner/883/31773884995373367.png);\"></span>\\n\\t\\t\\t\\t\\t<img src=\"https://img.kbchachacha.com/IMG/banner/883/31773884995373367.png\" alt=\"\">\\n\\t\\t\\t\\t\\t</div>\\n\\t\\t\\t\\t\\t\\n\\t\\t\\t\\t</div>\\n\\t\\t\\t</div>\\n\\t\\t\\n\\t\\t<!-- //일반매물 아래 일반 배너 -->\\n\\t\\n\\t\\n\\n\\n<div style=\"display: none;\" id=\"_carCompare\" data-size=\"0\"></div>\\n\\n<script language=\"javascript\">\\nvar win = {\\n\\t\\tsetThemeBanner1 : function(){\\n\\t\\t\\t$(\"#themeBanner1\").on(\"click\", function(){\\n\\t\\t\\t\\tvar data = {\\n\\t\\t\\t\\t\\t\\tbannerMasterSeq: \\'120\\',\\n\\t\\t\\t\\t\\t\\tbannerLocationCode: \\'230150\\',\\n\\t\\t\\t\\t\\t\\tlinkGbn: \\'DIRECT\\',\\n\\t\\t\\t\\t\\t\\tlinkDirectPc: \\'236100\\',\\n\\t\\t\\t\\t\\t\\tlinkDirectPcUrl: \\'https://www.kbchachacha.com/public/search/themeList.kbc?themeSeq=57#!?themeSeq=57\\'\\n\\t\\t\\t\\t};\\n\\t\\t\\t\\t$_BANNER.view(data);\\n\\t\\t\\t});\\n\\t\\t},\\n\\t\\t\\n\\t\\tsetThemeBanner2 : function(){\\n\\t\\t\\t$(\"#themeBanner2\").on(\"click\", function(){\\n\\t\\t\\t\\tvar data = {\\n\\t\\t\\t\\t\\t\\tbannerMasterSeq: \\'128\\',\\n\\t\\t\\t\\t\\t\\tbannerLocationCode: \\'230150\\',\\n\\t\\t\\t\\t\\t\\tlinkGbn: \\'DIRECT\\',\\n\\t\\t\\t\\t\\t\\tlinkDirectPc: \\'236100\\',\\n\\t\\t\\t\\t\\t\\tlinkDirectPcUrl: \\'https://www.kbchachacha.com/public/search/themeList.kbc?themeSeq=52#!?themeSeq=52\\'\\n\\t\\t\\t\\t};\\n\\t\\t\\t\\t$_BANNER.view(data);\\n\\t\\t\\t});\\n\\t\\t},\\n\\t\\t\\n\\t\\tsetNormalBanner1 : function(){\\n\\t\\t\\t$(\"#normalBanner1\").on(\"click\", function(){\\n\\t\\t\\t\\tvar data = {\\n\\t\\t\\t\\t\\t\\tbannerMasterSeq: \\'300\\',\\n\\t\\t\\t\\t\\t\\tbannerLocationCode: \\'230160\\',\\n\\t\\t\\t\\t\\t\\tlinkGbn: \\'DIRECT\\',\\n\\t\\t\\t\\t\\t\\tlinkDirectPc: \\'236100\\',\\n\\t\\t\\t\\t\\t\\tlinkDirectPcUrl: \\'https://www.kbchachacha.com/public/sellme/submain.kbc\\'\\n\\t\\t\\t\\t};\\n\\t\\t\\t\\t$_BANNER.view(data);\\n\\t\\t\\t});\\n\\t\\t},\\n\\t\\t\\n\\t\\tsetNormalBanner2 : function(){\\n\\t\\t\\t$(\"#normalBanner2\").on(\"click\", function(){\\n\\t\\t\\t\\tvar data = {\\n\\t\\t\\t\\t\\t\\tbannerMasterSeq: \\'883\\',\\n\\t\\t\\t\\t\\t\\tbannerLocationCode: \\'230160\\',\\n\\t\\t\\t\\t\\t\\tlinkGbn: \\'DIRECT\\',\\n\\t\\t\\t\\t\\t\\tlinkDirectPc: \\'236110\\',\\n\\t\\t\\t\\t\\t\\tlinkDirectPcUrl: \\'https://www.kbchachacha.com/public/mycar/mortgage/consult/regist.kbc\\'\\n\\t\\t\\t\\t};\\n\\t\\t\\t\\t$_BANNER.view(data);\\n\\t\\t\\t});\\n\\t\\t}\\n}\\n\\n$(document).ready(function(){\\n\\t//배너 세팅\\n\\twin.setThemeBanner1();\\n\\twin.setThemeBanner2();\\n\\twin.setNormalBanner1();\\n\\twin.setNormalBanner2();\\n});\\n\\n\\n\\n</script>\\n</div>\\n\\t\\t\\t\\t<!-- //검색 리스트 영역 -->\\n\\t\\t\\t</div>\\n\\t\\t</div>\\n\\t</div>\\n</div>\\n\\n\\n\\n\\n\\n\\n\\n\\n\\n\\n\\n\\n\\n<!-- 한줄광고 딜러정보 -->\\n<div class=\"popup-wrap\" id=\"popup01010\"></div>\\n<!--// 한줄광고 딜러정보 -->\\n\\n\\n\\n<!-- Toast 메시지 -->\\n<div class=\"popup-wrap03\" id=\"popup0301\"><!-- common.popSh03(\\'popup0301\\') -->\\n    <div class=\"pop-whBox\">\\n        <div class=\"pop-area\">\\n            <div class=\"pop-con\">\\n                <div class=\"mid-box\">\\n                    <span class=\"pop-txt\">최근 검색 결과가 초기화 되었습니다.</span>\\n                </div>\\n            </div>\\n        </div>\\n    </div>\\n</div>\\n\\n<div class=\"popup-wrap03\" id=\"popup0302\"><!-- common.popSh03(\\'popup0302\\') -->\\n    <div class=\"pop-whBox\">\\n        <div class=\"pop-area\">\\n            <div class=\"pop-con\">\\n                <div class=\"mid-box\">\\n                    <span class=\"pop-txt\">옵션이 초기화 되었습니다.</span>\\n                </div>\\n            </div>\\n        </div>\\n    </div>\\n</div>\\n<!-- //Toast 메시지 -->\\n\\n\\n\\n<!-- 차차차 서비스란? -->\\n<div class=\"popup-wrap\" id=\"popup0101\">\\n\\t<div class=\"pop-whBox\">\\n\\t\\t<div class=\"pop-area\">\\n\\t\\t\\t<div class=\"pop-con\">\\n\\t\\t\\t\\t<div class=\"pop-tit\">\\n\\t\\t\\t\\t\\t<h2>차차차 서비스란?</h2>\\n\\t\\t\\t\\t</div>\\n\\t\\t\\t\\t<div class=\"con-txt\">\\n\\t\\t\\t\\t\\t<dl class=\"chachachaService\">\\n\\t\\t\\t\\t\\t\\t<dt>ⓘ 헛걸음보상</dt><dd>안심하고 방문할 수 있는 보상서비스(방문예약 필수)</dd>\\n\\t\\t\\t\\t\\t\\t<!-- <dt>ⓘ 연장보증</dt><dd>최대 12개월/2만km 보증수리</dd> -->\\n\\t\\t\\t\\t\\t\\t<!-- 2020-10-05 lhy. 제휴할인 계약만료로 아이콘 미노출 처리. <dt>ⓘ 제휴할인</dt><dd>제휴서비스를 통한 차량구매대금 200만원 할인제공</dd> -->\\n\\t\\t\\t\\t\\t\\t<!-- <dt>ⓘ 바꿔줘차차차</dt><dd>구매차량과 내차판매를 동시에 상담</dd> -->\\n\\t\\t\\t\\t\\t\\t<!-- <dt>ⓘ 보내줘차차차</dt><dd>3일 동안 타보고 구매 결정하는 온라인 배송서비스</dd> -->\\n\\t\\t\\t\\t\\t</dl>\\n\\t\\t\\t\\t</div>\\n\\t\\t\\t</div>\\n\\t\\t\\t<div class=\"pop-btn\">\\n\\t\\t\\t\\t<!-- 기본은 1개 100%, leg02 2개 50%/50% -->\\n\\t\\t\\t\\t<button type=\"button\" class=\"pBtn pb-blue\" onclick=\"common.popSh(\\'popup0101\\')\">\\n\\t\\t\\t\\t\\t<span>닫기</span>\\n\\t\\t\\t\\t</button>\\n\\t\\t\\t</div>\\n\\t\\t\\t<button type=\"button\" class=\"pop-close\" onclick=\"common.popSh(\\'popup0101\\')\">\\n\\t\\t\\t\\t<span>팝업 닫기</span>\\n\\t\\t\\t</button>\\n\\t\\t</div>\\n\\t</div>\\n</div>\\n<!-- //차차차 서비스란? -->\\n\\n\\n\\n<!-- 판매구분이란? -->\\n<div class=\"popup-wrap\" id=\"popup0102\">\\n\\t<div class=\"pop-whBox\">\\n\\t\\t<div class=\"pop-area\">\\n\\t\\t\\t<div class=\"pop-con\">\\n\\t\\t\\t\\t<div class=\"pop-tit\">\\n\\t\\t\\t\\t\\t<h2>판매구분이란?</h2>\\n\\t\\t\\t\\t</div>\\n\\t\\t\\t\\t<div class=\"con-txt\">\\n\\t\\t\\t\\t\\t<ul class=\"saleClass\">\\n\\t\\t\\t\\t\\t\\t<li><span class=\"title\">ⓘ 실차주</span>차량소유주가 직접 판매광고 등록한 차량</li>\\n\\t\\t\\t\\t\\t\\t\\n\\t\\t\\t\\t\\t\\t<li><span class=\"title\">ⓘ 할인특가</span>써프라이즈 가격할인 차량</li>\\n\\t\\t\\t\\t\\t\\t\\n\\t\\t\\t\\t\\t\\t<li><span class=\"title\">ⓘ 무사고차량</span>보험사고이력이 없는 차량</li>\\n\\t\\t\\t\\t\\t\\t\\n\\t\\t\\t\\t\\t\\t\\n\\t\\t\\t\\t\\t\\t\\n\\t\\t\\t\\t\\t</ul>\\n\\t\\t\\t\\t</div>\\n\\t\\t\\t</div>\\n\\t\\t\\t<div class=\"pop-btn\">\\n\\t\\t\\t\\t<!-- 기본은 1개 100%, leg02 2개 50%/50% -->\\n\\t\\t\\t\\t<button type=\"button\" class=\"pBtn pb-blue\" onclick=\"common.popSh(\\'popup0102\\')\">\\n\\t\\t\\t\\t\\t<span>닫기</span>\\n\\t\\t\\t\\t</button>\\n\\t\\t\\t</div>\\n\\t\\t\\t<button type=\"button\" class=\"pop-close\" onclick=\"common.popSh(\\'popup0102\\')\">\\n\\t\\t\\t\\t<span>팝업 닫기</span>\\n\\t\\t\\t</button>\\n\\t\\t</div>\\n\\t</div>\\n</div>\\n<!-- //판매구분이란? -->\\n\\n\\n<!-- 금융상품이란? -->\\n<div class=\"popup-wrap\" id=\"popup0103\">\\n\\t<div class=\"pop-whBox\">\\n\\t\\t<div class=\"pop-area\">\\n\\t\\t\\t<div class=\"pop-con\">\\n\\t\\t\\t\\t<div class=\"pop-tit\">\\n\\t\\t\\t\\t\\t<h2>금융상품이란?</h2>\\n\\t\\t\\t\\t</div>\\n\\t\\t\\t\\t<div class=\"con-txt\">\\n\\t\\t\\t\\t\\t<ul class=\"saleClass\">\\n\\t\\t\\t\\t\\t\\t<li><span class=\"title\">ⓘ 무이자 상품</span>최대 12개월 무이자 상품 이용 가능</li>\\n\\t\\t\\t\\t\\t\\t<li><span class=\"title\">ⓘ 거치 상품</span>최대 12개월 원금상환없이 이자만 납부 가능</li>\\n\\t\\t\\t\\t\\t\\t<li><span class=\"title\">ⓘ KB안심중고리스</span>리스전문가를 통한 맞춤리스 상담서비스</li>\\n\\t\\t\\t\\t\\t</ul>\\n\\t\\t\\t\\t</div>\\n\\t\\t\\t</div>\\n\\t\\t\\t<div class=\"pop-btn\">\\n\\t\\t\\t\\t<!-- 기본은 1개 100%, leg02 2개 50%/50% -->\\n\\t\\t\\t\\t<button type=\"button\" class=\"pBtn pb-blue\" onclick=\"common.popSh(\\'popup0103\\')\">\\n\\t\\t\\t\\t\\t<span>닫기</span>\\n\\t\\t\\t\\t</button>\\n\\t\\t\\t</div>\\n\\t\\t\\t<button type=\"button\" class=\"pop-close\" onclick=\"common.popSh(\\'popup0103\\')\">\\n\\t\\t\\t\\t<span>팝업 닫기</span>\\n\\t\\t\\t</button>\\n\\t\\t</div>\\n\\t</div>\\n</div>\\n<!-- //금융상품이란? -->\\n\\n\\n\\n<!-- 비교하기 -->\\n<div class=\"popup-wrap04\" id=\"popup0401\">\\n    <div class=\"pop-whBox\">\\n        <div class=\"pop-area\">\\n            <div class=\"pop-con\"></div>\\n            <button type=\"button\" class=\"pop-close\" onclick=\"app.displayCompareLayerBtn(true); common.popSh04(\\'popup0401\\');\"><span>비교하기 최소화</span></button>\\n        </div>\\n    </div>\\n</div>\\n\\n<div class=\"popup-wrap04\" id=\"popup0402\">\\n    <div class=\"pop-whBox\">\\n        <div class=\"pop-area02\">\\n            <a href=\"javascript:;\" class=\"pop-txt\"><!-- 차량비교 4대 --></a>\\n        </div>\\n    </div>\\n</div>\\n<!-- //비교하기 -->\\n\\n\\n\\n<!-- 현재 검색조건 나열 템플릿 -->\\n<script type=\"text/doT\" id=\"bread-crumb-tmpl\">\\n{{~ it : bc : index }}\\n\\t<span>{{=bc.text}} <button type=\"button\" class=\"btnDel\" data-name=\"{{=bc.name}}\" data-value=\"{{=bc.value}}\"><span>삭제</span></button></span>\\n{{~}}\\n</script>\\n<!-- //현재 검색조건 나열 템플릿 -->\\n\\n\\n\\n<!-- 제조사/모델 패싯 :: 제조사 -->\\n<script type=\"text/doT\" id=\"maker-tmpl\">\\n{{? (it.countryOrder||\\'1\\') == \\'1\\' && (it.result[\\'국산\\'] || []).length > 0 }}\\n{{? (it.countryOrder == \\'\\')}}<div class=\"smallTitle\">국산차</div>{{?}}\\n<div class=\"scrollHeight\">\\n\\t{{~ it.result[\\'국산\\'].sort(function(a, b) { return a.count > b.count ? -1 : 1; }) : maker }}\\n\\t\\t{{? maker.count > 0 }}\\n\\t\\t<div class=\"checkList__manufacturer\">\\n\\t\\t\\t<div class=\"checkList__manufacturer__title\">\\n\\t\\t\\t\\t<a href=\"javascript:app.setMakerCode(\\'{{=maker.makerCode}}\\');\" class=\"checkListLink\"><span>{{=maker.makerName }}</span></a>\\n\\t\\t\\t\\t<span class=\"number\">{{=kbcSearchUtil.numberFormat(maker.count) }}</span>\\n\\t\\t\\t</div>\\n\\t\\t</div>\\n\\t\\t{{?}}\\n\\t{{~}}\\n</div>\\n{{?}}\\n{{? (it.countryOrder||\\'2\\') == \\'2\\' && (it.result[\\'수입\\'] || []).length > 0 }}\\n{{? (it.countryOrder == \\'\\')}}<div class=\"smallTitle {{?(it.countryOrder||\\'1\\') != \\'2\\'}}mg-t20{{?}}\">수입차</div>{{?}}\\n<div class=\"scrollHeight\">\\n\\t{{~ it.result[\\'수입\\'].sort(function(a, b) { return a.count > b.count ? -1 : 1; }) : maker }}\\n\\t\\t{{? maker.count > 0 }}\\n\\t\\t<div class=\"checkList__manufacturer\">\\n\\t\\t\\t<div class=\"checkList__manufacturer__title\">\\n\\t\\t\\t\\t<a href=\"javascript:app.setMakerCode(\\'{{=maker.makerCode}}\\');\" class=\"checkListLink\"><span>{{=maker.makerName }}</span></a>\\n\\t\\t\\t\\t<span class=\"number\">{{=kbcSearchUtil.numberFormat(maker.count) }}</span>\\n\\t\\t\\t</div>\\n\\t\\t</div>\\n\\t\\t{{?}}\\n\\t{{~}}\\n</div>\\n{{?}}\\n</script>\\n\\n\\n\\n<!-- 제조사/모델 패싯 :: 대표모델(2) -->\\n<script type=\"text/doT\" id=\"class-tmpl\">\\n{{? (it.countryOrder == \\'\\')}}<div class=\"smallTitle\">{{=app.domesticMakerCode.indexOf(it.list[0].makerCode) != -1 ? \\'국산차\\' : \\'수입차\\' }}</div>{{?}}\\n<div class=\"scrollHeight\">\\n\\t<div class=\"popularNameModel\">\\n\\t\\t<div class=\"checkList__manufacturer on\">\\n\\t\\t\\t<div class=\"checkList__manufacturer__title active\">\\n\\t\\t\\t    <a href=\"javascript:app.setMakerCode(null);\" class=\"checkListLink\"><span>{{=it.list[0].makerName }}</span> </a>\\n\\t\\t\\t    <button type=\"button\" class=\"btnDel\" onclick=\"app.setMakerCode(null);\"><span>삭제</span></button>\\n\\t\\t\\t</div>\\n\\t\\t\\t{{? (it.popularList||[]).length > 0 }}\\n\\t\\t\\t\\t<div class=\"checkList__model\">\\n\\t\\t\\t\\t\\t<strong>인기순</strong>\\n\\t\\t\\t\\t\\t{{~ it.popularList : item }}\\n\\t\\t\\t    \\t<div class=\"checkList__model__title\">\\n\\t\\t\\t\\t        <a href=\"javascript:app.setClassCode(\\'{{=item.classCode}}\\');\" class=\"checkListLink\"><span>{{=item.className}}</span></a>\\n\\t\\t\\t        \\t<span class=\"number\">{{=kbcSearchUtil.numberFormat(item.count) }}</span>\\n\\t\\t\\t    \\t</div>\\n\\t\\t\\t\\t\\t{{~}}\\n\\t\\t\\t\\t</div>\\n\\t\\t\\t{{?}}\\n\\t\\t\\t<div class=\"checkList__model\">\\n\\t\\t\\t\\t<strong>이름순</strong>\\n\\t\\t\\t\\t{{~ it.list : item }}\\n\\t\\t\\t    <div class=\"checkList__model__title\">\\n\\t\\t\\t        <a href=\"javascript:app.setClassCode(\\'{{=item.classCode}}\\');\" class=\"checkListLink\"><span>{{=item.className}}</span></a>\\n\\t\\t\\t        <span class=\"number\">{{=kbcSearchUtil.numberFormat(item.count) }}</span>\\n\\t\\t\\t    </div>\\n\\t\\t\\t\\t{{~}}\\n\\t\\t\\t</div>\\n\\t\\t</div>\\n\\t</div>\\n</div>\\n</script>\\n\\n\\n\\n<!-- 제조사/모델 패싯 :: 모델(3) -->\\n<script type=\"text/doT\" id=\"car-tmpl\">\\n{{? (it.countryOrder == \\'\\')}}<div class=\"smallTitle\">{{=app.domesticMakerCode.indexOf(it.result.codeKey.makerCode) != -1 ? \\'국산차\\' : \\'수입차\\' }}</div>{{?}}\\n<div class=\"scrollHeight\">\\n\\t<div class=\"checkList__manufacturer on\">\\n\\t\\t<div class=\"checkList__manufacturer__title active\">\\n\\t\\t\\t<a href=\"javascript:app.setMakerCode(null);\" class=\"checkListLink\"><span>{{=it.result.codeKey.makerName }}</span> </a>\\n\\t\\t    <button type=\"button\" class=\"btnDel\" onclick=\"app.setMakerCode(null);\"><span>삭제</span></button>\\n\\t\\t</div>\\n\\t\\t<div class=\"checkList__model on\">\\n\\t\\t    <div class=\"checkList__model__title active\">\\n\\t\\t        <a href=\"javascript:app.setClassCode(null);\" class=\"checkListLink\"><span>{{=it.result.codeKey.className}}</span> </a>\\n\\t\\t        <button type=\"button\" class=\"btnDel\" onclick=\"app.setClassCode(null);\"><span>삭제</span></button>\\n\\t\\t    </div>\\n\\t\\t    <div class=\"checkList__year\">\\n\\t\\t\\t\\t{{~ it.result.code.sort(function(a,b) { return a.carOrder > b.carOrder ? 1 : -1; }) : item : index }}\\n\\t\\t\\t\\t\\t{{ var checked = it.queryCarCode.indexOf(item.carCode) != -1; }}\\n\\t\\t\\t\\t\\t{{ var count = it.result.sale[item.carCode]||0; }}\\n\\t\\t\\t\\t\\t{{ var disabled = !checked && count == 0; }}\\n\\t\\t        \\t<div class=\"listItem\">\\n\\t\\t\\t            <span class=\"inp-ch checkButton {{?checked}}checked{{?}} {{?disabled}}disabled{{?}}\">\\n\\t\\t            \\t\\t<input type=\"checkbox\" id=\"carCode-{{=item.carCode}}\" name=\"carCode\" value=\"{{=item.carCode}}\" data-count=\"{{=count}}\" {{?checked}}checked=\"checked\"{{?}} {{?disabled}}disabled=\"disabled\"{{?}}>\\n\\t\\t\\t\\t\\t\\t\\t<label for=\"carCode-{{=item.carCode}}\">\\n\\t\\t\\t\\t\\t\\t\\t\\t<span>{{=item.carName}} ({{=item.fromYear == \\'현재\\' ? item.fromYear : (item.fromYear||\\'\\').substring(2) + \\'년\\'}}~{{=item.toYear == \\'현재\\' ? item.toYear : (item.toYear||\\'\\').substring(2) + \\'년\\'}})</span>\\n\\t\\t\\t\\t\\t\\t\\t</label>\\n\\t\\t            \\t</span>\\n\\t\\t            \\t<span class=\"number\">{{=kbcSearchUtil.numberFormat(count) }}</span>\\n\\t\\t            \\t\\n\\t\\t        \\t</div>\\n\\t\\t\\t\\t{{~}}\\n\\t\\t    </div>\\n\\t\\t</div>\\n\\t</div>\\n</div>\\n</script>\\n\\n\\n\\n<!-- 제조사/모델 패싯 :: 세부모델(4-5) -->\\n<script type=\"text/doT\" id=\"model-tmpl\">\\n{{~ it.result.codeModel : model }}\\n\\t{{ var checked = it.queryModelCode.indexOf(model.modelCode) != -1; }}\\n\\t{{ var count = (it.result.sale[model.modelCode]||{}).modelCount||0; }}\\n\\t{{ var disabled = !checked && count == 0; }}\\n\\t<div class=\"listItem\" data-car-code=\"{{=model.carCode}}\" data-model-code=\"{{=model.modelCode}}\">\\n\\t\\t<span class=\"inp-ch checkButton {{?checked}}checked{{?}} {{?disabled}}disabled{{?}}\">\\n\\t\\t\\t<input type=\"checkbox\" id=\"modelCode-{{=model.modelCode}}\" name=\"modelCode\" value=\"{{=model.modelCode}}\" data-count=\"{{=count}}\" {{?checked}}checked=\"checked\"{{?}} {{?disabled}}disabled=\"disabled\"{{?}}>\\n\\t\\t\\t<label for=\"modelCode-{{=model.modelCode}}\"><span>{{=model.modelName}}</span></label>\\n\\t\\t</span>\\n\\t\\t<span class=\"number\">{{=kbcSearchUtil.numberFormat(count) }}</span>\\n\\n\\t\\t{{~ it.result.modelGradeGroup[model.modelCode]||[] : grade }}\\n\\t\\t\\t{{ var checked2 = it.queryModelGradeCode.indexOf(grade.modelGradeCode) != -1; }}\\n\\t\\t\\t{{ var count2 = (it.result.sale[model.modelCode]||{})[grade.gradeCode]||0; }}\\n\\t\\t\\t{{ var disabled2 = !checked2 && count2 == 0; }}\\n\\t\\t\\t<div class=\"listItem\" {{?checked==false}}style=\"display: none;\"{{?}}>\\n\\t\\t\\t    <span class=\"inp-ch checkButton {{?checked2}}checked{{?}} {{?disabled2}}disabled{{?}}\">\\n\\t\\t\\t\\t\\t<input type=\"checkbox\" id=\"modelGradeCode-{{=grade.modelCode}}-{{=grade.gradeCode}}\" name=\"modelGradeCode\" value=\"{{=grade.modelGradeCode}}\" data-count=\"{{=count2}}\" {{?checked2}}checked=\"checked\"{{?}} {{?disabled2}}disabled=\"disabled\"{{?}}>\\n\\t\\t\\t\\t\\t<label for=\"modelGradeCode-{{=grade.modelCode}}-{{=grade.gradeCode}}\"><span>{{=grade.gradeName}}</span></label>\\n\\t\\t\\t\\t</span>\\n\\t\\t\\t    <span class=\"number\">{{=kbcSearchUtil.numberFormat(count2) }}</span>\\n\\t\\t\\t</div>\\n\\t\\t{{~}}\\n\\t</div>\\n{{~}}\\n</script>\\n\\n\\n\\n\\n<!-- 지역 더보기 레이어 -->\\n<script type=\"text/doT\" id=\"cityCode-more-tmpl\">\\n<div class=\"areaWrap__list\">\\n\\t{{~ it.cityCodeMeta : cdmeta }}\\n\\t\\t<strong class=\"areaWrap__list-head\">{{=cdmeta.text }}</strong>\\n\\t\\t<ul class=\"cmm-brand-list\">\\n\\t\\t\\t{{~ cdmeta.item : meta }}\\n\\t\\t\\t\\t{{ var checked = it.queryCityCode.indexOf(meta.id) != -1; }}\\n\\t\\t\\t\\t{{ var count = (it.facets.cityCode[meta.id]||{}).count || 0; }}\\n\\t\\t\\t\\t{{ var disabled = !checked && count == 0; }}\\n\\t\\t\\t\\t<li>\\n\\t\\t\\t\\t\\t<input type=\"checkbox\" id=\"cmm-area-{{=meta.id}}\" data-name=\"cityCode\" data-value=\"{{=meta.id}}\" data-count=\"{{=count}}\" onclick=\"return false;\" {{?checked}}checked=\"checked\"{{?}} {{?disabled}}disabled=\"disabled\"{{?}}>\\n\\t\\t\\t\\t\\t<label for=\"cmm-area-{{=meta.id}}\">\\n\\t\\t\\t\\t\\t\\t<span>{{=meta.text}} <span class=\"number\">{{=kbcSearchUtil.numberFormat(count) }}</span></span>\\n\\t\\t\\t\\t\\t</label>\\n\\t\\t\\t\\t</li>\\n\\t\\t\\t{{~}}\\n\\t\\t</ul>\\n\\t{{~}}\\n</div>\\n\\n<div class=\"cmm-details select-scroll\">\\n\\t<div class=\"no-select\">세부지역을 선택해 주세요.</div>\\n</div>\\n</script>\\n\\n\\n\\n<!-- 지역 더보기 레이어 :: 단지 영역 -->\\n<script type=\"text/doT\" id=\"cityCode-more-danji-tmpl\">\\n{{?(it.facets.cityCode[it.cityCode]||{}).count > 0}}\\n\\t<ul data-city-code=\"{{=it.cityCode}}\">\\n\\t\\t{{~ it.danjiMap[it.cityCode] : danji }}\\n\\t\\t\\t{{ var cityCodeDanjiNo = [it.cityCode, danji.danjiNo].join(\\'__\\'); }}\\n\\t\\t\\t{{ var checked = it.queryCityCodeDanjiNo.indexOf(cityCodeDanjiNo) != -1; }}\\n\\t\\t\\t{{ var count = (it.facets.cityCode[it.cityCode]||{})[danji.danjiNo] || 0; }}\\n\\t\\t\\t{{ var disabled = !checked && count == 0; }}\\n\\t\\n\\t\\t\\t{{? count > 0 }}\\n\\t\\t\\t<li>\\n\\t\\t\\t\\t<span class=\"inp-ch {{?checked}}checked{{?}} {{?disabled}}disabled{{?}}\">\\n\\t\\t\\t\\t\\t<input type=\"checkbox\" id=\"cmm-area-{{=it.cityCode}}-{{=danji.danjiNo}}\" data-name=\"cityCodeDanjiNo\" data-value=\"{{=cityCodeDanjiNo}}\" {{?checked}}checked=\"checked\"{{?}} {{?disabled}}disabled=\"disabled\"{{?}}>\\n\\t\\t\\t\\t\\t<label for=\"cmm-area-{{=it.cityCode}}-{{=danji.danjiNo}}\">\\n\\t\\t\\t\\t\\t\\t<span>{{=danji.danjiShortName }} <span class=\"number\">{{=kbcSearchUtil.numberFormat(count) }}</span></span>\\n\\t\\t\\t\\t\\t</label>\\n\\t\\t\\t\\t</span>\\n\\t\\t\\t</li>\\n\\t\\t\\t{{?}}\\n\\t\\t{{~}}\\n\\t</ul>\\n{{??}}\\n<div class=\"no-select\">해당 조건에 광고중인 단지가 없습니다.</div>\\n{{?}}\\n</script>\\n\\n\\n\\n<!-- 옵션 더보기 레이어 -->\\n<script type=\"text/doT\" id=\"option-more-tmpl\">\\n<li>\\n\\t<dl>\\n\\t\\t<dt>외장</dt>\\n\\t\\t<dd>\\n\\t\\t\\t{{ var checked = it.queryOptionCodeArray.indexOf(\\'100140\\') != -1; }}\\n\\t\\t\\t{{ var count = it.facets.optionCodeArray[\\'100140\\'] || 0; }}\\n\\t\\t\\t{{ var disabled = !checked && count == 0; }}\\n\\t\\t\\t<span class=\"inp-ch checkButton {{?checked}}checked{{?}} {{?disabled}}disabled{{?}}\"><input type=\"checkbox\" id=\"op1-6\" data-name=\"optionCodeArray\" data-value=\"100140\" {{?checked}}checked=\"checked\"{{?}} {{?disabled}}disabled=\"disabled\"{{?}}><label for=\"op1-6\"><span>제논라이트(HID)</span></label></span>\\n\\t\\t</dd>\\n\\t\\t<dd>\\n\\t\\t\\t{{ var checked = it.queryOptionCodeArray.indexOf(\\'200100\\') != -1; }}\\n\\t\\t\\t{{ var count = it.facets.optionCodeArray[\\'200100\\'] || 0; }}\\n\\t\\t\\t{{ var disabled = !checked && count == 0; }}\\n\\t\\t\\t<span class=\"inp-ch checkButton {{?checked}}checked{{?}} {{?disabled}}disabled{{?}}\"><input type=\"checkbox\" id=\"op1-1\" data-name=\"optionCodeArray\" data-value=\"200100\" {{?checked}}checked=\"checked\"{{?}} {{?disabled}}disabled=\"disabled\"{{?}}><label for=\"op1-1\"><span>알루미늄 휠</span></label></span>\\n\\t\\t</dd>\\n\\t\\t<dd>\\n\\t\\t\\t{{ var checked = it.queryOptionCodeArray.indexOf(\\'200110\\') != -1; }}\\n\\t\\t\\t{{ var count = it.facets.optionCodeArray[\\'200110\\'] || 0; }}\\n\\t\\t\\t{{ var disabled = !checked && count == 0; }}\\n\\t\\t\\t<span class=\"inp-ch checkButton {{?checked}}checked{{?}} {{?disabled}}disabled{{?}}\"><input type=\"checkbox\" id=\"op1-2\" data-name=\"optionCodeArray\" data-value=\"200110\" {{?checked}}checked=\"checked\"{{?}} {{?disabled}}disabled=\"disabled\"{{?}}><label for=\"op1-2\"><span>전동접이식미러</span></label></span>\\n\\t\\t</dd>\\n\\t\\t<dd>\\n\\t\\t\\t{{ var checked = it.queryOptionCodeArray.indexOf(\\'200120\\') != -1; }}\\n\\t\\t\\t{{ var count = it.facets.optionCodeArray[\\'200120\\'] || 0; }}\\n\\t\\t\\t{{ var disabled = !checked && count == 0; }}\\n\\t\\t\\t<span class=\"inp-ch checkButton {{?checked}}checked{{?}} {{?disabled}}disabled{{?}}\"><input type=\"checkbox\" id=\"op1-3\" data-name=\"optionCodeArray\" data-value=\"200120\" {{?checked}}checked=\"checked\"{{?}} {{?disabled}}disabled=\"disabled\"{{?}}><label for=\"op1-3\"><span>주간주행등(DRL)</span></label></span>\\n\\t\\t</dd>\\n\\t\\t<dd>\\n\\t\\t\\t{{ var checked1 = it.queryOptionCodeArray.indexOf(\\'100130\\') != -1; }}\\n\\t\\t\\t{{ var count1 = it.facets.optionCodeArray[\\'100130\\'] || 0; }}\\n\\t\\t\\t{{ var disabled1 = !checked1 && count1 == 0; }}\\n\\t\\t\\t{{ var checked2 = it.queryOptionCodeArray.indexOf(\\'200130\\') != -1; }}\\n\\t\\t\\t{{ var count2 = it.facets.optionCodeArray[\\'200130\\'] || 0; }}\\n\\t\\t\\t{{ var disabled2 = !checked2 && count2 == 0; }}\\n\\t\\t\\t<span class=\"inp-ch checkButton {{?checked1||checked2}}checked{{?}} {{?disabled1&&disabled2}}disabled{{?}}\"><input type=\"checkbox\" id=\"op1-4\" {{?checked1||checked2}}checked=\"checked\"{{?}} {{?disabled1&&disabled2}}disabled=\"disabled\"{{?}}><label for=\"op1-4-1\" onclick=\"$(this).parent().toggleClass(\\'checked\\');\"><span>썬루프</span></label></span>\\n\\t\\t\\t<div class=\"subAreaButton\">\\n\\t\\t\\t\\t<span class=\"inp-rd radioButton {{?checked1}}checked{{?}}\"><input type=\"radio\" id=\"op1-4-1\" name=\"op1-4\" data-name=\"optionCodeArray\" data-value=\"100130\" {{?checked1}}checked=\"checked\"{{?}}><label for=\"op1-4-1\"><span>일반</span></label></span>\\n\\t\\t\\t\\t<span class=\"inp-rd radioButton {{?checked2}}checked{{?}}\"><input type=\"radio\" id=\"op1-4-2\" name=\"op1-4\" data-name=\"optionCodeArray\" data-value=\"200130\" {{?checked2}}checked=\"checked\"{{?}}><label for=\"op1-4-2\"><span>파노라마</span></label></span>\\n\\t\\t\\t</div>\\n\\t\\t</dd>\\n\\t\\t<dd>\\n\\t\\t\\t{{ var checked = it.queryOptionCodeArray.indexOf(\\'200140\\') != -1; }}\\n\\t\\t\\t{{ var count = it.facets.optionCodeArray[\\'200140\\'] || 0; }}\\n\\t\\t\\t{{ var disabled = !checked && count == 0; }}\\n\\t\\t\\t<span class=\"inp-ch checkButton {{?checked}}checked{{?}} {{?disabled}}disabled{{?}}\"><input type=\"checkbox\" id=\"op1-5\" data-name=\"optionCodeArray\" data-value=\"200140\" {{?checked}}checked=\"checked\"{{?}} {{?disabled}}disabled=\"disabled\"{{?}}><label for=\"op1-5\"><span>루프렉</span></label></span>\\n\\t\\t</dd>\\n\\t\\t<dd>\\n\\t\\t\\t{{ var checked = it.queryOptionCodeArray.indexOf(\\'700100\\') != -1; }}\\n\\t\\t\\t{{ var count = it.facets.optionCodeArray[\\'700100\\'] || 0; }}\\n\\t\\t\\t{{ var disabled = !checked && count == 0; }}\\n\\t\\t\\t<span class=\"inp-ch checkButton {{?checked}}checked{{?}} {{?disabled}}disabled{{?}}\"><input type=\"checkbox\" id=\"op1-7\" data-name=\"optionCodeArray\" data-value=\"700100\" {{?checked}}checked=\"checked\"{{?}} {{?disabled}}disabled=\"disabled\"{{?}}><label for=\"op1-7\"><span>LED리어램프</span></label></span>\\n\\t\\t</dd>\\n\\t\\t<dd>\\n\\t\\t\\t{{ var checked = it.queryOptionCodeArray.indexOf(\\'700110\\') != -1; }}\\n\\t\\t\\t{{ var count = it.facets.optionCodeArray[\\'700110\\'] || 0; }}\\n\\t\\t\\t{{ var disabled = !checked && count == 0; }}\\n\\t\\t\\t<span class=\"inp-ch checkButton {{?checked}}checked{{?}} {{?disabled}}disabled{{?}}\"><input type=\"checkbox\" id=\"op1-8\" data-name=\"optionCodeArray\" data-value=\"700110\" {{?checked}}checked=\"checked\"{{?}} {{?disabled}}disabled=\"disabled\"{{?}}><label for=\"op1-8\"><span>하이빔 어시스트</span></label></span>\\n\\t\\t</dd>\\n\\t\\t<dd>\\n\\t\\t\\t{{ var checked = it.queryOptionCodeArray.indexOf(\\'700260\\') != -1; }}\\n\\t\\t\\t{{ var count = it.facets.optionCodeArray[\\'700260\\'] || 0; }}\\n\\t\\t\\t{{ var disabled = !checked && count == 0; }}\\n\\t\\t\\t<span class=\"inp-ch checkButton {{?checked}}checked{{?}} {{?disabled}}disabled{{?}}\"><input type=\"checkbox\" id=\"op1-9\" data-name=\"optionCodeArray\" data-value=\"700260\" {{?checked}}checked=\"checked\"{{?}} {{?disabled}}disabled=\"disabled\"{{?}}><label for=\"op1-9\"><span>고스트 도어 클로징</span></label></span>\\n\\t\\t</dd>\\n\\t\\t<dd>\\n\\t\\t\\t{{ var checked = it.queryOptionCodeArray.indexOf(\\'700120\\') != -1; }}\\n\\t\\t\\t{{ var count = it.facets.optionCodeArray[\\'700120\\'] || 0; }}\\n\\t\\t\\t{{ var disabled = !checked && count == 0; }}\\n\\t\\t\\t<span class=\"inp-ch checkButton {{?checked}}checked{{?}} {{?disabled}}disabled{{?}}\"><input type=\"checkbox\" id=\"op1-10\" data-name=\"optionCodeArray\" data-value=\"700120\" {{?checked}}checked=\"checked\"{{?}} {{?disabled}}disabled=\"disabled\"{{?}}><label for=\"op1-10\"><span>자동슬라이딩도어</span></label></span>\\n\\t\\t</dd>\\n\\t\\t<dd>\\n\\t\\t\\t{{ var checked = it.queryOptionCodeArray.indexOf(\\'700130\\') != -1; }}\\n\\t\\t\\t{{ var count = it.facets.optionCodeArray[\\'700130\\'] || 0; }}\\n\\t\\t\\t{{ var disabled = !checked && count == 0; }}\\n\\t\\t\\t<span class=\"inp-ch checkButton {{?checked}}checked{{?}} {{?disabled}}disabled{{?}}\"><input type=\"checkbox\" id=\"op1-11\" data-name=\"optionCodeArray\" data-value=\"700130\" {{?checked}}checked=\"checked\"{{?}} {{?disabled}}disabled=\"disabled\"{{?}}><label for=\"op1-11\"><span>전동사이드스탭</span></label></span>\\n\\t\\t</dd>\\n\\t\\t<dd>\\n\\t\\t\\t{{ var checked = it.queryOptionCodeArray.indexOf(\\'700140\\') != -1; }}\\n\\t\\t\\t{{ var count = it.facets.optionCodeArray[\\'700140\\'] || 0; }}\\n\\t\\t\\t{{ var disabled = !checked && count == 0; }}\\n\\t\\t\\t<span class=\"inp-ch checkButton {{?checked}}checked{{?}} {{?disabled}}disabled{{?}}\"><input type=\"checkbox\" id=\"op1-12\" data-name=\"optionCodeArray\" data-value=\"700140\" {{?checked}}checked=\"checked\"{{?}} {{?disabled}}disabled=\"disabled\"{{?}}><label for=\"op1-12\"><span>어댑티드헤드램프</span></label></span>\\n\\t\\t</dd>\\n\\t</dl>\\n</li>\\n<li>\\n\\t<dl>\\n\\t\\t<dt>내장</dt>\\n\\t\\t<dd>\\n\\t\\t\\t{{ var checked1 = it.queryOptionCodeArray.indexOf(\\'100100\\') != -1; }}\\n\\t\\t\\t{{ var count1 = it.facets.optionCodeArray[\\'100100\\'] || 0; }}\\n\\t\\t\\t{{ var disabled1 = !checked1 && count1 == 0; }}\\n\\t\\t\\t{{ var checked2 = it.queryOptionCodeArray.indexOf(\\'700160\\') != -1; }}\\n\\t\\t\\t{{ var count2 = it.facets.optionCodeArray[\\'700160\\'] || 0; }}\\n\\t\\t\\t{{ var disabled2 = !checked2 && count2 == 0; }}\\n\\t\\t\\t<span class=\"inp-ch checkButton {{?checked1&&checked2}}checked{{?}} {{?disabled1&&disabled2}}disabled{{?}}\"><input type=\"checkbox\" id=\"op2-7\" {{?checked1&&checked2}}checked=\"checked\"{{?}} {{?disabled1&&disabled2}}disabled=\"disabled\"{{?}}><label for=\"op2-7\"><span>열선시트</span></label></span>\\n\\t\\t\\t<div class=\"subAreaButton\">\\n\\t\\t\\t\\t<span class=\"inp-ch checkButton {{?checked1}}checked{{?}} {{?disabled1}}disabled{{?}}\"><input type=\"checkbox\" id=\"op2-7-1\" data-name=\"optionCodeArray\" data-value=\"100100\" {{?checked1}}checked=\"checked\"{{?}} {{?disabled1}}disabled=\"disabled\"{{?}}><label for=\"op2-7-1\"><span>앞좌석</span></label></span>\\n\\t\\t\\t\\t<span class=\"inp-ch checkButton {{?checked2}}checked{{?}} {{?disabled2}}disabled{{?}}\"><input type=\"checkbox\" id=\"op2-7-2\" data-name=\"optionCodeArray\" data-value=\"700160\" {{?checked2}}checked=\"checked\"{{?}} {{?disabled2}}disabled=\"disabled\"{{?}}><label for=\"op2-7-2\"><span>뒷좌석</span></label></span>\\n\\t\\t\\t</div>\\n\\t\\t</dd>\\n\\t\\t<dd>\\n\\t\\t\\t{{ var checked1 = it.queryOptionCodeArray.indexOf(\\'100110\\') != -1; }}\\n\\t\\t\\t{{ var count1 = it.facets.optionCodeArray[\\'100110\\'] || 0; }}\\n\\t\\t\\t{{ var disabled1 = !checked1 && count1 == 0; }}\\n\\t\\t\\t{{ var checked2 = it.queryOptionCodeArray.indexOf(\\'700200\\') != -1; }}\\n\\t\\t\\t{{ var count2 = it.facets.optionCodeArray[\\'700200\\'] || 0; }}\\n\\t\\t\\t{{ var disabled2 = !checked2 && count2 == 0; }}\\n\\t\\t\\t<span class=\"inp-ch checkButton {{?checked1&&checked2}}checked{{?}} {{?disabled1&&disabled2}}disabled{{?}}\"><input type=\"checkbox\" id=\"op2-15\" {{?checked1&&checked2}}checked=\"checked\"{{?}} {{?disabled1&&disabled2}}disabled=\"disabled\"{{?}}><label for=\"op2-15\"><span>통풍시트</span></label></span>\\n\\t\\t\\t<div class=\"subAreaButton\">\\n\\t\\t\\t\\t<span class=\"inp-ch checkButton {{?checked1}}checked{{?}} {{?disabled1}}disabled{{?}}\"><input type=\"checkbox\" id=\"op2-15-1\" data-name=\"optionCodeArray\" data-value=\"100110\" {{?checked1}}checked=\"checked\"{{?}} {{?disabled1}}disabled=\"disabled\"{{?}}><label for=\"op2-15-1\"><span>운전석</span></label></span>\\n\\t\\t\\t\\t<span class=\"inp-ch checkButton {{?checked2}}checked{{?}} {{?disabled2}}disabled{{?}}\"><input type=\"checkbox\" id=\"op2-15-2\" data-name=\"optionCodeArray\" data-value=\"700200\" {{?checked2}}checked=\"checked\"{{?}} {{?disabled2}}disabled=\"disabled\"{{?}}><label for=\"op2-15-2\"><span>동승석</span></label></span>\\n\\t\\t\\t</div>\\n\\t\\t</dd>\\n\\t\\t<dd>\\n\\t\\t\\t{{ var checked = it.queryOptionCodeArray.indexOf(\\'300100\\') != -1; }}\\n\\t\\t\\t{{ var count = it.facets.optionCodeArray[\\'300100\\'] || 0; }}\\n\\t\\t\\t{{ var disabled = !checked && count == 0; }}\\n\\t\\t\\t<span class=\"inp-ch checkButton {{?checked}}checked{{?}} {{?disabled}}disabled{{?}}\"><input type=\"checkbox\" id=\"op2-1\" data-name=\"optionCodeArray\" data-value=\"300100\" {{?checked}}checked=\"checked\"{{?}} {{?disabled}}disabled=\"disabled\"{{?}}><label for=\"op2-1\"><span>파워핸들</span></label></span>\\n\\t\\t</dd>\\n\\t\\t<dd>\\n\\t\\t\\t{{ var checked = it.queryOptionCodeArray.indexOf(\\'300110\\') != -1; }}\\n\\t\\t\\t{{ var count = it.facets.optionCodeArray[\\'300110\\'] || 0; }}\\n\\t\\t\\t{{ var disabled = !checked && count == 0; }}\\n\\t\\t\\t<span class=\"inp-ch checkButton {{?checked}}checked{{?}} {{?disabled}}disabled{{?}}\"><input type=\"checkbox\" id=\"op2-2\" data-name=\"optionCodeArray\" data-value=\"300110\" {{?checked}}checked=\"checked\"{{?}} {{?disabled}}disabled=\"disabled\"{{?}}><label for=\"op2-2\"><span>핸들 리모컨</span></label></span>\\n\\t\\t</dd>\\n\\t\\t<dd>\\n\\t\\t\\t{{ var checked = it.queryOptionCodeArray.indexOf(\\'300120\\') != -1; }}\\n\\t\\t\\t{{ var count = it.facets.optionCodeArray[\\'300120\\'] || 0; }}\\n\\t\\t\\t{{ var disabled = !checked && count == 0; }}\\n\\t\\t\\t<span class=\"inp-ch checkButton {{?checked}}checked{{?}} {{?disabled}}disabled{{?}}\"><input type=\"checkbox\" id=\"op2-3\" data-name=\"optionCodeArray\" data-value=\"300120\" {{?checked}}checked=\"checked\"{{?}} {{?disabled}}disabled=\"disabled\"{{?}}><label for=\"op2-3\"><span>가죽시트</span></label></span>\\n\\t\\t</dd>\\n\\t\\t<dd>\\n\\t\\t\\t{{ var checked1 = it.queryOptionCodeArray.indexOf(\\'300130\\') != -1; }}\\n\\t\\t\\t{{ var count1 = it.facets.optionCodeArray[\\'300130\\'] || 0; }}\\n\\t\\t\\t{{ var disabled1 = !checked1 && count1 == 0; }}\\n\\t\\t\\t{{ var checked2 = it.queryOptionCodeArray.indexOf(\\'300140\\') != -1; }}\\n\\t\\t\\t{{ var count2 = it.facets.optionCodeArray[\\'300140\\'] || 0; }}\\n\\t\\t\\t{{ var disabled2 = !checked2 && count2 == 0; }}\\n\\t\\t\\t<span class=\"inp-ch checkButton {{?checked1&&checked2}}checked{{?}} {{?disabled1&&disabled2}}disabled{{?}}\"><input type=\"checkbox\" id=\"op2-4\" {{?checked1&&checked2}}checked=\"checked\"{{?}} {{?disabled1&&disabled2}}disabled=\"disabled\"{{?}}><label for=\"op2-4\"><span>전동시트</span></label></span>\\n\\t\\t\\t<div class=\"subAreaButton\">\\n\\t\\t\\t\\t<span class=\"inp-ch checkButton {{?checked1}}checked{{?}} {{?disabled1}}disabled{{?}}\"><input type=\"checkbox\" id=\"op2-4-1\" data-name=\"optionCodeArray\" data-value=\"300130\" {{?checked1}}checked=\"checked\"{{?}} {{?disabled1}}disabled=\"disabled\"{{?}}><label for=\"op2-4-1\"><span>운전석</span></label></span>\\n\\t\\t\\t\\t<span class=\"inp-ch checkButton {{?checked2}}checked{{?}} {{?disabled2}}disabled{{?}}\"><input type=\"checkbox\" id=\"op2-4-2\" data-name=\"optionCodeArray\" data-value=\"300140\" {{?checked2}}checked=\"checked\"{{?}} {{?disabled2}}disabled=\"disabled\"{{?}}><label for=\"op2-4-2\"><span>동승석</span></label></span>\\n\\t\\t\\t</div>\\n\\t\\t</dd>\\n\\t\\t<dd>\\n\\t\\t\\t{{ var checked = it.queryOptionCodeArray.indexOf(\\'300150\\') != -1; }}\\n\\t\\t\\t{{ var count = it.facets.optionCodeArray[\\'300150\\'] || 0; }}\\n\\t\\t\\t{{ var disabled = !checked && count == 0; }}\\n\\t\\t\\t<span class=\"inp-ch checkButton {{?checked}}checked{{?}} {{?disabled}}disabled{{?}}\"><input type=\"checkbox\" id=\"op2-5\" data-name=\"optionCodeArray\" data-value=\"300150\" {{?checked}}checked=\"checked\"{{?}} {{?disabled}}disabled=\"disabled\"{{?}}><label for=\"op2-5\"><span>뒷좌석전동시트</span></label></span>\\n\\t\\t</dd>\\n\\t\\t<dd>\\n\\t\\t\\t{{ var checked1 = it.queryOptionCodeArray.indexOf(\\'300160\\') != -1; }}\\n\\t\\t\\t{{ var count1 = it.facets.optionCodeArray[\\'300160\\'] || 0; }}\\n\\t\\t\\t{{ var disabled1 = !checked1 && count1 == 0; }}\\n\\t\\t\\t{{ var checked2 = it.queryOptionCodeArray.indexOf(\\'700150\\') != -1; }}\\n\\t\\t\\t{{ var count2 = it.facets.optionCodeArray[\\'700150\\'] || 0; }}\\n\\t\\t\\t{{ var disabled2 = !checked2 && count2 == 0; }}\\n\\t\\t\\t<span class=\"inp-ch checkButton {{?checked1&&checked2}}checked{{?}} {{?disabled1&&disabled2}}disabled{{?}}\"><input type=\"checkbox\" id=\"op2-6\" {{?checked1&&checked2}}checked=\"checked\"{{?}} {{?disabled1&&disabled2}}disabled=\"disabled\"{{?}}><label for=\"op2-6\"><span>메모리시트</span></label></span>\\n\\t\\t\\t<div class=\"subAreaButton\">\\n\\t\\t\\t\\t<span class=\"inp-ch checkButton {{?checked1}}checked{{?}} {{?disabled1}}disabled{{?}}\"><input type=\"checkbox\" id=\"op2-6-1\" data-name=\"optionCodeArray\" data-value=\"300160\" {{?checked1}}checked=\"checked\"{{?}} {{?disabled1}}disabled=\"disabled\"{{?}}><label for=\"op2-6-1\"><span>운전석</span></label></span>\\n\\t\\t\\t\\t<span class=\"inp-ch checkButton {{?checked2}}checked{{?}} {{?disabled2}}disabled{{?}}\"><input type=\"checkbox\" id=\"op2-6-2\" data-name=\"optionCodeArray\" data-value=\"700150\" {{?checked2}}checked=\"checked\"{{?}} {{?disabled2}}disabled=\"disabled\"{{?}}><label for=\"op2-6-2\"><span>동승석</span></label></span>\\n\\t\\t\\t</div>\\n\\t\\t</dd>\\n\\t\\t<dd>\\n\\t\\t\\t{{ var checked = it.queryOptionCodeArray.indexOf(\\'300170\\') != -1; }}\\n\\t\\t\\t{{ var count = it.facets.optionCodeArray[\\'300170\\'] || 0; }}\\n\\t\\t\\t{{ var disabled = !checked && count == 0; }}\\n\\t\\t\\t<span class=\"inp-ch checkButton {{?checked}}checked{{?}} {{?disabled}}disabled{{?}}\"><input type=\"checkbox\" id=\"op2-8\" data-name=\"optionCodeArray\" data-value=\"300170\" {{?checked}}checked=\"checked\"{{?}} {{?disabled}}disabled=\"disabled\"{{?}}><label for=\"op2-8\"><span>안마시트</span></label></span>\\n\\t\\t</dd>\\n\\t\\t<dd>\\n\\t\\t\\t{{ var checked = it.queryOptionCodeArray.indexOf(\\'300180\\') != -1; }}\\n\\t\\t\\t{{ var count = it.facets.optionCodeArray[\\'300180\\'] || 0; }}\\n\\t\\t\\t{{ var disabled = !checked && count == 0; }}\\n\\t\\t\\t<span class=\"inp-ch checkButton {{?checked}}checked{{?}} {{?disabled}}disabled{{?}}\"><input type=\"checkbox\" id=\"op2-9\" data-name=\"optionCodeArray\" data-value=\"300180\" {{?checked}}checked=\"checked\"{{?}} {{?disabled}}disabled=\"disabled\"{{?}}><label for=\"op2-9\"><span>슈퍼비전계기판</span></label></span>\\n\\t\\t</dd>\\n\\t\\t<dd>\\n\\t\\t\\t{{ var checked = it.queryOptionCodeArray.indexOf(\\'300190\\') != -1; }}\\n\\t\\t\\t{{ var count = it.facets.optionCodeArray[\\'300190\\'] || 0; }}\\n\\t\\t\\t{{ var disabled = !checked && count == 0; }}\\n\\t\\t\\t<span class=\"inp-ch checkButton {{?checked}}checked{{?}} {{?disabled}}disabled{{?}}\"><input type=\"checkbox\" id=\"op2-14\" data-name=\"optionCodeArray\" data-value=\"300190\" {{?checked}}checked=\"checked\"{{?}} {{?disabled}}disabled=\"disabled\"{{?}}><label for=\"op2-14\"><span>패들시프트</span></label></span>\\n\\t\\t</dd>\\n\\t\\t<dd>\\n\\t\\t\\t{{ var checked = it.queryOptionCodeArray.indexOf(\\'500140\\') != -1; }}\\n\\t\\t\\t{{ var count = it.facets.optionCodeArray[\\'500140\\'] || 0; }}\\n\\t\\t\\t{{ var disabled = !checked && count == 0; }}\\n\\t\\t\\t<span class=\"inp-ch checkButton {{?checked}}checked{{?}} {{?disabled}}disabled{{?}}\"><input type=\"checkbox\" id=\"op2-12\" data-name=\"optionCodeArray\" data-value=\"500140\" {{?checked}}checked=\"checked\"{{?}} {{?disabled}}disabled=\"disabled\"{{?}}><label for=\"op2-12\"><span>하이패스</span></label></span>\\n\\t\\t</dd>\\n\\t\\t<dd>\\n\\t\\t\\t{{ var checked = it.queryOptionCodeArray.indexOf(\\'700170\\') != -1; }}\\n\\t\\t\\t{{ var count = it.facets.optionCodeArray[\\'700170\\'] || 0; }}\\n\\t\\t\\t{{ var disabled = !checked && count == 0; }}\\n\\t\\t\\t<span class=\"inp-ch checkButton {{?checked}}checked{{?}} {{?disabled}}disabled{{?}}\"><input type=\"checkbox\" id=\"op2-10\" data-name=\"optionCodeArray\" data-value=\"700170\" {{?checked}}checked=\"checked\"{{?}} {{?disabled}}disabled=\"disabled\"{{?}}><label for=\"op2-10\"><span>엠비언트라이트</span></label></span>\\n\\t\\t</dd>\\n\\t\\t<dd>\\n\\t\\t\\t{{ var checked = it.queryOptionCodeArray.indexOf(\\'700180\\') != -1; }}\\n\\t\\t\\t{{ var count = it.facets.optionCodeArray[\\'700180\\'] || 0; }}\\n\\t\\t\\t{{ var disabled = !checked && count == 0; }}\\n\\t\\t\\t<span class=\"inp-ch checkButton {{?checked}}checked{{?}} {{?disabled}}disabled{{?}}\"><input type=\"checkbox\" id=\"op2-11\" data-name=\"optionCodeArray\" data-value=\"700180\" {{?checked}}checked=\"checked\"{{?}} {{?disabled}}disabled=\"disabled\"{{?}}><label for=\"op2-11\"><span>워크인시트</span></label></span>\\n\\t\\t</dd>\\n\\t\\t<dd>\\n\\t\\t\\t{{ var checked = it.queryOptionCodeArray.indexOf(\\'700190\\') != -1; }}\\n\\t\\t\\t{{ var count = it.facets.optionCodeArray[\\'700190\\'] || 0; }}\\n\\t\\t\\t{{ var disabled = !checked && count == 0; }}\\n\\t\\t\\t<span class=\"inp-ch checkButton {{?checked}}checked{{?}} {{?disabled}}disabled{{?}}\"><input type=\"checkbox\" id=\"op2-13\" data-name=\"optionCodeArray\" data-value=\"700190\" {{?checked}}checked=\"checked\"{{?}} {{?disabled}}disabled=\"disabled\"{{?}}><label for=\"op2-13\"><span>전동햇빛가리개</span></label></span>\\n\\t\\t</dd>\\n\\t\\t<dd>\\n\\t\\t\\t{{ var checked = it.queryOptionCodeArray.indexOf(\\'700210\\') != -1; }}\\n\\t\\t\\t{{ var count = it.facets.optionCodeArray[\\'700210\\'] || 0; }}\\n\\t\\t\\t{{ var disabled = !checked && count == 0; }}\\n\\t\\t\\t<span class=\"inp-ch checkButton {{?checked}}checked{{?}} {{?disabled}}disabled{{?}}\"><input type=\"checkbox\" id=\"op2-16\" data-name=\"optionCodeArray\" data-value=\"700210\" {{?checked}}checked=\"checked\"{{?}} {{?disabled}}disabled=\"disabled\"{{?}}><label for=\"op2-16\"><span>통풍시트(뒷좌석)</span></label></span>\\n\\t\\t</dd>\\n\\t</dl>\\n</li>\\n<li>\\n\\t<dl>\\n\\t\\t<dt>안전</dt>\\n\\t\\t<dd>\\n\\t\\t\\t{{ var checked = it.queryOptionCodeArray.indexOf(\\'100170\\') != -1; }}\\n\\t\\t\\t{{ var count = it.facets.optionCodeArray[\\'100170\\'] || 0; }}\\n\\t\\t\\t{{ var disabled = !checked && count == 0; }}\\n\\t\\t\\t<span class=\"inp-ch checkButton {{?checked}}checked{{?}} {{?disabled}}disabled{{?}}\"><input type=\"checkbox\" id=\"op3-2\" data-name=\"optionCodeArray\" data-value=\"100170\" {{?checked}}checked=\"checked\"{{?}} {{?disabled}}disabled=\"disabled\"{{?}}><label for=\"op3-2\"><span>사이드&amp;커튼에어백</span></label></span>\\n\\t\\t</dd>\\n\\t\\t<dd>\\n\\t\\t\\t{{ var checked1 = it.queryOptionCodeArray.indexOf(\\'400100\\') != -1; }}\\n\\t\\t\\t{{ var count1 = it.facets.optionCodeArray[\\'400100\\'] || 0; }}\\n\\t\\t\\t{{ var disabled1 = !checked1 && count1 == 0; }}\\n\\t\\t\\t{{ var checked2 = it.queryOptionCodeArray.indexOf(\\'400110\\') != -1; }}\\n\\t\\t\\t{{ var count2 = it.facets.optionCodeArray[\\'400110\\'] || 0; }}\\n\\t\\t\\t{{ var disabled2 = !checked2 && count2 == 0; }}\\n\\t\\t\\t<span class=\"inp-ch checkButton {{?checked1&&checked2}}checked{{?}} {{?disabled1&&disabled2}}disabled{{?}}\"><input type=\"checkbox\" id=\"op3-1\" {{?checked1&&checked2}}checked=\"checked\"{{?}} {{?disabled1&&disabled2}}disabled=\"disabled\"{{?}}><label for=\"op3-1\"><span>에어백</span></label></span>\\n\\t\\t\\t<div class=\"subAreaButton\">\\n\\t\\t\\t\\t<span class=\"inp-ch checkButton {{?checked1}}checked{{?}} {{?disabled1}}disabled{{?}}\"><input type=\"checkbox\" id=\"op3-1-1\" data-name=\"optionCodeArray\" data-value=\"400100\" {{?checked1}}checked=\"checked\"{{?}} {{?disabled1}}disabled=\"disabled\"{{?}}><label for=\"op3-1-1\"><span>운전석</span></label></span>\\n\\t\\t\\t\\t<span class=\"inp-ch checkButton {{?checked2}}checked{{?}} {{?disabled2}}disabled{{?}}\"><input type=\"checkbox\" id=\"op3-1-2\" data-name=\"optionCodeArray\" data-value=\"400110\" {{?checked2}}checked=\"checked\"{{?}} {{?disabled2}}disabled=\"disabled\"{{?}}><label for=\"op3-1-2\"><span>동승석</span></label></span>\\n\\t\\t\\t</div>\\n\\t\\t</dd>\\n\\t\\t<dd>\\n\\t\\t\\t{{ var checked = it.queryOptionCodeArray.indexOf(\\'400120\\') != -1; }}\\n\\t\\t\\t{{ var count = it.facets.optionCodeArray[\\'400120\\'] || 0; }}\\n\\t\\t\\t{{ var disabled = !checked && count == 0; }}\\n\\t\\t\\t<span class=\"inp-ch checkButton {{?checked}}checked{{?}} {{?disabled}}disabled{{?}}\"><input type=\"checkbox\" id=\"op3-7\" data-name=\"optionCodeArray\" data-value=\"400120\" {{?checked}}checked=\"checked\"{{?}} {{?disabled}}disabled=\"disabled\"{{?}}><label for=\"op3-7\"><span>후방카메라</span></label></span>\\n\\t\\t</dd>\\n\\t\\t<dd>\\n\\t\\t\\t{{ var checked = it.queryOptionCodeArray.indexOf(\\'400130\\') != -1; }}\\n\\t\\t\\t{{ var count = it.facets.optionCodeArray[\\'400130\\'] || 0; }}\\n\\t\\t\\t{{ var disabled = !checked && count == 0; }}\\n\\t\\t\\t<span class=\"inp-ch checkButton {{?checked}}checked{{?}} {{?disabled}}disabled{{?}}\"><input type=\"checkbox\" id=\"op3-5\" data-name=\"optionCodeArray\" data-value=\"400130\" {{?checked}}checked=\"checked\"{{?}} {{?disabled}}disabled=\"disabled\"{{?}}><label for=\"op3-5\"><span>어라운드뷰</span></label></span>\\n\\t\\t</dd>\\n\\t\\t<dd>\\n\\t\\t\\t{{ var checked = it.queryOptionCodeArray.indexOf(\\'400140\\') != -1; }}\\n\\t\\t\\t{{ var count = it.facets.optionCodeArray[\\'400140\\'] || 0; }}\\n\\t\\t\\t{{ var disabled = !checked && count == 0; }}\\n\\t\\t\\t<span class=\"inp-ch checkButton {{?checked}}checked{{?}} {{?disabled}}disabled{{?}}\"><input type=\"checkbox\" id=\"op3-9\" data-name=\"optionCodeArray\" data-value=\"400140\" {{?checked}}checked=\"checked\"{{?}} {{?disabled}}disabled=\"disabled\"{{?}}><label for=\"op3-9\"><span>블랙박스</span></label></span>\\n\\t\\t</dd>\\n\\t\\t<dd>\\n\\t\\t\\t{{ var checked = it.queryOptionCodeArray.indexOf(\\'400150\\') != -1; }}\\n\\t\\t\\t{{ var count = it.facets.optionCodeArray[\\'400150\\'] || 0; }}\\n\\t\\t\\t{{ var disabled = !checked && count == 0; }}\\n\\t\\t\\t<span class=\"inp-ch checkButton {{?checked}}checked{{?}} {{?disabled}}disabled{{?}}\"><input type=\"checkbox\" id=\"op3-10\" data-name=\"optionCodeArray\" data-value=\"400150\" {{?checked}}checked=\"checked\"{{?}} {{?disabled}}disabled=\"disabled\"{{?}}><label for=\"op3-10\"><span>브레이크 잠김 방지(ABS)</span></label></span>\\n\\t\\t</dd>\\n\\t\\t<dd>\\n\\t\\t\\t{{ var checked = it.queryOptionCodeArray.indexOf(\\'400160\\') != -1; }}\\n\\t\\t\\t{{ var count = it.facets.optionCodeArray[\\'400160\\'] || 0; }}\\n\\t\\t\\t{{ var disabled = !checked && count == 0; }}\\n\\t\\t\\t<span class=\"inp-ch checkButton {{?checked}}checked{{?}} {{?disabled}}disabled{{?}}\"><input type=\"checkbox\" id=\"op3-11\" data-name=\"optionCodeArray\" data-value=\"400160\" {{?checked}}checked=\"checked\"{{?}} {{?disabled}}disabled=\"disabled\"{{?}}><label for=\"op3-11\"><span>전자제어서스펜션(ECS)</span></label></span>\\n\\t\\t</dd>\\n\\t\\t<dd>\\n\\t\\t\\t{{ var checked = it.queryOptionCodeArray.indexOf(\\'400170\\') != -1; }}\\n\\t\\t\\t{{ var count = it.facets.optionCodeArray[\\'400170\\'] || 0; }}\\n\\t\\t\\t{{ var disabled = !checked && count == 0; }}\\n\\t\\t\\t<span class=\"inp-ch checkButton {{?checked}}checked{{?}} {{?disabled}}disabled{{?}}\"><input type=\"checkbox\" id=\"op3-12\" data-name=\"optionCodeArray\" data-value=\"400170\" {{?checked}}checked=\"checked\"{{?}} {{?disabled}}disabled=\"disabled\"{{?}}><label for=\"op3-12\"><span>미끄럼방지(TCS)</span></label></span>\\n\\t\\t</dd>\\n\\t\\t<dd>\\n\\t\\t\\t{{ var checked = it.queryOptionCodeArray.indexOf(\\'400180\\') != -1; }}\\n\\t\\t\\t{{ var count = it.facets.optionCodeArray[\\'400180\\'] || 0; }}\\n\\t\\t\\t{{ var disabled = !checked && count == 0; }}\\n\\t\\t\\t<span class=\"inp-ch checkButton {{?checked}}checked{{?}} {{?disabled}}disabled{{?}}\"><input type=\"checkbox\" id=\"op3-13\" data-name=\"optionCodeArray\" data-value=\"400180\" {{?checked}}checked=\"checked\"{{?}} {{?disabled}}disabled=\"disabled\"{{?}}><label for=\"op3-13\"><span>차체자세제어장지(ESC)</span></label></span>\\n\\t\\t</dd>\\n\\t\\t<dd>\\n\\t\\t\\t{{ var checked = it.queryOptionCodeArray.indexOf(\\'400190\\') != -1; }}\\n\\t\\t\\t{{ var count = it.facets.optionCodeArray[\\'400190\\'] || 0; }}\\n\\t\\t\\t{{ var disabled = !checked && count == 0; }}\\n\\t\\t\\t<span class=\"inp-ch checkButton {{?checked}}checked{{?}} {{?disabled}}disabled{{?}}\"><input type=\"checkbox\" id=\"op3-14\" data-name=\"optionCodeArray\" data-value=\"400190\" {{?checked}}checked=\"checked\"{{?}} {{?disabled}}disabled=\"disabled\"{{?}}><label for=\"op3-14\"><span>차선이탈경보장치(LDWS)</span></label></span>\\n\\t\\t</dd>\\n\\t\\t<dd>\\n\\t\\t\\t{{ var checked = it.queryOptionCodeArray.indexOf(\\'400200\\') != -1; }}\\n\\t\\t\\t{{ var count = it.facets.optionCodeArray[\\'400200\\'] || 0; }}\\n\\t\\t\\t{{ var disabled = !checked && count == 0; }}\\n\\t\\t\\t<span class=\"inp-ch checkButton {{?checked}}checked{{?}} {{?disabled}}disabled{{?}}\"><input type=\"checkbox\" id=\"op3-15\" data-name=\"optionCodeArray\" data-value=\"400200\" {{?checked}}checked=\"checked\"{{?}} {{?disabled}}disabled=\"disabled\"{{?}}><label for=\"op3-15\"><span>도난경보기</span></label></span>\\n\\t\\t</dd>\\n\\t\\t<dd>\\n\\t\\t\\t{{ var checked = it.queryOptionCodeArray.indexOf(\\'400210\\') != -1; }}\\n\\t\\t\\t{{ var count = it.facets.optionCodeArray[\\'400210\\'] || 0; }}\\n\\t\\t\\t{{ var disabled = !checked && count == 0; }}\\n\\t\\t\\t<span class=\"inp-ch checkButton {{?checked}}checked{{?}} {{?disabled}}disabled{{?}}\"><input type=\"checkbox\" id=\"op3-16\" data-name=\"optionCodeArray\" data-value=\"400210\" {{?checked}}checked=\"checked\"{{?}} {{?disabled}}disabled=\"disabled\"{{?}}><label for=\"op3-16\"><span>타이어공기압감지(TPMS)</span></label></span>\\n\\t\\t</dd>\\n\\t\\t<dd>\\n\\t\\t\\t{{ var checked = it.queryOptionCodeArray.indexOf(\\'400220\\') != -1; }}\\n\\t\\t\\t{{ var count = it.facets.optionCodeArray[\\'400220\\'] || 0; }}\\n\\t\\t\\t{{ var disabled = !checked && count == 0; }}\\n\\t\\t\\t<span class=\"inp-ch checkButton {{?checked}}checked{{?}} {{?disabled}}disabled{{?}}\"><input type=\"checkbox\" id=\"op3-3\" data-name=\"optionCodeArray\" data-value=\"400220\" {{?checked}}checked=\"checked\"{{?}} {{?disabled}}disabled=\"disabled\"{{?}}><label for=\"op3-3\"><span>무릎에어백</span></label></span>\\n\\t\\t</dd>\\n\\t\\t<dd>\\n\\t\\t\\t{{ var checked1 = it.queryOptionCodeArray.indexOf(\\'700230\\') != -1; }}\\n\\t\\t\\t{{ var count1 = it.facets.optionCodeArray[\\'700230\\'] || 0; }}\\n\\t\\t\\t{{ var disabled1 = !checked1 && count1 == 0; }}\\n\\t\\t\\t{{ var checked2 = it.queryOptionCodeArray.indexOf(\\'100120\\') != -1; }}\\n\\t\\t\\t{{ var count2 = it.facets.optionCodeArray[\\'100120\\'] || 0; }}\\n\\t\\t\\t{{ var disabled2 = !checked2 && count2 == 0; }}\\n\\t\\t\\t<span class=\"inp-ch checkButton {{?checked1&&checked2}}checked{{?}} {{?disabled1&&disabled2}}disabled{{?}}\"><input type=\"checkbox\" id=\"op3-4\" {{?checked1&&checked2}}checked=\"checked\"{{?}} {{?disabled1&&disabled2}}disabled=\"disabled\"{{?}}><label for=\"op3-4\"><span>주차감지센서</span></label></span>\\n\\t\\t\\t<div class=\"subAreaButton\">\\n\\t\\t\\t\\t<span class=\"inp-ch checkButton {{?checked1}}checked{{?}} {{?disabled1}}disabled{{?}}\"><input type=\"checkbox\" id=\"op3-4-1\" data-name=\"optionCodeArray\" data-value=\"700230\" {{?checked1}}checked=\"checked\"{{?}} {{?disabled1}}disabled=\"disabled\"{{?}}><label for=\"op3-4-1\"><span>전방</span></label></span>\\n\\t\\t\\t\\t<span class=\"inp-ch checkButton {{?checked2}}checked{{?}} {{?disabled2}}disabled{{?}}\"><input type=\"checkbox\" id=\"op3-4-2\" data-name=\"optionCodeArray\" data-value=\"100120\" {{?checked2}}checked=\"checked\"{{?}} {{?disabled2}}disabled=\"disabled\"{{?}}><label for=\"op3-4-2\"><span>후방</span></label></span>\\n\\t\\t\\t</div>\\n\\t\\t</dd>\\n\\t\\t<dd>\\n\\t\\t\\t{{ var checked = it.queryOptionCodeArray.indexOf(\\'700240\\') != -1; }}\\n\\t\\t\\t{{ var count = it.facets.optionCodeArray[\\'700240\\'] || 0; }}\\n\\t\\t\\t{{ var disabled = !checked && count == 0; }}\\n\\t\\t\\t<span class=\"inp-ch checkButton {{?checked}}checked{{?}} {{?disabled}}disabled{{?}}\"><input type=\"checkbox\" id=\"op3-6\" data-name=\"optionCodeArray\" data-value=\"700240\" {{?checked}}checked=\"checked\"{{?}} {{?disabled}}disabled=\"disabled\"{{?}}><label for=\"op3-6\"><span>전방카메라</span></label></span>\\n\\t\\t</dd>\\n\\t\\t<dd>\\n\\t\\t\\t{{ var checked = it.queryOptionCodeArray.indexOf(\\'700250\\') != -1; }}\\n\\t\\t\\t{{ var count = it.facets.optionCodeArray[\\'700250\\'] || 0; }}\\n\\t\\t\\t{{ var disabled = !checked && count == 0; }}\\n\\t\\t\\t<span class=\"inp-ch checkButton {{?checked}}checked{{?}} {{?disabled}}disabled{{?}}\"><input type=\"checkbox\" id=\"op3-8\" data-name=\"optionCodeArray\" data-value=\"700250\" {{?checked}}checked=\"checked\"{{?}} {{?disabled}}disabled=\"disabled\"{{?}}><label for=\"op3-8\"><span>자동긴급제동(AEB)</span></label></span>\\n\\t\\t</dd>\\n\\t</dl>\\n</li>\\n<li>\\n\\t<dl>\\n\\t\\t<dt>편의</dt>\\n\\t\\t<dd>\\n\\t\\t\\t{{ var checked = it.queryOptionCodeArray.indexOf(\\'100150\\') != -1; }}\\n\\t\\t\\t{{ var count = it.facets.optionCodeArray[\\'100150\\'] || 0; }}\\n\\t\\t\\t{{ var disabled = !checked && count == 0; }}\\n\\t\\t\\t<span class=\"inp-ch checkButton {{?checked}}checked{{?}} {{?disabled}}disabled{{?}}\"><input type=\"checkbox\" id=\"op4-1\" data-name=\"optionCodeArray\" data-value=\"100150\" {{?checked}}checked=\"checked\"{{?}} {{?disabled}}disabled=\"disabled\"{{?}}><label for=\"op4-1\"><span>스마트키</span></label></span>\\n\\t\\t</dd>\\n\\t\\t<dd>\\n\\t\\t\\t{{ var checked = it.queryOptionCodeArray.indexOf(\\'500100\\') != -1; }}\\n\\t\\t\\t{{ var count = it.facets.optionCodeArray[\\'500100\\'] || 0; }}\\n\\t\\t\\t{{ var disabled = !checked && count == 0; }}\\n\\t\\t\\t<span class=\"inp-ch checkButton {{?checked}}checked{{?}} {{?disabled}}disabled{{?}}\"><input type=\"checkbox\" id=\"op4-2\" data-name=\"optionCodeArray\" data-value=\"500100\" {{?checked}}checked=\"checked\"{{?}} {{?disabled}}disabled=\"disabled\"{{?}}><label for=\"op4-2\"><span>파워윈도우</span></label></span>\\n\\t\\t</dd>\\n\\t\\t<dd>\\n\\t\\t\\t{{ var checked = it.queryOptionCodeArray.indexOf(\\'500110\\') != -1; }}\\n\\t\\t\\t{{ var count = it.facets.optionCodeArray[\\'500110\\'] || 0; }}\\n\\t\\t\\t{{ var disabled = !checked && count == 0; }}\\n\\t\\t\\t<span class=\"inp-ch checkButton {{?checked}}checked{{?}} {{?disabled}}disabled{{?}}\"><input type=\"checkbox\" id=\"op4-3\" data-name=\"optionCodeArray\" data-value=\"500110\" {{?checked}}checked=\"checked\"{{?}} {{?disabled}}disabled=\"disabled\"{{?}}><label for=\"op4-3\"><span>자동도어잠금</span></label></span>\\n\\t\\t</dd>\\n\\t\\t<dd>\\n\\t\\t\\t{{ var checked = it.queryOptionCodeArray.indexOf(\\'500120\\') != -1; }}\\n\\t\\t\\t{{ var count = it.facets.optionCodeArray[\\'500120\\'] || 0; }}\\n\\t\\t\\t{{ var disabled = !checked && count == 0; }}\\n\\t\\t\\t<span class=\"inp-ch checkButton {{?checked}}checked{{?}} {{?disabled}}disabled{{?}}\"><input type=\"checkbox\" id=\"op4-4\" data-name=\"optionCodeArray\" data-value=\"500120\" {{?checked}}checked=\"checked\"{{?}} {{?disabled}}disabled=\"disabled\"{{?}}><label for=\"op4-4\"><span>풀오토에어컨</span></label></span>\\n\\t\\t</dd>\\n\\t\\t<dd>\\n\\t\\t\\t{{ var checked = it.queryOptionCodeArray.indexOf(\\'500130\\') != -1; }}\\n\\t\\t\\t{{ var count = it.facets.optionCodeArray[\\'500130\\'] || 0; }}\\n\\t\\t\\t{{ var disabled = !checked && count == 0; }}\\n\\t\\t\\t<span class=\"inp-ch checkButton {{?checked}}checked{{?}} {{?disabled}}disabled{{?}}\"><input type=\"checkbox\" id=\"op4-5\" data-name=\"optionCodeArray\" data-value=\"500130\" {{?checked}}checked=\"checked\"{{?}} {{?disabled}}disabled=\"disabled\"{{?}}><label for=\"op4-5\"><span>오토라이트</span></label></span>\\n\\t\\t</dd>\\n\\t\\t<dd>\\n\\t\\t\\t{{ var checked = it.queryOptionCodeArray.indexOf(\\'500150\\') != -1; }}\\n\\t\\t\\t{{ var count = it.facets.optionCodeArray[\\'500150\\'] || 0; }}\\n\\t\\t\\t{{ var disabled = !checked && count == 0; }}\\n\\t\\t\\t<span class=\"inp-ch checkButton {{?checked}}checked{{?}} {{?disabled}}disabled{{?}}\"><input type=\"checkbox\" id=\"op4-6\" data-name=\"optionCodeArray\" data-value=\"500150\" {{?checked}}checked=\"checked\"{{?}} {{?disabled}}disabled=\"disabled\"{{?}}><label for=\"op4-6\"><span>자동주차시스템</span></label></span>\\n\\t\\t</dd>\\n\\t\\t<dd>\\n\\t\\t\\t{{ var checked = it.queryOptionCodeArray.indexOf(\\'500160\\') != -1; }}\\n\\t\\t\\t{{ var count = it.facets.optionCodeArray[\\'500160\\'] || 0; }}\\n\\t\\t\\t{{ var disabled = !checked && count == 0; }}\\n\\t\\t\\t<span class=\"inp-ch checkButton {{?checked}}checked{{?}} {{?disabled}}disabled{{?}}\"><input type=\"checkbox\" id=\"op4-7\" data-name=\"optionCodeArray\" data-value=\"500160\" {{?checked}}checked=\"checked\"{{?}} {{?disabled}}disabled=\"disabled\"{{?}}><label for=\"op4-7\"><span>전자식파킹브레이크(EPB)</span></label></span>\\n\\t\\t</dd>\\n\\t\\t<dd>\\n\\t\\t\\t{{ var checked = it.queryOptionCodeArray.indexOf(\\'500170\\') != -1; }}\\n\\t\\t\\t{{ var count = it.facets.optionCodeArray[\\'500170\\'] || 0; }}\\n\\t\\t\\t{{ var disabled = !checked && count == 0; }}\\n\\t\\t\\t<span class=\"inp-ch checkButton {{?checked}}checked{{?}} {{?disabled}}disabled{{?}}\"><input type=\"checkbox\" id=\"op4-8\" data-name=\"optionCodeArray\" data-value=\"500170\" {{?checked}}checked=\"checked\"{{?}} {{?disabled}}disabled=\"disabled\"{{?}}><label for=\"op4-8\"><span>헤드업디스플레이(HUD)</span></label></span>\\n\\t\\t</dd>\\n\\t\\t<dd>\\n\\t\\t\\t{{ var checked = it.queryOptionCodeArray.indexOf(\\'500180\\') != -1; }}\\n\\t\\t\\t{{ var count = it.facets.optionCodeArray[\\'500180\\'] || 0; }}\\n\\t\\t\\t{{ var disabled = !checked && count == 0; }}\\n\\t\\t\\t<span class=\"inp-ch checkButton {{?checked}}checked{{?}} {{?disabled}}disabled{{?}}\"><input type=\"checkbox\" id=\"op4-9\" data-name=\"optionCodeArray\" data-value=\"500180\" {{?checked}}checked=\"checked\"{{?}} {{?disabled}}disabled=\"disabled\"{{?}}><label for=\"op4-9\"><span>ECM룸밀러</span></label></span>\\n\\t\\t</dd>\\n\\t\\t<dd>\\n\\t\\t\\t{{ var checked = it.queryOptionCodeArray.indexOf(\\'500190\\') != -1; }}\\n\\t\\t\\t{{ var count = it.facets.optionCodeArray[\\'500190\\'] || 0; }}\\n\\t\\t\\t{{ var disabled = !checked && count == 0; }}\\n\\t\\t\\t<span class=\"inp-ch checkButton {{?checked}}checked{{?}} {{?disabled}}disabled{{?}}\"><input type=\"checkbox\" id=\"op4-10\" data-name=\"optionCodeArray\" data-value=\"500190\" {{?checked}}checked=\"checked\"{{?}} {{?disabled}}disabled=\"disabled\"{{?}}><label for=\"op4-10\"><span>크루즈컨트롤</span></label></span>\\n\\t\\t</dd>\\n\\t\\t<dd>\\n\\t\\t\\t{{ var checked = it.queryOptionCodeArray.indexOf(\\'500200\\') != -1; }}\\n\\t\\t\\t{{ var count = it.facets.optionCodeArray[\\'500200\\'] || 0; }}\\n\\t\\t\\t{{ var disabled = !checked && count == 0; }}\\n\\t\\t\\t<span class=\"inp-ch checkButton {{?checked}}checked{{?}} {{?disabled}}disabled{{?}}\"><input type=\"checkbox\" id=\"op4-11\" data-name=\"optionCodeArray\" data-value=\"500200\" {{?checked}}checked=\"checked\"{{?}} {{?disabled}}disabled=\"disabled\"{{?}}><label for=\"op4-11\"><span>전동트렁크</span></label></span>\\n\\t\\t</dd>\\n\\t\\t<dd>\\n\\t\\t\\t{{ var checked = it.queryOptionCodeArray.indexOf(\\'500210\\') != -1; }}\\n\\t\\t\\t{{ var count = it.facets.optionCodeArray[\\'500210\\'] || 0; }}\\n\\t\\t\\t{{ var disabled = !checked && count == 0; }}\\n\\t\\t\\t<span class=\"inp-ch checkButton {{?checked}}checked{{?}} {{?disabled}}disabled{{?}}\"><input type=\"checkbox\" id=\"op4-12\" data-name=\"optionCodeArray\" data-value=\"500210\" {{?checked}}checked=\"checked\"{{?}} {{?disabled}}disabled=\"disabled\"{{?}}><label for=\"op4-12\"><span>핸들열선</span></label></span>\\n\\t\\t</dd>\\n\\t\\t<dd>\\n\\t\\t\\t{{ var checked = it.queryOptionCodeArray.indexOf(\\'500220\\') != -1; }}\\n\\t\\t\\t{{ var count = it.facets.optionCodeArray[\\'500220\\'] || 0; }}\\n\\t\\t\\t{{ var disabled = !checked && count == 0; }}\\n\\t\\t\\t<span class=\"inp-ch checkButton {{?checked}}checked{{?}} {{?disabled}}disabled{{?}}\"><input type=\"checkbox\" id=\"op4-13\" data-name=\"optionCodeArray\" data-value=\"500220\" {{?checked}}checked=\"checked\"{{?}} {{?disabled}}disabled=\"disabled\"{{?}}><label for=\"op4-13\"><span>무선도어 잠금장치</span></label></span>\\n\\t\\t</dd>\\n\\t\\t<dd>\\n\\t\\t\\t{{ var checked = it.queryOptionCodeArray.indexOf(\\'500230\\') != -1; }}\\n\\t\\t\\t{{ var count = it.facets.optionCodeArray[\\'500230\\'] || 0; }}\\n\\t\\t\\t{{ var disabled = !checked && count == 0; }}\\n\\t\\t\\t<span class=\"inp-ch checkButton {{?checked}}checked{{?}} {{?disabled}}disabled{{?}}\"><input type=\"checkbox\" id=\"op4-14\" data-name=\"optionCodeArray\" data-value=\"500230\" {{?checked}}checked=\"checked\"{{?}} {{?disabled}}disabled=\"disabled\"{{?}}><label for=\"op4-14\"><span>레인센서와이퍼</span></label></span>\\n\\t\\t</dd>\\n\\t\\t<dd>\\n\\t\\t\\t{{ var checked = it.queryOptionCodeArray.indexOf(\\'700280\\') != -1; }}\\n\\t\\t\\t{{ var count = it.facets.optionCodeArray[\\'700280\\'] || 0; }}\\n\\t\\t\\t{{ var disabled = !checked && count == 0; }}\\n\\t\\t\\t<span class=\"inp-ch checkButton {{?checked}}checked{{?}} {{?disabled}}disabled{{?}}\"><input type=\"checkbox\" id=\"op4-16\" data-name=\"optionCodeArray\" data-value=\"700280\" {{?checked}}checked=\"checked\"{{?}} {{?disabled}}disabled=\"disabled\"{{?}}><label for=\"op4-16\"><span>스탑앤고</span></label></span>\\n\\t\\t</dd>\\n\\t\\t<dd>\\n\\t\\t\\t{{ var checked = it.queryOptionCodeArray.indexOf(\\'700290\\') != -1; }}\\n\\t\\t\\t{{ var count = it.facets.optionCodeArray[\\'700290\\'] || 0; }}\\n\\t\\t\\t{{ var disabled = !checked && count == 0; }}\\n\\t\\t\\t<span class=\"inp-ch checkButton {{?checked}}checked{{?}} {{?disabled}}disabled{{?}}\"><input type=\"checkbox\" id=\"op4-17\" data-name=\"optionCodeArray\" data-value=\"700290\" {{?checked}}checked=\"checked\"{{?}} {{?disabled}}disabled=\"disabled\"{{?}}><label for=\"op4-17\"><span>무선충전</span></label></span>\\n\\t\\t</dd>\\n\\t</dl>\\n</li>\\n<li class=\"pad-r0\">\\n\\t<dl>\\n\\t\\t<dt>멀티미디어</dt>\\n\\t\\t<dd>\\n\\t\\t\\t{{ var checked1 = it.queryOptionCodeArray.indexOf(\\'100160\\') != -1; }}\\n\\t\\t\\t{{ var count1 = it.facets.optionCodeArray[\\'100160\\'] || 0; }}\\n\\t\\t\\t{{ var disabled1 = !checked1 && count1 == 0; }}\\n\\t\\t\\t{{ var checked2 = it.queryOptionCodeArray.indexOf(\\'700310\\') != -1; }}\\n\\t\\t\\t{{ var count2 = it.facets.optionCodeArray[\\'700310\\'] || 0; }}\\n\\t\\t\\t{{ var disabled2 = !checked2 && count2 == 0; }}\\n\\t\\t\\t<span class=\"inp-ch checkButton {{?checked1||checked2}}checked{{?}} {{?disabled1&&disabled2}}disabled{{?}}\"><input type=\"checkbox\" id=\"op5-11\" {{?checked1||checked2}}checked=\"checked\"{{?}} {{?disabled1&&disabled2}}disabled=\"disabled\"{{?}}><label for=\"op5-11-1\" onclick=\"$(this).parent().toggleClass(\\'checked\\');\"><span>내비게이션</span></label></span>\\n\\t\\t\\t<div class=\"subAreaButton\">\\n\\t\\t\\t\\t<span class=\"inp-rd radioButton {{?checked1}}checked{{?}}\"><input type=\"radio\" id=\"op5-11-1\" name=\"op5-11\" data-name=\"optionCodeArray\" data-value=\"100160\" {{?checked1}}checked=\"checked\"{{?}}><label for=\"op5-11-1\"><span>순정</span></label></span>\\n\\t\\t\\t\\t<span class=\"inp-rd radioButton {{?checked2}}checked{{?}}\"><input type=\"radio\" id=\"op5-11-2\" name=\"op5-11\" data-name=\"optionCodeArray\" data-value=\"700310\" {{?checked2}}checked=\"checked\"{{?}}><label for=\"op5-11-2\"><span>비순정</span></label></span>\\n\\t\\t\\t</div>\\n\\t\\t</dd>\\n\\t\\t<dd>\\n\\t\\t\\t{{ var checked = it.queryOptionCodeArray.indexOf(\\'600100\\') != -1; }}\\n\\t\\t\\t{{ var count = it.facets.optionCodeArray[\\'600100\\'] || 0; }}\\n\\t\\t\\t{{ var disabled = !checked && count == 0; }}\\n\\t\\t\\t<span class=\"inp-ch checkButton {{?checked}}checked{{?}} {{?disabled}}disabled{{?}}\"><input type=\"checkbox\" id=\"op5-1\" data-name=\"optionCodeArray\" data-value=\"600100\" {{?checked}}checked=\"checked\"{{?}} {{?disabled}}disabled=\"disabled\"{{?}}><label for=\"op5-1\"><span>CD플레이어</span></label></span>\\n\\t\\t</dd>\\n\\t\\t<dd>\\n\\t\\t\\t{{ var checked = it.queryOptionCodeArray.indexOf(\\'600110\\') != -1; }}\\n\\t\\t\\t{{ var count = it.facets.optionCodeArray[\\'600110\\'] || 0; }}\\n\\t\\t\\t{{ var disabled = !checked && count == 0; }}\\n\\t\\t\\t<span class=\"inp-ch checkButton {{?checked}}checked{{?}} {{?disabled}}disabled{{?}}\"><input type=\"checkbox\" id=\"op5-2\" data-name=\"optionCodeArray\" data-value=\"600110\" {{?checked}}checked=\"checked\"{{?}} {{?disabled}}disabled=\"disabled\"{{?}}><label for=\"op5-2\"><span>CD체인저</span></label></span>\\n\\t\\t</dd>\\n\\t\\t<dd>\\n\\t\\t\\t{{ var checked = it.queryOptionCodeArray.indexOf(\\'600120\\') != -1; }}\\n\\t\\t\\t{{ var count = it.facets.optionCodeArray[\\'600120\\'] || 0; }}\\n\\t\\t\\t{{ var disabled = !checked && count == 0; }}\\n\\t\\t\\t<span class=\"inp-ch checkButton {{?checked}}checked{{?}} {{?disabled}}disabled{{?}}\"><input type=\"checkbox\" id=\"op5-3\" data-name=\"optionCodeArray\" data-value=\"600120\" {{?checked}}checked=\"checked\"{{?}} {{?disabled}}disabled=\"disabled\"{{?}}><label for=\"op5-3\"><span>AV시스템</span></label></span>\\n\\t\\t</dd>\\n\\t\\t<dd>\\n\\t\\t\\t{{ var checked = it.queryOptionCodeArray.indexOf(\\'600130\\') != -1; }}\\n\\t\\t\\t{{ var count = it.facets.optionCodeArray[\\'600130\\'] || 0; }}\\n\\t\\t\\t{{ var disabled = !checked && count == 0; }}\\n\\t\\t\\t<span class=\"inp-ch checkButton {{?checked}}checked{{?}} {{?disabled}}disabled{{?}}\"><input type=\"checkbox\" id=\"op5-4\" data-name=\"optionCodeArray\" data-value=\"600130\" {{?checked}}checked=\"checked\"{{?}} {{?disabled}}disabled=\"disabled\"{{?}}><label for=\"op5-4\"><span>MP3</span></label></span>\\n\\t\\t</dd>\\n\\t\\t<dd>\\n\\t\\t\\t{{ var checked = it.queryOptionCodeArray.indexOf(\\'600140\\') != -1; }}\\n\\t\\t\\t{{ var count = it.facets.optionCodeArray[\\'600140\\'] || 0; }}\\n\\t\\t\\t{{ var disabled = !checked && count == 0; }}\\n\\t\\t\\t<span class=\"inp-ch checkButton {{?checked}}checked{{?}} {{?disabled}}disabled{{?}}\"><input type=\"checkbox\" id=\"op5-5\" data-name=\"optionCodeArray\" data-value=\"600140\" {{?checked}}checked=\"checked\"{{?}} {{?disabled}}disabled=\"disabled\"{{?}}><label for=\"op5-5\"><span>AUX</span></label></span>\\n\\t\\t</dd>\\n\\t\\t<dd>\\n\\t\\t\\t{{ var checked = it.queryOptionCodeArray.indexOf(\\'600150\\') != -1; }}\\n\\t\\t\\t{{ var count = it.facets.optionCodeArray[\\'600150\\'] || 0; }}\\n\\t\\t\\t{{ var disabled = !checked && count == 0; }}\\n\\t\\t\\t<span class=\"inp-ch checkButton {{?checked}}checked{{?}} {{?disabled}}disabled{{?}}\"><input type=\"checkbox\" id=\"op5-6\" data-name=\"optionCodeArray\" data-value=\"600150\" {{?checked}}checked=\"checked\"{{?}} {{?disabled}}disabled=\"disabled\"{{?}}><label for=\"op5-6\"><span>USB</span></label></span>\\n\\t\\t</dd>\\n\\t\\t<dd>\\n\\t\\t\\t{{ var checked = it.queryOptionCodeArray.indexOf(\\'600160\\') != -1; }}\\n\\t\\t\\t{{ var count = it.facets.optionCodeArray[\\'600160\\'] || 0; }}\\n\\t\\t\\t{{ var disabled = !checked && count == 0; }}\\n\\t\\t\\t<span class=\"inp-ch checkButton {{?checked}}checked{{?}} {{?disabled}}disabled{{?}}\"><input type=\"checkbox\" id=\"op5-7\" data-name=\"optionCodeArray\" data-value=\"600160\" {{?checked}}checked=\"checked\"{{?}} {{?disabled}}disabled=\"disabled\"{{?}}><label for=\"op5-7\"><span>핸즈프리</span></label></span>\\n\\t\\t</dd>\\n\\t\\t<dd>\\n\\t\\t\\t{{ var checked = it.queryOptionCodeArray.indexOf(\\'600170\\') != -1; }}\\n\\t\\t\\t{{ var count = it.facets.optionCodeArray[\\'600170\\'] || 0; }}\\n\\t\\t\\t{{ var disabled = !checked && count == 0; }}\\n\\t\\t\\t<span class=\"inp-ch checkButton {{?checked}}checked{{?}} {{?disabled}}disabled{{?}}\"><input type=\"checkbox\" id=\"op5-8\" data-name=\"optionCodeArray\" data-value=\"600170\" {{?checked}}checked=\"checked\"{{?}} {{?disabled}}disabled=\"disabled\"{{?}}><label for=\"op5-8\"><span>iPod 단자</span></label></span>\\n\\t\\t</dd>\\n\\t\\t<dd>\\n\\t\\t\\t{{ var checked = it.queryOptionCodeArray.indexOf(\\'600180\\') != -1; }}\\n\\t\\t\\t{{ var count = it.facets.optionCodeArray[\\'600180\\'] || 0; }}\\n\\t\\t\\t{{ var disabled = !checked && count == 0; }}\\n\\t\\t\\t<span class=\"inp-ch checkButton {{?checked}}checked{{?}} {{?disabled}}disabled{{?}}\"><input type=\"checkbox\" id=\"op5-9\" data-name=\"optionCodeArray\" data-value=\"600180\" {{?checked}}checked=\"checked\"{{?}} {{?disabled}}disabled=\"disabled\"{{?}}><label for=\"op5-9\"><span>뒷좌석모니터</span></label></span>\\n\\t\\t</dd>\\n\\t\\t<dd>\\n\\t\\t\\t{{ var checked = it.queryOptionCodeArray.indexOf(\\'700300\\') != -1; }}\\n\\t\\t\\t{{ var count = it.facets.optionCodeArray[\\'700300\\'] || 0; }}\\n\\t\\t\\t{{ var disabled = !checked && count == 0; }}\\n\\t\\t\\t<span class=\"inp-ch checkButton {{?checked}}checked{{?}} {{?disabled}}disabled{{?}}\"><input type=\"checkbox\" id=\"op5-10\" data-name=\"optionCodeArray\" data-value=\"700300\" {{?checked}}checked=\"checked\"{{?}} {{?disabled}}disabled=\"disabled\"{{?}}><label for=\"op5-10\"><span>스마트폰미러링</span></label></span>\\n\\t\\t</dd>\\n\\t\\t<dd>\\n\\t\\t\\t{{ var checked = it.queryOptionCodeArray.indexOf(\\'700320\\') != -1; }}\\n\\t\\t\\t{{ var count = it.facets.optionCodeArray[\\'700320\\'] || 0; }}\\n\\t\\t\\t{{ var disabled = !checked && count == 0; }}\\n\\t\\t\\t<span class=\"inp-ch checkButton {{?checked}}checked{{?}} {{?disabled}}disabled{{?}}\"><input type=\"checkbox\" id=\"op5-12\" data-name=\"optionCodeArray\" data-value=\"700320\" {{?checked}}checked=\"checked\"{{?}} {{?disabled}}disabled=\"disabled\"{{?}}><label for=\"op5-12\"><span>블루투스</span></label></span>\\n\\t\\t</dd>\\n\\t</dl>\\n</li>\\n</script>\\n\\n<!-- 연식 선택옵션 -->\\n<script type=\"text/doT\" id=\"regiDay-option-tmpl\">\\n{{~it : value}}\\n\\t<option value=\"{{=value}}\">{{=value}}년</option>\\n{{~}}\\n</script>\\n\\n<!-- 주행거리 선택옵션 -->\\n<script type=\"text/doT\" id=\"km-option-tmpl\">\\n{{~it : value}}\\n\\t<option value=\"{{=value}}\">{{=kbcSearchUtil.numberFormat(value)}}km</option>\\n{{~}}\\n</script>\\n\\n<!-- 가격 선택옵션 -->\\n<script type=\"text/doT\" id=\"sellAmt-option-tmpl\">\\n{{~it : value}}\\n\\t<option value=\"{{=value}}\">{{?value == 10000}}1억원{{??value == 99999}}1억원 초과{{??}}{{=kbcSearchUtil.numberFormat(value)}}만원{{?}}</option>\\n{{~}}\\n</script>\\n\\n\\n\\n<!-- 최근검색조건 레이어 -->\\n<script type=\"text/doT\" id=\"recent-filter-tmpl\">\\n{{? it.length != null && it.length > 0 }}\\n\\t{{~ it : item }}\\n\\t\\t<div class=\"layerLatestSearch__info__item\">\\n\\t\\t\\t<span class=\"carName\">\\n\\t\\t\\t\\t<a href=\"javascript:app.locateURI([\\'/public/search/main.kbc\\', \\'?{{=item.query}}\\'].join(app.root));\">{{=item.carCodeTitle}}</a>\\n\\t\\t\\t\\t<button type=\"button\" class=\"btnDel\" onclick=\"app.removeRecentFilter(\\'{{=item.carCodeTitle}}\\');\"><span>삭\\t</span></button>\\n\\t\\t\\t</span>\\n\\t\\t\\t<div class=\"infoText\">\\n\\t\\t\\t\\t{{? item.breadCrumb2.length == 0 && item.breadCrumb3.length == 0 }}\\n\\t\\t\\t\\t\\t<span>세부조건 없음</span>\\n\\t\\t\\t\\t{{??}}\\n\\t\\t\\t\\t\\t{{~ item.breadCrumb2 : bc }}\\n\\t\\t\\t\\t\\t\\t<span>{{=bc.text }}</span>\\n\\t\\t\\t\\t\\t{{~}}\\n\\t\\t\\t\\t\\t{{~ item.breadCrumb3 : bc }}\\n\\t\\t\\t\\t\\t\\t<span>{{=bc.text }}</span>\\n\\t\\t\\t\\t\\t{{~}}\\n\\t\\t\\t\\t{{?}}\\n\\t\\t\\t</div>\\n\\t\\t</div>\\n\\t{{~}}\\n{{??}}\\n<div class=\"layerLatestSearch__info__item\">\\n\\t<h4 class=\"tit mg-b15\" style=\"text-align: center;\">최근 검색조건이 없습니다.</h4>\\n</div>\\n{{?}}\\n</script>\\n\\n\\n\\n\\n\\n\\n\\n\\n\\n\\n\\n<script type=\"text/javascript\" src=\"/vendor/owlCarousel2/v2.3.4/owl.carousel.min.js\"></script>\\n<script type=\"text/javascript\" src=\"/vendor/noUiSlider/v13.1.5/nouislider.min.js\"></script>\\n<script type=\"text/javascript\" src=\"/vendor/wNumb/v1.1.0/wNumb.js\"></script>\\n<script type=\"text/javascript\" src=\"/vendor/doT/v1.1.1/doT.min.js\"></script>\\n<script type=\"text/javascript\" src=\"/vendor/lazyload/v12.2.0/lazyload.min.js\"></script>\\n\\n<script type=\"text/javascript\" src=\"/js/views/search/search.list.v2-d4a9d47d7081f51e0165a685ae13e8b3.js\"></script>\\n\\n<script type=\"text/javascript\">\\n(function init() {\\n\\trouter.notFound(function() {\\n\\t\\tconsole.log(\\'not found\\');\\n\\t\\trouter.resolve(\\'/\\');\\n\\t});\\n\\n\\tapp.$container = $(\\'.searchArea\\');\\n\\tapp.carListUri = \\'list.empty\\';\\n\\t\\n\\t\\t\\n\\t\\t\\n\\t\\t\\tif (location.search.substring(1) != \\'\\') {\\n\\t\\t\\t\\tif (history.replaceState) {\\n\\t\\t\\t\\t\\thistory.replaceState(null, document.title, [location.pathname, location.search].join(app.root));\\n\\t\\t\\t\\t} else {\\n\\t\\t\\t\\t\\tapp.locateURI([location.pathname, location.search].join(app.root));\\n\\t\\t\\t\\t}\\n\\t\\t\\t}\\n\\t\\t\\n\\t\\n\\n\\trouter.resolve();\\n})();\\n</script>\\n\\t\\t\\t<!--// 컨텐츠 영역 -->\\n\\t\\t\\t\\n\\t\\t\\t<!-- 풋터 -->\\n\\t\\t\\t\\n\\n\\n\\n<!-- 공통 호출 하단 스크립트 : 모든페이지 하단 설치 -->\\n<!-- PlayD TERA Log Script v1.1 -->\\n<script>\\nvar _nSA=(function(_g,_c,_s,_p,_d,_i,_h){ \\n if(_i.wgc!=_g){var _ck=(new Image(0,0)).src=_p+\\'//\\'+_c+\\'/?cookie\\';_i.wgc=_g;_i.wrd=(new Date().getTime());\\n var _sc=_d.createElement(\\'script\\');_sc.src=_p+\\'//sas.nsm-corp.com/\\'+_s+\\'gc=\\'+_g+\\'&rd=\\'+_i.wrd;\\n var _sm=_d.getElementsByTagName(\\'script\\')[0];_sm.parentNode.insertBefore(_sc, _sm);_i.wgd=_c;} return _i;\\n})(\\'TR10062602448\\',\\'ngc1.nsm-corp.com\\',\\'sa-w.js?\\',location.protocol,document,window._nSA||{},location.hostname);\\n</script><noscript><img src=\"//ngc1.nsm-corp.com/?uid=TR10062602448&je=n&\" border=0 width=0 height=0></noscript>\\n<!-- LogAnalytics Script Install -->\\n\\n<!-- Enliple Tracker Start -->\\n<script type=\"text/javascript\">\\n(function(a,g,e,n,t){a.enp=a.enp||function(){(a.enp.q=a.enp.q||[]).push(arguments)};n=g.createElement(e);n.async=!0;n.defer=!0;n.src=\"https://cdn.megadata.co.kr/dist/prod/enp_tracker_self_hosted.min.js\";t=g.getElementsByTagName(e)[0];t.parentNode.insertBefore(n,t)})(window,document,\"script\");\\nenp(\\'create\\', \\'common\\', \\'kbchachacha1\\', { device: \\'W\\' });  // W:웹, M: 모바일, B: 반응형\\nenp(\\'send\\', \\'common\\', \\'kbchachacha1\\');\\n</script>\\n<!-- Enliple Tracker End -->\\n\\n\\n\\t\\t\\t<!-- 공통 하단 메뉴 -->\\n\\t\\t\\t\\n\\t\\t\\t\\n\\t\\t\\t\\t<div class=\"common-menu-list\">\\n\\t\\t\\t\\t\\t<div class=\"common-container\">\\n\\t\\t\\t\\t\\t\\t<div class=\"common-menu-list__item buy\">\\n\\t\\t\\t\\t\\t\\t\\t<dl>\\n\\t\\t\\t\\t\\t\\t\\t\\t<dt>살때</dt>\\n\\t\\t\\t\\t\\t\\t\\t\\t<dd class=\"list2\"><a href=\"/public/search/main.kbc\">중고차/신차</a></dd>\\n\\t\\t\\t\\t\\t\\t\\t\\t<dd class=\"list1\"><a href=\"/public/saveme/main.kbc\">구해줘차차차</a></dd>\\n\\t\\t\\t\\t\\t\\t\\t\\t<!-- <dd class=\"list\"><a href=\"/public/sendme/main.kbc\">보내줘차차차</a></dd> -->\\n\\t\\t\\t\\t\\t\\t\\t\\t<dd class=\"list4\"><a href=\"/public/mycar/pick/list.kbc\">테마 PICK</a></dd>\\n\\t\\t\\t\\t\\t\\t\\t\\t<!-- <dd class=\"list5\"><a href=\"/public/shop/intro/list.kbc\">이달의 상사</a></dd> -->\\n\\t\\t\\t\\t\\t\\t\\t</dl>\\n\\t\\t\\t\\t\\t\\t</div>\\n\\t\\t\\t\\t\\t\\t<div class=\"common-menu-list__item sell\">\\n\\t\\t\\t\\t\\t\\t\\t<dl>\\n\\t\\t\\t\\t\\t\\t\\t\\t<dt>팔때</dt>\\n\\t\\t\\t\\t\\t\\t\\t\\t<dd class=\"list1\"><a href=\"/public/sellme/submain.kbc\">팔아줘 차차차</a></dd>\\n\\t\\t\\t\\t\\t\\t\\t\\t<dd class=\"list2\"><a href=\"/public/car/direct/main.kbc\">직거래 차차차</a></dd>\\n\\t\\t\\t\\t\\t\\t\\t\\t<dd class=\"list3\"><a href=\"/public/changeme/main.kbc\">바꿔줘 차차차</a></dd>\\n\\t\\t\\t\\t\\t\\t\\t\\t\\n\\t\\t\\t\\t\\t\\t\\t\\t\\n\\t\\t\\t\\t\\t\\t\\t\\t\\t<dd class=\"list4\"><a href=\"/public/login.kbc?redirectUrl=/secured/mypage/car/mycar/member/list01.kbc\">직거래 차량관리</a></dd>\\n\\t\\t\\t\\t\\t\\t\\t\\t\\n\\t\\t\\t\\t\\t\\t\\t\\t\\n\\t\\t\\t\\t\\t\\t\\t\\t\\n\\t\\t\\t\\t\\t\\t\\t</dl>\\n\\t\\t\\t\\t\\t\\t</div>\\n\\t\\t\\t\\t\\t\\t<div class=\"common-menu-list__item price\">\\n\\t\\t\\t\\t\\t\\t\\t<dl>\\n\\t\\t\\t\\t\\t\\t\\t\\t<dt>시세</dt>\\n\\t\\t\\t\\t\\t\\t\\t\\t\\n\\t\\t\\t\\t\\t\\t\\t\\t\\n\\t\\t\\t\\t\\t\\t\\t\\t\\t<dd class=\"list1\"><a href=\"/public/login.kbc?redirectUrl=/secured/member/mycar.kbc\">내차시세</a></dd>\\n\\t\\t\\t\\t\\t\\t\\t\\t\\n\\t\\t\\t\\t\\t\\t\\t\\t\\n\\t\\t\\t\\t\\t\\t\\t\\t\\n\\t\\t\\t\\t\\t\\t\\t\\t<dd class=\"list2\"><a href=\"/public/market/main.kbc\">중고차시세</a></dd>\\n\\t\\t\\t\\t\\t\\t\\t</dl>\\n\\t\\t\\t\\t\\t\\t</div>\\n\\t\\t\\t\\t\\t\\t<div class=\"common-menu-list__item event\">\\n\\t\\t\\t\\t\\t\\t\\t<dl>\\n\\t\\t\\t\\t\\t\\t\\t\\t<dt>혜택</dt>\\n\\t\\t\\t\\t\\t\\t\\t\\t<dd class=\"list3\"><a href=\"/public/event/basicMaster.kbc\">이벤트</a></dd>\\n\\t\\t\\t\\t\\t\\t\\t\\t<dd class=\"list7\"><a href=\"/public/mypage/membership/list.kbc\">차차차멤버십</a></dd>\\n\\t                            <dd class=\"list8\"><a onclick=\"nomalMemberCheck(\\'/secured/mypage/membership/coupon/list.kbc\\');\">쿠폰함</a></dd>\\n\\t                            <dd class=\"list9\"><a onclick=\"nomalMemberCheck(\\'/secured/mypage/coin/list.kbc\\');\">KB코인</a></dd>\\n\\t\\t\\t\\t\\t\\t\\t\\t<dd class=\"list5\"><a href=\"/public/common/pongift.kbc\" target=\"_blank\">차량용품</a></dd>\\n\\t\\t\\t\\t\\t\\t\\t\\t\\n\\t\\t\\t\\t\\t\\t\\t\\t\\n\\t\\t\\t\\t\\t\\t\\t\\t\\n\\t\\t\\t\\t\\t\\t\\t\\t<!-- <dd class=\"list6\"><a href=\"/public/guide/serviceGuideWarrant.kbc\">연장보증 신청</a></dd> -->\\n\\t\\t\\t\\t\\t\\t\\t</dl>\\n\\t\\t\\t\\t\\t\\t</div>\\n\\t\\t\\t\\t\\t\\t<div class=\"common-menu-list__item guide\">\\n\\t\\t\\t\\t\\t\\t\\t<dl>\\n\\t\\t\\t\\t\\t\\t\\t\\t<dt>안내</dt>\\n\\t\\t\\t\\t\\t\\t\\t\\t<dd class=\"list7\"><a href=\"/public/community/car/magazine/list.kbc\">CAR &amp; LIFE</a></dd>\\n\\t\\t\\t\\t\\t\\t\\t\\t<dd class=\"list1\"><a href=\"/public/notice/list.kbc\">새소식</a></dd>\\n\\t\\t\\t\\t\\t\\t\\t\\t\\n\\t\\t\\t\\t\\t\\t\\t\\t<dd class=\"list2\"><a href=\"/public/faq/list.kbc\">자주하는질문</a></dd>\\n\\t\\t\\t\\t\\t\\t\\t\\t\\n\\t\\t\\t\\t\\t\\t\\t\\t\\n\\t\\t\\t\\t\\t\\t\\t\\t\\t<dd class=\"list3\"><a href=\"/public/login.kbc?redirectUrl=/secured/qna/list.kbc\">문의하기</a></dd>\\n\\t\\t\\t\\t\\t\\t\\t\\t\\n\\t\\t\\t\\t\\t\\t\\t\\t\\n\\t\\t\\t\\t\\t\\t\\t\\t\\n\\t\\t\\t\\t\\t\\t\\t\\t\\n\\t\\t\\t\\t\\t\\t\\t\\t\\t<dd class=\"list4\"><a href=\"/public/login.kbc?redirectUrl=/secured/suggest/list.kbc\">제안하기</a></dd>\\n\\t\\t\\t\\t\\t\\t\\t\\t\\n\\t\\t\\t\\t\\t\\t\\t\\t\\n\\t\\t\\t\\t\\t\\t\\t\\t\\n\\t\\t\\t\\t\\t\\t\\t\\t<dd class=\"list5\"><a href=\"/public/guide/serviceGuideMain.kbc\">서비스가이드</a></dd>\\n\\t\\t\\t\\t\\t\\t\\t\\t<dd class=\"list6\"><a href=\"/public/alliance/list.kbc\">제휴서비스</a></dd>\\n\\t\\t\\t\\t\\t\\t\\t</dl>\\n\\t\\t\\t\\t\\t\\t</div>\\n\\t\\t\\t\\t\\t</div>\\n\\t\\t\\t\\t</div>\\n\\t\\t\\t\\t\\n\\t\\t\\t\\n\\t\\t\\t\\n\\t\\t\\t\\n\\t\\t\\t\\n\\t\\t\\t\\n\\t\\t\\t\\n\\n\\t\\t\\t<!-- //공통 하단 메뉴 -->\\n\\t\\t\\t<!-- 공통 푸터 -->\\n\\t\\t\\t<div class=\"common-footer\">\\n\\t\\t\\t\\t<div class=\"common-container\">\\n\\t\\t\\t\\t\\t<div class=\"footer-logo\"><a href=\"javascript:;\"><img src=\"/images/common/footer_logo.png\" alt=\"KB캐피탈\"></a></div>\\n\\t\\t\\t\\t\\t<div class=\"footer-content\">\\n\\t\\t\\t\\t\\t\\t<ul class=\"footer-info\">\\n\\t\\t\\t\\t\\t\\t\\t<li><a href=\"/public/common/terms/view.kbc?termsGbnCode=118300\">이용약관</a></li>\\n\\t\\t\\t\\t\\t\\t\\t<li class=\"bold\"><a href=\"/public/common/terms/view.kbc?termsGbnCode=118301\">개인정보처리방침</a></li>\\n\\t\\t\\t\\t\\t\\t\\t<li><a href=\"/public/common/terms/view.kbc?termsGbnCode=118304\">위치기반서비스 이용약관</a></li>\\n\\t\\t\\t\\t\\t\\t</ul>\\n\\t\\t\\t\\t\\t\\t\\n\\t\\t\\t\\t\\t\\t<div class=\"footer-comment\">\\n\\t\\t\\t\\t\\t\\t\\t\\n\\t\\t\\t\\t\\t\\t\\tKB차차차가 제공하는 서비스는 온라인 거래장소 및 기타 부가정보 제공에 한하며, \\n\\t\\t\\t\\t\\t\\t\\t실제 거래의 모든 책임은 판매자와 구매자에게 있음을 안내드립니다.\\n\\t\\t\\t\\t\\t\\t\\t<br>\\n\\t\\t\\t\\t\\t\\t\\t본 사이트/앱 상의 모든 정보, 콘텐츠, UI 등에 대한\\n\\t\\t\\t\\t\\t\\t\\t무단 복제, 배포, 스크래핑 등의 행위는 법에 의하여 엄격히 금지됩니다.\\n\\t\\t\\t\\t\\t\\t</div>\\n\\t\\t\\t\\t\\t\\t\\n\\t\\t\\t\\t\\t\\t<div class=\"addr-area\">\\n\\t\\t\\t\\t\\t\\t\\t<div class=\"addr\">\\n\\t\\t\\t\\t\\t\\t\\t\\t서울특별시 서초구 서초대로 301 동익성봉빌딩 KB캐피탈㈜<br>\\n\\t\\t\\t\\t\\t\\t\\t\\t대표이사: 황수남<br>\\n\\t\\t\\t\\t\\t\\t\\t\\t사업자등록번호 : 214-85-08573<br>\\n\\t\\t\\t\\t\\t\\t\\t\\t준법감시인 심의필 번호 : 20201101-0007\\n\\t\\t\\t\\t\\t\\t\\t</div>\\n\\t\\t\\t\\t\\t\\t\\t\\n\\t\\t\\t\\t\\t\\t\\t<div class=\"copyright\">COPYRIGHT 2018 KB CAPITAL.CO.,LTD. ALL RIGHTS RESERVED.</div>\\n\\t\\t\\t\\t\\t\\t</div>\\n\\t\\t\\t\\t\\t\\t\\n\\t\\t\\t\\t\\t\\t<div class=\"footer-content__right\">\\n\\t\\t\\t\\t\\t\\t\\t<div class=\"tl-area\">\\n\\t\\t\\t\\t\\t\\t\\t\\t<p>무엇이든 물어보세요.</p>\\n\\t\\t\\t\\t\\t\\t\\t\\t<div class=\"tl-area__item\">\\n\\t\\t\\t\\t\\t\\t\\t\\t\\t<span>금융상담</span>\\n\\t\\t\\t\\t\\t\\t\\t\\t\\t<strong>1522-1112</strong>\\n\\t\\t\\t\\t\\t\\t\\t\\t</div>\\n\\t\\t\\t\\t\\t\\t\\t\\t<i class=\"tl-area__line\"></i>\\n\\t\\t\\t\\t\\t\\t\\t\\t<div class=\"tl-area__item\">\\n\\t\\t\\t\\t\\t\\t\\t\\t\\t<span>일반문의</span>\\n\\t\\t\\t\\t\\t\\t\\t\\t\\t<strong>1670-4777</strong>\\n\\t\\t\\t\\t\\t\\t\\t\\t</div>\\n\\t\\t\\t\\t\\t\\t\\t\\t<span class=\"tl-area__foot\">상담가능시간: 평일 09:00 ~ 18:00</span>\\n\\t\\t\\t\\t\\t\\t\\t</div>\\n\\t\\t\\t\\t\\t\\t\\t<div class=\"down-sns\">\\n\\t\\t\\t\\t\\t\\t\\t\\t<div class=\"download\">\\n\\t\\t\\t\\t\\t\\t\\t\\t\\t<a href=\"https://itunes.apple.com/us/app/kbchachacha/id1112366886?l=ko&amp;ls=1&amp;mt=8\" class=\"ios\"><span class=\"blind\">아이폰 앱스토어</span></a>\\n\\t\\t\\t\\t\\t\\t\\t\\t\\t<a href=\"https://play.google.com/store/apps/details?id=kr.co.kbc.cha.android\" class=\"android\"><span class=\"blind\">안드로이드 플레이스토어</span></a>\\n\\t\\t\\t\\t\\t\\t\\t\\t</div>\\n\\t\\t\\t\\t\\t\\t\\t\\t<div class=\"sns-link\">\\n\\t\\t\\t\\t\\t\\t\\t\\t\\t<a href=\"https://www.youtube.com/channel/UCQbPlGa8gKur5Vtzb1ZcEgQ\" class=\"youtube\"><span class=\"blind\">유투브</span></a>\\n\\t\\t\\t\\t\\t\\t\\t\\t\\t<a href=\"https://www.facebook.com/KBcapital.chachacha\" class=\"facebook\" target=\"_blank\"><span class=\"blind\">페이스북</span></a>\\n\\t\\t\\t\\t\\t\\t\\t\\t\\t<a href=\"https://www.instagram.com/kb.kbchachacha.official\" class=\"indtagram\" target=\"_blank\"><span class=\"blind\">인스타그램</span></a>\\n\\t\\t\\t\\t\\t\\t\\t\\t\\t<a href=\"https://blog.naver.com/kbcp01\" class=\"post\"><span class=\"blind\" target=\"_blank\">네이버포스트</span></a>\\n\\t\\t\\t\\t\\t\\t\\t\\t\\t<!-- <a href=\"https://post.naver.com/kbchabest\" class=\"blog\"><span class=\"blind\" target=\"_blank\">네이버블로그</span></a> -->\\n\\t\\t\\t\\t\\t\\t\\t\\t</div>\\n\\t\\t\\t\\t\\t\\t\\t</div>\\n\\t\\t\\t\\t\\t\\t</div>\\n\\t\\t\\t\\t\\t</div>\\n\\t\\t\\t\\t</div>\\n\\t\\t\\t</div>\\n\\t\\t\\t<!-- //공통 푸터 -->\\n\\t\\t\\t\\n\\t\\t\\t\\n<script language=\"javascript\">\\n$(document).ready(function(){\\n\\t\\n});\\n\\nfunction footerCarRegistAuthCheck(){\\n\\t$_VALIDATOR.carRegistAuth({\\n\\t\\tsuccess : function(){\\n\\t\\t\\tlocation.href = \"/secured/car/regist.kbc\";\\n\\t\\t},\\n\\t\\tfail : function(data){\\n\\t\\t\\tlayerAlert(data.errMsg);\\n\\t\\t}\\n\\t});\\n}\\nfunction nomalMemberCheck(url){\\n\\t$_VALIDATOR.memberGbnConfirm({\\n\\t\\tnoLogin : function(){\\n\\t\\t\\tvar popup = confirm(\"정회원 로그인 후 이용하실 수 있습니다.\\\\r\\\\n로그인 하시겠습니까?\");\\n\\t\\t\\tif(popup){\\n\\t\\t\\t\\tparent.location.href = \"/public/login.kbc\";\\n\\t\\t\\t}\\n\\t\\t},\\n\\t\\tsocialMember : function(){\\n\\t\\t\\tvar popup = confirm(\"정회원 로그인 후 이용하실 수 있습니다.\\\\r\\\\n로그인 하시겠습니까?\");\\n\\t\\t\\tif(popup){\\n\\t\\t\\t\\tparent.location.href = \"/public/normal/join.kbc\";\\n\\t\\t\\t}\\n\\t\\t},\\n\\t\\tnomalMember : function(){\\n\\t\\t\\tlocation.href = url;\\n\\t\\t}\\n\\t});\\n}\\n</script>\\n\\t\\t\\t<!--// 풋터 -->\\n\\n\\t\\t</div>\\n\\t\\t\\n\\t</div>\\n\\t\\n</div>\\n\\n\\n\\n<script type=\"text/javascript\" id=\"\" src=\"https://static.kbdmp.com/ma/kb_v0.01.js\"></script><div style=\"display: none; visibility: hidden;\"><script language=\"JavaScript1.1\" async=\"null\" src=\"//pixel.mathtag.com/event/js?mt_id=1544016&amp;mt_adid=245729&amp;mt_exem=&amp;mt_excl=&amp;v1=&amp;v2=&amp;v3=&amp;s1=&amp;s2=&amp;s3=\"></script>\\n\\n\\n<script type=\"text/javascript\">var axel=Math.random()+\"\",a=1E13*axel;document.write(\\'\\\\x3cimg src\\\\x3d\"https://ad.doubleclick.net/ddm/activity/src\\\\x3d10946860;type\\\\x3dinvmedia;cat\\\\x3dbuy_s0;dc_lat\\\\x3d;dc_rdid\\\\x3d;tag_for_child_directed_treatment\\\\x3d;tfua\\\\x3d;npa\\\\x3d;gdpr\\\\x3d${GDPR};gdpr_consent\\\\x3d${GDPR_CONSENT_755};ord\\\\x3d\\'+a+\\'?\" width\\\\x3d\"1\" height\\\\x3d\"1\" alt\\\\x3d\"\"/\\\\x3e\\');</script><img src=\"https://ad.doubleclick.net/ddm/activity/src=10946860;type=invmedia;cat=buy_s0;dc_lat=;dc_rdid=;tag_for_child_directed_treatment=;tfua=;npa=;gdpr=${GDPR};gdpr_consent=${GDPR_CONSENT_755};ord=2273824703831.2754?\" width=\"1\" height=\"1\" alt=\"\">\\n<noscript></noscript></div><iframe src=\"//analytics.ad.daum.net/match?d=104&amp;uid=_%7C_%7C23b55cb207c0224c63cd2a611813ba96b212ef9\" width=\"0\" height=\"0\"></iframe>\\n<script type=\"text/javascript\" id=\"\">ma.config(\"client_id\",\"WA-1011\");ma.config(\"isCookie\",!0);ma.init();</script><img src=\"https://altg.widerplanet.com/delivery/moleculeid?dest=https%3A%2F%2Fwan.kbdmp.com%2Fcookiesync%3Fnid%3Dtg360%26uid%3D%7BOAID%7D\" style=\"display:none;\"><iframe src=\"https://pixel.mathtag.com/sync/iframe?mt_uuid=894a629e-a43a-4600-9073-b6ecac117954&amp;no_iframe=1&amp;mt_adid=245729&amp;source=mathtag\" id=\"mm_sync_back_ground\" title=\"MediaMath Advertising\" style=\"visibility: hidden; display: none;\"></iframe></body></html>'"
      ]
     },
     "execution_count": 8,
     "metadata": {},
     "output_type": "execute_result"
    }
   ],
   "source": [
    "# html 소스 로딩 \n",
    "driver.page_source"
   ]
  },
  {
   "cell_type": "code",
   "execution_count": 89,
   "id": "35395d3d",
   "metadata": {},
   "outputs": [],
   "source": [
    "# carSeq 가져오는 함수 \n",
    "\n",
    "def get_car_seq(url): \n",
    "    \n",
    "    driver.get(url)\n",
    "    driver.page_source\n",
    "    time.sleep(5) # 로딩할 시간 줘서 오류 방지 \n",
    "    \n",
    "    # scrape class = 'area '\n",
    "    area_list = driver.find_elements_by_class_name(\"area \") \n",
    " \n",
    "    # get attribute 'data-car-seq'\n",
    "    for area in area_list :\n",
    "        attr = area.get_attribute(\"data-car-seq\") \n",
    "        attr_list.append(attr)\n",
    "\n",
    "    # None 값 삭제 \n",
    "    attr_list.count(None)\n",
    "    for i in range(attr_list.count(None)) :\n",
    "        attr_list.remove(None)"
   ]
  },
  {
   "cell_type": "code",
   "execution_count": 90,
   "id": "f5305b2e",
   "metadata": {
    "collapsed": true
   },
   "outputs": [
    {
     "ename": "MaxRetryError",
     "evalue": "HTTPConnectionPool(host='127.0.0.1', port=52880): Max retries exceeded with url: /session/45df90492927ce2dc6986b1287f0e1a8/url (Caused by NewConnectionError('<urllib3.connection.HTTPConnection object at 0x7fa47a6e8a90>: Failed to establish a new connection: [Errno 61] Connection refused'))",
     "output_type": "error",
     "traceback": [
      "\u001b[0;31m---------------------------------------------------------------------------\u001b[0m",
      "\u001b[0;31mConnectionRefusedError\u001b[0m                    Traceback (most recent call last)",
      "File \u001b[0;32m~/opt/anaconda3/envs/RBase/lib/python3.8/site-packages/urllib3/connection.py:174\u001b[0m, in \u001b[0;36mHTTPConnection._new_conn\u001b[0;34m(self)\u001b[0m\n\u001b[1;32m    173\u001b[0m \u001b[38;5;28;01mtry\u001b[39;00m:\n\u001b[0;32m--> 174\u001b[0m     conn \u001b[38;5;241m=\u001b[39m \u001b[43mconnection\u001b[49m\u001b[38;5;241;43m.\u001b[39;49m\u001b[43mcreate_connection\u001b[49m\u001b[43m(\u001b[49m\n\u001b[1;32m    175\u001b[0m \u001b[43m        \u001b[49m\u001b[43m(\u001b[49m\u001b[38;5;28;43mself\u001b[39;49m\u001b[38;5;241;43m.\u001b[39;49m\u001b[43m_dns_host\u001b[49m\u001b[43m,\u001b[49m\u001b[43m \u001b[49m\u001b[38;5;28;43mself\u001b[39;49m\u001b[38;5;241;43m.\u001b[39;49m\u001b[43mport\u001b[49m\u001b[43m)\u001b[49m\u001b[43m,\u001b[49m\u001b[43m \u001b[49m\u001b[38;5;28;43mself\u001b[39;49m\u001b[38;5;241;43m.\u001b[39;49m\u001b[43mtimeout\u001b[49m\u001b[43m,\u001b[49m\u001b[43m \u001b[49m\u001b[38;5;241;43m*\u001b[39;49m\u001b[38;5;241;43m*\u001b[39;49m\u001b[43mextra_kw\u001b[49m\n\u001b[1;32m    176\u001b[0m \u001b[43m    \u001b[49m\u001b[43m)\u001b[49m\n\u001b[1;32m    178\u001b[0m \u001b[38;5;28;01mexcept\u001b[39;00m SocketTimeout:\n",
      "File \u001b[0;32m~/opt/anaconda3/envs/RBase/lib/python3.8/site-packages/urllib3/util/connection.py:95\u001b[0m, in \u001b[0;36mcreate_connection\u001b[0;34m(address, timeout, source_address, socket_options)\u001b[0m\n\u001b[1;32m     94\u001b[0m \u001b[38;5;28;01mif\u001b[39;00m err \u001b[38;5;129;01mis\u001b[39;00m \u001b[38;5;129;01mnot\u001b[39;00m \u001b[38;5;28;01mNone\u001b[39;00m:\n\u001b[0;32m---> 95\u001b[0m     \u001b[38;5;28;01mraise\u001b[39;00m err\n\u001b[1;32m     97\u001b[0m \u001b[38;5;28;01mraise\u001b[39;00m socket\u001b[38;5;241m.\u001b[39merror(\u001b[38;5;124m\"\u001b[39m\u001b[38;5;124mgetaddrinfo returns an empty list\u001b[39m\u001b[38;5;124m\"\u001b[39m)\n",
      "File \u001b[0;32m~/opt/anaconda3/envs/RBase/lib/python3.8/site-packages/urllib3/util/connection.py:85\u001b[0m, in \u001b[0;36mcreate_connection\u001b[0;34m(address, timeout, source_address, socket_options)\u001b[0m\n\u001b[1;32m     84\u001b[0m     sock\u001b[38;5;241m.\u001b[39mbind(source_address)\n\u001b[0;32m---> 85\u001b[0m \u001b[43msock\u001b[49m\u001b[38;5;241;43m.\u001b[39;49m\u001b[43mconnect\u001b[49m\u001b[43m(\u001b[49m\u001b[43msa\u001b[49m\u001b[43m)\u001b[49m\n\u001b[1;32m     86\u001b[0m \u001b[38;5;28;01mreturn\u001b[39;00m sock\n",
      "\u001b[0;31mConnectionRefusedError\u001b[0m: [Errno 61] Connection refused",
      "\nDuring handling of the above exception, another exception occurred:\n",
      "\u001b[0;31mNewConnectionError\u001b[0m                        Traceback (most recent call last)",
      "File \u001b[0;32m~/opt/anaconda3/envs/RBase/lib/python3.8/site-packages/urllib3/connectionpool.py:703\u001b[0m, in \u001b[0;36mHTTPConnectionPool.urlopen\u001b[0;34m(self, method, url, body, headers, retries, redirect, assert_same_host, timeout, pool_timeout, release_conn, chunked, body_pos, **response_kw)\u001b[0m\n\u001b[1;32m    702\u001b[0m \u001b[38;5;66;03m# Make the request on the httplib connection object.\u001b[39;00m\n\u001b[0;32m--> 703\u001b[0m httplib_response \u001b[38;5;241m=\u001b[39m \u001b[38;5;28;43mself\u001b[39;49m\u001b[38;5;241;43m.\u001b[39;49m\u001b[43m_make_request\u001b[49m\u001b[43m(\u001b[49m\n\u001b[1;32m    704\u001b[0m \u001b[43m    \u001b[49m\u001b[43mconn\u001b[49m\u001b[43m,\u001b[49m\n\u001b[1;32m    705\u001b[0m \u001b[43m    \u001b[49m\u001b[43mmethod\u001b[49m\u001b[43m,\u001b[49m\n\u001b[1;32m    706\u001b[0m \u001b[43m    \u001b[49m\u001b[43murl\u001b[49m\u001b[43m,\u001b[49m\n\u001b[1;32m    707\u001b[0m \u001b[43m    \u001b[49m\u001b[43mtimeout\u001b[49m\u001b[38;5;241;43m=\u001b[39;49m\u001b[43mtimeout_obj\u001b[49m\u001b[43m,\u001b[49m\n\u001b[1;32m    708\u001b[0m \u001b[43m    \u001b[49m\u001b[43mbody\u001b[49m\u001b[38;5;241;43m=\u001b[39;49m\u001b[43mbody\u001b[49m\u001b[43m,\u001b[49m\n\u001b[1;32m    709\u001b[0m \u001b[43m    \u001b[49m\u001b[43mheaders\u001b[49m\u001b[38;5;241;43m=\u001b[39;49m\u001b[43mheaders\u001b[49m\u001b[43m,\u001b[49m\n\u001b[1;32m    710\u001b[0m \u001b[43m    \u001b[49m\u001b[43mchunked\u001b[49m\u001b[38;5;241;43m=\u001b[39;49m\u001b[43mchunked\u001b[49m\u001b[43m,\u001b[49m\n\u001b[1;32m    711\u001b[0m \u001b[43m\u001b[49m\u001b[43m)\u001b[49m\n\u001b[1;32m    713\u001b[0m \u001b[38;5;66;03m# If we're going to release the connection in ``finally:``, then\u001b[39;00m\n\u001b[1;32m    714\u001b[0m \u001b[38;5;66;03m# the response doesn't need to know about the connection. Otherwise\u001b[39;00m\n\u001b[1;32m    715\u001b[0m \u001b[38;5;66;03m# it will also try to release it and we'll have a double-release\u001b[39;00m\n\u001b[1;32m    716\u001b[0m \u001b[38;5;66;03m# mess.\u001b[39;00m\n",
      "File \u001b[0;32m~/opt/anaconda3/envs/RBase/lib/python3.8/site-packages/urllib3/connectionpool.py:398\u001b[0m, in \u001b[0;36mHTTPConnectionPool._make_request\u001b[0;34m(self, conn, method, url, timeout, chunked, **httplib_request_kw)\u001b[0m\n\u001b[1;32m    397\u001b[0m     \u001b[38;5;28;01melse\u001b[39;00m:\n\u001b[0;32m--> 398\u001b[0m         \u001b[43mconn\u001b[49m\u001b[38;5;241;43m.\u001b[39;49m\u001b[43mrequest\u001b[49m\u001b[43m(\u001b[49m\u001b[43mmethod\u001b[49m\u001b[43m,\u001b[49m\u001b[43m \u001b[49m\u001b[43murl\u001b[49m\u001b[43m,\u001b[49m\u001b[43m \u001b[49m\u001b[38;5;241;43m*\u001b[39;49m\u001b[38;5;241;43m*\u001b[39;49m\u001b[43mhttplib_request_kw\u001b[49m\u001b[43m)\u001b[49m\n\u001b[1;32m    400\u001b[0m \u001b[38;5;66;03m# We are swallowing BrokenPipeError (errno.EPIPE) since the server is\u001b[39;00m\n\u001b[1;32m    401\u001b[0m \u001b[38;5;66;03m# legitimately able to close the connection after sending a valid response.\u001b[39;00m\n\u001b[1;32m    402\u001b[0m \u001b[38;5;66;03m# With this behaviour, the received response is still readable.\u001b[39;00m\n",
      "File \u001b[0;32m~/opt/anaconda3/envs/RBase/lib/python3.8/site-packages/urllib3/connection.py:239\u001b[0m, in \u001b[0;36mHTTPConnection.request\u001b[0;34m(self, method, url, body, headers)\u001b[0m\n\u001b[1;32m    238\u001b[0m     headers[\u001b[38;5;124m\"\u001b[39m\u001b[38;5;124mUser-Agent\u001b[39m\u001b[38;5;124m\"\u001b[39m] \u001b[38;5;241m=\u001b[39m _get_default_user_agent()\n\u001b[0;32m--> 239\u001b[0m \u001b[38;5;28;43msuper\u001b[39;49m\u001b[43m(\u001b[49m\u001b[43mHTTPConnection\u001b[49m\u001b[43m,\u001b[49m\u001b[43m \u001b[49m\u001b[38;5;28;43mself\u001b[39;49m\u001b[43m)\u001b[49m\u001b[38;5;241;43m.\u001b[39;49m\u001b[43mrequest\u001b[49m\u001b[43m(\u001b[49m\u001b[43mmethod\u001b[49m\u001b[43m,\u001b[49m\u001b[43m \u001b[49m\u001b[43murl\u001b[49m\u001b[43m,\u001b[49m\u001b[43m \u001b[49m\u001b[43mbody\u001b[49m\u001b[38;5;241;43m=\u001b[39;49m\u001b[43mbody\u001b[49m\u001b[43m,\u001b[49m\u001b[43m \u001b[49m\u001b[43mheaders\u001b[49m\u001b[38;5;241;43m=\u001b[39;49m\u001b[43mheaders\u001b[49m\u001b[43m)\u001b[49m\n",
      "File \u001b[0;32m~/opt/anaconda3/envs/RBase/lib/python3.8/http/client.py:1230\u001b[0m, in \u001b[0;36mHTTPConnection.request\u001b[0;34m(self, method, url, body, headers, encode_chunked)\u001b[0m\n\u001b[1;32m   1229\u001b[0m \u001b[38;5;124;03m\"\"\"Send a complete request to the server.\"\"\"\u001b[39;00m\n\u001b[0;32m-> 1230\u001b[0m \u001b[38;5;28;43mself\u001b[39;49m\u001b[38;5;241;43m.\u001b[39;49m\u001b[43m_send_request\u001b[49m\u001b[43m(\u001b[49m\u001b[43mmethod\u001b[49m\u001b[43m,\u001b[49m\u001b[43m \u001b[49m\u001b[43murl\u001b[49m\u001b[43m,\u001b[49m\u001b[43m \u001b[49m\u001b[43mbody\u001b[49m\u001b[43m,\u001b[49m\u001b[43m \u001b[49m\u001b[43mheaders\u001b[49m\u001b[43m,\u001b[49m\u001b[43m \u001b[49m\u001b[43mencode_chunked\u001b[49m\u001b[43m)\u001b[49m\n",
      "File \u001b[0;32m~/opt/anaconda3/envs/RBase/lib/python3.8/http/client.py:1276\u001b[0m, in \u001b[0;36mHTTPConnection._send_request\u001b[0;34m(self, method, url, body, headers, encode_chunked)\u001b[0m\n\u001b[1;32m   1275\u001b[0m     body \u001b[38;5;241m=\u001b[39m _encode(body, \u001b[38;5;124m'\u001b[39m\u001b[38;5;124mbody\u001b[39m\u001b[38;5;124m'\u001b[39m)\n\u001b[0;32m-> 1276\u001b[0m \u001b[38;5;28;43mself\u001b[39;49m\u001b[38;5;241;43m.\u001b[39;49m\u001b[43mendheaders\u001b[49m\u001b[43m(\u001b[49m\u001b[43mbody\u001b[49m\u001b[43m,\u001b[49m\u001b[43m \u001b[49m\u001b[43mencode_chunked\u001b[49m\u001b[38;5;241;43m=\u001b[39;49m\u001b[43mencode_chunked\u001b[49m\u001b[43m)\u001b[49m\n",
      "File \u001b[0;32m~/opt/anaconda3/envs/RBase/lib/python3.8/http/client.py:1225\u001b[0m, in \u001b[0;36mHTTPConnection.endheaders\u001b[0;34m(self, message_body, encode_chunked)\u001b[0m\n\u001b[1;32m   1224\u001b[0m     \u001b[38;5;28;01mraise\u001b[39;00m CannotSendHeader()\n\u001b[0;32m-> 1225\u001b[0m \u001b[38;5;28;43mself\u001b[39;49m\u001b[38;5;241;43m.\u001b[39;49m\u001b[43m_send_output\u001b[49m\u001b[43m(\u001b[49m\u001b[43mmessage_body\u001b[49m\u001b[43m,\u001b[49m\u001b[43m \u001b[49m\u001b[43mencode_chunked\u001b[49m\u001b[38;5;241;43m=\u001b[39;49m\u001b[43mencode_chunked\u001b[49m\u001b[43m)\u001b[49m\n",
      "File \u001b[0;32m~/opt/anaconda3/envs/RBase/lib/python3.8/http/client.py:1004\u001b[0m, in \u001b[0;36mHTTPConnection._send_output\u001b[0;34m(self, message_body, encode_chunked)\u001b[0m\n\u001b[1;32m   1003\u001b[0m \u001b[38;5;28;01mdel\u001b[39;00m \u001b[38;5;28mself\u001b[39m\u001b[38;5;241m.\u001b[39m_buffer[:]\n\u001b[0;32m-> 1004\u001b[0m \u001b[38;5;28;43mself\u001b[39;49m\u001b[38;5;241;43m.\u001b[39;49m\u001b[43msend\u001b[49m\u001b[43m(\u001b[49m\u001b[43mmsg\u001b[49m\u001b[43m)\u001b[49m\n\u001b[1;32m   1006\u001b[0m \u001b[38;5;28;01mif\u001b[39;00m message_body \u001b[38;5;129;01mis\u001b[39;00m \u001b[38;5;129;01mnot\u001b[39;00m \u001b[38;5;28;01mNone\u001b[39;00m:\n\u001b[1;32m   1007\u001b[0m \n\u001b[1;32m   1008\u001b[0m     \u001b[38;5;66;03m# create a consistent interface to message_body\u001b[39;00m\n",
      "File \u001b[0;32m~/opt/anaconda3/envs/RBase/lib/python3.8/http/client.py:944\u001b[0m, in \u001b[0;36mHTTPConnection.send\u001b[0;34m(self, data)\u001b[0m\n\u001b[1;32m    943\u001b[0m \u001b[38;5;28;01mif\u001b[39;00m \u001b[38;5;28mself\u001b[39m\u001b[38;5;241m.\u001b[39mauto_open:\n\u001b[0;32m--> 944\u001b[0m     \u001b[38;5;28;43mself\u001b[39;49m\u001b[38;5;241;43m.\u001b[39;49m\u001b[43mconnect\u001b[49m\u001b[43m(\u001b[49m\u001b[43m)\u001b[49m\n\u001b[1;32m    945\u001b[0m \u001b[38;5;28;01melse\u001b[39;00m:\n",
      "File \u001b[0;32m~/opt/anaconda3/envs/RBase/lib/python3.8/site-packages/urllib3/connection.py:205\u001b[0m, in \u001b[0;36mHTTPConnection.connect\u001b[0;34m(self)\u001b[0m\n\u001b[1;32m    204\u001b[0m \u001b[38;5;28;01mdef\u001b[39;00m \u001b[38;5;21mconnect\u001b[39m(\u001b[38;5;28mself\u001b[39m):\n\u001b[0;32m--> 205\u001b[0m     conn \u001b[38;5;241m=\u001b[39m \u001b[38;5;28;43mself\u001b[39;49m\u001b[38;5;241;43m.\u001b[39;49m\u001b[43m_new_conn\u001b[49m\u001b[43m(\u001b[49m\u001b[43m)\u001b[49m\n\u001b[1;32m    206\u001b[0m     \u001b[38;5;28mself\u001b[39m\u001b[38;5;241m.\u001b[39m_prepare_conn(conn)\n",
      "File \u001b[0;32m~/opt/anaconda3/envs/RBase/lib/python3.8/site-packages/urllib3/connection.py:186\u001b[0m, in \u001b[0;36mHTTPConnection._new_conn\u001b[0;34m(self)\u001b[0m\n\u001b[1;32m    185\u001b[0m \u001b[38;5;28;01mexcept\u001b[39;00m SocketError \u001b[38;5;28;01mas\u001b[39;00m e:\n\u001b[0;32m--> 186\u001b[0m     \u001b[38;5;28;01mraise\u001b[39;00m NewConnectionError(\n\u001b[1;32m    187\u001b[0m         \u001b[38;5;28mself\u001b[39m, \u001b[38;5;124m\"\u001b[39m\u001b[38;5;124mFailed to establish a new connection: \u001b[39m\u001b[38;5;132;01m%s\u001b[39;00m\u001b[38;5;124m\"\u001b[39m \u001b[38;5;241m%\u001b[39m e\n\u001b[1;32m    188\u001b[0m     )\n\u001b[1;32m    190\u001b[0m \u001b[38;5;28;01mreturn\u001b[39;00m conn\n",
      "\u001b[0;31mNewConnectionError\u001b[0m: <urllib3.connection.HTTPConnection object at 0x7fa47a6e8a90>: Failed to establish a new connection: [Errno 61] Connection refused",
      "\nDuring handling of the above exception, another exception occurred:\n",
      "\u001b[0;31mMaxRetryError\u001b[0m                             Traceback (most recent call last)",
      "Input \u001b[0;32mIn [90]\u001b[0m, in \u001b[0;36m<cell line: 6>\u001b[0;34m()\u001b[0m\n\u001b[1;32m      6\u001b[0m \u001b[38;5;28;01mfor\u001b[39;00m pageNum \u001b[38;5;129;01min\u001b[39;00m \u001b[38;5;28mrange\u001b[39m(\u001b[38;5;241m1\u001b[39m,\u001b[38;5;241m4\u001b[39m):\n\u001b[1;32m      7\u001b[0m     url \u001b[38;5;241m=\u001b[39m \u001b[38;5;124m\"\u001b[39m\u001b[38;5;124mhttps://www.kbchachacha.com/public/search/main.kbc#!?countryOrder=1&page=\u001b[39m\u001b[38;5;124m\"\u001b[39m \u001b[38;5;241m+\u001b[39m\u001b[38;5;28mstr\u001b[39m(pageNum) \u001b[38;5;241m+\u001b[39m \u001b[38;5;124m\"\u001b[39m\u001b[38;5;124m&sort=-orderDate\u001b[39m\u001b[38;5;124m\"\u001b[39m\n\u001b[0;32m----> 8\u001b[0m     \u001b[43mget_car_seq\u001b[49m\u001b[43m(\u001b[49m\u001b[43murl\u001b[49m\u001b[43m)\u001b[49m\n",
      "Input \u001b[0;32mIn [89]\u001b[0m, in \u001b[0;36mget_car_seq\u001b[0;34m(url)\u001b[0m\n\u001b[1;32m      3\u001b[0m \u001b[38;5;28;01mdef\u001b[39;00m \u001b[38;5;21mget_car_seq\u001b[39m(url): \n\u001b[0;32m----> 5\u001b[0m     \u001b[43mdriver\u001b[49m\u001b[38;5;241;43m.\u001b[39;49m\u001b[43mget\u001b[49m\u001b[43m(\u001b[49m\u001b[43murl\u001b[49m\u001b[43m)\u001b[49m\n\u001b[1;32m      6\u001b[0m     driver\u001b[38;5;241m.\u001b[39mpage_source\n\u001b[1;32m      7\u001b[0m     time\u001b[38;5;241m.\u001b[39msleep(\u001b[38;5;241m5\u001b[39m) \u001b[38;5;66;03m# 로딩할 시간 줘서 오류 방지 \u001b[39;00m\n",
      "File \u001b[0;32m~/opt/anaconda3/envs/RBase/lib/python3.8/site-packages/selenium/webdriver/remote/webdriver.py:333\u001b[0m, in \u001b[0;36mWebDriver.get\u001b[0;34m(self, url)\u001b[0m\n\u001b[1;32m    329\u001b[0m \u001b[38;5;28;01mdef\u001b[39;00m \u001b[38;5;21mget\u001b[39m(\u001b[38;5;28mself\u001b[39m, url):\n\u001b[1;32m    330\u001b[0m     \u001b[38;5;124;03m\"\"\"\u001b[39;00m\n\u001b[1;32m    331\u001b[0m \u001b[38;5;124;03m    Loads a web page in the current browser session.\u001b[39;00m\n\u001b[1;32m    332\u001b[0m \u001b[38;5;124;03m    \"\"\"\u001b[39;00m\n\u001b[0;32m--> 333\u001b[0m     \u001b[38;5;28;43mself\u001b[39;49m\u001b[38;5;241;43m.\u001b[39;49m\u001b[43mexecute\u001b[49m\u001b[43m(\u001b[49m\u001b[43mCommand\u001b[49m\u001b[38;5;241;43m.\u001b[39;49m\u001b[43mGET\u001b[49m\u001b[43m,\u001b[49m\u001b[43m \u001b[49m\u001b[43m{\u001b[49m\u001b[38;5;124;43m'\u001b[39;49m\u001b[38;5;124;43murl\u001b[39;49m\u001b[38;5;124;43m'\u001b[39;49m\u001b[43m:\u001b[49m\u001b[43m \u001b[49m\u001b[43murl\u001b[49m\u001b[43m}\u001b[49m\u001b[43m)\u001b[49m\n",
      "File \u001b[0;32m~/opt/anaconda3/envs/RBase/lib/python3.8/site-packages/selenium/webdriver/remote/webdriver.py:319\u001b[0m, in \u001b[0;36mWebDriver.execute\u001b[0;34m(self, driver_command, params)\u001b[0m\n\u001b[1;32m    316\u001b[0m         params[\u001b[38;5;124m'\u001b[39m\u001b[38;5;124msessionId\u001b[39m\u001b[38;5;124m'\u001b[39m] \u001b[38;5;241m=\u001b[39m \u001b[38;5;28mself\u001b[39m\u001b[38;5;241m.\u001b[39msession_id\n\u001b[1;32m    318\u001b[0m params \u001b[38;5;241m=\u001b[39m \u001b[38;5;28mself\u001b[39m\u001b[38;5;241m.\u001b[39m_wrap_value(params)\n\u001b[0;32m--> 319\u001b[0m response \u001b[38;5;241m=\u001b[39m \u001b[38;5;28;43mself\u001b[39;49m\u001b[38;5;241;43m.\u001b[39;49m\u001b[43mcommand_executor\u001b[49m\u001b[38;5;241;43m.\u001b[39;49m\u001b[43mexecute\u001b[49m\u001b[43m(\u001b[49m\u001b[43mdriver_command\u001b[49m\u001b[43m,\u001b[49m\u001b[43m \u001b[49m\u001b[43mparams\u001b[49m\u001b[43m)\u001b[49m\n\u001b[1;32m    320\u001b[0m \u001b[38;5;28;01mif\u001b[39;00m response:\n\u001b[1;32m    321\u001b[0m     \u001b[38;5;28mself\u001b[39m\u001b[38;5;241m.\u001b[39merror_handler\u001b[38;5;241m.\u001b[39mcheck_response(response)\n",
      "File \u001b[0;32m~/opt/anaconda3/envs/RBase/lib/python3.8/site-packages/selenium/webdriver/remote/remote_connection.py:374\u001b[0m, in \u001b[0;36mRemoteConnection.execute\u001b[0;34m(self, command, params)\u001b[0m\n\u001b[1;32m    372\u001b[0m data \u001b[38;5;241m=\u001b[39m utils\u001b[38;5;241m.\u001b[39mdump_json(params)\n\u001b[1;32m    373\u001b[0m url \u001b[38;5;241m=\u001b[39m \u001b[38;5;124m'\u001b[39m\u001b[38;5;132;01m%s\u001b[39;00m\u001b[38;5;132;01m%s\u001b[39;00m\u001b[38;5;124m'\u001b[39m \u001b[38;5;241m%\u001b[39m (\u001b[38;5;28mself\u001b[39m\u001b[38;5;241m.\u001b[39m_url, path)\n\u001b[0;32m--> 374\u001b[0m \u001b[38;5;28;01mreturn\u001b[39;00m \u001b[38;5;28;43mself\u001b[39;49m\u001b[38;5;241;43m.\u001b[39;49m\u001b[43m_request\u001b[49m\u001b[43m(\u001b[49m\u001b[43mcommand_info\u001b[49m\u001b[43m[\u001b[49m\u001b[38;5;241;43m0\u001b[39;49m\u001b[43m]\u001b[49m\u001b[43m,\u001b[49m\u001b[43m \u001b[49m\u001b[43murl\u001b[49m\u001b[43m,\u001b[49m\u001b[43m \u001b[49m\u001b[43mbody\u001b[49m\u001b[38;5;241;43m=\u001b[39;49m\u001b[43mdata\u001b[49m\u001b[43m)\u001b[49m\n",
      "File \u001b[0;32m~/opt/anaconda3/envs/RBase/lib/python3.8/site-packages/selenium/webdriver/remote/remote_connection.py:397\u001b[0m, in \u001b[0;36mRemoteConnection._request\u001b[0;34m(self, method, url, body)\u001b[0m\n\u001b[1;32m    394\u001b[0m     body \u001b[38;5;241m=\u001b[39m \u001b[38;5;28;01mNone\u001b[39;00m\n\u001b[1;32m    396\u001b[0m \u001b[38;5;28;01mif\u001b[39;00m \u001b[38;5;28mself\u001b[39m\u001b[38;5;241m.\u001b[39mkeep_alive:\n\u001b[0;32m--> 397\u001b[0m     resp \u001b[38;5;241m=\u001b[39m \u001b[38;5;28;43mself\u001b[39;49m\u001b[38;5;241;43m.\u001b[39;49m\u001b[43m_conn\u001b[49m\u001b[38;5;241;43m.\u001b[39;49m\u001b[43mrequest\u001b[49m\u001b[43m(\u001b[49m\u001b[43mmethod\u001b[49m\u001b[43m,\u001b[49m\u001b[43m \u001b[49m\u001b[43murl\u001b[49m\u001b[43m,\u001b[49m\u001b[43m \u001b[49m\u001b[43mbody\u001b[49m\u001b[38;5;241;43m=\u001b[39;49m\u001b[43mbody\u001b[49m\u001b[43m,\u001b[49m\u001b[43m \u001b[49m\u001b[43mheaders\u001b[49m\u001b[38;5;241;43m=\u001b[39;49m\u001b[43mheaders\u001b[49m\u001b[43m)\u001b[49m\n\u001b[1;32m    399\u001b[0m     statuscode \u001b[38;5;241m=\u001b[39m resp\u001b[38;5;241m.\u001b[39mstatus\n\u001b[1;32m    400\u001b[0m \u001b[38;5;28;01melse\u001b[39;00m:\n",
      "File \u001b[0;32m~/opt/anaconda3/envs/RBase/lib/python3.8/site-packages/urllib3/request.py:78\u001b[0m, in \u001b[0;36mRequestMethods.request\u001b[0;34m(self, method, url, fields, headers, **urlopen_kw)\u001b[0m\n\u001b[1;32m     74\u001b[0m     \u001b[38;5;28;01mreturn\u001b[39;00m \u001b[38;5;28mself\u001b[39m\u001b[38;5;241m.\u001b[39mrequest_encode_url(\n\u001b[1;32m     75\u001b[0m         method, url, fields\u001b[38;5;241m=\u001b[39mfields, headers\u001b[38;5;241m=\u001b[39mheaders, \u001b[38;5;241m*\u001b[39m\u001b[38;5;241m*\u001b[39murlopen_kw\n\u001b[1;32m     76\u001b[0m     )\n\u001b[1;32m     77\u001b[0m \u001b[38;5;28;01melse\u001b[39;00m:\n\u001b[0;32m---> 78\u001b[0m     \u001b[38;5;28;01mreturn\u001b[39;00m \u001b[38;5;28;43mself\u001b[39;49m\u001b[38;5;241;43m.\u001b[39;49m\u001b[43mrequest_encode_body\u001b[49m\u001b[43m(\u001b[49m\n\u001b[1;32m     79\u001b[0m \u001b[43m        \u001b[49m\u001b[43mmethod\u001b[49m\u001b[43m,\u001b[49m\u001b[43m \u001b[49m\u001b[43murl\u001b[49m\u001b[43m,\u001b[49m\u001b[43m \u001b[49m\u001b[43mfields\u001b[49m\u001b[38;5;241;43m=\u001b[39;49m\u001b[43mfields\u001b[49m\u001b[43m,\u001b[49m\u001b[43m \u001b[49m\u001b[43mheaders\u001b[49m\u001b[38;5;241;43m=\u001b[39;49m\u001b[43mheaders\u001b[49m\u001b[43m,\u001b[49m\u001b[43m \u001b[49m\u001b[38;5;241;43m*\u001b[39;49m\u001b[38;5;241;43m*\u001b[39;49m\u001b[43murlopen_kw\u001b[49m\n\u001b[1;32m     80\u001b[0m \u001b[43m    \u001b[49m\u001b[43m)\u001b[49m\n",
      "File \u001b[0;32m~/opt/anaconda3/envs/RBase/lib/python3.8/site-packages/urllib3/request.py:170\u001b[0m, in \u001b[0;36mRequestMethods.request_encode_body\u001b[0;34m(self, method, url, fields, headers, encode_multipart, multipart_boundary, **urlopen_kw)\u001b[0m\n\u001b[1;32m    167\u001b[0m extra_kw[\u001b[38;5;124m\"\u001b[39m\u001b[38;5;124mheaders\u001b[39m\u001b[38;5;124m\"\u001b[39m]\u001b[38;5;241m.\u001b[39mupdate(headers)\n\u001b[1;32m    168\u001b[0m extra_kw\u001b[38;5;241m.\u001b[39mupdate(urlopen_kw)\n\u001b[0;32m--> 170\u001b[0m \u001b[38;5;28;01mreturn\u001b[39;00m \u001b[38;5;28;43mself\u001b[39;49m\u001b[38;5;241;43m.\u001b[39;49m\u001b[43murlopen\u001b[49m\u001b[43m(\u001b[49m\u001b[43mmethod\u001b[49m\u001b[43m,\u001b[49m\u001b[43m \u001b[49m\u001b[43murl\u001b[49m\u001b[43m,\u001b[49m\u001b[43m \u001b[49m\u001b[38;5;241;43m*\u001b[39;49m\u001b[38;5;241;43m*\u001b[39;49m\u001b[43mextra_kw\u001b[49m\u001b[43m)\u001b[49m\n",
      "File \u001b[0;32m~/opt/anaconda3/envs/RBase/lib/python3.8/site-packages/urllib3/poolmanager.py:376\u001b[0m, in \u001b[0;36mPoolManager.urlopen\u001b[0;34m(self, method, url, redirect, **kw)\u001b[0m\n\u001b[1;32m    374\u001b[0m     response \u001b[38;5;241m=\u001b[39m conn\u001b[38;5;241m.\u001b[39murlopen(method, url, \u001b[38;5;241m*\u001b[39m\u001b[38;5;241m*\u001b[39mkw)\n\u001b[1;32m    375\u001b[0m \u001b[38;5;28;01melse\u001b[39;00m:\n\u001b[0;32m--> 376\u001b[0m     response \u001b[38;5;241m=\u001b[39m \u001b[43mconn\u001b[49m\u001b[38;5;241;43m.\u001b[39;49m\u001b[43murlopen\u001b[49m\u001b[43m(\u001b[49m\u001b[43mmethod\u001b[49m\u001b[43m,\u001b[49m\u001b[43m \u001b[49m\u001b[43mu\u001b[49m\u001b[38;5;241;43m.\u001b[39;49m\u001b[43mrequest_uri\u001b[49m\u001b[43m,\u001b[49m\u001b[43m \u001b[49m\u001b[38;5;241;43m*\u001b[39;49m\u001b[38;5;241;43m*\u001b[39;49m\u001b[43mkw\u001b[49m\u001b[43m)\u001b[49m\n\u001b[1;32m    378\u001b[0m redirect_location \u001b[38;5;241m=\u001b[39m redirect \u001b[38;5;129;01mand\u001b[39;00m response\u001b[38;5;241m.\u001b[39mget_redirect_location()\n\u001b[1;32m    379\u001b[0m \u001b[38;5;28;01mif\u001b[39;00m \u001b[38;5;129;01mnot\u001b[39;00m redirect_location:\n",
      "File \u001b[0;32m~/opt/anaconda3/envs/RBase/lib/python3.8/site-packages/urllib3/connectionpool.py:813\u001b[0m, in \u001b[0;36mHTTPConnectionPool.urlopen\u001b[0;34m(self, method, url, body, headers, retries, redirect, assert_same_host, timeout, pool_timeout, release_conn, chunked, body_pos, **response_kw)\u001b[0m\n\u001b[1;32m    808\u001b[0m \u001b[38;5;28;01mif\u001b[39;00m \u001b[38;5;129;01mnot\u001b[39;00m conn:\n\u001b[1;32m    809\u001b[0m     \u001b[38;5;66;03m# Try again\u001b[39;00m\n\u001b[1;32m    810\u001b[0m     log\u001b[38;5;241m.\u001b[39mwarning(\n\u001b[1;32m    811\u001b[0m         \u001b[38;5;124m\"\u001b[39m\u001b[38;5;124mRetrying (\u001b[39m\u001b[38;5;132;01m%r\u001b[39;00m\u001b[38;5;124m) after connection broken by \u001b[39m\u001b[38;5;124m'\u001b[39m\u001b[38;5;132;01m%r\u001b[39;00m\u001b[38;5;124m'\u001b[39m\u001b[38;5;124m: \u001b[39m\u001b[38;5;132;01m%s\u001b[39;00m\u001b[38;5;124m\"\u001b[39m, retries, err, url\n\u001b[1;32m    812\u001b[0m     )\n\u001b[0;32m--> 813\u001b[0m     \u001b[38;5;28;01mreturn\u001b[39;00m \u001b[38;5;28;43mself\u001b[39;49m\u001b[38;5;241;43m.\u001b[39;49m\u001b[43murlopen\u001b[49m\u001b[43m(\u001b[49m\n\u001b[1;32m    814\u001b[0m \u001b[43m        \u001b[49m\u001b[43mmethod\u001b[49m\u001b[43m,\u001b[49m\n\u001b[1;32m    815\u001b[0m \u001b[43m        \u001b[49m\u001b[43murl\u001b[49m\u001b[43m,\u001b[49m\n\u001b[1;32m    816\u001b[0m \u001b[43m        \u001b[49m\u001b[43mbody\u001b[49m\u001b[43m,\u001b[49m\n\u001b[1;32m    817\u001b[0m \u001b[43m        \u001b[49m\u001b[43mheaders\u001b[49m\u001b[43m,\u001b[49m\n\u001b[1;32m    818\u001b[0m \u001b[43m        \u001b[49m\u001b[43mretries\u001b[49m\u001b[43m,\u001b[49m\n\u001b[1;32m    819\u001b[0m \u001b[43m        \u001b[49m\u001b[43mredirect\u001b[49m\u001b[43m,\u001b[49m\n\u001b[1;32m    820\u001b[0m \u001b[43m        \u001b[49m\u001b[43massert_same_host\u001b[49m\u001b[43m,\u001b[49m\n\u001b[1;32m    821\u001b[0m \u001b[43m        \u001b[49m\u001b[43mtimeout\u001b[49m\u001b[38;5;241;43m=\u001b[39;49m\u001b[43mtimeout\u001b[49m\u001b[43m,\u001b[49m\n\u001b[1;32m    822\u001b[0m \u001b[43m        \u001b[49m\u001b[43mpool_timeout\u001b[49m\u001b[38;5;241;43m=\u001b[39;49m\u001b[43mpool_timeout\u001b[49m\u001b[43m,\u001b[49m\n\u001b[1;32m    823\u001b[0m \u001b[43m        \u001b[49m\u001b[43mrelease_conn\u001b[49m\u001b[38;5;241;43m=\u001b[39;49m\u001b[43mrelease_conn\u001b[49m\u001b[43m,\u001b[49m\n\u001b[1;32m    824\u001b[0m \u001b[43m        \u001b[49m\u001b[43mchunked\u001b[49m\u001b[38;5;241;43m=\u001b[39;49m\u001b[43mchunked\u001b[49m\u001b[43m,\u001b[49m\n\u001b[1;32m    825\u001b[0m \u001b[43m        \u001b[49m\u001b[43mbody_pos\u001b[49m\u001b[38;5;241;43m=\u001b[39;49m\u001b[43mbody_pos\u001b[49m\u001b[43m,\u001b[49m\n\u001b[1;32m    826\u001b[0m \u001b[43m        \u001b[49m\u001b[38;5;241;43m*\u001b[39;49m\u001b[38;5;241;43m*\u001b[39;49m\u001b[43mresponse_kw\u001b[49m\n\u001b[1;32m    827\u001b[0m \u001b[43m    \u001b[49m\u001b[43m)\u001b[49m\n\u001b[1;32m    829\u001b[0m \u001b[38;5;66;03m# Handle redirect?\u001b[39;00m\n\u001b[1;32m    830\u001b[0m redirect_location \u001b[38;5;241m=\u001b[39m redirect \u001b[38;5;129;01mand\u001b[39;00m response\u001b[38;5;241m.\u001b[39mget_redirect_location()\n",
      "File \u001b[0;32m~/opt/anaconda3/envs/RBase/lib/python3.8/site-packages/urllib3/connectionpool.py:813\u001b[0m, in \u001b[0;36mHTTPConnectionPool.urlopen\u001b[0;34m(self, method, url, body, headers, retries, redirect, assert_same_host, timeout, pool_timeout, release_conn, chunked, body_pos, **response_kw)\u001b[0m\n\u001b[1;32m    808\u001b[0m \u001b[38;5;28;01mif\u001b[39;00m \u001b[38;5;129;01mnot\u001b[39;00m conn:\n\u001b[1;32m    809\u001b[0m     \u001b[38;5;66;03m# Try again\u001b[39;00m\n\u001b[1;32m    810\u001b[0m     log\u001b[38;5;241m.\u001b[39mwarning(\n\u001b[1;32m    811\u001b[0m         \u001b[38;5;124m\"\u001b[39m\u001b[38;5;124mRetrying (\u001b[39m\u001b[38;5;132;01m%r\u001b[39;00m\u001b[38;5;124m) after connection broken by \u001b[39m\u001b[38;5;124m'\u001b[39m\u001b[38;5;132;01m%r\u001b[39;00m\u001b[38;5;124m'\u001b[39m\u001b[38;5;124m: \u001b[39m\u001b[38;5;132;01m%s\u001b[39;00m\u001b[38;5;124m\"\u001b[39m, retries, err, url\n\u001b[1;32m    812\u001b[0m     )\n\u001b[0;32m--> 813\u001b[0m     \u001b[38;5;28;01mreturn\u001b[39;00m \u001b[38;5;28;43mself\u001b[39;49m\u001b[38;5;241;43m.\u001b[39;49m\u001b[43murlopen\u001b[49m\u001b[43m(\u001b[49m\n\u001b[1;32m    814\u001b[0m \u001b[43m        \u001b[49m\u001b[43mmethod\u001b[49m\u001b[43m,\u001b[49m\n\u001b[1;32m    815\u001b[0m \u001b[43m        \u001b[49m\u001b[43murl\u001b[49m\u001b[43m,\u001b[49m\n\u001b[1;32m    816\u001b[0m \u001b[43m        \u001b[49m\u001b[43mbody\u001b[49m\u001b[43m,\u001b[49m\n\u001b[1;32m    817\u001b[0m \u001b[43m        \u001b[49m\u001b[43mheaders\u001b[49m\u001b[43m,\u001b[49m\n\u001b[1;32m    818\u001b[0m \u001b[43m        \u001b[49m\u001b[43mretries\u001b[49m\u001b[43m,\u001b[49m\n\u001b[1;32m    819\u001b[0m \u001b[43m        \u001b[49m\u001b[43mredirect\u001b[49m\u001b[43m,\u001b[49m\n\u001b[1;32m    820\u001b[0m \u001b[43m        \u001b[49m\u001b[43massert_same_host\u001b[49m\u001b[43m,\u001b[49m\n\u001b[1;32m    821\u001b[0m \u001b[43m        \u001b[49m\u001b[43mtimeout\u001b[49m\u001b[38;5;241;43m=\u001b[39;49m\u001b[43mtimeout\u001b[49m\u001b[43m,\u001b[49m\n\u001b[1;32m    822\u001b[0m \u001b[43m        \u001b[49m\u001b[43mpool_timeout\u001b[49m\u001b[38;5;241;43m=\u001b[39;49m\u001b[43mpool_timeout\u001b[49m\u001b[43m,\u001b[49m\n\u001b[1;32m    823\u001b[0m \u001b[43m        \u001b[49m\u001b[43mrelease_conn\u001b[49m\u001b[38;5;241;43m=\u001b[39;49m\u001b[43mrelease_conn\u001b[49m\u001b[43m,\u001b[49m\n\u001b[1;32m    824\u001b[0m \u001b[43m        \u001b[49m\u001b[43mchunked\u001b[49m\u001b[38;5;241;43m=\u001b[39;49m\u001b[43mchunked\u001b[49m\u001b[43m,\u001b[49m\n\u001b[1;32m    825\u001b[0m \u001b[43m        \u001b[49m\u001b[43mbody_pos\u001b[49m\u001b[38;5;241;43m=\u001b[39;49m\u001b[43mbody_pos\u001b[49m\u001b[43m,\u001b[49m\n\u001b[1;32m    826\u001b[0m \u001b[43m        \u001b[49m\u001b[38;5;241;43m*\u001b[39;49m\u001b[38;5;241;43m*\u001b[39;49m\u001b[43mresponse_kw\u001b[49m\n\u001b[1;32m    827\u001b[0m \u001b[43m    \u001b[49m\u001b[43m)\u001b[49m\n\u001b[1;32m    829\u001b[0m \u001b[38;5;66;03m# Handle redirect?\u001b[39;00m\n\u001b[1;32m    830\u001b[0m redirect_location \u001b[38;5;241m=\u001b[39m redirect \u001b[38;5;129;01mand\u001b[39;00m response\u001b[38;5;241m.\u001b[39mget_redirect_location()\n",
      "File \u001b[0;32m~/opt/anaconda3/envs/RBase/lib/python3.8/site-packages/urllib3/connectionpool.py:813\u001b[0m, in \u001b[0;36mHTTPConnectionPool.urlopen\u001b[0;34m(self, method, url, body, headers, retries, redirect, assert_same_host, timeout, pool_timeout, release_conn, chunked, body_pos, **response_kw)\u001b[0m\n\u001b[1;32m    808\u001b[0m \u001b[38;5;28;01mif\u001b[39;00m \u001b[38;5;129;01mnot\u001b[39;00m conn:\n\u001b[1;32m    809\u001b[0m     \u001b[38;5;66;03m# Try again\u001b[39;00m\n\u001b[1;32m    810\u001b[0m     log\u001b[38;5;241m.\u001b[39mwarning(\n\u001b[1;32m    811\u001b[0m         \u001b[38;5;124m\"\u001b[39m\u001b[38;5;124mRetrying (\u001b[39m\u001b[38;5;132;01m%r\u001b[39;00m\u001b[38;5;124m) after connection broken by \u001b[39m\u001b[38;5;124m'\u001b[39m\u001b[38;5;132;01m%r\u001b[39;00m\u001b[38;5;124m'\u001b[39m\u001b[38;5;124m: \u001b[39m\u001b[38;5;132;01m%s\u001b[39;00m\u001b[38;5;124m\"\u001b[39m, retries, err, url\n\u001b[1;32m    812\u001b[0m     )\n\u001b[0;32m--> 813\u001b[0m     \u001b[38;5;28;01mreturn\u001b[39;00m \u001b[38;5;28;43mself\u001b[39;49m\u001b[38;5;241;43m.\u001b[39;49m\u001b[43murlopen\u001b[49m\u001b[43m(\u001b[49m\n\u001b[1;32m    814\u001b[0m \u001b[43m        \u001b[49m\u001b[43mmethod\u001b[49m\u001b[43m,\u001b[49m\n\u001b[1;32m    815\u001b[0m \u001b[43m        \u001b[49m\u001b[43murl\u001b[49m\u001b[43m,\u001b[49m\n\u001b[1;32m    816\u001b[0m \u001b[43m        \u001b[49m\u001b[43mbody\u001b[49m\u001b[43m,\u001b[49m\n\u001b[1;32m    817\u001b[0m \u001b[43m        \u001b[49m\u001b[43mheaders\u001b[49m\u001b[43m,\u001b[49m\n\u001b[1;32m    818\u001b[0m \u001b[43m        \u001b[49m\u001b[43mretries\u001b[49m\u001b[43m,\u001b[49m\n\u001b[1;32m    819\u001b[0m \u001b[43m        \u001b[49m\u001b[43mredirect\u001b[49m\u001b[43m,\u001b[49m\n\u001b[1;32m    820\u001b[0m \u001b[43m        \u001b[49m\u001b[43massert_same_host\u001b[49m\u001b[43m,\u001b[49m\n\u001b[1;32m    821\u001b[0m \u001b[43m        \u001b[49m\u001b[43mtimeout\u001b[49m\u001b[38;5;241;43m=\u001b[39;49m\u001b[43mtimeout\u001b[49m\u001b[43m,\u001b[49m\n\u001b[1;32m    822\u001b[0m \u001b[43m        \u001b[49m\u001b[43mpool_timeout\u001b[49m\u001b[38;5;241;43m=\u001b[39;49m\u001b[43mpool_timeout\u001b[49m\u001b[43m,\u001b[49m\n\u001b[1;32m    823\u001b[0m \u001b[43m        \u001b[49m\u001b[43mrelease_conn\u001b[49m\u001b[38;5;241;43m=\u001b[39;49m\u001b[43mrelease_conn\u001b[49m\u001b[43m,\u001b[49m\n\u001b[1;32m    824\u001b[0m \u001b[43m        \u001b[49m\u001b[43mchunked\u001b[49m\u001b[38;5;241;43m=\u001b[39;49m\u001b[43mchunked\u001b[49m\u001b[43m,\u001b[49m\n\u001b[1;32m    825\u001b[0m \u001b[43m        \u001b[49m\u001b[43mbody_pos\u001b[49m\u001b[38;5;241;43m=\u001b[39;49m\u001b[43mbody_pos\u001b[49m\u001b[43m,\u001b[49m\n\u001b[1;32m    826\u001b[0m \u001b[43m        \u001b[49m\u001b[38;5;241;43m*\u001b[39;49m\u001b[38;5;241;43m*\u001b[39;49m\u001b[43mresponse_kw\u001b[49m\n\u001b[1;32m    827\u001b[0m \u001b[43m    \u001b[49m\u001b[43m)\u001b[49m\n\u001b[1;32m    829\u001b[0m \u001b[38;5;66;03m# Handle redirect?\u001b[39;00m\n\u001b[1;32m    830\u001b[0m redirect_location \u001b[38;5;241m=\u001b[39m redirect \u001b[38;5;129;01mand\u001b[39;00m response\u001b[38;5;241m.\u001b[39mget_redirect_location()\n",
      "File \u001b[0;32m~/opt/anaconda3/envs/RBase/lib/python3.8/site-packages/urllib3/connectionpool.py:785\u001b[0m, in \u001b[0;36mHTTPConnectionPool.urlopen\u001b[0;34m(self, method, url, body, headers, retries, redirect, assert_same_host, timeout, pool_timeout, release_conn, chunked, body_pos, **response_kw)\u001b[0m\n\u001b[1;32m    782\u001b[0m \u001b[38;5;28;01melif\u001b[39;00m \u001b[38;5;28misinstance\u001b[39m(e, (SocketError, HTTPException)):\n\u001b[1;32m    783\u001b[0m     e \u001b[38;5;241m=\u001b[39m ProtocolError(\u001b[38;5;124m\"\u001b[39m\u001b[38;5;124mConnection aborted.\u001b[39m\u001b[38;5;124m\"\u001b[39m, e)\n\u001b[0;32m--> 785\u001b[0m retries \u001b[38;5;241m=\u001b[39m \u001b[43mretries\u001b[49m\u001b[38;5;241;43m.\u001b[39;49m\u001b[43mincrement\u001b[49m\u001b[43m(\u001b[49m\n\u001b[1;32m    786\u001b[0m \u001b[43m    \u001b[49m\u001b[43mmethod\u001b[49m\u001b[43m,\u001b[49m\u001b[43m \u001b[49m\u001b[43murl\u001b[49m\u001b[43m,\u001b[49m\u001b[43m \u001b[49m\u001b[43merror\u001b[49m\u001b[38;5;241;43m=\u001b[39;49m\u001b[43me\u001b[49m\u001b[43m,\u001b[49m\u001b[43m \u001b[49m\u001b[43m_pool\u001b[49m\u001b[38;5;241;43m=\u001b[39;49m\u001b[38;5;28;43mself\u001b[39;49m\u001b[43m,\u001b[49m\u001b[43m \u001b[49m\u001b[43m_stacktrace\u001b[49m\u001b[38;5;241;43m=\u001b[39;49m\u001b[43msys\u001b[49m\u001b[38;5;241;43m.\u001b[39;49m\u001b[43mexc_info\u001b[49m\u001b[43m(\u001b[49m\u001b[43m)\u001b[49m\u001b[43m[\u001b[49m\u001b[38;5;241;43m2\u001b[39;49m\u001b[43m]\u001b[49m\n\u001b[1;32m    787\u001b[0m \u001b[43m\u001b[49m\u001b[43m)\u001b[49m\n\u001b[1;32m    788\u001b[0m retries\u001b[38;5;241m.\u001b[39msleep()\n\u001b[1;32m    790\u001b[0m \u001b[38;5;66;03m# Keep track of the error for the retry warning.\u001b[39;00m\n",
      "File \u001b[0;32m~/opt/anaconda3/envs/RBase/lib/python3.8/site-packages/urllib3/util/retry.py:592\u001b[0m, in \u001b[0;36mRetry.increment\u001b[0;34m(self, method, url, response, error, _pool, _stacktrace)\u001b[0m\n\u001b[1;32m    581\u001b[0m new_retry \u001b[38;5;241m=\u001b[39m \u001b[38;5;28mself\u001b[39m\u001b[38;5;241m.\u001b[39mnew(\n\u001b[1;32m    582\u001b[0m     total\u001b[38;5;241m=\u001b[39mtotal,\n\u001b[1;32m    583\u001b[0m     connect\u001b[38;5;241m=\u001b[39mconnect,\n\u001b[0;32m   (...)\u001b[0m\n\u001b[1;32m    588\u001b[0m     history\u001b[38;5;241m=\u001b[39mhistory,\n\u001b[1;32m    589\u001b[0m )\n\u001b[1;32m    591\u001b[0m \u001b[38;5;28;01mif\u001b[39;00m new_retry\u001b[38;5;241m.\u001b[39mis_exhausted():\n\u001b[0;32m--> 592\u001b[0m     \u001b[38;5;28;01mraise\u001b[39;00m MaxRetryError(_pool, url, error \u001b[38;5;129;01mor\u001b[39;00m ResponseError(cause))\n\u001b[1;32m    594\u001b[0m log\u001b[38;5;241m.\u001b[39mdebug(\u001b[38;5;124m\"\u001b[39m\u001b[38;5;124mIncremented Retry for (url=\u001b[39m\u001b[38;5;124m'\u001b[39m\u001b[38;5;132;01m%s\u001b[39;00m\u001b[38;5;124m'\u001b[39m\u001b[38;5;124m): \u001b[39m\u001b[38;5;132;01m%r\u001b[39;00m\u001b[38;5;124m\"\u001b[39m, url, new_retry)\n\u001b[1;32m    596\u001b[0m \u001b[38;5;28;01mreturn\u001b[39;00m new_retry\n",
      "\u001b[0;31mMaxRetryError\u001b[0m: HTTPConnectionPool(host='127.0.0.1', port=52880): Max retries exceeded with url: /session/45df90492927ce2dc6986b1287f0e1a8/url (Caused by NewConnectionError('<urllib3.connection.HTTPConnection object at 0x7fa47a6e8a90>: Failed to establish a new connection: [Errno 61] Connection refused'))"
     ]
    }
   ],
   "source": [
    "# 페이지 넘기며 carseq 가져오기 \n",
    "attr_list = []\n",
    "attr_list_domestic = attr_list #함수에서 attr_list 쓰기 때문에 다른 리스트 만들어서 따로 넣어줌  \n",
    "\n",
    "# -- 국산차 500페이지\n",
    "for pageNum in range(1,4):\n",
    "    url = \"https://www.kbchachacha.com/public/search/main.kbc#!?countryOrder=1&page=\" +str(pageNum) + \"&sort=-orderDate\"\n",
    "    get_car_seq(url)\n",
    "    "
   ]
  },
  {
   "cell_type": "code",
   "execution_count": null,
   "id": "34aa86ef",
   "metadata": {},
   "outputs": [],
   "source": [
    "# 길이 확인 (한 페이지 당 30개)\n",
    "len(attr_list_domestic)\n",
    "\n",
    "# 리스트 요소 반환해 확인 \n",
    "# for i in attr_list_domestic :\n",
    "#     print(i)"
   ]
  },
  {
   "cell_type": "code",
   "execution_count": null,
   "id": "830f6f79",
   "metadata": {},
   "outputs": [],
   "source": [
    "# -- 수입차 1-3페이지 \n",
    "\n",
    "attr_list = []\n",
    "attr_list_imported = attr_list\n",
    "for pageNum in range(1,4):\n",
    "    url = \"https://www.kbchachacha.com/public/search/main.kbc#!?countryOrder=2&page=\" +str(pageNum) + \"&sort=-orderDate\"\n",
    "    get_car_seq(url)"
   ]
  },
  {
   "cell_type": "code",
   "execution_count": 108,
   "id": "11403730",
   "metadata": {},
   "outputs": [],
   "source": [
    "# 확인 \n",
    "len(attr_list_imported)\n",
    "for i in attr_list_imported :\n",
    "    print(i)"
   ]
  },
  {
   "cell_type": "markdown",
   "id": "a4d4f67b",
   "metadata": {},
   "source": [
    "## carId 국산 500, 수입 500 페이지 carSeq 크롤링 "
   ]
  },
  {
   "cell_type": "code",
   "execution_count": null,
   "id": "f18ad79c",
   "metadata": {},
   "outputs": [],
   "source": [
    "# 실제로 뽑아오기 "
   ]
  },
  {
   "cell_type": "code",
   "execution_count": 22,
   "id": "7ad8c212",
   "metadata": {},
   "outputs": [],
   "source": [
    "# 국산차 1-500페이지\n",
    "attr_list = []\n",
    "attr_list_domestic = attr_list\n",
    "for pageNum in range(1,501):\n",
    "    url = \"https://www.kbchachacha.com/public/search/main.kbc#!?countryOrder=1&page=\" +str(pageNum) + \"&sort=-orderDate\"\n",
    "    get_car_seq(url)"
   ]
  },
  {
   "cell_type": "code",
   "execution_count": 30,
   "id": "d74358c2",
   "metadata": {},
   "outputs": [
    {
     "data": {
      "text/plain": [
       "15000"
      ]
     },
     "execution_count": 30,
     "metadata": {},
     "output_type": "execute_result"
    }
   ],
   "source": [
    "len(attr_list_domestic)"
   ]
  },
  {
   "cell_type": "code",
   "execution_count": 24,
   "id": "949e4b34",
   "metadata": {},
   "outputs": [],
   "source": [
    "# 수입차 1-500페이지 \n",
    "\n",
    "attr_list = []\n",
    "attr_list_imported = attr_list\n",
    "for pageNum in range(1,501):\n",
    "    url = \"https://www.kbchachacha.com/public/search/main.kbc#!?countryOrder=2&page=\" +str(pageNum) + \"&sort=-orderDate\"\n",
    "    get_car_seq(url)"
   ]
  },
  {
   "cell_type": "code",
   "execution_count": 29,
   "id": "e2e24cec",
   "metadata": {},
   "outputs": [
    {
     "data": {
      "text/plain": [
       "15000"
      ]
     },
     "execution_count": 29,
     "metadata": {},
     "output_type": "execute_result"
    }
   ],
   "source": [
    "len(attr_list_imported)"
   ]
  },
  {
   "cell_type": "code",
   "execution_count": 26,
   "id": "1c894022",
   "metadata": {},
   "outputs": [
    {
     "data": {
      "text/plain": [
       "'23079946'"
      ]
     },
     "execution_count": 26,
     "metadata": {},
     "output_type": "execute_result"
    }
   ],
   "source": [
    "attr_list_domestic[3]"
   ]
  },
  {
   "cell_type": "code",
   "execution_count": 27,
   "id": "df7f5991",
   "metadata": {},
   "outputs": [
    {
     "data": {
      "text/plain": [
       "'22602478'"
      ]
     },
     "execution_count": 27,
     "metadata": {},
     "output_type": "execute_result"
    }
   ],
   "source": [
    "attr_list_imported[3]"
   ]
  },
  {
   "cell_type": "code",
   "execution_count": null,
   "id": "e80a06b3",
   "metadata": {},
   "outputs": [],
   "source": [
    "# 백업용 리스트 만듦 \n",
    "carid_imported = attr_list_imported\n",
    "carid_domestic = attr_list_domestic"
   ]
  },
  {
   "cell_type": "code",
   "execution_count": null,
   "id": "4890ae78",
   "metadata": {},
   "outputs": [],
   "source": [
    "# 분량 나누기 "
   ]
  },
  {
   "cell_type": "code",
   "execution_count": 62,
   "id": "67c7a984",
   "metadata": {},
   "outputs": [],
   "source": [
    "yejin = carid_domestic[0:6000]"
   ]
  },
  {
   "cell_type": "code",
   "execution_count": 63,
   "id": "0847ed60",
   "metadata": {},
   "outputs": [],
   "source": [
    "jiyeah = carid_domestic[6000:12000]"
   ]
  },
  {
   "cell_type": "code",
   "execution_count": 64,
   "id": "f3346365",
   "metadata": {},
   "outputs": [],
   "source": [
    "saerum1 = carid_domestic[12000:15000]"
   ]
  },
  {
   "cell_type": "code",
   "execution_count": 65,
   "id": "97effb1c",
   "metadata": {},
   "outputs": [],
   "source": [
    "saerum2 = carid_imported[0:3000]"
   ]
  },
  {
   "cell_type": "code",
   "execution_count": 66,
   "id": "2e5a990b",
   "metadata": {},
   "outputs": [],
   "source": [
    "chanjin = carid_imported[3000:9000]"
   ]
  },
  {
   "cell_type": "code",
   "execution_count": 67,
   "id": "36ecabda",
   "metadata": {},
   "outputs": [],
   "source": [
    "jinyoung = carid_imported[9000:15000]"
   ]
  },
  {
   "cell_type": "code",
   "execution_count": 96,
   "id": "65ba8b2b",
   "metadata": {},
   "outputs": [
    {
     "data": {
      "text/plain": [
       "6000"
      ]
     },
     "execution_count": 96,
     "metadata": {},
     "output_type": "execute_result"
    }
   ],
   "source": [
    "len(jinyoung)"
   ]
  },
  {
   "cell_type": "code",
   "execution_count": 100,
   "id": "f5fb28d8",
   "metadata": {},
   "outputs": [
    {
     "data": {
      "text/plain": [
       "'22811324'"
      ]
     },
     "execution_count": 100,
     "metadata": {},
     "output_type": "execute_result"
    }
   ],
   "source": [
    "jinyoung[5999]"
   ]
  },
  {
   "cell_type": "code",
   "execution_count": 99,
   "id": "068701ef",
   "metadata": {},
   "outputs": [
    {
     "data": {
      "text/plain": [
       "'22811324'"
      ]
     },
     "execution_count": 99,
     "metadata": {},
     "output_type": "execute_result"
    }
   ],
   "source": [
    "carid_imported[14999]"
   ]
  },
  {
   "cell_type": "code",
   "execution_count": 101,
   "id": "a253be16",
   "metadata": {
    "collapsed": true
   },
   "outputs": [
    {
     "data": {
      "text/plain": [
       "['22918819',\n",
       " '22728041',\n",
       " '23072498',\n",
       " '23079946',\n",
       " '22637228',\n",
       " '23072498',\n",
       " '23003773',\n",
       " '22975366',\n",
       " '23009635',\n",
       " '23099331',\n",
       " '20593721',\n",
       " '20635829',\n",
       " '21432508',\n",
       " '21613914',\n",
       " '21669231',\n",
       " '21703437',\n",
       " '21732256',\n",
       " '21774755',\n",
       " '21847306',\n",
       " '21850179',\n",
       " '21857843',\n",
       " '21865808',\n",
       " '21880763',\n",
       " '21957064',\n",
       " '21996979',\n",
       " '22033475',\n",
       " '22067525',\n",
       " '22070338',\n",
       " '22138736',\n",
       " '22166746',\n",
       " '23013566',\n",
       " '22991173',\n",
       " '22979810',\n",
       " '23064356',\n",
       " '22980764',\n",
       " '23087581',\n",
       " '23064356',\n",
       " '20229855',\n",
       " '23001861',\n",
       " '22008665',\n",
       " '22179008',\n",
       " '22197094',\n",
       " '22206345',\n",
       " '22272607',\n",
       " '22280765',\n",
       " '22288680',\n",
       " '22295327',\n",
       " '22302274',\n",
       " '22303542',\n",
       " '22308420',\n",
       " '22314302',\n",
       " '22324845',\n",
       " '22327741',\n",
       " '22333218',\n",
       " '22342980',\n",
       " '22345984',\n",
       " '22346568',\n",
       " '22355353',\n",
       " '22355797',\n",
       " '22360565',\n",
       " '22898088',\n",
       " '23061520',\n",
       " '22585936',\n",
       " '22979928',\n",
       " '22581893',\n",
       " '22770418',\n",
       " '22732690',\n",
       " '22397840',\n",
       " '23081970',\n",
       " '22994228',\n",
       " '22373779',\n",
       " '22388962',\n",
       " '22392463',\n",
       " '22401347',\n",
       " '22402452',\n",
       " '22406908',\n",
       " '22407311',\n",
       " '22411367',\n",
       " '22411370',\n",
       " '22420514',\n",
       " '22424633',\n",
       " '22424675',\n",
       " '22424782',\n",
       " '22424929',\n",
       " '22425045',\n",
       " '22429237',\n",
       " '22429517',\n",
       " '22429562',\n",
       " '22432352',\n",
       " '22432405',\n",
       " '23036797',\n",
       " '22779456',\n",
       " '22818171',\n",
       " '22951868',\n",
       " '22696814',\n",
       " '22992933',\n",
       " '22951868',\n",
       " '23113914',\n",
       " '23025229',\n",
       " '22121644',\n",
       " '22432488',\n",
       " '22434343',\n",
       " '22437270',\n",
       " '22444099',\n",
       " '22446204',\n",
       " '22454999',\n",
       " '22461662',\n",
       " '22463761',\n",
       " '22465928',\n",
       " '22475880',\n",
       " '22477697',\n",
       " '22479103',\n",
       " '22482644',\n",
       " '22490735',\n",
       " '22491042',\n",
       " '22493952',\n",
       " '22495801',\n",
       " '22497444',\n",
       " '22501237',\n",
       " '22504322',\n",
       " '23104783',\n",
       " '23041289',\n",
       " '23010173',\n",
       " '23022515',\n",
       " '22765580',\n",
       " '22660399',\n",
       " '22859763',\n",
       " '23106271',\n",
       " '23070938',\n",
       " '23093974',\n",
       " '22506043',\n",
       " '22511731',\n",
       " '22512777',\n",
       " '22512944',\n",
       " '22514278',\n",
       " '22517310',\n",
       " '22518593',\n",
       " '22518618',\n",
       " '22525371',\n",
       " '22526019',\n",
       " '22527107',\n",
       " '22527274',\n",
       " '22528053',\n",
       " '22528091',\n",
       " '22528587',\n",
       " '22528861',\n",
       " '22529848',\n",
       " '22533017',\n",
       " '22534302',\n",
       " '22535796',\n",
       " '22822167',\n",
       " '22913195',\n",
       " '22542494',\n",
       " '23069558',\n",
       " '23073178',\n",
       " '22949994',\n",
       " '22981903',\n",
       " '23061982',\n",
       " '22793839',\n",
       " '23023260',\n",
       " '22536370',\n",
       " '22538042',\n",
       " '22539347',\n",
       " '22540238',\n",
       " '22540775',\n",
       " '22541149',\n",
       " '22543319',\n",
       " '22548570',\n",
       " '22556485',\n",
       " '22558086',\n",
       " '22558481',\n",
       " '22558840',\n",
       " '22559638',\n",
       " '22560108',\n",
       " '22561627',\n",
       " '22561833',\n",
       " '22564059',\n",
       " '22566956',\n",
       " '22567156',\n",
       " '22567522',\n",
       " '23012237',\n",
       " '22913195',\n",
       " '22761695',\n",
       " '22992987',\n",
       " '22142249',\n",
       " '22928659',\n",
       " '23043326',\n",
       " '22742057',\n",
       " '21584353',\n",
       " '23009627',\n",
       " '22577965',\n",
       " '22578639',\n",
       " '22578763',\n",
       " '22579442',\n",
       " '22580563',\n",
       " '22584203',\n",
       " '22585122',\n",
       " '22586639',\n",
       " '22595006',\n",
       " '22596069',\n",
       " '22596962',\n",
       " '22598149',\n",
       " '22598476',\n",
       " '22598722',\n",
       " '22598966',\n",
       " '22600057',\n",
       " '22604795',\n",
       " '22606969',\n",
       " '22607078',\n",
       " '22607326',\n",
       " '23023916',\n",
       " '22852341',\n",
       " '23040988',\n",
       " '23045893',\n",
       " '22965258',\n",
       " '22688474',\n",
       " '22474632',\n",
       " '22973459',\n",
       " '22851564',\n",
       " '22966447',\n",
       " '22608960',\n",
       " '22615487',\n",
       " '22616167',\n",
       " '22616321',\n",
       " '22618333',\n",
       " '22620333',\n",
       " '22620898',\n",
       " '22621506',\n",
       " '22622730',\n",
       " '22623727',\n",
       " '22625698',\n",
       " '22626875',\n",
       " '22628274',\n",
       " '22628445',\n",
       " '22631896',\n",
       " '22632009',\n",
       " '22635827',\n",
       " '22637055',\n",
       " '22637059',\n",
       " '22637255',\n",
       " '23047813',\n",
       " '22754819',\n",
       " '22951868',\n",
       " '22782584',\n",
       " '22883264',\n",
       " '22827093',\n",
       " '23087892',\n",
       " '22903682',\n",
       " '22552275',\n",
       " '22918998',\n",
       " '22638491',\n",
       " '22639867',\n",
       " '22640549',\n",
       " '22642575',\n",
       " '22642578',\n",
       " '22645955',\n",
       " '22649366',\n",
       " '22651105',\n",
       " '22651625',\n",
       " '22654042',\n",
       " '22654065',\n",
       " '22656722',\n",
       " '22657184',\n",
       " '22657940',\n",
       " '22659017',\n",
       " '22660712',\n",
       " '22661713',\n",
       " '22665177',\n",
       " '22667470',\n",
       " '22669551',\n",
       " '23104531',\n",
       " '22948381',\n",
       " '22953526',\n",
       " '22740363',\n",
       " '22821907',\n",
       " '22901868',\n",
       " '22594290',\n",
       " '23024044',\n",
       " '23020015',\n",
       " '23084547',\n",
       " '22669654',\n",
       " '22669865',\n",
       " '22670908',\n",
       " '22672901',\n",
       " '22678649',\n",
       " '22679137',\n",
       " '22679275',\n",
       " '22680133',\n",
       " '22681406',\n",
       " '22684585',\n",
       " '22684673',\n",
       " '22684701',\n",
       " '22684723',\n",
       " '22684724',\n",
       " '22684726',\n",
       " '22684733',\n",
       " '22685350',\n",
       " '22686339',\n",
       " '22688461',\n",
       " '22688476',\n",
       " '23012769',\n",
       " '23037340',\n",
       " '23009636',\n",
       " '22779578',\n",
       " '22896382',\n",
       " '22928551',\n",
       " '23035112',\n",
       " '22881322',\n",
       " '22897519',\n",
       " '23105304',\n",
       " '22688747',\n",
       " '22688818',\n",
       " '22689659',\n",
       " '22690834',\n",
       " '22693556',\n",
       " '22694011',\n",
       " '22694735',\n",
       " '22696551',\n",
       " '22696838',\n",
       " '22697202',\n",
       " '22697219',\n",
       " '22698700',\n",
       " '22699269',\n",
       " '22699334',\n",
       " '22699469',\n",
       " '22702376',\n",
       " '22703517',\n",
       " '22704099',\n",
       " '22704660',\n",
       " '22704820',\n",
       " '23066778',\n",
       " '22991573',\n",
       " '23015172',\n",
       " '22990157',\n",
       " '22670348',\n",
       " '23051027',\n",
       " '23037364',\n",
       " '22779753',\n",
       " '22996025',\n",
       " '23086155',\n",
       " '22704988',\n",
       " '22705370',\n",
       " '22705411',\n",
       " '22709127',\n",
       " '22709171',\n",
       " '22709313',\n",
       " '22710197',\n",
       " '22710810',\n",
       " '22712480',\n",
       " '22712513',\n",
       " '22713553',\n",
       " '22714176',\n",
       " '22714875',\n",
       " '22718170',\n",
       " '22719630',\n",
       " '22722727',\n",
       " '22724445',\n",
       " '22724847',\n",
       " '22725867',\n",
       " '22726468',\n",
       " '22852341',\n",
       " '22779456',\n",
       " '23011414',\n",
       " '22959542',\n",
       " '22665737',\n",
       " '23039110',\n",
       " '22851782',\n",
       " '23084698',\n",
       " '23027637',\n",
       " '22782432',\n",
       " '22729892',\n",
       " '22734821',\n",
       " '22734913',\n",
       " '22735246',\n",
       " '22735452',\n",
       " '22736164',\n",
       " '22736680',\n",
       " '22736775',\n",
       " '22736988',\n",
       " '22738043',\n",
       " '22739549',\n",
       " '22740576',\n",
       " '22740621',\n",
       " '22741426',\n",
       " '22741815',\n",
       " '22742077',\n",
       " '22744579',\n",
       " '22744641',\n",
       " '22745370',\n",
       " '22745686',\n",
       " '22754819',\n",
       " '22948381',\n",
       " '22623727',\n",
       " '22751718',\n",
       " '22782168',\n",
       " '22607877',\n",
       " '22608230',\n",
       " '22878437',\n",
       " '23089658',\n",
       " '23050221',\n",
       " '22745864',\n",
       " '22746039',\n",
       " '22746243',\n",
       " '22746919',\n",
       " '22747007',\n",
       " '22747885',\n",
       " '22749653',\n",
       " '22750112',\n",
       " '22751263',\n",
       " '22751354',\n",
       " '22751752',\n",
       " '22751912',\n",
       " '22754077',\n",
       " '22755370',\n",
       " '22756130',\n",
       " '22756142',\n",
       " '23114036',\n",
       " '22756260',\n",
       " '22756472',\n",
       " '22757235',\n",
       " '23062707',\n",
       " '23102748',\n",
       " '22906909',\n",
       " '23080767',\n",
       " '22250333',\n",
       " '22607326',\n",
       " '22963813',\n",
       " '23069622',\n",
       " '23085428',\n",
       " '22886384',\n",
       " '22757972',\n",
       " '21699025',\n",
       " '22758589',\n",
       " '22760309',\n",
       " '21829667',\n",
       " '22762307',\n",
       " '22762843',\n",
       " '21956285',\n",
       " '22763009',\n",
       " '22763110',\n",
       " '21963631',\n",
       " '22130980',\n",
       " '22765135',\n",
       " '22181353',\n",
       " '22769514',\n",
       " '22769537',\n",
       " '22770328',\n",
       " '22344213',\n",
       " '22397450',\n",
       " '22770554',\n",
       " '22902050',\n",
       " '23007811',\n",
       " '23026127',\n",
       " '23003851',\n",
       " '22790290',\n",
       " '23026127',\n",
       " '23003851',\n",
       " '23041875',\n",
       " '22932929',\n",
       " '20686871',\n",
       " '22769514',\n",
       " '22769537',\n",
       " '22770328',\n",
       " '22344213',\n",
       " '22397450',\n",
       " '22770554',\n",
       " '22772355',\n",
       " '22413220',\n",
       " '22774752',\n",
       " '22420768',\n",
       " '22775409',\n",
       " '22777043',\n",
       " '22435720',\n",
       " '22779884',\n",
       " '22440401',\n",
       " '22780632',\n",
       " '22780973',\n",
       " '22466871',\n",
       " '22484143',\n",
       " '22781679',\n",
       " '23007811',\n",
       " '23102766',\n",
       " '22981673',\n",
       " '22869710',\n",
       " '23017326',\n",
       " '23096584',\n",
       " '22814829',\n",
       " '22906448',\n",
       " '23048206',\n",
       " '23074577',\n",
       " '22490593',\n",
       " '22781927',\n",
       " '22782347',\n",
       " '22991866',\n",
       " '22520176',\n",
       " '22549416',\n",
       " '22784135',\n",
       " '22563898',\n",
       " '23114031',\n",
       " '22568349',\n",
       " '22785391',\n",
       " '22598191',\n",
       " '22619735',\n",
       " '22789093',\n",
       " '22651183',\n",
       " '22789140',\n",
       " '22656309',\n",
       " '22789145',\n",
       " '22789150',\n",
       " '22684016',\n",
       " '23113707',\n",
       " '23036769',\n",
       " '22580055',\n",
       " '22553725',\n",
       " '22800289',\n",
       " '23014712',\n",
       " '22760176',\n",
       " '22849724',\n",
       " '23020045',\n",
       " '23093974',\n",
       " '22700735',\n",
       " '22789155',\n",
       " '22789162',\n",
       " '22789334',\n",
       " '22727401',\n",
       " '22789428',\n",
       " '22727556',\n",
       " '22740895',\n",
       " '22791896',\n",
       " '22746667',\n",
       " '22754042',\n",
       " '22794589',\n",
       " '22794708',\n",
       " '22795289',\n",
       " '22769860',\n",
       " '23052887',\n",
       " '22795607',\n",
       " '23046995',\n",
       " '22795647',\n",
       " '22776514',\n",
       " '23007525',\n",
       " '23036769',\n",
       " '22669995',\n",
       " '23038924',\n",
       " '22664007',\n",
       " '22523407',\n",
       " '23086071',\n",
       " '22184945',\n",
       " '22566195',\n",
       " '22973399',\n",
       " '22796056',\n",
       " '22777118',\n",
       " '22796064',\n",
       " '22781502',\n",
       " '23114030',\n",
       " '23034234',\n",
       " '22785848',\n",
       " '22796069',\n",
       " '22796261',\n",
       " '23021853',\n",
       " '22796070',\n",
       " '22796654',\n",
       " '22796109',\n",
       " '22981107',\n",
       " '22796669',\n",
       " '23068491',\n",
       " '22796593',\n",
       " '23021877',\n",
       " '22970679',\n",
       " '22812555',\n",
       " '23013566',\n",
       " '23037340',\n",
       " '22965290',\n",
       " '22886409',\n",
       " '22352252',\n",
       " '22594950',\n",
       " '22920665',\n",
       " '22959334',\n",
       " '23004565',\n",
       " '22707266',\n",
       " '22796741',\n",
       " '22950931',\n",
       " '22821745',\n",
       " '22492163',\n",
       " '23018392',\n",
       " '23064919',\n",
       " '22796966',\n",
       " '22797250',\n",
       " '22824546',\n",
       " '20692217',\n",
       " '22797267',\n",
       " '22838133',\n",
       " '22926241',\n",
       " '22798132',\n",
       " '23064918',\n",
       " '22798134',\n",
       " '22846091',\n",
       " '22913779',\n",
       " '22798136',\n",
       " '23052755',\n",
       " '22896288',\n",
       " '23036797',\n",
       " '23085715',\n",
       " '22557093',\n",
       " '22536308',\n",
       " '22694778',\n",
       " '23085715',\n",
       " '23088738',\n",
       " '22913435',\n",
       " '23032820',\n",
       " '22870330',\n",
       " '22904531',\n",
       " '22798699',\n",
       " '22877297',\n",
       " '22799409',\n",
       " '23048531',\n",
       " '22799413',\n",
       " '22884654',\n",
       " '22799457',\n",
       " '22799459',\n",
       " '22679461',\n",
       " '22889070',\n",
       " '22799758',\n",
       " '22892495',\n",
       " '22800114',\n",
       " '22909361',\n",
       " '22594161',\n",
       " '22801664',\n",
       " '22909574',\n",
       " '22910749',\n",
       " '23102926',\n",
       " '23016350',\n",
       " '22999492',\n",
       " '23055723',\n",
       " '22889696',\n",
       " '23027848',\n",
       " '22866930',\n",
       " '22979362',\n",
       " '22934312',\n",
       " '23060829',\n",
       " '22801673',\n",
       " '22911143',\n",
       " '22802127',\n",
       " '22919178',\n",
       " '22806493',\n",
       " '22923048',\n",
       " '22807049',\n",
       " '22925901',\n",
       " '22925960',\n",
       " '22807289',\n",
       " '22930802',\n",
       " '22932550',\n",
       " '22807474',\n",
       " '22945077',\n",
       " '22808068',\n",
       " '22949243',\n",
       " '23114024',\n",
       " '23109804',\n",
       " '22898494',\n",
       " '22954186',\n",
       " '22816337',\n",
       " '23095838',\n",
       " '22974444',\n",
       " '22690370',\n",
       " '22183336',\n",
       " '22877794',\n",
       " '23062285',\n",
       " '22981676',\n",
       " '23008944',\n",
       " '22872234',\n",
       " '22954259',\n",
       " '22898492',\n",
       " '23114023',\n",
       " '22958812',\n",
       " '22968614',\n",
       " '22824803',\n",
       " '22811188',\n",
       " '22811961',\n",
       " '22968951',\n",
       " '22971264',\n",
       " '23114022',\n",
       " '22812001',\n",
       " '20414715',\n",
       " '22757208',\n",
       " '22812611',\n",
       " '22976856',\n",
       " '22813236',\n",
       " '22977077',\n",
       " '21313951',\n",
       " '22815093',\n",
       " '23013566',\n",
       " '23016350',\n",
       " '23022801',\n",
       " '22985566',\n",
       " '22974444',\n",
       " '22954520',\n",
       " '23022801',\n",
       " '23037655',\n",
       " '22985566',\n",
       " '23082055',\n",
       " '22979960',\n",
       " '23097316',\n",
       " '23097279',\n",
       " '22165144',\n",
       " '22815857',\n",
       " '23002551',\n",
       " '22817108',\n",
       " '22227930',\n",
       " '23003158',\n",
       " '23007255',\n",
       " '23114020',\n",
       " '23114021',\n",
       " '22819514',\n",
       " '23007257',\n",
       " '23097189',\n",
       " '22364539',\n",
       " '23010995',\n",
       " '22364435',\n",
       " '22822460',\n",
       " '23097196',\n",
       " '23089307',\n",
       " '22904016',\n",
       " '23050052',\n",
       " '22863014',\n",
       " '23024526',\n",
       " '22897570',\n",
       " '22891376',\n",
       " '23006057',\n",
       " '22727018',\n",
       " '23036914',\n",
       " '22823225',\n",
       " '23012067',\n",
       " '22823546',\n",
       " '22823888',\n",
       " '22422234',\n",
       " '23097146',\n",
       " '23097135',\n",
       " '22824930',\n",
       " '23013644',\n",
       " '22456688',\n",
       " '22826073',\n",
       " '22547201',\n",
       " '23013934',\n",
       " '23097336',\n",
       " '22826549',\n",
       " '23097256',\n",
       " '23017099',\n",
       " '23091893',\n",
       " '23019422',\n",
       " '23114019',\n",
       " '23011229',\n",
       " '23085625',\n",
       " '23037647',\n",
       " '22856241',\n",
       " '22788530',\n",
       " '22672300',\n",
       " '22772355',\n",
       " '22954859',\n",
       " '22868607',\n",
       " '23100918',\n",
       " '22826556',\n",
       " '22572121',\n",
       " '23021697',\n",
       " '23081130',\n",
       " '22612271',\n",
       " '23023431',\n",
       " '23097088',\n",
       " '22624872',\n",
       " '22826672',\n",
       " '23081067',\n",
       " '22866490',\n",
       " '22826751',\n",
       " '23097323',\n",
       " '23066174',\n",
       " '22679817',\n",
       " '22998747',\n",
       " '22826949',\n",
       " '22827005',\n",
       " '23027663',\n",
       " '23097295',\n",
       " '23012237',\n",
       " '23095889',\n",
       " '23024694',\n",
       " '22879694',\n",
       " '22840051',\n",
       " '23080835',\n",
       " '23015530',\n",
       " '23023726',\n",
       " '23111032',\n",
       " '23048949',\n",
       " '22827741',\n",
       " '23097185',\n",
       " '23029061',\n",
       " '22745782',\n",
       " '22827762',\n",
       " '23045913',\n",
       " '23048401',\n",
       " '22991970',\n",
       " '23114018',\n",
       " '23097218',\n",
       " '22828086',\n",
       " '23053323',\n",
       " '23056977',\n",
       " '22829201',\n",
       " '23097111',\n",
       " '23062401',\n",
       " '22758902',\n",
       " '22768105',\n",
       " '23085855',\n",
       " '22829534',\n",
       " '22862183',\n",
       " '23036610',\n",
       " '22727011',\n",
       " '22855945',\n",
       " '22720700',\n",
       " '23053302',\n",
       " '22561457',\n",
       " '22987175',\n",
       " '22764211',\n",
       " '22917999',\n",
       " '23114017',\n",
       " '23097313',\n",
       " '23086691',\n",
       " '22829978',\n",
       " '23097233',\n",
       " '22810335',\n",
       " '22830034',\n",
       " '23086702',\n",
       " '23097580',\n",
       " '23114016',\n",
       " '22830053',\n",
       " '23086916',\n",
       " '23079940',\n",
       " '22857261',\n",
       " '23087473',\n",
       " '23097223',\n",
       " '23097127',\n",
       " '23089611',\n",
       " '22907419',\n",
       " '23088747',\n",
       " '22884912',\n",
       " '22764323',\n",
       " '22774272',\n",
       " '22835734',\n",
       " '22616539',\n",
       " '22826431',\n",
       " '22675193',\n",
       " '23020112',\n",
       " '23077824',\n",
       " '23043099',\n",
       " '23086702',\n",
       " '23097580',\n",
       " '23114016',\n",
       " '22830053',\n",
       " '23079940',\n",
       " '22857261',\n",
       " '23086916',\n",
       " '23087473',\n",
       " '23097223',\n",
       " '23097127',\n",
       " '23089611',\n",
       " '22907419',\n",
       " '23088747',\n",
       " '22830766',\n",
       " '23058252',\n",
       " '22907511',\n",
       " '23089391',\n",
       " '22830912',\n",
       " '23052549',\n",
       " '23089739',\n",
       " '23104420',\n",
       " '22973994',\n",
       " '22937689',\n",
       " '23001048',\n",
       " '22240089',\n",
       " '22937689',\n",
       " '22516165',\n",
       " '23001048',\n",
       " '23111072',\n",
       " '22773208',\n",
       " '23097127',\n",
       " '23089611',\n",
       " '22907419',\n",
       " '23088747',\n",
       " '22830766',\n",
       " '23058252',\n",
       " '22907511',\n",
       " '23089391',\n",
       " '22830912',\n",
       " '23089739',\n",
       " '23052549',\n",
       " '22833570',\n",
       " '23097119',\n",
       " '22877556',\n",
       " '23089869',\n",
       " '23114014',\n",
       " '22933898',\n",
       " '22834282',\n",
       " '22933534',\n",
       " '22834283',\n",
       " '23084437',\n",
       " '23102726',\n",
       " '23086319',\n",
       " '22362193',\n",
       " '23078795',\n",
       " '23104558',\n",
       " '22473936',\n",
       " '23105740',\n",
       " '23018273',\n",
       " '22807713',\n",
       " '22344525',\n",
       " '22937729',\n",
       " '22937707',\n",
       " '23114013',\n",
       " '22834399',\n",
       " '23091188',\n",
       " '22834506',\n",
       " '23097103',\n",
       " '23097187',\n",
       " '22834509',\n",
       " '23052548',\n",
       " '23094194',\n",
       " '23044187',\n",
       " '22835766',\n",
       " '23023211',\n",
       " '22836054',\n",
       " '23101076',\n",
       " '22836075',\n",
       " '23114008',\n",
       " '23101078',\n",
       " '22996044',\n",
       " '23104053',\n",
       " '22897012',\n",
       " '23112014',\n",
       " '23018467',\n",
       " '23094432',\n",
       " '23094359',\n",
       " '22883490',\n",
       " '23021936',\n",
       " '23079220',\n",
       " '22836145',\n",
       " '22993569',\n",
       " '22839011',\n",
       " '23005760',\n",
       " '22993408',\n",
       " '22984165',\n",
       " '22839409',\n",
       " '23114007',\n",
       " '23033872',\n",
       " '22984161',\n",
       " '23105451',\n",
       " '22839577',\n",
       " '23040124',\n",
       " '23114006',\n",
       " '23097116',\n",
       " '22839711',\n",
       " '23110498',\n",
       " '23097121',\n",
       " '23108556',\n",
       " '22839746',\n",
       " '22878752',\n",
       " '23102926',\n",
       " '22891331',\n",
       " '22984732',\n",
       " '22859302',\n",
       " '22607326',\n",
       " '22871463',\n",
       " '22841300',\n",
       " '23077018',\n",
       " '23038403',\n",
       " '23113800',\n",
       " '23041546',\n",
       " '22840309',\n",
       " '22840367',\n",
       " '23040004',\n",
       " '22820417',\n",
       " '22703056',\n",
       " '22840621',\n",
       " '23091716',\n",
       " '23073761',\n",
       " '22944406',\n",
       " '22840832',\n",
       " '23097228',\n",
       " '23097154',\n",
       " '23075116',\n",
       " '23073564',\n",
       " '22933970',\n",
       " '22840919',\n",
       " '22841207',\n",
       " '22978680',\n",
       " '22975045',\n",
       " '22996312',\n",
       " '22930141',\n",
       " '22976906',\n",
       " '22466170',\n",
       " '22882771',\n",
       " '22627827',\n",
       " '22959334',\n",
       " '23002270',\n",
       " '23086185',\n",
       " ...]"
      ]
     },
     "execution_count": 101,
     "metadata": {},
     "output_type": "execute_result"
    }
   ],
   "source": [
    "yejin"
   ]
  },
  {
   "cell_type": "markdown",
   "id": "20a81b7c",
   "metadata": {},
   "source": [
    "## 각자 carId 리스트 파일로 추출하기 "
   ]
  },
  {
   "cell_type": "code",
   "execution_count": 94,
   "id": "3781c8bc",
   "metadata": {},
   "outputs": [],
   "source": [
    "import csv "
   ]
  },
  {
   "cell_type": "code",
   "execution_count": 103,
   "id": "566059b6",
   "metadata": {},
   "outputs": [],
   "source": [
    "# 리스트 추출 \n",
    "with open('yejin.csv', 'w',newline='') as f: \n",
    "      \n",
    "    # using csv.writer method from CSV package \n",
    "    write = csv.writer(f) \n",
    "      \n",
    "    write.writerow(yejin) "
   ]
  },
  {
   "cell_type": "code",
   "execution_count": 119,
   "id": "9b823680",
   "metadata": {},
   "outputs": [],
   "source": [
    "# 지예 리스트 추출 \n",
    "  \n",
    "with open('jiyeah.csv', 'w',newline='') as f: \n",
    "      \n",
    "    # using csv.writer method from CSV package \n",
    "    write = csv.writer(f) \n",
    "      \n",
    "    write.writerow(jiyeah) \n",
    "    "
   ]
  },
  {
   "cell_type": "code",
   "execution_count": 120,
   "id": "bfb20f07",
   "metadata": {},
   "outputs": [],
   "source": [
    "# 새름이1 리스트 추출 \n",
    "  \n",
    "with open('saerum1.csv', 'w',newline='') as f: \n",
    "      \n",
    "    # using csv.writer method from CSV package \n",
    "    write = csv.writer(f) \n",
    "      \n",
    "    write.writerow(saerum1) \n",
    "    "
   ]
  },
  {
   "cell_type": "code",
   "execution_count": 121,
   "id": "a1e049f1",
   "metadata": {},
   "outputs": [],
   "source": [
    "# 새름이2 리스트 추출 \n",
    "  \n",
    "with open('saerum2.csv', 'w',newline='') as f: \n",
    "      \n",
    "    # using csv.writer method from CSV package \n",
    "    write = csv.writer(f) \n",
    "      \n",
    "    write.writerow(saerum2) \n",
    "    "
   ]
  },
  {
   "cell_type": "code",
   "execution_count": 122,
   "id": "87055a5e",
   "metadata": {},
   "outputs": [],
   "source": [
    "# 찬진이 리스트 추출 \n",
    "  \n",
    "with open('chanjin.csv', 'w',newline='') as f: \n",
    "      \n",
    "    # using csv.writer method from CSV package \n",
    "    write = csv.writer(f) \n",
    "      \n",
    "    write.writerow(chanjin) \n",
    "    "
   ]
  },
  {
   "cell_type": "code",
   "execution_count": 123,
   "id": "022660a2",
   "metadata": {},
   "outputs": [],
   "source": [
    "# 진영이 리스트 추출 \n",
    "  \n",
    "with open('jinyoung.csv', 'w',newline='') as f: \n",
    "      \n",
    "    # using csv.writer method from CSV package \n",
    "    write = csv.writer(f) \n",
    "      \n",
    "    write.writerow(jinyoung) \n",
    "    "
   ]
  },
  {
   "cell_type": "markdown",
   "id": "5cb51984",
   "metadata": {},
   "source": [
    "### csv -> list 로 읽어오기"
   ]
  },
  {
   "cell_type": "code",
   "execution_count": 95,
   "id": "9c1895de",
   "metadata": {},
   "outputs": [
    {
     "data": {
      "text/plain": [
       "<function TextIOWrapper.close()>"
      ]
     },
     "execution_count": 95,
     "metadata": {},
     "output_type": "execute_result"
    }
   ],
   "source": [
    "# 리스트 읽기 (yejin_list 예시) \n",
    "yejin_list = list()\n",
    "f = open(\"yejin.csv\",'r')\n",
    "rea = csv.reader(f)\n",
    "for row in rea:\n",
    "    yejin_list.append(row)\n",
    "f.close"
   ]
  },
  {
   "cell_type": "code",
   "execution_count": null,
   "id": "a50b86cc",
   "metadata": {},
   "outputs": [],
   "source": []
  },
  {
   "cell_type": "markdown",
   "id": "fa27d391",
   "metadata": {},
   "source": [
    "## 2. 자동차 상세 정보 크롤링 \n",
    "[columns]   \n",
    "- Id(차량아이디), Country(국산/수입) : Id는 carSeq 리스트 사용, Country는 직접 입력   \n",
    "- Name(차 이름), Price(가격-만원), Year(연식), Mile(주행거리-km), Fuel(연료), Loc(거래지역)\n",
    "- Gear(변속기), MPG(연비-km / '정보' = '정보없음'), Kind(차종), Power(배기량-cc), Color(색상)\n",
    "- **Opt1(옵션1), ...     \n",
    "- **세금미납, 얍류, 저당"
   ]
  },
  {
   "cell_type": "code",
   "execution_count": 127,
   "id": "d0356865",
   "metadata": {},
   "outputs": [],
   "source": [
    "# BeautifulSoup 사용 \n",
    "url = \"https://www.kbchachacha.com/public/car/detail.kbc?carSeq=23016465\" \n",
    "html = urlopen(url) # url 접근 \n",
    "bs_obj = BeautifulSoup(html, 'html.parser') # html 코드 파싱 \n",
    "#print(bs_obj)"
   ]
  },
  {
   "cell_type": "markdown",
   "id": "b07edeea",
   "metadata": {},
   "source": [
    "### 이름, 가격 추출 "
   ]
  },
  {
   "cell_type": "code",
   "execution_count": 62,
   "id": "35074683",
   "metadata": {},
   "outputs": [
    {
     "name": "stdout",
     "output_type": "stream",
     "text": [
      "<div class=\"car-buy-price\">\n",
      "<strong class=\"car-buy-name\">(140호2912)기아 셀토스<br/>1.6 디젤 2WD 트렌디</strong>\n",
      "<div>\n",
      "<dl>\n",
      "<dt>판매가격</dt>\n",
      "<dd>\n",
      "<strong>1,900만원</strong>\n",
      "</dd>\n",
      "</dl>\n",
      "<a class=\"car-mk-price\" id=\"btnCarMarketPrice1\">중고차시세</a>\n",
      "</div>\n",
      "</div>\n"
     ]
    }
   ],
   "source": [
    "buy_price = bs_obj.find(\"div\", {\"class\":\"car-buy-price\"})\n",
    "print(buy_price)"
   ]
  },
  {
   "cell_type": "code",
   "execution_count": 65,
   "id": "4bca5632",
   "metadata": {},
   "outputs": [
    {
     "name": "stdout",
     "output_type": "stream",
     "text": [
      "기아 셀토스1.6 디젤 2WD 트렌디\n"
     ]
    }
   ],
   "source": [
    "# Name \n",
    "name = bs_obj.find(\"strong\", {\"class\":\"car-buy-name\"}).text.split(\")\")[1]\n",
    "print(name)"
   ]
  },
  {
   "cell_type": "code",
   "execution_count": 68,
   "id": "00183bee",
   "metadata": {},
   "outputs": [
    {
     "name": "stdout",
     "output_type": "stream",
     "text": [
      "1,900\n"
     ]
    }
   ],
   "source": [
    "# Price \n",
    "price = bs_obj.find(\"div\", {\"class\":\"car-buy-price\"}).dd.text.strip()[:-2]\n",
    "print(price)"
   ]
  },
  {
   "cell_type": "markdown",
   "id": "f5adba33",
   "metadata": {},
   "source": [
    "### 연식, 주행거리, 연료, 거래지역 추출 "
   ]
  },
  {
   "cell_type": "code",
   "execution_count": 181,
   "id": "43655b13",
   "metadata": {},
   "outputs": [
    {
     "name": "stdout",
     "output_type": "stream",
     "text": [
      "<div class=\"txt-info\">\n",
      "<span>20년03월(20년식)</span>\n",
      "<span>26,000km</span>\n",
      "<span>가솔린</span>\n",
      "<span>경기</span>\n",
      "</div>\n"
     ]
    }
   ],
   "source": [
    "txt_info = bs_obj.find(\"div\", {\"class\":\"txt-info\"})\n",
    "print(txt_info)"
   ]
  },
  {
   "cell_type": "code",
   "execution_count": 200,
   "id": "c09a33a4",
   "metadata": {},
   "outputs": [],
   "source": [
    "# Year, Mile, Fuel, Loc\n",
    "year = txt_info.text.split(\"\\n\")[1]\n",
    "mile = txt_info.text.split(\"\\n\")[2][:-2]\n",
    "fuel = txt_info.text.split(\"\\n\")[3]\n",
    "loc = txt_info.text.split(\"\\n\")[4]"
   ]
  },
  {
   "cell_type": "code",
   "execution_count": 201,
   "id": "b1823d09",
   "metadata": {},
   "outputs": [
    {
     "name": "stdout",
     "output_type": "stream",
     "text": [
      "20년03월(20년식)\n",
      "26,000\n",
      "가솔린\n",
      "경기\n"
     ]
    }
   ],
   "source": [
    "print(year)\n",
    "print(mile)\n",
    "print(fuel)\n",
    "print(loc)"
   ]
  },
  {
   "cell_type": "markdown",
   "id": "671b13eb",
   "metadata": {},
   "source": [
    "### 변속기, 연비, 차종, 배기량, 색상 추출 \n"
   ]
  },
  {
   "cell_type": "code",
   "execution_count": 205,
   "id": "41db7ec5",
   "metadata": {
    "collapsed": true
   },
   "outputs": [
    {
     "name": "stdout",
     "output_type": "stream",
     "text": [
      "<table class=\"detail-info-table\">\n",
      "<caption>차량 기본정보</caption>\n",
      "<tbody>\n",
      "<tr>\n",
      "<th scope=\"col\">차량정보</th>\n",
      "<td>140호2912</td>\n",
      "<th scope=\"col\">연식</th>\n",
      "<td>20년03월(20년형)</td>\n",
      "</tr>\n",
      "<tr>\n",
      "<th scope=\"col\">주행거리</th>\n",
      "<td>26,000km</td>\n",
      "<th scope=\"col\">연료</th>\n",
      "<td>가솔린</td>\n",
      "</tr>\n",
      "<tr>\n",
      "<th scope=\"col\">변속기</th>\n",
      "<td>오토</td>\n",
      "<th scope=\"col\">연비</th>\n",
      "<td>\r\n",
      "\t\t\t\t\t\t\t\t\t\t\r\n",
      "\t\t\t\t\t\t\t\t            \r\n",
      "\t\t\t\t\t\t\t\t                17.6Km\r\n",
      "\t\t\t\t\t\t\t\t            \r\n",
      "\t\t\t\t\t\t\t\t            \r\n",
      "\t\t\t\t\t\t\t\t        \r\n",
      "\t\t\t\t\t\t\t\t\t</td>\n",
      "</tr>\n",
      "<tr>\n",
      "<th scope=\"col\">차종</th>\n",
      "<td>SUV</td>\n",
      "<th scope=\"col\">배기량</th>\n",
      "<td>1,591cc</td>\n",
      "</tr>\n",
      "<tr>\n",
      "<th scope=\"col\">색상</th>\n",
      "<td>회색</td>\n",
      "<th scope=\"col\">세금미납</th>\n",
      "<td>\n",
      "<strong>없음</strong>\n",
      "</td>\n",
      "</tr>\n",
      "<tr>\n",
      "<th scope=\"col\">압류</th>\n",
      "<td>\n",
      "<strong>없음</strong>\n",
      "</td>\n",
      "<th scope=\"col\">저당</th>\n",
      "<td>\n",
      "<strong>없음</strong>\n",
      "</td>\n",
      "</tr>\n",
      "<tr>\n",
      "<th scope=\"col\">제시번호</th>\n",
      "<td colspan=\"3\">\r\n",
      "\t\t\t\t\t\t\t\t\t\t\r\n",
      "\t\t\t\t\t\t\t\t            \r\n",
      "\t\t\t\t\t\t\t\t                20210308\r\n",
      "\t\t\t\t\t\t\t\t            \r\n",
      "\t\t\t\t\t\t\t\t            \r\n",
      "\t\t\t\t\t\t\t\t        \r\n",
      "\t\t\t\t\t\t\t\t\t</td>\n",
      "</tr>\n",
      "</tbody>\n",
      "</table>\n"
     ]
    }
   ],
   "source": [
    "detail_info = bs_obj.find(\"table\", {\"class\":\"detail-info-table\"})\n",
    "print(detail_info)"
   ]
  },
  {
   "cell_type": "code",
   "execution_count": 225,
   "id": "14fc0073",
   "metadata": {},
   "outputs": [],
   "source": [
    "gear = detail_info.findAll(\"td\")[4].text\n",
    "mpg = detail_info.findAll(\"td\")[5].text.strip()[:-2]\n",
    "kind = detail_info.findAll(\"td\")[6].text\n",
    "power = detail_info.findAll(\"td\")[7].text[:-2]\n",
    "color = detail_info.findAll(\"td\")[8].text\n"
   ]
  },
  {
   "cell_type": "code",
   "execution_count": 226,
   "id": "cc6c0a7b",
   "metadata": {},
   "outputs": [
    {
     "name": "stdout",
     "output_type": "stream",
     "text": [
      "오토\n",
      "17.6\n",
      "SUV\n",
      "1,591\n",
      "회색\n"
     ]
    }
   ],
   "source": [
    "print(gear)\n",
    "print(mpg)\n",
    "print(kind)\n",
    "print(power)\n",
    "print(color)"
   ]
  },
  {
   "cell_type": "code",
   "execution_count": 287,
   "id": "725a2598",
   "metadata": {},
   "outputs": [],
   "source": [
    "url = \"https://www.kbchachacha.com/public/car/detail.kbc?carSeq=23020581\"\n",
    "html = urlopen(url)\n",
    "bs_obj = BeautifulSoup(html, 'html.parser')"
   ]
  },
  {
   "cell_type": "code",
   "execution_count": 288,
   "id": "85977b2b",
   "metadata": {},
   "outputs": [],
   "source": [
    "detail_info = bs_obj.find(\"table\", {\"class\":\"detail-info-table\"})"
   ]
  },
  {
   "cell_type": "code",
   "execution_count": 289,
   "id": "c2ba3adb",
   "metadata": {
    "collapsed": true
   },
   "outputs": [
    {
     "name": "stdout",
     "output_type": "stream",
     "text": [
      "<table class=\"detail-info-table\">\n",
      "<caption>차량 기본정보</caption>\n",
      "<tbody>\n",
      "<tr>\n",
      "<th scope=\"col\">차량정보</th>\n",
      "<td>180누6039</td>\n",
      "<th scope=\"col\">연식</th>\n",
      "<td>19년03월(19년형)</td>\n",
      "</tr>\n",
      "<tr>\n",
      "<th scope=\"col\">주행거리</th>\n",
      "<td>71,619km</td>\n",
      "<th scope=\"col\">연료</th>\n",
      "<td>하이브리드(가솔린)</td>\n",
      "</tr>\n",
      "<tr>\n",
      "<th scope=\"col\">변속기</th>\n",
      "<td>오토</td>\n",
      "<th scope=\"col\">연비</th>\n",
      "<td>\r\n",
      "\t\t\t\t\t\t\t\t\t\t\r\n",
      "\t\t\t\t\t\t\t\t            \r\n",
      "\t\t\t\t\t\t\t\t            \r\n",
      "\t\t\t\t\t\t\t\t                정보없음\r\n",
      "\t\t\t\t\t\t\t\t            \r\n",
      "\t\t\t\t\t\t\t\t        \r\n",
      "\t\t\t\t\t\t\t\t\t</td>\n",
      "</tr>\n",
      "<tr>\n",
      "<th scope=\"col\">차종</th>\n",
      "<td>중형</td>\n",
      "<th scope=\"col\">배기량</th>\n",
      "<td>1,999cc</td>\n",
      "</tr>\n",
      "<tr>\n",
      "<th scope=\"col\">색상</th>\n",
      "<td>검정색</td>\n",
      "<th scope=\"col\">세금미납</th>\n",
      "<td>\n",
      "<strong>정보없음</strong>\n",
      "</td>\n",
      "</tr>\n",
      "<tr>\n",
      "<th scope=\"col\">압류</th>\n",
      "<td>\n",
      "<strong>없음</strong>\n",
      "</td>\n",
      "<th scope=\"col\">저당</th>\n",
      "<td>\n",
      "<strong>없음</strong>\n",
      "</td>\n",
      "</tr>\n",
      "<tr>\n",
      "<th scope=\"col\">제시번호</th>\n",
      "<td colspan=\"3\">\r\n",
      "\t\t\t\t\t\t\t\t\t\t\r\n",
      "\t\t\t\t\t\t\t\t            \r\n",
      "\t\t\t\t\t\t\t\t                20221192031\r\n",
      "\t\t\t\t\t\t\t\t            \r\n",
      "\t\t\t\t\t\t\t\t            \r\n",
      "\t\t\t\t\t\t\t\t        \r\n",
      "\t\t\t\t\t\t\t\t\t</td>\n",
      "</tr>\n",
      "</tbody>\n",
      "</table>\n"
     ]
    }
   ],
   "source": [
    "print(detail_info)"
   ]
  },
  {
   "cell_type": "code",
   "execution_count": null,
   "id": "5e965843",
   "metadata": {},
   "outputs": [],
   "source": [
    "mpg = detail_info.findAll(\"td\")[5].text.strip()[:-2]"
   ]
  },
  {
   "cell_type": "markdown",
   "id": "5c5a5627",
   "metadata": {},
   "source": [
    "### //옵션 추출: 차종마다 종류, 개수가 다름. 테이블에서 어떻게 처리하는 게 좋을지 의논 필요 "
   ]
  },
  {
   "cell_type": "code",
   "execution_count": 69,
   "id": "47d8e609",
   "metadata": {},
   "outputs": [
    {
     "name": "stdout",
     "output_type": "stream",
     "text": [
      "[<li class=\"option3\"><span>스마트키</span></li>, <li class=\"option4\"><span>오토라이트</span></li>, <li class=\"option5\"><span>주차감지센서</span></li>, <li class=\"option6\"><span>가죽시트</span></li>, <li class=\"option7\"><span>열선시트</span></li>, <li class=\"option9\"><span>사이드&amp;커튼에어백</span></li>, <li class=\"option10\"><span>하이패스룸밀러</span></li>, <li class=\"option11\"><span>차선이탈경보<br/>(LDSW)</span></li>, <li class=\"option_more cursor-pointer\" id=\"btnCarOptionMore\"><a><span>전체보기</span></a></li>]\n"
     ]
    }
   ],
   "source": [
    "options = bs_obj.find(\"ul\", {\"class\":\"car-option-list\"}).findAll(\"li\")\n",
    "print(options)"
   ]
  },
  {
   "cell_type": "code",
   "execution_count": 239,
   "id": "e9da0a52",
   "metadata": {},
   "outputs": [
    {
     "name": "stdout",
     "output_type": "stream",
     "text": [
      "스마트키\n",
      "오토라이트\n",
      "주차감지센서\n",
      "가죽시트\n",
      "열선시트\n",
      "사이드&커튼에어백\n",
      "하이패스룸밀러\n",
      "차선이탈경보(LDSW)\n"
     ]
    }
   ],
   "source": [
    "for i in range(len(options)-1):\n",
    "    print(options[i].text)"
   ]
  },
  {
   "cell_type": "code",
   "execution_count": null,
   "id": "b1b74a1f",
   "metadata": {},
   "outputs": [],
   "source": [
    "# 주요 옵션 8개에 대해 유무값 생성하기 "
   ]
  },
  {
   "cell_type": "code",
   "execution_count": 70,
   "id": "0bd4a7cc",
   "metadata": {},
   "outputs": [
    {
     "name": "stdout",
     "output_type": "stream",
     "text": [
      "스마트키\n",
      "오토라이트\n",
      "주차감지센서\n",
      "가죽시트\n",
      "열선시트\n",
      "사이드&커튼에어백\n",
      "하이패스룸밀러\n",
      "차선이탈경보\n"
     ]
    }
   ],
   "source": [
    "opt = [\"썬루프\",\"내비게이션\",\"스마트키\",\"오토라이트\",\"주차감지센서\",\"가죽시트\",\"열선시트\",\"통풍시트\",]\n",
    "for i in range(len(options)-1):\n",
    "        print(options[i].text.split(\"(\")[0])"
   ]
  },
  {
   "cell_type": "code",
   "execution_count": 82,
   "id": "152c2d1e",
   "metadata": {},
   "outputs": [],
   "source": [
    "for j in range(len(opt)):\n",
    "    for i in range(len(options)-1):\n",
    "        if(opt[j]==options[i].text.split(\"(\")[0]):\n",
    "            optionlists[j].append(\"true\")\n",
    "            break\n",
    "    if(opt[j]!=options[i].text):\n",
    "        optionlists[j].append(\"false\")\n",
    "\n",
    "optionlists=[]\n",
    "sunroof_list = []\n",
    "navi_list = []\n",
    "smartkey_list = []\n",
    "autolight_list = []\n",
    "parksensor_list = []\n",
    "leatherseat_list = []\n",
    "heatseat_list = []\n",
    "airseat_list = []\n",
    "\n",
    "\n",
    "optionlists.append(sunroof_list)\n",
    "optionlists.append(navi_list)\n",
    "optionlists.append(smartkey_list)\n",
    "optionlists.append(autolight_list)\n",
    "optionlists.append(parksensor_list)\n",
    "optionlists.append(leatherseat_list)\n",
    "optionlists.append(heatseat_list)\n",
    "optionlists.append(airseat_list)"
   ]
  },
  {
   "cell_type": "code",
   "execution_count": 84,
   "id": "8bf88096",
   "metadata": {},
   "outputs": [
    {
     "data": {
      "text/plain": [
       "['false']"
      ]
     },
     "execution_count": 84,
     "metadata": {},
     "output_type": "execute_result"
    }
   ],
   "source": [
    "sunroof_list"
   ]
  },
  {
   "cell_type": "markdown",
   "id": "fc365f26",
   "metadata": {},
   "source": [
    "### //세금, 압류, 저당 여부 추출 : 필요할지 의논 필요 -> 보류  "
   ]
  },
  {
   "cell_type": "code",
   "execution_count": 245,
   "id": "0e7ec074",
   "metadata": {},
   "outputs": [],
   "source": [
    "세금미납 = detail_info.findAll(\"td\")[9].text.strip()\n",
    "압류 = detail_info.findAll(\"td\")[10].text.strip()\n",
    "저당 = detail_info.findAll(\"td\")[11].text.strip()"
   ]
  },
  {
   "cell_type": "code",
   "execution_count": 246,
   "id": "fcfb48d1",
   "metadata": {},
   "outputs": [
    {
     "name": "stdout",
     "output_type": "stream",
     "text": [
      "없음\n",
      "없음\n",
      "없음\n"
     ]
    }
   ],
   "source": [
    "print(세금미납)\n",
    "print(압류)\n",
    "print(저당)"
   ]
  },
  {
   "cell_type": "markdown",
   "id": "5aa716e0",
   "metadata": {},
   "source": [
    "### 상세페이지에서 상세정보 리스트로 추출하는 함수 "
   ]
  },
  {
   "cell_type": "code",
   "execution_count": 134,
   "id": "841bf729",
   "metadata": {},
   "outputs": [],
   "source": [
    "# 페이지에서 상세 정보 리스트로 추출하는 함수 \n",
    "carid_list = []\n",
    "name_list = []\n",
    "price_list = []\n",
    "year_list = []\n",
    "mile_list = []\n",
    "fuel_list = []\n",
    "loc_list = []\n",
    "gear_list = []\n",
    "mpg_list = []\n",
    "kind_list = []\n",
    "power_list = []\n",
    "color_list = []\n",
    "optionlists=[]\n",
    "sunroof_list = []\n",
    "navi_list = []\n",
    "smartkey_list = []\n",
    "autolight_list = []\n",
    "parksensor_list = []\n",
    "leatherseat_list = []\n",
    "heatseat_list = []\n",
    "airseat_list = []\n",
    "company_list = []\n",
    "\n",
    "\n",
    "optionlists.append(sunroof_list)\n",
    "optionlists.append(navi_list)\n",
    "optionlists.append(smartkey_list)\n",
    "optionlists.append(autolight_list)\n",
    "optionlists.append(parksensor_list)\n",
    "optionlists.append(leatherseat_list)\n",
    "optionlists.append(heatseat_list)\n",
    "optionlists.append(airseat_list)\n",
    "\n",
    "\n",
    "def get_car_detail(url):\n",
    "    \n",
    "  \n",
    "    url = \"https://www.kbchachacha.com/public/car/detail.kbc?carSeq=\" + str(carId)\n",
    "    html = urlopen(url)\n",
    "    bs_obj = BeautifulSoup(html, 'html.parser')\n",
    "    \n",
    "    carid = carId\n",
    "    name = bs_obj.find(\"strong\", {\"class\":\"car-buy-name\"}).text.split(\")\")[1]\n",
    "    company = name.split(\" \")[0]\n",
    "    price = bs_obj.find(\"div\", {\"class\":\"car-buy-price\"}).dd.text.strip()[:-2]\n",
    "    \n",
    "    txt_info = bs_obj.find(\"div\", {\"class\":\"txt-info\"}).text.split(\"\\n\")\n",
    "    year = txt_info[1]\n",
    "    mile = txt_info[2][:-2]\n",
    "    fuel = txt_info[3]\n",
    "    loc = txt_info[4]\n",
    "    \n",
    "    detail_info = bs_obj.find(\"table\", {\"class\":\"detail-info-table\"}).findAll(\"td\")\n",
    "    gear = detail_info[4].text\n",
    "    mpg = detail_info[5].text.strip()[:-2]\n",
    "    kind = detail_info[6].text\n",
    "    power = detail_info[7].text[:-2]\n",
    "    color = detail_info[8].text\n",
    "    \n",
    "    carid_list.append(carid)\n",
    "    name_list.append(name)\n",
    "    company_list.append(company)\n",
    "    price_list.append(price)\n",
    "    year_list.append(year)\n",
    "    mile_list.append(mile)\n",
    "    fuel_list.append(fuel)\n",
    "    loc_list.append(loc)\n",
    "    gear_list.append(gear)\n",
    "    mpg_list.append(mpg)\n",
    "    kind_list.append(kind)\n",
    "    power_list.append(power)\n",
    "    color_list.append(color)\n",
    "    \n",
    "    #옵션 추출 \n",
    "    options = bs_obj.find(\"ul\", {\"class\":\"car-option-list\"}).findAll(\"li\")\n",
    "    opt = [\"썬루프\",\"내비게이션\",\"스마트키\",\"오토라이트\",\"주차감지센서\",\"가죽시트\",\"열선시트\",\"통풍시트\",]\n",
    "        \n",
    "    for j in range(len(opt)):\n",
    "        for i in range(len(options)-1):\n",
    "            if(opt[j]==options[i].text.split(\"(\")[0]):\n",
    "                optionlists[j].append(\"true\")\n",
    "                break\n",
    "        if(opt[j]!=options[i].text):\n",
    "            optionlists[j].append(\"false\")\n",
    "\n"
   ]
  },
  {
   "cell_type": "code",
   "execution_count": 129,
   "id": "95863bc1",
   "metadata": {},
   "outputs": [],
   "source": [
    "domestic_carseq = yejin_list[0][0:5]\n",
    "import_carseq = jinyoung_list[0][0:5]"
   ]
  },
  {
   "cell_type": "code",
   "execution_count": 103,
   "id": "c5c9d55f",
   "metadata": {},
   "outputs": [
    {
     "data": {
      "text/plain": [
       "1"
      ]
     },
     "execution_count": 103,
     "metadata": {},
     "output_type": "execute_result"
    }
   ],
   "source": [
    "len(yejin_list)"
   ]
  },
  {
   "cell_type": "code",
   "execution_count": 130,
   "id": "2c49887e",
   "metadata": {},
   "outputs": [
    {
     "data": {
      "text/plain": [
       "['22918819', '22728041', '23072498', '23079946', '22637228']"
      ]
     },
     "execution_count": 130,
     "metadata": {},
     "output_type": "execute_result"
    }
   ],
   "source": [
    "domestic_carseq"
   ]
  },
  {
   "cell_type": "code",
   "execution_count": 131,
   "id": "09574221",
   "metadata": {},
   "outputs": [
    {
     "data": {
      "text/plain": [
       "['22775461', '22945120', '22965211', '22470877', '22420425']"
      ]
     },
     "execution_count": 131,
     "metadata": {},
     "output_type": "execute_result"
    }
   ],
   "source": [
    "import_carseq"
   ]
  },
  {
   "cell_type": "markdown",
   "id": "c35a4089",
   "metadata": {},
   "source": [
    "## 3. DataFrame 만들어서 csv로 내보내기  \n",
    "\n",
    "1) 상세정보 리스트 만들기 (get_car_detail() 사용)    \n",
    "2) 리스트 합쳐서 딕셔너리로 만들기    \n",
    "3) 딕셔너리 -> 데이터프레임 변환    \n",
    "4) 데이터프레임 -> csv로 내보내기     "
   ]
  },
  {
   "cell_type": "code",
   "execution_count": 132,
   "id": "43a83555",
   "metadata": {},
   "outputs": [],
   "source": [
    "# 국산차량 5개 데이터 가져오기 \n",
    "domestic = []\n",
    "for i in range(len(domestic_carseq)):\n",
    "    domestic.append(\"국산\")\n",
    "    carId = domestic_carseq[i]\n",
    "    get_car_detail(url)\n",
    "   "
   ]
  },
  {
   "cell_type": "code",
   "execution_count": 133,
   "id": "bcc26ecf",
   "metadata": {},
   "outputs": [],
   "source": [
    "# 리스트 합쳐서 딕셔너리 만들기 \n",
    "domestic_dict = {'Id' : carid_list,\n",
    "                 'Country' : domestic, \n",
    "                 'Name' : name_list, \n",
    "                 'Company' : company_list,\n",
    "                 'Price' : price_list,\n",
    "                 'Year' : year_list,\n",
    "                 'Mile' : mile_list,\n",
    "                 'Fuel' : fuel_list, \n",
    "                 'Loc' : loc_list,\n",
    "                 'Gear' : gear_list,\n",
    "                 'MPG' : mpg_list,\n",
    "                 'Kind' : kind_list,\n",
    "                 'Power' : power_list,\n",
    "                 'Color' : color_list,\n",
    "                 'Sunroof' : sunroof_list,\n",
    "                 'Navi' : navi_list,\n",
    "                 'Smartkey' : smartkey_list,\n",
    "                 'Autolight' : autolight_list,\n",
    "                 'Parksensor' : parksensor_list,\n",
    "                 'Leatherseat' : leatherseat_list,\n",
    "                 'Heatseat' : heatseat_list,\n",
    "                 'Airseat' : airseat_list}"
   ]
  },
  {
   "cell_type": "code",
   "execution_count": 135,
   "id": "0adaa7c4",
   "metadata": {},
   "outputs": [],
   "source": [
    "# 수입차량 5개 데이터 가져오기 (리스트 변수 이름 같으니까 초기화 꼭!)\n",
    "imported = []\n",
    "for i in range(len(import_carseq)):\n",
    "    imported.append(\"수입\")\n",
    "    carId = import_carseq[i]\n",
    "    get_car_detail(url)"
   ]
  },
  {
   "cell_type": "code",
   "execution_count": 136,
   "id": "8b876b32",
   "metadata": {},
   "outputs": [],
   "source": [
    "# 딕셔너리 만들기 \n",
    "imported_dict = {'Id' : carid_list,\n",
    "                 'Country' : imported, \n",
    "                 'Name' : name_list, \n",
    "                 'Company' : company_list,\n",
    "                 'Price' : price_list,\n",
    "                 'Year' : year_list,\n",
    "                 'Mile' : mile_list,\n",
    "                 'Fuel' : fuel_list, \n",
    "                 'Loc' : loc_list,\n",
    "                 'Gear' : gear_list,\n",
    "                 'MPG' : mpg_list,\n",
    "                 'Kind' : kind_list,\n",
    "                 'Power' : power_list,\n",
    "                 'Color' : color_list,\n",
    "                 'Sunroof' : sunroof_list,\n",
    "                 'Navi' : navi_list,\n",
    "                 'Smartkey' : smartkey_list,\n",
    "                 'Autolight' : autolight_list,\n",
    "                 'Parksensor' : parksensor_list,\n",
    "                 'Leatherseat' : leatherseat_list,\n",
    "                 'Heatseat' : heatseat_list,\n",
    "                 'Airseat' : airseat_list}"
   ]
  },
  {
   "cell_type": "code",
   "execution_count": 137,
   "id": "d5b6b96b",
   "metadata": {},
   "outputs": [
    {
     "data": {
      "text/plain": [
       "{'Id': ['22918819', '22728041', '23072498', '23079946', '22637228'],\n",
       " 'Country': ['국산', '국산', '국산', '국산', '국산'],\n",
       " 'Name': ['현대 더 뉴 그랜저LPi 3.0 익스클루시브',\n",
       "  '한국GM 더 뉴 트랙스1.6 디젤 Premier ',\n",
       "  '기아 K7 프리미어2.5 GDi X 에디션',\n",
       "  '현대 그랜저IG3.0 익스클루시브 기본형',\n",
       "  '쌍용 렉스턴 스포츠2.2 4WD 노블레스'],\n",
       " 'Company': ['현대', '한국GM', '기아', '현대', '쌍용'],\n",
       " 'Price': ['3,580', '1,420', '3,450', '2,600', '2,290'],\n",
       " 'Year': ['21년02월(21년식)',\n",
       "  '18년12월(19년식)',\n",
       "  '20년04월(20년식)',\n",
       "  '17년05월(18년식)',\n",
       "  '18년07월(19년식)'],\n",
       " 'Mile': ['14,000', '54,918', '21,000', '17,956', '81,342'],\n",
       " 'Fuel': ['LPG', '디젤', '가솔린', '가솔린', '디젤'],\n",
       " 'Loc': ['울산', '대구', '경기', '대구', '경기'],\n",
       " 'Gear': ['오토', '오토', '오토', '오토', '오토'],\n",
       " 'MPG': ['7.4', '14.1', '11.6', '10.1', '9.8'],\n",
       " 'Kind': ['대형', 'SUV', '대형', '대형', '트럭'],\n",
       " 'Power': ['2,999', '1,598', '2,497', '2,999', '2,157'],\n",
       " 'Color': ['검정색', '검정색', '검정', '회색', '쥐색'],\n",
       " 'Sunroof': ['false', 'false', 'false', 'false', 'true'],\n",
       " 'Navi': ['true', 'false', 'true', 'true', 'false'],\n",
       " 'Smartkey': ['true', 'true', 'true', 'true', 'false'],\n",
       " 'Autolight': ['true', 'true', 'false', 'true', 'true'],\n",
       " 'Parksensor': ['true', 'true', 'true', 'true', 'true'],\n",
       " 'Leatherseat': ['true', 'true', 'true', 'false', 'false'],\n",
       " 'Heatseat': ['true', 'true', 'true', 'true', 'true'],\n",
       " 'Airseat': ['true', 'false', 'false', 'true', 'false']}"
      ]
     },
     "execution_count": 137,
     "metadata": {},
     "output_type": "execute_result"
    }
   ],
   "source": [
    "domestic_dict"
   ]
  },
  {
   "cell_type": "code",
   "execution_count": 138,
   "id": "090e8f48",
   "metadata": {},
   "outputs": [
    {
     "data": {
      "text/plain": [
       "{'Id': ['22775461', '22945120', '22965211', '22470877', '22420425'],\n",
       " 'Country': ['수입', '수입', '수입', '수입', '수입'],\n",
       " 'Name': ['랜드로버 뉴 레인지로버 스포츠3.0 SDV6 AB 다이내믹(14년~',\n",
       "  '아우디 A6(C8',\n",
       "  '벤츠 E클래스 (W213',\n",
       "  '캐딜락 XT63.6 가솔린 SPORT',\n",
       "  '아우디 NEW A535 TDI 콰트로 스포트백 다이나믹 8TA'],\n",
       " 'Company': ['랜드로버', '아우디', '벤츠', '캐딜락', '아우디'],\n",
       " 'Price': ['9,900', '4,220', '5,100', '6,599', '1,990'],\n",
       " 'Year': ['20년07월(20년식)',\n",
       "  '20년01월(20년식)',\n",
       "  '19년03월(19년식)',\n",
       "  '21년06월(20년식)',\n",
       "  '15년03월(15년식)'],\n",
       " 'Mile': ['40,000', '56,000', '56,574', '6,812', '92,265'],\n",
       " 'Fuel': ['디젤', '디젤', '가솔린', '가솔린', '디젤'],\n",
       " 'Loc': ['울산', '경기', '충남', '대구', '인천'],\n",
       " 'Gear': ['오토', '오토', '오토', '오토', '오토'],\n",
       " 'MPG': ['10.7', '15.8', '10.3', '8.3', '정보'],\n",
       " 'Kind': ['SUV', '중형', '중형', 'SUV', '준중형'],\n",
       " 'Power': ['2,993', '1,968', '1,991', '3,649', '1,968'],\n",
       " 'Color': ['흰색', '파랑색', '회색', '은색', '흰색'],\n",
       " 'Sunroof': ['true', 'true', 'true', 'true', 'true'],\n",
       " 'Navi': ['true', 'true', 'true', 'true', 'true'],\n",
       " 'Smartkey': ['true', 'true', 'true', 'true', 'false'],\n",
       " 'Autolight': ['true', 'true', 'true', 'true', 'true'],\n",
       " 'Parksensor': ['true', 'true', 'true', 'true', 'true'],\n",
       " 'Leatherseat': ['true', 'true', 'true', 'false', 'true'],\n",
       " 'Heatseat': ['true', 'true', 'true', 'true', 'true'],\n",
       " 'Airseat': ['true', 'true', 'true', 'true', 'true']}"
      ]
     },
     "execution_count": 138,
     "metadata": {},
     "output_type": "execute_result"
    }
   ],
   "source": [
    "imported_dict"
   ]
  },
  {
   "cell_type": "code",
   "execution_count": 139,
   "id": "f44728b0",
   "metadata": {},
   "outputs": [],
   "source": [
    "# 딕셔너리 -> 데이터프레임 만들기 (pandas 사용)\n",
    "\n",
    "domestic_df = pd.DataFrame(domestic_dict)\n",
    "imported_df = pd.DataFrame(imported_dict)\n",
    "#print(domestic_df)"
   ]
  },
  {
   "cell_type": "code",
   "execution_count": 140,
   "id": "8d6c271c",
   "metadata": {},
   "outputs": [],
   "source": [
    "# 데이터프레임 -> csv로 추출 (pandas 사용)\n",
    "\n",
    "domestic_df.to_csv(\"domestic_5_new.csv\")\n",
    "imported_df.to_csv(\"imported_5_new.csv\")"
   ]
  },
  {
   "cell_type": "code",
   "execution_count": null,
   "id": "7e1f5630",
   "metadata": {},
   "outputs": [],
   "source": [
    "# ---- R에서 읽어서 분석 -------- # "
   ]
  },
  {
   "cell_type": "code",
   "execution_count": null,
   "id": "a408b5ff",
   "metadata": {},
   "outputs": [],
   "source": []
  },
  {
   "cell_type": "code",
   "execution_count": null,
   "id": "256709be",
   "metadata": {},
   "outputs": [],
   "source": []
  },
  {
   "cell_type": "code",
   "execution_count": null,
   "id": "76dcfbb5",
   "metadata": {},
   "outputs": [],
   "source": []
  }
 ],
 "metadata": {
  "kernelspec": {
   "display_name": "Python 3 (ipykernel)",
   "language": "python",
   "name": "python3"
  },
  "language_info": {
   "codemirror_mode": {
    "name": "ipython",
    "version": 3
   },
   "file_extension": ".py",
   "mimetype": "text/x-python",
   "name": "python",
   "nbconvert_exporter": "python",
   "pygments_lexer": "ipython3",
   "version": "3.8.2"
  }
 },
 "nbformat": 4,
 "nbformat_minor": 5
}
