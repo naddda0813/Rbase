{
 "cells": [
  {
   "cell_type": "code",
   "execution_count": 4,
   "id": "415f9a98",
   "metadata": {},
   "outputs": [
    {
     "data": {
      "text/html": [
       "<table>\n",
       "<thead><tr><th scope=col>model</th><th scope=col>year</th><th scope=col>price</th><th scope=col>transmission</th><th scope=col>mileage</th><th scope=col>fuelType</th><th scope=col>tax</th><th scope=col>mpg</th><th scope=col>engineSize</th></tr></thead>\n",
       "<tbody>\n",
       "\t<tr><td> SLK     </td><td>2005     </td><td>  5200   </td><td>Automatic</td><td>63000    </td><td>Petrol   </td><td>325      </td><td>32.1     </td><td>1.8      </td></tr>\n",
       "\t<tr><td> S Class </td><td>2017     </td><td> 34948   </td><td>Automatic</td><td>27000    </td><td>Hybrid   </td><td> 20      </td><td>61.4     </td><td>2.1      </td></tr>\n",
       "\t<tr><td> SL CLASS</td><td>2016     </td><td> 49948   </td><td>Automatic</td><td> 6200    </td><td>Petrol   </td><td>555      </td><td>28.0     </td><td>5.5      </td></tr>\n",
       "\t<tr><td> G Class </td><td>2016     </td><td> 61948   </td><td>Automatic</td><td>16000    </td><td>Petrol   </td><td>325      </td><td>30.4     </td><td>4.0      </td></tr>\n",
       "\t<tr><td> G Class </td><td>2016     </td><td> 73948   </td><td>Automatic</td><td> 4000    </td><td>Petrol   </td><td>325      </td><td>30.1     </td><td>4.0      </td></tr>\n",
       "\t<tr><td> SL CLASS</td><td>2011     </td><td>149948   </td><td>Automatic</td><td> 3000    </td><td>Petrol   </td><td>570      </td><td>21.4     </td><td>6.2      </td></tr>\n",
       "</tbody>\n",
       "</table>\n"
      ],
      "text/latex": [
       "\\begin{tabular}{r|lllllllll}\n",
       " model & year & price & transmission & mileage & fuelType & tax & mpg & engineSize\\\\\n",
       "\\hline\n",
       "\t  SLK      & 2005      &   5200    & Automatic & 63000     & Petrol    & 325       & 32.1      & 1.8      \\\\\n",
       "\t  S Class  & 2017      &  34948    & Automatic & 27000     & Hybrid    &  20       & 61.4      & 2.1      \\\\\n",
       "\t  SL CLASS & 2016      &  49948    & Automatic &  6200     & Petrol    & 555       & 28.0      & 5.5      \\\\\n",
       "\t  G Class  & 2016      &  61948    & Automatic & 16000     & Petrol    & 325       & 30.4      & 4.0      \\\\\n",
       "\t  G Class  & 2016      &  73948    & Automatic &  4000     & Petrol    & 325       & 30.1      & 4.0      \\\\\n",
       "\t  SL CLASS & 2011      & 149948    & Automatic &  3000     & Petrol    & 570       & 21.4      & 6.2      \\\\\n",
       "\\end{tabular}\n"
      ],
      "text/markdown": [
       "\n",
       "| model | year | price | transmission | mileage | fuelType | tax | mpg | engineSize |\n",
       "|---|---|---|---|---|---|---|---|---|\n",
       "|  SLK      | 2005      |   5200    | Automatic | 63000     | Petrol    | 325       | 32.1      | 1.8       |\n",
       "|  S Class  | 2017      |  34948    | Automatic | 27000     | Hybrid    |  20       | 61.4      | 2.1       |\n",
       "|  SL CLASS | 2016      |  49948    | Automatic |  6200     | Petrol    | 555       | 28.0      | 5.5       |\n",
       "|  G Class  | 2016      |  61948    | Automatic | 16000     | Petrol    | 325       | 30.4      | 4.0       |\n",
       "|  G Class  | 2016      |  73948    | Automatic |  4000     | Petrol    | 325       | 30.1      | 4.0       |\n",
       "|  SL CLASS | 2011      | 149948    | Automatic |  3000     | Petrol    | 570       | 21.4      | 6.2       |\n",
       "\n"
      ],
      "text/plain": [
       "  model     year price  transmission mileage fuelType tax mpg  engineSize\n",
       "1  SLK      2005   5200 Automatic    63000   Petrol   325 32.1 1.8       \n",
       "2  S Class  2017  34948 Automatic    27000   Hybrid    20 61.4 2.1       \n",
       "3  SL CLASS 2016  49948 Automatic     6200   Petrol   555 28.0 5.5       \n",
       "4  G Class  2016  61948 Automatic    16000   Petrol   325 30.4 4.0       \n",
       "5  G Class  2016  73948 Automatic     4000   Petrol   325 30.1 4.0       \n",
       "6  SL CLASS 2011 149948 Automatic     3000   Petrol   570 21.4 6.2       "
      ]
     },
     "metadata": {},
     "output_type": "display_data"
    }
   ],
   "source": [
    "benz3<- read.csv(\"../Data/merc.csv\")\n",
    "head(benz3)"
   ]
  },
  {
   "cell_type": "code",
   "execution_count": 5,
   "id": "6d7eb6eb",
   "metadata": {},
   "outputs": [
    {
     "name": "stdout",
     "output_type": "stream",
     "text": [
      "'data.frame':\t13119 obs. of  9 variables:\n",
      " $ model       : Factor w/ 27 levels \" A Class\",\" B Class\",..: 21 19 20 10 10 20 15 19 10 12 ...\n",
      " $ year        : int  2005 2017 2016 2016 2016 2011 2018 2012 2019 2017 ...\n",
      " $ price       : int  5200 34948 49948 61948 73948 149948 30948 10948 139948 19750 ...\n",
      " $ transmission: Factor w/ 4 levels \"Automatic\",\"Manual\",..: 1 1 1 1 1 1 1 1 1 1 ...\n",
      " $ mileage     : int  63000 27000 6200 16000 4000 3000 16000 107000 12000 15258 ...\n",
      " $ fuelType    : Factor w/ 4 levels \"Diesel\",\"Hybrid\",..: 4 2 4 4 4 4 1 4 4 1 ...\n",
      " $ tax         : int  325 20 555 325 325 570 145 265 145 30 ...\n",
      " $ mpg         : num  32.1 61.4 28 30.4 30.1 21.4 47.9 36.7 21.4 64.2 ...\n",
      " $ engineSize  : num  1.8 2.1 5.5 4 4 6.2 2.1 3.5 4 2.1 ...\n"
     ]
    }
   ],
   "source": [
    "str(benz3)"
   ]
  },
  {
   "cell_type": "code",
   "execution_count": 6,
   "id": "01335630",
   "metadata": {},
   "outputs": [
    {
     "data": {
      "text/plain": [
       "\n",
       " FALSE \n",
       "118071 "
      ]
     },
     "metadata": {},
     "output_type": "display_data"
    }
   ],
   "source": [
    "# na 확인\n",
    "table(is.na(benz3))"
   ]
  },
  {
   "cell_type": "markdown",
   "id": "e14583e0",
   "metadata": {},
   "source": [
    "---\n",
    "##  판매량 상위 3개 뽑기"
   ]
  },
  {
   "cell_type": "code",
   "execution_count": 20,
   "id": "dd05d080",
   "metadata": {},
   "outputs": [
    {
     "data": {
      "text/plain": [
       "\n",
       "CClass AClass EClass \n",
       "  3747   2561   1953 "
      ]
     },
     "metadata": {},
     "output_type": "display_data"
    }
   ],
   "source": [
    "head(sort(table(benz3$model),decreasing =TRUE),3)"
   ]
  },
  {
   "cell_type": "code",
   "execution_count": 16,
   "id": "2ce48ed8",
   "metadata": {},
   "outputs": [],
   "source": [
    "#모델이름에서 공백 제거 \n",
    "library(stringr)"
   ]
  },
  {
   "cell_type": "code",
   "execution_count": 18,
   "id": "e8d4fdf6",
   "metadata": {
    "scrolled": true
   },
   "outputs": [
    {
     "data": {
      "text/html": [
       "<table>\n",
       "<thead><tr><th scope=col>model</th><th scope=col>year</th><th scope=col>price</th><th scope=col>transmission</th><th scope=col>mileage</th><th scope=col>fuelType</th><th scope=col>tax</th><th scope=col>mpg</th><th scope=col>engineSize</th></tr></thead>\n",
       "<tbody>\n",
       "\t<tr><td>SLK      </td><td>2005     </td><td>  5200   </td><td>Automatic</td><td> 63000   </td><td>Petrol   </td><td>325      </td><td>32.1     </td><td>1.8      </td></tr>\n",
       "\t<tr><td>SClass   </td><td>2017     </td><td> 34948   </td><td>Automatic</td><td> 27000   </td><td>Hybrid   </td><td> 20      </td><td>61.4     </td><td>2.1      </td></tr>\n",
       "\t<tr><td>SLCLASS  </td><td>2016     </td><td> 49948   </td><td>Automatic</td><td>  6200   </td><td>Petrol   </td><td>555      </td><td>28.0     </td><td>5.5      </td></tr>\n",
       "\t<tr><td>GClass   </td><td>2016     </td><td> 61948   </td><td>Automatic</td><td> 16000   </td><td>Petrol   </td><td>325      </td><td>30.4     </td><td>4.0      </td></tr>\n",
       "\t<tr><td>GClass   </td><td>2016     </td><td> 73948   </td><td>Automatic</td><td>  4000   </td><td>Petrol   </td><td>325      </td><td>30.1     </td><td>4.0      </td></tr>\n",
       "\t<tr><td>SLCLASS  </td><td>2011     </td><td>149948   </td><td>Automatic</td><td>  3000   </td><td>Petrol   </td><td>570      </td><td>21.4     </td><td>6.2      </td></tr>\n",
       "\t<tr><td>GLEClass </td><td>2018     </td><td> 30948   </td><td>Automatic</td><td> 16000   </td><td>Diesel   </td><td>145      </td><td>47.9     </td><td>2.1      </td></tr>\n",
       "\t<tr><td>SClass   </td><td>2012     </td><td> 10948   </td><td>Automatic</td><td>107000   </td><td>Petrol   </td><td>265      </td><td>36.7     </td><td>3.5      </td></tr>\n",
       "\t<tr><td>GClass   </td><td>2019     </td><td>139948   </td><td>Automatic</td><td> 12000   </td><td>Petrol   </td><td>145      </td><td>21.4     </td><td>4.0      </td></tr>\n",
       "\t<tr><td>GLAClass </td><td>2017     </td><td> 19750   </td><td>Automatic</td><td> 15258   </td><td>Diesel   </td><td> 30      </td><td>64.2     </td><td>2.1      </td></tr>\n",
       "\t<tr><td>AClass   </td><td>2020     </td><td> 32980   </td><td>Automatic</td><td>   606   </td><td>Petrol   </td><td>145      </td><td>35.8     </td><td>2.0      </td></tr>\n",
       "\t<tr><td>AClass   </td><td>2020     </td><td> 26980   </td><td>Automatic</td><td>  1000   </td><td>Diesel   </td><td>145      </td><td>62.8     </td><td>1.5      </td></tr>\n",
       "\t<tr><td>BClass   </td><td>2019     </td><td> 23750   </td><td>Automatic</td><td>   278   </td><td>Diesel   </td><td>145      </td><td>55.4     </td><td>2.0      </td></tr>\n",
       "\t<tr><td>GLCClass </td><td>2019     </td><td> 67980   </td><td>Automatic</td><td>  5500   </td><td>Petrol   </td><td>145      </td><td>21.7     </td><td>4.0      </td></tr>\n",
       "\t<tr><td>GLAClass </td><td>2016     </td><td> 18980   </td><td>Automatic</td><td> 41713   </td><td>Diesel   </td><td>125      </td><td>56.6     </td><td>2.1      </td></tr>\n",
       "\t<tr><td>BClass   </td><td>2017     </td><td> 15890   </td><td>Automatic</td><td> 24841   </td><td>Diesel   </td><td>150      </td><td>68.9     </td><td>1.5      </td></tr>\n",
       "\t<tr><td>CClass   </td><td>2017     </td><td> 19890   </td><td>Automatic</td><td> 30281   </td><td>Diesel   </td><td>150      </td><td>60.1     </td><td>2.1      </td></tr>\n",
       "\t<tr><td>GLEClass </td><td>2019     </td><td> 56800   </td><td>Automatic</td><td>  2483   </td><td>Petrol   </td><td>145      </td><td>29.5     </td><td>3.0      </td></tr>\n",
       "\t<tr><td>BClass   </td><td>2017     </td><td> 17513   </td><td>Automatic</td><td> 14128   </td><td>Diesel   </td><td>150      </td><td>68.9     </td><td>2.1      </td></tr>\n",
       "\t<tr><td>CClass   </td><td>2014     </td><td> 15701   </td><td>Automatic</td><td> 20498   </td><td>Diesel   </td><td> 20      </td><td>64.2     </td><td>2.1      </td></tr>\n",
       "\t<tr><td>CClass   </td><td>2019     </td><td> 26601   </td><td>Automatic</td><td>  9949   </td><td>Diesel   </td><td>150      </td><td>64.2     </td><td>2.0      </td></tr>\n",
       "\t<tr><td>CClass   </td><td>2016     </td><td> 17672   </td><td>Automatic</td><td> 31656   </td><td>Diesel   </td><td> 30      </td><td>64.2     </td><td>2.1      </td></tr>\n",
       "\t<tr><td>EClass   </td><td>2015     </td><td> 20769   </td><td>Automatic</td><td> 21874   </td><td>Diesel   </td><td>165      </td><td>51.4     </td><td>3.0      </td></tr>\n",
       "\t<tr><td>EClass   </td><td>2017     </td><td> 22270   </td><td>Automatic</td><td> 13398   </td><td>Diesel   </td><td>165      </td><td>52.3     </td><td>3.0      </td></tr>\n",
       "\t<tr><td>GLClass  </td><td>2015     </td><td> 34129   </td><td>Automatic</td><td> 13581   </td><td>Diesel   </td><td>330      </td><td>36.2     </td><td>3.0      </td></tr>\n",
       "\t<tr><td>SLCLASS  </td><td>2017     </td><td> 20601   </td><td>Automatic</td><td> 16730   </td><td>Diesel   </td><td>150      </td><td>70.6     </td><td>2.1      </td></tr>\n",
       "\t<tr><td>CLSClass </td><td>2016     </td><td> 25077   </td><td>Automatic</td><td> 13887   </td><td>Diesel   </td><td>165      </td><td>49.6     </td><td>3.0      </td></tr>\n",
       "\t<tr><td>SLCLASS  </td><td>2017     </td><td> 21609   </td><td>Automatic</td><td>  2780   </td><td>Diesel   </td><td> 30      </td><td>70.6     </td><td>2.1      </td></tr>\n",
       "\t<tr><td>SLCLASS  </td><td>2018     </td><td> 22914   </td><td>Automatic</td><td>  8725   </td><td>Petrol   </td><td>145      </td><td>47.9     </td><td>2.0      </td></tr>\n",
       "\t<tr><td>CClass   </td><td>2016     </td><td> 19328   </td><td>Automatic</td><td> 25042   </td><td>Diesel   </td><td> 30      </td><td>64.2     </td><td>2.1      </td></tr>\n",
       "\t<tr><td>...</td><td>...</td><td>...</td><td>...</td><td>...</td><td>...</td><td>...</td><td>...</td><td>...</td></tr>\n",
       "\t<tr><td>SLCLASS  </td><td>2017     </td><td>20659    </td><td>Automatic</td><td> 6573    </td><td>Diesel   </td><td>150      </td><td>70.6     </td><td>2.1      </td></tr>\n",
       "\t<tr><td>AClass   </td><td>2015     </td><td>12995    </td><td>Automatic</td><td>34665    </td><td>Diesel   </td><td> 20      </td><td>70.6     </td><td>1.5      </td></tr>\n",
       "\t<tr><td>GLSClass </td><td>2017     </td><td>38343    </td><td>Automatic</td><td>26452    </td><td>Diesel   </td><td>305      </td><td>37.2     </td><td>3.0      </td></tr>\n",
       "\t<tr><td>GLEClass </td><td>2016     </td><td>30045    </td><td>Automatic</td><td>18524    </td><td>Diesel   </td><td>240      </td><td>42.8     </td><td>3.0      </td></tr>\n",
       "\t<tr><td>CClass   </td><td>2019     </td><td>23999    </td><td>Automatic</td><td> 6328    </td><td>Petrol   </td><td>145      </td><td>46.3     </td><td>1.5      </td></tr>\n",
       "\t<tr><td>GLCClass </td><td>2017     </td><td>30999    </td><td>Automatic</td><td>12376    </td><td>Diesel   </td><td>145      </td><td>56.5     </td><td>2.1      </td></tr>\n",
       "\t<tr><td>CLSClass </td><td>2016     </td><td>20399    </td><td>Automatic</td><td>16107    </td><td>Diesel   </td><td>160      </td><td>51.4     </td><td>3.0      </td></tr>\n",
       "\t<tr><td>GLEClass </td><td>2016     </td><td>27999    </td><td>Automatic</td><td>27804    </td><td>Diesel   </td><td>260      </td><td>42.8     </td><td>3.0      </td></tr>\n",
       "\t<tr><td>GLCClass </td><td>2019     </td><td>34459    </td><td>Automatic</td><td> 9250    </td><td>Diesel   </td><td>145      </td><td>56.5     </td><td>2.1      </td></tr>\n",
       "\t<tr><td>CClass   </td><td>2019     </td><td>24499    </td><td>Automatic</td><td>10635    </td><td>Petrol   </td><td>145      </td><td>44.1     </td><td>1.5      </td></tr>\n",
       "\t<tr><td>CClass   </td><td>2019     </td><td>23994    </td><td>Automatic</td><td>12794    </td><td>Petrol   </td><td>145      </td><td>46.3     </td><td>1.5      </td></tr>\n",
       "\t<tr><td>CClass   </td><td>2019     </td><td>25829    </td><td>Automatic</td><td> 9924    </td><td>Diesel   </td><td>145      </td><td>60.1     </td><td>2.0      </td></tr>\n",
       "\t<tr><td>GLCClass </td><td>2016     </td><td>23999    </td><td>Automatic</td><td>14000    </td><td>Diesel   </td><td>125      </td><td>56.5     </td><td>2.1      </td></tr>\n",
       "\t<tr><td>GLCClass </td><td>2017     </td><td>35999    </td><td>Automatic</td><td>18507    </td><td>Petrol   </td><td>150      </td><td>34.0     </td><td>3.0      </td></tr>\n",
       "\t<tr><td>CClass   </td><td>2019     </td><td>23444    </td><td>Automatic</td><td>10284    </td><td>Diesel   </td><td>145      </td><td>61.4     </td><td>2.0      </td></tr>\n",
       "\t<tr><td>EClass   </td><td>2019     </td><td>24249    </td><td>Automatic</td><td>10860    </td><td>Diesel   </td><td>145      </td><td>72.4     </td><td>2.0      </td></tr>\n",
       "\t<tr><td>CClass   </td><td>2019     </td><td>27899    </td><td>Automatic</td><td> 8273    </td><td>Diesel   </td><td>145      </td><td>56.5     </td><td>2.0      </td></tr>\n",
       "\t<tr><td>CClass   </td><td>2019     </td><td>27999    </td><td>Automatic</td><td> 6537    </td><td>Petrol   </td><td>145      </td><td>44.1     </td><td>2.0      </td></tr>\n",
       "\t<tr><td>CClass   </td><td>2019     </td><td>24999    </td><td>Automatic</td><td> 6064    </td><td>Diesel   </td><td>145      </td><td>61.4     </td><td>2.0      </td></tr>\n",
       "\t<tr><td>SLK      </td><td>2016     </td><td>17499    </td><td>Automatic</td><td>30128    </td><td>Diesel   </td><td> 30      </td><td>70.6     </td><td>2.1      </td></tr>\n",
       "\t<tr><td>AClass   </td><td>2017     </td><td>16499    </td><td>Automatic</td><td>20477    </td><td>Diesel   </td><td>145      </td><td>68.9     </td><td>2.1      </td></tr>\n",
       "\t<tr><td>CLAClass </td><td>2019     </td><td>25499    </td><td>Automatic</td><td>11442    </td><td>Diesel   </td><td>145      </td><td>51.4     </td><td>2.1      </td></tr>\n",
       "\t<tr><td>BClass   </td><td>2019     </td><td>19344    </td><td>Automatic</td><td>15257    </td><td>Petrol   </td><td>145      </td><td>45.6     </td><td>1.3      </td></tr>\n",
       "\t<tr><td>CClass   </td><td>2019     </td><td>30399    </td><td>Automatic</td><td> 5000    </td><td>Diesel   </td><td>145      </td><td>61.4     </td><td>2.0      </td></tr>\n",
       "\t<tr><td>CClass   </td><td>2020     </td><td>30999    </td><td>Automatic</td><td> 1000    </td><td>Diesel   </td><td>145      </td><td>64.2     </td><td>2.0      </td></tr>\n",
       "\t<tr><td>CClass   </td><td>2020     </td><td>35999    </td><td>Automatic</td><td>  500    </td><td>Diesel   </td><td>145      </td><td>55.4     </td><td>2.0      </td></tr>\n",
       "\t<tr><td>BClass   </td><td>2020     </td><td>24699    </td><td>Automatic</td><td> 2500    </td><td>Diesel   </td><td>145      </td><td>55.4     </td><td>2.0      </td></tr>\n",
       "\t<tr><td>GLCClass </td><td>2019     </td><td>30999    </td><td>Automatic</td><td>11612    </td><td>Diesel   </td><td>145      </td><td>41.5     </td><td>2.1      </td></tr>\n",
       "\t<tr><td>CLSClass </td><td>2019     </td><td>37990    </td><td>Automatic</td><td> 2426    </td><td>Diesel   </td><td>145      </td><td>45.6     </td><td>2.0      </td></tr>\n",
       "\t<tr><td>SClass   </td><td>2019     </td><td>54999    </td><td>Automatic</td><td> 2075    </td><td>Diesel   </td><td>145      </td><td>52.3     </td><td>2.9      </td></tr>\n",
       "</tbody>\n",
       "</table>\n"
      ],
      "text/latex": [
       "\\begin{tabular}{r|lllllllll}\n",
       " model & year & price & transmission & mileage & fuelType & tax & mpg & engineSize\\\\\n",
       "\\hline\n",
       "\t SLK       & 2005      &   5200    & Automatic &  63000    & Petrol    & 325       & 32.1      & 1.8      \\\\\n",
       "\t SClass    & 2017      &  34948    & Automatic &  27000    & Hybrid    &  20       & 61.4      & 2.1      \\\\\n",
       "\t SLCLASS   & 2016      &  49948    & Automatic &   6200    & Petrol    & 555       & 28.0      & 5.5      \\\\\n",
       "\t GClass    & 2016      &  61948    & Automatic &  16000    & Petrol    & 325       & 30.4      & 4.0      \\\\\n",
       "\t GClass    & 2016      &  73948    & Automatic &   4000    & Petrol    & 325       & 30.1      & 4.0      \\\\\n",
       "\t SLCLASS   & 2011      & 149948    & Automatic &   3000    & Petrol    & 570       & 21.4      & 6.2      \\\\\n",
       "\t GLEClass  & 2018      &  30948    & Automatic &  16000    & Diesel    & 145       & 47.9      & 2.1      \\\\\n",
       "\t SClass    & 2012      &  10948    & Automatic & 107000    & Petrol    & 265       & 36.7      & 3.5      \\\\\n",
       "\t GClass    & 2019      & 139948    & Automatic &  12000    & Petrol    & 145       & 21.4      & 4.0      \\\\\n",
       "\t GLAClass  & 2017      &  19750    & Automatic &  15258    & Diesel    &  30       & 64.2      & 2.1      \\\\\n",
       "\t AClass    & 2020      &  32980    & Automatic &    606    & Petrol    & 145       & 35.8      & 2.0      \\\\\n",
       "\t AClass    & 2020      &  26980    & Automatic &   1000    & Diesel    & 145       & 62.8      & 1.5      \\\\\n",
       "\t BClass    & 2019      &  23750    & Automatic &    278    & Diesel    & 145       & 55.4      & 2.0      \\\\\n",
       "\t GLCClass  & 2019      &  67980    & Automatic &   5500    & Petrol    & 145       & 21.7      & 4.0      \\\\\n",
       "\t GLAClass  & 2016      &  18980    & Automatic &  41713    & Diesel    & 125       & 56.6      & 2.1      \\\\\n",
       "\t BClass    & 2017      &  15890    & Automatic &  24841    & Diesel    & 150       & 68.9      & 1.5      \\\\\n",
       "\t CClass    & 2017      &  19890    & Automatic &  30281    & Diesel    & 150       & 60.1      & 2.1      \\\\\n",
       "\t GLEClass  & 2019      &  56800    & Automatic &   2483    & Petrol    & 145       & 29.5      & 3.0      \\\\\n",
       "\t BClass    & 2017      &  17513    & Automatic &  14128    & Diesel    & 150       & 68.9      & 2.1      \\\\\n",
       "\t CClass    & 2014      &  15701    & Automatic &  20498    & Diesel    &  20       & 64.2      & 2.1      \\\\\n",
       "\t CClass    & 2019      &  26601    & Automatic &   9949    & Diesel    & 150       & 64.2      & 2.0      \\\\\n",
       "\t CClass    & 2016      &  17672    & Automatic &  31656    & Diesel    &  30       & 64.2      & 2.1      \\\\\n",
       "\t EClass    & 2015      &  20769    & Automatic &  21874    & Diesel    & 165       & 51.4      & 3.0      \\\\\n",
       "\t EClass    & 2017      &  22270    & Automatic &  13398    & Diesel    & 165       & 52.3      & 3.0      \\\\\n",
       "\t GLClass   & 2015      &  34129    & Automatic &  13581    & Diesel    & 330       & 36.2      & 3.0      \\\\\n",
       "\t SLCLASS   & 2017      &  20601    & Automatic &  16730    & Diesel    & 150       & 70.6      & 2.1      \\\\\n",
       "\t CLSClass  & 2016      &  25077    & Automatic &  13887    & Diesel    & 165       & 49.6      & 3.0      \\\\\n",
       "\t SLCLASS   & 2017      &  21609    & Automatic &   2780    & Diesel    &  30       & 70.6      & 2.1      \\\\\n",
       "\t SLCLASS   & 2018      &  22914    & Automatic &   8725    & Petrol    & 145       & 47.9      & 2.0      \\\\\n",
       "\t CClass    & 2016      &  19328    & Automatic &  25042    & Diesel    &  30       & 64.2      & 2.1      \\\\\n",
       "\t ... & ... & ... & ... & ... & ... & ... & ... & ...\\\\\n",
       "\t SLCLASS   & 2017      & 20659     & Automatic &  6573     & Diesel    & 150       & 70.6      & 2.1      \\\\\n",
       "\t AClass    & 2015      & 12995     & Automatic & 34665     & Diesel    &  20       & 70.6      & 1.5      \\\\\n",
       "\t GLSClass  & 2017      & 38343     & Automatic & 26452     & Diesel    & 305       & 37.2      & 3.0      \\\\\n",
       "\t GLEClass  & 2016      & 30045     & Automatic & 18524     & Diesel    & 240       & 42.8      & 3.0      \\\\\n",
       "\t CClass    & 2019      & 23999     & Automatic &  6328     & Petrol    & 145       & 46.3      & 1.5      \\\\\n",
       "\t GLCClass  & 2017      & 30999     & Automatic & 12376     & Diesel    & 145       & 56.5      & 2.1      \\\\\n",
       "\t CLSClass  & 2016      & 20399     & Automatic & 16107     & Diesel    & 160       & 51.4      & 3.0      \\\\\n",
       "\t GLEClass  & 2016      & 27999     & Automatic & 27804     & Diesel    & 260       & 42.8      & 3.0      \\\\\n",
       "\t GLCClass  & 2019      & 34459     & Automatic &  9250     & Diesel    & 145       & 56.5      & 2.1      \\\\\n",
       "\t CClass    & 2019      & 24499     & Automatic & 10635     & Petrol    & 145       & 44.1      & 1.5      \\\\\n",
       "\t CClass    & 2019      & 23994     & Automatic & 12794     & Petrol    & 145       & 46.3      & 1.5      \\\\\n",
       "\t CClass    & 2019      & 25829     & Automatic &  9924     & Diesel    & 145       & 60.1      & 2.0      \\\\\n",
       "\t GLCClass  & 2016      & 23999     & Automatic & 14000     & Diesel    & 125       & 56.5      & 2.1      \\\\\n",
       "\t GLCClass  & 2017      & 35999     & Automatic & 18507     & Petrol    & 150       & 34.0      & 3.0      \\\\\n",
       "\t CClass    & 2019      & 23444     & Automatic & 10284     & Diesel    & 145       & 61.4      & 2.0      \\\\\n",
       "\t EClass    & 2019      & 24249     & Automatic & 10860     & Diesel    & 145       & 72.4      & 2.0      \\\\\n",
       "\t CClass    & 2019      & 27899     & Automatic &  8273     & Diesel    & 145       & 56.5      & 2.0      \\\\\n",
       "\t CClass    & 2019      & 27999     & Automatic &  6537     & Petrol    & 145       & 44.1      & 2.0      \\\\\n",
       "\t CClass    & 2019      & 24999     & Automatic &  6064     & Diesel    & 145       & 61.4      & 2.0      \\\\\n",
       "\t SLK       & 2016      & 17499     & Automatic & 30128     & Diesel    &  30       & 70.6      & 2.1      \\\\\n",
       "\t AClass    & 2017      & 16499     & Automatic & 20477     & Diesel    & 145       & 68.9      & 2.1      \\\\\n",
       "\t CLAClass  & 2019      & 25499     & Automatic & 11442     & Diesel    & 145       & 51.4      & 2.1      \\\\\n",
       "\t BClass    & 2019      & 19344     & Automatic & 15257     & Petrol    & 145       & 45.6      & 1.3      \\\\\n",
       "\t CClass    & 2019      & 30399     & Automatic &  5000     & Diesel    & 145       & 61.4      & 2.0      \\\\\n",
       "\t CClass    & 2020      & 30999     & Automatic &  1000     & Diesel    & 145       & 64.2      & 2.0      \\\\\n",
       "\t CClass    & 2020      & 35999     & Automatic &   500     & Diesel    & 145       & 55.4      & 2.0      \\\\\n",
       "\t BClass    & 2020      & 24699     & Automatic &  2500     & Diesel    & 145       & 55.4      & 2.0      \\\\\n",
       "\t GLCClass  & 2019      & 30999     & Automatic & 11612     & Diesel    & 145       & 41.5      & 2.1      \\\\\n",
       "\t CLSClass  & 2019      & 37990     & Automatic &  2426     & Diesel    & 145       & 45.6      & 2.0      \\\\\n",
       "\t SClass    & 2019      & 54999     & Automatic &  2075     & Diesel    & 145       & 52.3      & 2.9      \\\\\n",
       "\\end{tabular}\n"
      ],
      "text/markdown": [
       "\n",
       "| model | year | price | transmission | mileage | fuelType | tax | mpg | engineSize |\n",
       "|---|---|---|---|---|---|---|---|---|\n",
       "| SLK       | 2005      |   5200    | Automatic |  63000    | Petrol    | 325       | 32.1      | 1.8       |\n",
       "| SClass    | 2017      |  34948    | Automatic |  27000    | Hybrid    |  20       | 61.4      | 2.1       |\n",
       "| SLCLASS   | 2016      |  49948    | Automatic |   6200    | Petrol    | 555       | 28.0      | 5.5       |\n",
       "| GClass    | 2016      |  61948    | Automatic |  16000    | Petrol    | 325       | 30.4      | 4.0       |\n",
       "| GClass    | 2016      |  73948    | Automatic |   4000    | Petrol    | 325       | 30.1      | 4.0       |\n",
       "| SLCLASS   | 2011      | 149948    | Automatic |   3000    | Petrol    | 570       | 21.4      | 6.2       |\n",
       "| GLEClass  | 2018      |  30948    | Automatic |  16000    | Diesel    | 145       | 47.9      | 2.1       |\n",
       "| SClass    | 2012      |  10948    | Automatic | 107000    | Petrol    | 265       | 36.7      | 3.5       |\n",
       "| GClass    | 2019      | 139948    | Automatic |  12000    | Petrol    | 145       | 21.4      | 4.0       |\n",
       "| GLAClass  | 2017      |  19750    | Automatic |  15258    | Diesel    |  30       | 64.2      | 2.1       |\n",
       "| AClass    | 2020      |  32980    | Automatic |    606    | Petrol    | 145       | 35.8      | 2.0       |\n",
       "| AClass    | 2020      |  26980    | Automatic |   1000    | Diesel    | 145       | 62.8      | 1.5       |\n",
       "| BClass    | 2019      |  23750    | Automatic |    278    | Diesel    | 145       | 55.4      | 2.0       |\n",
       "| GLCClass  | 2019      |  67980    | Automatic |   5500    | Petrol    | 145       | 21.7      | 4.0       |\n",
       "| GLAClass  | 2016      |  18980    | Automatic |  41713    | Diesel    | 125       | 56.6      | 2.1       |\n",
       "| BClass    | 2017      |  15890    | Automatic |  24841    | Diesel    | 150       | 68.9      | 1.5       |\n",
       "| CClass    | 2017      |  19890    | Automatic |  30281    | Diesel    | 150       | 60.1      | 2.1       |\n",
       "| GLEClass  | 2019      |  56800    | Automatic |   2483    | Petrol    | 145       | 29.5      | 3.0       |\n",
       "| BClass    | 2017      |  17513    | Automatic |  14128    | Diesel    | 150       | 68.9      | 2.1       |\n",
       "| CClass    | 2014      |  15701    | Automatic |  20498    | Diesel    |  20       | 64.2      | 2.1       |\n",
       "| CClass    | 2019      |  26601    | Automatic |   9949    | Diesel    | 150       | 64.2      | 2.0       |\n",
       "| CClass    | 2016      |  17672    | Automatic |  31656    | Diesel    |  30       | 64.2      | 2.1       |\n",
       "| EClass    | 2015      |  20769    | Automatic |  21874    | Diesel    | 165       | 51.4      | 3.0       |\n",
       "| EClass    | 2017      |  22270    | Automatic |  13398    | Diesel    | 165       | 52.3      | 3.0       |\n",
       "| GLClass   | 2015      |  34129    | Automatic |  13581    | Diesel    | 330       | 36.2      | 3.0       |\n",
       "| SLCLASS   | 2017      |  20601    | Automatic |  16730    | Diesel    | 150       | 70.6      | 2.1       |\n",
       "| CLSClass  | 2016      |  25077    | Automatic |  13887    | Diesel    | 165       | 49.6      | 3.0       |\n",
       "| SLCLASS   | 2017      |  21609    | Automatic |   2780    | Diesel    |  30       | 70.6      | 2.1       |\n",
       "| SLCLASS   | 2018      |  22914    | Automatic |   8725    | Petrol    | 145       | 47.9      | 2.0       |\n",
       "| CClass    | 2016      |  19328    | Automatic |  25042    | Diesel    |  30       | 64.2      | 2.1       |\n",
       "| ... | ... | ... | ... | ... | ... | ... | ... | ... |\n",
       "| SLCLASS   | 2017      | 20659     | Automatic |  6573     | Diesel    | 150       | 70.6      | 2.1       |\n",
       "| AClass    | 2015      | 12995     | Automatic | 34665     | Diesel    |  20       | 70.6      | 1.5       |\n",
       "| GLSClass  | 2017      | 38343     | Automatic | 26452     | Diesel    | 305       | 37.2      | 3.0       |\n",
       "| GLEClass  | 2016      | 30045     | Automatic | 18524     | Diesel    | 240       | 42.8      | 3.0       |\n",
       "| CClass    | 2019      | 23999     | Automatic |  6328     | Petrol    | 145       | 46.3      | 1.5       |\n",
       "| GLCClass  | 2017      | 30999     | Automatic | 12376     | Diesel    | 145       | 56.5      | 2.1       |\n",
       "| CLSClass  | 2016      | 20399     | Automatic | 16107     | Diesel    | 160       | 51.4      | 3.0       |\n",
       "| GLEClass  | 2016      | 27999     | Automatic | 27804     | Diesel    | 260       | 42.8      | 3.0       |\n",
       "| GLCClass  | 2019      | 34459     | Automatic |  9250     | Diesel    | 145       | 56.5      | 2.1       |\n",
       "| CClass    | 2019      | 24499     | Automatic | 10635     | Petrol    | 145       | 44.1      | 1.5       |\n",
       "| CClass    | 2019      | 23994     | Automatic | 12794     | Petrol    | 145       | 46.3      | 1.5       |\n",
       "| CClass    | 2019      | 25829     | Automatic |  9924     | Diesel    | 145       | 60.1      | 2.0       |\n",
       "| GLCClass  | 2016      | 23999     | Automatic | 14000     | Diesel    | 125       | 56.5      | 2.1       |\n",
       "| GLCClass  | 2017      | 35999     | Automatic | 18507     | Petrol    | 150       | 34.0      | 3.0       |\n",
       "| CClass    | 2019      | 23444     | Automatic | 10284     | Diesel    | 145       | 61.4      | 2.0       |\n",
       "| EClass    | 2019      | 24249     | Automatic | 10860     | Diesel    | 145       | 72.4      | 2.0       |\n",
       "| CClass    | 2019      | 27899     | Automatic |  8273     | Diesel    | 145       | 56.5      | 2.0       |\n",
       "| CClass    | 2019      | 27999     | Automatic |  6537     | Petrol    | 145       | 44.1      | 2.0       |\n",
       "| CClass    | 2019      | 24999     | Automatic |  6064     | Diesel    | 145       | 61.4      | 2.0       |\n",
       "| SLK       | 2016      | 17499     | Automatic | 30128     | Diesel    |  30       | 70.6      | 2.1       |\n",
       "| AClass    | 2017      | 16499     | Automatic | 20477     | Diesel    | 145       | 68.9      | 2.1       |\n",
       "| CLAClass  | 2019      | 25499     | Automatic | 11442     | Diesel    | 145       | 51.4      | 2.1       |\n",
       "| BClass    | 2019      | 19344     | Automatic | 15257     | Petrol    | 145       | 45.6      | 1.3       |\n",
       "| CClass    | 2019      | 30399     | Automatic |  5000     | Diesel    | 145       | 61.4      | 2.0       |\n",
       "| CClass    | 2020      | 30999     | Automatic |  1000     | Diesel    | 145       | 64.2      | 2.0       |\n",
       "| CClass    | 2020      | 35999     | Automatic |   500     | Diesel    | 145       | 55.4      | 2.0       |\n",
       "| BClass    | 2020      | 24699     | Automatic |  2500     | Diesel    | 145       | 55.4      | 2.0       |\n",
       "| GLCClass  | 2019      | 30999     | Automatic | 11612     | Diesel    | 145       | 41.5      | 2.1       |\n",
       "| CLSClass  | 2019      | 37990     | Automatic |  2426     | Diesel    | 145       | 45.6      | 2.0       |\n",
       "| SClass    | 2019      | 54999     | Automatic |  2075     | Diesel    | 145       | 52.3      | 2.9       |\n",
       "\n"
      ],
      "text/plain": [
       "      model    year price  transmission mileage fuelType tax mpg  engineSize\n",
       "1     SLK      2005   5200 Automatic     63000  Petrol   325 32.1 1.8       \n",
       "2     SClass   2017  34948 Automatic     27000  Hybrid    20 61.4 2.1       \n",
       "3     SLCLASS  2016  49948 Automatic      6200  Petrol   555 28.0 5.5       \n",
       "4     GClass   2016  61948 Automatic     16000  Petrol   325 30.4 4.0       \n",
       "5     GClass   2016  73948 Automatic      4000  Petrol   325 30.1 4.0       \n",
       "6     SLCLASS  2011 149948 Automatic      3000  Petrol   570 21.4 6.2       \n",
       "7     GLEClass 2018  30948 Automatic     16000  Diesel   145 47.9 2.1       \n",
       "8     SClass   2012  10948 Automatic    107000  Petrol   265 36.7 3.5       \n",
       "9     GClass   2019 139948 Automatic     12000  Petrol   145 21.4 4.0       \n",
       "10    GLAClass 2017  19750 Automatic     15258  Diesel    30 64.2 2.1       \n",
       "11    AClass   2020  32980 Automatic       606  Petrol   145 35.8 2.0       \n",
       "12    AClass   2020  26980 Automatic      1000  Diesel   145 62.8 1.5       \n",
       "13    BClass   2019  23750 Automatic       278  Diesel   145 55.4 2.0       \n",
       "14    GLCClass 2019  67980 Automatic      5500  Petrol   145 21.7 4.0       \n",
       "15    GLAClass 2016  18980 Automatic     41713  Diesel   125 56.6 2.1       \n",
       "16    BClass   2017  15890 Automatic     24841  Diesel   150 68.9 1.5       \n",
       "17    CClass   2017  19890 Automatic     30281  Diesel   150 60.1 2.1       \n",
       "18    GLEClass 2019  56800 Automatic      2483  Petrol   145 29.5 3.0       \n",
       "19    BClass   2017  17513 Automatic     14128  Diesel   150 68.9 2.1       \n",
       "20    CClass   2014  15701 Automatic     20498  Diesel    20 64.2 2.1       \n",
       "21    CClass   2019  26601 Automatic      9949  Diesel   150 64.2 2.0       \n",
       "22    CClass   2016  17672 Automatic     31656  Diesel    30 64.2 2.1       \n",
       "23    EClass   2015  20769 Automatic     21874  Diesel   165 51.4 3.0       \n",
       "24    EClass   2017  22270 Automatic     13398  Diesel   165 52.3 3.0       \n",
       "25    GLClass  2015  34129 Automatic     13581  Diesel   330 36.2 3.0       \n",
       "26    SLCLASS  2017  20601 Automatic     16730  Diesel   150 70.6 2.1       \n",
       "27    CLSClass 2016  25077 Automatic     13887  Diesel   165 49.6 3.0       \n",
       "28    SLCLASS  2017  21609 Automatic      2780  Diesel    30 70.6 2.1       \n",
       "29    SLCLASS  2018  22914 Automatic      8725  Petrol   145 47.9 2.0       \n",
       "30    CClass   2016  19328 Automatic     25042  Diesel    30 64.2 2.1       \n",
       "...   ...      ...  ...    ...          ...     ...      ... ...  ...       \n",
       "13090 SLCLASS  2017 20659  Automatic     6573   Diesel   150 70.6 2.1       \n",
       "13091 AClass   2015 12995  Automatic    34665   Diesel    20 70.6 1.5       \n",
       "13092 GLSClass 2017 38343  Automatic    26452   Diesel   305 37.2 3.0       \n",
       "13093 GLEClass 2016 30045  Automatic    18524   Diesel   240 42.8 3.0       \n",
       "13094 CClass   2019 23999  Automatic     6328   Petrol   145 46.3 1.5       \n",
       "13095 GLCClass 2017 30999  Automatic    12376   Diesel   145 56.5 2.1       \n",
       "13096 CLSClass 2016 20399  Automatic    16107   Diesel   160 51.4 3.0       \n",
       "13097 GLEClass 2016 27999  Automatic    27804   Diesel   260 42.8 3.0       \n",
       "13098 GLCClass 2019 34459  Automatic     9250   Diesel   145 56.5 2.1       \n",
       "13099 CClass   2019 24499  Automatic    10635   Petrol   145 44.1 1.5       \n",
       "13100 CClass   2019 23994  Automatic    12794   Petrol   145 46.3 1.5       \n",
       "13101 CClass   2019 25829  Automatic     9924   Diesel   145 60.1 2.0       \n",
       "13102 GLCClass 2016 23999  Automatic    14000   Diesel   125 56.5 2.1       \n",
       "13103 GLCClass 2017 35999  Automatic    18507   Petrol   150 34.0 3.0       \n",
       "13104 CClass   2019 23444  Automatic    10284   Diesel   145 61.4 2.0       \n",
       "13105 EClass   2019 24249  Automatic    10860   Diesel   145 72.4 2.0       \n",
       "13106 CClass   2019 27899  Automatic     8273   Diesel   145 56.5 2.0       \n",
       "13107 CClass   2019 27999  Automatic     6537   Petrol   145 44.1 2.0       \n",
       "13108 CClass   2019 24999  Automatic     6064   Diesel   145 61.4 2.0       \n",
       "13109 SLK      2016 17499  Automatic    30128   Diesel    30 70.6 2.1       \n",
       "13110 AClass   2017 16499  Automatic    20477   Diesel   145 68.9 2.1       \n",
       "13111 CLAClass 2019 25499  Automatic    11442   Diesel   145 51.4 2.1       \n",
       "13112 BClass   2019 19344  Automatic    15257   Petrol   145 45.6 1.3       \n",
       "13113 CClass   2019 30399  Automatic     5000   Diesel   145 61.4 2.0       \n",
       "13114 CClass   2020 30999  Automatic     1000   Diesel   145 64.2 2.0       \n",
       "13115 CClass   2020 35999  Automatic      500   Diesel   145 55.4 2.0       \n",
       "13116 BClass   2020 24699  Automatic     2500   Diesel   145 55.4 2.0       \n",
       "13117 GLCClass 2019 30999  Automatic    11612   Diesel   145 41.5 2.1       \n",
       "13118 CLSClass 2019 37990  Automatic     2426   Diesel   145 45.6 2.0       \n",
       "13119 SClass   2019 54999  Automatic     2075   Diesel   145 52.3 2.9       "
      ]
     },
     "metadata": {},
     "output_type": "display_data"
    }
   ],
   "source": [
    "benz3$model <- str_replace_all(benz3$model,\" \",\"\")\n",
    "benz3"
   ]
  },
  {
   "cell_type": "code",
   "execution_count": 21,
   "id": "5b78c48e",
   "metadata": {},
   "outputs": [],
   "source": [
    "# C class csv 뽑기\n",
    "CClassModel<- subset(benz3,model == \"CClass\")"
   ]
  },
  {
   "cell_type": "code",
   "execution_count": 22,
   "id": "f75fa685",
   "metadata": {},
   "outputs": [
    {
     "name": "stdout",
     "output_type": "stream",
     "text": [
      "'data.frame':\t3747 obs. of  9 variables:\n",
      " $ model       : chr  \"CClass\" \"CClass\" \"CClass\" \"CClass\" ...\n",
      " $ year        : int  2017 2014 2019 2016 2016 2019 2017 2020 2017 2019 ...\n",
      " $ price       : int  19890 15701 26601 17672 19328 29546 15311 31790 19743 24055 ...\n",
      " $ transmission: Factor w/ 4 levels \"Automatic\",\"Manual\",..: 1 1 1 1 1 1 1 1 1 1 ...\n",
      " $ mileage     : int  30281 20498 9949 31656 25042 7990 31371 3500 16509 7475 ...\n",
      " $ fuelType    : Factor w/ 4 levels \"Diesel\",\"Hybrid\",..: 1 1 1 1 1 1 1 4 1 1 ...\n",
      " $ tax         : int  150 20 150 30 30 145 20 145 145 145 ...\n",
      " $ mpg         : num  60.1 64.2 64.2 64.2 64.2 54.3 65.7 64.2 61.4 61.4 ...\n",
      " $ engineSize  : num  2.1 2.1 2 2.1 2.1 2 2.1 2 2.1 2 ...\n"
     ]
    }
   ],
   "source": [
    "str(CClassModel)"
   ]
  },
  {
   "cell_type": "code",
   "execution_count": 25,
   "id": "c3a73c7a",
   "metadata": {},
   "outputs": [],
   "source": [
    "write.csv(CClassModel,\"../Data/benz3_CClass.csv\",row.names =F)"
   ]
  },
  {
   "cell_type": "code",
   "execution_count": 26,
   "id": "cf4b7233",
   "metadata": {},
   "outputs": [],
   "source": [
    "# A class csv 뽑기\n",
    "AClassModel<- subset(benz3,model == \"AClass\")"
   ]
  },
  {
   "cell_type": "code",
   "execution_count": 27,
   "id": "50a2c36f",
   "metadata": {},
   "outputs": [
    {
     "name": "stdout",
     "output_type": "stream",
     "text": [
      "'data.frame':\t2561 obs. of  9 variables:\n",
      " $ model       : chr  \"AClass\" \"AClass\" \"AClass\" \"AClass\" ...\n",
      " $ year        : int  2020 2020 2020 2019 2017 2019 2019 2006 2011 2013 ...\n",
      " $ price       : int  32980 26980 28128 23184 15787 25701 25190 2880 3440 7300 ...\n",
      " $ transmission: Factor w/ 4 levels \"Automatic\",\"Manual\",..: 1 1 1 2 1 1 1 1 2 1 ...\n",
      " $ mileage     : int  606 1000 2563 1173 24092 11000 2471 66000 74000 54000 ...\n",
      " $ fuelType    : Factor w/ 4 levels \"Diesel\",\"Hybrid\",..: 4 1 4 4 1 1 1 1 1 1 ...\n",
      " $ tax         : int  145 145 145 145 20 150 145 160 150 30 ...\n",
      " $ mpg         : num  35.8 62.8 47.9 44.8 70.6 56.5 56.5 52.3 54.3 65.7 ...\n",
      " $ engineSize  : num  2 1.5 1.3 1.3 2.1 2 2 2 2 1.8 ...\n"
     ]
    }
   ],
   "source": [
    "str(AClassModel)"
   ]
  },
  {
   "cell_type": "code",
   "execution_count": 30,
   "id": "ceef3f39",
   "metadata": {},
   "outputs": [],
   "source": [
    "write.csv(AClassModel,\"../Data/benz3_AClass.csv\",row.names =F)"
   ]
  },
  {
   "cell_type": "code",
   "execution_count": 31,
   "id": "e72ec300",
   "metadata": {},
   "outputs": [],
   "source": [
    "# E class csv 뽑기\n",
    "EClassModel<- subset(benz3,model == \"EClass\")"
   ]
  },
  {
   "cell_type": "code",
   "execution_count": 32,
   "id": "635f6455",
   "metadata": {},
   "outputs": [
    {
     "name": "stdout",
     "output_type": "stream",
     "text": [
      "'data.frame':\t1953 obs. of  9 variables:\n",
      " $ model       : chr  \"EClass\" \"EClass\" \"EClass\" \"EClass\" ...\n",
      " $ year        : int  2015 2017 2019 2017 2015 2010 2011 2015 2007 2019 ...\n",
      " $ price       : int  20769 22270 24541 20880 13990 6980 5740 17480 4880 29991 ...\n",
      " $ transmission: Factor w/ 4 levels \"Automatic\",\"Manual\",..: 1 1 1 1 1 2 2 1 1 1 ...\n",
      " $ mileage     : int  21874 13398 10279 37000 52000 79000 115000 22000 58000 10356 ...\n",
      " $ fuelType    : Factor w/ 4 levels \"Diesel\",\"Hybrid\",..: 1 1 1 1 1 4 1 1 1 1 ...\n",
      " $ tax         : int  165 165 145 30 125 300 160 140 315 145 ...\n",
      " $ mpg         : num  51.4 52.3 67.3 65.7 60.1 35.3 52.3 53.3 37.2 70.6 ...\n",
      " $ engineSize  : num  3 3 2 2 2.1 1.8 2.1 3 3 2 ...\n"
     ]
    }
   ],
   "source": [
    "str(EClassModel)"
   ]
  },
  {
   "cell_type": "code",
   "execution_count": 33,
   "id": "eac550d3",
   "metadata": {},
   "outputs": [],
   "source": [
    "write.csv(EClassModel,\"../Data/benz3_EClass.csv\",row.names =F)"
   ]
  },
  {
   "cell_type": "code",
   "execution_count": null,
   "id": "3bc79c2b",
   "metadata": {},
   "outputs": [],
   "source": []
  }
 ],
 "metadata": {
  "kernelspec": {
   "display_name": "R",
   "language": "R",
   "name": "ir"
  },
  "language_info": {
   "codemirror_mode": "r",
   "file_extension": ".r",
   "mimetype": "text/x-r-source",
   "name": "R",
   "pygments_lexer": "r",
   "version": "3.6.1"
  }
 },
 "nbformat": 4,
 "nbformat_minor": 5
}
