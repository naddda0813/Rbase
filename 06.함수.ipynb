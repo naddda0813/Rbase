{
 "cells": [
  {
   "cell_type": "markdown",
   "metadata": {},
   "source": [
    "# 기술 통계량을 계산하는 함수 정의"
   ]
  },
  {
   "cell_type": "code",
   "execution_count": 1,
   "metadata": {
    "vscode": {
     "languageId": "r"
    }
   },
   "outputs": [
    {
     "data": {
      "text/html": [
       "<table>\n",
       "<thead><tr><th scope=col>A</th><th scope=col>B</th><th scope=col>C</th><th scope=col>D</th><th scope=col>E</th></tr></thead>\n",
       "<tbody>\n",
       "\t<tr><td>2</td><td>4</td><td>4</td><td>2</td><td>2</td></tr>\n",
       "\t<tr><td>1</td><td>2</td><td>2</td><td>2</td><td>2</td></tr>\n",
       "\t<tr><td>2</td><td>3</td><td>4</td><td>3</td><td>3</td></tr>\n",
       "\t<tr><td>3</td><td>5</td><td>5</td><td>3</td><td>3</td></tr>\n",
       "\t<tr><td>3</td><td>2</td><td>4</td><td>4</td><td>4</td></tr>\n",
       "\t<tr><td>4</td><td>3</td><td>3</td><td>4</td><td>2</td></tr>\n",
       "\t<tr><td>3</td><td>4</td><td>4</td><td>2</td><td>2</td></tr>\n",
       "\t<tr><td>4</td><td>2</td><td>4</td><td>4</td><td>4</td></tr>\n",
       "\t<tr><td>4</td><td>4</td><td>5</td><td>3</td><td>4</td></tr>\n",
       "\t<tr><td>4</td><td>2</td><td>4</td><td>2</td><td>3</td></tr>\n",
       "\t<tr><td>4</td><td>4</td><td>4</td><td>3</td><td>3</td></tr>\n",
       "\t<tr><td>3</td><td>1</td><td>4</td><td>3</td><td>4</td></tr>\n",
       "\t<tr><td>3</td><td>2</td><td>4</td><td>3</td><td>4</td></tr>\n",
       "\t<tr><td>3</td><td>4</td><td>3</td><td>4</td><td>5</td></tr>\n",
       "\t<tr><td>1</td><td>3</td><td>2</td><td>2</td><td>3</td></tr>\n",
       "\t<tr><td>3</td><td>4</td><td>2</td><td>3</td><td>4</td></tr>\n",
       "\t<tr><td>3</td><td>2</td><td>1</td><td>1</td><td>3</td></tr>\n",
       "\t<tr><td>3</td><td>3</td><td>3</td><td>4</td><td>3</td></tr>\n",
       "\t<tr><td>2</td><td>2</td><td>4</td><td>3</td><td>2</td></tr>\n",
       "\t<tr><td>3</td><td>4</td><td>4</td><td>3</td><td>4</td></tr>\n",
       "\t<tr><td>3</td><td>4</td><td>5</td><td>2</td><td>4</td></tr>\n",
       "\t<tr><td>4</td><td>3</td><td>4</td><td>2</td><td>3</td></tr>\n",
       "\t<tr><td>2</td><td>2</td><td>2</td><td>1</td><td>4</td></tr>\n",
       "\t<tr><td>2</td><td>3</td><td>4</td><td>3</td><td>5</td></tr>\n",
       "\t<tr><td>3</td><td>4</td><td>4</td><td>2</td><td>4</td></tr>\n",
       "\t<tr><td>4</td><td>2</td><td>3</td><td>3</td><td>2</td></tr>\n",
       "\t<tr><td>4</td><td>4</td><td>4</td><td>4</td><td>3</td></tr>\n",
       "\t<tr><td>4</td><td>4</td><td>5</td><td>3</td><td>3</td></tr>\n",
       "\t<tr><td>3</td><td>2</td><td>2</td><td>3</td><td>4</td></tr>\n",
       "\t<tr><td>3</td><td>2</td><td>4</td><td>3</td><td>5</td></tr>\n",
       "\t<tr><td>...</td><td>...</td><td>...</td><td>...</td><td>...</td></tr>\n",
       "\t<tr><td>4</td><td>4</td><td>3</td><td>4</td><td>5</td></tr>\n",
       "\t<tr><td>2</td><td>3</td><td>4</td><td>3</td><td>3</td></tr>\n",
       "\t<tr><td>2</td><td>4</td><td>5</td><td>3</td><td>5</td></tr>\n",
       "\t<tr><td>3</td><td>3</td><td>4</td><td>2</td><td>3</td></tr>\n",
       "\t<tr><td>3</td><td>2</td><td>2</td><td>2</td><td>3</td></tr>\n",
       "\t<tr><td>3</td><td>2</td><td>4</td><td>2</td><td>3</td></tr>\n",
       "\t<tr><td>2</td><td>4</td><td>5</td><td>2</td><td>2</td></tr>\n",
       "\t<tr><td>1</td><td>2</td><td>3</td><td>1</td><td>3</td></tr>\n",
       "\t<tr><td>3</td><td>1</td><td>2</td><td>3</td><td>5</td></tr>\n",
       "\t<tr><td>4</td><td>3</td><td>3</td><td>3</td><td>5</td></tr>\n",
       "\t<tr><td>3</td><td>4</td><td>4</td><td>3</td><td>3</td></tr>\n",
       "\t<tr><td>3</td><td>4</td><td>3</td><td>4</td><td>3</td></tr>\n",
       "\t<tr><td>2</td><td>2</td><td>2</td><td>2</td><td>4</td></tr>\n",
       "\t<tr><td>4</td><td>3</td><td>5</td><td>4</td><td>2</td></tr>\n",
       "\t<tr><td>3</td><td>2</td><td>3</td><td>3</td><td>4</td></tr>\n",
       "\t<tr><td>2</td><td>4</td><td>4</td><td>3</td><td>2</td></tr>\n",
       "\t<tr><td>3</td><td>2</td><td>2</td><td>1</td><td>4</td></tr>\n",
       "\t<tr><td>3</td><td>2</td><td>4</td><td>2</td><td>4</td></tr>\n",
       "\t<tr><td>1</td><td>2</td><td>2</td><td>2</td><td>2</td></tr>\n",
       "\t<tr><td>3</td><td>2</td><td>4</td><td>3</td><td>4</td></tr>\n",
       "\t<tr><td>2</td><td>4</td><td>4</td><td>3</td><td>4</td></tr>\n",
       "\t<tr><td>4</td><td>3</td><td>5</td><td>3</td><td>2</td></tr>\n",
       "\t<tr><td>3</td><td>1</td><td>2</td><td>1</td><td>1</td></tr>\n",
       "\t<tr><td>3</td><td>4</td><td>4</td><td>3</td><td>2</td></tr>\n",
       "\t<tr><td>2</td><td>3</td><td>5</td><td>2</td><td>4</td></tr>\n",
       "\t<tr><td>4</td><td>3</td><td>3</td><td>2</td><td>4</td></tr>\n",
       "\t<tr><td>2</td><td>4</td><td>4</td><td>2</td><td>3</td></tr>\n",
       "\t<tr><td>2</td><td>2</td><td>5</td><td>2</td><td>4</td></tr>\n",
       "\t<tr><td>2</td><td>3</td><td>4</td><td>2</td><td>4</td></tr>\n",
       "\t<tr><td>2</td><td>2</td><td>4</td><td>2</td><td>4</td></tr>\n",
       "</tbody>\n",
       "</table>\n"
      ],
      "text/latex": [
       "\\begin{tabular}{r|lllll}\n",
       " A & B & C & D & E\\\\\n",
       "\\hline\n",
       "\t 2 & 4 & 4 & 2 & 2\\\\\n",
       "\t 1 & 2 & 2 & 2 & 2\\\\\n",
       "\t 2 & 3 & 4 & 3 & 3\\\\\n",
       "\t 3 & 5 & 5 & 3 & 3\\\\\n",
       "\t 3 & 2 & 4 & 4 & 4\\\\\n",
       "\t 4 & 3 & 3 & 4 & 2\\\\\n",
       "\t 3 & 4 & 4 & 2 & 2\\\\\n",
       "\t 4 & 2 & 4 & 4 & 4\\\\\n",
       "\t 4 & 4 & 5 & 3 & 4\\\\\n",
       "\t 4 & 2 & 4 & 2 & 3\\\\\n",
       "\t 4 & 4 & 4 & 3 & 3\\\\\n",
       "\t 3 & 1 & 4 & 3 & 4\\\\\n",
       "\t 3 & 2 & 4 & 3 & 4\\\\\n",
       "\t 3 & 4 & 3 & 4 & 5\\\\\n",
       "\t 1 & 3 & 2 & 2 & 3\\\\\n",
       "\t 3 & 4 & 2 & 3 & 4\\\\\n",
       "\t 3 & 2 & 1 & 1 & 3\\\\\n",
       "\t 3 & 3 & 3 & 4 & 3\\\\\n",
       "\t 2 & 2 & 4 & 3 & 2\\\\\n",
       "\t 3 & 4 & 4 & 3 & 4\\\\\n",
       "\t 3 & 4 & 5 & 2 & 4\\\\\n",
       "\t 4 & 3 & 4 & 2 & 3\\\\\n",
       "\t 2 & 2 & 2 & 1 & 4\\\\\n",
       "\t 2 & 3 & 4 & 3 & 5\\\\\n",
       "\t 3 & 4 & 4 & 2 & 4\\\\\n",
       "\t 4 & 2 & 3 & 3 & 2\\\\\n",
       "\t 4 & 4 & 4 & 4 & 3\\\\\n",
       "\t 4 & 4 & 5 & 3 & 3\\\\\n",
       "\t 3 & 2 & 2 & 3 & 4\\\\\n",
       "\t 3 & 2 & 4 & 3 & 5\\\\\n",
       "\t ... & ... & ... & ... & ...\\\\\n",
       "\t 4 & 4 & 3 & 4 & 5\\\\\n",
       "\t 2 & 3 & 4 & 3 & 3\\\\\n",
       "\t 2 & 4 & 5 & 3 & 5\\\\\n",
       "\t 3 & 3 & 4 & 2 & 3\\\\\n",
       "\t 3 & 2 & 2 & 2 & 3\\\\\n",
       "\t 3 & 2 & 4 & 2 & 3\\\\\n",
       "\t 2 & 4 & 5 & 2 & 2\\\\\n",
       "\t 1 & 2 & 3 & 1 & 3\\\\\n",
       "\t 3 & 1 & 2 & 3 & 5\\\\\n",
       "\t 4 & 3 & 3 & 3 & 5\\\\\n",
       "\t 3 & 4 & 4 & 3 & 3\\\\\n",
       "\t 3 & 4 & 3 & 4 & 3\\\\\n",
       "\t 2 & 2 & 2 & 2 & 4\\\\\n",
       "\t 4 & 3 & 5 & 4 & 2\\\\\n",
       "\t 3 & 2 & 3 & 3 & 4\\\\\n",
       "\t 2 & 4 & 4 & 3 & 2\\\\\n",
       "\t 3 & 2 & 2 & 1 & 4\\\\\n",
       "\t 3 & 2 & 4 & 2 & 4\\\\\n",
       "\t 1 & 2 & 2 & 2 & 2\\\\\n",
       "\t 3 & 2 & 4 & 3 & 4\\\\\n",
       "\t 2 & 4 & 4 & 3 & 4\\\\\n",
       "\t 4 & 3 & 5 & 3 & 2\\\\\n",
       "\t 3 & 1 & 2 & 1 & 1\\\\\n",
       "\t 3 & 4 & 4 & 3 & 2\\\\\n",
       "\t 2 & 3 & 5 & 2 & 4\\\\\n",
       "\t 4 & 3 & 3 & 2 & 4\\\\\n",
       "\t 2 & 4 & 4 & 2 & 3\\\\\n",
       "\t 2 & 2 & 5 & 2 & 4\\\\\n",
       "\t 2 & 3 & 4 & 2 & 4\\\\\n",
       "\t 2 & 2 & 4 & 2 & 4\\\\\n",
       "\\end{tabular}\n"
      ],
      "text/markdown": [
       "\n",
       "| A | B | C | D | E |\n",
       "|---|---|---|---|---|\n",
       "| 2 | 4 | 4 | 2 | 2 |\n",
       "| 1 | 2 | 2 | 2 | 2 |\n",
       "| 2 | 3 | 4 | 3 | 3 |\n",
       "| 3 | 5 | 5 | 3 | 3 |\n",
       "| 3 | 2 | 4 | 4 | 4 |\n",
       "| 4 | 3 | 3 | 4 | 2 |\n",
       "| 3 | 4 | 4 | 2 | 2 |\n",
       "| 4 | 2 | 4 | 4 | 4 |\n",
       "| 4 | 4 | 5 | 3 | 4 |\n",
       "| 4 | 2 | 4 | 2 | 3 |\n",
       "| 4 | 4 | 4 | 3 | 3 |\n",
       "| 3 | 1 | 4 | 3 | 4 |\n",
       "| 3 | 2 | 4 | 3 | 4 |\n",
       "| 3 | 4 | 3 | 4 | 5 |\n",
       "| 1 | 3 | 2 | 2 | 3 |\n",
       "| 3 | 4 | 2 | 3 | 4 |\n",
       "| 3 | 2 | 1 | 1 | 3 |\n",
       "| 3 | 3 | 3 | 4 | 3 |\n",
       "| 2 | 2 | 4 | 3 | 2 |\n",
       "| 3 | 4 | 4 | 3 | 4 |\n",
       "| 3 | 4 | 5 | 2 | 4 |\n",
       "| 4 | 3 | 4 | 2 | 3 |\n",
       "| 2 | 2 | 2 | 1 | 4 |\n",
       "| 2 | 3 | 4 | 3 | 5 |\n",
       "| 3 | 4 | 4 | 2 | 4 |\n",
       "| 4 | 2 | 3 | 3 | 2 |\n",
       "| 4 | 4 | 4 | 4 | 3 |\n",
       "| 4 | 4 | 5 | 3 | 3 |\n",
       "| 3 | 2 | 2 | 3 | 4 |\n",
       "| 3 | 2 | 4 | 3 | 5 |\n",
       "| ... | ... | ... | ... | ... |\n",
       "| 4 | 4 | 3 | 4 | 5 |\n",
       "| 2 | 3 | 4 | 3 | 3 |\n",
       "| 2 | 4 | 5 | 3 | 5 |\n",
       "| 3 | 3 | 4 | 2 | 3 |\n",
       "| 3 | 2 | 2 | 2 | 3 |\n",
       "| 3 | 2 | 4 | 2 | 3 |\n",
       "| 2 | 4 | 5 | 2 | 2 |\n",
       "| 1 | 2 | 3 | 1 | 3 |\n",
       "| 3 | 1 | 2 | 3 | 5 |\n",
       "| 4 | 3 | 3 | 3 | 5 |\n",
       "| 3 | 4 | 4 | 3 | 3 |\n",
       "| 3 | 4 | 3 | 4 | 3 |\n",
       "| 2 | 2 | 2 | 2 | 4 |\n",
       "| 4 | 3 | 5 | 4 | 2 |\n",
       "| 3 | 2 | 3 | 3 | 4 |\n",
       "| 2 | 4 | 4 | 3 | 2 |\n",
       "| 3 | 2 | 2 | 1 | 4 |\n",
       "| 3 | 2 | 4 | 2 | 4 |\n",
       "| 1 | 2 | 2 | 2 | 2 |\n",
       "| 3 | 2 | 4 | 3 | 4 |\n",
       "| 2 | 4 | 4 | 3 | 4 |\n",
       "| 4 | 3 | 5 | 3 | 2 |\n",
       "| 3 | 1 | 2 | 1 | 1 |\n",
       "| 3 | 4 | 4 | 3 | 2 |\n",
       "| 2 | 3 | 5 | 2 | 4 |\n",
       "| 4 | 3 | 3 | 2 | 4 |\n",
       "| 2 | 4 | 4 | 2 | 3 |\n",
       "| 2 | 2 | 5 | 2 | 4 |\n",
       "| 2 | 3 | 4 | 2 | 4 |\n",
       "| 2 | 2 | 4 | 2 | 4 |\n",
       "\n"
      ],
      "text/plain": [
       "    A   B   C   D   E  \n",
       "1   2   4   4   2   2  \n",
       "2   1   2   2   2   2  \n",
       "3   2   3   4   3   3  \n",
       "4   3   5   5   3   3  \n",
       "5   3   2   4   4   4  \n",
       "6   4   3   3   4   2  \n",
       "7   3   4   4   2   2  \n",
       "8   4   2   4   4   4  \n",
       "9   4   4   5   3   4  \n",
       "10  4   2   4   2   3  \n",
       "11  4   4   4   3   3  \n",
       "12  3   1   4   3   4  \n",
       "13  3   2   4   3   4  \n",
       "14  3   4   3   4   5  \n",
       "15  1   3   2   2   3  \n",
       "16  3   4   2   3   4  \n",
       "17  3   2   1   1   3  \n",
       "18  3   3   3   4   3  \n",
       "19  2   2   4   3   2  \n",
       "20  3   4   4   3   4  \n",
       "21  3   4   5   2   4  \n",
       "22  4   3   4   2   3  \n",
       "23  2   2   2   1   4  \n",
       "24  2   3   4   3   5  \n",
       "25  3   4   4   2   4  \n",
       "26  4   2   3   3   2  \n",
       "27  4   4   4   4   3  \n",
       "28  4   4   5   3   3  \n",
       "29  3   2   2   3   4  \n",
       "30  3   2   4   3   5  \n",
       "... ... ... ... ... ...\n",
       "373 4   4   3   4   5  \n",
       "374 2   3   4   3   3  \n",
       "375 2   4   5   3   5  \n",
       "376 3   3   4   2   3  \n",
       "377 3   2   2   2   3  \n",
       "378 3   2   4   2   3  \n",
       "379 2   4   5   2   2  \n",
       "380 1   2   3   1   3  \n",
       "381 3   1   2   3   5  \n",
       "382 4   3   3   3   5  \n",
       "383 3   4   4   3   3  \n",
       "384 3   4   3   4   3  \n",
       "385 2   2   2   2   4  \n",
       "386 4   3   5   4   2  \n",
       "387 3   2   3   3   4  \n",
       "388 2   4   4   3   2  \n",
       "389 3   2   2   1   4  \n",
       "390 3   2   4   2   4  \n",
       "391 1   2   2   2   2  \n",
       "392 3   2   4   3   4  \n",
       "393 2   4   4   3   4  \n",
       "394 4   3   5   3   2  \n",
       "395 3   1   2   1   1  \n",
       "396 3   4   4   3   2  \n",
       "397 2   3   5   2   4  \n",
       "398 4   3   3   2   4  \n",
       "399 2   4   4   2   3  \n",
       "400 2   2   5   2   4  \n",
       "401 2   3   4   2   4  \n",
       "402 2   2   4   2   4  "
      ]
     },
     "metadata": {},
     "output_type": "display_data"
    }
   ],
   "source": [
    "test <- read.csv(\"../Data/test.csv\")\n",
    "test"
   ]
  },
  {
   "cell_type": "code",
   "execution_count": 2,
   "metadata": {
    "vscode": {
     "languageId": "r"
    }
   },
   "outputs": [
    {
     "data": {
      "text/plain": [
       "       A               B               C               D              E        \n",
       " Min.   :1.000   Min.   :1.000   Min.   :1.000   Min.   :1.00   Min.   :1.000  \n",
       " 1st Qu.:2.000   1st Qu.:2.000   1st Qu.:3.000   1st Qu.:2.00   1st Qu.:3.000  \n",
       " Median :3.000   Median :3.000   Median :4.000   Median :2.00   Median :4.000  \n",
       " Mean   :2.734   Mean   :2.908   Mean   :3.622   Mean   :2.51   Mean   :3.386  \n",
       " 3rd Qu.:3.000   3rd Qu.:4.000   3rd Qu.:4.000   3rd Qu.:3.00   3rd Qu.:4.000  \n",
       " Max.   :5.000   Max.   :5.000   Max.   :5.000   Max.   :4.00   Max.   :5.000  "
      ]
     },
     "metadata": {},
     "output_type": "display_data"
    }
   ],
   "source": [
    "summary(test)"
   ]
  },
  {
   "cell_type": "code",
   "execution_count": 3,
   "metadata": {
    "vscode": {
     "languageId": "r"
    }
   },
   "outputs": [
    {
     "data": {
      "text/html": [
       "5"
      ],
      "text/latex": [
       "5"
      ],
      "text/markdown": [
       "5"
      ],
      "text/plain": [
       "[1] 5"
      ]
     },
     "metadata": {},
     "output_type": "display_data"
    },
    {
     "data": {
      "text/html": [
       "1"
      ],
      "text/latex": [
       "1"
      ],
      "text/markdown": [
       "1"
      ],
      "text/plain": [
       "[1] 1"
      ]
     },
     "metadata": {},
     "output_type": "display_data"
    },
    {
     "name": "stdout",
     "output_type": "stream",
     "text": [
      "\n",
      "  1   2   3   4   5 \n",
      " 30 133 156  80   3 \n"
     ]
    }
   ],
   "source": [
    "# A 칼럼의 최대값, 최소값,빈도수 구하기\n",
    "max(test$A)\n",
    "min(test$A)\n",
    "print(table(test$A))"
   ]
  },
  {
   "cell_type": "code",
   "execution_count": 4,
   "metadata": {
    "vscode": {
     "languageId": "r"
    }
   },
   "outputs": [
    {
     "data": {
      "text/html": [
       "5"
      ],
      "text/latex": [
       "5"
      ],
      "text/markdown": [
       "5"
      ],
      "text/plain": [
       "[1] 5"
      ]
     },
     "metadata": {},
     "output_type": "display_data"
    },
    {
     "name": "stdout",
     "output_type": "stream",
     "text": [
      "A 번째 칼럼의 빈도 분석 결과\n",
      "\n",
      "  1   2   3   4   5 \n",
      " 30 133 156  80   3 \n",
      "--------------------\n",
      "B 번째 칼럼의 빈도 분석 결과\n",
      "\n",
      "  1   2   3   4   5 \n",
      " 16 150  98 131   7 \n",
      "--------------------\n",
      "C 번째 칼럼의 빈도 분석 결과\n",
      "\n",
      "  1   2   3   4   5 \n",
      "  3  74  72 176  77 \n",
      "--------------------\n",
      "D 번째 칼럼의 빈도 분석 결과\n",
      "\n",
      "  1   2   3   4 \n",
      " 30 178 153  41 \n",
      "--------------------\n",
      "E 번째 칼럼의 빈도 분석 결과\n",
      "\n",
      "  1   2   3   4   5 \n",
      "  8  81 107 160  46 \n",
      "--------------------\n"
     ]
    }
   ],
   "source": [
    "# 각 컬럼의 빈도수 구하기 \n",
    "#test[,1]\n",
    "ncol(test)\n",
    "for(i in 1:ncol(test)){\n",
    "    cat(colnames(test)[i] ,\"번째 칼럼의 빈도 분석 결과\\n\")\n",
    "    print(table(test[,i]))\n",
    "    cat(\"--------------------\\n\")\n",
    "}\n",
    "    "
   ]
  },
  {
   "cell_type": "code",
   "execution_count": 5,
   "metadata": {
    "vscode": {
     "languageId": "r"
    }
   },
   "outputs": [
    {
     "name": "stdout",
     "output_type": "stream",
     "text": [
      "A 번째 칼럼의 빈도수의 최대값,최소값\n",
      "최대값: 156 , 최소값 : 3 \n",
      "--------------------\n",
      "B 번째 칼럼의 빈도수의 최대값,최소값\n",
      "최대값: 150 , 최소값 : 7 \n",
      "--------------------\n",
      "C 번째 칼럼의 빈도수의 최대값,최소값\n",
      "최대값: 176 , 최소값 : 3 \n",
      "--------------------\n",
      "D 번째 칼럼의 빈도수의 최대값,최소값\n",
      "최대값: 178 , 최소값 : 30 \n",
      "--------------------\n",
      "E 번째 칼럼의 빈도수의 최대값,최소값\n",
      "최대값: 160 , 최소값 : 8 \n",
      "--------------------\n"
     ]
    }
   ],
   "source": [
    "# 각 컬럼 빈도수의 최대값 최소값 구하기 \n",
    "\n",
    "for(i in 1:ncol(test)){\n",
    "    cat(colnames(test)[i] ,\"번째 칼럼의 빈도수의 최대값,최소값\\n\")\n",
    "    cat(\"최대값:\",max(table(test[,i])),\", 최소값 :\",min(table(test[,i])),\"\\n\")\n",
    "    cat(\"--------------------\\n\")\n",
    "}"
   ]
  },
  {
   "cell_type": "code",
   "execution_count": 6,
   "metadata": {
    "vscode": {
     "languageId": "r"
    }
   },
   "outputs": [],
   "source": [
    "# 각 컬럼이 빈도수 구하기와 각 컬럼의 빈도수의 최대값, 최소값 구하는 함수 만들기 \n",
    "tableMaxMin <- function(x){  # x라는 테이블 이름 \n",
    "    for(i in 1:ncol(x)){\n",
    "    f <- table(x[,i])\n",
    "    cat(colnames(x)[i] ,\"번째 칼럼의 빈도 분석 결과\\n\")\n",
    "    print(f)\n",
    "    cat(\"--------------------\\n\")\n",
    "    cat(colnames(x)[i] ,\"번째 칼럼의 빈도수의 최대값,최소값\\n\")\n",
    "    cat(\"최대값:\",max(f),\", 최소값 :\",min(f),\"\\n\")\n",
    "    cat(\"======================\\n\")\n",
    "    }\n",
    "}"
   ]
  },
  {
   "cell_type": "code",
   "execution_count": 8,
   "metadata": {
    "vscode": {
     "languageId": "r"
    }
   },
   "outputs": [
    {
     "name": "stdout",
     "output_type": "stream",
     "text": [
      "A 번째 칼럼의 빈도 분석 결과\n",
      "\n",
      "  1   2   3   4   5 \n",
      " 30 133 156  80   3 \n",
      "--------------------\n",
      "A 번째 칼럼의 빈도수의 최대값,최소값\n",
      "최대값: 156 , 최소값 : 3 \n",
      "======================\n",
      "B 번째 칼럼의 빈도 분석 결과\n",
      "\n",
      "  1   2   3   4   5 \n",
      " 16 150  98 131   7 \n",
      "--------------------\n",
      "B 번째 칼럼의 빈도수의 최대값,최소값\n",
      "최대값: 150 , 최소값 : 7 \n",
      "======================\n",
      "C 번째 칼럼의 빈도 분석 결과\n",
      "\n",
      "  1   2   3   4   5 \n",
      "  3  74  72 176  77 \n",
      "--------------------\n",
      "C 번째 칼럼의 빈도수의 최대값,최소값\n",
      "최대값: 176 , 최소값 : 3 \n",
      "======================\n",
      "D 번째 칼럼의 빈도 분석 결과\n",
      "\n",
      "  1   2   3   4 \n",
      " 30 178 153  41 \n",
      "--------------------\n",
      "D 번째 칼럼의 빈도수의 최대값,최소값\n",
      "최대값: 178 , 최소값 : 30 \n",
      "======================\n",
      "E 번째 칼럼의 빈도 분석 결과\n",
      "\n",
      "  1   2   3   4   5 \n",
      "  8  81 107 160  46 \n",
      "--------------------\n",
      "E 번째 칼럼의 빈도수의 최대값,최소값\n",
      "최대값: 160 , 최소값 : 8 \n",
      "======================\n"
     ]
    }
   ],
   "source": [
    "tableMaxMin(test)"
   ]
  },
  {
   "cell_type": "markdown",
   "metadata": {},
   "source": [
    "--- \n",
    "#   결측치 ( missing value ) 자료 평균 꼐산"
   ]
  },
  {
   "cell_type": "code",
   "execution_count": 11,
   "metadata": {
    "vscode": {
     "languageId": "r"
    }
   },
   "outputs": [
    {
     "data": {
      "text/html": [
       "<ol class=list-inline>\n",
       "\t<li>10</li>\n",
       "\t<li>20</li>\n",
       "\t<li>5</li>\n",
       "\t<li>4</li>\n",
       "\t<li>40</li>\n",
       "\t<li>7</li>\n",
       "\t<li>&lt;NA&gt;</li>\n",
       "\t<li>6</li>\n",
       "\t<li>3</li>\n",
       "\t<li>&lt;NA&gt;</li>\n",
       "\t<li>2</li>\n",
       "\t<li>&lt;NA&gt;</li>\n",
       "</ol>\n"
      ],
      "text/latex": [
       "\\begin{enumerate*}\n",
       "\\item 10\n",
       "\\item 20\n",
       "\\item 5\n",
       "\\item 4\n",
       "\\item 40\n",
       "\\item 7\n",
       "\\item <NA>\n",
       "\\item 6\n",
       "\\item 3\n",
       "\\item <NA>\n",
       "\\item 2\n",
       "\\item <NA>\n",
       "\\end{enumerate*}\n"
      ],
      "text/markdown": [
       "1. 10\n",
       "2. 20\n",
       "3. 5\n",
       "4. 4\n",
       "5. 40\n",
       "6. 7\n",
       "7. &lt;NA&gt;\n",
       "8. 6\n",
       "9. 3\n",
       "10. &lt;NA&gt;\n",
       "11. 2\n",
       "12. &lt;NA&gt;\n",
       "\n",
       "\n"
      ],
      "text/plain": [
       " [1] 10 20  5  4 40  7 NA  6  3 NA  2 NA"
      ]
     },
     "metadata": {},
     "output_type": "display_data"
    }
   ],
   "source": [
    "data <- c(10,20,5,4,40,7,NA,6,3,NA,2,NA)\n",
    "data\n"
   ]
  },
  {
   "cell_type": "code",
   "execution_count": 12,
   "metadata": {
    "vscode": {
     "languageId": "r"
    }
   },
   "outputs": [
    {
     "data": {
      "text/html": [
       "&lt;NA&gt;"
      ],
      "text/latex": [
       "<NA>"
      ],
      "text/markdown": [
       "&lt;NA&gt;"
      ],
      "text/plain": [
       "[1] NA"
      ]
     },
     "metadata": {},
     "output_type": "display_data"
    }
   ],
   "source": [
    "mean(data)"
   ]
  },
  {
   "cell_type": "code",
   "execution_count": 18,
   "metadata": {
    "vscode": {
     "languageId": "r"
    }
   },
   "outputs": [
    {
     "data": {
      "text/html": [
       "3"
      ],
      "text/latex": [
       "3"
      ],
      "text/markdown": [
       "3"
      ],
      "text/plain": [
       "[1] 3"
      ]
     },
     "metadata": {},
     "output_type": "display_data"
    },
    {
     "data": {
      "text/plain": [
       "\n",
       "FALSE  TRUE \n",
       "    9     3 "
      ]
     },
     "metadata": {},
     "output_type": "display_data"
    }
   ],
   "source": [
    "# NA 갯수 구하기 , true = na \n",
    "sum(is.na(data))\n",
    "table(is.na(data))\n"
   ]
  },
  {
   "cell_type": "code",
   "execution_count": 24,
   "metadata": {
    "vscode": {
     "languageId": "r"
    }
   },
   "outputs": [
    {
     "data": {
      "text/html": [
       "10.7777777777778"
      ],
      "text/latex": [
       "10.7777777777778"
      ],
      "text/markdown": [
       "10.7777777777778"
      ],
      "text/plain": [
       "[1] 10.77778"
      ]
     },
     "metadata": {},
     "output_type": "display_data"
    }
   ],
   "source": [
    "# NA를 제외한 평균 값 구하기 \n",
    "# 결측치를 무조건 제거하면 통계량을 얻을 수 없으며, 데이터의 손실 발생 \n",
    "mean(data, na.rm =T)"
   ]
  },
  {
   "cell_type": "code",
   "execution_count": 45,
   "metadata": {
    "vscode": {
     "languageId": "r"
    }
   },
   "outputs": [
    {
     "data": {
      "text/html": [
       "<ol class=list-inline>\n",
       "\t<li>10</li>\n",
       "\t<li>20</li>\n",
       "\t<li>5</li>\n",
       "\t<li>4</li>\n",
       "\t<li>40</li>\n",
       "\t<li>7</li>\n",
       "\t<li>0</li>\n",
       "\t<li>6</li>\n",
       "\t<li>3</li>\n",
       "\t<li>0</li>\n",
       "\t<li>2</li>\n",
       "\t<li>0</li>\n",
       "</ol>\n"
      ],
      "text/latex": [
       "\\begin{enumerate*}\n",
       "\\item 10\n",
       "\\item 20\n",
       "\\item 5\n",
       "\\item 4\n",
       "\\item 40\n",
       "\\item 7\n",
       "\\item 0\n",
       "\\item 6\n",
       "\\item 3\n",
       "\\item 0\n",
       "\\item 2\n",
       "\\item 0\n",
       "\\end{enumerate*}\n"
      ],
      "text/markdown": [
       "1. 10\n",
       "2. 20\n",
       "3. 5\n",
       "4. 4\n",
       "5. 40\n",
       "6. 7\n",
       "7. 0\n",
       "8. 6\n",
       "9. 3\n",
       "10. 0\n",
       "11. 2\n",
       "12. 0\n",
       "\n",
       "\n"
      ],
      "text/plain": [
       " [1] 10 20  5  4 40  7  0  6  3  0  2  0"
      ]
     },
     "metadata": {},
     "output_type": "display_data"
    },
    {
     "data": {
      "text/html": [
       "<ol class=list-inline>\n",
       "\t<li>10</li>\n",
       "\t<li>20</li>\n",
       "\t<li>5</li>\n",
       "\t<li>4</li>\n",
       "\t<li>40</li>\n",
       "\t<li>7</li>\n",
       "\t<li>0</li>\n",
       "\t<li>6</li>\n",
       "\t<li>3</li>\n",
       "\t<li>0</li>\n",
       "\t<li>2</li>\n",
       "\t<li>0</li>\n",
       "</ol>\n"
      ],
      "text/latex": [
       "\\begin{enumerate*}\n",
       "\\item 10\n",
       "\\item 20\n",
       "\\item 5\n",
       "\\item 4\n",
       "\\item 40\n",
       "\\item 7\n",
       "\\item 0\n",
       "\\item 6\n",
       "\\item 3\n",
       "\\item 0\n",
       "\\item 2\n",
       "\\item 0\n",
       "\\end{enumerate*}\n"
      ],
      "text/markdown": [
       "1. 10\n",
       "2. 20\n",
       "3. 5\n",
       "4. 4\n",
       "5. 40\n",
       "6. 7\n",
       "7. 0\n",
       "8. 6\n",
       "9. 3\n",
       "10. 0\n",
       "11. 2\n",
       "12. 0\n",
       "\n",
       "\n"
      ],
      "text/plain": [
       " [1] 10 20  5  4 40  7  0  6  3  0  2  0"
      ]
     },
     "metadata": {},
     "output_type": "display_data"
    },
    {
     "data": {
      "text/html": [
       "8.08333333333333"
      ],
      "text/latex": [
       "8.08333333333333"
      ],
      "text/markdown": [
       "8.08333333333333"
      ],
      "text/plain": [
       "[1] 8.083333"
      ]
     },
     "metadata": {},
     "output_type": "display_data"
    },
    {
     "data": {
      "text/html": [
       "8.08333333333333"
      ],
      "text/latex": [
       "8.08333333333333"
      ],
      "text/markdown": [
       "8.08333333333333"
      ],
      "text/plain": [
       "[1] 8.083333"
      ]
     },
     "metadata": {},
     "output_type": "display_data"
    }
   ],
   "source": [
    "# NA를 0으로 대체해서 평균값 구하기 \n",
    "library(stringr)\n",
    "as.numeric(str_replace_na(data,0))\n",
    "ifelse(is.na(data),0,data)\n",
    "mean(as.numeric(str_replace_na(data,0)))\n",
    "mean(ifelse(is.na(data),0,data))"
   ]
  },
  {
   "cell_type": "code",
   "execution_count": 43,
   "metadata": {
    "vscode": {
     "languageId": "r"
    }
   },
   "outputs": [
    {
     "data": {
      "text/html": [
       "10.7777777777778"
      ],
      "text/latex": [
       "10.7777777777778"
      ],
      "text/markdown": [
       "10.7777777777778"
      ],
      "text/plain": [
       "[1] 10.77778"
      ]
     },
     "metadata": {},
     "output_type": "display_data"
    },
    {
     "data": {
      "text/html": [
       "8.08333333333333"
      ],
      "text/latex": [
       "8.08333333333333"
      ],
      "text/markdown": [
       "8.08333333333333"
      ],
      "text/plain": [
       "[1] 8.083333"
      ]
     },
     "metadata": {},
     "output_type": "display_data"
    }
   ],
   "source": [
    "#결측치를 제외할 때\n",
    "mean(data, na.rm =T)\n",
    "#결측치를 0으로 만들때\n",
    "mean(as.numeric(str_replace_na(data,0)))"
   ]
  },
  {
   "cell_type": "code",
   "execution_count": 55,
   "metadata": {
    "vscode": {
     "languageId": "r"
    }
   },
   "outputs": [
    {
     "data": {
      "text/html": [
       "10.7777777777778"
      ],
      "text/latex": [
       "10.7777777777778"
      ],
      "text/markdown": [
       "10.7777777777778"
      ],
      "text/plain": [
       "[1] 10.77778"
      ]
     },
     "metadata": {},
     "output_type": "display_data"
    }
   ],
   "source": [
    "# na를 평균값으로 대체하여 퍙균 구하기 , na가 없을때 \n",
    "mean(ifelse(is.na(data),   mean(data,na.rm=T), data))\n"
   ]
  },
  {
   "cell_type": "code",
   "execution_count": 58,
   "metadata": {
    "vscode": {
     "languageId": "r"
    }
   },
   "outputs": [
    {
     "data": {
      "text/html": [
       "9.58333333333333"
      ],
      "text/latex": [
       "9.58333333333333"
      ],
      "text/markdown": [
       "9.58333333333333"
      ],
      "text/plain": [
       "[1] 9.583333"
      ]
     },
     "metadata": {},
     "output_type": "display_data"
    }
   ],
   "source": [
    " #na를 중앙값으로 대체하여 평균 구하기 # 제일 근접한 값\n",
    "mean(ifelse(is.na(data),   median(data,na.rm=T), data))"
   ]
  },
  {
   "cell_type": "code",
   "execution_count": 56,
   "metadata": {
    "vscode": {
     "languageId": "r"
    }
   },
   "outputs": [
    {
     "data": {
      "text/html": [
       "8.58333333333333"
      ],
      "text/latex": [
       "8.58333333333333"
      ],
      "text/markdown": [
       "8.58333333333333"
      ],
      "text/plain": [
       "[1] 8.583333"
      ]
     },
     "metadata": {},
     "output_type": "display_data"
    }
   ],
   "source": [
    " #na를 최소값으로 대체하여 평균 구하기 \n",
    " mean(ifelse(is.na(data), min(data,na.rm=T), data))"
   ]
  },
  {
   "cell_type": "code",
   "execution_count": 57,
   "metadata": {
    "vscode": {
     "languageId": "r"
    }
   },
   "outputs": [
    {
     "data": {
      "text/html": [
       "18.0833333333333"
      ],
      "text/latex": [
       "18.0833333333333"
      ],
      "text/markdown": [
       "18.0833333333333"
      ],
      "text/plain": [
       "[1] 18.08333"
      ]
     },
     "metadata": {},
     "output_type": "display_data"
    }
   ],
   "source": [
    "#na를 최대값으로 대체하여 평균 구하기 \n",
    "mean(ifelse(is.na(data), max(data,na.rm=T), data))"
   ]
  },
  {
   "cell_type": "code",
   "execution_count": null,
   "metadata": {
    "vscode": {
     "languageId": "r"
    }
   },
   "outputs": [],
   "source": []
  }
 ],
 "metadata": {
  "kernelspec": {
   "display_name": "R",
   "language": "R",
   "name": "ir"
  },
  "language_info": {
   "codemirror_mode": "r",
   "file_extension": ".r",
   "mimetype": "text/x-r-source",
   "name": "R",
   "pygments_lexer": "r",
   "version": "3.6.1"
  },
  "orig_nbformat": 4
 },
 "nbformat": 4,
 "nbformat_minor": 2
}
