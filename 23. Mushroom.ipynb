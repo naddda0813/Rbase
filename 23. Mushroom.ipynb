{
 "cells": [
  {
   "cell_type": "markdown",
   "metadata": {},
   "source": [
    "# mushroom\n",
    "- 8124 종류의 버섯의 특징과 독의 유무를 정리하는 데이터셋\n",
    "- 버섯 모양의 특징을 기반으로 독의 유무를 판단\n",
    "\n",
    "- 한줄 (row)이 버섯 한종류\n",
    "- 1번째 칼럼은 독의 유무 : p(독),e(식용)\n",
    "- 2번째 칼럼은 버섯의 머리모양 : b(벨형태),c(원뿔),x(볼록),f(평평), k(혹),s(오목)\n",
    "- 4번째 칼럼은 버섯의 머리 색 : n(갈색),b(황갈색),c(연한갈색),g(회색)"
   ]
  },
  {
   "cell_type": "code",
   "execution_count": 1,
   "metadata": {
    "vscode": {
     "languageId": "r"
    }
   },
   "outputs": [
    {
     "data": {
      "text/html": [
       "<table>\n",
       "<thead><tr><th scope=col>V1</th><th scope=col>V2</th><th scope=col>V3</th><th scope=col>V4</th><th scope=col>V5</th><th scope=col>V6</th><th scope=col>V7</th><th scope=col>V8</th><th scope=col>V9</th><th scope=col>V10</th><th scope=col>...</th><th scope=col>V14</th><th scope=col>V15</th><th scope=col>V16</th><th scope=col>V17</th><th scope=col>V18</th><th scope=col>V19</th><th scope=col>V20</th><th scope=col>V21</th><th scope=col>V22</th><th scope=col>V23</th></tr></thead>\n",
       "<tbody>\n",
       "\t<tr><td>p  </td><td>6  </td><td>3  </td><td> 5 </td><td>2  </td><td>7  </td><td>2  </td><td>1  </td><td>2  </td><td>5  </td><td>...</td><td>3  </td><td>8  </td><td>8  </td><td>1  </td><td>3  </td><td>2  </td><td>5  </td><td>3  </td><td>4  </td><td>6  </td></tr>\n",
       "\t<tr><td>e  </td><td>6  </td><td>3  </td><td>10 </td><td>2  </td><td>1  </td><td>2  </td><td>1  </td><td>1  </td><td>5  </td><td>...</td><td>3  </td><td>8  </td><td>8  </td><td>1  </td><td>3  </td><td>2  </td><td>5  </td><td>4  </td><td>3  </td><td>2  </td></tr>\n",
       "\t<tr><td>e  </td><td>1  </td><td>3  </td><td> 9 </td><td>2  </td><td>4  </td><td>2  </td><td>1  </td><td>1  </td><td>6  </td><td>...</td><td>3  </td><td>8  </td><td>8  </td><td>1  </td><td>3  </td><td>2  </td><td>5  </td><td>4  </td><td>3  </td><td>4  </td></tr>\n",
       "\t<tr><td>p  </td><td>6  </td><td>4  </td><td> 9 </td><td>2  </td><td>7  </td><td>2  </td><td>1  </td><td>2  </td><td>6  </td><td>...</td><td>3  </td><td>8  </td><td>8  </td><td>1  </td><td>3  </td><td>2  </td><td>5  </td><td>3  </td><td>4  </td><td>6  </td></tr>\n",
       "\t<tr><td>e  </td><td>6  </td><td>3  </td><td> 4 </td><td>1  </td><td>6  </td><td>2  </td><td>2  </td><td>1  </td><td>5  </td><td>...</td><td>3  </td><td>8  </td><td>8  </td><td>1  </td><td>3  </td><td>2  </td><td>1  </td><td>4  </td><td>1  </td><td>2  </td></tr>\n",
       "\t<tr><td>e  </td><td>6  </td><td>4  </td><td>10 </td><td>2  </td><td>1  </td><td>2  </td><td>1  </td><td>1  </td><td>6  </td><td>...</td><td>3  </td><td>8  </td><td>8  </td><td>1  </td><td>3  </td><td>2  </td><td>5  </td><td>3  </td><td>3  </td><td>2  </td></tr>\n",
       "</tbody>\n",
       "</table>\n"
      ],
      "text/latex": [
       "\\begin{tabular}{r|lllllllllllllllllllllll}\n",
       " V1 & V2 & V3 & V4 & V5 & V6 & V7 & V8 & V9 & V10 & ... & V14 & V15 & V16 & V17 & V18 & V19 & V20 & V21 & V22 & V23\\\\\n",
       "\\hline\n",
       "\t p   & 6   & 3   &  5  & 2   & 7   & 2   & 1   & 2   & 5   & ... & 3   & 8   & 8   & 1   & 3   & 2   & 5   & 3   & 4   & 6  \\\\\n",
       "\t e   & 6   & 3   & 10  & 2   & 1   & 2   & 1   & 1   & 5   & ... & 3   & 8   & 8   & 1   & 3   & 2   & 5   & 4   & 3   & 2  \\\\\n",
       "\t e   & 1   & 3   &  9  & 2   & 4   & 2   & 1   & 1   & 6   & ... & 3   & 8   & 8   & 1   & 3   & 2   & 5   & 4   & 3   & 4  \\\\\n",
       "\t p   & 6   & 4   &  9  & 2   & 7   & 2   & 1   & 2   & 6   & ... & 3   & 8   & 8   & 1   & 3   & 2   & 5   & 3   & 4   & 6  \\\\\n",
       "\t e   & 6   & 3   &  4  & 1   & 6   & 2   & 2   & 1   & 5   & ... & 3   & 8   & 8   & 1   & 3   & 2   & 1   & 4   & 1   & 2  \\\\\n",
       "\t e   & 6   & 4   & 10  & 2   & 1   & 2   & 1   & 1   & 6   & ... & 3   & 8   & 8   & 1   & 3   & 2   & 5   & 3   & 3   & 2  \\\\\n",
       "\\end{tabular}\n"
      ],
      "text/markdown": [
       "\n",
       "| V1 | V2 | V3 | V4 | V5 | V6 | V7 | V8 | V9 | V10 | ... | V14 | V15 | V16 | V17 | V18 | V19 | V20 | V21 | V22 | V23 |\n",
       "|---|---|---|---|---|---|---|---|---|---|---|---|---|---|---|---|---|---|---|---|---|\n",
       "| p   | 6   | 3   |  5  | 2   | 7   | 2   | 1   | 2   | 5   | ... | 3   | 8   | 8   | 1   | 3   | 2   | 5   | 3   | 4   | 6   |\n",
       "| e   | 6   | 3   | 10  | 2   | 1   | 2   | 1   | 1   | 5   | ... | 3   | 8   | 8   | 1   | 3   | 2   | 5   | 4   | 3   | 2   |\n",
       "| e   | 1   | 3   |  9  | 2   | 4   | 2   | 1   | 1   | 6   | ... | 3   | 8   | 8   | 1   | 3   | 2   | 5   | 4   | 3   | 4   |\n",
       "| p   | 6   | 4   |  9  | 2   | 7   | 2   | 1   | 2   | 6   | ... | 3   | 8   | 8   | 1   | 3   | 2   | 5   | 3   | 4   | 6   |\n",
       "| e   | 6   | 3   |  4  | 1   | 6   | 2   | 2   | 1   | 5   | ... | 3   | 8   | 8   | 1   | 3   | 2   | 1   | 4   | 1   | 2   |\n",
       "| e   | 6   | 4   | 10  | 2   | 1   | 2   | 1   | 1   | 6   | ... | 3   | 8   | 8   | 1   | 3   | 2   | 5   | 3   | 3   | 2   |\n",
       "\n"
      ],
      "text/plain": [
       "  V1 V2 V3 V4 V5 V6 V7 V8 V9 V10 ... V14 V15 V16 V17 V18 V19 V20 V21 V22 V23\n",
       "1 p  6  3   5 2  7  2  1  2  5   ... 3   8   8   1   3   2   5   3   4   6  \n",
       "2 e  6  3  10 2  1  2  1  1  5   ... 3   8   8   1   3   2   5   4   3   2  \n",
       "3 e  1  3   9 2  4  2  1  1  6   ... 3   8   8   1   3   2   5   4   3   4  \n",
       "4 p  6  4   9 2  7  2  1  2  6   ... 3   8   8   1   3   2   5   3   4   6  \n",
       "5 e  6  3   4 1  6  2  2  1  5   ... 3   8   8   1   3   2   1   4   1   2  \n",
       "6 e  6  4  10 2  1  2  1  1  6   ... 3   8   8   1   3   2   5   3   3   2  "
      ]
     },
     "metadata": {},
     "output_type": "display_data"
    },
    {
     "name": "stdout",
     "output_type": "stream",
     "text": [
      "'data.frame':\t8124 obs. of  23 variables:\n",
      " $ V1 : Factor w/ 2 levels \"e\",\"p\": 2 1 1 2 1 1 1 1 2 1 ...\n",
      " $ V2 : num  6 6 1 6 6 6 1 1 6 1 ...\n",
      " $ V3 : num  3 3 3 4 3 4 3 4 4 3 ...\n",
      " $ V4 : num  5 10 9 9 4 10 9 9 9 10 ...\n",
      " $ V5 : num  2 2 2 2 1 2 2 2 2 2 ...\n",
      " $ V6 : num  7 1 4 7 6 1 1 4 7 1 ...\n",
      " $ V7 : num  2 2 2 2 2 2 2 2 2 2 ...\n",
      " $ V8 : num  1 1 1 1 2 1 1 1 1 1 ...\n",
      " $ V9 : num  2 1 1 2 1 1 1 1 2 1 ...\n",
      " $ V10: num  5 5 6 6 5 6 3 6 8 3 ...\n",
      " $ V11: num  1 1 1 1 2 1 1 1 1 1 ...\n",
      " $ V12: num  4 3 3 4 4 3 3 3 4 3 ...\n",
      " $ V13: num  3 3 3 3 3 3 3 3 3 3 ...\n",
      " $ V14: num  3 3 3 3 3 3 3 3 3 3 ...\n",
      " $ V15: num  8 8 8 8 8 8 8 8 8 8 ...\n",
      " $ V16: num  8 8 8 8 8 8 8 8 8 8 ...\n",
      " $ V17: num  1 1 1 1 1 1 1 1 1 1 ...\n",
      " $ V18: num  3 3 3 3 3 3 3 3 3 3 ...\n",
      " $ V19: num  2 2 2 2 2 2 2 2 2 2 ...\n",
      " $ V20: num  5 5 5 5 1 5 5 5 5 5 ...\n",
      " $ V21: num  3 4 4 3 4 3 3 4 3 3 ...\n",
      " $ V22: num  4 3 3 4 1 3 3 4 5 4 ...\n",
      " $ V23: num  6 2 4 6 2 2 4 4 2 4 ...\n"
     ]
    }
   ],
   "source": [
    "mushroom <- read.csv(\"../Data/mushroom.csv\",header=F)\n",
    "for(i in 2:23){\n",
    "    mushroom[,i]<-as.numeric(mushroom[,i])\n",
    "}\n",
    "head(mushroom)\n",
    "str(mushroom)\n",
    "\n",
    "# target column(v1)이 정렬되지 않음 "
   ]
  },
  {
   "cell_type": "code",
   "execution_count": 2,
   "metadata": {
    "vscode": {
     "languageId": "r"
    }
   },
   "outputs": [
    {
     "data": {
      "text/plain": [
       " V1             V2              V3              V4               V5       \n",
       " e:4208   Min.   :1.000   Min.   :1.000   Min.   : 1.000   Min.   :1.000  \n",
       " p:3916   1st Qu.:3.000   1st Qu.:1.000   1st Qu.: 4.000   1st Qu.:1.000  \n",
       "          Median :4.000   Median :3.000   Median : 5.000   Median :1.000  \n",
       "          Mean   :4.348   Mean   :2.828   Mean   : 5.505   Mean   :1.416  \n",
       "          3rd Qu.:6.000   3rd Qu.:4.000   3rd Qu.: 9.000   3rd Qu.:2.000  \n",
       "          Max.   :6.000   Max.   :4.000   Max.   :10.000   Max.   :2.000  \n",
       "       V6              V7              V8              V9       \n",
       " Min.   :1.000   Min.   :1.000   Min.   :1.000   Min.   :1.000  \n",
       " 1st Qu.:3.000   1st Qu.:2.000   1st Qu.:1.000   1st Qu.:1.000  \n",
       " Median :6.000   Median :2.000   Median :1.000   Median :1.000  \n",
       " Mean   :5.145   Mean   :1.974   Mean   :1.161   Mean   :1.309  \n",
       " 3rd Qu.:6.000   3rd Qu.:2.000   3rd Qu.:1.000   3rd Qu.:2.000  \n",
       " Max.   :9.000   Max.   :2.000   Max.   :2.000   Max.   :2.000  \n",
       "      V10              V11             V12            V13       \n",
       " Min.   : 1.000   Min.   :1.000   Min.   :1.00   Min.   :1.000  \n",
       " 1st Qu.: 3.000   1st Qu.:1.000   1st Qu.:1.00   1st Qu.:2.000  \n",
       " Median : 6.000   Median :2.000   Median :2.00   Median :3.000  \n",
       " Mean   : 5.811   Mean   :1.567   Mean   :2.11   Mean   :2.575  \n",
       " 3rd Qu.: 8.000   3rd Qu.:2.000   3rd Qu.:2.00   3rd Qu.:3.000  \n",
       " Max.   :12.000   Max.   :2.000   Max.   :5.00   Max.   :4.000  \n",
       "      V14             V15             V16             V17         V18       \n",
       " Min.   :1.000   Min.   :1.000   Min.   :1.000   Min.   :1   Min.   :1.000  \n",
       " 1st Qu.:2.000   1st Qu.:7.000   1st Qu.:7.000   1st Qu.:1   1st Qu.:3.000  \n",
       " Median :3.000   Median :8.000   Median :8.000   Median :1   Median :3.000  \n",
       " Mean   :2.604   Mean   :6.816   Mean   :6.795   Mean   :1   Mean   :2.966  \n",
       " 3rd Qu.:3.000   3rd Qu.:8.000   3rd Qu.:8.000   3rd Qu.:1   3rd Qu.:3.000  \n",
       " Max.   :4.000   Max.   :9.000   Max.   :9.000   Max.   :1   Max.   :4.000  \n",
       "      V19             V20             V21             V22       \n",
       " Min.   :1.000   Min.   :1.000   Min.   :1.000   Min.   :1.000  \n",
       " 1st Qu.:2.000   1st Qu.:1.000   1st Qu.:3.000   1st Qu.:4.000  \n",
       " Median :2.000   Median :3.000   Median :4.000   Median :5.000  \n",
       " Mean   :2.069   Mean   :3.292   Mean   :4.597   Mean   :4.644  \n",
       " 3rd Qu.:2.000   3rd Qu.:5.000   3rd Qu.:8.000   3rd Qu.:5.000  \n",
       " Max.   :3.000   Max.   :5.000   Max.   :9.000   Max.   :6.000  \n",
       "      V23       \n",
       " Min.   :1.000  \n",
       " 1st Qu.:1.000  \n",
       " Median :2.000  \n",
       " Mean   :2.509  \n",
       " 3rd Qu.:3.000  \n",
       " Max.   :7.000  "
      ]
     },
     "metadata": {},
     "output_type": "display_data"
    }
   ],
   "source": [
    "summary(mushroom)\n",
    "# v1의 p와 e의 갯수가 다름 \n",
    "# 비율 6:4, 7:3 까지는 유효 \n",
    "#머신러닝 데이터 십만건\n",
    "# 딥러닝 데이터 천만건 \n",
    "# 아이리스는 품종의 갯수가 1:1:1로 동일하며, 나머지 데이터는 숫자로 구성되어 있음 \n",
    "# 상관계수는 데이터의 값이 유의미한 값일때만 의미있음 "
   ]
  },
  {
   "cell_type": "code",
   "execution_count": 3,
   "metadata": {
    "vscode": {
     "languageId": "r"
    }
   },
   "outputs": [
    {
     "name": "stderr",
     "output_type": "stream",
     "text": [
      "\n",
      "Attaching package: ‘dplyr’\n",
      "\n",
      "The following objects are masked from ‘package:stats’:\n",
      "\n",
      "    filter, lag\n",
      "\n",
      "The following objects are masked from ‘package:base’:\n",
      "\n",
      "    intersect, setdiff, setequal, union\n",
      "\n"
     ]
    },
    {
     "data": {
      "text/html": [
       "<table>\n",
       "<thead><tr><th scope=col>V1</th><th scope=col>V2</th><th scope=col>V3</th><th scope=col>V4</th><th scope=col>V5</th><th scope=col>V6</th><th scope=col>V7</th><th scope=col>V8</th><th scope=col>V9</th><th scope=col>V10</th><th scope=col>...</th><th scope=col>V14</th><th scope=col>V15</th><th scope=col>V16</th><th scope=col>V17</th><th scope=col>V18</th><th scope=col>V19</th><th scope=col>V20</th><th scope=col>V21</th><th scope=col>V22</th><th scope=col>V23</th></tr></thead>\n",
       "<tbody>\n",
       "\t<tr><td>p  </td><td>6  </td><td>3  </td><td>5  </td><td>2  </td><td>7  </td><td>2  </td><td>1  </td><td>2  </td><td>5  </td><td>...</td><td>3  </td><td>8  </td><td>8  </td><td>1  </td><td>3  </td><td>2  </td><td>5  </td><td>3  </td><td>4  </td><td>6  </td></tr>\n",
       "\t<tr><td>p  </td><td>6  </td><td>4  </td><td>9  </td><td>2  </td><td>7  </td><td>2  </td><td>1  </td><td>2  </td><td>6  </td><td>...</td><td>3  </td><td>8  </td><td>8  </td><td>1  </td><td>3  </td><td>2  </td><td>5  </td><td>3  </td><td>4  </td><td>6  </td></tr>\n",
       "\t<tr><td>p  </td><td>6  </td><td>4  </td><td>9  </td><td>2  </td><td>7  </td><td>2  </td><td>1  </td><td>2  </td><td>8  </td><td>...</td><td>3  </td><td>8  </td><td>8  </td><td>1  </td><td>3  </td><td>2  </td><td>5  </td><td>3  </td><td>5  </td><td>2  </td></tr>\n",
       "\t<tr><td>p  </td><td>6  </td><td>4  </td><td>9  </td><td>2  </td><td>7  </td><td>2  </td><td>1  </td><td>2  </td><td>5  </td><td>...</td><td>3  </td><td>8  </td><td>8  </td><td>1  </td><td>3  </td><td>2  </td><td>5  </td><td>4  </td><td>5  </td><td>6  </td></tr>\n",
       "\t<tr><td>p  </td><td>6  </td><td>3  </td><td>5  </td><td>2  </td><td>7  </td><td>2  </td><td>1  </td><td>2  </td><td>6  </td><td>...</td><td>3  </td><td>8  </td><td>8  </td><td>1  </td><td>3  </td><td>2  </td><td>5  </td><td>3  </td><td>4  </td><td>2  </td></tr>\n",
       "\t<tr><td>p  </td><td>6  </td><td>4  </td><td>9  </td><td>2  </td><td>7  </td><td>2  </td><td>1  </td><td>2  </td><td>6  </td><td>...</td><td>3  </td><td>8  </td><td>8  </td><td>1  </td><td>3  </td><td>2  </td><td>5  </td><td>4  </td><td>4  </td><td>6  </td></tr>\n",
       "</tbody>\n",
       "</table>\n"
      ],
      "text/latex": [
       "\\begin{tabular}{r|lllllllllllllllllllllll}\n",
       " V1 & V2 & V3 & V4 & V5 & V6 & V7 & V8 & V9 & V10 & ... & V14 & V15 & V16 & V17 & V18 & V19 & V20 & V21 & V22 & V23\\\\\n",
       "\\hline\n",
       "\t p   & 6   & 3   & 5   & 2   & 7   & 2   & 1   & 2   & 5   & ... & 3   & 8   & 8   & 1   & 3   & 2   & 5   & 3   & 4   & 6  \\\\\n",
       "\t p   & 6   & 4   & 9   & 2   & 7   & 2   & 1   & 2   & 6   & ... & 3   & 8   & 8   & 1   & 3   & 2   & 5   & 3   & 4   & 6  \\\\\n",
       "\t p   & 6   & 4   & 9   & 2   & 7   & 2   & 1   & 2   & 8   & ... & 3   & 8   & 8   & 1   & 3   & 2   & 5   & 3   & 5   & 2  \\\\\n",
       "\t p   & 6   & 4   & 9   & 2   & 7   & 2   & 1   & 2   & 5   & ... & 3   & 8   & 8   & 1   & 3   & 2   & 5   & 4   & 5   & 6  \\\\\n",
       "\t p   & 6   & 3   & 5   & 2   & 7   & 2   & 1   & 2   & 6   & ... & 3   & 8   & 8   & 1   & 3   & 2   & 5   & 3   & 4   & 2  \\\\\n",
       "\t p   & 6   & 4   & 9   & 2   & 7   & 2   & 1   & 2   & 6   & ... & 3   & 8   & 8   & 1   & 3   & 2   & 5   & 4   & 4   & 6  \\\\\n",
       "\\end{tabular}\n"
      ],
      "text/markdown": [
       "\n",
       "| V1 | V2 | V3 | V4 | V5 | V6 | V7 | V8 | V9 | V10 | ... | V14 | V15 | V16 | V17 | V18 | V19 | V20 | V21 | V22 | V23 |\n",
       "|---|---|---|---|---|---|---|---|---|---|---|---|---|---|---|---|---|---|---|---|---|\n",
       "| p   | 6   | 3   | 5   | 2   | 7   | 2   | 1   | 2   | 5   | ... | 3   | 8   | 8   | 1   | 3   | 2   | 5   | 3   | 4   | 6   |\n",
       "| p   | 6   | 4   | 9   | 2   | 7   | 2   | 1   | 2   | 6   | ... | 3   | 8   | 8   | 1   | 3   | 2   | 5   | 3   | 4   | 6   |\n",
       "| p   | 6   | 4   | 9   | 2   | 7   | 2   | 1   | 2   | 8   | ... | 3   | 8   | 8   | 1   | 3   | 2   | 5   | 3   | 5   | 2   |\n",
       "| p   | 6   | 4   | 9   | 2   | 7   | 2   | 1   | 2   | 5   | ... | 3   | 8   | 8   | 1   | 3   | 2   | 5   | 4   | 5   | 6   |\n",
       "| p   | 6   | 3   | 5   | 2   | 7   | 2   | 1   | 2   | 6   | ... | 3   | 8   | 8   | 1   | 3   | 2   | 5   | 3   | 4   | 2   |\n",
       "| p   | 6   | 4   | 9   | 2   | 7   | 2   | 1   | 2   | 6   | ... | 3   | 8   | 8   | 1   | 3   | 2   | 5   | 4   | 4   | 6   |\n",
       "\n"
      ],
      "text/plain": [
       "  V1 V2 V3 V4 V5 V6 V7 V8 V9 V10 ... V14 V15 V16 V17 V18 V19 V20 V21 V22 V23\n",
       "1 p  6  3  5  2  7  2  1  2  5   ... 3   8   8   1   3   2   5   3   4   6  \n",
       "2 p  6  4  9  2  7  2  1  2  6   ... 3   8   8   1   3   2   5   3   4   6  \n",
       "3 p  6  4  9  2  7  2  1  2  8   ... 3   8   8   1   3   2   5   3   5   2  \n",
       "4 p  6  4  9  2  7  2  1  2  5   ... 3   8   8   1   3   2   5   4   5   6  \n",
       "5 p  6  3  5  2  7  2  1  2  6   ... 3   8   8   1   3   2   5   3   4   2  \n",
       "6 p  6  4  9  2  7  2  1  2  6   ... 3   8   8   1   3   2   5   4   4   6  "
      ]
     },
     "metadata": {},
     "output_type": "display_data"
    },
    {
     "data": {
      "text/html": [
       "<table>\n",
       "<thead><tr><th></th><th scope=col>V1</th><th scope=col>V2</th><th scope=col>V3</th><th scope=col>V4</th><th scope=col>V5</th><th scope=col>V6</th><th scope=col>V7</th><th scope=col>V8</th><th scope=col>V9</th><th scope=col>V10</th><th scope=col>...</th><th scope=col>V14</th><th scope=col>V15</th><th scope=col>V16</th><th scope=col>V17</th><th scope=col>V18</th><th scope=col>V19</th><th scope=col>V20</th><th scope=col>V21</th><th scope=col>V22</th><th scope=col>V23</th></tr></thead>\n",
       "<tbody>\n",
       "\t<tr><th scope=row>8119</th><td>e  </td><td>4  </td><td>3  </td><td>5  </td><td>1  </td><td>6  </td><td>1  </td><td>1  </td><td>1  </td><td> 7 </td><td>...</td><td>3  </td><td>6  </td><td>6  </td><td>1  </td><td>1  </td><td>2  </td><td>5  </td><td>1  </td><td>5  </td><td>3  </td></tr>\n",
       "\t<tr><th scope=row>8120</th><td>e  </td><td>6  </td><td>3  </td><td>5  </td><td>1  </td><td>6  </td><td>1  </td><td>1  </td><td>1  </td><td>12 </td><td>...</td><td>3  </td><td>6  </td><td>6  </td><td>1  </td><td>2  </td><td>2  </td><td>5  </td><td>5  </td><td>5  </td><td>3  </td></tr>\n",
       "\t<tr><th scope=row>8121</th><td>e  </td><td>4  </td><td>3  </td><td>5  </td><td>1  </td><td>6  </td><td>1  </td><td>1  </td><td>1  </td><td>12 </td><td>...</td><td>3  </td><td>6  </td><td>6  </td><td>1  </td><td>2  </td><td>2  </td><td>5  </td><td>1  </td><td>2  </td><td>3  </td></tr>\n",
       "\t<tr><th scope=row>8122</th><td>e  </td><td>6  </td><td>3  </td><td>5  </td><td>1  </td><td>6  </td><td>1  </td><td>1  </td><td>1  </td><td>12 </td><td>...</td><td>3  </td><td>6  </td><td>6  </td><td>1  </td><td>1  </td><td>2  </td><td>5  </td><td>1  </td><td>5  </td><td>3  </td></tr>\n",
       "\t<tr><th scope=row>8123</th><td>e  </td><td>3  </td><td>3  </td><td>5  </td><td>1  </td><td>6  </td><td>1  </td><td>1  </td><td>1  </td><td> 6 </td><td>...</td><td>3  </td><td>6  </td><td>6  </td><td>1  </td><td>2  </td><td>2  </td><td>5  </td><td>1  </td><td>2  </td><td>3  </td></tr>\n",
       "\t<tr><th scope=row>8124</th><td>e  </td><td>6  </td><td>3  </td><td>5  </td><td>1  </td><td>6  </td><td>1  </td><td>1  </td><td>1  </td><td>12 </td><td>...</td><td>3  </td><td>6  </td><td>6  </td><td>1  </td><td>2  </td><td>2  </td><td>5  </td><td>5  </td><td>2  </td><td>3  </td></tr>\n",
       "</tbody>\n",
       "</table>\n"
      ],
      "text/latex": [
       "\\begin{tabular}{r|lllllllllllllllllllllll}\n",
       "  & V1 & V2 & V3 & V4 & V5 & V6 & V7 & V8 & V9 & V10 & ... & V14 & V15 & V16 & V17 & V18 & V19 & V20 & V21 & V22 & V23\\\\\n",
       "\\hline\n",
       "\t8119 & e   & 4   & 3   & 5   & 1   & 6   & 1   & 1   & 1   &  7  & ... & 3   & 6   & 6   & 1   & 1   & 2   & 5   & 1   & 5   & 3  \\\\\n",
       "\t8120 & e   & 6   & 3   & 5   & 1   & 6   & 1   & 1   & 1   & 12  & ... & 3   & 6   & 6   & 1   & 2   & 2   & 5   & 5   & 5   & 3  \\\\\n",
       "\t8121 & e   & 4   & 3   & 5   & 1   & 6   & 1   & 1   & 1   & 12  & ... & 3   & 6   & 6   & 1   & 2   & 2   & 5   & 1   & 2   & 3  \\\\\n",
       "\t8122 & e   & 6   & 3   & 5   & 1   & 6   & 1   & 1   & 1   & 12  & ... & 3   & 6   & 6   & 1   & 1   & 2   & 5   & 1   & 5   & 3  \\\\\n",
       "\t8123 & e   & 3   & 3   & 5   & 1   & 6   & 1   & 1   & 1   &  6  & ... & 3   & 6   & 6   & 1   & 2   & 2   & 5   & 1   & 2   & 3  \\\\\n",
       "\t8124 & e   & 6   & 3   & 5   & 1   & 6   & 1   & 1   & 1   & 12  & ... & 3   & 6   & 6   & 1   & 2   & 2   & 5   & 5   & 2   & 3  \\\\\n",
       "\\end{tabular}\n"
      ],
      "text/markdown": [
       "\n",
       "| <!--/--> | V1 | V2 | V3 | V4 | V5 | V6 | V7 | V8 | V9 | V10 | ... | V14 | V15 | V16 | V17 | V18 | V19 | V20 | V21 | V22 | V23 |\n",
       "|---|---|---|---|---|---|---|---|---|---|---|---|---|---|---|---|---|---|---|---|---|---|\n",
       "| 8119 | e   | 4   | 3   | 5   | 1   | 6   | 1   | 1   | 1   |  7  | ... | 3   | 6   | 6   | 1   | 1   | 2   | 5   | 1   | 5   | 3   |\n",
       "| 8120 | e   | 6   | 3   | 5   | 1   | 6   | 1   | 1   | 1   | 12  | ... | 3   | 6   | 6   | 1   | 2   | 2   | 5   | 5   | 5   | 3   |\n",
       "| 8121 | e   | 4   | 3   | 5   | 1   | 6   | 1   | 1   | 1   | 12  | ... | 3   | 6   | 6   | 1   | 2   | 2   | 5   | 1   | 2   | 3   |\n",
       "| 8122 | e   | 6   | 3   | 5   | 1   | 6   | 1   | 1   | 1   | 12  | ... | 3   | 6   | 6   | 1   | 1   | 2   | 5   | 1   | 5   | 3   |\n",
       "| 8123 | e   | 3   | 3   | 5   | 1   | 6   | 1   | 1   | 1   |  6  | ... | 3   | 6   | 6   | 1   | 2   | 2   | 5   | 1   | 2   | 3   |\n",
       "| 8124 | e   | 6   | 3   | 5   | 1   | 6   | 1   | 1   | 1   | 12  | ... | 3   | 6   | 6   | 1   | 2   | 2   | 5   | 5   | 2   | 3   |\n",
       "\n"
      ],
      "text/plain": [
       "     V1 V2 V3 V4 V5 V6 V7 V8 V9 V10 ... V14 V15 V16 V17 V18 V19 V20 V21 V22 V23\n",
       "8119 e  4  3  5  1  6  1  1  1   7  ... 3   6   6   1   1   2   5   1   5   3  \n",
       "8120 e  6  3  5  1  6  1  1  1  12  ... 3   6   6   1   2   2   5   5   5   3  \n",
       "8121 e  4  3  5  1  6  1  1  1  12  ... 3   6   6   1   2   2   5   1   2   3  \n",
       "8122 e  6  3  5  1  6  1  1  1  12  ... 3   6   6   1   1   2   5   1   5   3  \n",
       "8123 e  3  3  5  1  6  1  1  1   6  ... 3   6   6   1   2   2   5   1   2   3  \n",
       "8124 e  6  3  5  1  6  1  1  1  12  ... 3   6   6   1   2   2   5   5   2   3  "
      ]
     },
     "metadata": {},
     "output_type": "display_data"
    }
   ],
   "source": [
    "# 정렬하기 \n",
    "library(dplyr)\n",
    "mushroom <-arrange(mushroom,desc(V1))\n",
    "head(mushroom)\n",
    "tail(mushroom)"
   ]
  },
  {
   "cell_type": "code",
   "execution_count": 4,
   "metadata": {
    "vscode": {
     "languageId": "r"
    }
   },
   "outputs": [
    {
     "name": "stderr",
     "output_type": "stream",
     "text": [
      "Loading required package: lattice\n",
      "Loading required package: ggplot2\n",
      "Registered S3 methods overwritten by 'ggplot2':\n",
      "  method         from \n",
      "  [.quosures     rlang\n",
      "  c.quosures     rlang\n",
      "  print.quosures rlang\n"
     ]
    }
   ],
   "source": [
    "# 데이터 만들기 \n",
    "library(caret)\n",
    "samp <- createDataPartition(mushroom$V1,p=0.7,list=F)\n",
    "#데이터셋  \n",
    "data.tr <- mushroom[samp,]\n",
    "data.test <- mushroom[-samp,]   \n",
    "# 문제 및 정답 만들기 \n",
    "x <- subset(data.test, select = -V1)\n",
    "y <- data.test$V1"
   ]
  },
  {
   "cell_type": "code",
   "execution_count": 5,
   "metadata": {
    "vscode": {
     "languageId": "r"
    }
   },
   "outputs": [],
   "source": [
    "# 인공신경망\n",
    "library(nnet)\n",
    "\n",
    "인공신경망 <- function() {\n",
    "result <- NULL\n",
    "for(i in 1:5 )  {\n",
    "    model.nnet<- nnet(V1 ~ ., data =data.tr,size=3)\n",
    "    pred1 <- predict(model.nnet,x, type = \"class\")  \n",
    "    result <- append(result,mean(pred1 == y))\n",
    "}\n",
    "mean(result)\n",
    "}"
   ]
  },
  {
   "cell_type": "code",
   "execution_count": 6,
   "metadata": {
    "vscode": {
     "languageId": "r"
    }
   },
   "outputs": [
    {
     "name": "stderr",
     "output_type": "stream",
     "text": [
      "Loading required package: grid\n",
      "Loading required package: mvtnorm\n",
      "Loading required package: modeltools\n",
      "Loading required package: stats4\n",
      "Loading required package: strucchange\n",
      "Loading required package: zoo\n",
      "\n",
      "Attaching package: ‘zoo’\n",
      "\n",
      "The following objects are masked from ‘package:base’:\n",
      "\n",
      "    as.Date, as.Date.numeric\n",
      "\n",
      "Loading required package: sandwich\n"
     ]
    }
   ],
   "source": [
    "# 의사결정나무\n",
    "library(party)\n",
    "의사결정나무 <- function() {\n",
    "\n",
    "result <- c()\n",
    "for(i in 1:5 )  {\n",
    "model.ctree <- ctree(V1 ~ .,data = data.tr) \n",
    "pred1 <- predict(model.rf,x) \n",
    "result <- append(result,mean(pred1 == y))\n",
    "}\n",
    "mean(result)\n",
    "}"
   ]
  },
  {
   "cell_type": "code",
   "execution_count": 7,
   "metadata": {
    "vscode": {
     "languageId": "r"
    }
   },
   "outputs": [
    {
     "name": "stderr",
     "output_type": "stream",
     "text": [
      "randomForest 4.6-14\n",
      "Type rfNews() to see new features/changes/bug fixes.\n",
      "\n",
      "Attaching package: ‘randomForest’\n",
      "\n",
      "The following object is masked from ‘package:ggplot2’:\n",
      "\n",
      "    margin\n",
      "\n",
      "The following object is masked from ‘package:dplyr’:\n",
      "\n",
      "    combine\n",
      "\n"
     ]
    }
   ],
   "source": [
    "# randomForest\n",
    "library(randomForest)\n",
    "랜덤포레스트 <- function() {\n",
    "result <- NULL\n",
    "\n",
    "for(i in 1:5) {\n",
    "model.rf<- randomForest(V1 ~ .,data = data.tr,ntree = 100)\n",
    "pred <- predict(model.rf,x)\n",
    "result<- append(result,mean(pred == y))\n",
    "}\n",
    "mean(result)\n",
    "}"
   ]
  },
  {
   "cell_type": "code",
   "execution_count": 8,
   "metadata": {
    "vscode": {
     "languageId": "r"
    }
   },
   "outputs": [],
   "source": [
    "#SVM\n",
    "library(e1071)\n",
    "\n",
    "SVM <- function() {\n",
    "result <- NULL\n",
    "\n",
    "for(i in 1:5) {\n",
    "model.svm = svm(V1 ~., data=data.tr)\n",
    "pred <- predict(model.svm,x)\n",
    "result <- append(result,mean(pred ==  y))\n",
    "}\n",
    "mean(result)\n",
    "}"
   ]
  },
  {
   "cell_type": "code",
   "execution_count": 15,
   "metadata": {
    "vscode": {
     "languageId": "r"
    }
   },
   "outputs": [],
   "source": [
    "#로지스틱회귀분석\n",
    "로지스틱회귀분석 <- function() {\n",
    "for(i in 1:5) {\n",
    "model <- multinom(V1 ~.,data=data.tr)\n",
    "pred <- predict(model,x)\n",
    "result <- append(result,mean(pred ==  y))\n",
    "}\n",
    "mean(result)\n",
    "}"
   ]
  },
  {
   "cell_type": "code",
   "execution_count": 10,
   "metadata": {
    "vscode": {
     "languageId": "r"
    }
   },
   "outputs": [
    {
     "name": "stdout",
     "output_type": "stream",
     "text": [
      "# weights:  73\n",
      "initial  value 3933.439131 \n",
      "iter  10 value 3397.136514\n",
      "iter  20 value 2003.050777\n",
      "iter  30 value 1614.968036\n",
      "iter  40 value 1488.699263\n",
      "iter  50 value 1488.332657\n",
      "iter  60 value 1469.476201\n",
      "iter  70 value 1451.264441\n",
      "iter  80 value 1239.327050\n",
      "iter  90 value 862.179801\n",
      "iter 100 value 854.031926\n",
      "final  value 854.031926 \n",
      "stopped after 100 iterations\n",
      "# weights:  73\n",
      "initial  value 3900.658306 \n",
      "iter  10 value 2328.762998\n",
      "iter  20 value 1865.842715\n",
      "iter  30 value 1639.094908\n",
      "iter  40 value 1101.333187\n",
      "iter  50 value 1008.138859\n",
      "iter  60 value 912.172563\n",
      "iter  70 value 885.245127\n",
      "iter  80 value 851.590347\n",
      "iter  90 value 832.059419\n",
      "iter 100 value 825.648091\n",
      "final  value 825.648091 \n",
      "stopped after 100 iterations\n",
      "# weights:  73\n",
      "initial  value 4415.664506 \n",
      "final  value 3938.962480 \n",
      "converged\n",
      "# weights:  73\n",
      "initial  value 4243.861215 \n",
      "iter  10 value 3300.677944\n",
      "iter  20 value 1934.805854\n",
      "iter  30 value 1298.600716\n",
      "iter  40 value 1016.786842\n",
      "iter  50 value 877.486058\n",
      "iter  60 value 816.727151\n",
      "iter  70 value 717.941061\n",
      "iter  80 value 649.678095\n",
      "iter  90 value 628.868869\n",
      "iter 100 value 605.826965\n",
      "final  value 605.826965 \n",
      "stopped after 100 iterations\n",
      "# weights:  73\n",
      "initial  value 5471.405707 \n",
      "iter  10 value 3784.996403\n",
      "iter  20 value 3344.926154\n",
      "iter  30 value 2702.252232\n",
      "iter  40 value 1126.299502\n",
      "iter  50 value 898.767015\n",
      "iter  60 value 784.556626\n",
      "iter  70 value 723.175080\n",
      "iter  80 value 712.101185\n",
      "iter  90 value 705.994203\n",
      "iter 100 value 686.034270\n",
      "final  value 686.034270 \n",
      "stopped after 100 iterations\n"
     ]
    },
    {
     "ename": "ERROR",
     "evalue": "Error in predict(model.rf, x): 객체 'model.rf'를 찾을 수 없습니다\n",
     "output_type": "error",
     "traceback": [
      "Error in predict(model.rf, x): 객체 'model.rf'를 찾을 수 없습니다\nTraceback:\n",
      "1. data.frame(예측력 = c(인공신경망(), 의사결정나무(), \n .     랜덤포레스트(), SVM(), 로지스틱회귀분석()))",
      "2. 의사결정나무()",
      "3. predict(model.rf, x)   # at line 8 of file <text>"
     ]
    }
   ],
   "source": [
    "# 하나의 함수로 만들기 \n",
    "ML_예측력 <- data.frame(예측력 = c(인공신경망(),의사결정나무(),랜덤포레스트(),SVM(),로지스틱회귀분석()))\n",
    "#rownames(ML_예측력) <- c('인공신경망','의사결정나무','랜덤포레스트','SVM','로지스틱회귀분석')\n",
    "ML_예측력 "
   ]
  },
  {
   "cell_type": "code",
   "execution_count": null,
   "metadata": {
    "vscode": {
     "languageId": "r"
    }
   },
   "outputs": [],
   "source": []
  }
 ],
 "metadata": {
  "kernelspec": {
   "display_name": "R",
   "language": "R",
   "name": "ir"
  },
  "language_info": {
   "codemirror_mode": "r",
   "file_extension": ".r",
   "mimetype": "text/x-r-source",
   "name": "R",
   "pygments_lexer": "r",
   "version": "3.6.1"
  }
 },
 "nbformat": 4,
 "nbformat_minor": 2
}
