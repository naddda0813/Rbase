{
 "cells": [
  {
   "cell_type": "markdown",
   "id": "fbdfde2a",
   "metadata": {},
   "source": [
    "# for문"
   ]
  },
  {
   "cell_type": "code",
   "execution_count": 3,
   "id": "53e78f4e",
   "metadata": {
    "vscode": {
     "languageId": "r"
    }
   },
   "outputs": [
    {
     "name": "stdout",
     "output_type": "stream",
     "text": [
      "[1] 1\n",
      "[1] 2\n",
      "[1] 3\n",
      "[1] 4\n",
      "[1] 5\n",
      "[1] 6\n",
      "[1] 7\n",
      "[1] 8\n",
      "[1] 9\n",
      "[1] 10\n"
     ]
    }
   ],
   "source": [
    "# 1 - 10까지의 숫자 출력\n",
    "for(i in 1:10){\n",
    "    print(i)\n",
    "}"
   ]
  },
  {
   "cell_type": "code",
   "execution_count": 5,
   "id": "5b75ba60",
   "metadata": {
    "vscode": {
     "languageId": "r"
    }
   },
   "outputs": [
    {
     "name": "stdout",
     "output_type": "stream",
     "text": [
      "[1] 1\n",
      "[1] 3\n",
      "[1] 5\n"
     ]
    }
   ],
   "source": [
    "for(i in c(1,3,5)){\n",
    "    print(i)\n",
    "}"
   ]
  },
  {
   "cell_type": "code",
   "execution_count": 6,
   "id": "d88aaddf",
   "metadata": {
    "vscode": {
     "languageId": "r"
    }
   },
   "outputs": [
    {
     "name": "stdout",
     "output_type": "stream",
     "text": [
      "[1] 1\n",
      "[1] 3\n",
      "[1] 5\n",
      "[1] 7\n",
      "[1] 9\n"
     ]
    }
   ],
   "source": [
    "for(i in seq(1,10,2)){\n",
    "    print(i)\n",
    "}"
   ]
  },
  {
   "cell_type": "code",
   "execution_count": 7,
   "id": "0a42c006",
   "metadata": {
    "vscode": {
     "languageId": "r"
    }
   },
   "outputs": [
    {
     "name": "stdout",
     "output_type": "stream",
     "text": [
      "[1] 1\n",
      "[1] 1.414214\n",
      "[1] 1.732051\n",
      "[1] 2\n",
      "[1] 2.236068\n",
      "[1] 2.44949\n",
      "[1] 2.645751\n",
      "[1] 2.828427\n",
      "[1] 3\n",
      "[1] 3.162278\n"
     ]
    }
   ],
   "source": [
    "# 1~10까지의 제곱근  \n",
    "for(i in 1:10){\n",
    "    print(sqrt(i))\n",
    "}"
   ]
  },
  {
   "cell_type": "code",
   "execution_count": 20,
   "id": "d32b4d11",
   "metadata": {
    "vscode": {
     "languageId": "r"
    }
   },
   "outputs": [
    {
     "name": "stdout",
     "output_type": "stream",
     "text": [
      "1 => 1 \n",
      "2 => 1.4142135623731 \n",
      "3 => 1.73205080756888 \n",
      "4 => 2 \n",
      "5 => 2.23606797749979 \n",
      "6 => 2.44948974278318 \n",
      "7 => 2.64575131106459 \n",
      "8 => 2.82842712474619 \n",
      "9 => 3 \n",
      "10 => 3.16227766016838 \n"
     ]
    }
   ],
   "source": [
    "# 정수와 그에 해당하는 제곱근 \n",
    "for(i in 1:10){\n",
    "    cat(i,\"=>\",paste(sqrt(i)),\"\\n\")\n",
    "}"
   ]
  },
  {
   "cell_type": "code",
   "execution_count": 8,
   "id": "ab2eb30a",
   "metadata": {
    "vscode": {
     "languageId": "r"
    }
   },
   "outputs": [
    {
     "name": "stdout",
     "output_type": "stream",
     "text": [
      "홀수의 합은 604 이고 짝수의 합은 852 입니다"
     ]
    }
   ],
   "source": [
    "# excel 에서 q3 컬럼 데이터의 홀수의 합과 짝수의 합 구하기\n",
    "#홀수의 합은 604이고 짝수의 합은 852입니다.\n",
    "excel <- read.csv(\"../Data/excel.csv\")\n",
    "sumOdd = 0;\n",
    "sumEven = 0;\n",
    "for(i in excel$q3) {\n",
    "    if(i %% 2 == 1 ) {\n",
    "        sumOdd = sumOdd + i\n",
    "    } else  {\n",
    "        sumEven = sumEven + i\n",
    "    }\n",
    "} \n",
    "cat(\"홀수의 합은\",sumOdd,\"이고 짝수의 합은\", sumEven, \"입니다\")"
   ]
  },
  {
   "cell_type": "code",
   "execution_count": 13,
   "id": "ddb81c8d",
   "metadata": {
    "vscode": {
     "languageId": "r"
    }
   },
   "outputs": [
    {
     "name": "stdout",
     "output_type": "stream",
     "text": [
      "3의 배수의 합계는 216 입니다"
     ]
    }
   ],
   "source": [
    "# excel에서 q3 컬럼 데이터 중 3의 배수의 합계 구하기\n",
    "sum = 0;\n",
    "for(i in excel$q3) {\n",
    "    if(i %%3 == 0 ) {\n",
    "        sum = sum + i \n",
    "    }\n",
    "}\n",
    "    cat(\"3의 배수의 합계는\", sum,\"입니다\")"
   ]
  },
  {
   "cell_type": "code",
   "execution_count": 14,
   "id": "ff7be149",
   "metadata": {
    "vscode": {
     "languageId": "r"
    }
   },
   "outputs": [
    {
     "name": "stdout",
     "output_type": "stream",
     "text": [
      "3과 4의 공배수의 합계는 0 입니다"
     ]
    }
   ],
   "source": [
    "#  excel에서 q3 컬럼 데이터 중 3의 배수도 되고 4의 배수도 되는 수의 합계 구하기\n",
    "sum = 0;\n",
    "for(i in excel$q3) {\n",
    "    if(i %%3 == 0 & i %% 4 == 0 ) {\n",
    "        sum = sum + i \n",
    "    }\n",
    "}\n",
    "    cat(\"3과 4의 공배수의 합계는\", sum,\"입니다\")\n"
   ]
  },
  {
   "cell_type": "code",
   "execution_count": 19,
   "id": "2d155c78",
   "metadata": {
    "vscode": {
     "languageId": "r"
    }
   },
   "outputs": [
    {
     "name": "stdout",
     "output_type": "stream",
     "text": [
      "2 x 1 = 2 \n",
      "2 x 2 = 4 \n",
      "2 x 3 = 6 \n",
      "2 x 4 = 8 \n",
      "2 x 5 = 10 \n",
      "2 x 6 = 12 \n",
      "2 x 7 = 14 \n",
      "2 x 8 = 16 \n",
      "2 x 9 = 18 \n"
     ]
    }
   ],
   "source": [
    "#   구구단 2단 출력하기 \n",
    "for(i in 1:9){\n",
    "    cat(2,\"x\", i ,\"=\", (2*i),\"\\n\")\n",
    "}"
   ]
  },
  {
   "cell_type": "code",
   "execution_count": 25,
   "id": "916ba80b",
   "metadata": {
    "vscode": {
     "languageId": "r"
    }
   },
   "outputs": [
    {
     "name": "stdout",
     "output_type": "stream",
     "text": [
      "5 x 1 = 5 \n",
      "5 x 2 = 10 \n",
      "5 x 3 = 15 \n",
      "5 x 4 = 20 \n",
      "5 x 5 = 25 \n",
      "5 x 6 = 30 \n",
      "5 x 7 = 35 \n",
      "5 x 8 = 40 \n",
      "5 x 9 = 45 \n"
     ]
    }
   ],
   "source": [
    "# 사용자로부터 몇단을 출력할지 단수를 입력받아 구구단 출력하기 \n",
    "num1 <- as.integer(readline(\"단을 입력하세요 : \"))\n",
    "for(i in 1:9){\n",
    "    if( num1 >=2 & num1 <= 9) {\n",
    "     cat(num1,\"x\", i ,\"=\", (num1*i),\"\\n\")\n",
    "    } else {\n",
    "        print(\"범위에 벗어난 값을 입력하였습니다.\")\n",
    "    }\n",
    "}\n"
   ]
  },
  {
   "cell_type": "code",
   "execution_count": 26,
   "id": "8aeaf1dd",
   "metadata": {
    "vscode": {
     "languageId": "r"
    }
   },
   "outputs": [],
   "source": [
    "#   구구단 함수 만들기 -1\n",
    "gugu <-function() {\n",
    "num1 <- as.integer(readline(\"단을 입력하세요 : \"))\n",
    "for(i in 1:9){\n",
    "    if( num1 >=2 & num1 <= 9) {\n",
    "     cat(num1,\"x\", i ,\"=\", (num1*i),\"\\n\")\n",
    "    } \n",
    "} \n",
    "}"
   ]
  },
  {
   "cell_type": "code",
   "execution_count": 27,
   "id": "43853b29",
   "metadata": {
    "vscode": {
     "languageId": "r"
    }
   },
   "outputs": [
    {
     "name": "stdout",
     "output_type": "stream",
     "text": [
      "4 x 1 = 4 \n",
      "4 x 2 = 8 \n",
      "4 x 3 = 12 \n",
      "4 x 4 = 16 \n",
      "4 x 5 = 20 \n",
      "4 x 6 = 24 \n",
      "4 x 7 = 28 \n",
      "4 x 8 = 32 \n",
      "4 x 9 = 36 \n"
     ]
    }
   ],
   "source": [
    "gugu()"
   ]
  },
  {
   "cell_type": "code",
   "execution_count": 32,
   "id": "b2b9bccf",
   "metadata": {
    "vscode": {
     "languageId": "r"
    }
   },
   "outputs": [],
   "source": [
    "#   구구단 함수 만들기 - 2 # 파라미터 \n",
    "gugu <- function(x) {\n",
    "    for(i in 1:9) {\n",
    "        cat( x,\"X\",i,\"=\",x*i,\"\\n\")\n",
    "    }\n",
    "}"
   ]
  },
  {
   "cell_type": "code",
   "execution_count": 33,
   "id": "386df12c",
   "metadata": {
    "vscode": {
     "languageId": "r"
    }
   },
   "outputs": [
    {
     "name": "stdout",
     "output_type": "stream",
     "text": [
      "2 X 1 = 2 \n",
      "2 X 2 = 4 \n",
      "2 X 3 = 6 \n",
      "2 X 4 = 8 \n",
      "2 X 5 = 10 \n",
      "2 X 6 = 12 \n",
      "2 X 7 = 14 \n",
      "2 X 8 = 16 \n",
      "2 X 9 = 18 \n"
     ]
    }
   ],
   "source": [
    "gugu(2)"
   ]
  },
  {
   "cell_type": "code",
   "execution_count": 35,
   "id": "c52c49b9",
   "metadata": {
    "vscode": {
     "languageId": "r"
    }
   },
   "outputs": [],
   "source": [
    "#   구구단 함수 만들기 - 3\n",
    "gugu <- function(x,y) {\n",
    "    for(y in 1:y) {\n",
    "        cat( x,\"X\",y,\"=\",x*y,\"\\n\")\n",
    "    }\n",
    "}"
   ]
  },
  {
   "cell_type": "code",
   "execution_count": 36,
   "id": "9246528d",
   "metadata": {
    "vscode": {
     "languageId": "r"
    }
   },
   "outputs": [
    {
     "name": "stdout",
     "output_type": "stream",
     "text": [
      "4 X 1 = 4 \n",
      "4 X 2 = 8 \n",
      "4 X 3 = 12 \n",
      "4 X 4 = 16 \n",
      "4 X 5 = 20 \n",
      "4 X 6 = 24 \n",
      "4 X 7 = 28 \n",
      "4 X 8 = 32 \n",
      "4 X 9 = 36 \n",
      "4 X 10 = 40 \n",
      "4 X 11 = 44 \n",
      "4 X 12 = 48 \n",
      "4 X 13 = 52 \n",
      "4 X 14 = 56 \n",
      "4 X 15 = 60 \n",
      "4 X 16 = 64 \n",
      "4 X 17 = 68 \n",
      "4 X 18 = 72 \n",
      "4 X 19 = 76 \n",
      "4 X 20 = 80 \n"
     ]
    }
   ],
   "source": [
    "gugu(4,20)"
   ]
  },
  {
   "cell_type": "code",
   "execution_count": 37,
   "id": "52de1bab",
   "metadata": {
    "vscode": {
     "languageId": "r"
    }
   },
   "outputs": [
    {
     "name": "stdout",
     "output_type": "stream",
     "text": [
      "2 X 1 = 2 \n",
      "2 X 2 = 4 \n",
      "2 X 3 = 6 \n",
      "2 X 4 = 8 \n",
      "2 X 5 = 10 \n",
      "2 X 6 = 12 \n",
      "2 X 7 = 14 \n",
      "2 X 8 = 16 \n",
      "2 X 9 = 18 \n",
      "--------------\n",
      "3 X 1 = 3 \n",
      "3 X 2 = 6 \n",
      "3 X 3 = 9 \n",
      "3 X 4 = 12 \n",
      "3 X 5 = 15 \n",
      "3 X 6 = 18 \n",
      "3 X 7 = 21 \n",
      "3 X 8 = 24 \n",
      "3 X 9 = 27 \n",
      "--------------\n",
      "4 X 1 = 4 \n",
      "4 X 2 = 8 \n",
      "4 X 3 = 12 \n",
      "4 X 4 = 16 \n",
      "4 X 5 = 20 \n",
      "4 X 6 = 24 \n",
      "4 X 7 = 28 \n",
      "4 X 8 = 32 \n",
      "4 X 9 = 36 \n",
      "--------------\n",
      "5 X 1 = 5 \n",
      "5 X 2 = 10 \n",
      "5 X 3 = 15 \n",
      "5 X 4 = 20 \n",
      "5 X 5 = 25 \n",
      "5 X 6 = 30 \n",
      "5 X 7 = 35 \n",
      "5 X 8 = 40 \n",
      "5 X 9 = 45 \n",
      "--------------\n",
      "6 X 1 = 6 \n",
      "6 X 2 = 12 \n",
      "6 X 3 = 18 \n",
      "6 X 4 = 24 \n",
      "6 X 5 = 30 \n",
      "6 X 6 = 36 \n",
      "6 X 7 = 42 \n",
      "6 X 8 = 48 \n",
      "6 X 9 = 54 \n",
      "--------------\n",
      "7 X 1 = 7 \n",
      "7 X 2 = 14 \n",
      "7 X 3 = 21 \n",
      "7 X 4 = 28 \n",
      "7 X 5 = 35 \n",
      "7 X 6 = 42 \n",
      "7 X 7 = 49 \n",
      "7 X 8 = 56 \n",
      "7 X 9 = 63 \n",
      "--------------\n",
      "8 X 1 = 8 \n",
      "8 X 2 = 16 \n",
      "8 X 3 = 24 \n",
      "8 X 4 = 32 \n",
      "8 X 5 = 40 \n",
      "8 X 6 = 48 \n",
      "8 X 7 = 56 \n",
      "8 X 8 = 64 \n",
      "8 X 9 = 72 \n",
      "--------------\n",
      "9 X 1 = 9 \n",
      "9 X 2 = 18 \n",
      "9 X 3 = 27 \n",
      "9 X 4 = 36 \n",
      "9 X 5 = 45 \n",
      "9 X 6 = 54 \n",
      "9 X 7 = 63 \n",
      "9 X 8 = 72 \n",
      "9 X 9 = 81 \n",
      "--------------\n"
     ]
    }
   ],
   "source": [
    "# 구구단 전체 출력하기 \n",
    "for(x in 2:9){\n",
    "    gugu(x,9)\n",
    "cat(\"--------------\\n\")\n",
    "}\n"
   ]
  },
  {
   "cell_type": "code",
   "execution_count": 44,
   "id": "d6a570cb",
   "metadata": {
    "vscode": {
     "languageId": "r"
    }
   },
   "outputs": [
    {
     "name": "stdout",
     "output_type": "stream",
     "text": [
      "2 X 2 = 4 \n",
      "2 X 4 = 8 \n",
      "2 X 6 = 12 \n",
      "2 X 8 = 16 \n",
      "--------------\n",
      "4 X 2 = 8 \n",
      "4 X 4 = 16 \n",
      "4 X 6 = 24 \n",
      "4 X 8 = 32 \n",
      "--------------\n",
      "6 X 2 = 12 \n",
      "6 X 4 = 24 \n",
      "6 X 6 = 36 \n",
      "6 X 8 = 48 \n",
      "--------------\n",
      "8 X 2 = 16 \n",
      "8 X 4 = 32 \n",
      "8 X 6 = 48 \n",
      "8 X 8 = 64 \n",
      "--------------\n"
     ]
    }
   ],
   "source": [
    "# 구구단 짝수곱,짝수단만  출력하기 \n",
    "for(x in seq(2,8,2)){\n",
    "    cat(paste(x, \"X\",seq(2,8,2),\"=\",x*seq(2,8,2),\"\\n\"),sep=\"\")\n",
    "    cat(\"--------------\\n\")\n",
    "}"
   ]
  },
  {
   "cell_type": "code",
   "execution_count": 2,
   "id": "08282d3d",
   "metadata": {
    "vscode": {
     "languageId": "r"
    }
   },
   "outputs": [
    {
     "name": "stdout",
     "output_type": "stream",
     "text": [
      "유비 : 85 \n",
      "관우 : 95 \n",
      "장비 : 89 \n"
     ]
    }
   ],
   "source": [
    "# 2 개의 벡터 자료를 함께 출력하기\n",
    "score <- c(85,95,89)\n",
    "name <- c(\"유비\",\"관우\",\"장비\")\n",
    "for(i in score){\n",
    "    cat(name[which(score==i)],\":\",i,\"\\n\")\n",
    "}"
   ]
  },
  {
   "cell_type": "code",
   "execution_count": 4,
   "id": "936d083a",
   "metadata": {
    "vscode": {
     "languageId": "r"
    }
   },
   "outputs": [
    {
     "name": "stdout",
     "output_type": "stream",
     "text": [
      "장비 : 89 \n"
     ]
    }
   ],
   "source": []
  },
  {
   "cell_type": "code",
   "execution_count": 26,
   "id": "22434cb3",
   "metadata": {
    "vscode": {
     "languageId": "r"
    }
   },
   "outputs": [
    {
     "name": "stdout",
     "output_type": "stream",
     "text": [
      "유비 관우 장비 : 85 95 89 \n"
     ]
    },
    {
     "name": "stderr",
     "output_type": "stream",
     "text": [
      "Warning message in if (!after) c(values, x) else if (after >= lengx) c(x, values) else c(x[1L:after], :\n",
      "“length > 1 이라는 조건이 있고, 첫번째 요소만이 사용될 것입니다”Warning message in if (after >= lengx) c(x, values) else c(x[1L:after], values, :\n",
      "“length > 1 이라는 조건이 있고, 첫번째 요소만이 사용될 것입니다”"
     ]
    },
    {
     "name": "stdout",
     "output_type": "stream",
     "text": [
      "유비 : 85 \n",
      "관우 : 95 \n",
      "장비 : 89 \n"
     ]
    }
   ],
   "source": [
    "cat(name,\":\",score,\"\\n\")\n",
    "a <- append(name,\":\",score)\n",
    "cat(paste(name,\":\",score,'\\n'),sep=\"\")"
   ]
  },
  {
   "cell_type": "markdown",
   "id": "c287357c",
   "metadata": {},
   "source": [
    "---\n",
    "# while"
   ]
  },
  {
   "cell_type": "code",
   "execution_count": 29,
   "id": "8d3a365d",
   "metadata": {
    "vscode": {
     "languageId": "r"
    }
   },
   "outputs": [
    {
     "name": "stdout",
     "output_type": "stream",
     "text": [
      "[1] 1\n",
      "[1] 2\n",
      "[1] 3\n",
      "[1] 4\n",
      "[1] 5\n",
      "[1] 6\n",
      "[1] 7\n",
      "[1] 8\n",
      "[1] 9\n",
      "[1] 10\n"
     ]
    }
   ],
   "source": [
    "i <- 0\n",
    "while( i < 10) {\n",
    "    i = i +1\n",
    "    print(i)\n",
    "}"
   ]
  },
  {
   "cell_type": "markdown",
   "id": "28e77dbb",
   "metadata": {},
   "source": [
    "# repeat"
   ]
  },
  {
   "cell_type": "code",
   "execution_count": 30,
   "id": "11be2e0b",
   "metadata": {
    "vscode": {
     "languageId": "r"
    }
   },
   "outputs": [
    {
     "name": "stdout",
     "output_type": "stream",
     "text": [
      "[1] 1\n",
      "[1] 2\n",
      "[1] 3\n",
      "[1] 4\n",
      "[1] 5\n",
      "[1] 6\n",
      "[1] 7\n",
      "[1] 8\n",
      "[1] 9\n",
      "[1] 10\n"
     ]
    }
   ],
   "source": [
    "i <- 0      \n",
    "repeat{             # () 가 없음\n",
    "    i = i + 1\n",
    "    if(i >10) {\n",
    "        break\n",
    "    }\n",
    "    print(i)\n",
    "}\n"
   ]
  },
  {
   "cell_type": "code",
   "execution_count": null,
   "id": "3252a720",
   "metadata": {
    "vscode": {
     "languageId": "r"
    }
   },
   "outputs": [],
   "source": []
  }
 ],
 "metadata": {
  "kernelspec": {
   "display_name": "R",
   "language": "R",
   "name": "ir"
  },
  "language_info": {
   "codemirror_mode": "r",
   "file_extension": ".r",
   "mimetype": "text/x-r-source",
   "name": "R",
   "pygments_lexer": "r",
   "version": "3.6.1"
  }
 },
 "nbformat": 4,
 "nbformat_minor": 5
}
