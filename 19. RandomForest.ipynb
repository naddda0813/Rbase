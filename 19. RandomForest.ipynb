{
 "cells": [
  {
   "cell_type": "code",
   "execution_count": 128,
   "metadata": {
    "vscode": {
     "languageId": "r"
    }
   },
   "outputs": [],
   "source": [
    "# Ensemble : Model들을 같이 엮어서 사용하는 방법"
   ]
  },
  {
   "cell_type": "code",
   "execution_count": 129,
   "metadata": {
    "vscode": {
     "languageId": "r"
    }
   },
   "outputs": [],
   "source": [
    "library(randomForest)"
   ]
  },
  {
   "cell_type": "code",
   "execution_count": 130,
   "metadata": {
    "vscode": {
     "languageId": "r"
    }
   },
   "outputs": [],
   "source": [
    "# Sampling \n",
    "set.seed(1234)\n",
    "library(caret)\n",
    "samp <- createDataPartition(iris$Species,p=0.7,list=F)  #0.7~ 0.8사이의 값, 데이터 많을때 0.8 \n",
    "# 학습용 데이터 만들기\n",
    "data.tr <- iris[samp,]\n",
    "# 검증용 데이터 만들기\n",
    "data.test <- iris[-samp,]\n",
    "# 문제 및 정답 만들기\n",
    "x <- subset(data.test,select=-Species)\n",
    "y <- data.test$Species"
   ]
  },
  {
   "cell_type": "code",
   "execution_count": 131,
   "metadata": {
    "vscode": {
     "languageId": "r"
    }
   },
   "outputs": [],
   "source": [
    "# 학습시키기\n",
    "model.rf<- randomForest(Species ~ .,data = data.tr,ntree = 100)\n",
    "# ntree 기본: 100개, 타입 지정할 필요 없음 "
   ]
  },
  {
   "cell_type": "code",
   "execution_count": 132,
   "metadata": {
    "vscode": {
     "languageId": "r"
    }
   },
   "outputs": [],
   "source": [
    "# 검증\n",
    "pred <- predict(model.rf,x)"
   ]
  },
  {
   "cell_type": "code",
   "execution_count": 133,
   "metadata": {
    "vscode": {
     "languageId": "r"
    }
   },
   "outputs": [
    {
     "data": {
      "text/html": [
       "0.933333333333333"
      ],
      "text/latex": [
       "0.933333333333333"
      ],
      "text/markdown": [
       "0.933333333333333"
      ],
      "text/plain": [
       "[1] 0.9333333"
      ]
     },
     "metadata": {},
     "output_type": "display_data"
    },
    {
     "data": {
      "text/plain": [
       "            y\n",
       "pred         setosa versicolor virginica\n",
       "  setosa         15          0         0\n",
       "  versicolor      0         12         0\n",
       "  virginica       0          3        15"
      ]
     },
     "metadata": {},
     "output_type": "display_data"
    }
   ],
   "source": [
    "# 예측력과 오분류표\n",
    "mean(pred == y)\n",
    "table(pred,y)"
   ]
  },
  {
   "cell_type": "markdown",
   "metadata": {},
   "source": [
    "---\n",
    "### 교통사고 예측하기 (회귀식과 randomForest 비교)"
   ]
  },
  {
   "cell_type": "code",
   "execution_count": 162,
   "metadata": {
    "vscode": {
     "languageId": "r"
    }
   },
   "outputs": [
    {
     "data": {
      "text/html": [
       "<table>\n",
       "<thead><tr><th scope=col>년도</th><th scope=col>월</th><th scope=col>자치구명</th><th scope=col>발생건수</th><th scope=col>사망자수</th><th scope=col>부상자수</th></tr></thead>\n",
       "<tbody>\n",
       "\t<tr><td>2011  </td><td>1     </td><td>종로구</td><td>115   </td><td>2     </td><td>165   </td></tr>\n",
       "\t<tr><td>2011  </td><td>2     </td><td>종로구</td><td> 99   </td><td>0     </td><td>134   </td></tr>\n",
       "\t<tr><td>2011  </td><td>3     </td><td>종로구</td><td>116   </td><td>0     </td><td>162   </td></tr>\n",
       "\t<tr><td>2011  </td><td>4     </td><td>종로구</td><td>110   </td><td>1     </td><td>153   </td></tr>\n",
       "\t<tr><td>2011  </td><td>5     </td><td>종로구</td><td>122   </td><td>0     </td><td>157   </td></tr>\n",
       "\t<tr><td>2011  </td><td>6     </td><td>종로구</td><td>116   </td><td>3     </td><td>163   </td></tr>\n",
       "</tbody>\n",
       "</table>\n"
      ],
      "text/latex": [
       "\\begin{tabular}{r|llllll}\n",
       " 년도 & 월 & 자치구명 & 발생건수 & 사망자수 & 부상자수\\\\\n",
       "\\hline\n",
       "\t 2011   & 1      & 종로구 & 115    & 2      & 165   \\\\\n",
       "\t 2011   & 2      & 종로구 &  99    & 0      & 134   \\\\\n",
       "\t 2011   & 3      & 종로구 & 116    & 0      & 162   \\\\\n",
       "\t 2011   & 4      & 종로구 & 110    & 1      & 153   \\\\\n",
       "\t 2011   & 5      & 종로구 & 122    & 0      & 157   \\\\\n",
       "\t 2011   & 6      & 종로구 & 116    & 3      & 163   \\\\\n",
       "\\end{tabular}\n"
      ],
      "text/markdown": [
       "\n",
       "| 년도 | 월 | 자치구명 | 발생건수 | 사망자수 | 부상자수 |\n",
       "|---|---|---|---|---|---|\n",
       "| 2011   | 1      | 종로구 | 115    | 2      | 165    |\n",
       "| 2011   | 2      | 종로구 |  99    | 0      | 134    |\n",
       "| 2011   | 3      | 종로구 | 116    | 0      | 162    |\n",
       "| 2011   | 4      | 종로구 | 110    | 1      | 153    |\n",
       "| 2011   | 5      | 종로구 | 122    | 0      | 157    |\n",
       "| 2011   | 6      | 종로구 | 116    | 3      | 163    |\n",
       "\n"
      ],
      "text/plain": [
       "  년도 월 자치구명 발생건수 사망자수 부상자수\n",
       "1 2011 1  종로구   115      2        165     \n",
       "2 2011 2  종로구    99      0        134     \n",
       "3 2011 3  종로구   116      0        162     \n",
       "4 2011 4  종로구   110      1        153     \n",
       "5 2011 5  종로구   122      0        157     \n",
       "6 2011 6  종로구   116      3        163     "
      ]
     },
     "metadata": {},
     "output_type": "display_data"
    }
   ],
   "source": [
    "seoul <- read.csv(\"../Data/newSeoul2019.csv\")\n",
    "head(seoul)"
   ]
  },
  {
   "cell_type": "code",
   "execution_count": 163,
   "metadata": {
    "vscode": {
     "languageId": "r"
    }
   },
   "outputs": [
    {
     "data": {
      "text/html": [
       "'data.frame'"
      ],
      "text/latex": [
       "'data.frame'"
      ],
      "text/markdown": [
       "'data.frame'"
      ],
      "text/plain": [
       "[1] \"data.frame\""
      ]
     },
     "metadata": {},
     "output_type": "display_data"
    },
    {
     "name": "stdout",
     "output_type": "stream",
     "text": [
      "'data.frame':\t108 obs. of  6 variables:\n",
      " $ 년도    : int  2011 2011 2011 2011 2011 2011 2011 2011 2011 2011 ...\n",
      " $ 월      : int  1 2 3 4 5 6 7 8 9 10 ...\n",
      " $ 자치구명: Factor w/ 25 levels \"강남구\",\"강동구\",..: 23 23 23 23 23 23 23 23 23 23 ...\n",
      " $ 발생건수: int  115 99 116 110 122 116 103 122 121 135 ...\n",
      " $ 사망자수: int  2 0 0 1 0 3 1 1 2 2 ...\n",
      " $ 부상자수: int  165 134 162 153 157 163 154 171 166 193 ...\n"
     ]
    },
    {
     "data": {
      "text/html": [
       "<table>\n",
       "<thead><tr><th scope=col>년도</th><th scope=col>월</th><th scope=col>자치구명</th><th scope=col>발생건수</th><th scope=col>사망자수</th><th scope=col>부상자수</th></tr></thead>\n",
       "<tbody>\n",
       "\t<tr><td>2011  </td><td>1     </td><td>종로구</td><td>115   </td><td>2     </td><td>165   </td></tr>\n",
       "\t<tr><td>2011  </td><td>2     </td><td>종로구</td><td> 99   </td><td>0     </td><td>134   </td></tr>\n",
       "\t<tr><td>2011  </td><td>3     </td><td>종로구</td><td>116   </td><td>0     </td><td>162   </td></tr>\n",
       "\t<tr><td>2011  </td><td>4     </td><td>종로구</td><td>110   </td><td>1     </td><td>153   </td></tr>\n",
       "\t<tr><td>2011  </td><td>5     </td><td>종로구</td><td>122   </td><td>0     </td><td>157   </td></tr>\n",
       "\t<tr><td>2011  </td><td>6     </td><td>종로구</td><td>116   </td><td>3     </td><td>163   </td></tr>\n",
       "</tbody>\n",
       "</table>\n"
      ],
      "text/latex": [
       "\\begin{tabular}{r|llllll}\n",
       " 년도 & 월 & 자치구명 & 발생건수 & 사망자수 & 부상자수\\\\\n",
       "\\hline\n",
       "\t 2011   & 1      & 종로구 & 115    & 2      & 165   \\\\\n",
       "\t 2011   & 2      & 종로구 &  99    & 0      & 134   \\\\\n",
       "\t 2011   & 3      & 종로구 & 116    & 0      & 162   \\\\\n",
       "\t 2011   & 4      & 종로구 & 110    & 1      & 153   \\\\\n",
       "\t 2011   & 5      & 종로구 & 122    & 0      & 157   \\\\\n",
       "\t 2011   & 6      & 종로구 & 116    & 3      & 163   \\\\\n",
       "\\end{tabular}\n"
      ],
      "text/markdown": [
       "\n",
       "| 년도 | 월 | 자치구명 | 발생건수 | 사망자수 | 부상자수 |\n",
       "|---|---|---|---|---|---|\n",
       "| 2011   | 1      | 종로구 | 115    | 2      | 165    |\n",
       "| 2011   | 2      | 종로구 |  99    | 0      | 134    |\n",
       "| 2011   | 3      | 종로구 | 116    | 0      | 162    |\n",
       "| 2011   | 4      | 종로구 | 110    | 1      | 153    |\n",
       "| 2011   | 5      | 종로구 | 122    | 0      | 157    |\n",
       "| 2011   | 6      | 종로구 | 116    | 3      | 163    |\n",
       "\n"
      ],
      "text/plain": [
       "  년도 월 자치구명 발생건수 사망자수 부상자수\n",
       "1 2011 1  종로구   115      2        165     \n",
       "2 2011 2  종로구    99      0        134     \n",
       "3 2011 3  종로구   116      0        162     \n",
       "4 2011 4  종로구   110      1        153     \n",
       "5 2011 5  종로구   122      0        157     \n",
       "6 2011 6  종로구   116      3        163     "
      ]
     },
     "metadata": {},
     "output_type": "display_data"
    },
    {
     "data": {
      "text/html": [
       "<table>\n",
       "<thead><tr><th></th><th scope=col>년도</th><th scope=col>월</th><th scope=col>자치구명</th><th scope=col>발생건수</th><th scope=col>사망자수</th><th scope=col>부상자수</th></tr></thead>\n",
       "<tbody>\n",
       "\t<tr><th scope=row>2407</th><td>2019  </td><td> 7    </td><td>종로구</td><td> 83   </td><td>0     </td><td>109   </td></tr>\n",
       "\t<tr><th scope=row>2408</th><td>2019  </td><td> 8    </td><td>종로구</td><td>115   </td><td>0     </td><td>164   </td></tr>\n",
       "\t<tr><th scope=row>2409</th><td>2019  </td><td> 9    </td><td>종로구</td><td> 99   </td><td>0     </td><td>143   </td></tr>\n",
       "\t<tr><th scope=row>2410</th><td>2019  </td><td>10    </td><td>종로구</td><td>104   </td><td>0     </td><td>139   </td></tr>\n",
       "\t<tr><th scope=row>2411</th><td>2019  </td><td>11    </td><td>종로구</td><td>100   </td><td>0     </td><td>126   </td></tr>\n",
       "\t<tr><th scope=row>2412</th><td>2019  </td><td>12    </td><td>종로구</td><td>100   </td><td>0     </td><td>142   </td></tr>\n",
       "</tbody>\n",
       "</table>\n"
      ],
      "text/latex": [
       "\\begin{tabular}{r|llllll}\n",
       "  & 년도 & 월 & 자치구명 & 발생건수 & 사망자수 & 부상자수\\\\\n",
       "\\hline\n",
       "\t2407 & 2019   &  7     & 종로구 &  83    & 0      & 109   \\\\\n",
       "\t2408 & 2019   &  8     & 종로구 & 115    & 0      & 164   \\\\\n",
       "\t2409 & 2019   &  9     & 종로구 &  99    & 0      & 143   \\\\\n",
       "\t2410 & 2019   & 10     & 종로구 & 104    & 0      & 139   \\\\\n",
       "\t2411 & 2019   & 11     & 종로구 & 100    & 0      & 126   \\\\\n",
       "\t2412 & 2019   & 12     & 종로구 & 100    & 0      & 142   \\\\\n",
       "\\end{tabular}\n"
      ],
      "text/markdown": [
       "\n",
       "| <!--/--> | 년도 | 월 | 자치구명 | 발생건수 | 사망자수 | 부상자수 |\n",
       "|---|---|---|---|---|---|---|\n",
       "| 2407 | 2019   |  7     | 종로구 |  83    | 0      | 109    |\n",
       "| 2408 | 2019   |  8     | 종로구 | 115    | 0      | 164    |\n",
       "| 2409 | 2019   |  9     | 종로구 |  99    | 0      | 143    |\n",
       "| 2410 | 2019   | 10     | 종로구 | 104    | 0      | 139    |\n",
       "| 2411 | 2019   | 11     | 종로구 | 100    | 0      | 126    |\n",
       "| 2412 | 2019   | 12     | 종로구 | 100    | 0      | 142    |\n",
       "\n"
      ],
      "text/plain": [
       "     년도 월 자치구명 발생건수 사망자수 부상자수\n",
       "2407 2019  7 종로구    83      0        109     \n",
       "2408 2019  8 종로구   115      0        164     \n",
       "2409 2019  9 종로구    99      0        143     \n",
       "2410 2019 10 종로구   104      0        139     \n",
       "2411 2019 11 종로구   100      0        126     \n",
       "2412 2019 12 종로구   100      0        142     "
      ]
     },
     "metadata": {},
     "output_type": "display_data"
    }
   ],
   "source": [
    "# 종로구 데이터셋 만들기 \n",
    "JongRo <- subset(seoul,자치구명 == '종로구')\n",
    "class(JongRo)\n",
    "str(JongRo)\n",
    "head(JongRo)\n",
    "tail(JongRo)"
   ]
  },
  {
   "cell_type": "code",
   "execution_count": 164,
   "metadata": {
    "vscode": {
     "languageId": "r"
    }
   },
   "outputs": [
    {
     "data": {
      "text/html": [
       "<table>\n",
       "<thead><tr><th></th><th scope=col>년도</th><th scope=col>월</th><th scope=col>자치구명</th><th scope=col>발생건수</th><th scope=col>사망자수</th><th scope=col>부상자수</th></tr></thead>\n",
       "<tbody>\n",
       "\t<tr><th scope=row>103</th><td>2019  </td><td> 7    </td><td>종로구</td><td> 83   </td><td>0     </td><td>109   </td></tr>\n",
       "\t<tr><th scope=row>104</th><td>2019  </td><td> 8    </td><td>종로구</td><td>115   </td><td>0     </td><td>164   </td></tr>\n",
       "\t<tr><th scope=row>105</th><td>2019  </td><td> 9    </td><td>종로구</td><td> 99   </td><td>0     </td><td>143   </td></tr>\n",
       "\t<tr><th scope=row>106</th><td>2019  </td><td>10    </td><td>종로구</td><td>104   </td><td>0     </td><td>139   </td></tr>\n",
       "\t<tr><th scope=row>107</th><td>2019  </td><td>11    </td><td>종로구</td><td>100   </td><td>0     </td><td>126   </td></tr>\n",
       "\t<tr><th scope=row>108</th><td>2019  </td><td>12    </td><td>종로구</td><td>100   </td><td>0     </td><td>142   </td></tr>\n",
       "</tbody>\n",
       "</table>\n"
      ],
      "text/latex": [
       "\\begin{tabular}{r|llllll}\n",
       "  & 년도 & 월 & 자치구명 & 발생건수 & 사망자수 & 부상자수\\\\\n",
       "\\hline\n",
       "\t103 & 2019   &  7     & 종로구 &  83    & 0      & 109   \\\\\n",
       "\t104 & 2019   &  8     & 종로구 & 115    & 0      & 164   \\\\\n",
       "\t105 & 2019   &  9     & 종로구 &  99    & 0      & 143   \\\\\n",
       "\t106 & 2019   & 10     & 종로구 & 104    & 0      & 139   \\\\\n",
       "\t107 & 2019   & 11     & 종로구 & 100    & 0      & 126   \\\\\n",
       "\t108 & 2019   & 12     & 종로구 & 100    & 0      & 142   \\\\\n",
       "\\end{tabular}\n"
      ],
      "text/markdown": [
       "\n",
       "| <!--/--> | 년도 | 월 | 자치구명 | 발생건수 | 사망자수 | 부상자수 |\n",
       "|---|---|---|---|---|---|---|\n",
       "| 103 | 2019   |  7     | 종로구 |  83    | 0      | 109    |\n",
       "| 104 | 2019   |  8     | 종로구 | 115    | 0      | 164    |\n",
       "| 105 | 2019   |  9     | 종로구 |  99    | 0      | 143    |\n",
       "| 106 | 2019   | 10     | 종로구 | 104    | 0      | 139    |\n",
       "| 107 | 2019   | 11     | 종로구 | 100    | 0      | 126    |\n",
       "| 108 | 2019   | 12     | 종로구 | 100    | 0      | 142    |\n",
       "\n"
      ],
      "text/plain": [
       "    년도 월 자치구명 발생건수 사망자수 부상자수\n",
       "103 2019  7 종로구    83      0        109     \n",
       "104 2019  8 종로구   115      0        164     \n",
       "105 2019  9 종로구    99      0        143     \n",
       "106 2019 10 종로구   104      0        139     \n",
       "107 2019 11 종로구   100      0        126     \n",
       "108 2019 12 종로구   100      0        142     "
      ]
     },
     "metadata": {},
     "output_type": "display_data"
    }
   ],
   "source": [
    "#rownames  정리 \n",
    "rownames(JongRo) <- c()\n",
    "tail(JongRo)"
   ]
  },
  {
   "cell_type": "code",
   "execution_count": 165,
   "metadata": {
    "vscode": {
     "languageId": "r"
    }
   },
   "outputs": [
    {
     "name": "stdout",
     "output_type": "stream",
     "text": [
      "'data.frame':\t108 obs. of  6 variables:\n",
      " $ 년도    : int  2011 2011 2011 2011 2011 2011 2011 2011 2011 2011 ...\n",
      " $ 월      : int  1 2 3 4 5 6 7 8 9 10 ...\n",
      " $ 자치구명: Factor w/ 25 levels \"강남구\",\"강동구\",..: 23 23 23 23 23 23 23 23 23 23 ...\n",
      " $ 발생건수: int  115 99 116 110 122 116 103 122 121 135 ...\n",
      " $ 사망자수: int  2 0 0 1 0 3 1 1 2 2 ...\n",
      " $ 부상자수: int  165 134 162 153 157 163 154 171 166 193 ...\n"
     ]
    }
   ],
   "source": [
    "str(JongRo)"
   ]
  },
  {
   "cell_type": "code",
   "execution_count": 166,
   "metadata": {
    "vscode": {
     "languageId": "r"
    }
   },
   "outputs": [
    {
     "name": "stdout",
     "output_type": "stream",
     "text": [
      "'data.frame':\t108 obs. of  6 variables:\n",
      " $ 년도    : int  2011 2011 2011 2011 2011 2011 2011 2011 2011 2011 ...\n",
      " $ 월      : int  1 2 3 4 5 6 7 8 9 10 ...\n",
      " $ 자치구명: Factor w/ 1 level \"종로구\": 1 1 1 1 1 1 1 1 1 1 ...\n",
      " $ 발생건수: int  115 99 116 110 122 116 103 122 121 135 ...\n",
      " $ 사망자수: int  2 0 0 1 0 3 1 1 2 2 ...\n",
      " $ 부상자수: int  165 134 162 153 157 163 154 171 166 193 ...\n"
     ]
    }
   ],
   "source": [
    "#factor 정리 \n",
    "JongRo$자치구명 <- factor(JongRo$자치구명)\n",
    "str(JongRo)"
   ]
  },
  {
   "cell_type": "code",
   "execution_count": 139,
   "metadata": {
    "vscode": {
     "languageId": "r"
    }
   },
   "outputs": [
    {
     "data": {
      "text/html": [
       "0.920891438840356"
      ],
      "text/latex": [
       "0.920891438840356"
      ],
      "text/markdown": [
       "0.920891438840356"
      ],
      "text/plain": [
       "[1] 0.9208914"
      ]
     },
     "metadata": {},
     "output_type": "display_data"
    }
   ],
   "source": [
    "#종료의 발생건수와 부상자수 상관계수 \n",
    "cor(JongRo$발생건수, JongRo$부상자수)"
   ]
  },
  {
   "cell_type": "code",
   "execution_count": 140,
   "metadata": {
    "vscode": {
     "languageId": "r"
    }
   },
   "outputs": [
    {
     "data": {
      "text/plain": [
       "\n",
       "Call:\n",
       "lm(formula = JongRo$부상자수 ~ JongRo$발생건수)\n",
       "\n",
       "Coefficients:\n",
       "    (Intercept)  JongRo$발생건수  \n",
       "          2.886            1.360  \n"
      ]
     },
     "metadata": {},
     "output_type": "display_data"
    }
   ],
   "source": [
    "# 회귀선 그리기\n",
    "r1<- lm(JongRo$부상자수~ JongRo$발생건수)\n",
    "r1"
   ]
  },
  {
   "cell_type": "code",
   "execution_count": 223,
   "metadata": {
    "vscode": {
     "languageId": "r"
    }
   },
   "outputs": [
    {
     "data": {
      "image/png": "[encoded data removed]",
      "text/plain": [
       "plot without title"
      ]
     },
     "metadata": {},
     "output_type": "display_data"
    }
   ],
   "source": [
    "# 종로구의 발생건수와 부상자수의 산포도와 회귀선 그리기\n",
    "options(warn=-1)\n",
    "par(family='AppleGothic', bg='white')\n",
    "plot(JongRo$부상자수~JongRo$발생건수)\n",
    "abline(r1,col =\"red\")"
   ]
  },
  {
   "cell_type": "code",
   "execution_count": 142,
   "metadata": {
    "vscode": {
     "languageId": "r"
    }
   },
   "outputs": [
    {
     "data": {
      "text/plain": [
       "\n",
       "Call:\n",
       "lm(formula = JongRo$부상자수 ~ JongRo$발생건수)\n",
       "\n",
       "Residuals:\n",
       "    Min      1Q  Median      3Q     Max \n",
       "-21.637  -5.949  -0.019   5.301  33.961 \n",
       "\n",
       "Coefficients:\n",
       "                Estimate Std. Error t value            Pr(>|t|)    \n",
       "(Intercept)      2.88612    6.05535   0.477               0.635    \n",
       "JongRo$발생건수  1.35993    0.05591  24.322 <0.0000000000000002 ***\n",
       "---\n",
       "Signif. codes:  0 ‘***’ 0.001 ‘**’ 0.01 ‘*’ 0.05 ‘.’ 0.1 ‘ ’ 1\n",
       "\n",
       "Residual standard error: 9.816 on 106 degrees of freedom\n",
       "Multiple R-squared:  0.848,\tAdjusted R-squared:  0.8466 \n",
       "F-statistic: 591.6 on 1 and 106 DF,  p-value: < 0.00000000000000022\n"
      ]
     },
     "metadata": {},
     "output_type": "display_data"
    },
    {
     "data": {
      "text/plain": [
       "\n",
       "Call:\n",
       "lm(formula = JongRo$부상자수 ~ JongRo$발생건수)\n",
       "\n",
       "Coefficients:\n",
       "    (Intercept)  JongRo$발생건수  \n",
       "          2.886            1.360  \n"
      ]
     },
     "metadata": {},
     "output_type": "display_data"
    }
   ],
   "source": [
    "options(scipen=100)\n",
    "summary(r1)\n",
    "r1"
   ]
  },
  {
   "cell_type": "code",
   "execution_count": null,
   "metadata": {
    "vscode": {
     "languageId": "r"
    }
   },
   "outputs": [],
   "source": [
    "# 회귀식 \n",
    "# 발생건수가 100건이상일 경우  예측 \n",
    " p-value: 0.00000000000000022 < 0.05 \n",
    "Adjusted R-squared:  0.8466 <- 예측력(정확도)\n",
    "Residual standard error: 9.816  <- 표준오차 "
   ]
  },
  {
   "cell_type": "code",
   "execution_count": 193,
   "metadata": {
    "vscode": {
     "languageId": "r"
    }
   },
   "outputs": [
    {
     "data": {
      "text/html": [
       "138.886"
      ],
      "text/latex": [
       "138.886"
      ],
      "text/markdown": [
       "138.886"
      ],
      "text/plain": [
       "[1] 138.886"
      ]
     },
     "metadata": {},
     "output_type": "display_data"
    },
    {
     "data": {
      "text/html": [
       "206.886"
      ],
      "text/latex": [
       "206.886"
      ],
      "text/markdown": [
       "206.886"
      ],
      "text/plain": [
       "[1] 206.886"
      ]
     },
     "metadata": {},
     "output_type": "display_data"
    }
   ],
   "source": [
    "발생건수100 <-  (  1.360 * 100 ) + 2.886\n",
    "발생건수100\n",
    "발생건수150 <-  (  1.360 * 150 ) + 2.886\n",
    "발생건수150"
   ]
  },
  {
   "cell_type": "code",
   "execution_count": 167,
   "metadata": {
    "vscode": {
     "languageId": "r"
    }
   },
   "outputs": [],
   "source": [
    "library(randomForest)"
   ]
  },
  {
   "cell_type": "code",
   "execution_count": 200,
   "metadata": {
    "vscode": {
     "languageId": "r"
    }
   },
   "outputs": [
    {
     "data": {
      "text/html": [
       "<table>\n",
       "<thead><tr><th scope=col>발생건수</th></tr></thead>\n",
       "<tbody>\n",
       "\t<tr><td>145</td></tr>\n",
       "</tbody>\n",
       "</table>\n"
      ],
      "text/latex": [
       "\\begin{tabular}{r|l}\n",
       " 발생건수\\\\\n",
       "\\hline\n",
       "\t 145\\\\\n",
       "\\end{tabular}\n"
      ],
      "text/markdown": [
       "\n",
       "| 발생건수 |\n",
       "|---|\n",
       "| 145 |\n",
       "\n"
      ],
      "text/plain": [
       "  발생건수\n",
       "1 145     "
      ]
     },
     "metadata": {},
     "output_type": "display_data"
    }
   ],
   "source": [
    "# 데이터 프레임 만들기 \n",
    "data.frame(발생건수=145)"
   ]
  },
  {
   "cell_type": "code",
   "execution_count": 222,
   "metadata": {
    "vscode": {
     "languageId": "r"
    }
   },
   "outputs": [
    {
     "name": "stdout",
     "output_type": "stream",
     "text": [
      "회귀식 : 138.886 \n",
      "랜덤포레스트 : 139.5929"
     ]
    }
   ],
   "source": [
    "# 발생건수가 100건이상일 경우 예측 \n",
    "# 회귀식\n",
    "cat(\"회귀식 :\", (  1.360 * 100 ) + 2.886,\"\\n\")\n",
    "# 랜덤포레스트로 예측 \n",
    "\n",
    "# 학습시키기 \n",
    "result=c()\n",
    "for(i in 1:5) {\n",
    "model.rf <- randomForest(부상자수~ 발생건수, data = JongRo,ntree=100)\n",
    "# 검증하기 \n",
    "pred<- predict(model.rf,data.frame(발생건수=100))\n",
    "result <- append(result,pred)\n",
    "}\n",
    "cat(\"랜덤포레스트 :\",mean(result))"
   ]
  },
  {
   "cell_type": "code",
   "execution_count": 216,
   "metadata": {
    "vscode": {
     "languageId": "r"
    }
   },
   "outputs": [
    {
     "name": "stdout",
     "output_type": "stream",
     "text": [
      "회귀식 : 200.086 \n",
      "랜덤포레스트 : 186.0148"
     ]
    }
   ],
   "source": [
    "# 발생건수가 145건이상일 경우 예측 \n",
    "# 회귀식\n",
    "cat(\"회귀식 :\", (  1.360 * 145 ) + 2.886,\"\\n\")\n",
    "# 랜덤포레스트로 예측 \n",
    "\n",
    "# 학습시키기 \n",
    "result=c()\n",
    "for(i in 1:5) {\n",
    "model.rf <- randomForest(부상자수~ 발생건수, data = JongRo,ntree=100)\n",
    "# 검증하기 \n",
    "pred<- predict(model.rf,data.frame(발생건수=145))\n",
    "result <- append(result,pred)\n",
    "}\n",
    "cat(\"랜덤포레스트 :\",mean(result))"
   ]
  },
  {
   "cell_type": "code",
   "execution_count": 224,
   "metadata": {
    "vscode": {
     "languageId": "r"
    }
   },
   "outputs": [
    {
     "name": "stdout",
     "output_type": "stream",
     "text": [
      "회귀식 : 118.486 \n",
      "랜덤포레스트 : 125.1258랜덤포레스트 : 124.2384랜덤포레스트 : 124.7682랜덤포레스트 : 124.8513랜덤포레스트 : 124.4627"
     ]
    }
   ],
   "source": [
    "# 발생건수가 85건이상일 경우 예측 \n",
    "# 회귀식\n",
    "cat(\"회귀식 :\", (  1.360 * 85) + 2.886,\"\\n\")\n",
    "# 랜덤포레스트로 예측 \n",
    "\n",
    "# 학습시키기 \n",
    "result=c()\n",
    "for(i in 1:5) {\n",
    "model.rf <- randomForest(부상자수~ 발생건수, data = JongRo,ntree=100)\n",
    "# 검증하기 \n",
    "pred<- predict(model.rf,data.frame(발생건수=85))\n",
    "result <- append(result,pred)\n",
    "cat(\"랜덤포레스트 :\",mean(result))\n",
    "}"
   ]
  },
  {
   "cell_type": "code",
   "execution_count": null,
   "metadata": {
    "vscode": {
     "languageId": "r"
    }
   },
   "outputs": [],
   "source": [
    "# 회귀식은 회귀식에 따라 예측 , 랜덤포레스트는 분포에 따라 예측하므로 데이터가 많을때 유의미한 데이터값을 예측가능 "
   ]
  }
 ],
 "metadata": {
  "kernelspec": {
   "display_name": "R",
   "language": "R",
   "name": "ir"
  },
  "language_info": {
   "codemirror_mode": "r",
   "file_extension": ".r",
   "mimetype": "text/x-r-source",
   "name": "R",
   "pygments_lexer": "r",
   "version": "3.6.1"
  },
  "orig_nbformat": 4
 },
 "nbformat": 4,
 "nbformat_minor": 2
}
