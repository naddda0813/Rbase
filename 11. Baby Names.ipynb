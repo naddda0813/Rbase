{
 "cells": [
  {
   "cell_type": "markdown",
   "metadata": {},
   "source": [
    "# 1880년부터  2014년까지의 미국의 아기이름을 정리해논 Dataset"
   ]
  },
  {
   "cell_type": "code",
   "execution_count": 78,
   "metadata": {
    "vscode": {
     "languageId": "r"
    }
   },
   "outputs": [
    {
     "data": {
      "text/html": [
       "<table>\n",
       "<thead><tr><th scope=col>Name</th><th scope=col>Gender</th><th scope=col>Count</th><th scope=col>Year</th><th scope=col>Year.Rank</th></tr></thead>\n",
       "<tbody>\n",
       "\t<tr><td>Mary                  </td><td>F                     </td><td>7065                  </td><td>01/01/1880 12:00:00 AM</td><td>1                     </td></tr>\n",
       "\t<tr><td>Anna                  </td><td>F                     </td><td>2604                  </td><td>01/01/1880 12:00:00 AM</td><td>2                     </td></tr>\n",
       "\t<tr><td>Emma                  </td><td>F                     </td><td>2003                  </td><td>01/01/1880 12:00:00 AM</td><td>3                     </td></tr>\n",
       "\t<tr><td>Elizabeth             </td><td>F                     </td><td>1939                  </td><td>01/01/1880 12:00:00 AM</td><td>4                     </td></tr>\n",
       "\t<tr><td>Minnie                </td><td>F                     </td><td>1746                  </td><td>01/01/1880 12:00:00 AM</td><td>5                     </td></tr>\n",
       "\t<tr><td>Margaret              </td><td>F                     </td><td>1578                  </td><td>01/01/1880 12:00:00 AM</td><td>6                     </td></tr>\n",
       "</tbody>\n",
       "</table>\n"
      ],
      "text/latex": [
       "\\begin{tabular}{r|lllll}\n",
       " Name & Gender & Count & Year & Year.Rank\\\\\n",
       "\\hline\n",
       "\t Mary                   & F                      & 7065                   & 01/01/1880 12:00:00 AM & 1                     \\\\\n",
       "\t Anna                   & F                      & 2604                   & 01/01/1880 12:00:00 AM & 2                     \\\\\n",
       "\t Emma                   & F                      & 2003                   & 01/01/1880 12:00:00 AM & 3                     \\\\\n",
       "\t Elizabeth              & F                      & 1939                   & 01/01/1880 12:00:00 AM & 4                     \\\\\n",
       "\t Minnie                 & F                      & 1746                   & 01/01/1880 12:00:00 AM & 5                     \\\\\n",
       "\t Margaret               & F                      & 1578                   & 01/01/1880 12:00:00 AM & 6                     \\\\\n",
       "\\end{tabular}\n"
      ],
      "text/markdown": [
       "\n",
       "| Name | Gender | Count | Year | Year.Rank |\n",
       "|---|---|---|---|---|\n",
       "| Mary                   | F                      | 7065                   | 01/01/1880 12:00:00 AM | 1                      |\n",
       "| Anna                   | F                      | 2604                   | 01/01/1880 12:00:00 AM | 2                      |\n",
       "| Emma                   | F                      | 2003                   | 01/01/1880 12:00:00 AM | 3                      |\n",
       "| Elizabeth              | F                      | 1939                   | 01/01/1880 12:00:00 AM | 4                      |\n",
       "| Minnie                 | F                      | 1746                   | 01/01/1880 12:00:00 AM | 5                      |\n",
       "| Margaret               | F                      | 1578                   | 01/01/1880 12:00:00 AM | 6                      |\n",
       "\n"
      ],
      "text/plain": [
       "  Name      Gender Count Year                   Year.Rank\n",
       "1 Mary      F      7065  01/01/1880 12:00:00 AM 1        \n",
       "2 Anna      F      2604  01/01/1880 12:00:00 AM 2        \n",
       "3 Emma      F      2003  01/01/1880 12:00:00 AM 3        \n",
       "4 Elizabeth F      1939  01/01/1880 12:00:00 AM 4        \n",
       "5 Minnie    F      1746  01/01/1880 12:00:00 AM 5        \n",
       "6 Margaret  F      1578  01/01/1880 12:00:00 AM 6        "
      ]
     },
     "metadata": {},
     "output_type": "display_data"
    }
   ],
   "source": [
    "baby<- read.csv(\"../Data/R_Baby_Names_1880-2014.csv\", stringsAsFactor=F)        # 팩터를 캐릭터로 \n",
    "head(baby)                  # year에서 시간과 날짜는 동일하므로 연도만 남기고 삭제 "
   ]
  },
  {
   "cell_type": "code",
   "execution_count": 79,
   "metadata": {
    "vscode": {
     "languageId": "r"
    }
   },
   "outputs": [
    {
     "data": {
      "text/html": [
       "<table>\n",
       "<thead><tr><th></th><th scope=col>Name</th><th scope=col>Gender</th><th scope=col>Count</th><th scope=col>Year</th><th scope=col>Year.Rank</th></tr></thead>\n",
       "<tbody>\n",
       "\t<tr><th scope=row>1825383</th><td>Zyel                  </td><td>M                     </td><td>5                     </td><td>01/01/2014 12:00:00 AM</td><td>13972                 </td></tr>\n",
       "\t<tr><th scope=row>1825384</th><td>Zykeem                </td><td>M                     </td><td>5                     </td><td>01/01/2014 12:00:00 AM</td><td>13973                 </td></tr>\n",
       "\t<tr><th scope=row>1825385</th><td>Zymeer                </td><td>M                     </td><td>5                     </td><td>01/01/2014 12:00:00 AM</td><td>13974                 </td></tr>\n",
       "\t<tr><th scope=row>1825386</th><td>Zymiere               </td><td>M                     </td><td>5                     </td><td>01/01/2014 12:00:00 AM</td><td>13975                 </td></tr>\n",
       "\t<tr><th scope=row>1825387</th><td>Zyran                 </td><td>M                     </td><td>5                     </td><td>01/01/2014 12:00:00 AM</td><td>13976                 </td></tr>\n",
       "\t<tr><th scope=row>1825388</th><td>Zyrin                 </td><td>M                     </td><td>5                     </td><td>01/01/2014 12:00:00 AM</td><td>13977                 </td></tr>\n",
       "</tbody>\n",
       "</table>\n"
      ],
      "text/latex": [
       "\\begin{tabular}{r|lllll}\n",
       "  & Name & Gender & Count & Year & Year.Rank\\\\\n",
       "\\hline\n",
       "\t1825383 & Zyel                   & M                      & 5                      & 01/01/2014 12:00:00 AM & 13972                 \\\\\n",
       "\t1825384 & Zykeem                 & M                      & 5                      & 01/01/2014 12:00:00 AM & 13973                 \\\\\n",
       "\t1825385 & Zymeer                 & M                      & 5                      & 01/01/2014 12:00:00 AM & 13974                 \\\\\n",
       "\t1825386 & Zymiere                & M                      & 5                      & 01/01/2014 12:00:00 AM & 13975                 \\\\\n",
       "\t1825387 & Zyran                  & M                      & 5                      & 01/01/2014 12:00:00 AM & 13976                 \\\\\n",
       "\t1825388 & Zyrin                  & M                      & 5                      & 01/01/2014 12:00:00 AM & 13977                 \\\\\n",
       "\\end{tabular}\n"
      ],
      "text/markdown": [
       "\n",
       "| <!--/--> | Name | Gender | Count | Year | Year.Rank |\n",
       "|---|---|---|---|---|---|\n",
       "| 1825383 | Zyel                   | M                      | 5                      | 01/01/2014 12:00:00 AM | 13972                  |\n",
       "| 1825384 | Zykeem                 | M                      | 5                      | 01/01/2014 12:00:00 AM | 13973                  |\n",
       "| 1825385 | Zymeer                 | M                      | 5                      | 01/01/2014 12:00:00 AM | 13974                  |\n",
       "| 1825386 | Zymiere                | M                      | 5                      | 01/01/2014 12:00:00 AM | 13975                  |\n",
       "| 1825387 | Zyran                  | M                      | 5                      | 01/01/2014 12:00:00 AM | 13976                  |\n",
       "| 1825388 | Zyrin                  | M                      | 5                      | 01/01/2014 12:00:00 AM | 13977                  |\n",
       "\n"
      ],
      "text/plain": [
       "        Name    Gender Count Year                   Year.Rank\n",
       "1825383 Zyel    M      5     01/01/2014 12:00:00 AM 13972    \n",
       "1825384 Zykeem  M      5     01/01/2014 12:00:00 AM 13973    \n",
       "1825385 Zymeer  M      5     01/01/2014 12:00:00 AM 13974    \n",
       "1825386 Zymiere M      5     01/01/2014 12:00:00 AM 13975    \n",
       "1825387 Zyran   M      5     01/01/2014 12:00:00 AM 13976    \n",
       "1825388 Zyrin   M      5     01/01/2014 12:00:00 AM 13977    "
      ]
     },
     "metadata": {},
     "output_type": "display_data"
    }
   ],
   "source": [
    "tail(baby)"
   ]
  },
  {
   "cell_type": "code",
   "execution_count": 80,
   "metadata": {
    "vscode": {
     "languageId": "r"
    }
   },
   "outputs": [
    {
     "name": "stdout",
     "output_type": "stream",
     "text": [
      "'data.frame':\t1825388 obs. of  5 variables:\n",
      " $ Name     : chr  \"Mary\" \"Anna\" \"Emma\" \"Elizabeth\" ...\n",
      " $ Gender   : chr  \"F\" \"F\" \"F\" \"F\" ...\n",
      " $ Count    : int  7065 2604 2003 1939 1746 1578 1472 1414 1320 1288 ...\n",
      " $ Year     : chr  \"01/01/1880 12:00:00 AM\" \"01/01/1880 12:00:00 AM\" \"01/01/1880 12:00:00 AM\" \"01/01/1880 12:00:00 AM\" ...\n",
      " $ Year.Rank: int  1 2 3 4 5 6 7 8 9 10 ...\n"
     ]
    }
   ],
   "source": [
    "str(baby)"
   ]
  },
  {
   "cell_type": "code",
   "execution_count": 81,
   "metadata": {
    "vscode": {
     "languageId": "r"
    }
   },
   "outputs": [
    {
     "data": {
      "text/plain": [
       "     Name              Gender              Count             Year          \n",
       " Length:1825388     Length:1825388     Min.   :    5.0   Length:1825388    \n",
       " Class :character   Class :character   1st Qu.:    7.0   Class :character  \n",
       " Mode  :character   Mode  :character   Median :   12.0   Mode  :character  \n",
       "                                       Mean   :  184.7                     \n",
       "                                       3rd Qu.:   32.0                     \n",
       "                                       Max.   :99680.0                     \n",
       "   Year.Rank    \n",
       " Min.   :    1  \n",
       " 1st Qu.: 1790  \n",
       " Median : 4009  \n",
       " Mean   : 5301  \n",
       " 3rd Qu.: 7820  \n",
       " Max.   :20548  "
      ]
     },
     "metadata": {},
     "output_type": "display_data"
    }
   ],
   "source": [
    "summary(baby)"
   ]
  },
  {
   "cell_type": "code",
   "execution_count": 82,
   "metadata": {
    "vscode": {
     "languageId": "r"
    }
   },
   "outputs": [
    {
     "name": "stdout",
     "output_type": "stream",
     "text": [
      "'data.frame':\t1825388 obs. of  5 variables:\n",
      " $ Name     : chr  \"Mary\" \"Anna\" \"Emma\" \"Elizabeth\" ...\n",
      " $ Gender   : Factor w/ 2 levels \"F\",\"M\": 1 1 1 1 1 1 1 1 1 1 ...\n",
      " $ Count    : int  7065 2604 2003 1939 1746 1578 1472 1414 1320 1288 ...\n",
      " $ Year     : chr  \"01/01/1880 12:00:00 AM\" \"01/01/1880 12:00:00 AM\" \"01/01/1880 12:00:00 AM\" \"01/01/1880 12:00:00 AM\" ...\n",
      " $ Year.Rank: int  1 2 3 4 5 6 7 8 9 10 ...\n"
     ]
    }
   ],
   "source": [
    "baby$Gender <- as.factor(baby$Gender)       #젠더만 팩터로 \n",
    "str(baby)"
   ]
  },
  {
   "cell_type": "code",
   "execution_count": 83,
   "metadata": {
    "vscode": {
     "languageId": "r"
    }
   },
   "outputs": [],
   "source": [
    "# Baby의 Year 데이터 줄이기 (부분문자열, start,end )\n",
    "\n",
    "baby$Year <- substr(baby$Year,7,10)"
   ]
  },
  {
   "cell_type": "code",
   "execution_count": 84,
   "metadata": {
    "vscode": {
     "languageId": "r"
    }
   },
   "outputs": [
    {
     "data": {
      "text/html": [
       "<table>\n",
       "<thead><tr><th scope=col>Name</th><th scope=col>Gender</th><th scope=col>Count</th><th scope=col>Year</th><th scope=col>Year.Rank</th></tr></thead>\n",
       "<tbody>\n",
       "\t<tr><td>Mary     </td><td>F        </td><td>7065     </td><td>1880     </td><td>1        </td></tr>\n",
       "\t<tr><td>Anna     </td><td>F        </td><td>2604     </td><td>1880     </td><td>2        </td></tr>\n",
       "\t<tr><td>Emma     </td><td>F        </td><td>2003     </td><td>1880     </td><td>3        </td></tr>\n",
       "\t<tr><td>Elizabeth</td><td>F        </td><td>1939     </td><td>1880     </td><td>4        </td></tr>\n",
       "\t<tr><td>Minnie   </td><td>F        </td><td>1746     </td><td>1880     </td><td>5        </td></tr>\n",
       "\t<tr><td>Margaret </td><td>F        </td><td>1578     </td><td>1880     </td><td>6        </td></tr>\n",
       "</tbody>\n",
       "</table>\n"
      ],
      "text/latex": [
       "\\begin{tabular}{r|lllll}\n",
       " Name & Gender & Count & Year & Year.Rank\\\\\n",
       "\\hline\n",
       "\t Mary      & F         & 7065      & 1880      & 1        \\\\\n",
       "\t Anna      & F         & 2604      & 1880      & 2        \\\\\n",
       "\t Emma      & F         & 2003      & 1880      & 3        \\\\\n",
       "\t Elizabeth & F         & 1939      & 1880      & 4        \\\\\n",
       "\t Minnie    & F         & 1746      & 1880      & 5        \\\\\n",
       "\t Margaret  & F         & 1578      & 1880      & 6        \\\\\n",
       "\\end{tabular}\n"
      ],
      "text/markdown": [
       "\n",
       "| Name | Gender | Count | Year | Year.Rank |\n",
       "|---|---|---|---|---|\n",
       "| Mary      | F         | 7065      | 1880      | 1         |\n",
       "| Anna      | F         | 2604      | 1880      | 2         |\n",
       "| Emma      | F         | 2003      | 1880      | 3         |\n",
       "| Elizabeth | F         | 1939      | 1880      | 4         |\n",
       "| Minnie    | F         | 1746      | 1880      | 5         |\n",
       "| Margaret  | F         | 1578      | 1880      | 6         |\n",
       "\n"
      ],
      "text/plain": [
       "  Name      Gender Count Year Year.Rank\n",
       "1 Mary      F      7065  1880 1        \n",
       "2 Anna      F      2604  1880 2        \n",
       "3 Emma      F      2003  1880 3        \n",
       "4 Elizabeth F      1939  1880 4        \n",
       "5 Minnie    F      1746  1880 5        \n",
       "6 Margaret  F      1578  1880 6        "
      ]
     },
     "metadata": {},
     "output_type": "display_data"
    }
   ],
   "source": [
    "head(baby)"
   ]
  },
  {
   "cell_type": "code",
   "execution_count": 85,
   "metadata": {
    "vscode": {
     "languageId": "r"
    }
   },
   "outputs": [],
   "source": [
    "#저장하기 \n",
    "write.csv(baby,\"../Data/baby.csv\",row.names=F)"
   ]
  },
  {
   "cell_type": "code",
   "execution_count": 86,
   "metadata": {
    "vscode": {
     "languageId": "r"
    }
   },
   "outputs": [
    {
     "data": {
      "text/plain": [
       "     Name           Gender          Count             Year          \n",
       " Length:1825388     F:1081660   Min.   :    5.0   Length:1825388    \n",
       " Class :character   M: 743728   1st Qu.:    7.0   Class :character  \n",
       " Mode  :character               Median :   12.0   Mode  :character  \n",
       "                                Mean   :  184.7                     \n",
       "                                3rd Qu.:   32.0                     \n",
       "                                Max.   :99680.0                     \n",
       "   Year.Rank    \n",
       " Min.   :    1  \n",
       " 1st Qu.: 1790  \n",
       " Median : 4009  \n",
       " Mean   : 5301  \n",
       " 3rd Qu.: 7820  \n",
       " Max.   :20548  "
      ]
     },
     "metadata": {},
     "output_type": "display_data"
    }
   ],
   "source": [
    "summary(baby)               #젠더의 남녀 수 차이 > 여성의 이름의 종류가 남성보다 다양하다 "
   ]
  },
  {
   "cell_type": "code",
   "execution_count": 87,
   "metadata": {
    "vscode": {
     "languageId": "r"
    }
   },
   "outputs": [
    {
     "data": {
      "text/html": [
       "1081660"
      ],
      "text/latex": [
       "1081660"
      ],
      "text/markdown": [
       "1081660"
      ],
      "text/plain": [
       "[1] 1081660"
      ]
     },
     "metadata": {},
     "output_type": "display_data"
    }
   ],
   "source": [
    "# baby에서 Female,Male 그래프 \n",
    "# baby에서 Female이라는 dataset 만들고 row수 구하기 \n",
    "Female<- subset(baby,Gender == 'F')\n",
    "nrow(Female)"
   ]
  },
  {
   "cell_type": "code",
   "execution_count": 88,
   "metadata": {
    "vscode": {
     "languageId": "r"
    }
   },
   "outputs": [
    {
     "data": {
      "text/html": [
       "64911"
      ],
      "text/latex": [
       "64911"
      ],
      "text/markdown": [
       "64911"
      ],
      "text/plain": [
       "[1] 64911"
      ]
     },
     "metadata": {},
     "output_type": "display_data"
    },
    {
     "data": {
      "text/html": [
       "0"
      ],
      "text/latex": [
       "0"
      ],
      "text/markdown": [
       "0"
      ],
      "text/plain": [
       "[1] 0"
      ]
     },
     "metadata": {},
     "output_type": "display_data"
    }
   ],
   "source": [
    "#   여자 아이 이름 중 중복제거하고 갯수구하기 ,(연도가 달라 중복이 될수 있음 )\n",
    "length(unique(Female$Name))\n",
    "length(unique(Male$Name))"
   ]
  },
  {
   "cell_type": "code",
   "execution_count": 89,
   "metadata": {
    "vscode": {
     "languageId": "r"
    }
   },
   "outputs": [
    {
     "data": {
      "text/html": [
       "<ol class=list-inline>\n",
       "\t<li>'Mary'</li>\n",
       "\t<li>'Anna'</li>\n",
       "\t<li>'Emma'</li>\n",
       "\t<li>'Elizabeth'</li>\n",
       "\t<li>'Minnie'</li>\n",
       "\t<li>'Margaret'</li>\n",
       "\t<li>'Ida'</li>\n",
       "\t<li>'Alice'</li>\n",
       "\t<li>'Bertha'</li>\n",
       "\t<li>'Sarah'</li>\n",
       "\t<li>'Annie'</li>\n",
       "\t<li>'Clara'</li>\n",
       "\t<li>'Ella'</li>\n",
       "\t<li>'Florence'</li>\n",
       "\t<li>'Cora'</li>\n",
       "\t<li>'Martha'</li>\n",
       "\t<li>'Laura'</li>\n",
       "\t<li>'Nellie'</li>\n",
       "\t<li>'Grace'</li>\n",
       "\t<li>'Carrie'</li>\n",
       "</ol>\n"
      ],
      "text/latex": [
       "\\begin{enumerate*}\n",
       "\\item 'Mary'\n",
       "\\item 'Anna'\n",
       "\\item 'Emma'\n",
       "\\item 'Elizabeth'\n",
       "\\item 'Minnie'\n",
       "\\item 'Margaret'\n",
       "\\item 'Ida'\n",
       "\\item 'Alice'\n",
       "\\item 'Bertha'\n",
       "\\item 'Sarah'\n",
       "\\item 'Annie'\n",
       "\\item 'Clara'\n",
       "\\item 'Ella'\n",
       "\\item 'Florence'\n",
       "\\item 'Cora'\n",
       "\\item 'Martha'\n",
       "\\item 'Laura'\n",
       "\\item 'Nellie'\n",
       "\\item 'Grace'\n",
       "\\item 'Carrie'\n",
       "\\end{enumerate*}\n"
      ],
      "text/markdown": [
       "1. 'Mary'\n",
       "2. 'Anna'\n",
       "3. 'Emma'\n",
       "4. 'Elizabeth'\n",
       "5. 'Minnie'\n",
       "6. 'Margaret'\n",
       "7. 'Ida'\n",
       "8. 'Alice'\n",
       "9. 'Bertha'\n",
       "10. 'Sarah'\n",
       "11. 'Annie'\n",
       "12. 'Clara'\n",
       "13. 'Ella'\n",
       "14. 'Florence'\n",
       "15. 'Cora'\n",
       "16. 'Martha'\n",
       "17. 'Laura'\n",
       "18. 'Nellie'\n",
       "19. 'Grace'\n",
       "20. 'Carrie'\n",
       "\n",
       "\n"
      ],
      "text/plain": [
       " [1] \"Mary\"      \"Anna\"      \"Emma\"      \"Elizabeth\" \"Minnie\"    \"Margaret\" \n",
       " [7] \"Ida\"       \"Alice\"     \"Bertha\"    \"Sarah\"     \"Annie\"     \"Clara\"    \n",
       "[13] \"Ella\"      \"Florence\"  \"Cora\"      \"Martha\"    \"Laura\"     \"Nellie\"   \n",
       "[19] \"Grace\"     \"Carrie\"   "
      ]
     },
     "metadata": {},
     "output_type": "display_data"
    }
   ],
   "source": [
    "# 유일한 여자 아이 이름 20개만 출력하기 \n",
    "head(unique(Female$Name),20)\n"
   ]
  },
  {
   "cell_type": "code",
   "execution_count": 90,
   "metadata": {
    "vscode": {
     "languageId": "r"
    }
   },
   "outputs": [
    {
     "data": {
      "text/html": [
       "<ol class=list-inline>\n",
       "\t<li>'Kedra'</li>\n",
       "\t<li>'Kamaria'</li>\n",
       "\t<li>'Torri'</li>\n",
       "\t<li>'Raychel'</li>\n",
       "\t<li>'Jeanette'</li>\n",
       "\t<li>'Shavonne'</li>\n",
       "\t<li>'Mayleen'</li>\n",
       "\t<li>'Lea'</li>\n",
       "\t<li>'Matigan'</li>\n",
       "\t<li>'Kember'</li>\n",
       "\t<li>'Lillian'</li>\n",
       "\t<li>'Inayah'</li>\n",
       "\t<li>'Sharilyn'</li>\n",
       "\t<li>'Joana'</li>\n",
       "\t<li>'Eilene'</li>\n",
       "\t<li>'Kathrine'</li>\n",
       "\t<li>'Jesusita'</li>\n",
       "\t<li>'Consuelo'</li>\n",
       "\t<li>'Meldia'</li>\n",
       "\t<li>'Jacque'</li>\n",
       "</ol>\n"
      ],
      "text/latex": [
       "\\begin{enumerate*}\n",
       "\\item 'Kedra'\n",
       "\\item 'Kamaria'\n",
       "\\item 'Torri'\n",
       "\\item 'Raychel'\n",
       "\\item 'Jeanette'\n",
       "\\item 'Shavonne'\n",
       "\\item 'Mayleen'\n",
       "\\item 'Lea'\n",
       "\\item 'Matigan'\n",
       "\\item 'Kember'\n",
       "\\item 'Lillian'\n",
       "\\item 'Inayah'\n",
       "\\item 'Sharilyn'\n",
       "\\item 'Joana'\n",
       "\\item 'Eilene'\n",
       "\\item 'Kathrine'\n",
       "\\item 'Jesusita'\n",
       "\\item 'Consuelo'\n",
       "\\item 'Meldia'\n",
       "\\item 'Jacque'\n",
       "\\end{enumerate*}\n"
      ],
      "text/markdown": [
       "1. 'Kedra'\n",
       "2. 'Kamaria'\n",
       "3. 'Torri'\n",
       "4. 'Raychel'\n",
       "5. 'Jeanette'\n",
       "6. 'Shavonne'\n",
       "7. 'Mayleen'\n",
       "8. 'Lea'\n",
       "9. 'Matigan'\n",
       "10. 'Kember'\n",
       "11. 'Lillian'\n",
       "12. 'Inayah'\n",
       "13. 'Sharilyn'\n",
       "14. 'Joana'\n",
       "15. 'Eilene'\n",
       "16. 'Kathrine'\n",
       "17. 'Jesusita'\n",
       "18. 'Consuelo'\n",
       "19. 'Meldia'\n",
       "20. 'Jacque'\n",
       "\n",
       "\n"
      ],
      "text/plain": [
       " [1] \"Kedra\"    \"Kamaria\"  \"Torri\"    \"Raychel\"  \"Jeanette\" \"Shavonne\"\n",
       " [7] \"Mayleen\"  \"Lea\"      \"Matigan\"  \"Kember\"   \"Lillian\"  \"Inayah\"  \n",
       "[13] \"Sharilyn\" \"Joana\"    \"Eilene\"   \"Kathrine\" \"Jesusita\" \"Consuelo\"\n",
       "[19] \"Meldia\"   \"Jacque\"  "
      ]
     },
     "metadata": {},
     "output_type": "display_data"
    }
   ],
   "source": [
    "sample(Female$Name,20)"
   ]
  },
  {
   "cell_type": "markdown",
   "metadata": {},
   "source": [
    "---\n",
    "# 가장 많이 사용된 여자 이름 10개"
   ]
  },
  {
   "cell_type": "code",
   "execution_count": 91,
   "metadata": {
    "vscode": {
     "languageId": "r"
    }
   },
   "outputs": [
    {
     "ename": "ERROR",
     "evalue": "Error in eval(m$data, parent.frame()): 객체 'FeMale'를 찾을 수 없습니다\n",
     "output_type": "error",
     "traceback": [
      "Error in eval(m$data, parent.frame()): 객체 'FeMale'를 찾을 수 없습니다\nTraceback:\n",
      "1. aggregate(Count ~ Year, FeMale, sum)",
      "2. aggregate.formula(Count ~ Year, FeMale, sum)",
      "3. eval(m$data, parent.frame())",
      "4. eval(m$data, parent.frame())"
     ]
    }
   ],
   "source": [
    "femalename<-aggregate(Count~Name,Female,sum)\n"
   ]
  },
  {
   "cell_type": "code",
   "execution_count": null,
   "metadata": {
    "vscode": {
     "languageId": "r"
    }
   },
   "outputs": [
    {
     "data": {
      "text/html": [
       "<ol class=list-inline>\n",
       "\t<li>'Mary'</li>\n",
       "\t<li>'Elizabeth'</li>\n",
       "\t<li>'Patricia'</li>\n",
       "\t<li>'Jennifer'</li>\n",
       "\t<li>'Linda'</li>\n",
       "\t<li>'Barbara'</li>\n",
       "\t<li>'Margaret'</li>\n",
       "\t<li>'Susan'</li>\n",
       "\t<li>'Dorothy'</li>\n",
       "\t<li>'Sarah'</li>\n",
       "</ol>\n"
      ],
      "text/latex": [
       "\\begin{enumerate*}\n",
       "\\item 'Mary'\n",
       "\\item 'Elizabeth'\n",
       "\\item 'Patricia'\n",
       "\\item 'Jennifer'\n",
       "\\item 'Linda'\n",
       "\\item 'Barbara'\n",
       "\\item 'Margaret'\n",
       "\\item 'Susan'\n",
       "\\item 'Dorothy'\n",
       "\\item 'Sarah'\n",
       "\\end{enumerate*}\n"
      ],
      "text/markdown": [
       "1. 'Mary'\n",
       "2. 'Elizabeth'\n",
       "3. 'Patricia'\n",
       "4. 'Jennifer'\n",
       "5. 'Linda'\n",
       "6. 'Barbara'\n",
       "7. 'Margaret'\n",
       "8. 'Susan'\n",
       "9. 'Dorothy'\n",
       "10. 'Sarah'\n",
       "\n",
       "\n"
      ],
      "text/plain": [
       " [1] \"Mary\"      \"Elizabeth\" \"Patricia\"  \"Jennifer\"  \"Linda\"     \"Barbara\"  \n",
       " [7] \"Margaret\"  \"Susan\"     \"Dorothy\"   \"Sarah\"    "
      ]
     },
     "metadata": {},
     "output_type": "display_data"
    }
   ],
   "source": [
    "library(dplyr)\n",
    "arrange((femaleName),desc(Count))[1:10,][,1]\n"
   ]
  },
  {
   "cell_type": "code",
   "execution_count": null,
   "metadata": {
    "vscode": {
     "languageId": "r"
    }
   },
   "outputs": [
    {
     "data": {
      "text/html": [
       "743728"
      ],
      "text/latex": [
       "743728"
      ],
      "text/markdown": [
       "743728"
      ],
      "text/plain": [
       "[1] 743728"
      ]
     },
     "metadata": {},
     "output_type": "display_data"
    }
   ],
   "source": [
    "Male<- subset(baby,Gender == 'M')\n",
    "nrow(Male)"
   ]
  },
  {
   "cell_type": "code",
   "execution_count": 94,
   "metadata": {
    "vscode": {
     "languageId": "r"
    }
   },
   "outputs": [],
   "source": [
    "#남성의 연도별 데이터 만들기,카운팅의 합으로 인구수 알수 있음\n",
    "남성<-aggregate(Count~Year,Male,sum)\n",
    "여성<-aggregate(Count~Year,Female,sum)"
   ]
  },
  {
   "cell_type": "code",
   "execution_count": 114,
   "metadata": {
    "vscode": {
     "languageId": "r"
    }
   },
   "outputs": [
    {
     "data": {
      "image/png": "[encoded data removed]",
      "text/plain": [
       "Plot with title “1880~2014년 인구분포 현황 ”"
      ]
     },
     "metadata": {},
     "output_type": "display_data"
    }
   ],
   "source": [
    "#그래프로 그리기\n",
    "par(family=\"AppleGothic\", bg='white')\n",
    "options(scipen=100)\n",
    "options(warn=-1)\n",
    "plot(여성,  \n",
    "    type = 'l',\n",
    "    col='orange',\n",
    "    ylim= c(0,2500000)\n",
    "   \n",
    ")\n",
    "# main title 지정\n",
    "title(main=\"1880~2014년 인구분포 현황 \",col.main=\"black\")\n",
    "# x축 title(label) 지정\n",
    "title(xlab=\"Year\", col.lab=\"black\")\n",
    "# y축 title(label) 지정\n",
    "title(ylab=\"Count\", col.lab=\"black\")\n",
    "#남성 라인 추가 \n",
    "lines(남성,\n",
    "    col = 'blue'\n",
    ")\n",
    "legend(1980,700000,\n",
    "     c(\"Female\",\"Male\"),\n",
    "      fill=c(\"orange\",\"blue\"),\n",
    "      cex=0.8  #기본 값이 1 \n",
    "\n",
    ")\n"
   ]
  },
  {
   "cell_type": "code",
   "execution_count": null,
   "metadata": {
    "vscode": {
     "languageId": "r"
    }
   },
   "outputs": [],
   "source": []
  }
 ],
 "metadata": {
  "kernelspec": {
   "display_name": "R",
   "language": "R",
   "name": "ir"
  },
  "language_info": {
   "codemirror_mode": "r",
   "file_extension": ".r",
   "mimetype": "text/x-r-source",
   "name": "R",
   "pygments_lexer": "r",
   "version": "3.6.1"
  },
  "orig_nbformat": 4
 },
 "nbformat": 4,
 "nbformat_minor": 2
}
