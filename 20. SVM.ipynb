{
 "cells": [
  {
   "cell_type": "code",
   "execution_count": 6,
   "metadata": {
    "vscode": {
     "languageId": "r"
    }
   },
   "outputs": [],
   "source": [
    "# Ancaonda Nabigator에서 e1071 설치 \n",
    "library(e1071)"
   ]
  },
  {
   "cell_type": "code",
   "execution_count": 2,
   "metadata": {
    "vscode": {
     "languageId": "r"
    }
   },
   "outputs": [
    {
     "data": {
      "text/html": [
       "<table>\n",
       "<thead><tr><th scope=col>Sepal.Length</th><th scope=col>Sepal.Width</th><th scope=col>Petal.Length</th><th scope=col>Petal.Width</th></tr></thead>\n",
       "<tbody>\n",
       "\t<tr><td>-0.8976739 </td><td> 1.01560199</td><td>-1.335752  </td><td>-1.311052  </td></tr>\n",
       "\t<tr><td>-1.1392005 </td><td>-0.13153881</td><td>-1.335752  </td><td>-1.311052  </td></tr>\n",
       "\t<tr><td>-1.3807271 </td><td> 0.32731751</td><td>-1.392399  </td><td>-1.311052  </td></tr>\n",
       "\t<tr><td>-1.5014904 </td><td> 0.09788935</td><td>-1.279104  </td><td>-1.311052  </td></tr>\n",
       "\t<tr><td>-1.0184372 </td><td> 1.24503015</td><td>-1.335752  </td><td>-1.311052  </td></tr>\n",
       "\t<tr><td>-0.5353840 </td><td> 1.93331463</td><td>-1.165809  </td><td>-1.048667  </td></tr>\n",
       "</tbody>\n",
       "</table>\n"
      ],
      "text/latex": [
       "\\begin{tabular}{r|llll}\n",
       " Sepal.Length & Sepal.Width & Petal.Length & Petal.Width\\\\\n",
       "\\hline\n",
       "\t -0.8976739  &  1.01560199 & -1.335752   & -1.311052  \\\\\n",
       "\t -1.1392005  & -0.13153881 & -1.335752   & -1.311052  \\\\\n",
       "\t -1.3807271  &  0.32731751 & -1.392399   & -1.311052  \\\\\n",
       "\t -1.5014904  &  0.09788935 & -1.279104   & -1.311052  \\\\\n",
       "\t -1.0184372  &  1.24503015 & -1.335752   & -1.311052  \\\\\n",
       "\t -0.5353840  &  1.93331463 & -1.165809   & -1.048667  \\\\\n",
       "\\end{tabular}\n"
      ],
      "text/markdown": [
       "\n",
       "| Sepal.Length | Sepal.Width | Petal.Length | Petal.Width |\n",
       "|---|---|---|---|\n",
       "| -0.8976739  |  1.01560199 | -1.335752   | -1.311052   |\n",
       "| -1.1392005  | -0.13153881 | -1.335752   | -1.311052   |\n",
       "| -1.3807271  |  0.32731751 | -1.392399   | -1.311052   |\n",
       "| -1.5014904  |  0.09788935 | -1.279104   | -1.311052   |\n",
       "| -1.0184372  |  1.24503015 | -1.335752   | -1.311052   |\n",
       "| -0.5353840  |  1.93331463 | -1.165809   | -1.048667   |\n",
       "\n"
      ],
      "text/plain": [
       "  Sepal.Length Sepal.Width Petal.Length Petal.Width\n",
       "1 -0.8976739    1.01560199 -1.335752    -1.311052  \n",
       "2 -1.1392005   -0.13153881 -1.335752    -1.311052  \n",
       "3 -1.3807271    0.32731751 -1.392399    -1.311052  \n",
       "4 -1.5014904    0.09788935 -1.279104    -1.311052  \n",
       "5 -1.0184372    1.24503015 -1.335752    -1.311052  \n",
       "6 -0.5353840    1.93331463 -1.165809    -1.048667  "
      ]
     },
     "metadata": {},
     "output_type": "display_data"
    }
   ],
   "source": [
    "# 표준화 = (X-평균()) / 표준편차()\n",
    "# x = 트레이닝 데이터 \n",
    "# x = 트레이닝한 평균데이터 \n",
    "# x = 트레이닝한 표준편차 \n",
    "iris2<- scale(iris[,-5])\n",
    "iris2 <- as.data.frame(iris2)\n",
    "head(iris2)\n"
   ]
  },
  {
   "cell_type": "code",
   "execution_count": 3,
   "metadata": {
    "vscode": {
     "languageId": "r"
    }
   },
   "outputs": [],
   "source": [
    "iris2$Species <- iris$Species"
   ]
  },
  {
   "cell_type": "code",
   "execution_count": 4,
   "metadata": {
    "vscode": {
     "languageId": "r"
    }
   },
   "outputs": [],
   "source": [
    "iris2$Species <- iris$Species"
   ]
  },
  {
   "cell_type": "code",
   "execution_count": 7,
   "metadata": {
    "vscode": {
     "languageId": "r"
    }
   },
   "outputs": [],
   "source": [
    "# 학습시키기\n",
    "model.svm = svm(Species ~., data=data.tr)"
   ]
  },
  {
   "cell_type": "code",
   "execution_count": 8,
   "metadata": {
    "vscode": {
     "languageId": "r"
    }
   },
   "outputs": [
    {
     "data": {
      "text/html": [
       "0.933333333333333"
      ],
      "text/latex": [
       "0.933333333333333"
      ],
      "text/markdown": [
       "0.933333333333333"
      ],
      "text/plain": [
       "[1] 0.9333333"
      ]
     },
     "metadata": {},
     "output_type": "display_data"
    },
    {
     "data": {
      "text/plain": [
       "            y\n",
       "pred         setosa versicolor virginica\n",
       "  setosa         15          0         0\n",
       "  versicolor      0         13         1\n",
       "  virginica       0          2        14"
      ]
     },
     "metadata": {},
     "output_type": "display_data"
    }
   ],
   "source": [
    "#검증하기\n",
    "pred <- predict(model.svm,x)\n",
    "#예측율 및 오분류표\n",
    "mean(pred ==  y)\n",
    "table(pred, y)"
   ]
  },
  {
   "cell_type": "code",
   "execution_count": 32,
   "metadata": {
    "vscode": {
     "languageId": "r"
    }
   },
   "outputs": [
    {
     "data": {
      "text/plain": [
       "  Sepal.Length       Sepal.Width       Petal.Length      Petal.Width     \n",
       " Min.   :-1.86378   Min.   :-2.4258   Min.   :-1.5623   Min.   :-1.4422  \n",
       " 1st Qu.:-0.89767   1st Qu.:-0.5904   1st Qu.:-1.2225   1st Qu.:-1.1799  \n",
       " Median :-0.05233   Median :-0.1315   Median : 0.3354   Median : 0.1321  \n",
       " Mean   : 0.00000   Mean   : 0.0000   Mean   : 0.0000   Mean   : 0.0000  \n",
       " 3rd Qu.: 0.67225   3rd Qu.: 0.5567   3rd Qu.: 0.7602   3rd Qu.: 0.7880  \n",
       " Max.   : 2.48370   Max.   : 3.0805   Max.   : 1.7799   Max.   : 1.7064  \n",
       "       Species  \n",
       " setosa    :50  \n",
       " versicolor:50  \n",
       " virginica :50  \n",
       "                \n",
       "                \n",
       "                "
      ]
     },
     "metadata": {},
     "output_type": "display_data"
    }
   ],
   "source": [
    "summary(iris2)      # 평균이 0, 표준편차를 1로 만듦 "
   ]
  },
  {
   "cell_type": "code",
   "execution_count": null,
   "metadata": {
    "vscode": {
     "languageId": "r"
    }
   },
   "outputs": [],
   "source": []
  }
 ],
 "metadata": {
  "kernelspec": {
   "display_name": "R",
   "language": "R",
   "name": "ir"
  },
  "language_info": {
   "codemirror_mode": "r",
   "file_extension": ".r",
   "mimetype": "text/x-r-source",
   "name": "R",
   "pygments_lexer": "r",
   "version": "3.6.1"
  },
  "orig_nbformat": 4
 },
 "nbformat": 4,
 "nbformat_minor": 2
}
