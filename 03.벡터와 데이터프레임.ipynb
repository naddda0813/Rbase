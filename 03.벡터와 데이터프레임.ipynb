{
 "cells": [
  {
   "cell_type": "code",
   "execution_count": 1,
   "metadata": {
    "vscode": {
     "languageId": "r"
    }
   },
   "outputs": [
    {
     "name": "stdout",
     "output_type": "stream",
     "text": [
      " [1] \"red\"  \"blue\" \"red\"  \"blue\" \"red\"  \"blue\" \"red\"  \"blue\" \"red\"  \"blue\"\n",
      "[11] \"red\"  \"blue\" \"red\"  \"blue\" \"red\"  \"blue\" \"red\"  \"blue\" \"red\"  \"blue\"\n",
      "[21] \"red\"  \"blue\" \"red\"  \"blue\" \"red\"  \"blue\" \"red\"  \"blue\" \"red\"  \"blue\"\n",
      "[31] \"red\"  \"blue\" \"red\"  \"blue\" \"red\"  \"blue\" \"red\"  \"blue\" \"red\"  \"blue\"\n"
     ]
    }
   ],
   "source": [
    "# red라는 글자와 blue라는 글자를 20개 만들기 \n",
    "# red,blue,red,blue ...\n",
    "print(rep(c(\"red\",\"blue\"),20))"
   ]
  },
  {
   "cell_type": "code",
   "execution_count": 2,
   "metadata": {
    "vscode": {
     "languageId": "r"
    }
   },
   "outputs": [
    {
     "name": "stdout",
     "output_type": "stream",
     "text": [
      " [1]  1  3  5  1  2  3  4  5  6  7  8  9 10  1  3  5  7  9  1  2  3  1  2  3\n"
     ]
    }
   ],
   "source": [
    "\n",
    " print(c(seq(1,5,2),1:10, seq(1,10,2), rep(1:3,2)))"
   ]
  },
  {
   "cell_type": "code",
   "execution_count": 3,
   "metadata": {
    "vscode": {
     "languageId": "r"
    }
   },
   "outputs": [
    {
     "data": {
      "text/html": [
       "<table>\n",
       "<thead><tr><th scope=col>Sepal.Length</th><th scope=col>Sepal.Width</th><th scope=col>Petal.Length</th><th scope=col>Petal.Width</th><th scope=col>Species</th></tr></thead>\n",
       "<tbody>\n",
       "\t<tr><td>5.1   </td><td>3.5   </td><td>1.4   </td><td>0.2   </td><td>setosa</td></tr>\n",
       "\t<tr><td>4.9   </td><td>3.0   </td><td>1.4   </td><td>0.2   </td><td>setosa</td></tr>\n",
       "\t<tr><td>4.7   </td><td>3.2   </td><td>1.3   </td><td>0.2   </td><td>setosa</td></tr>\n",
       "\t<tr><td>4.6   </td><td>3.1   </td><td>1.5   </td><td>0.2   </td><td>setosa</td></tr>\n",
       "\t<tr><td>5.0   </td><td>3.6   </td><td>1.4   </td><td>0.2   </td><td>setosa</td></tr>\n",
       "</tbody>\n",
       "</table>\n"
      ],
      "text/latex": [
       "\\begin{tabular}{r|lllll}\n",
       " Sepal.Length & Sepal.Width & Petal.Length & Petal.Width & Species\\\\\n",
       "\\hline\n",
       "\t 5.1    & 3.5    & 1.4    & 0.2    & setosa\\\\\n",
       "\t 4.9    & 3.0    & 1.4    & 0.2    & setosa\\\\\n",
       "\t 4.7    & 3.2    & 1.3    & 0.2    & setosa\\\\\n",
       "\t 4.6    & 3.1    & 1.5    & 0.2    & setosa\\\\\n",
       "\t 5.0    & 3.6    & 1.4    & 0.2    & setosa\\\\\n",
       "\\end{tabular}\n"
      ],
      "text/markdown": [
       "\n",
       "| Sepal.Length | Sepal.Width | Petal.Length | Petal.Width | Species |\n",
       "|---|---|---|---|---|\n",
       "| 5.1    | 3.5    | 1.4    | 0.2    | setosa |\n",
       "| 4.9    | 3.0    | 1.4    | 0.2    | setosa |\n",
       "| 4.7    | 3.2    | 1.3    | 0.2    | setosa |\n",
       "| 4.6    | 3.1    | 1.5    | 0.2    | setosa |\n",
       "| 5.0    | 3.6    | 1.4    | 0.2    | setosa |\n",
       "\n"
      ],
      "text/plain": [
       "  Sepal.Length Sepal.Width Petal.Length Petal.Width Species\n",
       "1 5.1          3.5         1.4          0.2         setosa \n",
       "2 4.9          3.0         1.4          0.2         setosa \n",
       "3 4.7          3.2         1.3          0.2         setosa \n",
       "4 4.6          3.1         1.5          0.2         setosa \n",
       "5 5.0          3.6         1.4          0.2         setosa "
      ]
     },
     "metadata": {},
     "output_type": "display_data"
    }
   ],
   "source": [
    "# iris  의 1~5번째 줄의 데이터만 추출해서 변수(데이터프레임)만들기\n",
    "head(iris,5)\n",
    "irisHead <- iris[1:5,]"
   ]
  },
  {
   "cell_type": "code",
   "execution_count": 4,
   "metadata": {
    "vscode": {
     "languageId": "r"
    }
   },
   "outputs": [
    {
     "data": {
      "text/html": [
       "<table>\n",
       "<thead><tr><th></th><th scope=col>1</th><th scope=col>2</th><th scope=col>3</th><th scope=col>4</th><th scope=col>5</th></tr></thead>\n",
       "<tbody>\n",
       "\t<tr><th scope=row>Sepal.Length</th><td>5.1   </td><td>4.9   </td><td>4.7   </td><td>4.6   </td><td>5.0   </td></tr>\n",
       "\t<tr><th scope=row>Sepal.Width</th><td>3.5   </td><td>3.0   </td><td>3.2   </td><td>3.1   </td><td>3.6   </td></tr>\n",
       "\t<tr><th scope=row>Petal.Length</th><td>1.4   </td><td>1.4   </td><td>1.3   </td><td>1.5   </td><td>1.4   </td></tr>\n",
       "\t<tr><th scope=row>Petal.Width</th><td>0.2   </td><td>0.2   </td><td>0.2   </td><td>0.2   </td><td>0.2   </td></tr>\n",
       "\t<tr><th scope=row>Species</th><td>setosa</td><td>setosa</td><td>setosa</td><td>setosa</td><td>setosa</td></tr>\n",
       "</tbody>\n",
       "</table>\n"
      ],
      "text/latex": [
       "\\begin{tabular}{r|lllll}\n",
       "  & 1 & 2 & 3 & 4 & 5\\\\\n",
       "\\hline\n",
       "\tSepal.Length & 5.1    & 4.9    & 4.7    & 4.6    & 5.0   \\\\\n",
       "\tSepal.Width & 3.5    & 3.0    & 3.2    & 3.1    & 3.6   \\\\\n",
       "\tPetal.Length & 1.4    & 1.4    & 1.3    & 1.5    & 1.4   \\\\\n",
       "\tPetal.Width & 0.2    & 0.2    & 0.2    & 0.2    & 0.2   \\\\\n",
       "\tSpecies & setosa & setosa & setosa & setosa & setosa\\\\\n",
       "\\end{tabular}\n"
      ],
      "text/markdown": [
       "\n",
       "| <!--/--> | 1 | 2 | 3 | 4 | 5 |\n",
       "|---|---|---|---|---|---|\n",
       "| Sepal.Length | 5.1    | 4.9    | 4.7    | 4.6    | 5.0    |\n",
       "| Sepal.Width | 3.5    | 3.0    | 3.2    | 3.1    | 3.6    |\n",
       "| Petal.Length | 1.4    | 1.4    | 1.3    | 1.5    | 1.4    |\n",
       "| Petal.Width | 0.2    | 0.2    | 0.2    | 0.2    | 0.2    |\n",
       "| Species | setosa | setosa | setosa | setosa | setosa |\n",
       "\n"
      ],
      "text/plain": [
       "             1      2      3      4      5     \n",
       "Sepal.Length 5.1    4.9    4.7    4.6    5.0   \n",
       "Sepal.Width  3.5    3.0    3.2    3.1    3.6   \n",
       "Petal.Length 1.4    1.4    1.3    1.5    1.4   \n",
       "Petal.Width  0.2    0.2    0.2    0.2    0.2   \n",
       "Species      setosa setosa setosa setosa setosa"
      ]
     },
     "metadata": {},
     "output_type": "display_data"
    }
   ],
   "source": [
    "# 행과 열을 뒤집는다.\n",
    "t(irisHead)"
   ]
  },
  {
   "cell_type": "code",
   "execution_count": 5,
   "metadata": {
    "vscode": {
     "languageId": "r"
    }
   },
   "outputs": [
    {
     "data": {
      "text/html": [
       "<table>\n",
       "<thead><tr><th></th><th scope=col>Petal.Width</th><th scope=col>Sepal.Width</th><th scope=col>Petal.Length</th><th scope=col>Sepal.Length</th><th scope=col>Species</th></tr></thead>\n",
       "<tbody>\n",
       "\t<tr><th scope=row>10</th><td>0.1       </td><td>3.1       </td><td>1.5       </td><td>4.9       </td><td>setosa    </td></tr>\n",
       "\t<tr><th scope=row>20</th><td>0.3       </td><td>3.8       </td><td>1.5       </td><td>5.1       </td><td>setosa    </td></tr>\n",
       "\t<tr><th scope=row>30</th><td>0.2       </td><td>3.2       </td><td>1.6       </td><td>4.7       </td><td>setosa    </td></tr>\n",
       "\t<tr><th scope=row>40</th><td>0.2       </td><td>3.4       </td><td>1.5       </td><td>5.1       </td><td>setosa    </td></tr>\n",
       "\t<tr><th scope=row>50</th><td>0.2       </td><td>3.3       </td><td>1.4       </td><td>5.0       </td><td>setosa    </td></tr>\n",
       "\t<tr><th scope=row>60</th><td>1.4       </td><td>2.7       </td><td>3.9       </td><td>5.2       </td><td>versicolor</td></tr>\n",
       "\t<tr><th scope=row>70</th><td>1.1       </td><td>2.5       </td><td>3.9       </td><td>5.6       </td><td>versicolor</td></tr>\n",
       "\t<tr><th scope=row>80</th><td>1.0       </td><td>2.6       </td><td>3.5       </td><td>5.7       </td><td>versicolor</td></tr>\n",
       "\t<tr><th scope=row>90</th><td>1.3       </td><td>2.5       </td><td>4.0       </td><td>5.5       </td><td>versicolor</td></tr>\n",
       "\t<tr><th scope=row>100</th><td>1.3       </td><td>2.8       </td><td>4.1       </td><td>5.7       </td><td>versicolor</td></tr>\n",
       "\t<tr><th scope=row>110</th><td>2.5       </td><td>3.6       </td><td>6.1       </td><td>7.2       </td><td>virginica </td></tr>\n",
       "\t<tr><th scope=row>120</th><td>1.5       </td><td>2.2       </td><td>5.0       </td><td>6.0       </td><td>virginica </td></tr>\n",
       "\t<tr><th scope=row>130</th><td>1.6       </td><td>3.0       </td><td>5.8       </td><td>7.2       </td><td>virginica </td></tr>\n",
       "\t<tr><th scope=row>140</th><td>2.1       </td><td>3.1       </td><td>5.4       </td><td>6.9       </td><td>virginica </td></tr>\n",
       "\t<tr><th scope=row>150</th><td>1.8       </td><td>3.0       </td><td>5.1       </td><td>5.9       </td><td>virginica </td></tr>\n",
       "</tbody>\n",
       "</table>\n"
      ],
      "text/latex": [
       "\\begin{tabular}{r|lllll}\n",
       "  & Petal.Width & Sepal.Width & Petal.Length & Sepal.Length & Species\\\\\n",
       "\\hline\n",
       "\t10 & 0.1        & 3.1        & 1.5        & 4.9        & setosa    \\\\\n",
       "\t20 & 0.3        & 3.8        & 1.5        & 5.1        & setosa    \\\\\n",
       "\t30 & 0.2        & 3.2        & 1.6        & 4.7        & setosa    \\\\\n",
       "\t40 & 0.2        & 3.4        & 1.5        & 5.1        & setosa    \\\\\n",
       "\t50 & 0.2        & 3.3        & 1.4        & 5.0        & setosa    \\\\\n",
       "\t60 & 1.4        & 2.7        & 3.9        & 5.2        & versicolor\\\\\n",
       "\t70 & 1.1        & 2.5        & 3.9        & 5.6        & versicolor\\\\\n",
       "\t80 & 1.0        & 2.6        & 3.5        & 5.7        & versicolor\\\\\n",
       "\t90 & 1.3        & 2.5        & 4.0        & 5.5        & versicolor\\\\\n",
       "\t100 & 1.3        & 2.8        & 4.1        & 5.7        & versicolor\\\\\n",
       "\t110 & 2.5        & 3.6        & 6.1        & 7.2        & virginica \\\\\n",
       "\t120 & 1.5        & 2.2        & 5.0        & 6.0        & virginica \\\\\n",
       "\t130 & 1.6        & 3.0        & 5.8        & 7.2        & virginica \\\\\n",
       "\t140 & 2.1        & 3.1        & 5.4        & 6.9        & virginica \\\\\n",
       "\t150 & 1.8        & 3.0        & 5.1        & 5.9        & virginica \\\\\n",
       "\\end{tabular}\n"
      ],
      "text/markdown": [
       "\n",
       "| <!--/--> | Petal.Width | Sepal.Width | Petal.Length | Sepal.Length | Species |\n",
       "|---|---|---|---|---|---|\n",
       "| 10 | 0.1        | 3.1        | 1.5        | 4.9        | setosa     |\n",
       "| 20 | 0.3        | 3.8        | 1.5        | 5.1        | setosa     |\n",
       "| 30 | 0.2        | 3.2        | 1.6        | 4.7        | setosa     |\n",
       "| 40 | 0.2        | 3.4        | 1.5        | 5.1        | setosa     |\n",
       "| 50 | 0.2        | 3.3        | 1.4        | 5.0        | setosa     |\n",
       "| 60 | 1.4        | 2.7        | 3.9        | 5.2        | versicolor |\n",
       "| 70 | 1.1        | 2.5        | 3.9        | 5.6        | versicolor |\n",
       "| 80 | 1.0        | 2.6        | 3.5        | 5.7        | versicolor |\n",
       "| 90 | 1.3        | 2.5        | 4.0        | 5.5        | versicolor |\n",
       "| 100 | 1.3        | 2.8        | 4.1        | 5.7        | versicolor |\n",
       "| 110 | 2.5        | 3.6        | 6.1        | 7.2        | virginica  |\n",
       "| 120 | 1.5        | 2.2        | 5.0        | 6.0        | virginica  |\n",
       "| 130 | 1.6        | 3.0        | 5.8        | 7.2        | virginica  |\n",
       "| 140 | 2.1        | 3.1        | 5.4        | 6.9        | virginica  |\n",
       "| 150 | 1.8        | 3.0        | 5.1        | 5.9        | virginica  |\n",
       "\n"
      ],
      "text/plain": [
       "    Petal.Width Sepal.Width Petal.Length Sepal.Length Species   \n",
       "10  0.1         3.1         1.5          4.9          setosa    \n",
       "20  0.3         3.8         1.5          5.1          setosa    \n",
       "30  0.2         3.2         1.6          4.7          setosa    \n",
       "40  0.2         3.4         1.5          5.1          setosa    \n",
       "50  0.2         3.3         1.4          5.0          setosa    \n",
       "60  1.4         2.7         3.9          5.2          versicolor\n",
       "70  1.1         2.5         3.9          5.6          versicolor\n",
       "80  1.0         2.6         3.5          5.7          versicolor\n",
       "90  1.3         2.5         4.0          5.5          versicolor\n",
       "100 1.3         2.8         4.1          5.7          versicolor\n",
       "110 2.5         3.6         6.1          7.2          virginica \n",
       "120 1.5         2.2         5.0          6.0          virginica \n",
       "130 1.6         3.0         5.8          7.2          virginica \n",
       "140 2.1         3.1         5.4          6.9          virginica \n",
       "150 1.8         3.0         5.1          5.9          virginica "
      ]
     },
     "metadata": {},
     "output_type": "display_data"
    }
   ],
   "source": [
    "# iris에서 150개 데이터 중 10번부터 10씩 증가하여 15개만 샘플링하기 \n",
    "\n",
    "sample(iris[seq(10,nrow(iris),10),])\n"
   ]
  },
  {
   "cell_type": "code",
   "execution_count": 6,
   "metadata": {
    "vscode": {
     "languageId": "r"
    }
   },
   "outputs": [
    {
     "data": {
      "text/html": [
       "150"
      ],
      "text/latex": [
       "150"
      ],
      "text/markdown": [
       "150"
      ],
      "text/plain": [
       "[1] 150"
      ]
     },
     "metadata": {},
     "output_type": "display_data"
    },
    {
     "data": {
      "text/html": [
       "5"
      ],
      "text/latex": [
       "5"
      ],
      "text/markdown": [
       "5"
      ],
      "text/plain": [
       "[1] 5"
      ]
     },
     "metadata": {},
     "output_type": "display_data"
    }
   ],
   "source": [
    "nrow(iris) # row수 \n",
    "ncol(iris) # column 수 "
   ]
  },
  {
   "cell_type": "code",
   "execution_count": 7,
   "metadata": {
    "vscode": {
     "languageId": "r"
    }
   },
   "outputs": [
    {
     "data": {
      "text/html": [
       "-2.24"
      ],
      "text/latex": [
       "-2.24"
      ],
      "text/markdown": [
       "-2.24"
      ],
      "text/plain": [
       "[1] -2.24"
      ]
     },
     "metadata": {},
     "output_type": "display_data"
    }
   ],
   "source": [
    "# iris의 Sepal.Length의 최대값과 최소값의 차이가 평균보다 큰지 확인 \n",
    "c(max(iris$Sepal.Length) - min(iris$Sepal.Length)) - round(mean(iris$Sepal.Length),2)\n",
    "\n"
   ]
  },
  {
   "cell_type": "code",
   "execution_count": 8,
   "metadata": {
    "vscode": {
     "languageId": "r"
    }
   },
   "outputs": [
    {
     "data": {
      "text/html": [
       "<table>\n",
       "<thead><tr><th scope=col>Sepal.Length</th><th scope=col>Sepal.Width</th></tr></thead>\n",
       "<tbody>\n",
       "\t<tr><td>5.1</td><td>3.5</td></tr>\n",
       "\t<tr><td>4.9</td><td>3.0</td></tr>\n",
       "\t<tr><td>4.7</td><td>3.2</td></tr>\n",
       "\t<tr><td>4.6</td><td>3.1</td></tr>\n",
       "\t<tr><td>5.0</td><td>3.6</td></tr>\n",
       "\t<tr><td>5.4</td><td>3.9</td></tr>\n",
       "\t<tr><td>4.6</td><td>3.4</td></tr>\n",
       "\t<tr><td>5.0</td><td>3.4</td></tr>\n",
       "\t<tr><td>4.4</td><td>2.9</td></tr>\n",
       "\t<tr><td>4.9</td><td>3.1</td></tr>\n",
       "</tbody>\n",
       "</table>\n"
      ],
      "text/latex": [
       "\\begin{tabular}{r|ll}\n",
       " Sepal.Length & Sepal.Width\\\\\n",
       "\\hline\n",
       "\t 5.1 & 3.5\\\\\n",
       "\t 4.9 & 3.0\\\\\n",
       "\t 4.7 & 3.2\\\\\n",
       "\t 4.6 & 3.1\\\\\n",
       "\t 5.0 & 3.6\\\\\n",
       "\t 5.4 & 3.9\\\\\n",
       "\t 4.6 & 3.4\\\\\n",
       "\t 5.0 & 3.4\\\\\n",
       "\t 4.4 & 2.9\\\\\n",
       "\t 4.9 & 3.1\\\\\n",
       "\\end{tabular}\n"
      ],
      "text/markdown": [
       "\n",
       "| Sepal.Length | Sepal.Width |\n",
       "|---|---|\n",
       "| 5.1 | 3.5 |\n",
       "| 4.9 | 3.0 |\n",
       "| 4.7 | 3.2 |\n",
       "| 4.6 | 3.1 |\n",
       "| 5.0 | 3.6 |\n",
       "| 5.4 | 3.9 |\n",
       "| 4.6 | 3.4 |\n",
       "| 5.0 | 3.4 |\n",
       "| 4.4 | 2.9 |\n",
       "| 4.9 | 3.1 |\n",
       "\n"
      ],
      "text/plain": [
       "   Sepal.Length Sepal.Width\n",
       "1  5.1          3.5        \n",
       "2  4.9          3.0        \n",
       "3  4.7          3.2        \n",
       "4  4.6          3.1        \n",
       "5  5.0          3.6        \n",
       "6  5.4          3.9        \n",
       "7  4.6          3.4        \n",
       "8  5.0          3.4        \n",
       "9  4.4          2.9        \n",
       "10 4.9          3.1        "
      ]
     },
     "metadata": {},
     "output_type": "display_data"
    },
    {
     "data": {
      "text/html": [
       "<table>\n",
       "<thead><tr><th scope=col>Sepal.Length</th><th scope=col>Sepal.Width</th></tr></thead>\n",
       "<tbody>\n",
       "\t<tr><td>5.1</td><td>3.5</td></tr>\n",
       "\t<tr><td>4.9</td><td>3.0</td></tr>\n",
       "\t<tr><td>4.7</td><td>3.2</td></tr>\n",
       "\t<tr><td>4.6</td><td>3.1</td></tr>\n",
       "\t<tr><td>5.0</td><td>3.6</td></tr>\n",
       "\t<tr><td>5.4</td><td>3.9</td></tr>\n",
       "\t<tr><td>4.6</td><td>3.4</td></tr>\n",
       "\t<tr><td>5.0</td><td>3.4</td></tr>\n",
       "\t<tr><td>4.4</td><td>2.9</td></tr>\n",
       "\t<tr><td>4.9</td><td>3.1</td></tr>\n",
       "</tbody>\n",
       "</table>\n"
      ],
      "text/latex": [
       "\\begin{tabular}{r|ll}\n",
       " Sepal.Length & Sepal.Width\\\\\n",
       "\\hline\n",
       "\t 5.1 & 3.5\\\\\n",
       "\t 4.9 & 3.0\\\\\n",
       "\t 4.7 & 3.2\\\\\n",
       "\t 4.6 & 3.1\\\\\n",
       "\t 5.0 & 3.6\\\\\n",
       "\t 5.4 & 3.9\\\\\n",
       "\t 4.6 & 3.4\\\\\n",
       "\t 5.0 & 3.4\\\\\n",
       "\t 4.4 & 2.9\\\\\n",
       "\t 4.9 & 3.1\\\\\n",
       "\\end{tabular}\n"
      ],
      "text/markdown": [
       "\n",
       "| Sepal.Length | Sepal.Width |\n",
       "|---|---|\n",
       "| 5.1 | 3.5 |\n",
       "| 4.9 | 3.0 |\n",
       "| 4.7 | 3.2 |\n",
       "| 4.6 | 3.1 |\n",
       "| 5.0 | 3.6 |\n",
       "| 5.4 | 3.9 |\n",
       "| 4.6 | 3.4 |\n",
       "| 5.0 | 3.4 |\n",
       "| 4.4 | 2.9 |\n",
       "| 4.9 | 3.1 |\n",
       "\n"
      ],
      "text/plain": [
       "   Sepal.Length Sepal.Width\n",
       "1  5.1          3.5        \n",
       "2  4.9          3.0        \n",
       "3  4.7          3.2        \n",
       "4  4.6          3.1        \n",
       "5  5.0          3.6        \n",
       "6  5.4          3.9        \n",
       "7  4.6          3.4        \n",
       "8  5.0          3.4        \n",
       "9  4.4          2.9        \n",
       "10 4.9          3.1        "
      ]
     },
     "metadata": {},
     "output_type": "display_data"
    }
   ],
   "source": [
    "#iris에서 1~10까지의 데이터중 Sepal.Length와 Sepal.Wid만 출력\n",
    "iris[1:10,1:2]\n",
    "iris[1:10,c(\"Sepal.Length\",\"Sepal.Width\")]"
   ]
  },
  {
   "cell_type": "code",
   "execution_count": 9,
   "metadata": {
    "vscode": {
     "languageId": "r"
    }
   },
   "outputs": [
    {
     "name": "stdout",
     "output_type": "stream",
     "text": [
      "  Sepal.Length Sepal.Width Petal.Length Petal.Width Species\n",
      "1          5.1         3.5          1.4         0.2  setosa\n",
      "2          4.9         3.0          1.4         0.2  setosa\n",
      "3          4.7         3.2          1.3         0.2  setosa\n",
      "4          4.6         3.1          1.5         0.2  setosa\n",
      "5          5.0         3.6          1.4         0.2  setosa\n",
      "6          5.4         3.9          1.7         0.4  setosa\n"
     ]
    }
   ],
   "source": [
    "print(head(iris))"
   ]
  },
  {
   "cell_type": "code",
   "execution_count": 10,
   "metadata": {
    "vscode": {
     "languageId": "r"
    }
   },
   "outputs": [
    {
     "data": {
      "text/html": [
       "<table>\n",
       "<thead><tr><th></th><th scope=col>Sepal.Length</th><th scope=col>Sepal.Width</th><th scope=col>Petal.Length</th><th scope=col>Petal.Width</th><th scope=col>Species</th></tr></thead>\n",
       "<tbody>\n",
       "\t<tr><th scope=row>145</th><td>6.7      </td><td>3.3      </td><td>5.7      </td><td>2.5      </td><td>virginica</td></tr>\n",
       "\t<tr><th scope=row>146</th><td>6.7      </td><td>3.0      </td><td>5.2      </td><td>2.3      </td><td>virginica</td></tr>\n",
       "\t<tr><th scope=row>147</th><td>6.3      </td><td>2.5      </td><td>5.0      </td><td>1.9      </td><td>virginica</td></tr>\n",
       "\t<tr><th scope=row>148</th><td>6.5      </td><td>3.0      </td><td>5.2      </td><td>2.0      </td><td>virginica</td></tr>\n",
       "\t<tr><th scope=row>149</th><td>6.2      </td><td>3.4      </td><td>5.4      </td><td>2.3      </td><td>virginica</td></tr>\n",
       "\t<tr><th scope=row>150</th><td>5.9      </td><td>3.0      </td><td>5.1      </td><td>1.8      </td><td>virginica</td></tr>\n",
       "</tbody>\n",
       "</table>\n"
      ],
      "text/latex": [
       "\\begin{tabular}{r|lllll}\n",
       "  & Sepal.Length & Sepal.Width & Petal.Length & Petal.Width & Species\\\\\n",
       "\\hline\n",
       "\t145 & 6.7       & 3.3       & 5.7       & 2.5       & virginica\\\\\n",
       "\t146 & 6.7       & 3.0       & 5.2       & 2.3       & virginica\\\\\n",
       "\t147 & 6.3       & 2.5       & 5.0       & 1.9       & virginica\\\\\n",
       "\t148 & 6.5       & 3.0       & 5.2       & 2.0       & virginica\\\\\n",
       "\t149 & 6.2       & 3.4       & 5.4       & 2.3       & virginica\\\\\n",
       "\t150 & 5.9       & 3.0       & 5.1       & 1.8       & virginica\\\\\n",
       "\\end{tabular}\n"
      ],
      "text/markdown": [
       "\n",
       "| <!--/--> | Sepal.Length | Sepal.Width | Petal.Length | Petal.Width | Species |\n",
       "|---|---|---|---|---|---|\n",
       "| 145 | 6.7       | 3.3       | 5.7       | 2.5       | virginica |\n",
       "| 146 | 6.7       | 3.0       | 5.2       | 2.3       | virginica |\n",
       "| 147 | 6.3       | 2.5       | 5.0       | 1.9       | virginica |\n",
       "| 148 | 6.5       | 3.0       | 5.2       | 2.0       | virginica |\n",
       "| 149 | 6.2       | 3.4       | 5.4       | 2.3       | virginica |\n",
       "| 150 | 5.9       | 3.0       | 5.1       | 1.8       | virginica |\n",
       "\n"
      ],
      "text/plain": [
       "    Sepal.Length Sepal.Width Petal.Length Petal.Width Species  \n",
       "145 6.7          3.3         5.7          2.5         virginica\n",
       "146 6.7          3.0         5.2          2.3         virginica\n",
       "147 6.3          2.5         5.0          1.9         virginica\n",
       "148 6.5          3.0         5.2          2.0         virginica\n",
       "149 6.2          3.4         5.4          2.3         virginica\n",
       "150 5.9          3.0         5.1          1.8         virginica"
      ]
     },
     "metadata": {},
     "output_type": "display_data"
    }
   ],
   "source": [
    "tail(iris)"
   ]
  },
  {
   "cell_type": "code",
   "execution_count": 11,
   "metadata": {
    "vscode": {
     "languageId": "r"
    }
   },
   "outputs": [
    {
     "name": "stdout",
     "output_type": "stream",
     "text": [
      "'data.frame':\t150 obs. of  5 variables:\n",
      " $ Sepal.Length: num  5.1 4.9 4.7 4.6 5 5.4 4.6 5 4.4 4.9 ...\n",
      " $ Sepal.Width : num  3.5 3 3.2 3.1 3.6 3.9 3.4 3.4 2.9 3.1 ...\n",
      " $ Petal.Length: num  1.4 1.4 1.3 1.5 1.4 1.7 1.4 1.5 1.4 1.5 ...\n",
      " $ Petal.Width : num  0.2 0.2 0.2 0.2 0.2 0.4 0.3 0.2 0.2 0.1 ...\n",
      " $ Species     : Factor w/ 3 levels \"setosa\",\"versicolor\",..: 1 1 1 1 1 1 1 1 1 1 ...\n"
     ]
    }
   ],
   "source": [
    "str(iris)"
   ]
  },
  {
   "cell_type": "code",
   "execution_count": 12,
   "metadata": {
    "vscode": {
     "languageId": "r"
    }
   },
   "outputs": [
    {
     "data": {
      "text/plain": [
       "  Sepal.Length    Sepal.Width     Petal.Length    Petal.Width   \n",
       " Min.   :4.300   Min.   :2.000   Min.   :1.000   Min.   :0.100  \n",
       " 1st Qu.:5.100   1st Qu.:2.800   1st Qu.:1.600   1st Qu.:0.300  \n",
       " Median :5.800   Median :3.000   Median :4.350   Median :1.300  \n",
       " Mean   :5.843   Mean   :3.057   Mean   :3.758   Mean   :1.199  \n",
       " 3rd Qu.:6.400   3rd Qu.:3.300   3rd Qu.:5.100   3rd Qu.:1.800  \n",
       " Max.   :7.900   Max.   :4.400   Max.   :6.900   Max.   :2.500  \n",
       "       Species  \n",
       " setosa    :50  \n",
       " versicolor:50  \n",
       " virginica :50  \n",
       "                \n",
       "                \n",
       "                "
      ]
     },
     "metadata": {},
     "output_type": "display_data"
    }
   ],
   "source": [
    "summary(iris)"
   ]
  },
  {
   "cell_type": "code",
   "execution_count": 13,
   "metadata": {
    "vscode": {
     "languageId": "r"
    }
   },
   "outputs": [
    {
     "name": "stdout",
     "output_type": "stream",
     "text": [
      "  [1] \"setosa\"     \"setosa\"     \"setosa\"     \"setosa\"     \"setosa\"    \n",
      "  [6] \"setosa\"     \"setosa\"     \"setosa\"     \"setosa\"     \"setosa\"    \n",
      " [11] \"setosa\"     \"setosa\"     \"setosa\"     \"setosa\"     \"setosa\"    \n",
      " [16] \"setosa\"     \"setosa\"     \"setosa\"     \"setosa\"     \"setosa\"    \n",
      " [21] \"setosa\"     \"setosa\"     \"setosa\"     \"setosa\"     \"setosa\"    \n",
      " [26] \"setosa\"     \"setosa\"     \"setosa\"     \"setosa\"     \"setosa\"    \n",
      " [31] \"setosa\"     \"setosa\"     \"setosa\"     \"setosa\"     \"setosa\"    \n",
      " [36] \"setosa\"     \"setosa\"     \"setosa\"     \"setosa\"     \"setosa\"    \n",
      " [41] \"setosa\"     \"setosa\"     \"setosa\"     \"setosa\"     \"setosa\"    \n",
      " [46] \"setosa\"     \"setosa\"     \"setosa\"     \"setosa\"     \"setosa\"    \n",
      " [51] \"versicolor\" \"versicolor\" \"versicolor\" \"versicolor\" \"versicolor\"\n",
      " [56] \"versicolor\" \"versicolor\" \"versicolor\" \"versicolor\" \"versicolor\"\n",
      " [61] \"versicolor\" \"versicolor\" \"versicolor\" \"versicolor\" \"versicolor\"\n",
      " [66] \"versicolor\" \"versicolor\" \"versicolor\" \"versicolor\" \"versicolor\"\n",
      " [71] \"versicolor\" \"versicolor\" \"versicolor\" \"versicolor\" \"versicolor\"\n",
      " [76] \"versicolor\" \"versicolor\" \"versicolor\" \"versicolor\" \"versicolor\"\n",
      " [81] \"versicolor\" \"versicolor\" \"versicolor\" \"versicolor\" \"versicolor\"\n",
      " [86] \"versicolor\" \"versicolor\" \"versicolor\" \"versicolor\" \"versicolor\"\n",
      " [91] \"versicolor\" \"versicolor\" \"versicolor\" \"versicolor\" \"versicolor\"\n",
      " [96] \"versicolor\" \"versicolor\" \"versicolor\" \"versicolor\" \"versicolor\"\n",
      "[101] \"virginica\"  \"virginica\"  \"virginica\"  \"virginica\"  \"virginica\" \n",
      "[106] \"virginica\"  \"virginica\"  \"virginica\"  \"virginica\"  \"virginica\" \n",
      "[111] \"virginica\"  \"virginica\"  \"virginica\"  \"virginica\"  \"virginica\" \n",
      "[116] \"virginica\"  \"virginica\"  \"virginica\"  \"virginica\"  \"virginica\" \n",
      "[121] \"virginica\"  \"virginica\"  \"virginica\"  \"virginica\"  \"virginica\" \n",
      "[126] \"virginica\"  \"virginica\"  \"virginica\"  \"virginica\"  \"virginica\" \n",
      "[131] \"virginica\"  \"virginica\"  \"virginica\"  \"virginica\"  \"virginica\" \n",
      "[136] \"virginica\"  \"virginica\"  \"virginica\"  \"virginica\"  \"virginica\" \n",
      "[141] \"virginica\"  \"virginica\"  \"virginica\"  \"virginica\"  \"virginica\" \n",
      "[146] \"virginica\"  \"virginica\"  \"virginica\"  \"virginica\"  \"virginica\" \n",
      "  [1] 1 1 1 1 1 1 1 1 1 1 1 1 1 1 1 1 1 1 1 1 1 1 1 1 1 1 1 1 1 1 1 1 1 1 1 1 1\n",
      " [38] 1 1 1 1 1 1 1 1 1 1 1 1 1 2 2 2 2 2 2 2 2 2 2 2 2 2 2 2 2 2 2 2 2 2 2 2 2\n",
      " [75] 2 2 2 2 2 2 2 2 2 2 2 2 2 2 2 2 2 2 2 2 2 2 2 2 2 2 3 3 3 3 3 3 3 3 3 3 3\n",
      "[112] 3 3 3 3 3 3 3 3 3 3 3 3 3 3 3 3 3 3 3 3 3 3 3 3 3 3 3 3 3 3 3 3 3 3 3 3 3\n",
      "[149] 3 3\n"
     ]
    }
   ],
   "source": [
    "# factor Type인 Species에서 문자와 숫자로 각각 가져오기\n",
    "print(as.character(iris$Species))\n",
    "print(as.numeric(iris$Species))"
   ]
  },
  {
   "cell_type": "markdown",
   "metadata": {},
   "source": [
    "---\n",
    "# 벡터 계산"
   ]
  },
  {
   "cell_type": "code",
   "execution_count": 14,
   "metadata": {
    "vscode": {
     "languageId": "r"
    }
   },
   "outputs": [
    {
     "name": "stdout",
     "output_type": "stream",
     "text": [
      "[1]  4  7 10 13 16\n"
     ]
    }
   ],
   "source": [
    "x <- c(3,6,9,12,15)\n",
    "print(x +1)"
   ]
  },
  {
   "cell_type": "code",
   "execution_count": 15,
   "metadata": {
    "vscode": {
     "languageId": "r"
    }
   },
   "outputs": [
    {
     "name": "stdout",
     "output_type": "stream",
     "text": [
      "[1]  4  8 12 16 20\n"
     ]
    }
   ],
   "source": [
    "# 1,2,3,4,5 씩 추가 \n",
    "print(x + 1:5)"
   ]
  },
  {
   "cell_type": "code",
   "execution_count": 16,
   "metadata": {
    "vscode": {
     "languageId": "r"
    }
   },
   "outputs": [
    {
     "data": {
      "text/html": [
       "<ol class=list-inline>\n",
       "\t<li>3</li>\n",
       "\t<li>5</li>\n",
       "\t<li>6</li>\n",
       "\t<li>12</li>\n",
       "\t<li>15</li>\n",
       "\t<li>1</li>\n",
       "\t<li>2</li>\n",
       "\t<li>3</li>\n",
       "\t<li>4</li>\n",
       "\t<li>5</li>\n",
       "</ol>\n"
      ],
      "text/latex": [
       "\\begin{enumerate*}\n",
       "\\item 3\n",
       "\\item 5\n",
       "\\item 6\n",
       "\\item 12\n",
       "\\item 15\n",
       "\\item 1\n",
       "\\item 2\n",
       "\\item 3\n",
       "\\item 4\n",
       "\\item 5\n",
       "\\end{enumerate*}\n"
      ],
      "text/markdown": [
       "1. 3\n",
       "2. 5\n",
       "3. 6\n",
       "4. 12\n",
       "5. 15\n",
       "6. 1\n",
       "7. 2\n",
       "8. 3\n",
       "9. 4\n",
       "10. 5\n",
       "\n",
       "\n"
      ],
      "text/plain": [
       " [1]  3  5  6 12 15  1  2  3  4  5"
      ]
     },
     "metadata": {},
     "output_type": "display_data"
    }
   ],
   "source": [
    "# 벡터 합치기 \n",
    "x <- c(3,5,6,12,15)\n",
    "y <- 1:5\n",
    "append(x,y)"
   ]
  },
  {
   "cell_type": "code",
   "execution_count": 17,
   "metadata": {
    "vscode": {
     "languageId": "r"
    }
   },
   "outputs": [
    {
     "data": {
      "text/html": [
       "300"
      ],
      "text/latex": [
       "300"
      ],
      "text/markdown": [
       "300"
      ],
      "text/plain": [
       "[1] 300"
      ]
     },
     "metadata": {},
     "output_type": "display_data"
    }
   ],
   "source": [
    "length(append(iris$Sepal.Length,iris$Sepal.Width))"
   ]
  },
  {
   "cell_type": "code",
   "execution_count": 18,
   "metadata": {
    "vscode": {
     "languageId": "r"
    }
   },
   "outputs": [
    {
     "data": {
      "text/html": [
       "300"
      ],
      "text/latex": [
       "300"
      ],
      "text/markdown": [
       "300"
      ],
      "text/plain": [
       "[1] 300"
      ]
     },
     "metadata": {},
     "output_type": "display_data"
    }
   ],
   "source": [
    "length(c(iris$Sepal.Length,iris$Sepal.Width))"
   ]
  },
  {
   "cell_type": "code",
   "execution_count": 19,
   "metadata": {
    "vscode": {
     "languageId": "r"
    }
   },
   "outputs": [
    {
     "data": {
      "text/html": [
       "35"
      ],
      "text/latex": [
       "35"
      ],
      "text/markdown": [
       "35"
      ],
      "text/plain": [
       "[1] 35"
      ]
     },
     "metadata": {},
     "output_type": "display_data"
    },
    {
     "data": {
      "text/html": [
       "'percent : 23.33 %'"
      ],
      "text/latex": [
       "'percent : 23.33 \\%'"
      ],
      "text/markdown": [
       "'percent : 23.33 %'"
      ],
      "text/plain": [
       "[1] \"percent : 23.33 %\""
      ]
     },
     "metadata": {},
     "output_type": "display_data"
    }
   ],
   "source": [
    "# iris의 Sepal.Length의 중복되지 않은 갯수의 percent 구하기 \n",
    "length(unique(iris$Sepal.Length))\n",
    "paste(\"percent :\", round((length(unique(iris$Sepal.Length)) /length(iris$Sepal.Length) ) * 100,2),\"%\")\n"
   ]
  },
  {
   "cell_type": "code",
   "execution_count": 20,
   "metadata": {
    "vscode": {
     "languageId": "r"
    }
   },
   "outputs": [
    {
     "name": "stdout",
     "output_type": "stream",
     "text": [
      "76.67 %"
     ]
    }
   ],
   "source": [
    "#iris의 Sepal.Length의 중복된 갯수의 percent 구하기\n",
    "cat(round((length(iris$Sepal.Length)- length(unique(iris$Sepal.Length))) / length(iris$Sepal.Length) *100 ,2),\"%\")\n"
   ]
  },
  {
   "cell_type": "markdown",
   "metadata": {
    "vscode": {
     "languageId": "r"
    }
   },
   "source": [
    "---\n",
    "# 문자열 관련 함수"
   ]
  },
  {
   "cell_type": "code",
   "execution_count": 21,
   "metadata": {
    "vscode": {
     "languageId": "r"
    }
   },
   "outputs": [
    {
     "data": {
      "text/html": [
       "'Hello World!'"
      ],
      "text/latex": [
       "'Hello World!'"
      ],
      "text/markdown": [
       "'Hello World!'"
      ],
      "text/plain": [
       "[1] \"Hello World!\""
      ]
     },
     "metadata": {},
     "output_type": "display_data"
    }
   ],
   "source": [
    "paste(\"Hello\", \"World!\")"
   ]
  },
  {
   "cell_type": "code",
   "execution_count": 22,
   "metadata": {
    "vscode": {
     "languageId": "r"
    }
   },
   "outputs": [
    {
     "data": {
      "text/html": [
       "'setosa : versicolor : virginica'"
      ],
      "text/latex": [
       "'setosa : versicolor : virginica'"
      ],
      "text/markdown": [
       "'setosa : versicolor : virginica'"
      ],
      "text/plain": [
       "[1] \"setosa : versicolor : virginica\""
      ]
     },
     "metadata": {},
     "output_type": "display_data"
    }
   ],
   "source": [
    "# iris의 1,51,101번의 Species만 한꺼번에 출력하기\n",
    "paste(iris$Species[1],\":\", iris$Species[51],\":\", iris$Species[101])\n"
   ]
  },
  {
   "cell_type": "code",
   "execution_count": 23,
   "metadata": {
    "vscode": {
     "languageId": "r"
    }
   },
   "outputs": [
    {
     "name": "stdout",
     "output_type": "stream",
     "text": [
      "Hello \n",
      " \r\n",
      "World!"
     ]
    }
   ],
   "source": [
    "#문자열 출력\n",
    "cat(\"Hello\",\"\\n\",\"\\rWorld!\")\n"
   ]
  },
  {
   "cell_type": "code",
   "execution_count": 24,
   "metadata": {
    "vscode": {
     "languageId": "r"
    }
   },
   "outputs": [
    {
     "name": "stdout",
     "output_type": "stream",
     "text": [
      "Hello\n",
      "World!"
     ]
    }
   ],
   "source": [
    "cat(\"Hello\\nWorld!\")"
   ]
  },
  {
   "cell_type": "code",
   "execution_count": 25,
   "metadata": {
    "vscode": {
     "languageId": "r"
    }
   },
   "outputs": [
    {
     "data": {
      "text/html": [
       "'010-1111-2222'"
      ],
      "text/latex": [
       "'010-1111-2222'"
      ],
      "text/markdown": [
       "'010-1111-2222'"
      ],
      "text/plain": [
       "[1] \"010-1111-2222\""
      ]
     },
     "metadata": {},
     "output_type": "display_data"
    },
    {
     "data": {
      "text/html": [
       "'01011112222'"
      ],
      "text/latex": [
       "'01011112222'"
      ],
      "text/markdown": [
       "'01011112222'"
      ],
      "text/plain": [
       "[1] \"01011112222\""
      ]
     },
     "metadata": {},
     "output_type": "display_data"
    }
   ],
   "source": [
    "paste(\"010\",\"1111\",\"2222\",sep=\"-\")\n",
    "paste(\"010\",\"1111\",\"2222\",sep=\"\")"
   ]
  },
  {
   "cell_type": "markdown",
   "metadata": {},
   "source": [
    "---\n",
    "# 문자열 추출하기"
   ]
  },
  {
   "cell_type": "code",
   "execution_count": 26,
   "metadata": {
    "vscode": {
     "languageId": "r"
    }
   },
   "outputs": [
    {
     "data": {
      "text/html": [
       "'bcde'"
      ],
      "text/latex": [
       "'bcde'"
      ],
      "text/markdown": [
       "'bcde'"
      ],
      "text/plain": [
       "[1] \"bcde\""
      ]
     },
     "metadata": {},
     "output_type": "display_data"
    },
    {
     "data": {
      "text/html": [
       "'나다라마'"
      ],
      "text/latex": [
       "'나다라마'"
      ],
      "text/markdown": [
       "'나다라마'"
      ],
      "text/plain": [
       "[1] \"나다라마\""
      ]
     },
     "metadata": {},
     "output_type": "display_data"
    }
   ],
   "source": [
    "str01 <- \"abcdefghijklmn\"\n",
    "substring(str01,2,5)  # 2~5 \n",
    "str02 <-\"가나다라마바사\"\n",
    "substring(str02,2,5)"
   ]
  },
  {
   "cell_type": "code",
   "execution_count": 27,
   "metadata": {
    "vscode": {
     "languageId": "r"
    }
   },
   "outputs": [
    {
     "name": "stdout",
     "output_type": "stream",
     "text": [
      "[1]  6.463973 15.977798  8.770562 17.777331 18.868878\n"
     ]
    },
    {
     "data": {
      "text/html": [
       "1"
      ],
      "text/latex": [
       "1"
      ],
      "text/markdown": [
       "1"
      ],
      "text/plain": [
       "[1] 1"
      ]
     },
     "metadata": {},
     "output_type": "display_data"
    }
   ],
   "source": [
    "# ex: 출력되는 x중 4와 7 사이에 있는 것은 몇개 인가?\n",
    "set.seed(123)       #한 모양으로 고정\n",
    "x <- runif(5,1,20)  #5개의 1부터 20까지의 난수 \n",
    "print(x)\n",
    "\n",
    "sum(as.numeric(x[1:length(x)] > 4) * as.numeric(x[1:length(x)] < 7))"
   ]
  },
  {
   "cell_type": "code",
   "execution_count": 28,
   "metadata": {
    "vscode": {
     "languageId": "r"
    }
   },
   "outputs": [
    {
     "name": "stdout",
     "output_type": "stream",
     "text": [
      "[1]  6.463973 15.977798  8.770562 17.777331 18.868878\n"
     ]
    }
   ],
   "source": [
    "print(x)"
   ]
  },
  {
   "cell_type": "markdown",
   "metadata": {},
   "source": [
    "---\n",
    "# 행렬 (Matrix)\n",
    "### 행렬: 2차원 자료를 저장하는 자료형\n",
    "### 행렬은 데이터 형태가 모두 일치 되어야 구성\n",
    "\n"
   ]
  },
  {
   "cell_type": "code",
   "execution_count": 29,
   "metadata": {
    "vscode": {
     "languageId": "r"
    }
   },
   "outputs": [],
   "source": [
    "# Vector로 행렬 만들기\n",
    "ver1 <-c(1,2,3)\n",
    "ver2 <-c(4,5,6)\n",
    "ver3 <-c(7,8,9)"
   ]
  },
  {
   "cell_type": "code",
   "execution_count": 30,
   "metadata": {
    "vscode": {
     "languageId": "r"
    }
   },
   "outputs": [
    {
     "data": {
      "text/html": [
       "<table>\n",
       "<tbody>\n",
       "\t<tr><th scope=row>ver1</th><td>1</td><td>2</td><td>3</td></tr>\n",
       "\t<tr><th scope=row>ver2</th><td>4</td><td>5</td><td>6</td></tr>\n",
       "\t<tr><th scope=row>ver3</th><td>7</td><td>8</td><td>9</td></tr>\n",
       "</tbody>\n",
       "</table>\n"
      ],
      "text/latex": [
       "\\begin{tabular}{r|lll}\n",
       "\tver1 & 1 & 2 & 3\\\\\n",
       "\tver2 & 4 & 5 & 6\\\\\n",
       "\tver3 & 7 & 8 & 9\\\\\n",
       "\\end{tabular}\n"
      ],
      "text/markdown": [
       "\n",
       "| ver1 | 1 | 2 | 3 |\n",
       "| ver2 | 4 | 5 | 6 |\n",
       "| ver3 | 7 | 8 | 9 |\n",
       "\n"
      ],
      "text/plain": [
       "     [,1] [,2] [,3]\n",
       "ver1 1    2    3   \n",
       "ver2 4    5    6   \n",
       "ver3 7    8    9   "
      ]
     },
     "metadata": {},
     "output_type": "display_data"
    }
   ],
   "source": [
    "#  행으로 붙이기 : rbind( row binding)\n",
    "mat1 <- rbind(ver1,ver2,ver3)\n",
    "mat1"
   ]
  },
  {
   "cell_type": "code",
   "execution_count": 31,
   "metadata": {
    "vscode": {
     "languageId": "r"
    }
   },
   "outputs": [
    {
     "data": {
      "text/html": [
       "<table>\n",
       "<thead><tr><th scope=col>ver1</th><th scope=col>ver2</th><th scope=col>ver3</th></tr></thead>\n",
       "<tbody>\n",
       "\t<tr><td>1</td><td>4</td><td>7</td></tr>\n",
       "\t<tr><td>2</td><td>5</td><td>8</td></tr>\n",
       "\t<tr><td>3</td><td>6</td><td>9</td></tr>\n",
       "</tbody>\n",
       "</table>\n"
      ],
      "text/latex": [
       "\\begin{tabular}{lll}\n",
       " ver1 & ver2 & ver3\\\\\n",
       "\\hline\n",
       "\t 1 & 4 & 7\\\\\n",
       "\t 2 & 5 & 8\\\\\n",
       "\t 3 & 6 & 9\\\\\n",
       "\\end{tabular}\n"
      ],
      "text/markdown": [
       "\n",
       "| ver1 | ver2 | ver3 |\n",
       "|---|---|---|\n",
       "| 1 | 4 | 7 |\n",
       "| 2 | 5 | 8 |\n",
       "| 3 | 6 | 9 |\n",
       "\n"
      ],
      "text/plain": [
       "     ver1 ver2 ver3\n",
       "[1,] 1    4    7   \n",
       "[2,] 2    5    8   \n",
       "[3,] 3    6    9   "
      ]
     },
     "metadata": {},
     "output_type": "display_data"
    }
   ],
   "source": [
    "#열로 붙이기 :cbind( colum binding)\n",
    "mat2 <- cbind(ver1,ver2,ver3)\n",
    "mat2"
   ]
  },
  {
   "cell_type": "code",
   "execution_count": 32,
   "metadata": {
    "vscode": {
     "languageId": "r"
    }
   },
   "outputs": [
    {
     "data": {
      "text/html": [
       "<table>\n",
       "<tbody>\n",
       "\t<tr><th scope=row>ver1</th><td>1</td><td>2</td><td>3</td></tr>\n",
       "\t<tr><th scope=row>ver2</th><td>4</td><td>5</td><td>6</td></tr>\n",
       "\t<tr><th scope=row>ver3</th><td>7</td><td>8</td><td>9</td></tr>\n",
       "</tbody>\n",
       "</table>\n"
      ],
      "text/latex": [
       "\\begin{tabular}{r|lll}\n",
       "\tver1 & 1 & 2 & 3\\\\\n",
       "\tver2 & 4 & 5 & 6\\\\\n",
       "\tver3 & 7 & 8 & 9\\\\\n",
       "\\end{tabular}\n"
      ],
      "text/markdown": [
       "\n",
       "| ver1 | 1 | 2 | 3 |\n",
       "| ver2 | 4 | 5 | 6 |\n",
       "| ver3 | 7 | 8 | 9 |\n",
       "\n"
      ],
      "text/plain": [
       "     [,1] [,2] [,3]\n",
       "ver1 1    2    3   \n",
       "ver2 4    5    6   \n",
       "ver3 7    8    9   "
      ]
     },
     "metadata": {},
     "output_type": "display_data"
    },
    {
     "data": {
      "text/html": [
       "<table>\n",
       "<thead><tr><th></th><th scope=col>A</th><th scope=col>B</th><th scope=col>C</th></tr></thead>\n",
       "<tbody>\n",
       "\t<tr><th scope=row>ver1</th><td>1</td><td>2</td><td>3</td></tr>\n",
       "\t<tr><th scope=row>ver2</th><td>4</td><td>5</td><td>6</td></tr>\n",
       "\t<tr><th scope=row>ver3</th><td>7</td><td>8</td><td>9</td></tr>\n",
       "</tbody>\n",
       "</table>\n"
      ],
      "text/latex": [
       "\\begin{tabular}{r|lll}\n",
       "  & A & B & C\\\\\n",
       "\\hline\n",
       "\tver1 & 1 & 2 & 3\\\\\n",
       "\tver2 & 4 & 5 & 6\\\\\n",
       "\tver3 & 7 & 8 & 9\\\\\n",
       "\\end{tabular}\n"
      ],
      "text/markdown": [
       "\n",
       "| <!--/--> | A | B | C |\n",
       "|---|---|---|---|\n",
       "| ver1 | 1 | 2 | 3 |\n",
       "| ver2 | 4 | 5 | 6 |\n",
       "| ver3 | 7 | 8 | 9 |\n",
       "\n"
      ],
      "text/plain": [
       "     A B C\n",
       "ver1 1 2 3\n",
       "ver2 4 5 6\n",
       "ver3 7 8 9"
      ]
     },
     "metadata": {},
     "output_type": "display_data"
    }
   ],
   "source": [
    "# mat1의 칼럼 이름 추가 \n",
    "mat1\n",
    "colnames(mat1) <- c(\"A\",\"B\",\"C\")\n",
    "mat1"
   ]
  },
  {
   "cell_type": "code",
   "execution_count": 33,
   "metadata": {
    "vscode": {
     "languageId": "r"
    }
   },
   "outputs": [
    {
     "data": {
      "text/html": [
       "'matrix'"
      ],
      "text/latex": [
       "'matrix'"
      ],
      "text/markdown": [
       "'matrix'"
      ],
      "text/plain": [
       "[1] \"matrix\""
      ]
     },
     "metadata": {},
     "output_type": "display_data"
    },
    {
     "data": {
      "text/html": [
       "'data.frame'"
      ],
      "text/latex": [
       "'data.frame'"
      ],
      "text/markdown": [
       "'data.frame'"
      ],
      "text/plain": [
       "[1] \"data.frame\""
      ]
     },
     "metadata": {},
     "output_type": "display_data"
    }
   ],
   "source": [
    "class(mat1)  # cbind로 할시 matrix\n",
    "mat1D <- as.data.frame(mat1)\n",
    "class(mat1D)"
   ]
  },
  {
   "cell_type": "code",
   "execution_count": 34,
   "metadata": {
    "vscode": {
     "languageId": "r"
    }
   },
   "outputs": [
    {
     "data": {
      "text/html": [
       "<table>\n",
       "<thead><tr><th scope=col>ver1</th><th scope=col>ver2</th><th scope=col>ver3</th></tr></thead>\n",
       "<tbody>\n",
       "\t<tr><td>1</td><td>4</td><td>7</td></tr>\n",
       "\t<tr><td>2</td><td>5</td><td>8</td></tr>\n",
       "\t<tr><td>3</td><td>6</td><td>9</td></tr>\n",
       "</tbody>\n",
       "</table>\n"
      ],
      "text/latex": [
       "\\begin{tabular}{lll}\n",
       " ver1 & ver2 & ver3\\\\\n",
       "\\hline\n",
       "\t 1 & 4 & 7\\\\\n",
       "\t 2 & 5 & 8\\\\\n",
       "\t 3 & 6 & 9\\\\\n",
       "\\end{tabular}\n"
      ],
      "text/markdown": [
       "\n",
       "| ver1 | ver2 | ver3 |\n",
       "|---|---|---|\n",
       "| 1 | 4 | 7 |\n",
       "| 2 | 5 | 8 |\n",
       "| 3 | 6 | 9 |\n",
       "\n"
      ],
      "text/plain": [
       "     ver1 ver2 ver3\n",
       "[1,] 1    4    7   \n",
       "[2,] 2    5    8   \n",
       "[3,] 3    6    9   "
      ]
     },
     "metadata": {},
     "output_type": "display_data"
    },
    {
     "name": "stdout",
     "output_type": "stream",
     "text": [
      "  ver1 ver2 ver3\n",
      "1    1    4    7\n",
      "2    2    5    8\n",
      "3    3    6    9\n"
     ]
    },
    {
     "data": {
      "text/html": [
       "'data.frame'"
      ],
      "text/latex": [
       "'data.frame'"
      ],
      "text/markdown": [
       "'data.frame'"
      ],
      "text/plain": [
       "[1] \"data.frame\""
      ]
     },
     "metadata": {},
     "output_type": "display_data"
    }
   ],
   "source": [
    "mat2\n",
    "rownames(mat2) <- 1:3\n",
    "print(mat2)\n",
    "mat2D <- as.data.frame(mat2)\n",
    "class(mat2D)"
   ]
  },
  {
   "cell_type": "code",
   "execution_count": 35,
   "metadata": {
    "vscode": {
     "languageId": "r"
    }
   },
   "outputs": [
    {
     "name": "stdout",
     "output_type": "stream",
     "text": [
      "     A B C\n",
      "ver1 1 2 3\n",
      "ver2 4 5 6\n",
      "ver3 7 8 9\n",
      "  ver1 ver2 ver3\n",
      "1    1    4    7\n",
      "2    2    5    8\n",
      "3    3    6    9\n"
     ]
    },
    {
     "data": {
      "text/html": [
       "<table>\n",
       "<thead><tr><th></th><th scope=col>A</th><th scope=col>B</th><th scope=col>C</th></tr></thead>\n",
       "<tbody>\n",
       "\t<tr><th scope=row>ver1</th><td>1</td><td>2</td><td>3</td></tr>\n",
       "\t<tr><th scope=row>ver2</th><td>4</td><td>5</td><td>6</td></tr>\n",
       "\t<tr><th scope=row>ver3</th><td>7</td><td>8</td><td>9</td></tr>\n",
       "\t<tr><th scope=row>1</th><td>1</td><td>4</td><td>7</td></tr>\n",
       "\t<tr><th scope=row>2</th><td>2</td><td>5</td><td>8</td></tr>\n",
       "\t<tr><th scope=row>3</th><td>3</td><td>6</td><td>9</td></tr>\n",
       "</tbody>\n",
       "</table>\n"
      ],
      "text/latex": [
       "\\begin{tabular}{r|lll}\n",
       "  & A & B & C\\\\\n",
       "\\hline\n",
       "\tver1 & 1 & 2 & 3\\\\\n",
       "\tver2 & 4 & 5 & 6\\\\\n",
       "\tver3 & 7 & 8 & 9\\\\\n",
       "\t1 & 1 & 4 & 7\\\\\n",
       "\t2 & 2 & 5 & 8\\\\\n",
       "\t3 & 3 & 6 & 9\\\\\n",
       "\\end{tabular}\n"
      ],
      "text/markdown": [
       "\n",
       "| <!--/--> | A | B | C |\n",
       "|---|---|---|---|\n",
       "| ver1 | 1 | 2 | 3 |\n",
       "| ver2 | 4 | 5 | 6 |\n",
       "| ver3 | 7 | 8 | 9 |\n",
       "| 1 | 1 | 4 | 7 |\n",
       "| 2 | 2 | 5 | 8 |\n",
       "| 3 | 3 | 6 | 9 |\n",
       "\n"
      ],
      "text/plain": [
       "     A B C\n",
       "ver1 1 2 3\n",
       "ver2 4 5 6\n",
       "ver3 7 8 9\n",
       "1    1 4 7\n",
       "2    2 5 8\n",
       "3    3 6 9"
      ]
     },
     "metadata": {},
     "output_type": "display_data"
    }
   ],
   "source": [
    "#mat1D와 mat2D를 하나의 데이터 셋으로 만들기 \n",
    "print(mat1D)\n",
    "print(mat2D)\n",
    "colnames (mat2D) <- colnames(mat1D)\n",
    "rbind(mat1D,mat2D)\n"
   ]
  },
  {
   "cell_type": "markdown",
   "metadata": {},
   "source": [
    "---\n",
    "# DataFrame\n",
    "- 다양한 자료형으로 구성된 2차원 형태의 데이터 구조 \n"
   ]
  },
  {
   "cell_type": "code",
   "execution_count": 36,
   "metadata": {
    "vscode": {
     "languageId": "r"
    }
   },
   "outputs": [],
   "source": [
    "# 벡터로 데이터 프레임 만들기\n",
    "\n",
    "no <- 1:4\n",
    "name <- c('Apple','Banana','Peach','Berry')\n",
    "price <- c(500,400,300,200)\n",
    "qty <- c(5,2,7,8)"
   ]
  },
  {
   "cell_type": "code",
   "execution_count": 37,
   "metadata": {
    "vscode": {
     "languageId": "r"
    }
   },
   "outputs": [
    {
     "data": {
      "text/html": [
       "<table>\n",
       "<thead><tr><th scope=col>no</th><th scope=col>name</th><th scope=col>price</th><th scope=col>qty</th></tr></thead>\n",
       "<tbody>\n",
       "\t<tr><td>1     </td><td>Apple </td><td>500   </td><td>5     </td></tr>\n",
       "\t<tr><td>2     </td><td>Banana</td><td>400   </td><td>2     </td></tr>\n",
       "\t<tr><td>3     </td><td>Peach </td><td>300   </td><td>7     </td></tr>\n",
       "\t<tr><td>4     </td><td>Berry </td><td>200   </td><td>8     </td></tr>\n",
       "</tbody>\n",
       "</table>\n"
      ],
      "text/latex": [
       "\\begin{tabular}{r|llll}\n",
       " no & name & price & qty\\\\\n",
       "\\hline\n",
       "\t 1      & Apple  & 500    & 5     \\\\\n",
       "\t 2      & Banana & 400    & 2     \\\\\n",
       "\t 3      & Peach  & 300    & 7     \\\\\n",
       "\t 4      & Berry  & 200    & 8     \\\\\n",
       "\\end{tabular}\n"
      ],
      "text/markdown": [
       "\n",
       "| no | name | price | qty |\n",
       "|---|---|---|---|\n",
       "| 1      | Apple  | 500    | 5      |\n",
       "| 2      | Banana | 400    | 2      |\n",
       "| 3      | Peach  | 300    | 7      |\n",
       "| 4      | Berry  | 200    | 8      |\n",
       "\n"
      ],
      "text/plain": [
       "  no name   price qty\n",
       "1 1  Apple  500   5  \n",
       "2 2  Banana 400   2  \n",
       "3 3  Peach  300   7  \n",
       "4 4  Berry  200   8  "
      ]
     },
     "metadata": {},
     "output_type": "display_data"
    }
   ],
   "source": [
    "fruit <- data.frame(no,name,price,qty,stringsAsFactors=F)\n",
    "fruit"
   ]
  },
  {
   "cell_type": "code",
   "execution_count": 38,
   "metadata": {
    "vscode": {
     "languageId": "r"
    }
   },
   "outputs": [
    {
     "data": {
      "text/html": [
       "<table>\n",
       "<thead><tr><th scope=col>번호</th><th scope=col>상품명</th><th scope=col>금액</th><th scope=col>재고량</th></tr></thead>\n",
       "<tbody>\n",
       "\t<tr><td>1     </td><td>Apple </td><td>500   </td><td>5     </td></tr>\n",
       "\t<tr><td>2     </td><td>Banana</td><td>400   </td><td>2     </td></tr>\n",
       "\t<tr><td>3     </td><td>Peach </td><td>300   </td><td>7     </td></tr>\n",
       "\t<tr><td>4     </td><td>Berry </td><td>200   </td><td>8     </td></tr>\n",
       "</tbody>\n",
       "</table>\n"
      ],
      "text/latex": [
       "\\begin{tabular}{r|llll}\n",
       " 번호 & 상품명 & 금액 & 재고량\\\\\n",
       "\\hline\n",
       "\t 1      & Apple  & 500    & 5     \\\\\n",
       "\t 2      & Banana & 400    & 2     \\\\\n",
       "\t 3      & Peach  & 300    & 7     \\\\\n",
       "\t 4      & Berry  & 200    & 8     \\\\\n",
       "\\end{tabular}\n"
      ],
      "text/markdown": [
       "\n",
       "| 번호 | 상품명 | 금액 | 재고량 |\n",
       "|---|---|---|---|\n",
       "| 1      | Apple  | 500    | 5      |\n",
       "| 2      | Banana | 400    | 2      |\n",
       "| 3      | Peach  | 300    | 7      |\n",
       "| 4      | Berry  | 200    | 8      |\n",
       "\n"
      ],
      "text/plain": [
       "  번호 상품명 금액 재고량\n",
       "1 1    Apple  500  5     \n",
       "2 2    Banana 400  2     \n",
       "3 3    Peach  300  7     \n",
       "4 4    Berry  200  8     "
      ]
     },
     "metadata": {},
     "output_type": "display_data"
    }
   ],
   "source": [
    "colnames(fruit) <- c('번호','상품명','금액','재고량')\n",
    "fruit"
   ]
  },
  {
   "cell_type": "code",
   "execution_count": 39,
   "metadata": {
    "vscode": {
     "languageId": "r"
    }
   },
   "outputs": [
    {
     "name": "stdout",
     "output_type": "stream",
     "text": [
      "'data.frame':\t4 obs. of  4 variables:\n",
      " $ 번호  : int  1 2 3 4\n",
      " $ 상품명: chr  \"Apple\" \"Banana\" \"Peach\" \"Berry\"\n",
      " $ 금액  : num  500 400 300 200\n",
      " $ 재고량: num  5 2 7 8\n"
     ]
    }
   ],
   "source": [
    "str(fruit)"
   ]
  },
  {
   "cell_type": "code",
   "execution_count": 40,
   "metadata": {
    "vscode": {
     "languageId": "r"
    }
   },
   "outputs": [
    {
     "data": {
      "text/plain": [
       "      번호         상품명               금액         재고량    \n",
       " Min.   :1.00   Length:4           Min.   :200   Min.   :2.00  \n",
       " 1st Qu.:1.75   Class :character   1st Qu.:275   1st Qu.:4.25  \n",
       " Median :2.50   Mode  :character   Median :350   Median :6.00  \n",
       " Mean   :2.50                      Mean   :350   Mean   :5.50  \n",
       " 3rd Qu.:3.25                      3rd Qu.:425   3rd Qu.:7.25  \n",
       " Max.   :4.00                      Max.   :500   Max.   :8.00  "
      ]
     },
     "metadata": {},
     "output_type": "display_data"
    }
   ],
   "source": [
    "summary(fruit)"
   ]
  },
  {
   "cell_type": "code",
   "execution_count": 41,
   "metadata": {
    "vscode": {
     "languageId": "r"
    }
   },
   "outputs": [
    {
     "data": {
      "text/html": [
       "<table>\n",
       "<thead><tr><th scope=col>상품명</th><th scope=col>재고량</th></tr></thead>\n",
       "<tbody>\n",
       "\t<tr><td>Apple </td><td>5     </td></tr>\n",
       "\t<tr><td>Banana</td><td>2     </td></tr>\n",
       "\t<tr><td>Peach </td><td>7     </td></tr>\n",
       "\t<tr><td>Berry </td><td>8     </td></tr>\n",
       "</tbody>\n",
       "</table>\n"
      ],
      "text/latex": [
       "\\begin{tabular}{r|ll}\n",
       " 상품명 & 재고량\\\\\n",
       "\\hline\n",
       "\t Apple  & 5     \\\\\n",
       "\t Banana & 2     \\\\\n",
       "\t Peach  & 7     \\\\\n",
       "\t Berry  & 8     \\\\\n",
       "\\end{tabular}\n"
      ],
      "text/markdown": [
       "\n",
       "| 상품명 | 재고량 |\n",
       "|---|---|\n",
       "| Apple  | 5      |\n",
       "| Banana | 2      |\n",
       "| Peach  | 7      |\n",
       "| Berry  | 8      |\n",
       "\n"
      ],
      "text/plain": [
       "  상품명 재고량\n",
       "1 Apple  5     \n",
       "2 Banana 2     \n",
       "3 Peach  7     \n",
       "4 Berry  8     "
      ]
     },
     "metadata": {},
     "output_type": "display_data"
    }
   ],
   "source": [
    "# fruit에서 상품명과 재고량만 보기  \n",
    "fruit[,c(2,4)]"
   ]
  },
  {
   "cell_type": "code",
   "execution_count": 42,
   "metadata": {
    "vscode": {
     "languageId": "r"
    }
   },
   "outputs": [
    {
     "data": {
      "text/html": [
       "<table>\n",
       "<thead><tr><th scope=col>상품명</th><th scope=col>금액</th><th scope=col>재고량</th></tr></thead>\n",
       "<tbody>\n",
       "\t<tr><td>Apple </td><td>500   </td><td>5     </td></tr>\n",
       "\t<tr><td>Banana</td><td>400   </td><td>2     </td></tr>\n",
       "\t<tr><td>Peach </td><td>300   </td><td>7     </td></tr>\n",
       "\t<tr><td>Berry </td><td>200   </td><td>8     </td></tr>\n",
       "</tbody>\n",
       "</table>\n"
      ],
      "text/latex": [
       "\\begin{tabular}{r|lll}\n",
       " 상품명 & 금액 & 재고량\\\\\n",
       "\\hline\n",
       "\t Apple  & 500    & 5     \\\\\n",
       "\t Banana & 400    & 2     \\\\\n",
       "\t Peach  & 300    & 7     \\\\\n",
       "\t Berry  & 200    & 8     \\\\\n",
       "\\end{tabular}\n"
      ],
      "text/markdown": [
       "\n",
       "| 상품명 | 금액 | 재고량 |\n",
       "|---|---|---|\n",
       "| Apple  | 500    | 5      |\n",
       "| Banana | 400    | 2      |\n",
       "| Peach  | 300    | 7      |\n",
       "| Berry  | 200    | 8      |\n",
       "\n"
      ],
      "text/plain": [
       "  상품명 금액 재고량\n",
       "1 Apple  500  5     \n",
       "2 Banana 400  2     \n",
       "3 Peach  300  7     \n",
       "4 Berry  200  8     "
      ]
     },
     "metadata": {},
     "output_type": "display_data"
    }
   ],
   "source": [
    "# fruit에서 번호를 제외한 모든 내용 보기  \n",
    "fruit[,-1]"
   ]
  },
  {
   "cell_type": "code",
   "execution_count": 43,
   "metadata": {
    "vscode": {
     "languageId": "r"
    }
   },
   "outputs": [
    {
     "data": {
      "text/html": [
       "<table>\n",
       "<thead><tr><th></th><th scope=col>상품명</th><th scope=col>금액</th><th scope=col>재고량</th></tr></thead>\n",
       "<tbody>\n",
       "\t<tr><th scope=row>1</th><td>Apple</td><td>500  </td><td>5    </td></tr>\n",
       "\t<tr><th scope=row>3</th><td>Peach</td><td>300  </td><td>7    </td></tr>\n",
       "</tbody>\n",
       "</table>\n"
      ],
      "text/latex": [
       "\\begin{tabular}{r|lll}\n",
       "  & 상품명 & 금액 & 재고량\\\\\n",
       "\\hline\n",
       "\t1 & Apple & 500   & 5    \\\\\n",
       "\t3 & Peach & 300   & 7    \\\\\n",
       "\\end{tabular}\n"
      ],
      "text/markdown": [
       "\n",
       "| <!--/--> | 상품명 | 금액 | 재고량 |\n",
       "|---|---|---|---|\n",
       "| 1 | Apple | 500   | 5     |\n",
       "| 3 | Peach | 300   | 7     |\n",
       "\n"
      ],
      "text/plain": [
       "  상품명 금액 재고량\n",
       "1 Apple  500  5     \n",
       "3 Peach  300  7     "
      ]
     },
     "metadata": {},
     "output_type": "display_data"
    }
   ],
   "source": [
    "# fruit에서 2,4번 행을 제외한 상품명, 금액, 재고량만 출력하기\n",
    "fruit[-c(2,4),-1]"
   ]
  },
  {
   "cell_type": "code",
   "execution_count": 47,
   "metadata": {
    "vscode": {
     "languageId": "r"
    }
   },
   "outputs": [
    {
     "data": {
      "text/html": [
       "<table>\n",
       "<thead><tr><th scope=col>번호</th><th scope=col>상품명</th><th scope=col>금액</th><th scope=col>재고량</th><th scope=col>재고금액</th></tr></thead>\n",
       "<tbody>\n",
       "\t<tr><td>1     </td><td>Apple </td><td>500   </td><td>5     </td><td>2500  </td></tr>\n",
       "\t<tr><td>2     </td><td>Banana</td><td>400   </td><td>2     </td><td> 800  </td></tr>\n",
       "\t<tr><td>3     </td><td>Peach </td><td>300   </td><td>7     </td><td>2100  </td></tr>\n",
       "\t<tr><td>4     </td><td>Berry </td><td>200   </td><td>8     </td><td>1600  </td></tr>\n",
       "</tbody>\n",
       "</table>\n"
      ],
      "text/latex": [
       "\\begin{tabular}{r|lllll}\n",
       " 번호 & 상품명 & 금액 & 재고량 & 재고금액\\\\\n",
       "\\hline\n",
       "\t 1      & Apple  & 500    & 5      & 2500  \\\\\n",
       "\t 2      & Banana & 400    & 2      &  800  \\\\\n",
       "\t 3      & Peach  & 300    & 7      & 2100  \\\\\n",
       "\t 4      & Berry  & 200    & 8      & 1600  \\\\\n",
       "\\end{tabular}\n"
      ],
      "text/markdown": [
       "\n",
       "| 번호 | 상품명 | 금액 | 재고량 | 재고금액 |\n",
       "|---|---|---|---|---|\n",
       "| 1      | Apple  | 500    | 5      | 2500   |\n",
       "| 2      | Banana | 400    | 2      |  800   |\n",
       "| 3      | Peach  | 300    | 7      | 2100   |\n",
       "| 4      | Berry  | 200    | 8      | 1600   |\n",
       "\n"
      ],
      "text/plain": [
       "  번호 상품명 금액 재고량 재고금액\n",
       "1 1    Apple  500  5      2500    \n",
       "2 2    Banana 400  2       800    \n",
       "3 3    Peach  300  7      2100    \n",
       "4 4    Berry  200  8      1600    "
      ]
     },
     "metadata": {},
     "output_type": "display_data"
    }
   ],
   "source": [
    "#재고 금액(금액*재고량)이라는 칼럼 생성하여 fruit에 붙이기 \n",
    "fruit$재고금액 <- fruit$금액 * fruit$재고량\n",
    "fruit"
   ]
  },
  {
   "cell_type": "code",
   "execution_count": 49,
   "metadata": {
    "vscode": {
     "languageId": "r"
    }
   },
   "outputs": [
    {
     "data": {
      "text/html": [
       "<table>\n",
       "<thead><tr><th scope=col>번호</th><th scope=col>상품명</th><th scope=col>금액</th><th scope=col>재고량</th><th scope=col>재고금액</th><th scope=col>원산지</th></tr></thead>\n",
       "<tbody>\n",
       "\t<tr><td>1     </td><td>Apple </td><td>500   </td><td>5     </td><td>2500  </td><td>한국  </td></tr>\n",
       "\t<tr><td>2     </td><td>Banana</td><td>400   </td><td>2     </td><td> 800  </td><td>태국  </td></tr>\n",
       "\t<tr><td>3     </td><td>Peach </td><td>300   </td><td>7     </td><td>2100  </td><td>한국  </td></tr>\n",
       "\t<tr><td>4     </td><td>Berry </td><td>200   </td><td>8     </td><td>1600  </td><td>중국  </td></tr>\n",
       "</tbody>\n",
       "</table>\n"
      ],
      "text/latex": [
       "\\begin{tabular}{r|llllll}\n",
       " 번호 & 상품명 & 금액 & 재고량 & 재고금액 & 원산지\\\\\n",
       "\\hline\n",
       "\t 1      & Apple  & 500    & 5      & 2500   & 한국  \\\\\n",
       "\t 2      & Banana & 400    & 2      &  800   & 태국  \\\\\n",
       "\t 3      & Peach  & 300    & 7      & 2100   & 한국  \\\\\n",
       "\t 4      & Berry  & 200    & 8      & 1600   & 중국  \\\\\n",
       "\\end{tabular}\n"
      ],
      "text/markdown": [
       "\n",
       "| 번호 | 상품명 | 금액 | 재고량 | 재고금액 | 원산지 |\n",
       "|---|---|---|---|---|---|\n",
       "| 1      | Apple  | 500    | 5      | 2500   | 한국   |\n",
       "| 2      | Banana | 400    | 2      |  800   | 태국   |\n",
       "| 3      | Peach  | 300    | 7      | 2100   | 한국   |\n",
       "| 4      | Berry  | 200    | 8      | 1600   | 중국   |\n",
       "\n"
      ],
      "text/plain": [
       "  번호 상품명 금액 재고량 재고금액 원산지\n",
       "1 1    Apple  500  5      2500     한국  \n",
       "2 2    Banana 400  2       800     태국  \n",
       "3 3    Peach  300  7      2100     한국  \n",
       "4 4    Berry  200  8      1600     중국  "
      ]
     },
     "metadata": {},
     "output_type": "display_data"
    }
   ],
   "source": [
    "# 원산지 칼럼 추가 \n",
    "fruit$원산지 <- c('한국','태국','한국','중국')\n",
    "fruit"
   ]
  },
  {
   "cell_type": "markdown",
   "metadata": {},
   "source": [
    "---\n",
    "# 외부 파일 불러오기"
   ]
  },
  {
   "cell_type": "code",
   "execution_count": 63,
   "metadata": {
    "vscode": {
     "languageId": "r"
    }
   },
   "outputs": [
    {
     "data": {
      "text/html": [
       "<table>\n",
       "<thead><tr><th scope=col>사번</th><th scope=col>이름</th><th scope=col>급여</th></tr></thead>\n",
       "<tbody>\n",
       "\t<tr><td>101 </td><td>hong</td><td>150 </td></tr>\n",
       "\t<tr><td>201 </td><td>lee </td><td>250 </td></tr>\n",
       "\t<tr><td>301 </td><td>kim </td><td>300 </td></tr>\n",
       "</tbody>\n",
       "</table>\n"
      ],
      "text/latex": [
       "\\begin{tabular}{r|lll}\n",
       " 사번 & 이름 & 급여\\\\\n",
       "\\hline\n",
       "\t 101  & hong & 150 \\\\\n",
       "\t 201  & lee  & 250 \\\\\n",
       "\t 301  & kim  & 300 \\\\\n",
       "\\end{tabular}\n"
      ],
      "text/markdown": [
       "\n",
       "| 사번 | 이름 | 급여 |\n",
       "|---|---|---|\n",
       "| 101  | hong | 150  |\n",
       "| 201  | lee  | 250  |\n",
       "| 301  | kim  | 300  |\n",
       "\n"
      ],
      "text/plain": [
       "  사번 이름 급여\n",
       "1 101  hong 150 \n",
       "2 201  lee  250 \n",
       "3 301  kim  300 "
      ]
     },
     "metadata": {},
     "output_type": "display_data"
    }
   ],
   "source": [
    "# txt File 불러오기\n",
    " txtEmp <- read.table(\"../Data/emp.txt\",header = T,sep = \"/\",stringsAsFactors = F)\n",
    "txtEmp"
   ]
  },
  {
   "cell_type": "code",
   "execution_count": 62,
   "metadata": {
    "vscode": {
     "languageId": "r"
    }
   },
   "outputs": [
    {
     "name": "stdout",
     "output_type": "stream",
     "text": [
      "'data.frame':\t3 obs. of  3 variables:\n",
      " $ 사번: int  101 201 301\n",
      " $ 이름: chr  \"hong\" \"lee\" \"kim\"\n",
      " $ 급여: int  150 250 300\n"
     ]
    }
   ],
   "source": [
    "str(txtEmp)"
   ]
  },
  {
   "cell_type": "code",
   "execution_count": 76,
   "metadata": {
    "vscode": {
     "languageId": "r"
    }
   },
   "outputs": [
    {
     "data": {
      "text/html": [
       "<table>\n",
       "<thead><tr><th scope=col>사번</th><th scope=col>이름</th><th scope=col>급여</th></tr></thead>\n",
       "<tbody>\n",
       "\t<tr><td>101   </td><td>홍길동</td><td>150   </td></tr>\n",
       "\t<tr><td>102   </td><td>이순신</td><td>450   </td></tr>\n",
       "\t<tr><td>103   </td><td>강감찬</td><td>500   </td></tr>\n",
       "\t<tr><td>104   </td><td>유관순</td><td>350   </td></tr>\n",
       "\t<tr><td>105   </td><td>김유신</td><td>400   </td></tr>\n",
       "</tbody>\n",
       "</table>\n"
      ],
      "text/latex": [
       "\\begin{tabular}{r|lll}\n",
       " 사번 & 이름 & 급여\\\\\n",
       "\\hline\n",
       "\t 101    & 홍길동 & 150   \\\\\n",
       "\t 102    & 이순신 & 450   \\\\\n",
       "\t 103    & 강감찬 & 500   \\\\\n",
       "\t 104    & 유관순 & 350   \\\\\n",
       "\t 105    & 김유신 & 400   \\\\\n",
       "\\end{tabular}\n"
      ],
      "text/markdown": [
       "\n",
       "| 사번 | 이름 | 급여 |\n",
       "|---|---|---|\n",
       "| 101    | 홍길동 | 150    |\n",
       "| 102    | 이순신 | 450    |\n",
       "| 103    | 강감찬 | 500    |\n",
       "| 104    | 유관순 | 350    |\n",
       "| 105    | 김유신 | 400    |\n",
       "\n"
      ],
      "text/plain": [
       "  사번 이름   급여\n",
       "1 101  홍길동 150 \n",
       "2 102  이순신 450 \n",
       "3 103  강감찬 500 \n",
       "4 104  유관순 350 \n",
       "5 105  김유신 400 "
      ]
     },
     "metadata": {},
     "output_type": "display_data"
    }
   ],
   "source": [
    "# csv(Comma Seperated Value)\n",
    "csvEmp <- read.csv(\"../Data/emp2.csv\",header = F,stringsAsFactors = F)\n",
    "# 사번, 이름 ,급여로 칼럼 변경하기\n",
    "colnames(csvEmp) <- c('사번','이름','급여')\n",
    "csvEmp"
   ]
  },
  {
   "cell_type": "code",
   "execution_count": 77,
   "metadata": {
    "vscode": {
     "languageId": "r"
    }
   },
   "outputs": [
    {
     "name": "stdout",
     "output_type": "stream",
     "text": [
      "'data.frame':\t5 obs. of  3 variables:\n",
      " $ 사번: int  101 102 103 104 105\n",
      " $ 이름: chr  \"홍길동\" \"이순신\" \"강감찬\" \"유관순\" ...\n",
      " $ 급여: int  150 450 500 350 400\n"
     ]
    }
   ],
   "source": [
    "str(csvEmp)"
   ]
  },
  {
   "cell_type": "code",
   "execution_count": null,
   "metadata": {
    "vscode": {
     "languageId": "r"
    }
   },
   "outputs": [],
   "source": [
    "실험2"
   ]
  }
 ],
 "metadata": {
  "kernelspec": {
   "display_name": "R",
   "language": "R",
   "name": "ir"
  },
  "language_info": {
   "codemirror_mode": "r",
   "file_extension": ".r",
   "mimetype": "text/x-r-source",
   "name": "R",
   "pygments_lexer": "r",
   "version": "3.6.1"
  }
 },
 "nbformat": 4,
 "nbformat_minor": 2
}
