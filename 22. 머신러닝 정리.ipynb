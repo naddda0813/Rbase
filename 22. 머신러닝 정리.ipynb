{
 "cells": [
  {
   "cell_type": "code",
   "execution_count": 7,
   "metadata": {
    "vscode": {
     "languageId": "r"
    }
   },
   "outputs": [],
   "source": [
    "library(nnet)\n",
    "library(party)\n",
    "library(randomForest)\n",
    "library(e1071)"
   ]
  },
  {
   "cell_type": "code",
   "execution_count": 33,
   "metadata": {
    "vscode": {
     "languageId": "r"
    }
   },
   "outputs": [],
   "source": [
    "# 데이터 \n",
    "library(caret)\n",
    "set.seed(1234)\n",
    "samp2 <- createDataPartition(iris$Species,p=0.7,list=F)\n",
    "data.tr <- iris[samp,]\n",
    "data.test <- iris[-samp,]  \n",
    "# 문제 및 정답 만들기 \n",
    "x <- subset(data.test, select = -Species)\n",
    "y <- data.test$Species "
   ]
  },
  {
   "cell_type": "code",
   "execution_count": 35,
   "metadata": {
    "vscode": {
     "languageId": "r"
    }
   },
   "outputs": [],
   "source": [
    "# 인공신경망\n",
    "\n",
    "인공신경망<- function() {\n",
    "result <- c()\n",
    "for(i in 1:5 )  {\n",
    "model.nnet<- nnet(Species ~ ., data =data.tr,size=3)\n",
    "pred1 <- predict(model.nnet,x, type = \"class\") # class : 분류된것(객관식), raw : 주관식\n",
    "result <- append(result,mean(pred1 == y))\n",
    "}\n",
    "mean(result)\n",
    "}"
   ]
  },
  {
   "cell_type": "code",
   "execution_count": 36,
   "metadata": {
    "vscode": {
     "languageId": "r"
    }
   },
   "outputs": [],
   "source": [
    "# 의사결정나무\n",
    "\n",
    "의사결정나무 <- function() {\n",
    "\n",
    "result <- c()\n",
    "for(i in 1:5) {\n",
    "model.ctree <- ctree(Species ~., data=data.tr)\n",
    "pred2 <- predict(model.ctree,x)\n",
    "result <- append(result,mean(pred2 == y ))\n",
    "}\n",
    "mean(result)\n",
    "}"
   ]
  },
  {
   "cell_type": "code",
   "execution_count": 37,
   "metadata": {
    "vscode": {
     "languageId": "r"
    }
   },
   "outputs": [],
   "source": [
    "# randomForest\n",
    "\n",
    "랜덤포레스트  <- function() {\n",
    "result <- c()\n",
    "for(i in 1:5) {\n",
    "# 학습시키기\n",
    "model.rf<- randomForest(Species ~ .,data = data.tr,ntree = 100)\n",
    "# 검증\n",
    "pred <- predict(model.rf,x)\n",
    "# 예측력\n",
    "result<- append(result,mean(pred == y))\n",
    "}\n",
    "mean(result)\n",
    "}"
   ]
  },
  {
   "cell_type": "code",
   "execution_count": 38,
   "metadata": {
    "vscode": {
     "languageId": "r"
    }
   },
   "outputs": [],
   "source": [
    "# SVM \n",
    "SVM <- function() {\n",
    "result <- c()\n",
    "for(i in 1:5) {\n",
    "model.svm = svm(Species ~., data=data.tr)\n",
    "pred <- predict(model.svm,x)\n",
    "result <- append(result,mean(pred ==  y))\n",
    "}\n",
    "mean(result)\n",
    "}"
   ]
  },
  {
   "cell_type": "code",
   "execution_count": 39,
   "metadata": {
    "vscode": {
     "languageId": "r"
    }
   },
   "outputs": [],
   "source": [
    "# 로지스틱회귀분석\n",
    "로지스틱회귀분석 <- function() {\n",
    "    \n",
    "result <- c()\n",
    "for(i in 1:5) {\n",
    "# 학습시키기\n",
    "model <- multinom(Species ~.,data=data.tr)\n",
    "#검증하기\n",
    "pred <- predict(model,x)\n",
    "result <- append(result,mean(pred ==  y))\n",
    "}\n",
    "mean(result)\n",
    "}"
   ]
  },
  {
   "cell_type": "code",
   "execution_count": 43,
   "metadata": {
    "vscode": {
     "languageId": "r"
    }
   },
   "outputs": [
    {
     "name": "stdout",
     "output_type": "stream",
     "text": [
      "# weights:  27\n",
      "initial  value 132.332775 \n",
      "iter  10 value 47.995694\n",
      "iter  20 value 0.306002\n",
      "iter  30 value 0.003855\n",
      "iter  40 value 0.000335\n",
      "iter  50 value 0.000167\n",
      "final  value 0.000081 \n",
      "converged\n",
      "# weights:  27\n",
      "initial  value 127.906727 \n",
      "iter  10 value 75.991070\n",
      "iter  20 value 1.113562\n",
      "iter  30 value 0.007345\n",
      "final  value 0.000095 \n",
      "converged\n",
      "# weights:  27\n",
      "initial  value 119.304008 \n",
      "iter  10 value 69.205549\n",
      "iter  20 value 0.181325\n",
      "iter  30 value 0.000165\n",
      "iter  30 value 0.000084\n",
      "iter  30 value 0.000070\n",
      "final  value 0.000070 \n",
      "converged\n",
      "# weights:  27\n",
      "initial  value 125.062823 \n",
      "iter  10 value 48.646378\n",
      "iter  20 value 45.749635\n",
      "iter  30 value 2.661293\n",
      "iter  40 value 0.017774\n",
      "iter  50 value 0.003441\n",
      "iter  60 value 0.001668\n",
      "iter  70 value 0.000150\n",
      "iter  80 value 0.000130\n",
      "final  value 0.000081 \n",
      "converged\n",
      "# weights:  27\n",
      "initial  value 153.442805 \n",
      "iter  10 value 93.433072\n",
      "iter  20 value 0.512919\n",
      "iter  30 value 0.001599\n",
      "iter  40 value 0.000153\n",
      "final  value 0.000067 \n",
      "converged\n",
      "# weights:  18 (10 variable)\n",
      "initial  value 115.354290 \n",
      "iter  10 value 10.451001\n",
      "iter  20 value 0.395906\n",
      "iter  30 value 0.063643\n",
      "iter  40 value 0.032814\n",
      "iter  50 value 0.023376\n",
      "iter  60 value 0.021200\n",
      "iter  70 value 0.019040\n",
      "iter  80 value 0.017101\n",
      "iter  90 value 0.012218\n",
      "iter 100 value 0.011383\n",
      "final  value 0.011383 \n",
      "stopped after 100 iterations\n",
      "# weights:  18 (10 variable)\n",
      "initial  value 115.354290 \n",
      "iter  10 value 10.451001\n",
      "iter  20 value 0.395906\n",
      "iter  30 value 0.063643\n",
      "iter  40 value 0.032814\n",
      "iter  50 value 0.023376\n",
      "iter  60 value 0.021200\n",
      "iter  70 value 0.019040\n",
      "iter  80 value 0.017101\n",
      "iter  90 value 0.012218\n",
      "iter 100 value 0.011383\n",
      "final  value 0.011383 \n",
      "stopped after 100 iterations\n",
      "# weights:  18 (10 variable)\n",
      "initial  value 115.354290 \n",
      "iter  10 value 10.451001\n",
      "iter  20 value 0.395906\n",
      "iter  30 value 0.063643\n",
      "iter  40 value 0.032814\n",
      "iter  50 value 0.023376\n",
      "iter  60 value 0.021200\n",
      "iter  70 value 0.019040\n",
      "iter  80 value 0.017101\n",
      "iter  90 value 0.012218\n",
      "iter 100 value 0.011383\n",
      "final  value 0.011383 \n",
      "stopped after 100 iterations\n",
      "# weights:  18 (10 variable)\n",
      "initial  value 115.354290 \n",
      "iter  10 value 10.451001\n",
      "iter  20 value 0.395906\n",
      "iter  30 value 0.063643\n",
      "iter  40 value 0.032814\n",
      "iter  50 value 0.023376\n",
      "iter  60 value 0.021200\n",
      "iter  70 value 0.019040\n",
      "iter  80 value 0.017101\n",
      "iter  90 value 0.012218\n",
      "iter 100 value 0.011383\n",
      "final  value 0.011383 \n",
      "stopped after 100 iterations\n",
      "# weights:  18 (10 variable)\n",
      "initial  value 115.354290 \n",
      "iter  10 value 10.451001\n",
      "iter  20 value 0.395906\n",
      "iter  30 value 0.063643\n",
      "iter  40 value 0.032814\n",
      "iter  50 value 0.023376\n",
      "iter  60 value 0.021200\n",
      "iter  70 value 0.019040\n",
      "iter  80 value 0.017101\n",
      "iter  90 value 0.012218\n",
      "iter 100 value 0.011383\n",
      "final  value 0.011383 \n",
      "stopped after 100 iterations\n"
     ]
    },
    {
     "data": {
      "text/html": [
       "<table>\n",
       "<thead><tr><th></th><th scope=col>예측력</th></tr></thead>\n",
       "<tbody>\n",
       "\t<tr><th scope=row>인공신경망</th><td>0.9333333</td></tr>\n",
       "\t<tr><th scope=row>의사결정나무</th><td>0.8888889</td></tr>\n",
       "\t<tr><th scope=row>랜덤포레스트</th><td>0.9333333</td></tr>\n",
       "\t<tr><th scope=row>SVM</th><td>0.9333333</td></tr>\n",
       "\t<tr><th scope=row>로지스틱회귀분석</th><td>0.9333333</td></tr>\n",
       "</tbody>\n",
       "</table>\n"
      ],
      "text/latex": [
       "\\begin{tabular}{r|l}\n",
       "  & 예측력\\\\\n",
       "\\hline\n",
       "\t인공신경망 & 0.9333333\\\\\n",
       "\t의사결정나무 & 0.8888889\\\\\n",
       "\t랜덤포레스트 & 0.9333333\\\\\n",
       "\tSVM & 0.9333333\\\\\n",
       "\t로지스틱회귀분석 & 0.9333333\\\\\n",
       "\\end{tabular}\n"
      ],
      "text/markdown": [
       "\n",
       "| <!--/--> | 예측력 |\n",
       "|---|---|\n",
       "| 인공신경망 | 0.9333333 |\n",
       "| 의사결정나무 | 0.8888889 |\n",
       "| 랜덤포레스트 | 0.9333333 |\n",
       "| SVM | 0.9333333 |\n",
       "| 로지스틱회귀분석 | 0.9333333 |\n",
       "\n"
      ],
      "text/plain": [
       "                 예측력   \n",
       "인공신경망       0.9333333\n",
       "의사결정나무     0.8888889\n",
       "랜덤포레스트     0.9333333\n",
       "SVM              0.9333333\n",
       "로지스틱회귀분석 0.9333333"
      ]
     },
     "metadata": {},
     "output_type": "display_data"
    }
   ],
   "source": [
    "# 하나의 함수로 만들기 \n",
    "ML_예측력 <- data.frame(예측력 = c(인공신경망(),의사결정나무(),랜덤포레스트(),SVM(),로지스틱회귀분석()))\n",
    "rownames(ML_예측력) <- c('인공신경망','의사결정나무','랜덤포레스트','SVM','로지스틱회귀분석')\n",
    "ML_예측력 "
   ]
  },
  {
   "cell_type": "code",
   "execution_count": null,
   "metadata": {
    "vscode": {
     "languageId": "r"
    }
   },
   "outputs": [],
   "source": []
  }
 ],
 "metadata": {
  "kernelspec": {
   "display_name": "R",
   "language": "R",
   "name": "ir"
  },
  "language_info": {
   "codemirror_mode": "r",
   "file_extension": ".r",
   "mimetype": "text/x-r-source",
   "name": "R",
   "pygments_lexer": "r",
   "version": "3.6.1"
  }
 },
 "nbformat": 4,
 "nbformat_minor": 2
}
