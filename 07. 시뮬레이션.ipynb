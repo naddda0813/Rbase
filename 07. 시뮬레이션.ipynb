{
 "cells": [
  {
   "cell_type": "markdown",
   "metadata": {},
   "source": [
    "--- \n",
    "# 몬테카를로 시뮬레이션\n",
    "## 동전의 앞면과 뒷면의 시뮬레이션"
   ]
  },
  {
   "cell_type": "code",
   "execution_count": 5,
   "metadata": {
    "vscode": {
     "languageId": "r"
    }
   },
   "outputs": [
    {
     "name": "stdout",
     "output_type": "stream",
     "text": [
      "[1] 1\n"
     ]
    }
   ],
   "source": [
    "x <- runif(1)\n",
    "if(x <= 1/2 ) {\n",
    "    result = 0 # 앞면\n",
    "} else {\n",
    "    result = 1 #뒷면\n",
    "}\n",
    "\n",
    "print(result)"
   ]
  },
  {
   "cell_type": "code",
   "execution_count": 11,
   "metadata": {
    "vscode": {
     "languageId": "r"
    }
   },
   "outputs": [],
   "source": [
    "coin <- function(n){\n",
    "    count1 = 0  # 앞면 데이터 \n",
    "    count2 = 0  # 뒷면 데이터 \n",
    "    for(i in 1:n) {\n",
    "        if(runif(1) <= 1/2 ){\n",
    "            count1 =count1 +1\n",
    "        } else {\n",
    "            count2 =count2 +1\n",
    "        }\n",
    "    }\n",
    "    cat(\"앞면 :\",count1,\"\\n\")\n",
    "    cat(\"뒷면 :\",count2,\"\\n\")\n",
    "    cat(\"-------------\\n\")\n",
    "}"
   ]
  },
  {
   "cell_type": "code",
   "execution_count": 12,
   "metadata": {
    "vscode": {
     "languageId": "r"
    }
   },
   "outputs": [
    {
     "name": "stdout",
     "output_type": "stream",
     "text": [
      "앞면 : 7 \n",
      "뒷면 : 3 \n",
      "-------------\n",
      "앞면 : 48 \n",
      "뒷면 : 52 \n",
      "-------------\n",
      "앞면 : 499 \n",
      "뒷면 : 501 \n",
      "-------------\n",
      "앞면 : 5035 \n",
      "뒷면 : 4965 \n",
      "-------------\n",
      "앞면 : 49891 \n",
      "뒷면 : 50109 \n",
      "-------------\n",
      "앞면 : 500378 \n",
      "뒷면 : 499622 \n",
      "-------------\n"
     ]
    }
   ],
   "source": [
    "coin(10)\n",
    "coin(100)\n",
    "coin(1000)\n",
    "coin(10000)\n",
    "coin(100000)\n",
    "coin(1000000)"
   ]
  },
  {
   "cell_type": "code",
   "execution_count": 2,
   "metadata": {
    "vscode": {
     "languageId": "r"
    }
   },
   "outputs": [],
   "source": [
    "# 가위 ,바위,보 시물레이션\n",
    " rock <-  function(n) {\n",
    "    scissor1 = 0  # 가위 누적시킬 변수\n",
    "    rock2 = 0  # 바위 누적시킬 변수\n",
    "    paper3 = 0  # 보 누적시킬 변수\n",
    "    for(i in 1:n) {\n",
    "    x <- trunc(runif(1) *3) + 1 # 조건문에 runif를 넣으면 if문과 else if의 다른 난수가발생 \n",
    "        if( x == 1) scissor1 = scissor1 +1 \n",
    "        if(x == 2) rock2 = rock2 +1\n",
    "        if(x == 3) paper3= paper3 +1\n",
    "    \n",
    "    }\n",
    "    cat(\"가위 :\",scissor1,\"\\n\")\n",
    "    cat(\"바위 :\",rock2,\"\\n\")\n",
    "    cat(\"보 :\",paper3,\"\\n\")\n",
    "    cat(\"-------------\\n\")\n",
    " }"
   ]
  },
  {
   "cell_type": "code",
   "execution_count": 31,
   "metadata": {
    "vscode": {
     "languageId": "r"
    }
   },
   "outputs": [
    {
     "name": "stdout",
     "output_type": "stream",
     "text": [
      "가위 : 2 \n",
      "바위 : 5 \n",
      "보 : 3 \n",
      "-------------\n",
      "가위 : 28 \n",
      "바위 : 32 \n",
      "보 : 40 \n",
      "-------------\n",
      "가위 : 343 \n",
      "바위 : 341 \n",
      "보 : 316 \n",
      "-------------\n",
      "가위 : 3368 \n",
      "바위 : 3336 \n",
      "보 : 3296 \n",
      "-------------\n",
      "가위 : 33177 \n",
      "바위 : 33073 \n",
      "보 : 33750 \n",
      "-------------\n",
      "가위 : 333109 \n",
      "바위 : 333548 \n",
      "보 : 333343 \n",
      "-------------\n"
     ]
    }
   ],
   "source": [
    "rock(10)\n",
    "rock(100)\n",
    "rock(1000)  # 1:1:1에 근접 \n",
    "rock(10000) \n",
    "rock(100000)\n",
    "rock(1000000)"
   ]
  },
  {
   "cell_type": "markdown",
   "metadata": {},
   "source": [
    "---\n",
    "# 주사위 시뮬레이션"
   ]
  },
  {
   "cell_type": "code",
   "execution_count": 3,
   "metadata": {
    "vscode": {
     "languageId": "r"
    }
   },
   "outputs": [],
   "source": [
    "# 주사위 시물레이션\n",
    " dice <-  function(n) {\n",
    "    result = c(rep(0,6))  #초기화 \n",
    "    for(i in 1:n) {\n",
    "        x <- trunc(runif(1) *6) + 1 # 조건문에 runif를 넣으면 if문과 else if의 다른 난수가발생 \n",
    "        result[x] = result[x] +1   #배열에 해당하는 자리에 결과값 널기\n",
    "    }\n",
    "        cat(n,\"실행\",\"\\n\")\n",
    "    for(i in 1:6) {         #숫자로 결과값이 나올 수 있어서 반복문 사용 \n",
    "         cat(\"no\",i,\":\",result[i] +1,\"\\n\")\n",
    "    }\n",
    "          cat(\"-------------\\n\")\n",
    " }"
   ]
  },
  {
   "cell_type": "code",
   "execution_count": 4,
   "metadata": {
    "vscode": {
     "languageId": "r"
    }
   },
   "outputs": [
    {
     "name": "stdout",
     "output_type": "stream",
     "text": [
      "10 실행 \n",
      "no 1 : 4 \n",
      "no 2 : 1 \n",
      "no 3 : 2 \n",
      "no 4 : 2 \n",
      "no 5 : 5 \n",
      "no 6 : 2 \n",
      "-------------\n",
      "100 실행 \n",
      "no 1 : 21 \n",
      "no 2 : 17 \n",
      "no 3 : 15 \n",
      "no 4 : 18 \n",
      "no 5 : 21 \n",
      "no 6 : 14 \n",
      "-------------\n",
      "1000 실행 \n",
      "no 1 : 160 \n",
      "no 2 : 166 \n",
      "no 3 : 168 \n",
      "no 4 : 194 \n",
      "no 5 : 156 \n",
      "no 6 : 162 \n",
      "-------------\n",
      "10000 실행 \n",
      "no 1 : 1727 \n",
      "no 2 : 1713 \n",
      "no 3 : 1626 \n",
      "no 4 : 1624 \n",
      "no 5 : 1636 \n",
      "no 6 : 1680 \n",
      "-------------\n",
      "100000 실행 \n",
      "no 1 : 16405 \n",
      "no 2 : 16874 \n",
      "no 3 : 16601 \n",
      "no 4 : 16624 \n",
      "no 5 : 16911 \n",
      "no 6 : 16591 \n",
      "-------------\n",
      "1000000 실행 \n",
      "no 1 : 166613 \n",
      "no 2 : 166447 \n",
      "no 3 : 167117 \n",
      "no 4 : 166455 \n",
      "no 5 : 166597 \n",
      "no 6 : 166777 \n",
      "-------------\n"
     ]
    }
   ],
   "source": [
    "dice(10)\n",
    "dice(100)\n",
    "dice(1000) \n",
    "dice(10000)  # 1:1:1에 근접 \n",
    "dice(100000)\n",
    "dice(1000000)"
   ]
  },
  {
   "cell_type": "code",
   "execution_count": 1,
   "metadata": {
    "vscode": {
     "languageId": "r"
    }
   },
   "outputs": [],
   "source": [
    "options(scipen = 100) # 지수 사용 안할시 "
   ]
  },
  {
   "cell_type": "code",
   "execution_count": null,
   "metadata": {
    "vscode": {
     "languageId": "r"
    }
   },
   "outputs": [],
   "source": []
  }
 ],
 "metadata": {
  "kernelspec": {
   "display_name": "R",
   "language": "R",
   "name": "ir"
  },
  "language_info": {
   "codemirror_mode": "r",
   "file_extension": ".r",
   "mimetype": "text/x-r-source",
   "name": "R",
   "pygments_lexer": "r",
   "version": "3.6.1"
  },
  "orig_nbformat": 4
 },
 "nbformat": 4,
 "nbformat_minor": 2
}
