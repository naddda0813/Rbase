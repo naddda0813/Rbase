{
 "cells": [
  {
   "cell_type": "code",
   "execution_count": 1,
   "id": "ea537f76",
   "metadata": {},
   "outputs": [],
   "source": [
    "# dataset 불러오기 (모델 학습에 사용한 최종 데이터셋 csv로 저장 후 불러오기)\n",
    "Cclass <- read.csv(\"../Data/benz_Cclass_final.csv\")\n",
    "Aclass <- read.csv(\"../Data/benz_Aclass_final.csv\")\n",
    "Eclass <- read.csv(\"../Data/benz_Eclass_final.csv\")"
   ]
  },
  {
   "cell_type": "code",
   "execution_count": 2,
   "id": "a8ed996c",
   "metadata": {},
   "outputs": [
    {
     "data": {
      "text/html": [
       "<table>\n",
       "<thead><tr><th scope=col>price</th><th scope=col>mileage</th><th scope=col>mpg</th><th scope=col>engineSize</th><th scope=col>age</th><th scope=col>Automatic</th><th scope=col>Manual</th><th scope=col>Semi_Auto</th><th scope=col>Diesel</th><th scope=col>Hybrid</th><th scope=col>Petrol</th></tr></thead>\n",
       "<tbody>\n",
       "\t<tr><td>1495  </td><td>119000</td><td>34.5  </td><td>1.8   </td><td>16    </td><td>0     </td><td>1     </td><td>0     </td><td>0     </td><td>0     </td><td>1     </td></tr>\n",
       "\t<tr><td>1495  </td><td> 13800</td><td>39.8  </td><td>2.7   </td><td>18    </td><td>1     </td><td>0     </td><td>0     </td><td>1     </td><td>0     </td><td>0     </td></tr>\n",
       "\t<tr><td>1780  </td><td>118000</td><td>41.5  </td><td>2.2   </td><td>16    </td><td>1     </td><td>0     </td><td>0     </td><td>1     </td><td>0     </td><td>0     </td></tr>\n",
       "\t<tr><td>2140  </td><td> 52700</td><td>31.4  </td><td>2.0   </td><td>18    </td><td>1     </td><td>0     </td><td>0     </td><td>0     </td><td>0     </td><td>1     </td></tr>\n",
       "\t<tr><td>2690  </td><td>109000</td><td>32.1  </td><td>1.8   </td><td>15    </td><td>1     </td><td>0     </td><td>0     </td><td>0     </td><td>0     </td><td>1     </td></tr>\n",
       "\t<tr><td>3200  </td><td> 86000</td><td>28.2  </td><td>3.5   </td><td>14    </td><td>1     </td><td>0     </td><td>0     </td><td>0     </td><td>0     </td><td>1     </td></tr>\n",
       "</tbody>\n",
       "</table>\n"
      ],
      "text/latex": [
       "\\begin{tabular}{r|lllllllllll}\n",
       " price & mileage & mpg & engineSize & age & Automatic & Manual & Semi\\_Auto & Diesel & Hybrid & Petrol\\\\\n",
       "\\hline\n",
       "\t 1495   & 119000 & 34.5   & 1.8    & 16     & 0      & 1      & 0      & 0      & 0      & 1     \\\\\n",
       "\t 1495   &  13800 & 39.8   & 2.7    & 18     & 1      & 0      & 0      & 1      & 0      & 0     \\\\\n",
       "\t 1780   & 118000 & 41.5   & 2.2    & 16     & 1      & 0      & 0      & 1      & 0      & 0     \\\\\n",
       "\t 2140   &  52700 & 31.4   & 2.0    & 18     & 1      & 0      & 0      & 0      & 0      & 1     \\\\\n",
       "\t 2690   & 109000 & 32.1   & 1.8    & 15     & 1      & 0      & 0      & 0      & 0      & 1     \\\\\n",
       "\t 3200   &  86000 & 28.2   & 3.5    & 14     & 1      & 0      & 0      & 0      & 0      & 1     \\\\\n",
       "\\end{tabular}\n"
      ],
      "text/markdown": [
       "\n",
       "| price | mileage | mpg | engineSize | age | Automatic | Manual | Semi_Auto | Diesel | Hybrid | Petrol |\n",
       "|---|---|---|---|---|---|---|---|---|---|---|\n",
       "| 1495   | 119000 | 34.5   | 1.8    | 16     | 0      | 1      | 0      | 0      | 0      | 1      |\n",
       "| 1495   |  13800 | 39.8   | 2.7    | 18     | 1      | 0      | 0      | 1      | 0      | 0      |\n",
       "| 1780   | 118000 | 41.5   | 2.2    | 16     | 1      | 0      | 0      | 1      | 0      | 0      |\n",
       "| 2140   |  52700 | 31.4   | 2.0    | 18     | 1      | 0      | 0      | 0      | 0      | 1      |\n",
       "| 2690   | 109000 | 32.1   | 1.8    | 15     | 1      | 0      | 0      | 0      | 0      | 1      |\n",
       "| 3200   |  86000 | 28.2   | 3.5    | 14     | 1      | 0      | 0      | 0      | 0      | 1      |\n",
       "\n"
      ],
      "text/plain": [
       "  price mileage mpg  engineSize age Automatic Manual Semi_Auto Diesel Hybrid\n",
       "1 1495  119000  34.5 1.8        16  0         1      0         0      0     \n",
       "2 1495   13800  39.8 2.7        18  1         0      0         1      0     \n",
       "3 1780  118000  41.5 2.2        16  1         0      0         1      0     \n",
       "4 2140   52700  31.4 2.0        18  1         0      0         0      0     \n",
       "5 2690  109000  32.1 1.8        15  1         0      0         0      0     \n",
       "6 3200   86000  28.2 3.5        14  1         0      0         0      0     \n",
       "  Petrol\n",
       "1 1     \n",
       "2 0     \n",
       "3 0     \n",
       "4 1     \n",
       "5 1     \n",
       "6 1     "
      ]
     },
     "metadata": {},
     "output_type": "display_data"
    }
   ],
   "source": [
    "head(Cclass)"
   ]
  },
  {
   "cell_type": "code",
   "execution_count": 3,
   "id": "305fd796",
   "metadata": {},
   "outputs": [
    {
     "data": {
      "text/html": [
       "<table>\n",
       "<thead><tr><th scope=col>price</th><th scope=col>mileage</th><th scope=col>mpg</th><th scope=col>engineSize</th><th scope=col>age</th><th scope=col>Automatic</th><th scope=col>Manual</th><th scope=col>Semi_Auto</th><th scope=col>Diesel</th><th scope=col>Petrol</th></tr></thead>\n",
       "<tbody>\n",
       "\t<tr><td>10090</td><td>45130</td><td>49.6 </td><td>1.6  </td><td>7    </td><td>0    </td><td>1    </td><td>0    </td><td>0    </td><td>1    </td></tr>\n",
       "\t<tr><td>10122</td><td>49517</td><td>72.4 </td><td>1.5  </td><td>7    </td><td>0    </td><td>1    </td><td>0    </td><td>1    </td><td>0    </td></tr>\n",
       "\t<tr><td>10171</td><td>80870</td><td>70.6 </td><td>1.5  </td><td>6    </td><td>0    </td><td>1    </td><td>0    </td><td>1    </td><td>0    </td></tr>\n",
       "\t<tr><td>10190</td><td>32457</td><td>51.4 </td><td>1.6  </td><td>7    </td><td>0    </td><td>1    </td><td>0    </td><td>0    </td><td>1    </td></tr>\n",
       "\t<tr><td>10199</td><td>39750</td><td>72.4 </td><td>1.5  </td><td>7    </td><td>0    </td><td>1    </td><td>0    </td><td>1    </td><td>0    </td></tr>\n",
       "\t<tr><td>10241</td><td>54587</td><td>62.8 </td><td>1.8  </td><td>7    </td><td>0    </td><td>1    </td><td>0    </td><td>1    </td><td>0    </td></tr>\n",
       "</tbody>\n",
       "</table>\n"
      ],
      "text/latex": [
       "\\begin{tabular}{r|llllllllll}\n",
       " price & mileage & mpg & engineSize & age & Automatic & Manual & Semi\\_Auto & Diesel & Petrol\\\\\n",
       "\\hline\n",
       "\t 10090 & 45130 & 49.6  & 1.6   & 7     & 0     & 1     & 0     & 0     & 1    \\\\\n",
       "\t 10122 & 49517 & 72.4  & 1.5   & 7     & 0     & 1     & 0     & 1     & 0    \\\\\n",
       "\t 10171 & 80870 & 70.6  & 1.5   & 6     & 0     & 1     & 0     & 1     & 0    \\\\\n",
       "\t 10190 & 32457 & 51.4  & 1.6   & 7     & 0     & 1     & 0     & 0     & 1    \\\\\n",
       "\t 10199 & 39750 & 72.4  & 1.5   & 7     & 0     & 1     & 0     & 1     & 0    \\\\\n",
       "\t 10241 & 54587 & 62.8  & 1.8   & 7     & 0     & 1     & 0     & 1     & 0    \\\\\n",
       "\\end{tabular}\n"
      ],
      "text/markdown": [
       "\n",
       "| price | mileage | mpg | engineSize | age | Automatic | Manual | Semi_Auto | Diesel | Petrol |\n",
       "|---|---|---|---|---|---|---|---|---|---|\n",
       "| 10090 | 45130 | 49.6  | 1.6   | 7     | 0     | 1     | 0     | 0     | 1     |\n",
       "| 10122 | 49517 | 72.4  | 1.5   | 7     | 0     | 1     | 0     | 1     | 0     |\n",
       "| 10171 | 80870 | 70.6  | 1.5   | 6     | 0     | 1     | 0     | 1     | 0     |\n",
       "| 10190 | 32457 | 51.4  | 1.6   | 7     | 0     | 1     | 0     | 0     | 1     |\n",
       "| 10199 | 39750 | 72.4  | 1.5   | 7     | 0     | 1     | 0     | 1     | 0     |\n",
       "| 10241 | 54587 | 62.8  | 1.8   | 7     | 0     | 1     | 0     | 1     | 0     |\n",
       "\n"
      ],
      "text/plain": [
       "  price mileage mpg  engineSize age Automatic Manual Semi_Auto Diesel Petrol\n",
       "1 10090 45130   49.6 1.6        7   0         1      0         0      1     \n",
       "2 10122 49517   72.4 1.5        7   0         1      0         1      0     \n",
       "3 10171 80870   70.6 1.5        6   0         1      0         1      0     \n",
       "4 10190 32457   51.4 1.6        7   0         1      0         0      1     \n",
       "5 10199 39750   72.4 1.5        7   0         1      0         1      0     \n",
       "6 10241 54587   62.8 1.8        7   0         1      0         1      0     "
      ]
     },
     "metadata": {},
     "output_type": "display_data"
    }
   ],
   "source": [
    "head(Aclass)"
   ]
  },
  {
   "cell_type": "code",
   "execution_count": 4,
   "id": "e635be1b",
   "metadata": {},
   "outputs": [
    {
     "data": {
      "text/html": [
       "<table>\n",
       "<thead><tr><th scope=col>price</th><th scope=col>mileage</th><th scope=col>mpg</th><th scope=col>engineSize</th><th scope=col>age</th><th scope=col>Automatic</th><th scope=col>Manual</th><th scope=col>Semi_Auto</th><th scope=col>Diesel</th><th scope=col>Hybrid</th><th scope=col>Petrol</th></tr></thead>\n",
       "<tbody>\n",
       "\t<tr><td>3485 </td><td>79191</td><td>32.5 </td><td>1.8  </td><td>15   </td><td>1    </td><td>0    </td><td>0    </td><td>0    </td><td>0    </td><td>1    </td></tr>\n",
       "\t<tr><td>3990 </td><td>60997</td><td>29.4 </td><td>2.0  </td><td>19   </td><td>1    </td><td>0    </td><td>0    </td><td>0    </td><td>0    </td><td>1    </td></tr>\n",
       "\t<tr><td>3995 </td><td>73000</td><td>32.5 </td><td>1.8  </td><td>15   </td><td>1    </td><td>0    </td><td>0    </td><td>0    </td><td>0    </td><td>1    </td></tr>\n",
       "\t<tr><td>4880 </td><td>58000</td><td>37.2 </td><td>3.0  </td><td>13   </td><td>1    </td><td>0    </td><td>0    </td><td>1    </td><td>0    </td><td>0    </td></tr>\n",
       "\t<tr><td>4950 </td><td>99844</td><td>27.7 </td><td>3.0  </td><td>11   </td><td>1    </td><td>0    </td><td>0    </td><td>1    </td><td>0    </td><td>0    </td></tr>\n",
       "\t<tr><td>6794 </td><td>69173</td><td>45.6 </td><td>2.1  </td><td>10   </td><td>1    </td><td>0    </td><td>0    </td><td>1    </td><td>0    </td><td>0    </td></tr>\n",
       "</tbody>\n",
       "</table>\n"
      ],
      "text/latex": [
       "\\begin{tabular}{r|lllllllllll}\n",
       " price & mileage & mpg & engineSize & age & Automatic & Manual & Semi\\_Auto & Diesel & Hybrid & Petrol\\\\\n",
       "\\hline\n",
       "\t 3485  & 79191 & 32.5  & 1.8   & 15    & 1     & 0     & 0     & 0     & 0     & 1    \\\\\n",
       "\t 3990  & 60997 & 29.4  & 2.0   & 19    & 1     & 0     & 0     & 0     & 0     & 1    \\\\\n",
       "\t 3995  & 73000 & 32.5  & 1.8   & 15    & 1     & 0     & 0     & 0     & 0     & 1    \\\\\n",
       "\t 4880  & 58000 & 37.2  & 3.0   & 13    & 1     & 0     & 0     & 1     & 0     & 0    \\\\\n",
       "\t 4950  & 99844 & 27.7  & 3.0   & 11    & 1     & 0     & 0     & 1     & 0     & 0    \\\\\n",
       "\t 6794  & 69173 & 45.6  & 2.1   & 10    & 1     & 0     & 0     & 1     & 0     & 0    \\\\\n",
       "\\end{tabular}\n"
      ],
      "text/markdown": [
       "\n",
       "| price | mileage | mpg | engineSize | age | Automatic | Manual | Semi_Auto | Diesel | Hybrid | Petrol |\n",
       "|---|---|---|---|---|---|---|---|---|---|---|\n",
       "| 3485  | 79191 | 32.5  | 1.8   | 15    | 1     | 0     | 0     | 0     | 0     | 1     |\n",
       "| 3990  | 60997 | 29.4  | 2.0   | 19    | 1     | 0     | 0     | 0     | 0     | 1     |\n",
       "| 3995  | 73000 | 32.5  | 1.8   | 15    | 1     | 0     | 0     | 0     | 0     | 1     |\n",
       "| 4880  | 58000 | 37.2  | 3.0   | 13    | 1     | 0     | 0     | 1     | 0     | 0     |\n",
       "| 4950  | 99844 | 27.7  | 3.0   | 11    | 1     | 0     | 0     | 1     | 0     | 0     |\n",
       "| 6794  | 69173 | 45.6  | 2.1   | 10    | 1     | 0     | 0     | 1     | 0     | 0     |\n",
       "\n"
      ],
      "text/plain": [
       "  price mileage mpg  engineSize age Automatic Manual Semi_Auto Diesel Hybrid\n",
       "1 3485  79191   32.5 1.8        15  1         0      0         0      0     \n",
       "2 3990  60997   29.4 2.0        19  1         0      0         0      0     \n",
       "3 3995  73000   32.5 1.8        15  1         0      0         0      0     \n",
       "4 4880  58000   37.2 3.0        13  1         0      0         1      0     \n",
       "5 4950  99844   27.7 3.0        11  1         0      0         1      0     \n",
       "6 6794  69173   45.6 2.1        10  1         0      0         1      0     \n",
       "  Petrol\n",
       "1 1     \n",
       "2 1     \n",
       "3 1     \n",
       "4 0     \n",
       "5 0     \n",
       "6 0     "
      ]
     },
     "metadata": {},
     "output_type": "display_data"
    }
   ],
   "source": [
    "head(Eclass)"
   ]
  },
  {
   "cell_type": "code",
   "execution_count": 5,
   "id": "fb3ad9a6",
   "metadata": {},
   "outputs": [
    {
     "name": "stderr",
     "output_type": "stream",
     "text": [
      "\n",
      "Attaching package: ‘dplyr’\n",
      "\n",
      "The following objects are masked from ‘package:stats’:\n",
      "\n",
      "    filter, lag\n",
      "\n",
      "The following objects are masked from ‘package:base’:\n",
      "\n",
      "    intersect, setdiff, setequal, union\n",
      "\n"
     ]
    }
   ],
   "source": [
    "# 데이터 정제 \n",
    "library(dplyr)"
   ]
  },
  {
   "cell_type": "code",
   "execution_count": 6,
   "id": "5488e252",
   "metadata": {},
   "outputs": [
    {
     "name": "stdout",
     "output_type": "stream",
     "text": [
      "'data.frame':\t3520 obs. of  11 variables:\n",
      " $ price     : int  1495 1495 1780 2140 2690 3200 3495 3690 3790 3890 ...\n",
      " $ mileage   : int  119000 13800 118000 52700 109000 86000 119168 101000 99000 87000 ...\n",
      " $ mpg       : num  34.5 39.8 41.5 31.4 32.1 28.2 33.6 41.5 28.8 32.5 ...\n",
      " $ engineSize: num  1.8 2.7 2.2 2 1.8 3.5 1.8 2.2 2.5 1.8 ...\n",
      " $ age       : int  16 18 16 18 15 14 13 14 13 13 ...\n",
      " $ Automatic : int  0 1 1 1 1 1 1 1 1 1 ...\n",
      " $ Manual    : int  1 0 0 0 0 0 0 0 0 0 ...\n",
      " $ Semi_Auto : int  0 0 0 0 0 0 0 0 0 0 ...\n",
      " $ Diesel    : int  0 1 1 0 0 0 0 1 0 0 ...\n",
      " $ Hybrid    : int  0 0 0 0 0 0 0 0 0 0 ...\n",
      " $ Petrol    : int  1 0 0 1 1 1 1 0 1 1 ...\n"
     ]
    }
   ],
   "source": [
    "str(Cclass)"
   ]
  },
  {
   "cell_type": "code",
   "execution_count": 7,
   "id": "f6412bbf",
   "metadata": {},
   "outputs": [],
   "source": [
    "# transmission 컬럼 생성 \n",
    "Cclass$transmission <- ifelse(Cclass$Automatic == 1, 'Automatic', ifelse(Cclass$Manual == 1, 'Manual','Semi_Auto'))\n",
    "Aclass$transmission <- ifelse(Aclass$Automatic == 1, 'Automatic', ifelse(Aclass$Manual == 1, 'Manual','Semi_Auto'))\n",
    "Eclass$transmission <- ifelse(Eclass$Automatic == 1, 'Automatic', ifelse(Eclass$Manual == 1, 'Manual','Semi_Auto'))"
   ]
  },
  {
   "cell_type": "code",
   "execution_count": 8,
   "id": "147485bf",
   "metadata": {},
   "outputs": [],
   "source": [
    "# fuelType 컬럼 생성 \n",
    "Cclass$fuelType <- ifelse(Cclass$Diesel == 1, 'Diesel', ifelse(Cclass$Hybrid == 1, 'Hybrid','Petrol'))\n",
    "Aclass$fuelType <- ifelse(Aclass$Diesel == 1, 'Diesel','Petrol')\n",
    "Eclass$fuelType <- ifelse(Eclass$Diesel == 1, 'Diesel', ifelse(Eclass$Hybrid == 1, 'Hybrid','Petrol'))"
   ]
  },
  {
   "cell_type": "code",
   "execution_count": 15,
   "id": "70c9ede1",
   "metadata": {},
   "outputs": [
    {
     "data": {
      "text/html": [
       "<table>\n",
       "<thead><tr><th scope=col>price</th><th scope=col>mileage</th><th scope=col>mpg</th><th scope=col>engineSize</th><th scope=col>age</th><th scope=col>transmission</th><th scope=col>fuelType</th></tr></thead>\n",
       "<tbody>\n",
       "\t<tr><td>1495     </td><td>119000   </td><td>34.5     </td><td>1.8      </td><td>16       </td><td>Manual   </td><td>Petrol   </td></tr>\n",
       "\t<tr><td>1495     </td><td> 13800   </td><td>39.8     </td><td>2.7      </td><td>18       </td><td>Automatic</td><td>Diesel   </td></tr>\n",
       "\t<tr><td>1780     </td><td>118000   </td><td>41.5     </td><td>2.2      </td><td>16       </td><td>Automatic</td><td>Diesel   </td></tr>\n",
       "\t<tr><td>2140     </td><td> 52700   </td><td>31.4     </td><td>2.0      </td><td>18       </td><td>Automatic</td><td>Petrol   </td></tr>\n",
       "\t<tr><td>2690     </td><td>109000   </td><td>32.1     </td><td>1.8      </td><td>15       </td><td>Automatic</td><td>Petrol   </td></tr>\n",
       "\t<tr><td>3200     </td><td> 86000   </td><td>28.2     </td><td>3.5      </td><td>14       </td><td>Automatic</td><td>Petrol   </td></tr>\n",
       "</tbody>\n",
       "</table>\n"
      ],
      "text/latex": [
       "\\begin{tabular}{r|lllllll}\n",
       " price & mileage & mpg & engineSize & age & transmission & fuelType\\\\\n",
       "\\hline\n",
       "\t 1495      & 119000    & 34.5      & 1.8       & 16        & Manual    & Petrol   \\\\\n",
       "\t 1495      &  13800    & 39.8      & 2.7       & 18        & Automatic & Diesel   \\\\\n",
       "\t 1780      & 118000    & 41.5      & 2.2       & 16        & Automatic & Diesel   \\\\\n",
       "\t 2140      &  52700    & 31.4      & 2.0       & 18        & Automatic & Petrol   \\\\\n",
       "\t 2690      & 109000    & 32.1      & 1.8       & 15        & Automatic & Petrol   \\\\\n",
       "\t 3200      &  86000    & 28.2      & 3.5       & 14        & Automatic & Petrol   \\\\\n",
       "\\end{tabular}\n"
      ],
      "text/markdown": [
       "\n",
       "| price | mileage | mpg | engineSize | age | transmission | fuelType |\n",
       "|---|---|---|---|---|---|---|\n",
       "| 1495      | 119000    | 34.5      | 1.8       | 16        | Manual    | Petrol    |\n",
       "| 1495      |  13800    | 39.8      | 2.7       | 18        | Automatic | Diesel    |\n",
       "| 1780      | 118000    | 41.5      | 2.2       | 16        | Automatic | Diesel    |\n",
       "| 2140      |  52700    | 31.4      | 2.0       | 18        | Automatic | Petrol    |\n",
       "| 2690      | 109000    | 32.1      | 1.8       | 15        | Automatic | Petrol    |\n",
       "| 3200      |  86000    | 28.2      | 3.5       | 14        | Automatic | Petrol    |\n",
       "\n"
      ],
      "text/plain": [
       "  price mileage mpg  engineSize age transmission fuelType\n",
       "1 1495  119000  34.5 1.8        16  Manual       Petrol  \n",
       "2 1495   13800  39.8 2.7        18  Automatic    Diesel  \n",
       "3 1780  118000  41.5 2.2        16  Automatic    Diesel  \n",
       "4 2140   52700  31.4 2.0        18  Automatic    Petrol  \n",
       "5 2690  109000  32.1 1.8        15  Automatic    Petrol  \n",
       "6 3200   86000  28.2 3.5        14  Automatic    Petrol  "
      ]
     },
     "metadata": {},
     "output_type": "display_data"
    }
   ],
   "source": [
    "head(Cclass)"
   ]
  },
  {
   "cell_type": "code",
   "execution_count": 14,
   "id": "644eb3b2",
   "metadata": {},
   "outputs": [
    {
     "data": {
      "text/html": [
       "<table>\n",
       "<thead><tr><th scope=col>price</th><th scope=col>mileage</th><th scope=col>mpg</th><th scope=col>engineSize</th><th scope=col>age</th><th scope=col>transmission</th><th scope=col>fuelType</th></tr></thead>\n",
       "<tbody>\n",
       "\t<tr><td>10090 </td><td>45130 </td><td>49.6  </td><td>1.6   </td><td>7     </td><td>Manual</td><td>Petrol</td></tr>\n",
       "\t<tr><td>10122 </td><td>49517 </td><td>72.4  </td><td>1.5   </td><td>7     </td><td>Manual</td><td>Diesel</td></tr>\n",
       "\t<tr><td>10171 </td><td>80870 </td><td>70.6  </td><td>1.5   </td><td>6     </td><td>Manual</td><td>Diesel</td></tr>\n",
       "\t<tr><td>10190 </td><td>32457 </td><td>51.4  </td><td>1.6   </td><td>7     </td><td>Manual</td><td>Petrol</td></tr>\n",
       "\t<tr><td>10199 </td><td>39750 </td><td>72.4  </td><td>1.5   </td><td>7     </td><td>Manual</td><td>Diesel</td></tr>\n",
       "\t<tr><td>10241 </td><td>54587 </td><td>62.8  </td><td>1.8   </td><td>7     </td><td>Manual</td><td>Diesel</td></tr>\n",
       "</tbody>\n",
       "</table>\n"
      ],
      "text/latex": [
       "\\begin{tabular}{r|lllllll}\n",
       " price & mileage & mpg & engineSize & age & transmission & fuelType\\\\\n",
       "\\hline\n",
       "\t 10090  & 45130  & 49.6   & 1.6    & 7      & Manual & Petrol\\\\\n",
       "\t 10122  & 49517  & 72.4   & 1.5    & 7      & Manual & Diesel\\\\\n",
       "\t 10171  & 80870  & 70.6   & 1.5    & 6      & Manual & Diesel\\\\\n",
       "\t 10190  & 32457  & 51.4   & 1.6    & 7      & Manual & Petrol\\\\\n",
       "\t 10199  & 39750  & 72.4   & 1.5    & 7      & Manual & Diesel\\\\\n",
       "\t 10241  & 54587  & 62.8   & 1.8    & 7      & Manual & Diesel\\\\\n",
       "\\end{tabular}\n"
      ],
      "text/markdown": [
       "\n",
       "| price | mileage | mpg | engineSize | age | transmission | fuelType |\n",
       "|---|---|---|---|---|---|---|\n",
       "| 10090  | 45130  | 49.6   | 1.6    | 7      | Manual | Petrol |\n",
       "| 10122  | 49517  | 72.4   | 1.5    | 7      | Manual | Diesel |\n",
       "| 10171  | 80870  | 70.6   | 1.5    | 6      | Manual | Diesel |\n",
       "| 10190  | 32457  | 51.4   | 1.6    | 7      | Manual | Petrol |\n",
       "| 10199  | 39750  | 72.4   | 1.5    | 7      | Manual | Diesel |\n",
       "| 10241  | 54587  | 62.8   | 1.8    | 7      | Manual | Diesel |\n",
       "\n"
      ],
      "text/plain": [
       "  price mileage mpg  engineSize age transmission fuelType\n",
       "1 10090 45130   49.6 1.6        7   Manual       Petrol  \n",
       "2 10122 49517   72.4 1.5        7   Manual       Diesel  \n",
       "3 10171 80870   70.6 1.5        6   Manual       Diesel  \n",
       "4 10190 32457   51.4 1.6        7   Manual       Petrol  \n",
       "5 10199 39750   72.4 1.5        7   Manual       Diesel  \n",
       "6 10241 54587   62.8 1.8        7   Manual       Diesel  "
      ]
     },
     "metadata": {},
     "output_type": "display_data"
    }
   ],
   "source": [
    "head(Aclass)"
   ]
  },
  {
   "cell_type": "code",
   "execution_count": 13,
   "id": "f2c8f396",
   "metadata": {},
   "outputs": [
    {
     "data": {
      "text/html": [
       "<table>\n",
       "<thead><tr><th scope=col>price</th><th scope=col>mileage</th><th scope=col>mpg</th><th scope=col>engineSize</th><th scope=col>age</th><th scope=col>transmission</th><th scope=col>fuelType</th></tr></thead>\n",
       "<tbody>\n",
       "\t<tr><td>3485     </td><td>79191    </td><td>32.5     </td><td>1.8      </td><td>15       </td><td>Automatic</td><td>Petrol   </td></tr>\n",
       "\t<tr><td>3990     </td><td>60997    </td><td>29.4     </td><td>2.0      </td><td>19       </td><td>Automatic</td><td>Petrol   </td></tr>\n",
       "\t<tr><td>3995     </td><td>73000    </td><td>32.5     </td><td>1.8      </td><td>15       </td><td>Automatic</td><td>Petrol   </td></tr>\n",
       "\t<tr><td>4880     </td><td>58000    </td><td>37.2     </td><td>3.0      </td><td>13       </td><td>Automatic</td><td>Diesel   </td></tr>\n",
       "\t<tr><td>4950     </td><td>99844    </td><td>27.7     </td><td>3.0      </td><td>11       </td><td>Automatic</td><td>Diesel   </td></tr>\n",
       "\t<tr><td>6794     </td><td>69173    </td><td>45.6     </td><td>2.1      </td><td>10       </td><td>Automatic</td><td>Diesel   </td></tr>\n",
       "</tbody>\n",
       "</table>\n"
      ],
      "text/latex": [
       "\\begin{tabular}{r|lllllll}\n",
       " price & mileage & mpg & engineSize & age & transmission & fuelType\\\\\n",
       "\\hline\n",
       "\t 3485      & 79191     & 32.5      & 1.8       & 15        & Automatic & Petrol   \\\\\n",
       "\t 3990      & 60997     & 29.4      & 2.0       & 19        & Automatic & Petrol   \\\\\n",
       "\t 3995      & 73000     & 32.5      & 1.8       & 15        & Automatic & Petrol   \\\\\n",
       "\t 4880      & 58000     & 37.2      & 3.0       & 13        & Automatic & Diesel   \\\\\n",
       "\t 4950      & 99844     & 27.7      & 3.0       & 11        & Automatic & Diesel   \\\\\n",
       "\t 6794      & 69173     & 45.6      & 2.1       & 10        & Automatic & Diesel   \\\\\n",
       "\\end{tabular}\n"
      ],
      "text/markdown": [
       "\n",
       "| price | mileage | mpg | engineSize | age | transmission | fuelType |\n",
       "|---|---|---|---|---|---|---|\n",
       "| 3485      | 79191     | 32.5      | 1.8       | 15        | Automatic | Petrol    |\n",
       "| 3990      | 60997     | 29.4      | 2.0       | 19        | Automatic | Petrol    |\n",
       "| 3995      | 73000     | 32.5      | 1.8       | 15        | Automatic | Petrol    |\n",
       "| 4880      | 58000     | 37.2      | 3.0       | 13        | Automatic | Diesel    |\n",
       "| 4950      | 99844     | 27.7      | 3.0       | 11        | Automatic | Diesel    |\n",
       "| 6794      | 69173     | 45.6      | 2.1       | 10        | Automatic | Diesel    |\n",
       "\n"
      ],
      "text/plain": [
       "  price mileage mpg  engineSize age transmission fuelType\n",
       "1 3485  79191   32.5 1.8        15  Automatic    Petrol  \n",
       "2 3990  60997   29.4 2.0        19  Automatic    Petrol  \n",
       "3 3995  73000   32.5 1.8        15  Automatic    Petrol  \n",
       "4 4880  58000   37.2 3.0        13  Automatic    Diesel  \n",
       "5 4950  99844   27.7 3.0        11  Automatic    Diesel  \n",
       "6 6794  69173   45.6 2.1        10  Automatic    Diesel  "
      ]
     },
     "metadata": {},
     "output_type": "display_data"
    }
   ],
   "source": [
    "head(Eclass)"
   ]
  },
  {
   "cell_type": "code",
   "execution_count": 12,
   "id": "921a0ceb",
   "metadata": {},
   "outputs": [],
   "source": [
    "#필요한 컬럼 남기고 삭제 \n",
    "Cclass <- Cclass[,-c(6:11)]\n",
    "Aclass <- Aclass[,-c(6:10)]\n",
    "Eclass <- Eclass[,-c(6:11)]"
   ]
  },
  {
   "cell_type": "code",
   "execution_count": 16,
   "id": "a6f2e970",
   "metadata": {},
   "outputs": [],
   "source": [
    "# 연식별 평균 가격 \n",
    "Cclass연식 <- aggregate(price ~ age, Cclass, mean)\n",
    "Aclass연식 <- aggregate(price ~ age, Aclass, mean)\n",
    "Eclass연식 <- aggregate(price ~ age, Eclass, mean)"
   ]
  },
  {
   "cell_type": "code",
   "execution_count": 17,
   "id": "3451317c",
   "metadata": {},
   "outputs": [],
   "source": [
    "# 연료타입별 평균가격 \n",
    "Cclass연료 <- aggregate(price ~ fuelType, Cclass, mean)\n",
    "Aclass연료 <- aggregate(price ~ fuelType, Aclass, mean)\n",
    "Eclass연료 <- aggregate(price ~ fuelType, Eclass, mean)"
   ]
  },
  {
   "cell_type": "code",
   "execution_count": 18,
   "id": "9dca2373",
   "metadata": {},
   "outputs": [],
   "source": [
    "# 변속기별 평균가격 \n",
    "Cclass변속기 <- aggregate(price ~ transmission, Cclass, mean)\n",
    "Aclass변속기 <- aggregate(price ~ transmission, Aclass, mean)\n",
    "Eclass변속기 <- aggregate(price ~ transmission, Eclass, mean)"
   ]
  },
  {
   "cell_type": "code",
   "execution_count": 19,
   "id": "3f7e420c",
   "metadata": {},
   "outputs": [],
   "source": [
    "# 컬럼 이름 바꾸기 \n",
    "colnames(Cclass연식) <- c('value','price')\n",
    "colnames(Cclass연료) <- c('value','price')\n",
    "colnames(Cclass변속기) <- c('value','price')\n",
    "\n",
    "colnames(Aclass연식) <- c('value','price')\n",
    "colnames(Aclass연료) <- c('value','price')\n",
    "colnames(Aclass변속기) <- c('value','price')\n",
    "\n",
    "colnames(Eclass연식) <- c('value','price')\n",
    "colnames(Eclass연료) <- c('value','price')\n",
    "colnames(Eclass변속기) <- c('value','price')"
   ]
  },
  {
   "cell_type": "code",
   "execution_count": 21,
   "id": "45a50fbd",
   "metadata": {},
   "outputs": [],
   "source": [
    "# 3개 df 결합 \n",
    "Cclass_db <- rbind(rbind(Cclass연식, Cclass연료), Cclass변속기)\n",
    "Aclass_db <- rbind(rbind(Aclass연식, Aclass연료), Aclass변속기)\n",
    "Eclass_db <- rbind(rbind(Eclass연식, Eclass연료), Eclass변속기)"
   ]
  },
  {
   "cell_type": "code",
   "execution_count": 22,
   "id": "982111be",
   "metadata": {},
   "outputs": [
    {
     "data": {
      "text/html": [
       "<table>\n",
       "<thead><tr><th scope=col>value</th><th scope=col>price</th></tr></thead>\n",
       "<tbody>\n",
       "\t<tr><td>1        </td><td>28799.170</td></tr>\n",
       "\t<tr><td>2        </td><td>24021.329</td></tr>\n",
       "\t<tr><td>3        </td><td>21088.734</td></tr>\n",
       "\t<tr><td>4        </td><td>18608.049</td></tr>\n",
       "\t<tr><td>5        </td><td>15332.727</td></tr>\n",
       "\t<tr><td>6        </td><td>14057.165</td></tr>\n",
       "\t<tr><td>7        </td><td>10088.828</td></tr>\n",
       "\t<tr><td>8        </td><td> 8896.913</td></tr>\n",
       "\t<tr><td>9        </td><td> 8146.333</td></tr>\n",
       "\t<tr><td>10       </td><td> 6158.444</td></tr>\n",
       "\t<tr><td>11       </td><td> 5686.143</td></tr>\n",
       "\t<tr><td>12       </td><td> 4990.571</td></tr>\n",
       "\t<tr><td>13       </td><td> 4633.000</td></tr>\n",
       "\t<tr><td>14       </td><td> 3445.000</td></tr>\n",
       "\t<tr><td>15       </td><td> 2690.000</td></tr>\n",
       "\t<tr><td>16       </td><td> 1637.500</td></tr>\n",
       "\t<tr><td>18       </td><td> 1817.500</td></tr>\n",
       "\t<tr><td>Diesel   </td><td>21530.717</td></tr>\n",
       "\t<tr><td>Hybrid   </td><td>17083.974</td></tr>\n",
       "\t<tr><td>Petrol   </td><td>26178.250</td></tr>\n",
       "\t<tr><td>Automatic</td><td>22459.455</td></tr>\n",
       "\t<tr><td>Manual   </td><td>14286.808</td></tr>\n",
       "\t<tr><td>Semi_Auto</td><td>24669.401</td></tr>\n",
       "</tbody>\n",
       "</table>\n"
      ],
      "text/latex": [
       "\\begin{tabular}{r|ll}\n",
       " value & price\\\\\n",
       "\\hline\n",
       "\t 1         & 28799.170\\\\\n",
       "\t 2         & 24021.329\\\\\n",
       "\t 3         & 21088.734\\\\\n",
       "\t 4         & 18608.049\\\\\n",
       "\t 5         & 15332.727\\\\\n",
       "\t 6         & 14057.165\\\\\n",
       "\t 7         & 10088.828\\\\\n",
       "\t 8         &  8896.913\\\\\n",
       "\t 9         &  8146.333\\\\\n",
       "\t 10        &  6158.444\\\\\n",
       "\t 11        &  5686.143\\\\\n",
       "\t 12        &  4990.571\\\\\n",
       "\t 13        &  4633.000\\\\\n",
       "\t 14        &  3445.000\\\\\n",
       "\t 15        &  2690.000\\\\\n",
       "\t 16        &  1637.500\\\\\n",
       "\t 18        &  1817.500\\\\\n",
       "\t Diesel    & 21530.717\\\\\n",
       "\t Hybrid    & 17083.974\\\\\n",
       "\t Petrol    & 26178.250\\\\\n",
       "\t Automatic & 22459.455\\\\\n",
       "\t Manual    & 14286.808\\\\\n",
       "\t Semi\\_Auto & 24669.401  \\\\\n",
       "\\end{tabular}\n"
      ],
      "text/markdown": [
       "\n",
       "| value | price |\n",
       "|---|---|\n",
       "| 1         | 28799.170 |\n",
       "| 2         | 24021.329 |\n",
       "| 3         | 21088.734 |\n",
       "| 4         | 18608.049 |\n",
       "| 5         | 15332.727 |\n",
       "| 6         | 14057.165 |\n",
       "| 7         | 10088.828 |\n",
       "| 8         |  8896.913 |\n",
       "| 9         |  8146.333 |\n",
       "| 10        |  6158.444 |\n",
       "| 11        |  5686.143 |\n",
       "| 12        |  4990.571 |\n",
       "| 13        |  4633.000 |\n",
       "| 14        |  3445.000 |\n",
       "| 15        |  2690.000 |\n",
       "| 16        |  1637.500 |\n",
       "| 18        |  1817.500 |\n",
       "| Diesel    | 21530.717 |\n",
       "| Hybrid    | 17083.974 |\n",
       "| Petrol    | 26178.250 |\n",
       "| Automatic | 22459.455 |\n",
       "| Manual    | 14286.808 |\n",
       "| Semi_Auto | 24669.401 |\n",
       "\n"
      ],
      "text/plain": [
       "   value     price    \n",
       "1  1         28799.170\n",
       "2  2         24021.329\n",
       "3  3         21088.734\n",
       "4  4         18608.049\n",
       "5  5         15332.727\n",
       "6  6         14057.165\n",
       "7  7         10088.828\n",
       "8  8          8896.913\n",
       "9  9          8146.333\n",
       "10 10         6158.444\n",
       "11 11         5686.143\n",
       "12 12         4990.571\n",
       "13 13         4633.000\n",
       "14 14         3445.000\n",
       "15 15         2690.000\n",
       "16 16         1637.500\n",
       "17 18         1817.500\n",
       "18 Diesel    21530.717\n",
       "19 Hybrid    17083.974\n",
       "20 Petrol    26178.250\n",
       "21 Automatic 22459.455\n",
       "22 Manual    14286.808\n",
       "23 Semi_Auto 24669.401"
      ]
     },
     "metadata": {},
     "output_type": "display_data"
    }
   ],
   "source": [
    "Cclass_db"
   ]
  },
  {
   "cell_type": "code",
   "execution_count": 24,
   "id": "a4665630",
   "metadata": {},
   "outputs": [
    {
     "data": {
      "text/html": [
       "<table>\n",
       "<thead><tr><th scope=col>value</th><th scope=col>price</th></tr></thead>\n",
       "<tbody>\n",
       "\t<tr><td>1        </td><td>22036.47 </td></tr>\n",
       "\t<tr><td>2        </td><td>18595.91 </td></tr>\n",
       "\t<tr><td>3        </td><td>15851.55 </td></tr>\n",
       "\t<tr><td>4        </td><td>14910.90 </td></tr>\n",
       "\t<tr><td>5        </td><td>13338.49 </td></tr>\n",
       "\t<tr><td>6        </td><td>12067.41 </td></tr>\n",
       "\t<tr><td>7        </td><td>11805.94 </td></tr>\n",
       "\t<tr><td>8        </td><td>11940.00 </td></tr>\n",
       "\t<tr><td>Diesel   </td><td>16752.53 </td></tr>\n",
       "\t<tr><td>Petrol   </td><td>19210.21 </td></tr>\n",
       "\t<tr><td>Automatic</td><td>17808.06 </td></tr>\n",
       "\t<tr><td>Manual   </td><td>15106.76 </td></tr>\n",
       "\t<tr><td>Semi_Auto</td><td>19442.35 </td></tr>\n",
       "</tbody>\n",
       "</table>\n"
      ],
      "text/latex": [
       "\\begin{tabular}{r|ll}\n",
       " value & price\\\\\n",
       "\\hline\n",
       "\t 1         & 22036.47 \\\\\n",
       "\t 2         & 18595.91 \\\\\n",
       "\t 3         & 15851.55 \\\\\n",
       "\t 4         & 14910.90 \\\\\n",
       "\t 5         & 13338.49 \\\\\n",
       "\t 6         & 12067.41 \\\\\n",
       "\t 7         & 11805.94 \\\\\n",
       "\t 8         & 11940.00 \\\\\n",
       "\t Diesel    & 16752.53 \\\\\n",
       "\t Petrol    & 19210.21 \\\\\n",
       "\t Automatic & 17808.06 \\\\\n",
       "\t Manual    & 15106.76 \\\\\n",
       "\t Semi\\_Auto & 19442.35   \\\\\n",
       "\\end{tabular}\n"
      ],
      "text/markdown": [
       "\n",
       "| value | price |\n",
       "|---|---|\n",
       "| 1         | 22036.47  |\n",
       "| 2         | 18595.91  |\n",
       "| 3         | 15851.55  |\n",
       "| 4         | 14910.90  |\n",
       "| 5         | 13338.49  |\n",
       "| 6         | 12067.41  |\n",
       "| 7         | 11805.94  |\n",
       "| 8         | 11940.00  |\n",
       "| Diesel    | 16752.53  |\n",
       "| Petrol    | 19210.21  |\n",
       "| Automatic | 17808.06  |\n",
       "| Manual    | 15106.76  |\n",
       "| Semi_Auto | 19442.35  |\n",
       "\n"
      ],
      "text/plain": [
       "   value     price   \n",
       "1  1         22036.47\n",
       "2  2         18595.91\n",
       "3  3         15851.55\n",
       "4  4         14910.90\n",
       "5  5         13338.49\n",
       "6  6         12067.41\n",
       "7  7         11805.94\n",
       "8  8         11940.00\n",
       "9  Diesel    16752.53\n",
       "10 Petrol    19210.21\n",
       "11 Automatic 17808.06\n",
       "12 Manual    15106.76\n",
       "13 Semi_Auto 19442.35"
      ]
     },
     "metadata": {},
     "output_type": "display_data"
    }
   ],
   "source": [
    "Aclass_db"
   ]
  },
  {
   "cell_type": "code",
   "execution_count": 25,
   "id": "c796310d",
   "metadata": {},
   "outputs": [
    {
     "data": {
      "text/html": [
       "<table>\n",
       "<thead><tr><th scope=col>value</th><th scope=col>price</th></tr></thead>\n",
       "<tbody>\n",
       "\t<tr><td>1        </td><td>33247.706</td></tr>\n",
       "\t<tr><td>2        </td><td>24005.127</td></tr>\n",
       "\t<tr><td>3        </td><td>21112.299</td></tr>\n",
       "\t<tr><td>4        </td><td>18856.174</td></tr>\n",
       "\t<tr><td>5        </td><td>16310.841</td></tr>\n",
       "\t<tr><td>6        </td><td>13418.067</td></tr>\n",
       "\t<tr><td>7        </td><td>12368.746</td></tr>\n",
       "\t<tr><td>8        </td><td> 9553.444</td></tr>\n",
       "\t<tr><td>9        </td><td>10610.667</td></tr>\n",
       "\t<tr><td>10       </td><td> 8145.500</td></tr>\n",
       "\t<tr><td>11       </td><td> 4950.000</td></tr>\n",
       "\t<tr><td>12       </td><td>14995.000</td></tr>\n",
       "\t<tr><td>13       </td><td> 4880.000</td></tr>\n",
       "\t<tr><td>15       </td><td> 3740.000</td></tr>\n",
       "\t<tr><td>19       </td><td> 3990.000</td></tr>\n",
       "\t<tr><td>Diesel   </td><td>23305.292</td></tr>\n",
       "\t<tr><td>Petrol   </td><td>37693.435</td></tr>\n",
       "\t<tr><td>Automatic</td><td>22319.770</td></tr>\n",
       "\t<tr><td>Semi_Auto</td><td>25855.665</td></tr>\n",
       "</tbody>\n",
       "</table>\n"
      ],
      "text/latex": [
       "\\begin{tabular}{r|ll}\n",
       " value & price\\\\\n",
       "\\hline\n",
       "\t 1         & 33247.706\\\\\n",
       "\t 2         & 24005.127\\\\\n",
       "\t 3         & 21112.299\\\\\n",
       "\t 4         & 18856.174\\\\\n",
       "\t 5         & 16310.841\\\\\n",
       "\t 6         & 13418.067\\\\\n",
       "\t 7         & 12368.746\\\\\n",
       "\t 8         &  9553.444\\\\\n",
       "\t 9         & 10610.667\\\\\n",
       "\t 10        &  8145.500\\\\\n",
       "\t 11        &  4950.000\\\\\n",
       "\t 12        & 14995.000\\\\\n",
       "\t 13        &  4880.000\\\\\n",
       "\t 15        &  3740.000\\\\\n",
       "\t 19        &  3990.000\\\\\n",
       "\t Diesel    & 23305.292\\\\\n",
       "\t Petrol    & 37693.435\\\\\n",
       "\t Automatic & 22319.770\\\\\n",
       "\t Semi\\_Auto & 25855.665  \\\\\n",
       "\\end{tabular}\n"
      ],
      "text/markdown": [
       "\n",
       "| value | price |\n",
       "|---|---|\n",
       "| 1         | 33247.706 |\n",
       "| 2         | 24005.127 |\n",
       "| 3         | 21112.299 |\n",
       "| 4         | 18856.174 |\n",
       "| 5         | 16310.841 |\n",
       "| 6         | 13418.067 |\n",
       "| 7         | 12368.746 |\n",
       "| 8         |  9553.444 |\n",
       "| 9         | 10610.667 |\n",
       "| 10        |  8145.500 |\n",
       "| 11        |  4950.000 |\n",
       "| 12        | 14995.000 |\n",
       "| 13        |  4880.000 |\n",
       "| 15        |  3740.000 |\n",
       "| 19        |  3990.000 |\n",
       "| Diesel    | 23305.292 |\n",
       "| Petrol    | 37693.435 |\n",
       "| Automatic | 22319.770 |\n",
       "| Semi_Auto | 25855.665 |\n",
       "\n"
      ],
      "text/plain": [
       "   value     price    \n",
       "1  1         33247.706\n",
       "2  2         24005.127\n",
       "3  3         21112.299\n",
       "4  4         18856.174\n",
       "5  5         16310.841\n",
       "6  6         13418.067\n",
       "7  7         12368.746\n",
       "8  8          9553.444\n",
       "9  9         10610.667\n",
       "10 10         8145.500\n",
       "11 11         4950.000\n",
       "12 12        14995.000\n",
       "13 13         4880.000\n",
       "14 15         3740.000\n",
       "15 19         3990.000\n",
       "16 Diesel    23305.292\n",
       "17 Petrol    37693.435\n",
       "18 Automatic 22319.770\n",
       "19 Semi_Auto 25855.665"
      ]
     },
     "metadata": {},
     "output_type": "display_data"
    }
   ],
   "source": [
    "Eclass_db"
   ]
  },
  {
   "cell_type": "code",
   "execution_count": 23,
   "id": "9dbcd495",
   "metadata": {},
   "outputs": [],
   "source": [
    "# model 컬럼 생성 \n",
    "Cclassmodel <- rep(\"Cclass\", nrow(Cclass_db))\n",
    "Aclassmodel <- rep(\"Aclass\", nrow(Aclass_db))\n",
    "Eclassmodel <- rep(\"Eclass\", nrow(Eclass_db))\n",
    "model <- c(Cclassmodel, Aclassmodel, Eclassmodel)"
   ]
  },
  {
   "cell_type": "code",
   "execution_count": 27,
   "id": "bc6151d1",
   "metadata": {},
   "outputs": [],
   "source": [
    "# feature 컬럼 생성 \n",
    "Cclassfeature <- c(rep('age', (nrow(Cclass_db)-6)),rep('fuelType', 3) , rep('Transmission', 3))\n",
    "Aclassfeature <- c(rep('age', (nrow(Aclass_db)-5)),rep('fuelType', 2) , rep('Transmission', 3))\n",
    "Eclassfeature <- c(rep('age', (nrow(Eclass_db)-4)),rep('fuelType', 2) , rep('Transmission', 2))\n",
    "feature <- c(Cclassfeature, Aclassfeature, Eclassfeature)"
   ]
  },
  {
   "cell_type": "code",
   "execution_count": 29,
   "id": "eca280bd",
   "metadata": {},
   "outputs": [],
   "source": [
    "# 최종 df 만들기 \n",
    "benz_db <- cbind(model, feature, rbind(rbind(Cclass_db, Aclass_db), Eclass_db))"
   ]
  },
  {
   "cell_type": "code",
   "execution_count": 30,
   "id": "13c8f6ba",
   "metadata": {},
   "outputs": [
    {
     "data": {
      "text/html": [
       "<table>\n",
       "<thead><tr><th scope=col>model</th><th scope=col>feature</th><th scope=col>value</th><th scope=col>price</th></tr></thead>\n",
       "<tbody>\n",
       "\t<tr><td>Cclass      </td><td>age         </td><td>1           </td><td>28799.170   </td></tr>\n",
       "\t<tr><td>Cclass      </td><td>age         </td><td>2           </td><td>24021.329   </td></tr>\n",
       "\t<tr><td>Cclass      </td><td>age         </td><td>3           </td><td>21088.734   </td></tr>\n",
       "\t<tr><td>Cclass      </td><td>age         </td><td>4           </td><td>18608.049   </td></tr>\n",
       "\t<tr><td>Cclass      </td><td>age         </td><td>5           </td><td>15332.727   </td></tr>\n",
       "\t<tr><td>Cclass      </td><td>age         </td><td>6           </td><td>14057.165   </td></tr>\n",
       "\t<tr><td>Cclass      </td><td>age         </td><td>7           </td><td>10088.828   </td></tr>\n",
       "\t<tr><td>Cclass      </td><td>age         </td><td>8           </td><td> 8896.913   </td></tr>\n",
       "\t<tr><td>Cclass      </td><td>age         </td><td>9           </td><td> 8146.333   </td></tr>\n",
       "\t<tr><td>Cclass      </td><td>age         </td><td>10          </td><td> 6158.444   </td></tr>\n",
       "\t<tr><td>Cclass      </td><td>age         </td><td>11          </td><td> 5686.143   </td></tr>\n",
       "\t<tr><td>Cclass      </td><td>age         </td><td>12          </td><td> 4990.571   </td></tr>\n",
       "\t<tr><td>Cclass      </td><td>age         </td><td>13          </td><td> 4633.000   </td></tr>\n",
       "\t<tr><td>Cclass      </td><td>age         </td><td>14          </td><td> 3445.000   </td></tr>\n",
       "\t<tr><td>Cclass      </td><td>age         </td><td>15          </td><td> 2690.000   </td></tr>\n",
       "\t<tr><td>Cclass      </td><td>age         </td><td>16          </td><td> 1637.500   </td></tr>\n",
       "\t<tr><td>Cclass      </td><td>age         </td><td>18          </td><td> 1817.500   </td></tr>\n",
       "\t<tr><td>Cclass      </td><td>fuelType    </td><td>Diesel      </td><td>21530.717   </td></tr>\n",
       "\t<tr><td>Cclass      </td><td>fuelType    </td><td>Hybrid      </td><td>17083.974   </td></tr>\n",
       "\t<tr><td>Cclass      </td><td>fuelType    </td><td>Petrol      </td><td>26178.250   </td></tr>\n",
       "\t<tr><td>Cclass      </td><td>Transmission</td><td>Automatic   </td><td>22459.455   </td></tr>\n",
       "\t<tr><td>Cclass      </td><td>Transmission</td><td>Manual      </td><td>14286.808   </td></tr>\n",
       "\t<tr><td>Cclass      </td><td>Transmission</td><td>Semi_Auto   </td><td>24669.401   </td></tr>\n",
       "\t<tr><td>Aclass      </td><td>age         </td><td>1           </td><td>22036.469   </td></tr>\n",
       "\t<tr><td>Aclass      </td><td>age         </td><td>2           </td><td>18595.907   </td></tr>\n",
       "\t<tr><td>Aclass      </td><td>age         </td><td>3           </td><td>15851.551   </td></tr>\n",
       "\t<tr><td>Aclass      </td><td>age         </td><td>4           </td><td>14910.900   </td></tr>\n",
       "\t<tr><td>Aclass      </td><td>age         </td><td>5           </td><td>13338.486   </td></tr>\n",
       "\t<tr><td>Aclass      </td><td>age         </td><td>6           </td><td>12067.408   </td></tr>\n",
       "\t<tr><td>Aclass      </td><td>age         </td><td>7           </td><td>11805.940   </td></tr>\n",
       "\t<tr><td>Aclass      </td><td>age         </td><td>8           </td><td>11940.000   </td></tr>\n",
       "\t<tr><td>Aclass      </td><td>fuelType    </td><td>Diesel      </td><td>16752.532   </td></tr>\n",
       "\t<tr><td>Aclass      </td><td>fuelType    </td><td>Petrol      </td><td>19210.209   </td></tr>\n",
       "\t<tr><td>Aclass      </td><td>Transmission</td><td>Automatic   </td><td>17808.065   </td></tr>\n",
       "\t<tr><td>Aclass      </td><td>Transmission</td><td>Manual      </td><td>15106.761   </td></tr>\n",
       "\t<tr><td>Aclass      </td><td>Transmission</td><td>Semi_Auto   </td><td>19442.354   </td></tr>\n",
       "\t<tr><td>Eclass      </td><td>age         </td><td>1           </td><td>33247.706   </td></tr>\n",
       "\t<tr><td>Eclass      </td><td>age         </td><td>2           </td><td>24005.127   </td></tr>\n",
       "\t<tr><td>Eclass      </td><td>age         </td><td>3           </td><td>21112.299   </td></tr>\n",
       "\t<tr><td>Eclass      </td><td>age         </td><td>4           </td><td>18856.174   </td></tr>\n",
       "\t<tr><td>Eclass      </td><td>age         </td><td>5           </td><td>16310.841   </td></tr>\n",
       "\t<tr><td>Eclass      </td><td>age         </td><td>6           </td><td>13418.067   </td></tr>\n",
       "\t<tr><td>Eclass      </td><td>age         </td><td>7           </td><td>12368.746   </td></tr>\n",
       "\t<tr><td>Eclass      </td><td>age         </td><td>8           </td><td> 9553.444   </td></tr>\n",
       "\t<tr><td>Eclass      </td><td>age         </td><td>9           </td><td>10610.667   </td></tr>\n",
       "\t<tr><td>Eclass      </td><td>age         </td><td>10          </td><td> 8145.500   </td></tr>\n",
       "\t<tr><td>Eclass      </td><td>age         </td><td>11          </td><td> 4950.000   </td></tr>\n",
       "\t<tr><td>Eclass      </td><td>age         </td><td>12          </td><td>14995.000   </td></tr>\n",
       "\t<tr><td>Eclass      </td><td>age         </td><td>13          </td><td> 4880.000   </td></tr>\n",
       "\t<tr><td>Eclass      </td><td>age         </td><td>15          </td><td> 3740.000   </td></tr>\n",
       "\t<tr><td>Eclass      </td><td>age         </td><td>19          </td><td> 3990.000   </td></tr>\n",
       "\t<tr><td>Eclass      </td><td>fuelType    </td><td>Diesel      </td><td>23305.292   </td></tr>\n",
       "\t<tr><td>Eclass      </td><td>fuelType    </td><td>Petrol      </td><td>37693.435   </td></tr>\n",
       "\t<tr><td>Eclass      </td><td>Transmission</td><td>Automatic   </td><td>22319.770   </td></tr>\n",
       "\t<tr><td>Eclass      </td><td>Transmission</td><td>Semi_Auto   </td><td>25855.665   </td></tr>\n",
       "</tbody>\n",
       "</table>\n"
      ],
      "text/latex": [
       "\\begin{tabular}{r|llll}\n",
       " model & feature & value & price\\\\\n",
       "\\hline\n",
       "\t Cclass       & age          & 1            & 28799.170   \\\\\n",
       "\t Cclass       & age          & 2            & 24021.329   \\\\\n",
       "\t Cclass       & age          & 3            & 21088.734   \\\\\n",
       "\t Cclass       & age          & 4            & 18608.049   \\\\\n",
       "\t Cclass       & age          & 5            & 15332.727   \\\\\n",
       "\t Cclass       & age          & 6            & 14057.165   \\\\\n",
       "\t Cclass       & age          & 7            & 10088.828   \\\\\n",
       "\t Cclass       & age          & 8            &  8896.913   \\\\\n",
       "\t Cclass       & age          & 9            &  8146.333   \\\\\n",
       "\t Cclass       & age          & 10           &  6158.444   \\\\\n",
       "\t Cclass       & age          & 11           &  5686.143   \\\\\n",
       "\t Cclass       & age          & 12           &  4990.571   \\\\\n",
       "\t Cclass       & age          & 13           &  4633.000   \\\\\n",
       "\t Cclass       & age          & 14           &  3445.000   \\\\\n",
       "\t Cclass       & age          & 15           &  2690.000   \\\\\n",
       "\t Cclass       & age          & 16           &  1637.500   \\\\\n",
       "\t Cclass       & age          & 18           &  1817.500   \\\\\n",
       "\t Cclass       & fuelType     & Diesel       & 21530.717   \\\\\n",
       "\t Cclass       & fuelType     & Hybrid       & 17083.974   \\\\\n",
       "\t Cclass       & fuelType     & Petrol       & 26178.250   \\\\\n",
       "\t Cclass       & Transmission & Automatic    & 22459.455   \\\\\n",
       "\t Cclass       & Transmission & Manual       & 14286.808   \\\\\n",
       "\t Cclass       & Transmission & Semi\\_Auto  & 24669.401   \\\\\n",
       "\t Aclass       & age          & 1            & 22036.469   \\\\\n",
       "\t Aclass       & age          & 2            & 18595.907   \\\\\n",
       "\t Aclass       & age          & 3            & 15851.551   \\\\\n",
       "\t Aclass       & age          & 4            & 14910.900   \\\\\n",
       "\t Aclass       & age          & 5            & 13338.486   \\\\\n",
       "\t Aclass       & age          & 6            & 12067.408   \\\\\n",
       "\t Aclass       & age          & 7            & 11805.940   \\\\\n",
       "\t Aclass       & age          & 8            & 11940.000   \\\\\n",
       "\t Aclass       & fuelType     & Diesel       & 16752.532   \\\\\n",
       "\t Aclass       & fuelType     & Petrol       & 19210.209   \\\\\n",
       "\t Aclass       & Transmission & Automatic    & 17808.065   \\\\\n",
       "\t Aclass       & Transmission & Manual       & 15106.761   \\\\\n",
       "\t Aclass       & Transmission & Semi\\_Auto  & 19442.354   \\\\\n",
       "\t Eclass       & age          & 1            & 33247.706   \\\\\n",
       "\t Eclass       & age          & 2            & 24005.127   \\\\\n",
       "\t Eclass       & age          & 3            & 21112.299   \\\\\n",
       "\t Eclass       & age          & 4            & 18856.174   \\\\\n",
       "\t Eclass       & age          & 5            & 16310.841   \\\\\n",
       "\t Eclass       & age          & 6            & 13418.067   \\\\\n",
       "\t Eclass       & age          & 7            & 12368.746   \\\\\n",
       "\t Eclass       & age          & 8            &  9553.444   \\\\\n",
       "\t Eclass       & age          & 9            & 10610.667   \\\\\n",
       "\t Eclass       & age          & 10           &  8145.500   \\\\\n",
       "\t Eclass       & age          & 11           &  4950.000   \\\\\n",
       "\t Eclass       & age          & 12           & 14995.000   \\\\\n",
       "\t Eclass       & age          & 13           &  4880.000   \\\\\n",
       "\t Eclass       & age          & 15           &  3740.000   \\\\\n",
       "\t Eclass       & age          & 19           &  3990.000   \\\\\n",
       "\t Eclass       & fuelType     & Diesel       & 23305.292   \\\\\n",
       "\t Eclass       & fuelType     & Petrol       & 37693.435   \\\\\n",
       "\t Eclass       & Transmission & Automatic    & 22319.770   \\\\\n",
       "\t Eclass       & Transmission & Semi\\_Auto  & 25855.665   \\\\\n",
       "\\end{tabular}\n"
      ],
      "text/markdown": [
       "\n",
       "| model | feature | value | price |\n",
       "|---|---|---|---|\n",
       "| Cclass       | age          | 1            | 28799.170    |\n",
       "| Cclass       | age          | 2            | 24021.329    |\n",
       "| Cclass       | age          | 3            | 21088.734    |\n",
       "| Cclass       | age          | 4            | 18608.049    |\n",
       "| Cclass       | age          | 5            | 15332.727    |\n",
       "| Cclass       | age          | 6            | 14057.165    |\n",
       "| Cclass       | age          | 7            | 10088.828    |\n",
       "| Cclass       | age          | 8            |  8896.913    |\n",
       "| Cclass       | age          | 9            |  8146.333    |\n",
       "| Cclass       | age          | 10           |  6158.444    |\n",
       "| Cclass       | age          | 11           |  5686.143    |\n",
       "| Cclass       | age          | 12           |  4990.571    |\n",
       "| Cclass       | age          | 13           |  4633.000    |\n",
       "| Cclass       | age          | 14           |  3445.000    |\n",
       "| Cclass       | age          | 15           |  2690.000    |\n",
       "| Cclass       | age          | 16           |  1637.500    |\n",
       "| Cclass       | age          | 18           |  1817.500    |\n",
       "| Cclass       | fuelType     | Diesel       | 21530.717    |\n",
       "| Cclass       | fuelType     | Hybrid       | 17083.974    |\n",
       "| Cclass       | fuelType     | Petrol       | 26178.250    |\n",
       "| Cclass       | Transmission | Automatic    | 22459.455    |\n",
       "| Cclass       | Transmission | Manual       | 14286.808    |\n",
       "| Cclass       | Transmission | Semi_Auto    | 24669.401    |\n",
       "| Aclass       | age          | 1            | 22036.469    |\n",
       "| Aclass       | age          | 2            | 18595.907    |\n",
       "| Aclass       | age          | 3            | 15851.551    |\n",
       "| Aclass       | age          | 4            | 14910.900    |\n",
       "| Aclass       | age          | 5            | 13338.486    |\n",
       "| Aclass       | age          | 6            | 12067.408    |\n",
       "| Aclass       | age          | 7            | 11805.940    |\n",
       "| Aclass       | age          | 8            | 11940.000    |\n",
       "| Aclass       | fuelType     | Diesel       | 16752.532    |\n",
       "| Aclass       | fuelType     | Petrol       | 19210.209    |\n",
       "| Aclass       | Transmission | Automatic    | 17808.065    |\n",
       "| Aclass       | Transmission | Manual       | 15106.761    |\n",
       "| Aclass       | Transmission | Semi_Auto    | 19442.354    |\n",
       "| Eclass       | age          | 1            | 33247.706    |\n",
       "| Eclass       | age          | 2            | 24005.127    |\n",
       "| Eclass       | age          | 3            | 21112.299    |\n",
       "| Eclass       | age          | 4            | 18856.174    |\n",
       "| Eclass       | age          | 5            | 16310.841    |\n",
       "| Eclass       | age          | 6            | 13418.067    |\n",
       "| Eclass       | age          | 7            | 12368.746    |\n",
       "| Eclass       | age          | 8            |  9553.444    |\n",
       "| Eclass       | age          | 9            | 10610.667    |\n",
       "| Eclass       | age          | 10           |  8145.500    |\n",
       "| Eclass       | age          | 11           |  4950.000    |\n",
       "| Eclass       | age          | 12           | 14995.000    |\n",
       "| Eclass       | age          | 13           |  4880.000    |\n",
       "| Eclass       | age          | 15           |  3740.000    |\n",
       "| Eclass       | age          | 19           |  3990.000    |\n",
       "| Eclass       | fuelType     | Diesel       | 23305.292    |\n",
       "| Eclass       | fuelType     | Petrol       | 37693.435    |\n",
       "| Eclass       | Transmission | Automatic    | 22319.770    |\n",
       "| Eclass       | Transmission | Semi_Auto    | 25855.665    |\n",
       "\n"
      ],
      "text/plain": [
       "   model  feature      value     price    \n",
       "1  Cclass age          1         28799.170\n",
       "2  Cclass age          2         24021.329\n",
       "3  Cclass age          3         21088.734\n",
       "4  Cclass age          4         18608.049\n",
       "5  Cclass age          5         15332.727\n",
       "6  Cclass age          6         14057.165\n",
       "7  Cclass age          7         10088.828\n",
       "8  Cclass age          8          8896.913\n",
       "9  Cclass age          9          8146.333\n",
       "10 Cclass age          10         6158.444\n",
       "11 Cclass age          11         5686.143\n",
       "12 Cclass age          12         4990.571\n",
       "13 Cclass age          13         4633.000\n",
       "14 Cclass age          14         3445.000\n",
       "15 Cclass age          15         2690.000\n",
       "16 Cclass age          16         1637.500\n",
       "17 Cclass age          18         1817.500\n",
       "18 Cclass fuelType     Diesel    21530.717\n",
       "19 Cclass fuelType     Hybrid    17083.974\n",
       "20 Cclass fuelType     Petrol    26178.250\n",
       "21 Cclass Transmission Automatic 22459.455\n",
       "22 Cclass Transmission Manual    14286.808\n",
       "23 Cclass Transmission Semi_Auto 24669.401\n",
       "24 Aclass age          1         22036.469\n",
       "25 Aclass age          2         18595.907\n",
       "26 Aclass age          3         15851.551\n",
       "27 Aclass age          4         14910.900\n",
       "28 Aclass age          5         13338.486\n",
       "29 Aclass age          6         12067.408\n",
       "30 Aclass age          7         11805.940\n",
       "31 Aclass age          8         11940.000\n",
       "32 Aclass fuelType     Diesel    16752.532\n",
       "33 Aclass fuelType     Petrol    19210.209\n",
       "34 Aclass Transmission Automatic 17808.065\n",
       "35 Aclass Transmission Manual    15106.761\n",
       "36 Aclass Transmission Semi_Auto 19442.354\n",
       "37 Eclass age          1         33247.706\n",
       "38 Eclass age          2         24005.127\n",
       "39 Eclass age          3         21112.299\n",
       "40 Eclass age          4         18856.174\n",
       "41 Eclass age          5         16310.841\n",
       "42 Eclass age          6         13418.067\n",
       "43 Eclass age          7         12368.746\n",
       "44 Eclass age          8          9553.444\n",
       "45 Eclass age          9         10610.667\n",
       "46 Eclass age          10         8145.500\n",
       "47 Eclass age          11         4950.000\n",
       "48 Eclass age          12        14995.000\n",
       "49 Eclass age          13         4880.000\n",
       "50 Eclass age          15         3740.000\n",
       "51 Eclass age          19         3990.000\n",
       "52 Eclass fuelType     Diesel    23305.292\n",
       "53 Eclass fuelType     Petrol    37693.435\n",
       "54 Eclass Transmission Automatic 22319.770\n",
       "55 Eclass Transmission Semi_Auto 25855.665"
      ]
     },
     "metadata": {},
     "output_type": "display_data"
    }
   ],
   "source": [
    "benz_db"
   ]
  },
  {
   "cell_type": "code",
   "execution_count": 32,
   "id": "c7a2755d",
   "metadata": {},
   "outputs": [],
   "source": [
    "# df 추출 \n",
    "write.csv(benz_db, \"../Data/benz_db.csv\", row.names = F)"
   ]
  },
  {
   "cell_type": "code",
   "execution_count": null,
   "id": "b703d4a7",
   "metadata": {},
   "outputs": [],
   "source": []
  }
 ],
 "metadata": {
  "kernelspec": {
   "display_name": "R",
   "language": "R",
   "name": "ir"
  },
  "language_info": {
   "codemirror_mode": "r",
   "file_extension": ".r",
   "mimetype": "text/x-r-source",
   "name": "R",
   "pygments_lexer": "r",
   "version": "3.6.1"
  }
 },
 "nbformat": 4,
 "nbformat_minor": 5
}
