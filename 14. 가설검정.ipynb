{
 "cells": [
  {
   "cell_type": "markdown",
   "metadata": {},
   "source": [
    "# 카이제곱 검정 \n",
    ": 두 범주형 변수가 서로 상관이 있는지 판단하는 통꼐적 검정방법\n",
    "예) 학력, 성별, 직업의 만족도\n",
    "\n",
    "### 아동별 장남감 보유 현황 \n",
    "- 귀무가설 : 설정한 가설이 진실할 확률이 극히 적어 처음부터 버릴 것이 예상되는 가설\n",
    "- child1과 child2의 장난감 보유수에 대한 만족도는 차이가 없다.\n",
    "- 대립가설 : 귀무가설이 기각될 때 받아들여지는 가설\n",
    "- child1과 child2의 장난감 보유수에 대한 만족도는 차이가 있다."
   ]
  },
  {
   "cell_type": "code",
   "execution_count": 2,
   "metadata": {
    "vscode": {
     "languageId": "r"
    }
   },
   "outputs": [],
   "source": [
    "# 장난감 보유 현황\n",
    "child1 <- c(5,11,1)\n",
    "child2 <- c(4,7,3)"
   ]
  },
  {
   "cell_type": "code",
   "execution_count": 3,
   "metadata": {
    "vscode": {
     "languageId": "r"
    }
   },
   "outputs": [
    {
     "data": {
      "text/html": [
       "<table>\n",
       "<thead><tr><th scope=col>child1</th><th scope=col>child2</th></tr></thead>\n",
       "<tbody>\n",
       "\t<tr><td> 5</td><td>4 </td></tr>\n",
       "\t<tr><td>11</td><td>7 </td></tr>\n",
       "\t<tr><td> 1</td><td>3 </td></tr>\n",
       "</tbody>\n",
       "</table>\n"
      ],
      "text/latex": [
       "\\begin{tabular}{ll}\n",
       " child1 & child2\\\\\n",
       "\\hline\n",
       "\t  5 & 4 \\\\\n",
       "\t 11 & 7 \\\\\n",
       "\t  1 & 3 \\\\\n",
       "\\end{tabular}\n"
      ],
      "text/markdown": [
       "\n",
       "| child1 | child2 |\n",
       "|---|---|\n",
       "|  5 | 4  |\n",
       "| 11 | 7  |\n",
       "|  1 | 3  |\n",
       "\n"
      ],
      "text/plain": [
       "     child1 child2\n",
       "[1,]  5     4     \n",
       "[2,] 11     7     \n",
       "[3,]  1     3     "
      ]
     },
     "metadata": {},
     "output_type": "display_data"
    }
   ],
   "source": [
    "# 분석을 위한 데이터 합치기 \n",
    "Toy <- cbind(child1,child2)\n",
    "Toy"
   ]
  },
  {
   "cell_type": "code",
   "execution_count": 4,
   "metadata": {
    "vscode": {
     "languageId": "r"
    }
   },
   "outputs": [
    {
     "data": {
      "text/html": [
       "<table>\n",
       "<thead><tr><th></th><th scope=col>child1</th><th scope=col>child2</th></tr></thead>\n",
       "<tbody>\n",
       "\t<tr><th scope=row>car</th><td> 5</td><td>4 </td></tr>\n",
       "\t<tr><th scope=row>truck</th><td>11</td><td>7 </td></tr>\n",
       "\t<tr><th scope=row>doll</th><td> 1</td><td>3 </td></tr>\n",
       "</tbody>\n",
       "</table>\n"
      ],
      "text/latex": [
       "\\begin{tabular}{r|ll}\n",
       "  & child1 & child2\\\\\n",
       "\\hline\n",
       "\tcar &  5 & 4 \\\\\n",
       "\ttruck & 11 & 7 \\\\\n",
       "\tdoll &  1 & 3 \\\\\n",
       "\\end{tabular}\n"
      ],
      "text/markdown": [
       "\n",
       "| <!--/--> | child1 | child2 |\n",
       "|---|---|---|\n",
       "| car |  5 | 4  |\n",
       "| truck | 11 | 7  |\n",
       "| doll |  1 | 3  |\n",
       "\n"
      ],
      "text/plain": [
       "      child1 child2\n",
       "car    5     4     \n",
       "truck 11     7     \n",
       "doll   1     3     "
      ]
     },
     "metadata": {},
     "output_type": "display_data"
    }
   ],
   "source": [
    "# 장난감 종류\n",
    "rownames(Toy) <- c(\"car\",\"truck\",\"doll\")\n",
    "Toy"
   ]
  },
  {
   "cell_type": "code",
   "execution_count": 5,
   "metadata": {
    "vscode": {
     "languageId": "r"
    }
   },
   "outputs": [
    {
     "name": "stderr",
     "output_type": "stream",
     "text": [
      "Warning message in chisq.test(Toy):\n",
      "“Chi-squared approximation may be incorrect”"
     ]
    },
    {
     "data": {
      "text/plain": [
       "\n",
       "\tPearson's Chi-squared test\n",
       "\n",
       "data:  Toy\n",
       "X-squared = 1.7258, df = 2, p-value = 0.4219\n"
      ]
     },
     "metadata": {},
     "output_type": "display_data"
    }
   ],
   "source": [
    "# 카이제고 검정 실시\n",
    "# p-value:유의 수준 \n",
    "chisq.test(Toy)"
   ]
  },
  {
   "cell_type": "markdown",
   "metadata": {},
   "source": [
    "### 결론\n",
    "p-value = 0.4219 > 0.05 (95% 신뢰구간) -> 귀무가설 채택 \n",
    "> child1과 child2의 데이터는 통계적으로 큰 차이가 없다.\n",
    "\n",
    "p-value는 0에 가까울수록 신뢰도가 높다. 미리 정해진 유의수준(일반적으로 0.05)보다 작으면 대립가설을 채택하고 유의수준보다 크면 귀무가설을 채택."
   ]
  },
  {
   "cell_type": "code",
   "execution_count": 6,
   "metadata": {
    "vscode": {
     "languageId": "r"
    }
   },
   "outputs": [
    {
     "data": {
      "text/html": [
       "0.986241382612456"
      ],
      "text/latex": [
       "0.986241382612456"
      ],
      "text/markdown": [
       "0.986241382612456"
      ],
      "text/plain": [
       "[1] 0.9862414"
      ]
     },
     "metadata": {},
     "output_type": "display_data"
    }
   ],
   "source": [
    "#상관계수\n",
    "#쌍둥이 데이터로 굉장히 비슷해서 분석의 의미 없다. \n",
    "cor(child1,child2)"
   ]
  },
  {
   "cell_type": "markdown",
   "metadata": {},
   "source": [
    "### 메세지 : 카이제곱의 근사값이 정확하지 않을수도 있다.\n",
    "- 데이터량이 적은 경우 발생"
   ]
  },
  {
   "cell_type": "markdown",
   "metadata": {},
   "source": [
    "---\n",
    "# 피셔검정"
   ]
  },
  {
   "cell_type": "code",
   "execution_count": 7,
   "metadata": {
    "vscode": {
     "languageId": "r"
    }
   },
   "outputs": [
    {
     "data": {
      "text/plain": [
       "\n",
       "\tFisher's Exact Test for Count Data\n",
       "\n",
       "data:  Toy\n",
       "p-value = 0.5165\n",
       "alternative hypothesis: two.sided\n"
      ]
     },
     "metadata": {},
     "output_type": "display_data"
    }
   ],
   "source": [
    "#데이터양이 적을 때\n",
    "fisher.test(Toy)"
   ]
  },
  {
   "cell_type": "code",
   "execution_count": 8,
   "metadata": {
    "vscode": {
     "languageId": "r"
    }
   },
   "outputs": [
    {
     "ename": "ERROR",
     "evalue": "Error in p - value = 귀무가설 <- 0.5165 > 0.05: 객체 'p'를 찾을 수 없습니다\n",
     "output_type": "error",
     "traceback": [
      "Error in p - value = 귀무가설 <- 0.5165 > 0.05: 객체 'p'를 찾을 수 없습니다\nTraceback:\n"
     ]
    }
   ],
   "source": [
    "p-value = 0.5165 > 0.05 -> 귀무가설"
   ]
  },
  {
   "cell_type": "markdown",
   "metadata": {},
   "source": [
    "---\n",
    "# t- 검정"
   ]
  },
  {
   "cell_type": "markdown",
   "metadata": {},
   "source": [
    "- 모집단의 분산이나 표준편차를 알지 못할 때\n",
    "모집단을 대표하는 표본으로부터 추정된 분산이나 표준편차를 가지고 검정하는 방법으로\n",
    "“두 모집단의 평균간의 차이는 없다”라는 귀무가설과 “두 모집단의 평균 간에 차이가 있다”라는 대립가설 중에 하나를 선택할 수 있도록 하는 통계적 검정방법이다."
   ]
  },
  {
   "cell_type": "code",
   "execution_count": null,
   "metadata": {
    "vscode": {
     "languageId": "r"
    }
   },
   "outputs": [],
   "source": [
    "# 귀무가설 : 건전지의 수명은 1000시간이다(분석 필요 X)\n",
    "# 대립가설 : 건전지의 수명은 1000시간이 아니다.(분석 O)"
   ]
  },
  {
   "cell_type": "code",
   "execution_count": null,
   "metadata": {
    "vscode": {
     "languageId": "r"
    }
   },
   "outputs": [],
   "source": [
    "bat <- c(980,1000,968,1032,1012,1002,996,1017)"
   ]
  },
  {
   "cell_type": "code",
   "execution_count": null,
   "metadata": {
    "vscode": {
     "languageId": "r"
    }
   },
   "outputs": [],
   "source": [
    "# 데이터의 분포가 정규분표인지 확인 -> Shapiro-wilk 검정\n",
    "# 귀무가설: 자료가 정규분포를 따른다. \n",
    "# 대립가설: 자료가 정규분포를 따르지 않는다. "
   ]
  },
  {
   "cell_type": "code",
   "execution_count": null,
   "metadata": {
    "vscode": {
     "languageId": "r"
    }
   },
   "outputs": [
    {
     "data": {
      "text/plain": [
       "\n",
       "\tShapiro-Wilk normality test\n",
       "\n",
       "data:  bat\n",
       "W = 0.98289, p-value = 0.9758\n"
      ]
     },
     "metadata": {},
     "output_type": "display_data"
    }
   ],
   "source": [
    "# 정규 분포 확인 \n",
    "shapiro.test(bat)"
   ]
  },
  {
   "cell_type": "code",
   "execution_count": null,
   "metadata": {
    "vscode": {
     "languageId": "r"
    }
   },
   "outputs": [],
   "source": [
    " p-value = 0.9758 > 0.05 -> 귀무가설"
   ]
  },
  {
   "cell_type": "code",
   "execution_count": null,
   "metadata": {
    "vscode": {
     "languageId": "r"
    }
   },
   "outputs": [
    {
     "data": {
      "text/plain": [
       "\n",
       "\tOne Sample t-test\n",
       "\n",
       "data:  bat\n",
       "t = 0.1217, df = 7, p-value = 0.9066\n",
       "alternative hypothesis: true mean is not equal to 1000\n",
       "95 percent confidence interval:\n",
       "  983.8737 1017.8763\n",
       "sample estimates:\n",
       "mean of x \n",
       " 1000.875 \n"
      ]
     },
     "metadata": {},
     "output_type": "display_data"
    }
   ],
   "source": [
    "# t- 검정실시\n",
    "t.test(bat, mu=1000,alternative=\"two.sided\")\n",
    "\n",
    "# mu : 비교하는 대상의 평균 \n",
    "# alternattive \n",
    "# - two.sided : 데이터가 평균과 다르다. \n",
    "# - greater : 데이터가 평균과 크다. \n",
    "# - less : 데이터가 평균과 적다.\n"
   ]
  },
  {
   "cell_type": "code",
   "execution_count": null,
   "metadata": {
    "vscode": {
     "languageId": "r"
    }
   },
   "outputs": [],
   "source": [
    "p-value = 0.9066 > 0.05 --> 귀무가설 :건전지의 수명은 1000시간이다"
   ]
  },
  {
   "cell_type": "markdown",
   "metadata": {
    "vscode": {
     "languageId": "r"
    }
   },
   "source": [
    "---"
   ]
  },
  {
   "cell_type": "code",
   "execution_count": 11,
   "metadata": {
    "vscode": {
     "languageId": "r"
    }
   },
   "outputs": [
    {
     "data": {
      "text/html": [
       "<table>\n",
       "<thead><tr><th scope=col>no</th><th scope=col>score</th></tr></thead>\n",
       "<tbody>\n",
       "\t<tr><td>1 </td><td>58</td></tr>\n",
       "\t<tr><td>2 </td><td>49</td></tr>\n",
       "\t<tr><td>3 </td><td>39</td></tr>\n",
       "\t<tr><td>4 </td><td>99</td></tr>\n",
       "\t<tr><td>5 </td><td>32</td></tr>\n",
       "\t<tr><td>6 </td><td>88</td></tr>\n",
       "</tbody>\n",
       "</table>\n"
      ],
      "text/latex": [
       "\\begin{tabular}{r|ll}\n",
       " no & score\\\\\n",
       "\\hline\n",
       "\t 1  & 58\\\\\n",
       "\t 2  & 49\\\\\n",
       "\t 3  & 39\\\\\n",
       "\t 4  & 99\\\\\n",
       "\t 5  & 32\\\\\n",
       "\t 6  & 88\\\\\n",
       "\\end{tabular}\n"
      ],
      "text/markdown": [
       "\n",
       "| no | score |\n",
       "|---|---|\n",
       "| 1  | 58 |\n",
       "| 2  | 49 |\n",
       "| 3  | 39 |\n",
       "| 4  | 99 |\n",
       "| 5  | 32 |\n",
       "| 6  | 88 |\n",
       "\n"
      ],
      "text/plain": [
       "  no score\n",
       "1 1  58   \n",
       "2 2  49   \n",
       "3 3  39   \n",
       "4 4  99   \n",
       "5 5  32   \n",
       "6 6  88   "
      ]
     },
     "metadata": {},
     "output_type": "display_data"
    }
   ],
   "source": [
    "exam <- read.csv(\"../Data/exam.csv\")\n",
    "head(exam)"
   ]
  },
  {
   "cell_type": "code",
   "execution_count": null,
   "metadata": {
    "vscode": {
     "languageId": "r"
    }
   },
   "outputs": [
    {
     "name": "stdout",
     "output_type": "stream",
     "text": [
      "'data.frame':\t17 obs. of  2 variables:\n",
      " $ no   : int  1 2 3 4 5 6 7 8 9 10 ...\n",
      " $ score: int  58 49 39 99 32 88 62 30 55 65 ...\n"
     ]
    }
   ],
   "source": [
    "str(exam)"
   ]
  },
  {
   "cell_type": "code",
   "execution_count": null,
   "metadata": {
    "vscode": {
     "languageId": "r"
    }
   },
   "outputs": [],
   "source": [
    "# 어떤 학급의 수학 점수 평균 : 55점\n",
    "# 가설 : 0교시 수업을 한 후에 학생들의 성적이 올랐을끼?\n",
    "# 귀무가설 : 성적이 오르지 않았다.\n",
    "# 대립가설 : 성적이 올랐다. "
   ]
  },
  {
   "cell_type": "code",
   "execution_count": 12,
   "metadata": {
    "vscode": {
     "languageId": "r"
    }
   },
   "outputs": [],
   "source": [
    "a <-exam$score"
   ]
  },
  {
   "cell_type": "code",
   "execution_count": null,
   "metadata": {
    "vscode": {
     "languageId": "r"
    }
   },
   "outputs": [
    {
     "data": {
      "text/plain": [
       "\n",
       "\tShapiro-Wilk normality test\n",
       "\n",
       "data:  a\n",
       "W = 0.91143, p-value = 0.1058\n"
      ]
     },
     "metadata": {},
     "output_type": "display_data"
    }
   ],
   "source": [
    "# 정규 분포 확인 \n",
    "shapiro.test(a)"
   ]
  },
  {
   "cell_type": "code",
   "execution_count": null,
   "metadata": {
    "vscode": {
     "languageId": "r"
    }
   },
   "outputs": [],
   "source": [
    " p-value = 0.1058 > 0.05 -> 귀무가설 "
   ]
  },
  {
   "cell_type": "code",
   "execution_count": null,
   "metadata": {
    "vscode": {
     "languageId": "r"
    }
   },
   "outputs": [
    {
     "data": {
      "text/html": [
       "56.1764705882353"
      ],
      "text/latex": [
       "56.1764705882353"
      ],
      "text/markdown": [
       "56.1764705882353"
      ],
      "text/plain": [
       "[1] 56.17647"
      ]
     },
     "metadata": {},
     "output_type": "display_data"
    }
   ],
   "source": [
    "mean(a)"
   ]
  },
  {
   "cell_type": "code",
   "execution_count": null,
   "metadata": {
    "vscode": {
     "languageId": "r"
    }
   },
   "outputs": [
    {
     "data": {
      "text/plain": [
       "   Min. 1st Qu.  Median    Mean 3rd Qu.    Max. \n",
       "  30.00   42.00   55.00   56.18   62.00   99.00 "
      ]
     },
     "metadata": {},
     "output_type": "display_data"
    }
   ],
   "source": [
    "summary(a)"
   ]
  },
  {
   "cell_type": "code",
   "execution_count": null,
   "metadata": {
    "vscode": {
     "languageId": "r"
    }
   },
   "outputs": [
    {
     "data": {
      "text/plain": [
       "\n",
       "\tOne Sample t-test\n",
       "\n",
       "data:  exam$score\n",
       "t = 0.24546, df = 16, p-value = 0.4046\n",
       "alternative hypothesis: true mean is greater than 55\n",
       "95 percent confidence interval:\n",
       " 47.80855      Inf\n",
       "sample estimates:\n",
       "mean of x \n",
       " 56.17647 \n"
      ]
     },
     "metadata": {},
     "output_type": "display_data"
    }
   ],
   "source": [
    "t.test(exam$score, mu= 55,alternative=\"greater\")                 #mu 비교대상의 중간값 "
   ]
  },
  {
   "cell_type": "code",
   "execution_count": null,
   "metadata": {
    "vscode": {
     "languageId": "r"
    }
   },
   "outputs": [],
   "source": [
    "p-value = 0.4046 > 0.05 -> 귀무가설 : 0교시 수업 후 성적이 오르지 않았다. "
   ]
  },
  {
   "cell_type": "code",
   "execution_count": 13,
   "metadata": {
    "vscode": {
     "languageId": "r"
    }
   },
   "outputs": [
    {
     "data": {
      "image/png": "[encoded data removed]",
      "text/plain": [
       "plot without title"
      ]
     },
     "metadata": {},
     "output_type": "display_data"
    }
   ],
   "source": [
    "par(bg='white')\n",
    "boxplot(a)          #평균은 오르지만 성적이 오르지 않았다."
   ]
  },
  {
   "cell_type": "markdown",
   "metadata": {},
   "source": [
    "---"
   ]
  },
  {
   "cell_type": "code",
   "execution_count": null,
   "metadata": {
    "vscode": {
     "languageId": "r"
    }
   },
   "outputs": [],
   "source": [
    "# 표본이 2개인 t - 검정\n",
    "# 귀무가설 : 복용 전후의 차이가 없다.\n",
    "# 대립가설 : 복용 전후의 차이가 있다. "
   ]
  },
  {
   "cell_type": "code",
   "execution_count": null,
   "metadata": {
    "vscode": {
     "languageId": "r"
    }
   },
   "outputs": [],
   "source": [
    "preMedicine <- read.csv(\"../Data/preMedicine.csv\")\n",
    "postMedicine <- read.csv(\"../Data/postMedicine.csv\")"
   ]
  },
  {
   "cell_type": "code",
   "execution_count": null,
   "metadata": {
    "vscode": {
     "languageId": "r"
    }
   },
   "outputs": [
    {
     "data": {
      "text/html": [
       "<table>\n",
       "<thead><tr><th scope=col>no</th><th scope=col>data</th></tr></thead>\n",
       "<tbody>\n",
       "\t<tr><td>1   </td><td>13.2</td></tr>\n",
       "\t<tr><td>2   </td><td> 8.2</td></tr>\n",
       "\t<tr><td>3   </td><td>10.9</td></tr>\n",
       "\t<tr><td>4   </td><td>14.3</td></tr>\n",
       "\t<tr><td>5   </td><td>10.7</td></tr>\n",
       "\t<tr><td>6   </td><td> 6.6</td></tr>\n",
       "</tbody>\n",
       "</table>\n"
      ],
      "text/latex": [
       "\\begin{tabular}{r|ll}\n",
       " no & data\\\\\n",
       "\\hline\n",
       "\t 1    & 13.2\\\\\n",
       "\t 2    &  8.2\\\\\n",
       "\t 3    & 10.9\\\\\n",
       "\t 4    & 14.3\\\\\n",
       "\t 5    & 10.7\\\\\n",
       "\t 6    &  6.6\\\\\n",
       "\\end{tabular}\n"
      ],
      "text/markdown": [
       "\n",
       "| no | data |\n",
       "|---|---|\n",
       "| 1    | 13.2 |\n",
       "| 2    |  8.2 |\n",
       "| 3    | 10.9 |\n",
       "| 4    | 14.3 |\n",
       "| 5    | 10.7 |\n",
       "| 6    |  6.6 |\n",
       "\n"
      ],
      "text/plain": [
       "  no data\n",
       "1 1  13.2\n",
       "2 2   8.2\n",
       "3 3  10.9\n",
       "4 4  14.3\n",
       "5 5  10.7\n",
       "6 6   6.6"
      ]
     },
     "metadata": {},
     "output_type": "display_data"
    }
   ],
   "source": [
    "head(preMedicine)"
   ]
  },
  {
   "cell_type": "code",
   "execution_count": null,
   "metadata": {
    "vscode": {
     "languageId": "r"
    }
   },
   "outputs": [
    {
     "data": {
      "text/html": [
       "<table>\n",
       "<thead><tr><th scope=col>no</th><th scope=col>data</th></tr></thead>\n",
       "<tbody>\n",
       "\t<tr><td>1   </td><td>14.0</td></tr>\n",
       "\t<tr><td>2   </td><td> 8.8</td></tr>\n",
       "\t<tr><td>3   </td><td>11.2</td></tr>\n",
       "\t<tr><td>4   </td><td>14.2</td></tr>\n",
       "\t<tr><td>5   </td><td>11.8</td></tr>\n",
       "\t<tr><td>6   </td><td> 6.4</td></tr>\n",
       "</tbody>\n",
       "</table>\n"
      ],
      "text/latex": [
       "\\begin{tabular}{r|ll}\n",
       " no & data\\\\\n",
       "\\hline\n",
       "\t 1    & 14.0\\\\\n",
       "\t 2    &  8.8\\\\\n",
       "\t 3    & 11.2\\\\\n",
       "\t 4    & 14.2\\\\\n",
       "\t 5    & 11.8\\\\\n",
       "\t 6    &  6.4\\\\\n",
       "\\end{tabular}\n"
      ],
      "text/markdown": [
       "\n",
       "| no | data |\n",
       "|---|---|\n",
       "| 1    | 14.0 |\n",
       "| 2    |  8.8 |\n",
       "| 3    | 11.2 |\n",
       "| 4    | 14.2 |\n",
       "| 5    | 11.8 |\n",
       "| 6    |  6.4 |\n",
       "\n"
      ],
      "text/plain": [
       "  no data\n",
       "1 1  14.0\n",
       "2 2   8.8\n",
       "3 3  11.2\n",
       "4 4  14.2\n",
       "5 5  11.8\n",
       "6 6   6.4"
      ]
     },
     "metadata": {},
     "output_type": "display_data"
    }
   ],
   "source": [
    "head(postMedicine)"
   ]
  },
  {
   "cell_type": "code",
   "execution_count": null,
   "metadata": {
    "vscode": {
     "languageId": "r"
    }
   },
   "outputs": [
    {
     "name": "stdout",
     "output_type": "stream",
     "text": [
      "'data.frame':\t10 obs. of  2 variables:\n",
      " $ no  : int  1 2 3 4 5 6 7 8 9 10\n",
      " $ data: num  13.2 8.2 10.9 14.3 10.7 6.6 9.5 10.8 8.8 13.3\n"
     ]
    }
   ],
   "source": [
    "str(preMedicine)"
   ]
  },
  {
   "cell_type": "code",
   "execution_count": null,
   "metadata": {
    "vscode": {
     "languageId": "r"
    }
   },
   "outputs": [
    {
     "name": "stdout",
     "output_type": "stream",
     "text": [
      "'data.frame':\t10 obs. of  2 variables:\n",
      " $ no  : int  1 2 3 4 5 6 7 8 9 10\n",
      " $ data: num  14 8.8 11.2 14.2 11.8 6.4 9.8 11.3 9.3 13.6\n"
     ]
    }
   ],
   "source": [
    "str(postMedicine)"
   ]
  },
  {
   "cell_type": "code",
   "execution_count": null,
   "metadata": {
    "vscode": {
     "languageId": "r"
    }
   },
   "outputs": [],
   "source": [
    "pre <- preMedicine$data\n",
    "post <- postMedicine$data"
   ]
  },
  {
   "cell_type": "code",
   "execution_count": null,
   "metadata": {
    "vscode": {
     "languageId": "r"
    }
   },
   "outputs": [
    {
     "data": {
      "text/plain": [
       "\n",
       "\tWelch Two Sample t-test\n",
       "\n",
       "data:  pre and post\n",
       "t = -0.36891, df = 17.987, p-value = 0.7165\n",
       "alternative hypothesis: true difference in means is not equal to 0\n",
       "95 percent confidence interval:\n",
       " -2.745046  1.925046\n",
       "sample estimates:\n",
       "mean of x mean of y \n",
       "    10.63     11.04 \n"
      ]
     },
     "metadata": {},
     "output_type": "display_data"
    }
   ],
   "source": [
    "t.test(pre,post,alternative = \"two.sided\")"
   ]
  },
  {
   "cell_type": "code",
   "execution_count": null,
   "metadata": {
    "vscode": {
     "languageId": "r"
    }
   },
   "outputs": [],
   "source": [
    "p-value = 0.7165 > 0.05 -> 귀무가설"
   ]
  },
  {
   "cell_type": "markdown",
   "metadata": {},
   "source": [
    "---\n",
    "# 상관계수"
   ]
  },
  {
   "cell_type": "code",
   "execution_count": null,
   "metadata": {
    "vscode": {
     "languageId": "r"
    }
   },
   "outputs": [
    {
     "data": {
      "text/html": [
       "0.835657838081095"
      ],
      "text/latex": [
       "0.835657838081095"
      ],
      "text/markdown": [
       "0.835657838081095"
      ],
      "text/plain": [
       "[1] 0.8356578"
      ]
     },
     "metadata": {},
     "output_type": "display_data"
    }
   ],
   "source": [
    "y <- c(1,2,3,4)             # 순서에 따라 상관계수가 달라짐 \n",
    "z <- c(0,7,5,9)\n",
    "\n",
    "cor(y,z)"
   ]
  },
  {
   "cell_type": "code",
   "execution_count": null,
   "metadata": {
    "vscode": {
     "languageId": "r"
    }
   },
   "outputs": [
    {
     "data": {
      "text/html": [
       "0.835657838081095"
      ],
      "text/latex": [
       "0.835657838081095"
      ],
      "text/markdown": [
       "0.835657838081095"
      ],
      "text/plain": [
       "[1] 0.8356578"
      ]
     },
     "metadata": {},
     "output_type": "display_data"
    }
   ],
   "source": [
    "# 피어슨 상관계수 \n",
    "cor( y,z, method = \"pearson\")       #default= pearson , 상관계수와 동일하게 나옴 "
   ]
  },
  {
   "cell_type": "code",
   "execution_count": null,
   "metadata": {
    "vscode": {
     "languageId": "r"
    }
   },
   "outputs": [
    {
     "data": {
      "text/html": [
       "0.8"
      ],
      "text/latex": [
       "0.8"
      ],
      "text/markdown": [
       "0.8"
      ],
      "text/plain": [
       "[1] 0.8"
      ]
     },
     "metadata": {},
     "output_type": "display_data"
    }
   ],
   "source": [
    "# 스피어맨 상관계수 ,데이터가 넘지 않을때 스피어맨 상관계수가 유효하다 \n",
    "cor( y,z, method = \"spearman\")       "
   ]
  },
  {
   "cell_type": "markdown",
   "metadata": {},
   "source": [
    "---\n",
    "# 콜모고로프-스미노프 검정(KS Test)\n",
    ": 주어진 2개의 데이터가 같은 분포를 이루는지 검정하는 것 "
   ]
  },
  {
   "cell_type": "code",
   "execution_count": null,
   "metadata": {
    "vscode": {
     "languageId": "r"
    }
   },
   "outputs": [],
   "source": [
    "# 귀무가설 : 두개의 데이터의 분포가 다르다\n",
    "# 대립가설 : 두개의 데이터의 분포가 같다"
   ]
  },
  {
   "cell_type": "code",
   "execution_count": null,
   "metadata": {
    "vscode": {
     "languageId": "r"
    }
   },
   "outputs": [
    {
     "data": {
      "text/plain": [
       "\n",
       "\tTwo-sample Kolmogorov-Smirnov test\n",
       "\n",
       "data:  x and y\n",
       "D = 0.48, p-value = 0.00001387\n",
       "alternative hypothesis: two-sided\n"
      ]
     },
     "metadata": {},
     "output_type": "display_data"
    }
   ],
   "source": [
    "x <- rnorm(50)\n",
    "y <- runif(50)\n",
    "options(scipen = 100)\n",
    "ks.test(x,y )"
   ]
  },
  {
   "cell_type": "code",
   "execution_count": null,
   "metadata": {
    "vscode": {
     "languageId": "r"
    }
   },
   "outputs": [],
   "source": [
    " p-value = 0.00001387 < 0.05 --> 대립가설"
   ]
  },
  {
   "cell_type": "markdown",
   "metadata": {},
   "source": [
    "---\n",
    "# 부호검정\n",
    ": 2개의 데이터 사이에 차이가 있는지 검정하는 것"
   ]
  },
  {
   "cell_type": "code",
   "execution_count": 15,
   "metadata": {
    "vscode": {
     "languageId": "r"
    }
   },
   "outputs": [],
   "source": [
    "# 식사전과 식사후의 음료수 맛에 대한 평가\n",
    "x <- c(4,1,1,4,3,3,2,5,3,3)       #식사 전의 음료수 맛에 대한 평가 점수, 만점 5점\n",
    "y <- c(1,1,3,2,5,1,4,4,3,1)       #식사 후의 음료수 맛에 대한 평가 점수"
   ]
  },
  {
   "cell_type": "code",
   "execution_count": null,
   "metadata": {
    "vscode": {
     "languageId": "r"
    }
   },
   "outputs": [],
   "source": [
    "# 귀무가설 : 유의한 차이가 없다\n",
    "# 대립가설 : 유의한 차이가 있다"
   ]
  },
  {
   "cell_type": "code",
   "execution_count": null,
   "metadata": {
    "vscode": {
     "languageId": "r"
    }
   },
   "outputs": [],
   "source": [
    "# 음료수 맛는 식사 전과 식사후의 차이가 없어야 함 ,귀무가설"
   ]
  },
  {
   "cell_type": "code",
   "execution_count": 16,
   "metadata": {
    "vscode": {
     "languageId": "r"
    }
   },
   "outputs": [
    {
     "data": {
      "text/plain": [
       "\n",
       "\tExact binomial test\n",
       "\n",
       "data:  c(length(x[x > y]), length(x[x < y]))\n",
       "number of successes = 5, number of trials = 8, p-value = 0.7266\n",
       "alternative hypothesis: true probability of success is not equal to 0.5\n",
       "95 percent confidence interval:\n",
       " 0.2448632 0.9147666\n",
       "sample estimates:\n",
       "probability of success \n",
       "                 0.625 \n"
      ]
     },
     "metadata": {},
     "output_type": "display_data"
    }
   ],
   "source": [
    "# 부호검정 \n",
    "binom.test(c(length(x[x>y]),length(x[x<y])))"
   ]
  },
  {
   "cell_type": "code",
   "execution_count": null,
   "metadata": {
    "vscode": {
     "languageId": "r"
    }
   },
   "outputs": [],
   "source": [
    "p-value = 0.7266 > 0.05 --> 귀무가설"
   ]
  },
  {
   "cell_type": "code",
   "execution_count": null,
   "metadata": {
    "vscode": {
     "languageId": "r"
    }
   },
   "outputs": [
    {
     "data": {
      "text/html": [
       "5"
      ],
      "text/latex": [
       "5"
      ],
      "text/markdown": [
       "5"
      ],
      "text/plain": [
       "[1] 5"
      ]
     },
     "metadata": {},
     "output_type": "display_data"
    },
    {
     "data": {
      "text/html": [
       "3"
      ],
      "text/latex": [
       "3"
      ],
      "text/markdown": [
       "3"
      ],
      "text/plain": [
       "[1] 3"
      ]
     },
     "metadata": {},
     "output_type": "display_data"
    }
   ],
   "source": [
    "length(x[x>y])\n",
    "length(x[x<y])"
   ]
  },
  {
   "cell_type": "markdown",
   "metadata": {},
   "source": [
    "---\n",
    "# 비율 검정\n",
    ": 2갸의 데이터 사이에 비율의 차이가 있는지에 대한 것을 검정 "
   ]
  },
  {
   "cell_type": "code",
   "execution_count": null,
   "metadata": {
    "vscode": {
     "languageId": "r"
    }
   },
   "outputs": [],
   "source": [
    "# 맥주를 좋아하시나요? 라는 질문에 서울에서는 400명중에 360명, 부산에서는 200명 중에 136명이 좋아한다고 답했다면 \n",
    "# 둘의 비율 차이가 있다고 할 수 있는가?\n",
    "\n",
    "# 귀무가설 : 유의한 차이가 없다\n",
    "# 대립가설 : 유의한 차이가 있다"
   ]
  },
  {
   "cell_type": "code",
   "execution_count": null,
   "metadata": {
    "vscode": {
     "languageId": "r"
    }
   },
   "outputs": [
    {
     "data": {
      "text/plain": [
       "\n",
       "\t2-sample test for equality of proportions with continuity correction\n",
       "\n",
       "data:  hite out of sample\n",
       "X-squared = 43.515, df = 1, p-value = 0.00000000004207\n",
       "alternative hypothesis: two.sided\n",
       "95 percent confidence interval:\n",
       " 0.14523 0.29477\n",
       "sample estimates:\n",
       "prop 1 prop 2 \n",
       "  0.90   0.68 \n"
      ]
     },
     "metadata": {},
     "output_type": "display_data"
    }
   ],
   "source": [
    "hite <- c(360,136)              #하이트 맥주를 선호하는 수\n",
    "sample <- c(400,200)            # 전체 집단\n",
    "\n",
    "prop.test(hite, sample)"
   ]
  },
  {
   "cell_type": "code",
   "execution_count": null,
   "metadata": {
    "vscode": {
     "languageId": "r"
    }
   },
   "outputs": [],
   "source": [
    "(유의수준)p-value = 0.00000000004207  < 0.05 --> 대립가설: 유의미한 차이가 있다. \n",
    "(지역별로 선호도가 달라 맥주맛을 다르게 출시 가능)\n",
    "# 코카콜라의 맛은 나라별로 실제로 다르다 "
   ]
  }
 ],
 "metadata": {
  "kernelspec": {
   "display_name": "R",
   "language": "R",
   "name": "ir"
  },
  "language_info": {
   "codemirror_mode": "r",
   "file_extension": ".r",
   "mimetype": "text/x-r-source",
   "name": "R",
   "pygments_lexer": "r",
   "version": "3.6.1"
  },
  "orig_nbformat": 4
 },
 "nbformat": 4,
 "nbformat_minor": 2
}
