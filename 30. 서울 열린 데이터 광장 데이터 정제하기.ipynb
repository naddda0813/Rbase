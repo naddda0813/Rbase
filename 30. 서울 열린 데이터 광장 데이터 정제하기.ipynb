{
 "cells": [
  {
   "cell_type": "markdown",
   "metadata": {},
   "source": [
    "---\n",
    "# 서울 열린 데이터광장 활용\n",
    "## 2011 ~ 2019 서울시 자치구별 발생건수 "
   ]
  },
  {
   "cell_type": "code",
   "execution_count": 3,
   "metadata": {
    "vscode": {
     "languageId": "r"
    }
   },
   "outputs": [
    {
     "data": {
      "text/html": [
       "<table>\n",
       "<thead><tr><th scope=col>기간</th><th scope=col>자치구별</th><th scope=col>구분</th><th scope=col>합계</th><th scope=col>X1월</th><th scope=col>X2월</th><th scope=col>X3월</th><th scope=col>X4월</th><th scope=col>X5월</th><th scope=col>X6월</th><th scope=col>X7월</th><th scope=col>X8월</th><th scope=col>X9월</th><th scope=col>X10월</th><th scope=col>X11월</th><th scope=col>X12월</th></tr></thead>\n",
       "<tbody>\n",
       "\t<tr><td>2011    </td><td>합계    </td><td>발생건수</td><td>40,451  </td><td>3,038   </td><td>2,573   </td><td>3,126   </td><td>3,450   </td><td>3,603   </td><td>3,390   </td><td>3,529   </td><td>3,360   </td><td>3,433   </td><td>3,734   </td><td>3,701   </td><td>3,514   </td></tr>\n",
       "\t<tr><td>2011    </td><td>합계    </td><td>사망자수</td><td>435     </td><td>36      </td><td>32      </td><td>20      </td><td>44      </td><td>36      </td><td>37      </td><td>36      </td><td>50      </td><td>37      </td><td>25      </td><td>40      </td><td>42      </td></tr>\n",
       "\t<tr><td>2011    </td><td>합계    </td><td>부상자수</td><td>57,625  </td><td>4,429   </td><td>3,734   </td><td>4,513   </td><td>4,905   </td><td>5,036   </td><td>4,831   </td><td>5,067   </td><td>4,823   </td><td>4,893   </td><td>5,244   </td><td>5,150   </td><td>5,000   </td></tr>\n",
       "\t<tr><td>2011    </td><td>종로구  </td><td>발생건수</td><td>1,421   </td><td>115     </td><td>99      </td><td>116     </td><td>110     </td><td>122     </td><td>116     </td><td>103     </td><td>122     </td><td>121     </td><td>135     </td><td>140     </td><td>122     </td></tr>\n",
       "\t<tr><td>2011    </td><td>종로구  </td><td>사망자수</td><td>14      </td><td>2       </td><td>-       </td><td>-       </td><td>1       </td><td>-       </td><td>3       </td><td>1       </td><td>1       </td><td>2       </td><td>2       </td><td>1       </td><td>1       </td></tr>\n",
       "\t<tr><td>2011    </td><td>종로구  </td><td>부상자수</td><td>1,994   </td><td>165     </td><td>134     </td><td>162     </td><td>153     </td><td>157     </td><td>163     </td><td>154     </td><td>171     </td><td>166     </td><td>193     </td><td>204     </td><td>172     </td></tr>\n",
       "</tbody>\n",
       "</table>\n"
      ],
      "text/latex": [
       "\\begin{tabular}{r|llllllllllllllll}\n",
       " 기간 & 자치구별 & 구분 & 합계 & X1월 & X2월 & X3월 & X4월 & X5월 & X6월 & X7월 & X8월 & X9월 & X10월 & X11월 & X12월\\\\\n",
       "\\hline\n",
       "\t 2011     & 합계     & 발생건수 & 40,451   & 3,038    & 2,573    & 3,126    & 3,450    & 3,603    & 3,390    & 3,529    & 3,360    & 3,433    & 3,734    & 3,701    & 3,514   \\\\\n",
       "\t 2011     & 합계     & 사망자수 & 435      & 36       & 32       & 20       & 44       & 36       & 37       & 36       & 50       & 37       & 25       & 40       & 42      \\\\\n",
       "\t 2011     & 합계     & 부상자수 & 57,625   & 4,429    & 3,734    & 4,513    & 4,905    & 5,036    & 4,831    & 5,067    & 4,823    & 4,893    & 5,244    & 5,150    & 5,000   \\\\\n",
       "\t 2011     & 종로구   & 발생건수 & 1,421    & 115      & 99       & 116      & 110      & 122      & 116      & 103      & 122      & 121      & 135      & 140      & 122     \\\\\n",
       "\t 2011     & 종로구   & 사망자수 & 14       & 2        & -        & -        & 1        & -        & 3        & 1        & 1        & 2        & 2        & 1        & 1       \\\\\n",
       "\t 2011     & 종로구   & 부상자수 & 1,994    & 165      & 134      & 162      & 153      & 157      & 163      & 154      & 171      & 166      & 193      & 204      & 172     \\\\\n",
       "\\end{tabular}\n"
      ],
      "text/markdown": [
       "\n",
       "| 기간 | 자치구별 | 구분 | 합계 | X1월 | X2월 | X3월 | X4월 | X5월 | X6월 | X7월 | X8월 | X9월 | X10월 | X11월 | X12월 |\n",
       "|---|---|---|---|---|---|---|---|---|---|---|---|---|---|---|---|\n",
       "| 2011     | 합계     | 발생건수 | 40,451   | 3,038    | 2,573    | 3,126    | 3,450    | 3,603    | 3,390    | 3,529    | 3,360    | 3,433    | 3,734    | 3,701    | 3,514    |\n",
       "| 2011     | 합계     | 사망자수 | 435      | 36       | 32       | 20       | 44       | 36       | 37       | 36       | 50       | 37       | 25       | 40       | 42       |\n",
       "| 2011     | 합계     | 부상자수 | 57,625   | 4,429    | 3,734    | 4,513    | 4,905    | 5,036    | 4,831    | 5,067    | 4,823    | 4,893    | 5,244    | 5,150    | 5,000    |\n",
       "| 2011     | 종로구   | 발생건수 | 1,421    | 115      | 99       | 116      | 110      | 122      | 116      | 103      | 122      | 121      | 135      | 140      | 122      |\n",
       "| 2011     | 종로구   | 사망자수 | 14       | 2        | -        | -        | 1        | -        | 3        | 1        | 1        | 2        | 2        | 1        | 1        |\n",
       "| 2011     | 종로구   | 부상자수 | 1,994    | 165      | 134      | 162      | 153      | 157      | 163      | 154      | 171      | 166      | 193      | 204      | 172      |\n",
       "\n"
      ],
      "text/plain": [
       "  기간 자치구별 구분     합계   X1월  X2월  X3월  X4월  X5월  X6월  X7월  X8월 \n",
       "1 2011 합계     발생건수 40,451 3,038 2,573 3,126 3,450 3,603 3,390 3,529 3,360\n",
       "2 2011 합계     사망자수 435    36    32    20    44    36    37    36    50   \n",
       "3 2011 합계     부상자수 57,625 4,429 3,734 4,513 4,905 5,036 4,831 5,067 4,823\n",
       "4 2011 종로구   발생건수 1,421  115   99    116   110   122   116   103   122  \n",
       "5 2011 종로구   사망자수 14     2     -     -     1     -     3     1     1    \n",
       "6 2011 종로구   부상자수 1,994  165   134   162   153   157   163   154   171  \n",
       "  X9월  X10월 X11월 X12월\n",
       "1 3,433 3,734 3,701 3,514\n",
       "2 37    25    40    42   \n",
       "3 4,893 5,244 5,150 5,000\n",
       "4 121   135   140   122  \n",
       "5 2     2     1     1    \n",
       "6 166   193   204   172  "
      ]
     },
     "metadata": {},
     "output_type": "display_data"
    }
   ],
   "source": [
    "seoul <- read.table(\"../Data/trafficAccident_2011_2019.txt\",header = T,stringsAsFactors = F)\n",
    "head(seoul)"
   ]
  },
  {
   "cell_type": "code",
   "execution_count": 4,
   "metadata": {
    "vscode": {
     "languageId": "r"
    }
   },
   "outputs": [
    {
     "data": {
      "text/html": [
       "<table>\n",
       "<thead><tr><th scope=col>기간</th><th scope=col>자치구별</th><th scope=col>구분</th><th scope=col>합계</th><th scope=col>X1월</th><th scope=col>X2월</th><th scope=col>X3월</th><th scope=col>X4월</th><th scope=col>X5월</th><th scope=col>X6월</th><th scope=col>X7월</th><th scope=col>X8월</th><th scope=col>X9월</th><th scope=col>X10월</th><th scope=col>X11월</th><th scope=col>X12월</th></tr></thead>\n",
       "<tbody>\n",
       "\t<tr><td>2011    </td><td>합계    </td><td>발생건수</td><td>40,451  </td><td>3,038   </td><td>2,573   </td><td>3,126   </td><td>3,450   </td><td>3,603   </td><td>3,390   </td><td>3,529   </td><td>3,360   </td><td>3,433   </td><td>3,734   </td><td>3,701   </td><td>3,514   </td></tr>\n",
       "\t<tr><td>2011    </td><td>합계    </td><td>사망자수</td><td>435     </td><td>36      </td><td>32      </td><td>20      </td><td>44      </td><td>36      </td><td>37      </td><td>36      </td><td>50      </td><td>37      </td><td>25      </td><td>40      </td><td>42      </td></tr>\n",
       "\t<tr><td>2011    </td><td>합계    </td><td>부상자수</td><td>57,625  </td><td>4,429   </td><td>3,734   </td><td>4,513   </td><td>4,905   </td><td>5,036   </td><td>4,831   </td><td>5,067   </td><td>4,823   </td><td>4,893   </td><td>5,244   </td><td>5,150   </td><td>5,000   </td></tr>\n",
       "\t<tr><td>2011    </td><td>종로구  </td><td>발생건수</td><td>1,421   </td><td>115     </td><td>99      </td><td>116     </td><td>110     </td><td>122     </td><td>116     </td><td>103     </td><td>122     </td><td>121     </td><td>135     </td><td>140     </td><td>122     </td></tr>\n",
       "\t<tr><td>2011    </td><td>종로구  </td><td>사망자수</td><td>14      </td><td>2       </td><td>-       </td><td>-       </td><td>1       </td><td>-       </td><td>3       </td><td>1       </td><td>1       </td><td>2       </td><td>2       </td><td>1       </td><td>1       </td></tr>\n",
       "\t<tr><td>2011    </td><td>종로구  </td><td>부상자수</td><td>1,994   </td><td>165     </td><td>134     </td><td>162     </td><td>153     </td><td>157     </td><td>163     </td><td>154     </td><td>171     </td><td>166     </td><td>193     </td><td>204     </td><td>172     </td></tr>\n",
       "</tbody>\n",
       "</table>\n"
      ],
      "text/latex": [
       "\\begin{tabular}{r|llllllllllllllll}\n",
       " 기간 & 자치구별 & 구분 & 합계 & X1월 & X2월 & X3월 & X4월 & X5월 & X6월 & X7월 & X8월 & X9월 & X10월 & X11월 & X12월\\\\\n",
       "\\hline\n",
       "\t 2011     & 합계     & 발생건수 & 40,451   & 3,038    & 2,573    & 3,126    & 3,450    & 3,603    & 3,390    & 3,529    & 3,360    & 3,433    & 3,734    & 3,701    & 3,514   \\\\\n",
       "\t 2011     & 합계     & 사망자수 & 435      & 36       & 32       & 20       & 44       & 36       & 37       & 36       & 50       & 37       & 25       & 40       & 42      \\\\\n",
       "\t 2011     & 합계     & 부상자수 & 57,625   & 4,429    & 3,734    & 4,513    & 4,905    & 5,036    & 4,831    & 5,067    & 4,823    & 4,893    & 5,244    & 5,150    & 5,000   \\\\\n",
       "\t 2011     & 종로구   & 발생건수 & 1,421    & 115      & 99       & 116      & 110      & 122      & 116      & 103      & 122      & 121      & 135      & 140      & 122     \\\\\n",
       "\t 2011     & 종로구   & 사망자수 & 14       & 2        & -        & -        & 1        & -        & 3        & 1        & 1        & 2        & 2        & 1        & 1       \\\\\n",
       "\t 2011     & 종로구   & 부상자수 & 1,994    & 165      & 134      & 162      & 153      & 157      & 163      & 154      & 171      & 166      & 193      & 204      & 172     \\\\\n",
       "\\end{tabular}\n"
      ],
      "text/markdown": [
       "\n",
       "| 기간 | 자치구별 | 구분 | 합계 | X1월 | X2월 | X3월 | X4월 | X5월 | X6월 | X7월 | X8월 | X9월 | X10월 | X11월 | X12월 |\n",
       "|---|---|---|---|---|---|---|---|---|---|---|---|---|---|---|---|\n",
       "| 2011     | 합계     | 발생건수 | 40,451   | 3,038    | 2,573    | 3,126    | 3,450    | 3,603    | 3,390    | 3,529    | 3,360    | 3,433    | 3,734    | 3,701    | 3,514    |\n",
       "| 2011     | 합계     | 사망자수 | 435      | 36       | 32       | 20       | 44       | 36       | 37       | 36       | 50       | 37       | 25       | 40       | 42       |\n",
       "| 2011     | 합계     | 부상자수 | 57,625   | 4,429    | 3,734    | 4,513    | 4,905    | 5,036    | 4,831    | 5,067    | 4,823    | 4,893    | 5,244    | 5,150    | 5,000    |\n",
       "| 2011     | 종로구   | 발생건수 | 1,421    | 115      | 99       | 116      | 110      | 122      | 116      | 103      | 122      | 121      | 135      | 140      | 122      |\n",
       "| 2011     | 종로구   | 사망자수 | 14       | 2        | -        | -        | 1        | -        | 3        | 1        | 1        | 2        | 2        | 1        | 1        |\n",
       "| 2011     | 종로구   | 부상자수 | 1,994    | 165      | 134      | 162      | 153      | 157      | 163      | 154      | 171      | 166      | 193      | 204      | 172      |\n",
       "\n"
      ],
      "text/plain": [
       "  기간 자치구별 구분     합계   X1월  X2월  X3월  X4월  X5월  X6월  X7월  X8월 \n",
       "1 2011 합계     발생건수 40,451 3,038 2,573 3,126 3,450 3,603 3,390 3,529 3,360\n",
       "2 2011 합계     사망자수 435    36    32    20    44    36    37    36    50   \n",
       "3 2011 합계     부상자수 57,625 4,429 3,734 4,513 4,905 5,036 4,831 5,067 4,823\n",
       "4 2011 종로구   발생건수 1,421  115   99    116   110   122   116   103   122  \n",
       "5 2011 종로구   사망자수 14     2     -     -     1     -     3     1     1    \n",
       "6 2011 종로구   부상자수 1,994  165   134   162   153   157   163   154   171  \n",
       "  X9월  X10월 X11월 X12월\n",
       "1 3,433 3,734 3,701 3,514\n",
       "2 37    25    40    42   \n",
       "3 4,893 5,244 5,150 5,000\n",
       "4 121   135   140   122  \n",
       "5 2     2     1     1    \n",
       "6 166   193   204   172  "
      ]
     },
     "metadata": {},
     "output_type": "display_data"
    }
   ],
   "source": [
    "head(seoul)"
   ]
  },
  {
   "cell_type": "code",
   "execution_count": 5,
   "metadata": {
    "vscode": {
     "languageId": "r"
    }
   },
   "outputs": [
    {
     "name": "stdout",
     "output_type": "stream",
     "text": [
      "'data.frame':\t702 obs. of  16 variables:\n",
      " $ 기간    : int  2011 2011 2011 2011 2011 2011 2011 2011 2011 2011 ...\n",
      " $ 자치구별: chr  \"합계\" \"합계\" \"합계\" \"종로구\" ...\n",
      " $ 구분    : chr  \"발생건수\" \"사망자수\" \"부상자수\" \"발생건수\" ...\n",
      " $ 합계    : chr  \"40,451\" \"435\" \"57,625\" \"1,421\" ...\n",
      " $ X1월    : chr  \"3,038\" \"36\" \"4,429\" \"115\" ...\n",
      " $ X2월    : chr  \"2,573\" \"32\" \"3,734\" \"99\" ...\n",
      " $ X3월    : chr  \"3,126\" \"20\" \"4,513\" \"116\" ...\n",
      " $ X4월    : chr  \"3,450\" \"44\" \"4,905\" \"110\" ...\n",
      " $ X5월    : chr  \"3,603\" \"36\" \"5,036\" \"122\" ...\n",
      " $ X6월    : chr  \"3,390\" \"37\" \"4,831\" \"116\" ...\n",
      " $ X7월    : chr  \"3,529\" \"36\" \"5,067\" \"103\" ...\n",
      " $ X8월    : chr  \"3,360\" \"50\" \"4,823\" \"122\" ...\n",
      " $ X9월    : chr  \"3,433\" \"37\" \"4,893\" \"121\" ...\n",
      " $ X10월   : chr  \"3,734\" \"25\" \"5,244\" \"135\" ...\n",
      " $ X11월   : chr  \"3,701\" \"40\" \"5,150\" \"140\" ...\n",
      " $ X12월   : chr  \"3,514\" \"42\" \"5,000\" \"122\" ...\n"
     ]
    }
   ],
   "source": [
    "str(seoul)"
   ]
  },
  {
   "cell_type": "code",
   "execution_count": 6,
   "metadata": {
    "vscode": {
     "languageId": "r"
    }
   },
   "outputs": [
    {
     "data": {
      "text/html": [
       "<table>\n",
       "<thead><tr><th scope=col>기간</th><th scope=col>자치구별</th><th scope=col>구분</th><th scope=col>합계</th><th scope=col>1월</th><th scope=col>2월</th><th scope=col>3월</th><th scope=col>4월</th><th scope=col>5월</th><th scope=col>6월</th><th scope=col>7월</th><th scope=col>8월</th><th scope=col>9월</th><th scope=col>10월</th><th scope=col>11월</th><th scope=col>12월</th></tr></thead>\n",
       "<tbody>\n",
       "\t<tr><td>2011    </td><td>합계    </td><td>발생건수</td><td>40,451  </td><td>3,038   </td><td>2,573   </td><td>3,126   </td><td>3,450   </td><td>3,603   </td><td>3,390   </td><td>3,529   </td><td>3,360   </td><td>3,433   </td><td>3,734   </td><td>3,701   </td><td>3,514   </td></tr>\n",
       "\t<tr><td>2011    </td><td>합계    </td><td>사망자수</td><td>435     </td><td>36      </td><td>32      </td><td>20      </td><td>44      </td><td>36      </td><td>37      </td><td>36      </td><td>50      </td><td>37      </td><td>25      </td><td>40      </td><td>42      </td></tr>\n",
       "\t<tr><td>2011    </td><td>합계    </td><td>부상자수</td><td>57,625  </td><td>4,429   </td><td>3,734   </td><td>4,513   </td><td>4,905   </td><td>5,036   </td><td>4,831   </td><td>5,067   </td><td>4,823   </td><td>4,893   </td><td>5,244   </td><td>5,150   </td><td>5,000   </td></tr>\n",
       "\t<tr><td>2011    </td><td>종로구  </td><td>발생건수</td><td>1,421   </td><td>115     </td><td>99      </td><td>116     </td><td>110     </td><td>122     </td><td>116     </td><td>103     </td><td>122     </td><td>121     </td><td>135     </td><td>140     </td><td>122     </td></tr>\n",
       "\t<tr><td>2011    </td><td>종로구  </td><td>사망자수</td><td>14      </td><td>2       </td><td>-       </td><td>-       </td><td>1       </td><td>-       </td><td>3       </td><td>1       </td><td>1       </td><td>2       </td><td>2       </td><td>1       </td><td>1       </td></tr>\n",
       "\t<tr><td>2011    </td><td>종로구  </td><td>부상자수</td><td>1,994   </td><td>165     </td><td>134     </td><td>162     </td><td>153     </td><td>157     </td><td>163     </td><td>154     </td><td>171     </td><td>166     </td><td>193     </td><td>204     </td><td>172     </td></tr>\n",
       "</tbody>\n",
       "</table>\n"
      ],
      "text/latex": [
       "\\begin{tabular}{r|llllllllllllllll}\n",
       " 기간 & 자치구별 & 구분 & 합계 & 1월 & 2월 & 3월 & 4월 & 5월 & 6월 & 7월 & 8월 & 9월 & 10월 & 11월 & 12월\\\\\n",
       "\\hline\n",
       "\t 2011     & 합계     & 발생건수 & 40,451   & 3,038    & 2,573    & 3,126    & 3,450    & 3,603    & 3,390    & 3,529    & 3,360    & 3,433    & 3,734    & 3,701    & 3,514   \\\\\n",
       "\t 2011     & 합계     & 사망자수 & 435      & 36       & 32       & 20       & 44       & 36       & 37       & 36       & 50       & 37       & 25       & 40       & 42      \\\\\n",
       "\t 2011     & 합계     & 부상자수 & 57,625   & 4,429    & 3,734    & 4,513    & 4,905    & 5,036    & 4,831    & 5,067    & 4,823    & 4,893    & 5,244    & 5,150    & 5,000   \\\\\n",
       "\t 2011     & 종로구   & 발생건수 & 1,421    & 115      & 99       & 116      & 110      & 122      & 116      & 103      & 122      & 121      & 135      & 140      & 122     \\\\\n",
       "\t 2011     & 종로구   & 사망자수 & 14       & 2        & -        & -        & 1        & -        & 3        & 1        & 1        & 2        & 2        & 1        & 1       \\\\\n",
       "\t 2011     & 종로구   & 부상자수 & 1,994    & 165      & 134      & 162      & 153      & 157      & 163      & 154      & 171      & 166      & 193      & 204      & 172     \\\\\n",
       "\\end{tabular}\n"
      ],
      "text/markdown": [
       "\n",
       "| 기간 | 자치구별 | 구분 | 합계 | 1월 | 2월 | 3월 | 4월 | 5월 | 6월 | 7월 | 8월 | 9월 | 10월 | 11월 | 12월 |\n",
       "|---|---|---|---|---|---|---|---|---|---|---|---|---|---|---|---|\n",
       "| 2011     | 합계     | 발생건수 | 40,451   | 3,038    | 2,573    | 3,126    | 3,450    | 3,603    | 3,390    | 3,529    | 3,360    | 3,433    | 3,734    | 3,701    | 3,514    |\n",
       "| 2011     | 합계     | 사망자수 | 435      | 36       | 32       | 20       | 44       | 36       | 37       | 36       | 50       | 37       | 25       | 40       | 42       |\n",
       "| 2011     | 합계     | 부상자수 | 57,625   | 4,429    | 3,734    | 4,513    | 4,905    | 5,036    | 4,831    | 5,067    | 4,823    | 4,893    | 5,244    | 5,150    | 5,000    |\n",
       "| 2011     | 종로구   | 발생건수 | 1,421    | 115      | 99       | 116      | 110      | 122      | 116      | 103      | 122      | 121      | 135      | 140      | 122      |\n",
       "| 2011     | 종로구   | 사망자수 | 14       | 2        | -        | -        | 1        | -        | 3        | 1        | 1        | 2        | 2        | 1        | 1        |\n",
       "| 2011     | 종로구   | 부상자수 | 1,994    | 165      | 134      | 162      | 153      | 157      | 163      | 154      | 171      | 166      | 193      | 204      | 172      |\n",
       "\n"
      ],
      "text/plain": [
       "  기간 자치구별 구분     합계   1월   2월   3월   4월   5월   6월   7월   8월  \n",
       "1 2011 합계     발생건수 40,451 3,038 2,573 3,126 3,450 3,603 3,390 3,529 3,360\n",
       "2 2011 합계     사망자수 435    36    32    20    44    36    37    36    50   \n",
       "3 2011 합계     부상자수 57,625 4,429 3,734 4,513 4,905 5,036 4,831 5,067 4,823\n",
       "4 2011 종로구   발생건수 1,421  115   99    116   110   122   116   103   122  \n",
       "5 2011 종로구   사망자수 14     2     -     -     1     -     3     1     1    \n",
       "6 2011 종로구   부상자수 1,994  165   134   162   153   157   163   154   171  \n",
       "  9월   10월  11월  12월 \n",
       "1 3,433 3,734 3,701 3,514\n",
       "2 37    25    40    42   \n",
       "3 4,893 5,244 5,150 5,000\n",
       "4 121   135   140   122  \n",
       "5 2     2     1     1    \n",
       "6 166   193   204   172  "
      ]
     },
     "metadata": {},
     "output_type": "display_data"
    }
   ],
   "source": [
    "colnames(seoul)[5:16] <- substring(colnames(seoul)[5:16], 2, length(colnames(seoul)[5:16]))\n",
    "head(seoul)"
   ]
  },
  {
   "cell_type": "code",
   "execution_count": 7,
   "metadata": {
    "vscode": {
     "languageId": "r"
    }
   },
   "outputs": [],
   "source": [
    "seoul1 <- seoul"
   ]
  },
  {
   "cell_type": "code",
   "execution_count": 8,
   "metadata": {
    "vscode": {
     "languageId": "r"
    }
   },
   "outputs": [
    {
     "name": "stdout",
     "output_type": "stream",
     "text": [
      "'data.frame':\t675 obs. of  16 variables:\n",
      " $ 기간    : int  2011 2011 2011 2011 2011 2011 2011 2011 2011 2011 ...\n",
      " $ 자치구별: chr  \"종로구\" \"종로구\" \"종로구\" \"중구\" ...\n",
      " $ 구분    : chr  \"발생건수\" \"사망자수\" \"부상자수\" \"발생건수\" ...\n",
      " $ 합계    : chr  \"1,421\" \"14\" \"1,994\" \"1,497\" ...\n",
      " $ 1월     : chr  \"115\" \"2\" \"165\" \"108\" ...\n",
      " $ 2월     : chr  \"99\" \"-\" \"134\" \"86\" ...\n",
      " $ 3월     : chr  \"116\" \"-\" \"162\" \"141\" ...\n",
      " $ 4월     : chr  \"110\" \"1\" \"153\" \"128\" ...\n",
      " $ 5월     : chr  \"122\" \"-\" \"157\" \"121\" ...\n",
      " $ 6월     : chr  \"116\" \"3\" \"163\" \"115\" ...\n",
      " $ 7월     : chr  \"103\" \"1\" \"154\" \"119\" ...\n",
      " $ 8월     : chr  \"122\" \"1\" \"171\" \"117\" ...\n",
      " $ 9월     : chr  \"121\" \"2\" \"166\" \"140\" ...\n",
      " $ 10월    : chr  \"135\" \"2\" \"193\" \"147\" ...\n",
      " $ 11월    : chr  \"140\" \"1\" \"204\" \"132\" ...\n",
      " $ 12월    : chr  \"122\" \"1\" \"172\" \"143\" ...\n"
     ]
    }
   ],
   "source": [
    "seoul <- subset(seoul,!자치구별=='합계')\n",
    "str(seoul)"
   ]
  },
  {
   "cell_type": "code",
   "execution_count": 9,
   "metadata": {
    "vscode": {
     "languageId": "r"
    }
   },
   "outputs": [],
   "source": [
    "rownames <- c()"
   ]
  },
  {
   "cell_type": "code",
   "execution_count": 10,
   "metadata": {
    "vscode": {
     "languageId": "r"
    }
   },
   "outputs": [
    {
     "data": {
      "text/html": [
       "<table>\n",
       "<thead><tr><th></th><th scope=col>기간</th><th scope=col>자치구별</th><th scope=col>구분</th><th scope=col>합계</th><th scope=col>1월</th><th scope=col>2월</th><th scope=col>3월</th><th scope=col>4월</th><th scope=col>5월</th><th scope=col>6월</th><th scope=col>7월</th><th scope=col>8월</th><th scope=col>9월</th><th scope=col>10월</th><th scope=col>11월</th><th scope=col>12월</th></tr></thead>\n",
       "<tbody>\n",
       "\t<tr><th scope=row>4</th><td>2011    </td><td>종로구  </td><td>발생건수</td><td>1,421   </td><td>115     </td><td>99      </td><td>116     </td><td>110     </td><td>122     </td><td>116     </td><td>103     </td><td>122     </td><td>121     </td><td>135     </td><td>140     </td><td>122     </td></tr>\n",
       "\t<tr><th scope=row>5</th><td>2011    </td><td>종로구  </td><td>사망자수</td><td>14      </td><td>2       </td><td>-       </td><td>-       </td><td>1       </td><td>-       </td><td>3       </td><td>1       </td><td>1       </td><td>2       </td><td>2       </td><td>1       </td><td>1       </td></tr>\n",
       "\t<tr><th scope=row>6</th><td>2011    </td><td>종로구  </td><td>부상자수</td><td>1,994   </td><td>165     </td><td>134     </td><td>162     </td><td>153     </td><td>157     </td><td>163     </td><td>154     </td><td>171     </td><td>166     </td><td>193     </td><td>204     </td><td>172     </td></tr>\n",
       "\t<tr><th scope=row>7</th><td>2011    </td><td>중구    </td><td>발생건수</td><td>1,497   </td><td>108     </td><td>86      </td><td>141     </td><td>128     </td><td>121     </td><td>115     </td><td>119     </td><td>117     </td><td>140     </td><td>147     </td><td>132     </td><td>143     </td></tr>\n",
       "\t<tr><th scope=row>8</th><td>2011    </td><td>중구    </td><td>사망자수</td><td>13      </td><td>-       </td><td>-       </td><td>-       </td><td>3       </td><td>1       </td><td>1       </td><td>1       </td><td>1       </td><td>1       </td><td>2       </td><td>3       </td><td>-       </td></tr>\n",
       "\t<tr><th scope=row>9</th><td>2011    </td><td>중구    </td><td>부상자수</td><td>2,025   </td><td>159     </td><td>112     </td><td>183     </td><td>175     </td><td>165     </td><td>156     </td><td>154     </td><td>154     </td><td>181     </td><td>203     </td><td>172     </td><td>211     </td></tr>\n",
       "</tbody>\n",
       "</table>\n"
      ],
      "text/latex": [
       "\\begin{tabular}{r|llllllllllllllll}\n",
       "  & 기간 & 자치구별 & 구분 & 합계 & 1월 & 2월 & 3월 & 4월 & 5월 & 6월 & 7월 & 8월 & 9월 & 10월 & 11월 & 12월\\\\\n",
       "\\hline\n",
       "\t4 & 2011     & 종로구   & 발생건수 & 1,421    & 115      & 99       & 116      & 110      & 122      & 116      & 103      & 122      & 121      & 135      & 140      & 122     \\\\\n",
       "\t5 & 2011     & 종로구   & 사망자수 & 14       & 2        & -        & -        & 1        & -        & 3        & 1        & 1        & 2        & 2        & 1        & 1       \\\\\n",
       "\t6 & 2011     & 종로구   & 부상자수 & 1,994    & 165      & 134      & 162      & 153      & 157      & 163      & 154      & 171      & 166      & 193      & 204      & 172     \\\\\n",
       "\t7 & 2011     & 중구     & 발생건수 & 1,497    & 108      & 86       & 141      & 128      & 121      & 115      & 119      & 117      & 140      & 147      & 132      & 143     \\\\\n",
       "\t8 & 2011     & 중구     & 사망자수 & 13       & -        & -        & -        & 3        & 1        & 1        & 1        & 1        & 1        & 2        & 3        & -       \\\\\n",
       "\t9 & 2011     & 중구     & 부상자수 & 2,025    & 159      & 112      & 183      & 175      & 165      & 156      & 154      & 154      & 181      & 203      & 172      & 211     \\\\\n",
       "\\end{tabular}\n"
      ],
      "text/markdown": [
       "\n",
       "| <!--/--> | 기간 | 자치구별 | 구분 | 합계 | 1월 | 2월 | 3월 | 4월 | 5월 | 6월 | 7월 | 8월 | 9월 | 10월 | 11월 | 12월 |\n",
       "|---|---|---|---|---|---|---|---|---|---|---|---|---|---|---|---|---|\n",
       "| 4 | 2011     | 종로구   | 발생건수 | 1,421    | 115      | 99       | 116      | 110      | 122      | 116      | 103      | 122      | 121      | 135      | 140      | 122      |\n",
       "| 5 | 2011     | 종로구   | 사망자수 | 14       | 2        | -        | -        | 1        | -        | 3        | 1        | 1        | 2        | 2        | 1        | 1        |\n",
       "| 6 | 2011     | 종로구   | 부상자수 | 1,994    | 165      | 134      | 162      | 153      | 157      | 163      | 154      | 171      | 166      | 193      | 204      | 172      |\n",
       "| 7 | 2011     | 중구     | 발생건수 | 1,497    | 108      | 86       | 141      | 128      | 121      | 115      | 119      | 117      | 140      | 147      | 132      | 143      |\n",
       "| 8 | 2011     | 중구     | 사망자수 | 13       | -        | -        | -        | 3        | 1        | 1        | 1        | 1        | 1        | 2        | 3        | -        |\n",
       "| 9 | 2011     | 중구     | 부상자수 | 2,025    | 159      | 112      | 183      | 175      | 165      | 156      | 154      | 154      | 181      | 203      | 172      | 211      |\n",
       "\n"
      ],
      "text/plain": [
       "  기간 자치구별 구분     합계  1월 2월 3월 4월 5월 6월 7월 8월 9월 10월 11월\n",
       "4 2011 종로구   발생건수 1,421 115 99  116 110 122 116 103 122 121 135  140 \n",
       "5 2011 종로구   사망자수 14    2   -   -   1   -   3   1   1   2   2    1   \n",
       "6 2011 종로구   부상자수 1,994 165 134 162 153 157 163 154 171 166 193  204 \n",
       "7 2011 중구     발생건수 1,497 108 86  141 128 121 115 119 117 140 147  132 \n",
       "8 2011 중구     사망자수 13    -   -   -   3   1   1   1   1   1   2    3   \n",
       "9 2011 중구     부상자수 2,025 159 112 183 175 165 156 154 154 181 203  172 \n",
       "  12월\n",
       "4 122 \n",
       "5 1   \n",
       "6 172 \n",
       "7 143 \n",
       "8 -   \n",
       "9 211 "
      ]
     },
     "metadata": {},
     "output_type": "display_data"
    }
   ],
   "source": [
    "head(seoul)"
   ]
  },
  {
   "cell_type": "code",
   "execution_count": 11,
   "metadata": {
    "vscode": {
     "languageId": "r"
    }
   },
   "outputs": [],
   "source": [
    "library(stringr)"
   ]
  },
  {
   "cell_type": "code",
   "execution_count": 12,
   "metadata": {
    "vscode": {
     "languageId": "r"
    }
   },
   "outputs": [
    {
     "data": {
      "text/html": [
       "<table>\n",
       "<thead><tr><th></th><th scope=col>기간</th><th scope=col>자치구별</th><th scope=col>구분</th><th scope=col>합계</th><th scope=col>1월</th><th scope=col>2월</th><th scope=col>3월</th><th scope=col>4월</th><th scope=col>5월</th><th scope=col>6월</th><th scope=col>7월</th><th scope=col>8월</th><th scope=col>9월</th><th scope=col>10월</th><th scope=col>11월</th><th scope=col>12월</th></tr></thead>\n",
       "<tbody>\n",
       "\t<tr><th scope=row>4</th><td>2011    </td><td>종로구  </td><td>발생건수</td><td>1,421   </td><td>115     </td><td>99      </td><td>116     </td><td>110     </td><td>122     </td><td>116     </td><td>103     </td><td>122     </td><td>121     </td><td>135     </td><td>140     </td><td>122     </td></tr>\n",
       "\t<tr><th scope=row>5</th><td>2011    </td><td>종로구  </td><td>사망자수</td><td>14      </td><td>2       </td><td>0       </td><td>0       </td><td>1       </td><td>0       </td><td>3       </td><td>1       </td><td>1       </td><td>2       </td><td>2       </td><td>1       </td><td>1       </td></tr>\n",
       "\t<tr><th scope=row>6</th><td>2011    </td><td>종로구  </td><td>부상자수</td><td>1,994   </td><td>165     </td><td>134     </td><td>162     </td><td>153     </td><td>157     </td><td>163     </td><td>154     </td><td>171     </td><td>166     </td><td>193     </td><td>204     </td><td>172     </td></tr>\n",
       "\t<tr><th scope=row>7</th><td>2011    </td><td>중구    </td><td>발생건수</td><td>1,497   </td><td>108     </td><td>86      </td><td>141     </td><td>128     </td><td>121     </td><td>115     </td><td>119     </td><td>117     </td><td>140     </td><td>147     </td><td>132     </td><td>143     </td></tr>\n",
       "\t<tr><th scope=row>8</th><td>2011    </td><td>중구    </td><td>사망자수</td><td>13      </td><td>0       </td><td>0       </td><td>0       </td><td>3       </td><td>1       </td><td>1       </td><td>1       </td><td>1       </td><td>1       </td><td>2       </td><td>3       </td><td>-       </td></tr>\n",
       "\t<tr><th scope=row>9</th><td>2011    </td><td>중구    </td><td>부상자수</td><td>2,025   </td><td>159     </td><td>112     </td><td>183     </td><td>175     </td><td>165     </td><td>156     </td><td>154     </td><td>154     </td><td>181     </td><td>203     </td><td>172     </td><td>211     </td></tr>\n",
       "\t<tr><th scope=row>10</th><td>2011    </td><td>용산구  </td><td>발생건수</td><td>1,170   </td><td>98      </td><td>92      </td><td>88      </td><td>103     </td><td>104     </td><td>98      </td><td>102     </td><td>104     </td><td>75      </td><td>109     </td><td>107     </td><td>90      </td></tr>\n",
       "\t<tr><th scope=row>11</th><td>2011    </td><td>용산구  </td><td>사망자수</td><td>9       </td><td>0       </td><td>1       </td><td>2       </td><td>1       </td><td>1       </td><td>0       </td><td>0       </td><td>1       </td><td>1       </td><td>1       </td><td>1       </td><td>-       </td></tr>\n",
       "\t<tr><th scope=row>12</th><td>2011    </td><td>용산구  </td><td>부상자수</td><td>1,704   </td><td>141     </td><td>134     </td><td>132     </td><td>149     </td><td>151     </td><td>143     </td><td>151     </td><td>146     </td><td>107     </td><td>157     </td><td>156     </td><td>137     </td></tr>\n",
       "\t<tr><th scope=row>13</th><td>2011    </td><td>성동구  </td><td>발생건수</td><td>1,154   </td><td>90      </td><td>80      </td><td>80      </td><td>109     </td><td>98      </td><td>99      </td><td>106     </td><td>77      </td><td>109     </td><td>102     </td><td>104     </td><td>100     </td></tr>\n",
       "\t<tr><th scope=row>14</th><td>2011    </td><td>성동구  </td><td>사망자수</td><td>21      </td><td>2       </td><td>2       </td><td>1       </td><td>1       </td><td>0       </td><td>2       </td><td>1       </td><td>1       </td><td>3       </td><td>4       </td><td>1       </td><td>3       </td></tr>\n",
       "\t<tr><th scope=row>15</th><td>2011    </td><td>성동구  </td><td>부상자수</td><td>1,603   </td><td>130     </td><td>119     </td><td>121     </td><td>139     </td><td>135     </td><td>131     </td><td>144     </td><td>96      </td><td>160     </td><td>132     </td><td>157     </td><td>139     </td></tr>\n",
       "\t<tr><th scope=row>16</th><td>2011    </td><td>광진구  </td><td>발생건수</td><td>1,430   </td><td>90      </td><td>94      </td><td>113     </td><td>122     </td><td>115     </td><td>103     </td><td>114     </td><td>130     </td><td>136     </td><td>129     </td><td>146     </td><td>138     </td></tr>\n",
       "\t<tr><th scope=row>17</th><td>2011    </td><td>광진구  </td><td>사망자수</td><td>23      </td><td>3       </td><td>1       </td><td>1       </td><td>1       </td><td>5       </td><td>2       </td><td>2       </td><td>1       </td><td>2       </td><td>1       </td><td>1       </td><td>3       </td></tr>\n",
       "\t<tr><th scope=row>18</th><td>2011    </td><td>광진구  </td><td>부상자수</td><td>2,033   </td><td>140     </td><td>128     </td><td>159     </td><td>164     </td><td>151     </td><td>150     </td><td>184     </td><td>188     </td><td>183     </td><td>186     </td><td>202     </td><td>198     </td></tr>\n",
       "\t<tr><th scope=row>19</th><td>2011    </td><td>동대문구</td><td>발생건수</td><td>1,777   </td><td>129     </td><td>119     </td><td>120     </td><td>142     </td><td>158     </td><td>152     </td><td>172     </td><td>145     </td><td>157     </td><td>155     </td><td>163     </td><td>165     </td></tr>\n",
       "\t<tr><th scope=row>20</th><td>2011    </td><td>동대문구</td><td>사망자수</td><td>13      </td><td>0       </td><td>2       </td><td>1       </td><td>3       </td><td>1       </td><td>0       </td><td>1       </td><td>3       </td><td>0       </td><td>0       </td><td>2       </td><td>-       </td></tr>\n",
       "\t<tr><th scope=row>21</th><td>2011    </td><td>동대문구</td><td>부상자수</td><td>2,431   </td><td>180     </td><td>178     </td><td>161     </td><td>191     </td><td>257     </td><td>186     </td><td>214     </td><td>204     </td><td>213     </td><td>208     </td><td>221     </td><td>218     </td></tr>\n",
       "\t<tr><th scope=row>22</th><td>2011    </td><td>중랑구  </td><td>발생건수</td><td>1,782   </td><td>134     </td><td>113     </td><td>137     </td><td>149     </td><td>167     </td><td>134     </td><td>159     </td><td>148     </td><td>174     </td><td>161     </td><td>167     </td><td>139     </td></tr>\n",
       "\t<tr><th scope=row>23</th><td>2011    </td><td>중랑구  </td><td>사망자수</td><td>12      </td><td>0       </td><td>1       </td><td>0       </td><td>1       </td><td>2       </td><td>1       </td><td>4       </td><td>2       </td><td>0       </td><td>0       </td><td>0       </td><td>1       </td></tr>\n",
       "\t<tr><th scope=row>24</th><td>2011    </td><td>중랑구  </td><td>부상자수</td><td>2,386   </td><td>165     </td><td>146     </td><td>195     </td><td>191     </td><td>223     </td><td>181     </td><td>213     </td><td>192     </td><td>239     </td><td>237     </td><td>224     </td><td>180     </td></tr>\n",
       "\t<tr><th scope=row>25</th><td>2011    </td><td>성북구  </td><td>발생건수</td><td>1,569   </td><td>115     </td><td>89      </td><td>113     </td><td>124     </td><td>158     </td><td>157     </td><td>135     </td><td>132     </td><td>129     </td><td>152     </td><td>152     </td><td>113     </td></tr>\n",
       "\t<tr><th scope=row>26</th><td>2011    </td><td>성북구  </td><td>사망자수</td><td>22      </td><td>0       </td><td>1       </td><td>1       </td><td>1       </td><td>4       </td><td>2       </td><td>2       </td><td>1       </td><td>4       </td><td>0       </td><td>3       </td><td>3       </td></tr>\n",
       "\t<tr><th scope=row>27</th><td>2011    </td><td>성북구  </td><td>부상자수</td><td>2,103   </td><td>153     </td><td>121     </td><td>161     </td><td>172     </td><td>197     </td><td>219     </td><td>191     </td><td>188     </td><td>169     </td><td>194     </td><td>201     </td><td>137     </td></tr>\n",
       "\t<tr><th scope=row>28</th><td>2011    </td><td>강북구  </td><td>발생건수</td><td>1,174   </td><td>84      </td><td>69      </td><td>96      </td><td>96      </td><td>106     </td><td>110     </td><td>97      </td><td>108     </td><td>110     </td><td>109     </td><td>108     </td><td>81      </td></tr>\n",
       "\t<tr><th scope=row>29</th><td>2011    </td><td>강북구  </td><td>사망자수</td><td>7       </td><td>0       </td><td>0       </td><td>0       </td><td>1       </td><td>1       </td><td>0       </td><td>0       </td><td>1       </td><td>1       </td><td>1       </td><td>2       </td><td>-       </td></tr>\n",
       "\t<tr><th scope=row>30</th><td>2011    </td><td>강북구  </td><td>부상자수</td><td>1,648   </td><td>123     </td><td>117     </td><td>144     </td><td>145     </td><td>136     </td><td>162     </td><td>139     </td><td>143     </td><td>155     </td><td>141     </td><td>143     </td><td>100     </td></tr>\n",
       "\t<tr><th scope=row>31</th><td>2011    </td><td>도봉구  </td><td>발생건수</td><td>933     </td><td>74      </td><td>50      </td><td>71      </td><td>76      </td><td>74      </td><td>78      </td><td>95      </td><td>81      </td><td>81      </td><td>87      </td><td>86      </td><td>80      </td></tr>\n",
       "\t<tr><th scope=row>32</th><td>2011    </td><td>도봉구  </td><td>사망자수</td><td>15      </td><td>0       </td><td>1       </td><td>2       </td><td>0       </td><td>3       </td><td>2       </td><td>0       </td><td>3       </td><td>1       </td><td>0       </td><td>1       </td><td>2       </td></tr>\n",
       "\t<tr><th scope=row>33</th><td>2011    </td><td>도봉구  </td><td>부상자수</td><td>1,279   </td><td>119     </td><td>63      </td><td>105     </td><td>102     </td><td>92      </td><td>97      </td><td>149     </td><td>105     </td><td>102     </td><td>107     </td><td>113     </td><td>125     </td></tr>\n",
       "\t<tr><th scope=row>...</th><td>...</td><td>...</td><td>...</td><td>...</td><td>...</td><td>...</td><td>...</td><td>...</td><td>...</td><td>...</td><td>...</td><td>...</td><td>...</td><td>...</td><td>...</td><td>...</td></tr>\n",
       "\t<tr><th scope=row>673</th><td>2019    </td><td>강서구  </td><td>발생건수</td><td>1,829   </td><td>136     </td><td>131     </td><td>144     </td><td>140     </td><td>153     </td><td>143     </td><td>147     </td><td>189     </td><td>162     </td><td>167     </td><td>162     </td><td>155     </td></tr>\n",
       "\t<tr><th scope=row>674</th><td>2019    </td><td>강서구  </td><td>사망자수</td><td>20      </td><td>1       </td><td>0       </td><td>2       </td><td>2       </td><td>5       </td><td>1       </td><td>0       </td><td>1       </td><td>1       </td><td>4       </td><td>1       </td><td>2       </td></tr>\n",
       "\t<tr><th scope=row>675</th><td>2019    </td><td>강서구  </td><td>부상자수</td><td>2,491   </td><td>179     </td><td>165     </td><td>194     </td><td>189     </td><td>230     </td><td>206     </td><td>185     </td><td>260     </td><td>237     </td><td>214     </td><td>226     </td><td>206     </td></tr>\n",
       "\t<tr><th scope=row>676</th><td>2019    </td><td>구로구  </td><td>발생건수</td><td>1,529   </td><td>140     </td><td>100     </td><td>132     </td><td>138     </td><td>129     </td><td>134     </td><td>112     </td><td>124     </td><td>128     </td><td>129     </td><td>137     </td><td>126     </td></tr>\n",
       "\t<tr><th scope=row>677</th><td>2019    </td><td>구로구  </td><td>사망자수</td><td>13      </td><td>5       </td><td>2       </td><td>0       </td><td>0       </td><td>0       </td><td>2       </td><td>0       </td><td>1       </td><td>0       </td><td>1       </td><td>1       </td><td>1       </td></tr>\n",
       "\t<tr><th scope=row>678</th><td>2019    </td><td>구로구  </td><td>부상자수</td><td>2,096   </td><td>189     </td><td>127     </td><td>189     </td><td>204     </td><td>177     </td><td>187     </td><td>148     </td><td>177     </td><td>180     </td><td>178     </td><td>167     </td><td>173     </td></tr>\n",
       "\t<tr><th scope=row>679</th><td>2019    </td><td>금천구  </td><td>발생건수</td><td>920     </td><td>63      </td><td>49      </td><td>81      </td><td>87      </td><td>81      </td><td>65      </td><td>91      </td><td>95      </td><td>62      </td><td>88      </td><td>81      </td><td>77      </td></tr>\n",
       "\t<tr><th scope=row>680</th><td>2019    </td><td>금천구  </td><td>사망자수</td><td>9       </td><td>2       </td><td>0       </td><td>1       </td><td>0       </td><td>0       </td><td>0       </td><td>0       </td><td>1       </td><td>3       </td><td>2       </td><td>0       </td><td>-       </td></tr>\n",
       "\t<tr><th scope=row>681</th><td>2019    </td><td>금천구  </td><td>부상자수</td><td>1,353   </td><td>81      </td><td>69      </td><td>110     </td><td>119     </td><td>111     </td><td>86      </td><td>123     </td><td>169     </td><td>91      </td><td>164     </td><td>119     </td><td>111     </td></tr>\n",
       "\t<tr><th scope=row>682</th><td>2019    </td><td>영등포구</td><td>발생건수</td><td>2,439   </td><td>197     </td><td>139     </td><td>187     </td><td>228     </td><td>214     </td><td>217     </td><td>212     </td><td>214     </td><td>190     </td><td>238     </td><td>200     </td><td>203     </td></tr>\n",
       "\t<tr><th scope=row>683</th><td>2019    </td><td>영등포구</td><td>사망자수</td><td>11      </td><td>0       </td><td>2       </td><td>1       </td><td>1       </td><td>0       </td><td>2       </td><td>1       </td><td>1       </td><td>0       </td><td>2       </td><td>1       </td><td>-       </td></tr>\n",
       "\t<tr><th scope=row>684</th><td>2019    </td><td>영등포구</td><td>부상자수</td><td>3,451   </td><td>268     </td><td>186     </td><td>252     </td><td>360     </td><td>325     </td><td>293     </td><td>285     </td><td>295     </td><td>286     </td><td>344     </td><td>279     </td><td>278     </td></tr>\n",
       "\t<tr><th scope=row>685</th><td>2019    </td><td>동작구  </td><td>발생건수</td><td>1,406   </td><td>89      </td><td>87      </td><td>130     </td><td>111     </td><td>137     </td><td>125     </td><td>121     </td><td>106     </td><td>124     </td><td>133     </td><td>131     </td><td>112     </td></tr>\n",
       "\t<tr><th scope=row>686</th><td>2019    </td><td>동작구  </td><td>사망자수</td><td>5       </td><td>1       </td><td>0       </td><td>1       </td><td>1       </td><td>0       </td><td>0       </td><td>0       </td><td>0       </td><td>2       </td><td>0       </td><td>0       </td><td>-       </td></tr>\n",
       "\t<tr><th scope=row>687</th><td>2019    </td><td>동작구  </td><td>부상자수</td><td>2,021   </td><td>118     </td><td>119     </td><td>184     </td><td>136     </td><td>231     </td><td>210     </td><td>168     </td><td>150     </td><td>156     </td><td>184     </td><td>193     </td><td>172     </td></tr>\n",
       "\t<tr><th scope=row>688</th><td>2019    </td><td>관악구  </td><td>발생건수</td><td>1,363   </td><td>104     </td><td>94      </td><td>101     </td><td>129     </td><td>115     </td><td>121     </td><td>132     </td><td>128     </td><td>114     </td><td>114     </td><td>117     </td><td>94      </td></tr>\n",
       "\t<tr><th scope=row>689</th><td>2019    </td><td>관악구  </td><td>사망자수</td><td>10      </td><td>0       </td><td>0       </td><td>2       </td><td>1       </td><td>0       </td><td>0       </td><td>0       </td><td>0       </td><td>1       </td><td>1       </td><td>1       </td><td>4       </td></tr>\n",
       "\t<tr><th scope=row>690</th><td>2019    </td><td>관악구  </td><td>부상자수</td><td>1,755   </td><td>148     </td><td>116     </td><td>131     </td><td>163     </td><td>144     </td><td>154     </td><td>166     </td><td>166     </td><td>149     </td><td>144     </td><td>141     </td><td>133     </td></tr>\n",
       "\t<tr><th scope=row>691</th><td>2019    </td><td>서초구  </td><td>발생건수</td><td>2,418   </td><td>200     </td><td>153     </td><td>190     </td><td>193     </td><td>200     </td><td>189     </td><td>214     </td><td>191     </td><td>210     </td><td>225     </td><td>260     </td><td>193     </td></tr>\n",
       "\t<tr><th scope=row>692</th><td>2019    </td><td>서초구  </td><td>사망자수</td><td>14      </td><td>0       </td><td>0       </td><td>0       </td><td>0       </td><td>2       </td><td>1       </td><td>2       </td><td>0       </td><td>3       </td><td>1       </td><td>2       </td><td>3       </td></tr>\n",
       "\t<tr><th scope=row>693</th><td>2019    </td><td>서초구  </td><td>부상자수</td><td>3,530   </td><td>293     </td><td>237     </td><td>243     </td><td>311     </td><td>277     </td><td>288     </td><td>296     </td><td>271     </td><td>301     </td><td>320     </td><td>371     </td><td>322     </td></tr>\n",
       "\t<tr><th scope=row>694</th><td>2019    </td><td>강남구  </td><td>발생건수</td><td>3,722   </td><td>281     </td><td>227     </td><td>280     </td><td>295     </td><td>320     </td><td>302     </td><td>326     </td><td>320     </td><td>302     </td><td>336     </td><td>383     </td><td>350     </td></tr>\n",
       "\t<tr><th scope=row>695</th><td>2019    </td><td>강남구  </td><td>사망자수</td><td>14      </td><td>2       </td><td>3       </td><td>2       </td><td>0       </td><td>0       </td><td>1       </td><td>0       </td><td>1       </td><td>0       </td><td>2       </td><td>2       </td><td>1       </td></tr>\n",
       "\t<tr><th scope=row>696</th><td>2019    </td><td>강남구  </td><td>부상자수</td><td>5,182   </td><td>412     </td><td>315     </td><td>401     </td><td>389     </td><td>484     </td><td>442     </td><td>450     </td><td>435     </td><td>389     </td><td>440     </td><td>542     </td><td>483     </td></tr>\n",
       "\t<tr><th scope=row>697</th><td>2019    </td><td>송파구  </td><td>발생건수</td><td>2,892   </td><td>212     </td><td>193     </td><td>243     </td><td>228     </td><td>277     </td><td>241     </td><td>227     </td><td>247     </td><td>245     </td><td>304     </td><td>260     </td><td>215     </td></tr>\n",
       "\t<tr><th scope=row>698</th><td>2019    </td><td>송파구  </td><td>사망자수</td><td>13      </td><td>0       </td><td>2       </td><td>0       </td><td>0       </td><td>3       </td><td>0       </td><td>1       </td><td>1       </td><td>0       </td><td>3       </td><td>3       </td><td>-       </td></tr>\n",
       "\t<tr><th scope=row>699</th><td>2019    </td><td>송파구  </td><td>부상자수</td><td>4,003   </td><td>319     </td><td>253     </td><td>336     </td><td>317     </td><td>398     </td><td>311     </td><td>312     </td><td>340     </td><td>341     </td><td>447     </td><td>330     </td><td>299     </td></tr>\n",
       "\t<tr><th scope=row>700</th><td>2019    </td><td>강동구  </td><td>발생건수</td><td>1,414   </td><td>98      </td><td>87      </td><td>122     </td><td>112     </td><td>139     </td><td>123     </td><td>146     </td><td>127     </td><td>98      </td><td>108     </td><td>146     </td><td>108     </td></tr>\n",
       "\t<tr><th scope=row>701</th><td>2019    </td><td>강동구  </td><td>사망자수</td><td>11      </td><td>1       </td><td>0       </td><td>0       </td><td>0       </td><td>1       </td><td>1       </td><td>2       </td><td>2       </td><td>2       </td><td>1       </td><td>0       </td><td>1       </td></tr>\n",
       "\t<tr><th scope=row>702</th><td>2019    </td><td>강동구  </td><td>부상자수</td><td>1,910   </td><td>115     </td><td>133     </td><td>163     </td><td>153     </td><td>192     </td><td>179     </td><td>189     </td><td>175     </td><td>137     </td><td>144     </td><td>199     </td><td>131     </td></tr>\n",
       "</tbody>\n",
       "</table>\n"
      ],
      "text/latex": [
       "\\begin{tabular}{r|llllllllllllllll}\n",
       "  & 기간 & 자치구별 & 구분 & 합계 & 1월 & 2월 & 3월 & 4월 & 5월 & 6월 & 7월 & 8월 & 9월 & 10월 & 11월 & 12월\\\\\n",
       "\\hline\n",
       "\t4 & 2011     & 종로구   & 발생건수 & 1,421    & 115      & 99       & 116      & 110      & 122      & 116      & 103      & 122      & 121      & 135      & 140      & 122     \\\\\n",
       "\t5 & 2011     & 종로구   & 사망자수 & 14       & 2        & 0        & 0        & 1        & 0        & 3        & 1        & 1        & 2        & 2        & 1        & 1       \\\\\n",
       "\t6 & 2011     & 종로구   & 부상자수 & 1,994    & 165      & 134      & 162      & 153      & 157      & 163      & 154      & 171      & 166      & 193      & 204      & 172     \\\\\n",
       "\t7 & 2011     & 중구     & 발생건수 & 1,497    & 108      & 86       & 141      & 128      & 121      & 115      & 119      & 117      & 140      & 147      & 132      & 143     \\\\\n",
       "\t8 & 2011     & 중구     & 사망자수 & 13       & 0        & 0        & 0        & 3        & 1        & 1        & 1        & 1        & 1        & 2        & 3        & -       \\\\\n",
       "\t9 & 2011     & 중구     & 부상자수 & 2,025    & 159      & 112      & 183      & 175      & 165      & 156      & 154      & 154      & 181      & 203      & 172      & 211     \\\\\n",
       "\t10 & 2011     & 용산구   & 발생건수 & 1,170    & 98       & 92       & 88       & 103      & 104      & 98       & 102      & 104      & 75       & 109      & 107      & 90      \\\\\n",
       "\t11 & 2011     & 용산구   & 사망자수 & 9        & 0        & 1        & 2        & 1        & 1        & 0        & 0        & 1        & 1        & 1        & 1        & -       \\\\\n",
       "\t12 & 2011     & 용산구   & 부상자수 & 1,704    & 141      & 134      & 132      & 149      & 151      & 143      & 151      & 146      & 107      & 157      & 156      & 137     \\\\\n",
       "\t13 & 2011     & 성동구   & 발생건수 & 1,154    & 90       & 80       & 80       & 109      & 98       & 99       & 106      & 77       & 109      & 102      & 104      & 100     \\\\\n",
       "\t14 & 2011     & 성동구   & 사망자수 & 21       & 2        & 2        & 1        & 1        & 0        & 2        & 1        & 1        & 3        & 4        & 1        & 3       \\\\\n",
       "\t15 & 2011     & 성동구   & 부상자수 & 1,603    & 130      & 119      & 121      & 139      & 135      & 131      & 144      & 96       & 160      & 132      & 157      & 139     \\\\\n",
       "\t16 & 2011     & 광진구   & 발생건수 & 1,430    & 90       & 94       & 113      & 122      & 115      & 103      & 114      & 130      & 136      & 129      & 146      & 138     \\\\\n",
       "\t17 & 2011     & 광진구   & 사망자수 & 23       & 3        & 1        & 1        & 1        & 5        & 2        & 2        & 1        & 2        & 1        & 1        & 3       \\\\\n",
       "\t18 & 2011     & 광진구   & 부상자수 & 2,033    & 140      & 128      & 159      & 164      & 151      & 150      & 184      & 188      & 183      & 186      & 202      & 198     \\\\\n",
       "\t19 & 2011     & 동대문구 & 발생건수 & 1,777    & 129      & 119      & 120      & 142      & 158      & 152      & 172      & 145      & 157      & 155      & 163      & 165     \\\\\n",
       "\t20 & 2011     & 동대문구 & 사망자수 & 13       & 0        & 2        & 1        & 3        & 1        & 0        & 1        & 3        & 0        & 0        & 2        & -       \\\\\n",
       "\t21 & 2011     & 동대문구 & 부상자수 & 2,431    & 180      & 178      & 161      & 191      & 257      & 186      & 214      & 204      & 213      & 208      & 221      & 218     \\\\\n",
       "\t22 & 2011     & 중랑구   & 발생건수 & 1,782    & 134      & 113      & 137      & 149      & 167      & 134      & 159      & 148      & 174      & 161      & 167      & 139     \\\\\n",
       "\t23 & 2011     & 중랑구   & 사망자수 & 12       & 0        & 1        & 0        & 1        & 2        & 1        & 4        & 2        & 0        & 0        & 0        & 1       \\\\\n",
       "\t24 & 2011     & 중랑구   & 부상자수 & 2,386    & 165      & 146      & 195      & 191      & 223      & 181      & 213      & 192      & 239      & 237      & 224      & 180     \\\\\n",
       "\t25 & 2011     & 성북구   & 발생건수 & 1,569    & 115      & 89       & 113      & 124      & 158      & 157      & 135      & 132      & 129      & 152      & 152      & 113     \\\\\n",
       "\t26 & 2011     & 성북구   & 사망자수 & 22       & 0        & 1        & 1        & 1        & 4        & 2        & 2        & 1        & 4        & 0        & 3        & 3       \\\\\n",
       "\t27 & 2011     & 성북구   & 부상자수 & 2,103    & 153      & 121      & 161      & 172      & 197      & 219      & 191      & 188      & 169      & 194      & 201      & 137     \\\\\n",
       "\t28 & 2011     & 강북구   & 발생건수 & 1,174    & 84       & 69       & 96       & 96       & 106      & 110      & 97       & 108      & 110      & 109      & 108      & 81      \\\\\n",
       "\t29 & 2011     & 강북구   & 사망자수 & 7        & 0        & 0        & 0        & 1        & 1        & 0        & 0        & 1        & 1        & 1        & 2        & -       \\\\\n",
       "\t30 & 2011     & 강북구   & 부상자수 & 1,648    & 123      & 117      & 144      & 145      & 136      & 162      & 139      & 143      & 155      & 141      & 143      & 100     \\\\\n",
       "\t31 & 2011     & 도봉구   & 발생건수 & 933      & 74       & 50       & 71       & 76       & 74       & 78       & 95       & 81       & 81       & 87       & 86       & 80      \\\\\n",
       "\t32 & 2011     & 도봉구   & 사망자수 & 15       & 0        & 1        & 2        & 0        & 3        & 2        & 0        & 3        & 1        & 0        & 1        & 2       \\\\\n",
       "\t33 & 2011     & 도봉구   & 부상자수 & 1,279    & 119      & 63       & 105      & 102      & 92       & 97       & 149      & 105      & 102      & 107      & 113      & 125     \\\\\n",
       "\t... & ... & ... & ... & ... & ... & ... & ... & ... & ... & ... & ... & ... & ... & ... & ... & ...\\\\\n",
       "\t673 & 2019     & 강서구   & 발생건수 & 1,829    & 136      & 131      & 144      & 140      & 153      & 143      & 147      & 189      & 162      & 167      & 162      & 155     \\\\\n",
       "\t674 & 2019     & 강서구   & 사망자수 & 20       & 1        & 0        & 2        & 2        & 5        & 1        & 0        & 1        & 1        & 4        & 1        & 2       \\\\\n",
       "\t675 & 2019     & 강서구   & 부상자수 & 2,491    & 179      & 165      & 194      & 189      & 230      & 206      & 185      & 260      & 237      & 214      & 226      & 206     \\\\\n",
       "\t676 & 2019     & 구로구   & 발생건수 & 1,529    & 140      & 100      & 132      & 138      & 129      & 134      & 112      & 124      & 128      & 129      & 137      & 126     \\\\\n",
       "\t677 & 2019     & 구로구   & 사망자수 & 13       & 5        & 2        & 0        & 0        & 0        & 2        & 0        & 1        & 0        & 1        & 1        & 1       \\\\\n",
       "\t678 & 2019     & 구로구   & 부상자수 & 2,096    & 189      & 127      & 189      & 204      & 177      & 187      & 148      & 177      & 180      & 178      & 167      & 173     \\\\\n",
       "\t679 & 2019     & 금천구   & 발생건수 & 920      & 63       & 49       & 81       & 87       & 81       & 65       & 91       & 95       & 62       & 88       & 81       & 77      \\\\\n",
       "\t680 & 2019     & 금천구   & 사망자수 & 9        & 2        & 0        & 1        & 0        & 0        & 0        & 0        & 1        & 3        & 2        & 0        & -       \\\\\n",
       "\t681 & 2019     & 금천구   & 부상자수 & 1,353    & 81       & 69       & 110      & 119      & 111      & 86       & 123      & 169      & 91       & 164      & 119      & 111     \\\\\n",
       "\t682 & 2019     & 영등포구 & 발생건수 & 2,439    & 197      & 139      & 187      & 228      & 214      & 217      & 212      & 214      & 190      & 238      & 200      & 203     \\\\\n",
       "\t683 & 2019     & 영등포구 & 사망자수 & 11       & 0        & 2        & 1        & 1        & 0        & 2        & 1        & 1        & 0        & 2        & 1        & -       \\\\\n",
       "\t684 & 2019     & 영등포구 & 부상자수 & 3,451    & 268      & 186      & 252      & 360      & 325      & 293      & 285      & 295      & 286      & 344      & 279      & 278     \\\\\n",
       "\t685 & 2019     & 동작구   & 발생건수 & 1,406    & 89       & 87       & 130      & 111      & 137      & 125      & 121      & 106      & 124      & 133      & 131      & 112     \\\\\n",
       "\t686 & 2019     & 동작구   & 사망자수 & 5        & 1        & 0        & 1        & 1        & 0        & 0        & 0        & 0        & 2        & 0        & 0        & -       \\\\\n",
       "\t687 & 2019     & 동작구   & 부상자수 & 2,021    & 118      & 119      & 184      & 136      & 231      & 210      & 168      & 150      & 156      & 184      & 193      & 172     \\\\\n",
       "\t688 & 2019     & 관악구   & 발생건수 & 1,363    & 104      & 94       & 101      & 129      & 115      & 121      & 132      & 128      & 114      & 114      & 117      & 94      \\\\\n",
       "\t689 & 2019     & 관악구   & 사망자수 & 10       & 0        & 0        & 2        & 1        & 0        & 0        & 0        & 0        & 1        & 1        & 1        & 4       \\\\\n",
       "\t690 & 2019     & 관악구   & 부상자수 & 1,755    & 148      & 116      & 131      & 163      & 144      & 154      & 166      & 166      & 149      & 144      & 141      & 133     \\\\\n",
       "\t691 & 2019     & 서초구   & 발생건수 & 2,418    & 200      & 153      & 190      & 193      & 200      & 189      & 214      & 191      & 210      & 225      & 260      & 193     \\\\\n",
       "\t692 & 2019     & 서초구   & 사망자수 & 14       & 0        & 0        & 0        & 0        & 2        & 1        & 2        & 0        & 3        & 1        & 2        & 3       \\\\\n",
       "\t693 & 2019     & 서초구   & 부상자수 & 3,530    & 293      & 237      & 243      & 311      & 277      & 288      & 296      & 271      & 301      & 320      & 371      & 322     \\\\\n",
       "\t694 & 2019     & 강남구   & 발생건수 & 3,722    & 281      & 227      & 280      & 295      & 320      & 302      & 326      & 320      & 302      & 336      & 383      & 350     \\\\\n",
       "\t695 & 2019     & 강남구   & 사망자수 & 14       & 2        & 3        & 2        & 0        & 0        & 1        & 0        & 1        & 0        & 2        & 2        & 1       \\\\\n",
       "\t696 & 2019     & 강남구   & 부상자수 & 5,182    & 412      & 315      & 401      & 389      & 484      & 442      & 450      & 435      & 389      & 440      & 542      & 483     \\\\\n",
       "\t697 & 2019     & 송파구   & 발생건수 & 2,892    & 212      & 193      & 243      & 228      & 277      & 241      & 227      & 247      & 245      & 304      & 260      & 215     \\\\\n",
       "\t698 & 2019     & 송파구   & 사망자수 & 13       & 0        & 2        & 0        & 0        & 3        & 0        & 1        & 1        & 0        & 3        & 3        & -       \\\\\n",
       "\t699 & 2019     & 송파구   & 부상자수 & 4,003    & 319      & 253      & 336      & 317      & 398      & 311      & 312      & 340      & 341      & 447      & 330      & 299     \\\\\n",
       "\t700 & 2019     & 강동구   & 발생건수 & 1,414    & 98       & 87       & 122      & 112      & 139      & 123      & 146      & 127      & 98       & 108      & 146      & 108     \\\\\n",
       "\t701 & 2019     & 강동구   & 사망자수 & 11       & 1        & 0        & 0        & 0        & 1        & 1        & 2        & 2        & 2        & 1        & 0        & 1       \\\\\n",
       "\t702 & 2019     & 강동구   & 부상자수 & 1,910    & 115      & 133      & 163      & 153      & 192      & 179      & 189      & 175      & 137      & 144      & 199      & 131     \\\\\n",
       "\\end{tabular}\n"
      ],
      "text/markdown": [
       "\n",
       "| <!--/--> | 기간 | 자치구별 | 구분 | 합계 | 1월 | 2월 | 3월 | 4월 | 5월 | 6월 | 7월 | 8월 | 9월 | 10월 | 11월 | 12월 |\n",
       "|---|---|---|---|---|---|---|---|---|---|---|---|---|---|---|---|---|\n",
       "| 4 | 2011     | 종로구   | 발생건수 | 1,421    | 115      | 99       | 116      | 110      | 122      | 116      | 103      | 122      | 121      | 135      | 140      | 122      |\n",
       "| 5 | 2011     | 종로구   | 사망자수 | 14       | 2        | 0        | 0        | 1        | 0        | 3        | 1        | 1        | 2        | 2        | 1        | 1        |\n",
       "| 6 | 2011     | 종로구   | 부상자수 | 1,994    | 165      | 134      | 162      | 153      | 157      | 163      | 154      | 171      | 166      | 193      | 204      | 172      |\n",
       "| 7 | 2011     | 중구     | 발생건수 | 1,497    | 108      | 86       | 141      | 128      | 121      | 115      | 119      | 117      | 140      | 147      | 132      | 143      |\n",
       "| 8 | 2011     | 중구     | 사망자수 | 13       | 0        | 0        | 0        | 3        | 1        | 1        | 1        | 1        | 1        | 2        | 3        | -        |\n",
       "| 9 | 2011     | 중구     | 부상자수 | 2,025    | 159      | 112      | 183      | 175      | 165      | 156      | 154      | 154      | 181      | 203      | 172      | 211      |\n",
       "| 10 | 2011     | 용산구   | 발생건수 | 1,170    | 98       | 92       | 88       | 103      | 104      | 98       | 102      | 104      | 75       | 109      | 107      | 90       |\n",
       "| 11 | 2011     | 용산구   | 사망자수 | 9        | 0        | 1        | 2        | 1        | 1        | 0        | 0        | 1        | 1        | 1        | 1        | -        |\n",
       "| 12 | 2011     | 용산구   | 부상자수 | 1,704    | 141      | 134      | 132      | 149      | 151      | 143      | 151      | 146      | 107      | 157      | 156      | 137      |\n",
       "| 13 | 2011     | 성동구   | 발생건수 | 1,154    | 90       | 80       | 80       | 109      | 98       | 99       | 106      | 77       | 109      | 102      | 104      | 100      |\n",
       "| 14 | 2011     | 성동구   | 사망자수 | 21       | 2        | 2        | 1        | 1        | 0        | 2        | 1        | 1        | 3        | 4        | 1        | 3        |\n",
       "| 15 | 2011     | 성동구   | 부상자수 | 1,603    | 130      | 119      | 121      | 139      | 135      | 131      | 144      | 96       | 160      | 132      | 157      | 139      |\n",
       "| 16 | 2011     | 광진구   | 발생건수 | 1,430    | 90       | 94       | 113      | 122      | 115      | 103      | 114      | 130      | 136      | 129      | 146      | 138      |\n",
       "| 17 | 2011     | 광진구   | 사망자수 | 23       | 3        | 1        | 1        | 1        | 5        | 2        | 2        | 1        | 2        | 1        | 1        | 3        |\n",
       "| 18 | 2011     | 광진구   | 부상자수 | 2,033    | 140      | 128      | 159      | 164      | 151      | 150      | 184      | 188      | 183      | 186      | 202      | 198      |\n",
       "| 19 | 2011     | 동대문구 | 발생건수 | 1,777    | 129      | 119      | 120      | 142      | 158      | 152      | 172      | 145      | 157      | 155      | 163      | 165      |\n",
       "| 20 | 2011     | 동대문구 | 사망자수 | 13       | 0        | 2        | 1        | 3        | 1        | 0        | 1        | 3        | 0        | 0        | 2        | -        |\n",
       "| 21 | 2011     | 동대문구 | 부상자수 | 2,431    | 180      | 178      | 161      | 191      | 257      | 186      | 214      | 204      | 213      | 208      | 221      | 218      |\n",
       "| 22 | 2011     | 중랑구   | 발생건수 | 1,782    | 134      | 113      | 137      | 149      | 167      | 134      | 159      | 148      | 174      | 161      | 167      | 139      |\n",
       "| 23 | 2011     | 중랑구   | 사망자수 | 12       | 0        | 1        | 0        | 1        | 2        | 1        | 4        | 2        | 0        | 0        | 0        | 1        |\n",
       "| 24 | 2011     | 중랑구   | 부상자수 | 2,386    | 165      | 146      | 195      | 191      | 223      | 181      | 213      | 192      | 239      | 237      | 224      | 180      |\n",
       "| 25 | 2011     | 성북구   | 발생건수 | 1,569    | 115      | 89       | 113      | 124      | 158      | 157      | 135      | 132      | 129      | 152      | 152      | 113      |\n",
       "| 26 | 2011     | 성북구   | 사망자수 | 22       | 0        | 1        | 1        | 1        | 4        | 2        | 2        | 1        | 4        | 0        | 3        | 3        |\n",
       "| 27 | 2011     | 성북구   | 부상자수 | 2,103    | 153      | 121      | 161      | 172      | 197      | 219      | 191      | 188      | 169      | 194      | 201      | 137      |\n",
       "| 28 | 2011     | 강북구   | 발생건수 | 1,174    | 84       | 69       | 96       | 96       | 106      | 110      | 97       | 108      | 110      | 109      | 108      | 81       |\n",
       "| 29 | 2011     | 강북구   | 사망자수 | 7        | 0        | 0        | 0        | 1        | 1        | 0        | 0        | 1        | 1        | 1        | 2        | -        |\n",
       "| 30 | 2011     | 강북구   | 부상자수 | 1,648    | 123      | 117      | 144      | 145      | 136      | 162      | 139      | 143      | 155      | 141      | 143      | 100      |\n",
       "| 31 | 2011     | 도봉구   | 발생건수 | 933      | 74       | 50       | 71       | 76       | 74       | 78       | 95       | 81       | 81       | 87       | 86       | 80       |\n",
       "| 32 | 2011     | 도봉구   | 사망자수 | 15       | 0        | 1        | 2        | 0        | 3        | 2        | 0        | 3        | 1        | 0        | 1        | 2        |\n",
       "| 33 | 2011     | 도봉구   | 부상자수 | 1,279    | 119      | 63       | 105      | 102      | 92       | 97       | 149      | 105      | 102      | 107      | 113      | 125      |\n",
       "| ... | ... | ... | ... | ... | ... | ... | ... | ... | ... | ... | ... | ... | ... | ... | ... | ... |\n",
       "| 673 | 2019     | 강서구   | 발생건수 | 1,829    | 136      | 131      | 144      | 140      | 153      | 143      | 147      | 189      | 162      | 167      | 162      | 155      |\n",
       "| 674 | 2019     | 강서구   | 사망자수 | 20       | 1        | 0        | 2        | 2        | 5        | 1        | 0        | 1        | 1        | 4        | 1        | 2        |\n",
       "| 675 | 2019     | 강서구   | 부상자수 | 2,491    | 179      | 165      | 194      | 189      | 230      | 206      | 185      | 260      | 237      | 214      | 226      | 206      |\n",
       "| 676 | 2019     | 구로구   | 발생건수 | 1,529    | 140      | 100      | 132      | 138      | 129      | 134      | 112      | 124      | 128      | 129      | 137      | 126      |\n",
       "| 677 | 2019     | 구로구   | 사망자수 | 13       | 5        | 2        | 0        | 0        | 0        | 2        | 0        | 1        | 0        | 1        | 1        | 1        |\n",
       "| 678 | 2019     | 구로구   | 부상자수 | 2,096    | 189      | 127      | 189      | 204      | 177      | 187      | 148      | 177      | 180      | 178      | 167      | 173      |\n",
       "| 679 | 2019     | 금천구   | 발생건수 | 920      | 63       | 49       | 81       | 87       | 81       | 65       | 91       | 95       | 62       | 88       | 81       | 77       |\n",
       "| 680 | 2019     | 금천구   | 사망자수 | 9        | 2        | 0        | 1        | 0        | 0        | 0        | 0        | 1        | 3        | 2        | 0        | -        |\n",
       "| 681 | 2019     | 금천구   | 부상자수 | 1,353    | 81       | 69       | 110      | 119      | 111      | 86       | 123      | 169      | 91       | 164      | 119      | 111      |\n",
       "| 682 | 2019     | 영등포구 | 발생건수 | 2,439    | 197      | 139      | 187      | 228      | 214      | 217      | 212      | 214      | 190      | 238      | 200      | 203      |\n",
       "| 683 | 2019     | 영등포구 | 사망자수 | 11       | 0        | 2        | 1        | 1        | 0        | 2        | 1        | 1        | 0        | 2        | 1        | -        |\n",
       "| 684 | 2019     | 영등포구 | 부상자수 | 3,451    | 268      | 186      | 252      | 360      | 325      | 293      | 285      | 295      | 286      | 344      | 279      | 278      |\n",
       "| 685 | 2019     | 동작구   | 발생건수 | 1,406    | 89       | 87       | 130      | 111      | 137      | 125      | 121      | 106      | 124      | 133      | 131      | 112      |\n",
       "| 686 | 2019     | 동작구   | 사망자수 | 5        | 1        | 0        | 1        | 1        | 0        | 0        | 0        | 0        | 2        | 0        | 0        | -        |\n",
       "| 687 | 2019     | 동작구   | 부상자수 | 2,021    | 118      | 119      | 184      | 136      | 231      | 210      | 168      | 150      | 156      | 184      | 193      | 172      |\n",
       "| 688 | 2019     | 관악구   | 발생건수 | 1,363    | 104      | 94       | 101      | 129      | 115      | 121      | 132      | 128      | 114      | 114      | 117      | 94       |\n",
       "| 689 | 2019     | 관악구   | 사망자수 | 10       | 0        | 0        | 2        | 1        | 0        | 0        | 0        | 0        | 1        | 1        | 1        | 4        |\n",
       "| 690 | 2019     | 관악구   | 부상자수 | 1,755    | 148      | 116      | 131      | 163      | 144      | 154      | 166      | 166      | 149      | 144      | 141      | 133      |\n",
       "| 691 | 2019     | 서초구   | 발생건수 | 2,418    | 200      | 153      | 190      | 193      | 200      | 189      | 214      | 191      | 210      | 225      | 260      | 193      |\n",
       "| 692 | 2019     | 서초구   | 사망자수 | 14       | 0        | 0        | 0        | 0        | 2        | 1        | 2        | 0        | 3        | 1        | 2        | 3        |\n",
       "| 693 | 2019     | 서초구   | 부상자수 | 3,530    | 293      | 237      | 243      | 311      | 277      | 288      | 296      | 271      | 301      | 320      | 371      | 322      |\n",
       "| 694 | 2019     | 강남구   | 발생건수 | 3,722    | 281      | 227      | 280      | 295      | 320      | 302      | 326      | 320      | 302      | 336      | 383      | 350      |\n",
       "| 695 | 2019     | 강남구   | 사망자수 | 14       | 2        | 3        | 2        | 0        | 0        | 1        | 0        | 1        | 0        | 2        | 2        | 1        |\n",
       "| 696 | 2019     | 강남구   | 부상자수 | 5,182    | 412      | 315      | 401      | 389      | 484      | 442      | 450      | 435      | 389      | 440      | 542      | 483      |\n",
       "| 697 | 2019     | 송파구   | 발생건수 | 2,892    | 212      | 193      | 243      | 228      | 277      | 241      | 227      | 247      | 245      | 304      | 260      | 215      |\n",
       "| 698 | 2019     | 송파구   | 사망자수 | 13       | 0        | 2        | 0        | 0        | 3        | 0        | 1        | 1        | 0        | 3        | 3        | -        |\n",
       "| 699 | 2019     | 송파구   | 부상자수 | 4,003    | 319      | 253      | 336      | 317      | 398      | 311      | 312      | 340      | 341      | 447      | 330      | 299      |\n",
       "| 700 | 2019     | 강동구   | 발생건수 | 1,414    | 98       | 87       | 122      | 112      | 139      | 123      | 146      | 127      | 98       | 108      | 146      | 108      |\n",
       "| 701 | 2019     | 강동구   | 사망자수 | 11       | 1        | 0        | 0        | 0        | 1        | 1        | 2        | 2        | 2        | 1        | 0        | 1        |\n",
       "| 702 | 2019     | 강동구   | 부상자수 | 1,910    | 115      | 133      | 163      | 153      | 192      | 179      | 189      | 175      | 137      | 144      | 199      | 131      |\n",
       "\n"
      ],
      "text/plain": [
       "    기간 자치구별 구분     합계  1월 2월 3월 4월 5월 6월 7월 8월 9월 10월 11월\n",
       "4   2011 종로구   발생건수 1,421 115 99  116 110 122 116 103 122 121 135  140 \n",
       "5   2011 종로구   사망자수 14    2   0   0   1   0   3   1   1   2   2    1   \n",
       "6   2011 종로구   부상자수 1,994 165 134 162 153 157 163 154 171 166 193  204 \n",
       "7   2011 중구     발생건수 1,497 108 86  141 128 121 115 119 117 140 147  132 \n",
       "8   2011 중구     사망자수 13    0   0   0   3   1   1   1   1   1   2    3   \n",
       "9   2011 중구     부상자수 2,025 159 112 183 175 165 156 154 154 181 203  172 \n",
       "10  2011 용산구   발생건수 1,170 98  92  88  103 104 98  102 104 75  109  107 \n",
       "11  2011 용산구   사망자수 9     0   1   2   1   1   0   0   1   1   1    1   \n",
       "12  2011 용산구   부상자수 1,704 141 134 132 149 151 143 151 146 107 157  156 \n",
       "13  2011 성동구   발생건수 1,154 90  80  80  109 98  99  106 77  109 102  104 \n",
       "14  2011 성동구   사망자수 21    2   2   1   1   0   2   1   1   3   4    1   \n",
       "15  2011 성동구   부상자수 1,603 130 119 121 139 135 131 144 96  160 132  157 \n",
       "16  2011 광진구   발생건수 1,430 90  94  113 122 115 103 114 130 136 129  146 \n",
       "17  2011 광진구   사망자수 23    3   1   1   1   5   2   2   1   2   1    1   \n",
       "18  2011 광진구   부상자수 2,033 140 128 159 164 151 150 184 188 183 186  202 \n",
       "19  2011 동대문구 발생건수 1,777 129 119 120 142 158 152 172 145 157 155  163 \n",
       "20  2011 동대문구 사망자수 13    0   2   1   3   1   0   1   3   0   0    2   \n",
       "21  2011 동대문구 부상자수 2,431 180 178 161 191 257 186 214 204 213 208  221 \n",
       "22  2011 중랑구   발생건수 1,782 134 113 137 149 167 134 159 148 174 161  167 \n",
       "23  2011 중랑구   사망자수 12    0   1   0   1   2   1   4   2   0   0    0   \n",
       "24  2011 중랑구   부상자수 2,386 165 146 195 191 223 181 213 192 239 237  224 \n",
       "25  2011 성북구   발생건수 1,569 115 89  113 124 158 157 135 132 129 152  152 \n",
       "26  2011 성북구   사망자수 22    0   1   1   1   4   2   2   1   4   0    3   \n",
       "27  2011 성북구   부상자수 2,103 153 121 161 172 197 219 191 188 169 194  201 \n",
       "28  2011 강북구   발생건수 1,174 84  69  96  96  106 110 97  108 110 109  108 \n",
       "29  2011 강북구   사망자수 7     0   0   0   1   1   0   0   1   1   1    2   \n",
       "30  2011 강북구   부상자수 1,648 123 117 144 145 136 162 139 143 155 141  143 \n",
       "31  2011 도봉구   발생건수 933   74  50  71  76  74  78  95  81  81  87   86  \n",
       "32  2011 도봉구   사망자수 15    0   1   2   0   3   2   0   3   1   0    1   \n",
       "33  2011 도봉구   부상자수 1,279 119 63  105 102 92  97  149 105 102 107  113 \n",
       "... ...  ...      ...      ...   ... ... ... ... ... ... ... ... ... ...  ... \n",
       "673 2019 강서구   발생건수 1,829 136 131 144 140 153 143 147 189 162 167  162 \n",
       "674 2019 강서구   사망자수 20    1   0   2   2   5   1   0   1   1   4    1   \n",
       "675 2019 강서구   부상자수 2,491 179 165 194 189 230 206 185 260 237 214  226 \n",
       "676 2019 구로구   발생건수 1,529 140 100 132 138 129 134 112 124 128 129  137 \n",
       "677 2019 구로구   사망자수 13    5   2   0   0   0   2   0   1   0   1    1   \n",
       "678 2019 구로구   부상자수 2,096 189 127 189 204 177 187 148 177 180 178  167 \n",
       "679 2019 금천구   발생건수 920   63  49  81  87  81  65  91  95  62  88   81  \n",
       "680 2019 금천구   사망자수 9     2   0   1   0   0   0   0   1   3   2    0   \n",
       "681 2019 금천구   부상자수 1,353 81  69  110 119 111 86  123 169 91  164  119 \n",
       "682 2019 영등포구 발생건수 2,439 197 139 187 228 214 217 212 214 190 238  200 \n",
       "683 2019 영등포구 사망자수 11    0   2   1   1   0   2   1   1   0   2    1   \n",
       "684 2019 영등포구 부상자수 3,451 268 186 252 360 325 293 285 295 286 344  279 \n",
       "685 2019 동작구   발생건수 1,406 89  87  130 111 137 125 121 106 124 133  131 \n",
       "686 2019 동작구   사망자수 5     1   0   1   1   0   0   0   0   2   0    0   \n",
       "687 2019 동작구   부상자수 2,021 118 119 184 136 231 210 168 150 156 184  193 \n",
       "688 2019 관악구   발생건수 1,363 104 94  101 129 115 121 132 128 114 114  117 \n",
       "689 2019 관악구   사망자수 10    0   0   2   1   0   0   0   0   1   1    1   \n",
       "690 2019 관악구   부상자수 1,755 148 116 131 163 144 154 166 166 149 144  141 \n",
       "691 2019 서초구   발생건수 2,418 200 153 190 193 200 189 214 191 210 225  260 \n",
       "692 2019 서초구   사망자수 14    0   0   0   0   2   1   2   0   3   1    2   \n",
       "693 2019 서초구   부상자수 3,530 293 237 243 311 277 288 296 271 301 320  371 \n",
       "694 2019 강남구   발생건수 3,722 281 227 280 295 320 302 326 320 302 336  383 \n",
       "695 2019 강남구   사망자수 14    2   3   2   0   0   1   0   1   0   2    2   \n",
       "696 2019 강남구   부상자수 5,182 412 315 401 389 484 442 450 435 389 440  542 \n",
       "697 2019 송파구   발생건수 2,892 212 193 243 228 277 241 227 247 245 304  260 \n",
       "698 2019 송파구   사망자수 13    0   2   0   0   3   0   1   1   0   3    3   \n",
       "699 2019 송파구   부상자수 4,003 319 253 336 317 398 311 312 340 341 447  330 \n",
       "700 2019 강동구   발생건수 1,414 98  87  122 112 139 123 146 127 98  108  146 \n",
       "701 2019 강동구   사망자수 11    1   0   0   0   1   1   2   2   2   1    0   \n",
       "702 2019 강동구   부상자수 1,910 115 133 163 153 192 179 189 175 137 144  199 \n",
       "    12월\n",
       "4   122 \n",
       "5   1   \n",
       "6   172 \n",
       "7   143 \n",
       "8   -   \n",
       "9   211 \n",
       "10  90  \n",
       "11  -   \n",
       "12  137 \n",
       "13  100 \n",
       "14  3   \n",
       "15  139 \n",
       "16  138 \n",
       "17  3   \n",
       "18  198 \n",
       "19  165 \n",
       "20  -   \n",
       "21  218 \n",
       "22  139 \n",
       "23  1   \n",
       "24  180 \n",
       "25  113 \n",
       "26  3   \n",
       "27  137 \n",
       "28  81  \n",
       "29  -   \n",
       "30  100 \n",
       "31  80  \n",
       "32  2   \n",
       "33  125 \n",
       "... ... \n",
       "673 155 \n",
       "674 2   \n",
       "675 206 \n",
       "676 126 \n",
       "677 1   \n",
       "678 173 \n",
       "679 77  \n",
       "680 -   \n",
       "681 111 \n",
       "682 203 \n",
       "683 -   \n",
       "684 278 \n",
       "685 112 \n",
       "686 -   \n",
       "687 172 \n",
       "688 94  \n",
       "689 4   \n",
       "690 133 \n",
       "691 193 \n",
       "692 3   \n",
       "693 322 \n",
       "694 350 \n",
       "695 1   \n",
       "696 483 \n",
       "697 215 \n",
       "698 -   \n",
       "699 299 \n",
       "700 108 \n",
       "701 1   \n",
       "702 131 "
      ]
     },
     "metadata": {},
     "output_type": "display_data"
    }
   ],
   "source": [
    "for(i in 4:15) {\n",
    "    \n",
    "    seoul[,i] <- str_replace_all(seoul[,i], \"-\", \"0\")\n",
    "    \n",
    "}\n",
    "\n",
    "seoul"
   ]
  },
  {
   "cell_type": "code",
   "execution_count": 13,
   "metadata": {
    "vscode": {
     "languageId": "r"
    }
   },
   "outputs": [
    {
     "data": {
      "text/html": [
       "<table>\n",
       "<thead><tr><th></th><th scope=col>기간</th><th scope=col>자치구별</th><th scope=col>구분</th><th scope=col>합계</th><th scope=col>1월</th><th scope=col>2월</th><th scope=col>3월</th><th scope=col>4월</th><th scope=col>5월</th><th scope=col>6월</th><th scope=col>7월</th><th scope=col>8월</th><th scope=col>9월</th><th scope=col>10월</th><th scope=col>11월</th><th scope=col>12월</th></tr></thead>\n",
       "<tbody>\n",
       "\t<tr><th scope=row>4</th><td>2011    </td><td>종로구  </td><td>발생건수</td><td>1,421   </td><td>115     </td><td>99      </td><td>116     </td><td>110     </td><td>122     </td><td>116     </td><td>103     </td><td>122     </td><td>121     </td><td>135     </td><td>140     </td><td>122     </td></tr>\n",
       "\t<tr><th scope=row>5</th><td>2011    </td><td>종로구  </td><td>사망자수</td><td>14      </td><td>2       </td><td>0       </td><td>0       </td><td>1       </td><td>0       </td><td>3       </td><td>1       </td><td>1       </td><td>2       </td><td>2       </td><td>1       </td><td>1       </td></tr>\n",
       "\t<tr><th scope=row>6</th><td>2011    </td><td>종로구  </td><td>부상자수</td><td>1,994   </td><td>165     </td><td>134     </td><td>162     </td><td>153     </td><td>157     </td><td>163     </td><td>154     </td><td>171     </td><td>166     </td><td>193     </td><td>204     </td><td>172     </td></tr>\n",
       "\t<tr><th scope=row>7</th><td>2011    </td><td>중구    </td><td>발생건수</td><td>1,497   </td><td>108     </td><td>86      </td><td>141     </td><td>128     </td><td>121     </td><td>115     </td><td>119     </td><td>117     </td><td>140     </td><td>147     </td><td>132     </td><td>143     </td></tr>\n",
       "\t<tr><th scope=row>8</th><td>2011    </td><td>중구    </td><td>사망자수</td><td>13      </td><td>0       </td><td>0       </td><td>0       </td><td>3       </td><td>1       </td><td>1       </td><td>1       </td><td>1       </td><td>1       </td><td>2       </td><td>3       </td><td>-       </td></tr>\n",
       "\t<tr><th scope=row>9</th><td>2011    </td><td>중구    </td><td>부상자수</td><td>2,025   </td><td>159     </td><td>112     </td><td>183     </td><td>175     </td><td>165     </td><td>156     </td><td>154     </td><td>154     </td><td>181     </td><td>203     </td><td>172     </td><td>211     </td></tr>\n",
       "</tbody>\n",
       "</table>\n"
      ],
      "text/latex": [
       "\\begin{tabular}{r|llllllllllllllll}\n",
       "  & 기간 & 자치구별 & 구분 & 합계 & 1월 & 2월 & 3월 & 4월 & 5월 & 6월 & 7월 & 8월 & 9월 & 10월 & 11월 & 12월\\\\\n",
       "\\hline\n",
       "\t4 & 2011     & 종로구   & 발생건수 & 1,421    & 115      & 99       & 116      & 110      & 122      & 116      & 103      & 122      & 121      & 135      & 140      & 122     \\\\\n",
       "\t5 & 2011     & 종로구   & 사망자수 & 14       & 2        & 0        & 0        & 1        & 0        & 3        & 1        & 1        & 2        & 2        & 1        & 1       \\\\\n",
       "\t6 & 2011     & 종로구   & 부상자수 & 1,994    & 165      & 134      & 162      & 153      & 157      & 163      & 154      & 171      & 166      & 193      & 204      & 172     \\\\\n",
       "\t7 & 2011     & 중구     & 발생건수 & 1,497    & 108      & 86       & 141      & 128      & 121      & 115      & 119      & 117      & 140      & 147      & 132      & 143     \\\\\n",
       "\t8 & 2011     & 중구     & 사망자수 & 13       & 0        & 0        & 0        & 3        & 1        & 1        & 1        & 1        & 1        & 2        & 3        & -       \\\\\n",
       "\t9 & 2011     & 중구     & 부상자수 & 2,025    & 159      & 112      & 183      & 175      & 165      & 156      & 154      & 154      & 181      & 203      & 172      & 211     \\\\\n",
       "\\end{tabular}\n"
      ],
      "text/markdown": [
       "\n",
       "| <!--/--> | 기간 | 자치구별 | 구분 | 합계 | 1월 | 2월 | 3월 | 4월 | 5월 | 6월 | 7월 | 8월 | 9월 | 10월 | 11월 | 12월 |\n",
       "|---|---|---|---|---|---|---|---|---|---|---|---|---|---|---|---|---|\n",
       "| 4 | 2011     | 종로구   | 발생건수 | 1,421    | 115      | 99       | 116      | 110      | 122      | 116      | 103      | 122      | 121      | 135      | 140      | 122      |\n",
       "| 5 | 2011     | 종로구   | 사망자수 | 14       | 2        | 0        | 0        | 1        | 0        | 3        | 1        | 1        | 2        | 2        | 1        | 1        |\n",
       "| 6 | 2011     | 종로구   | 부상자수 | 1,994    | 165      | 134      | 162      | 153      | 157      | 163      | 154      | 171      | 166      | 193      | 204      | 172      |\n",
       "| 7 | 2011     | 중구     | 발생건수 | 1,497    | 108      | 86       | 141      | 128      | 121      | 115      | 119      | 117      | 140      | 147      | 132      | 143      |\n",
       "| 8 | 2011     | 중구     | 사망자수 | 13       | 0        | 0        | 0        | 3        | 1        | 1        | 1        | 1        | 1        | 2        | 3        | -        |\n",
       "| 9 | 2011     | 중구     | 부상자수 | 2,025    | 159      | 112      | 183      | 175      | 165      | 156      | 154      | 154      | 181      | 203      | 172      | 211      |\n",
       "\n"
      ],
      "text/plain": [
       "  기간 자치구별 구분     합계  1월 2월 3월 4월 5월 6월 7월 8월 9월 10월 11월\n",
       "4 2011 종로구   발생건수 1,421 115 99  116 110 122 116 103 122 121 135  140 \n",
       "5 2011 종로구   사망자수 14    2   0   0   1   0   3   1   1   2   2    1   \n",
       "6 2011 종로구   부상자수 1,994 165 134 162 153 157 163 154 171 166 193  204 \n",
       "7 2011 중구     발생건수 1,497 108 86  141 128 121 115 119 117 140 147  132 \n",
       "8 2011 중구     사망자수 13    0   0   0   3   1   1   1   1   1   2    3   \n",
       "9 2011 중구     부상자수 2,025 159 112 183 175 165 156 154 154 181 203  172 \n",
       "  12월\n",
       "4 122 \n",
       "5 1   \n",
       "6 172 \n",
       "7 143 \n",
       "8 -   \n",
       "9 211 "
      ]
     },
     "metadata": {},
     "output_type": "display_data"
    }
   ],
   "source": [
    "head(seoul)"
   ]
  },
  {
   "cell_type": "code",
   "execution_count": 14,
   "metadata": {
    "vscode": {
     "languageId": "r"
    }
   },
   "outputs": [
    {
     "name": "stderr",
     "output_type": "stream",
     "text": [
      "\n",
      "Attaching package: ‘dplyr’\n",
      "\n",
      "The following objects are masked from ‘package:stats’:\n",
      "\n",
      "    filter, lag\n",
      "\n",
      "The following objects are masked from ‘package:base’:\n",
      "\n",
      "    intersect, setdiff, setequal, union\n",
      "\n"
     ]
    }
   ],
   "source": [
    "library(dplyr)"
   ]
  },
  {
   "cell_type": "code",
   "execution_count": 15,
   "metadata": {
    "vscode": {
     "languageId": "r"
    }
   },
   "outputs": [
    {
     "data": {
      "text/html": [
       "25"
      ],
      "text/latex": [
       "25"
      ],
      "text/markdown": [
       "25"
      ],
      "text/plain": [
       "[1] 25"
      ]
     },
     "metadata": {},
     "output_type": "display_data"
    }
   ],
   "source": [
    "length(sort(unique(seoul$자치구별)))"
   ]
  },
  {
   "cell_type": "code",
   "execution_count": 16,
   "metadata": {
    "vscode": {
     "languageId": "r"
    }
   },
   "outputs": [
    {
     "data": {
      "text/html": [
       "<table>\n",
       "<thead><tr><th></th><th scope=col>기간</th><th scope=col>자치구별</th><th scope=col>구분</th><th scope=col>합계</th><th scope=col>1월</th><th scope=col>2월</th><th scope=col>3월</th><th scope=col>4월</th><th scope=col>5월</th><th scope=col>6월</th><th scope=col>7월</th><th scope=col>8월</th><th scope=col>9월</th><th scope=col>10월</th><th scope=col>11월</th><th scope=col>12월</th></tr></thead>\n",
       "<tbody>\n",
       "\t<tr><th scope=row>4</th><td>2011    </td><td>종로구  </td><td>발생건수</td><td>1,421   </td><td>115     </td><td>99      </td><td>116     </td><td>110     </td><td>122     </td><td>116     </td><td>103     </td><td>122     </td><td>121     </td><td>135     </td><td>140     </td><td>122     </td></tr>\n",
       "\t<tr><th scope=row>5</th><td>2011    </td><td>종로구  </td><td>사망자수</td><td>14      </td><td>2       </td><td>0       </td><td>0       </td><td>1       </td><td>0       </td><td>3       </td><td>1       </td><td>1       </td><td>2       </td><td>2       </td><td>1       </td><td>1       </td></tr>\n",
       "\t<tr><th scope=row>6</th><td>2011    </td><td>종로구  </td><td>부상자수</td><td>1,994   </td><td>165     </td><td>134     </td><td>162     </td><td>153     </td><td>157     </td><td>163     </td><td>154     </td><td>171     </td><td>166     </td><td>193     </td><td>204     </td><td>172     </td></tr>\n",
       "\t<tr><th scope=row>7</th><td>2011    </td><td>중구    </td><td>발생건수</td><td>1,497   </td><td>108     </td><td>86      </td><td>141     </td><td>128     </td><td>121     </td><td>115     </td><td>119     </td><td>117     </td><td>140     </td><td>147     </td><td>132     </td><td>143     </td></tr>\n",
       "\t<tr><th scope=row>8</th><td>2011    </td><td>중구    </td><td>사망자수</td><td>13      </td><td>0       </td><td>0       </td><td>0       </td><td>3       </td><td>1       </td><td>1       </td><td>1       </td><td>1       </td><td>1       </td><td>2       </td><td>3       </td><td>-       </td></tr>\n",
       "\t<tr><th scope=row>9</th><td>2011    </td><td>중구    </td><td>부상자수</td><td>2,025   </td><td>159     </td><td>112     </td><td>183     </td><td>175     </td><td>165     </td><td>156     </td><td>154     </td><td>154     </td><td>181     </td><td>203     </td><td>172     </td><td>211     </td></tr>\n",
       "</tbody>\n",
       "</table>\n"
      ],
      "text/latex": [
       "\\begin{tabular}{r|llllllllllllllll}\n",
       "  & 기간 & 자치구별 & 구분 & 합계 & 1월 & 2월 & 3월 & 4월 & 5월 & 6월 & 7월 & 8월 & 9월 & 10월 & 11월 & 12월\\\\\n",
       "\\hline\n",
       "\t4 & 2011     & 종로구   & 발생건수 & 1,421    & 115      & 99       & 116      & 110      & 122      & 116      & 103      & 122      & 121      & 135      & 140      & 122     \\\\\n",
       "\t5 & 2011     & 종로구   & 사망자수 & 14       & 2        & 0        & 0        & 1        & 0        & 3        & 1        & 1        & 2        & 2        & 1        & 1       \\\\\n",
       "\t6 & 2011     & 종로구   & 부상자수 & 1,994    & 165      & 134      & 162      & 153      & 157      & 163      & 154      & 171      & 166      & 193      & 204      & 172     \\\\\n",
       "\t7 & 2011     & 중구     & 발생건수 & 1,497    & 108      & 86       & 141      & 128      & 121      & 115      & 119      & 117      & 140      & 147      & 132      & 143     \\\\\n",
       "\t8 & 2011     & 중구     & 사망자수 & 13       & 0        & 0        & 0        & 3        & 1        & 1        & 1        & 1        & 1        & 2        & 3        & -       \\\\\n",
       "\t9 & 2011     & 중구     & 부상자수 & 2,025    & 159      & 112      & 183      & 175      & 165      & 156      & 154      & 154      & 181      & 203      & 172      & 211     \\\\\n",
       "\\end{tabular}\n"
      ],
      "text/markdown": [
       "\n",
       "| <!--/--> | 기간 | 자치구별 | 구분 | 합계 | 1월 | 2월 | 3월 | 4월 | 5월 | 6월 | 7월 | 8월 | 9월 | 10월 | 11월 | 12월 |\n",
       "|---|---|---|---|---|---|---|---|---|---|---|---|---|---|---|---|---|\n",
       "| 4 | 2011     | 종로구   | 발생건수 | 1,421    | 115      | 99       | 116      | 110      | 122      | 116      | 103      | 122      | 121      | 135      | 140      | 122      |\n",
       "| 5 | 2011     | 종로구   | 사망자수 | 14       | 2        | 0        | 0        | 1        | 0        | 3        | 1        | 1        | 2        | 2        | 1        | 1        |\n",
       "| 6 | 2011     | 종로구   | 부상자수 | 1,994    | 165      | 134      | 162      | 153      | 157      | 163      | 154      | 171      | 166      | 193      | 204      | 172      |\n",
       "| 7 | 2011     | 중구     | 발생건수 | 1,497    | 108      | 86       | 141      | 128      | 121      | 115      | 119      | 117      | 140      | 147      | 132      | 143      |\n",
       "| 8 | 2011     | 중구     | 사망자수 | 13       | 0        | 0        | 0        | 3        | 1        | 1        | 1        | 1        | 1        | 2        | 3        | -        |\n",
       "| 9 | 2011     | 중구     | 부상자수 | 2,025    | 159      | 112      | 183      | 175      | 165      | 156      | 154      | 154      | 181      | 203      | 172      | 211      |\n",
       "\n"
      ],
      "text/plain": [
       "  기간 자치구별 구분     합계  1월 2월 3월 4월 5월 6월 7월 8월 9월 10월 11월\n",
       "4 2011 종로구   발생건수 1,421 115 99  116 110 122 116 103 122 121 135  140 \n",
       "5 2011 종로구   사망자수 14    2   0   0   1   0   3   1   1   2   2    1   \n",
       "6 2011 종로구   부상자수 1,994 165 134 162 153 157 163 154 171 166 193  204 \n",
       "7 2011 중구     발생건수 1,497 108 86  141 128 121 115 119 117 140 147  132 \n",
       "8 2011 중구     사망자수 13    0   0   0   3   1   1   1   1   1   2    3   \n",
       "9 2011 중구     부상자수 2,025 159 112 183 175 165 156 154 154 181 203  172 \n",
       "  12월\n",
       "4 122 \n",
       "5 1   \n",
       "6 172 \n",
       "7 143 \n",
       "8 -   \n",
       "9 211 "
      ]
     },
     "metadata": {},
     "output_type": "display_data"
    }
   ],
   "source": [
    "head(seoul)"
   ]
  },
  {
   "cell_type": "code",
   "execution_count": 17,
   "metadata": {
    "vscode": {
     "languageId": "r"
    }
   },
   "outputs": [],
   "source": [
    "seoul <- seoul[,-4]"
   ]
  },
  {
   "cell_type": "code",
   "execution_count": 18,
   "metadata": {
    "vscode": {
     "languageId": "r"
    }
   },
   "outputs": [
    {
     "data": {
      "text/html": [
       "<table>\n",
       "<thead><tr><th></th><th scope=col>기간</th><th scope=col>자치구별</th><th scope=col>구분</th><th scope=col>1월</th><th scope=col>2월</th><th scope=col>3월</th><th scope=col>4월</th><th scope=col>5월</th><th scope=col>6월</th><th scope=col>7월</th><th scope=col>8월</th><th scope=col>9월</th><th scope=col>10월</th><th scope=col>11월</th><th scope=col>12월</th></tr></thead>\n",
       "<tbody>\n",
       "\t<tr><th scope=row>4</th><td>2011    </td><td>종로구  </td><td>발생건수</td><td>115     </td><td>99      </td><td>116     </td><td>110     </td><td>122     </td><td>116     </td><td>103     </td><td>122     </td><td>121     </td><td>135     </td><td>140     </td><td>122     </td></tr>\n",
       "\t<tr><th scope=row>5</th><td>2011    </td><td>종로구  </td><td>사망자수</td><td>2       </td><td>0       </td><td>0       </td><td>1       </td><td>0       </td><td>3       </td><td>1       </td><td>1       </td><td>2       </td><td>2       </td><td>1       </td><td>1       </td></tr>\n",
       "\t<tr><th scope=row>6</th><td>2011    </td><td>종로구  </td><td>부상자수</td><td>165     </td><td>134     </td><td>162     </td><td>153     </td><td>157     </td><td>163     </td><td>154     </td><td>171     </td><td>166     </td><td>193     </td><td>204     </td><td>172     </td></tr>\n",
       "\t<tr><th scope=row>7</th><td>2011    </td><td>중구    </td><td>발생건수</td><td>108     </td><td>86      </td><td>141     </td><td>128     </td><td>121     </td><td>115     </td><td>119     </td><td>117     </td><td>140     </td><td>147     </td><td>132     </td><td>143     </td></tr>\n",
       "\t<tr><th scope=row>8</th><td>2011    </td><td>중구    </td><td>사망자수</td><td>0       </td><td>0       </td><td>0       </td><td>3       </td><td>1       </td><td>1       </td><td>1       </td><td>1       </td><td>1       </td><td>2       </td><td>3       </td><td>-       </td></tr>\n",
       "\t<tr><th scope=row>9</th><td>2011    </td><td>중구    </td><td>부상자수</td><td>159     </td><td>112     </td><td>183     </td><td>175     </td><td>165     </td><td>156     </td><td>154     </td><td>154     </td><td>181     </td><td>203     </td><td>172     </td><td>211     </td></tr>\n",
       "</tbody>\n",
       "</table>\n"
      ],
      "text/latex": [
       "\\begin{tabular}{r|lllllllllllllll}\n",
       "  & 기간 & 자치구별 & 구분 & 1월 & 2월 & 3월 & 4월 & 5월 & 6월 & 7월 & 8월 & 9월 & 10월 & 11월 & 12월\\\\\n",
       "\\hline\n",
       "\t4 & 2011     & 종로구   & 발생건수 & 115      & 99       & 116      & 110      & 122      & 116      & 103      & 122      & 121      & 135      & 140      & 122     \\\\\n",
       "\t5 & 2011     & 종로구   & 사망자수 & 2        & 0        & 0        & 1        & 0        & 3        & 1        & 1        & 2        & 2        & 1        & 1       \\\\\n",
       "\t6 & 2011     & 종로구   & 부상자수 & 165      & 134      & 162      & 153      & 157      & 163      & 154      & 171      & 166      & 193      & 204      & 172     \\\\\n",
       "\t7 & 2011     & 중구     & 발생건수 & 108      & 86       & 141      & 128      & 121      & 115      & 119      & 117      & 140      & 147      & 132      & 143     \\\\\n",
       "\t8 & 2011     & 중구     & 사망자수 & 0        & 0        & 0        & 3        & 1        & 1        & 1        & 1        & 1        & 2        & 3        & -       \\\\\n",
       "\t9 & 2011     & 중구     & 부상자수 & 159      & 112      & 183      & 175      & 165      & 156      & 154      & 154      & 181      & 203      & 172      & 211     \\\\\n",
       "\\end{tabular}\n"
      ],
      "text/markdown": [
       "\n",
       "| <!--/--> | 기간 | 자치구별 | 구분 | 1월 | 2월 | 3월 | 4월 | 5월 | 6월 | 7월 | 8월 | 9월 | 10월 | 11월 | 12월 |\n",
       "|---|---|---|---|---|---|---|---|---|---|---|---|---|---|---|---|\n",
       "| 4 | 2011     | 종로구   | 발생건수 | 115      | 99       | 116      | 110      | 122      | 116      | 103      | 122      | 121      | 135      | 140      | 122      |\n",
       "| 5 | 2011     | 종로구   | 사망자수 | 2        | 0        | 0        | 1        | 0        | 3        | 1        | 1        | 2        | 2        | 1        | 1        |\n",
       "| 6 | 2011     | 종로구   | 부상자수 | 165      | 134      | 162      | 153      | 157      | 163      | 154      | 171      | 166      | 193      | 204      | 172      |\n",
       "| 7 | 2011     | 중구     | 발생건수 | 108      | 86       | 141      | 128      | 121      | 115      | 119      | 117      | 140      | 147      | 132      | 143      |\n",
       "| 8 | 2011     | 중구     | 사망자수 | 0        | 0        | 0        | 3        | 1        | 1        | 1        | 1        | 1        | 2        | 3        | -        |\n",
       "| 9 | 2011     | 중구     | 부상자수 | 159      | 112      | 183      | 175      | 165      | 156      | 154      | 154      | 181      | 203      | 172      | 211      |\n",
       "\n"
      ],
      "text/plain": [
       "  기간 자치구별 구분     1월 2월 3월 4월 5월 6월 7월 8월 9월 10월 11월 12월\n",
       "4 2011 종로구   발생건수 115 99  116 110 122 116 103 122 121 135  140  122 \n",
       "5 2011 종로구   사망자수 2   0   0   1   0   3   1   1   2   2    1    1   \n",
       "6 2011 종로구   부상자수 165 134 162 153 157 163 154 171 166 193  204  172 \n",
       "7 2011 중구     발생건수 108 86  141 128 121 115 119 117 140 147  132  143 \n",
       "8 2011 중구     사망자수 0   0   0   3   1   1   1   1   1   2    3    -   \n",
       "9 2011 중구     부상자수 159 112 183 175 165 156 154 154 181 203  172  211 "
      ]
     },
     "metadata": {},
     "output_type": "display_data"
    }
   ],
   "source": [
    "head(seoul)"
   ]
  },
  {
   "cell_type": "code",
   "execution_count": 19,
   "metadata": {
    "vscode": {
     "languageId": "r"
    }
   },
   "outputs": [],
   "source": [
    "# 데이터 프레임 새로 만들기 \n",
    "# 자치구명\n",
    "발생건수 <- c()\n",
    "사망자수 <- c()\n",
    "부상자수 <- c()\n",
    "for(k in c('발생건수','사망자수','부상자수')) {\n",
    "    sub <- subset(seoul,구분==k)\n",
    "    for(j in 1:nrow(seoul))  {  \n",
    "        for(i in 4:15) {                       #월반복 \n",
    "        if(k == '발생건수') {\n",
    "    발생건수 <- rbind(발생건수,seoul[j,i])\n",
    "    } else if(k == '사망자수') {\n",
    "    사망자수 <- rbind(사망자수,seoul[j,i]) \n",
    "    } else {\n",
    "    부상자수 <- rbind(부상자수,seoul[j,i]) \n",
    "    }\n",
    "}\n",
    "}\n",
    "}"
   ]
  },
  {
   "cell_type": "code",
   "execution_count": 20,
   "metadata": {
    "vscode": {
     "languageId": "r"
    }
   },
   "outputs": [],
   "source": [
    "seoulAccident <- data.frame(년도=rep(2011:2019,each=12),월=rep(1:12,9),자치구명=rep(unique(seoul$자치구별), each= 12),\n",
    "                    발생건수,사망자수,부상자수)"
   ]
  },
  {
   "cell_type": "code",
   "execution_count": 21,
   "metadata": {
    "vscode": {
     "languageId": "r"
    }
   },
   "outputs": [
    {
     "data": {
      "text/html": [
       "<table>\n",
       "<thead><tr><th scope=col>년도</th><th scope=col>월</th><th scope=col>자치구명</th><th scope=col>발생건수</th><th scope=col>사망자수</th><th scope=col>부상자수</th></tr></thead>\n",
       "<tbody>\n",
       "\t<tr><td>2011  </td><td> 1    </td><td>종로구</td><td>115   </td><td>115   </td><td>115   </td></tr>\n",
       "\t<tr><td>2011  </td><td> 2    </td><td>종로구</td><td>99    </td><td>99    </td><td>99    </td></tr>\n",
       "\t<tr><td>2011  </td><td> 3    </td><td>종로구</td><td>116   </td><td>116   </td><td>116   </td></tr>\n",
       "\t<tr><td>2011  </td><td> 4    </td><td>종로구</td><td>110   </td><td>110   </td><td>110   </td></tr>\n",
       "\t<tr><td>2011  </td><td> 5    </td><td>종로구</td><td>122   </td><td>122   </td><td>122   </td></tr>\n",
       "\t<tr><td>2011  </td><td> 6    </td><td>종로구</td><td>116   </td><td>116   </td><td>116   </td></tr>\n",
       "\t<tr><td>2011  </td><td> 7    </td><td>종로구</td><td>103   </td><td>103   </td><td>103   </td></tr>\n",
       "\t<tr><td>2011  </td><td> 8    </td><td>종로구</td><td>122   </td><td>122   </td><td>122   </td></tr>\n",
       "\t<tr><td>2011  </td><td> 9    </td><td>종로구</td><td>121   </td><td>121   </td><td>121   </td></tr>\n",
       "\t<tr><td>2011  </td><td>10    </td><td>종로구</td><td>135   </td><td>135   </td><td>135   </td></tr>\n",
       "\t<tr><td>2011  </td><td>11    </td><td>종로구</td><td>140   </td><td>140   </td><td>140   </td></tr>\n",
       "\t<tr><td>2011  </td><td>12    </td><td>종로구</td><td>122   </td><td>122   </td><td>122   </td></tr>\n",
       "\t<tr><td>2012  </td><td> 1    </td><td>중구  </td><td>2     </td><td>2     </td><td>2     </td></tr>\n",
       "\t<tr><td>2012  </td><td> 2    </td><td>중구  </td><td>0     </td><td>0     </td><td>0     </td></tr>\n",
       "\t<tr><td>2012  </td><td> 3    </td><td>중구  </td><td>0     </td><td>0     </td><td>0     </td></tr>\n",
       "\t<tr><td>2012  </td><td> 4    </td><td>중구  </td><td>1     </td><td>1     </td><td>1     </td></tr>\n",
       "\t<tr><td>2012  </td><td> 5    </td><td>중구  </td><td>0     </td><td>0     </td><td>0     </td></tr>\n",
       "\t<tr><td>2012  </td><td> 6    </td><td>중구  </td><td>3     </td><td>3     </td><td>3     </td></tr>\n",
       "\t<tr><td>2012  </td><td> 7    </td><td>중구  </td><td>1     </td><td>1     </td><td>1     </td></tr>\n",
       "\t<tr><td>2012  </td><td> 8    </td><td>중구  </td><td>1     </td><td>1     </td><td>1     </td></tr>\n",
       "\t<tr><td>2012  </td><td> 9    </td><td>중구  </td><td>2     </td><td>2     </td><td>2     </td></tr>\n",
       "\t<tr><td>2012  </td><td>10    </td><td>중구  </td><td>2     </td><td>2     </td><td>2     </td></tr>\n",
       "\t<tr><td>2012  </td><td>11    </td><td>중구  </td><td>1     </td><td>1     </td><td>1     </td></tr>\n",
       "\t<tr><td>2012  </td><td>12    </td><td>중구  </td><td>1     </td><td>1     </td><td>1     </td></tr>\n",
       "\t<tr><td>2013  </td><td> 1    </td><td>용산구</td><td>165   </td><td>165   </td><td>165   </td></tr>\n",
       "\t<tr><td>2013  </td><td> 2    </td><td>용산구</td><td>134   </td><td>134   </td><td>134   </td></tr>\n",
       "\t<tr><td>2013  </td><td> 3    </td><td>용산구</td><td>162   </td><td>162   </td><td>162   </td></tr>\n",
       "\t<tr><td>2013  </td><td> 4    </td><td>용산구</td><td>153   </td><td>153   </td><td>153   </td></tr>\n",
       "\t<tr><td>2013  </td><td> 5    </td><td>용산구</td><td>157   </td><td>157   </td><td>157   </td></tr>\n",
       "\t<tr><td>2013  </td><td> 6    </td><td>용산구</td><td>163   </td><td>163   </td><td>163   </td></tr>\n",
       "\t<tr><td>...</td><td>...</td><td>...</td><td>...</td><td>...</td><td>...</td></tr>\n",
       "\t<tr><td>2017  </td><td> 7    </td><td>강남구</td><td>146   </td><td>146   </td><td>146   </td></tr>\n",
       "\t<tr><td>2017  </td><td> 8    </td><td>강남구</td><td>127   </td><td>127   </td><td>127   </td></tr>\n",
       "\t<tr><td>2017  </td><td> 9    </td><td>강남구</td><td>98    </td><td>98    </td><td>98    </td></tr>\n",
       "\t<tr><td>2017  </td><td>10    </td><td>강남구</td><td>108   </td><td>108   </td><td>108   </td></tr>\n",
       "\t<tr><td>2017  </td><td>11    </td><td>강남구</td><td>146   </td><td>146   </td><td>146   </td></tr>\n",
       "\t<tr><td>2017  </td><td>12    </td><td>강남구</td><td>108   </td><td>108   </td><td>108   </td></tr>\n",
       "\t<tr><td>2018  </td><td> 1    </td><td>송파구</td><td>1     </td><td>1     </td><td>1     </td></tr>\n",
       "\t<tr><td>2018  </td><td> 2    </td><td>송파구</td><td>0     </td><td>0     </td><td>0     </td></tr>\n",
       "\t<tr><td>2018  </td><td> 3    </td><td>송파구</td><td>0     </td><td>0     </td><td>0     </td></tr>\n",
       "\t<tr><td>2018  </td><td> 4    </td><td>송파구</td><td>0     </td><td>0     </td><td>0     </td></tr>\n",
       "\t<tr><td>2018  </td><td> 5    </td><td>송파구</td><td>1     </td><td>1     </td><td>1     </td></tr>\n",
       "\t<tr><td>2018  </td><td> 6    </td><td>송파구</td><td>1     </td><td>1     </td><td>1     </td></tr>\n",
       "\t<tr><td>2018  </td><td> 7    </td><td>송파구</td><td>2     </td><td>2     </td><td>2     </td></tr>\n",
       "\t<tr><td>2018  </td><td> 8    </td><td>송파구</td><td>2     </td><td>2     </td><td>2     </td></tr>\n",
       "\t<tr><td>2018  </td><td> 9    </td><td>송파구</td><td>2     </td><td>2     </td><td>2     </td></tr>\n",
       "\t<tr><td>2018  </td><td>10    </td><td>송파구</td><td>1     </td><td>1     </td><td>1     </td></tr>\n",
       "\t<tr><td>2018  </td><td>11    </td><td>송파구</td><td>0     </td><td>0     </td><td>0     </td></tr>\n",
       "\t<tr><td>2018  </td><td>12    </td><td>송파구</td><td>1     </td><td>1     </td><td>1     </td></tr>\n",
       "\t<tr><td>2019  </td><td> 1    </td><td>강동구</td><td>115   </td><td>115   </td><td>115   </td></tr>\n",
       "\t<tr><td>2019  </td><td> 2    </td><td>강동구</td><td>133   </td><td>133   </td><td>133   </td></tr>\n",
       "\t<tr><td>2019  </td><td> 3    </td><td>강동구</td><td>163   </td><td>163   </td><td>163   </td></tr>\n",
       "\t<tr><td>2019  </td><td> 4    </td><td>강동구</td><td>153   </td><td>153   </td><td>153   </td></tr>\n",
       "\t<tr><td>2019  </td><td> 5    </td><td>강동구</td><td>192   </td><td>192   </td><td>192   </td></tr>\n",
       "\t<tr><td>2019  </td><td> 6    </td><td>강동구</td><td>179   </td><td>179   </td><td>179   </td></tr>\n",
       "\t<tr><td>2019  </td><td> 7    </td><td>강동구</td><td>189   </td><td>189   </td><td>189   </td></tr>\n",
       "\t<tr><td>2019  </td><td> 8    </td><td>강동구</td><td>175   </td><td>175   </td><td>175   </td></tr>\n",
       "\t<tr><td>2019  </td><td> 9    </td><td>강동구</td><td>137   </td><td>137   </td><td>137   </td></tr>\n",
       "\t<tr><td>2019  </td><td>10    </td><td>강동구</td><td>144   </td><td>144   </td><td>144   </td></tr>\n",
       "\t<tr><td>2019  </td><td>11    </td><td>강동구</td><td>199   </td><td>199   </td><td>199   </td></tr>\n",
       "\t<tr><td>2019  </td><td>12    </td><td>강동구</td><td>131   </td><td>131   </td><td>131   </td></tr>\n",
       "</tbody>\n",
       "</table>\n"
      ],
      "text/latex": [
       "\\begin{tabular}{r|llllll}\n",
       " 년도 & 월 & 자치구명 & 발생건수 & 사망자수 & 부상자수\\\\\n",
       "\\hline\n",
       "\t 2011   &  1     & 종로구 & 115    & 115    & 115   \\\\\n",
       "\t 2011   &  2     & 종로구 & 99     & 99     & 99    \\\\\n",
       "\t 2011   &  3     & 종로구 & 116    & 116    & 116   \\\\\n",
       "\t 2011   &  4     & 종로구 & 110    & 110    & 110   \\\\\n",
       "\t 2011   &  5     & 종로구 & 122    & 122    & 122   \\\\\n",
       "\t 2011   &  6     & 종로구 & 116    & 116    & 116   \\\\\n",
       "\t 2011   &  7     & 종로구 & 103    & 103    & 103   \\\\\n",
       "\t 2011   &  8     & 종로구 & 122    & 122    & 122   \\\\\n",
       "\t 2011   &  9     & 종로구 & 121    & 121    & 121   \\\\\n",
       "\t 2011   & 10     & 종로구 & 135    & 135    & 135   \\\\\n",
       "\t 2011   & 11     & 종로구 & 140    & 140    & 140   \\\\\n",
       "\t 2011   & 12     & 종로구 & 122    & 122    & 122   \\\\\n",
       "\t 2012   &  1     & 중구   & 2      & 2      & 2     \\\\\n",
       "\t 2012   &  2     & 중구   & 0      & 0      & 0     \\\\\n",
       "\t 2012   &  3     & 중구   & 0      & 0      & 0     \\\\\n",
       "\t 2012   &  4     & 중구   & 1      & 1      & 1     \\\\\n",
       "\t 2012   &  5     & 중구   & 0      & 0      & 0     \\\\\n",
       "\t 2012   &  6     & 중구   & 3      & 3      & 3     \\\\\n",
       "\t 2012   &  7     & 중구   & 1      & 1      & 1     \\\\\n",
       "\t 2012   &  8     & 중구   & 1      & 1      & 1     \\\\\n",
       "\t 2012   &  9     & 중구   & 2      & 2      & 2     \\\\\n",
       "\t 2012   & 10     & 중구   & 2      & 2      & 2     \\\\\n",
       "\t 2012   & 11     & 중구   & 1      & 1      & 1     \\\\\n",
       "\t 2012   & 12     & 중구   & 1      & 1      & 1     \\\\\n",
       "\t 2013   &  1     & 용산구 & 165    & 165    & 165   \\\\\n",
       "\t 2013   &  2     & 용산구 & 134    & 134    & 134   \\\\\n",
       "\t 2013   &  3     & 용산구 & 162    & 162    & 162   \\\\\n",
       "\t 2013   &  4     & 용산구 & 153    & 153    & 153   \\\\\n",
       "\t 2013   &  5     & 용산구 & 157    & 157    & 157   \\\\\n",
       "\t 2013   &  6     & 용산구 & 163    & 163    & 163   \\\\\n",
       "\t ... & ... & ... & ... & ... & ...\\\\\n",
       "\t 2017   &  7     & 강남구 & 146    & 146    & 146   \\\\\n",
       "\t 2017   &  8     & 강남구 & 127    & 127    & 127   \\\\\n",
       "\t 2017   &  9     & 강남구 & 98     & 98     & 98    \\\\\n",
       "\t 2017   & 10     & 강남구 & 108    & 108    & 108   \\\\\n",
       "\t 2017   & 11     & 강남구 & 146    & 146    & 146   \\\\\n",
       "\t 2017   & 12     & 강남구 & 108    & 108    & 108   \\\\\n",
       "\t 2018   &  1     & 송파구 & 1      & 1      & 1     \\\\\n",
       "\t 2018   &  2     & 송파구 & 0      & 0      & 0     \\\\\n",
       "\t 2018   &  3     & 송파구 & 0      & 0      & 0     \\\\\n",
       "\t 2018   &  4     & 송파구 & 0      & 0      & 0     \\\\\n",
       "\t 2018   &  5     & 송파구 & 1      & 1      & 1     \\\\\n",
       "\t 2018   &  6     & 송파구 & 1      & 1      & 1     \\\\\n",
       "\t 2018   &  7     & 송파구 & 2      & 2      & 2     \\\\\n",
       "\t 2018   &  8     & 송파구 & 2      & 2      & 2     \\\\\n",
       "\t 2018   &  9     & 송파구 & 2      & 2      & 2     \\\\\n",
       "\t 2018   & 10     & 송파구 & 1      & 1      & 1     \\\\\n",
       "\t 2018   & 11     & 송파구 & 0      & 0      & 0     \\\\\n",
       "\t 2018   & 12     & 송파구 & 1      & 1      & 1     \\\\\n",
       "\t 2019   &  1     & 강동구 & 115    & 115    & 115   \\\\\n",
       "\t 2019   &  2     & 강동구 & 133    & 133    & 133   \\\\\n",
       "\t 2019   &  3     & 강동구 & 163    & 163    & 163   \\\\\n",
       "\t 2019   &  4     & 강동구 & 153    & 153    & 153   \\\\\n",
       "\t 2019   &  5     & 강동구 & 192    & 192    & 192   \\\\\n",
       "\t 2019   &  6     & 강동구 & 179    & 179    & 179   \\\\\n",
       "\t 2019   &  7     & 강동구 & 189    & 189    & 189   \\\\\n",
       "\t 2019   &  8     & 강동구 & 175    & 175    & 175   \\\\\n",
       "\t 2019   &  9     & 강동구 & 137    & 137    & 137   \\\\\n",
       "\t 2019   & 10     & 강동구 & 144    & 144    & 144   \\\\\n",
       "\t 2019   & 11     & 강동구 & 199    & 199    & 199   \\\\\n",
       "\t 2019   & 12     & 강동구 & 131    & 131    & 131   \\\\\n",
       "\\end{tabular}\n"
      ],
      "text/markdown": [
       "\n",
       "| 년도 | 월 | 자치구명 | 발생건수 | 사망자수 | 부상자수 |\n",
       "|---|---|---|---|---|---|\n",
       "| 2011   |  1     | 종로구 | 115    | 115    | 115    |\n",
       "| 2011   |  2     | 종로구 | 99     | 99     | 99     |\n",
       "| 2011   |  3     | 종로구 | 116    | 116    | 116    |\n",
       "| 2011   |  4     | 종로구 | 110    | 110    | 110    |\n",
       "| 2011   |  5     | 종로구 | 122    | 122    | 122    |\n",
       "| 2011   |  6     | 종로구 | 116    | 116    | 116    |\n",
       "| 2011   |  7     | 종로구 | 103    | 103    | 103    |\n",
       "| 2011   |  8     | 종로구 | 122    | 122    | 122    |\n",
       "| 2011   |  9     | 종로구 | 121    | 121    | 121    |\n",
       "| 2011   | 10     | 종로구 | 135    | 135    | 135    |\n",
       "| 2011   | 11     | 종로구 | 140    | 140    | 140    |\n",
       "| 2011   | 12     | 종로구 | 122    | 122    | 122    |\n",
       "| 2012   |  1     | 중구   | 2      | 2      | 2      |\n",
       "| 2012   |  2     | 중구   | 0      | 0      | 0      |\n",
       "| 2012   |  3     | 중구   | 0      | 0      | 0      |\n",
       "| 2012   |  4     | 중구   | 1      | 1      | 1      |\n",
       "| 2012   |  5     | 중구   | 0      | 0      | 0      |\n",
       "| 2012   |  6     | 중구   | 3      | 3      | 3      |\n",
       "| 2012   |  7     | 중구   | 1      | 1      | 1      |\n",
       "| 2012   |  8     | 중구   | 1      | 1      | 1      |\n",
       "| 2012   |  9     | 중구   | 2      | 2      | 2      |\n",
       "| 2012   | 10     | 중구   | 2      | 2      | 2      |\n",
       "| 2012   | 11     | 중구   | 1      | 1      | 1      |\n",
       "| 2012   | 12     | 중구   | 1      | 1      | 1      |\n",
       "| 2013   |  1     | 용산구 | 165    | 165    | 165    |\n",
       "| 2013   |  2     | 용산구 | 134    | 134    | 134    |\n",
       "| 2013   |  3     | 용산구 | 162    | 162    | 162    |\n",
       "| 2013   |  4     | 용산구 | 153    | 153    | 153    |\n",
       "| 2013   |  5     | 용산구 | 157    | 157    | 157    |\n",
       "| 2013   |  6     | 용산구 | 163    | 163    | 163    |\n",
       "| ... | ... | ... | ... | ... | ... |\n",
       "| 2017   |  7     | 강남구 | 146    | 146    | 146    |\n",
       "| 2017   |  8     | 강남구 | 127    | 127    | 127    |\n",
       "| 2017   |  9     | 강남구 | 98     | 98     | 98     |\n",
       "| 2017   | 10     | 강남구 | 108    | 108    | 108    |\n",
       "| 2017   | 11     | 강남구 | 146    | 146    | 146    |\n",
       "| 2017   | 12     | 강남구 | 108    | 108    | 108    |\n",
       "| 2018   |  1     | 송파구 | 1      | 1      | 1      |\n",
       "| 2018   |  2     | 송파구 | 0      | 0      | 0      |\n",
       "| 2018   |  3     | 송파구 | 0      | 0      | 0      |\n",
       "| 2018   |  4     | 송파구 | 0      | 0      | 0      |\n",
       "| 2018   |  5     | 송파구 | 1      | 1      | 1      |\n",
       "| 2018   |  6     | 송파구 | 1      | 1      | 1      |\n",
       "| 2018   |  7     | 송파구 | 2      | 2      | 2      |\n",
       "| 2018   |  8     | 송파구 | 2      | 2      | 2      |\n",
       "| 2018   |  9     | 송파구 | 2      | 2      | 2      |\n",
       "| 2018   | 10     | 송파구 | 1      | 1      | 1      |\n",
       "| 2018   | 11     | 송파구 | 0      | 0      | 0      |\n",
       "| 2018   | 12     | 송파구 | 1      | 1      | 1      |\n",
       "| 2019   |  1     | 강동구 | 115    | 115    | 115    |\n",
       "| 2019   |  2     | 강동구 | 133    | 133    | 133    |\n",
       "| 2019   |  3     | 강동구 | 163    | 163    | 163    |\n",
       "| 2019   |  4     | 강동구 | 153    | 153    | 153    |\n",
       "| 2019   |  5     | 강동구 | 192    | 192    | 192    |\n",
       "| 2019   |  6     | 강동구 | 179    | 179    | 179    |\n",
       "| 2019   |  7     | 강동구 | 189    | 189    | 189    |\n",
       "| 2019   |  8     | 강동구 | 175    | 175    | 175    |\n",
       "| 2019   |  9     | 강동구 | 137    | 137    | 137    |\n",
       "| 2019   | 10     | 강동구 | 144    | 144    | 144    |\n",
       "| 2019   | 11     | 강동구 | 199    | 199    | 199    |\n",
       "| 2019   | 12     | 강동구 | 131    | 131    | 131    |\n",
       "\n"
      ],
      "text/plain": [
       "     년도 월  자치구명 발생건수 사망자수 부상자수\n",
       "1    2011  1  종로구   115      115      115     \n",
       "2    2011  2  종로구   99       99       99      \n",
       "3    2011  3  종로구   116      116      116     \n",
       "4    2011  4  종로구   110      110      110     \n",
       "5    2011  5  종로구   122      122      122     \n",
       "6    2011  6  종로구   116      116      116     \n",
       "7    2011  7  종로구   103      103      103     \n",
       "8    2011  8  종로구   122      122      122     \n",
       "9    2011  9  종로구   121      121      121     \n",
       "10   2011 10  종로구   135      135      135     \n",
       "11   2011 11  종로구   140      140      140     \n",
       "12   2011 12  종로구   122      122      122     \n",
       "13   2012  1  중구     2        2        2       \n",
       "14   2012  2  중구     0        0        0       \n",
       "15   2012  3  중구     0        0        0       \n",
       "16   2012  4  중구     1        1        1       \n",
       "17   2012  5  중구     0        0        0       \n",
       "18   2012  6  중구     3        3        3       \n",
       "19   2012  7  중구     1        1        1       \n",
       "20   2012  8  중구     1        1        1       \n",
       "21   2012  9  중구     2        2        2       \n",
       "22   2012 10  중구     2        2        2       \n",
       "23   2012 11  중구     1        1        1       \n",
       "24   2012 12  중구     1        1        1       \n",
       "25   2013  1  용산구   165      165      165     \n",
       "26   2013  2  용산구   134      134      134     \n",
       "27   2013  3  용산구   162      162      162     \n",
       "28   2013  4  용산구   153      153      153     \n",
       "29   2013  5  용산구   157      157      157     \n",
       "30   2013  6  용산구   163      163      163     \n",
       "...  ...  ... ...      ...      ...      ...     \n",
       "8071 2017  7  강남구   146      146      146     \n",
       "8072 2017  8  강남구   127      127      127     \n",
       "8073 2017  9  강남구   98       98       98      \n",
       "8074 2017 10  강남구   108      108      108     \n",
       "8075 2017 11  강남구   146      146      146     \n",
       "8076 2017 12  강남구   108      108      108     \n",
       "8077 2018  1  송파구   1        1        1       \n",
       "8078 2018  2  송파구   0        0        0       \n",
       "8079 2018  3  송파구   0        0        0       \n",
       "8080 2018  4  송파구   0        0        0       \n",
       "8081 2018  5  송파구   1        1        1       \n",
       "8082 2018  6  송파구   1        1        1       \n",
       "8083 2018  7  송파구   2        2        2       \n",
       "8084 2018  8  송파구   2        2        2       \n",
       "8085 2018  9  송파구   2        2        2       \n",
       "8086 2018 10  송파구   1        1        1       \n",
       "8087 2018 11  송파구   0        0        0       \n",
       "8088 2018 12  송파구   1        1        1       \n",
       "8089 2019  1  강동구   115      115      115     \n",
       "8090 2019  2  강동구   133      133      133     \n",
       "8091 2019  3  강동구   163      163      163     \n",
       "8092 2019  4  강동구   153      153      153     \n",
       "8093 2019  5  강동구   192      192      192     \n",
       "8094 2019  6  강동구   179      179      179     \n",
       "8095 2019  7  강동구   189      189      189     \n",
       "8096 2019  8  강동구   175      175      175     \n",
       "8097 2019  9  강동구   137      137      137     \n",
       "8098 2019 10  강동구   144      144      144     \n",
       "8099 2019 11  강동구   199      199      199     \n",
       "8100 2019 12  강동구   131      131      131     "
      ]
     },
     "metadata": {},
     "output_type": "display_data"
    }
   ],
   "source": [
    "seoulAccident"
   ]
  },
  {
   "cell_type": "code",
   "execution_count": 22,
   "metadata": {
    "vscode": {
     "languageId": "r"
    }
   },
   "outputs": [
    {
     "name": "stdout",
     "output_type": "stream",
     "text": [
      "'data.frame':\t8100 obs. of  6 variables:\n",
      " $ 년도    : int  2011 2011 2011 2011 2011 2011 2011 2011 2011 2011 ...\n",
      " $ 월      : int  1 2 3 4 5 6 7 8 9 10 ...\n",
      " $ 자치구명: Factor w/ 25 levels \"강남구\",\"강동구\",..: 23 23 23 23 23 23 23 23 23 23 ...\n",
      " $ 발생건수: Factor w/ 405 levels \"-\",\"0\",\"1\",\"10\",..: 20 405 21 15 27 21 8 27 26 40 ...\n",
      " $ 사망자수: Factor w/ 405 levels \"-\",\"0\",\"1\",\"10\",..: 20 405 21 15 27 21 8 27 26 40 ...\n",
      " $ 부상자수: Factor w/ 405 levels \"-\",\"0\",\"1\",\"10\",..: 20 405 21 15 27 21 8 27 26 40 ...\n"
     ]
    }
   ],
   "source": [
    "str(seoulAccident)"
   ]
  },
  {
   "cell_type": "code",
   "execution_count": 23,
   "metadata": {
    "vscode": {
     "languageId": "r"
    }
   },
   "outputs": [],
   "source": [
    "seoulAccident$발생건수<- as.numeric(seoulAccident$발생건수)\n",
    "seoulAccident$사망자수<- as.numeric(seoulAccident$사망자수)\n",
    "seoulAccident$부상자수<- as.numeric(seoulAccident$부상자수)"
   ]
  },
  {
   "cell_type": "code",
   "execution_count": 24,
   "metadata": {
    "vscode": {
     "languageId": "r"
    }
   },
   "outputs": [
    {
     "name": "stdout",
     "output_type": "stream",
     "text": [
      "'data.frame':\t8100 obs. of  6 variables:\n",
      " $ 년도    : int  2011 2011 2011 2011 2011 2011 2011 2011 2011 2011 ...\n",
      " $ 월      : int  1 2 3 4 5 6 7 8 9 10 ...\n",
      " $ 자치구명: Factor w/ 25 levels \"강남구\",\"강동구\",..: 23 23 23 23 23 23 23 23 23 23 ...\n",
      " $ 발생건수: num  20 405 21 15 27 21 8 27 26 40 ...\n",
      " $ 사망자수: num  20 405 21 15 27 21 8 27 26 40 ...\n",
      " $ 부상자수: num  20 405 21 15 27 21 8 27 26 40 ...\n"
     ]
    }
   ],
   "source": [
    "str(seoulAccident)"
   ]
  },
  {
   "cell_type": "code",
   "execution_count": null,
   "metadata": {
    "vscode": {
     "languageId": "r"
    }
   },
   "outputs": [],
   "source": []
  }
 ],
 "metadata": {
  "kernelspec": {
   "display_name": "R",
   "language": "R",
   "name": "ir"
  },
  "language_info": {
   "codemirror_mode": "r",
   "file_extension": ".r",
   "mimetype": "text/x-r-source",
   "name": "R",
   "pygments_lexer": "r",
   "version": "3.6.1"
  },
  "orig_nbformat": 4
 },
 "nbformat": 4,
 "nbformat_minor": 2
}
