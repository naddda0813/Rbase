{
 "cells": [
  {
   "cell_type": "code",
   "execution_count": 1,
   "metadata": {
    "vscode": {
     "languageId": "r"
    }
   },
   "outputs": [
    {
     "data": {
      "text/html": [
       "<table>\n",
       "<thead><tr><th scope=col>PassengerId</th><th scope=col>Survived</th><th scope=col>Pclass</th><th scope=col>Name</th><th scope=col>Sex</th><th scope=col>Age</th><th scope=col>SibSp</th><th scope=col>Parch</th><th scope=col>Ticket</th><th scope=col>Fare</th><th scope=col>Cabin</th><th scope=col>Embarked</th></tr></thead>\n",
       "<tbody>\n",
       "\t<tr><td>1                                                  </td><td>0                                                  </td><td>3                                                  </td><td>Braund, Mr. Owen Harris                            </td><td>male                                               </td><td>22                                                 </td><td>1                                                  </td><td>0                                                  </td><td>A/5 21171                                          </td><td> 7.2500                                            </td><td>                                                   </td><td>S                                                  </td></tr>\n",
       "\t<tr><td>2                                                  </td><td>1                                                  </td><td>1                                                  </td><td>Cumings, Mrs. John Bradley (Florence Briggs Thayer)</td><td>female                                             </td><td>38                                                 </td><td>1                                                  </td><td>0                                                  </td><td>PC 17599                                           </td><td>71.2833                                            </td><td>C85                                                </td><td>C                                                  </td></tr>\n",
       "\t<tr><td>3                                                  </td><td>1                                                  </td><td>3                                                  </td><td>Heikkinen, Miss. Laina                             </td><td>female                                             </td><td>26                                                 </td><td>0                                                  </td><td>0                                                  </td><td>STON/O2. 3101282                                   </td><td> 7.9250                                            </td><td>                                                   </td><td>S                                                  </td></tr>\n",
       "\t<tr><td>4                                                  </td><td>1                                                  </td><td>1                                                  </td><td>Futrelle, Mrs. Jacques Heath (Lily May Peel)       </td><td>female                                             </td><td>35                                                 </td><td>1                                                  </td><td>0                                                  </td><td>113803                                             </td><td>53.1000                                            </td><td>C123                                               </td><td>S                                                  </td></tr>\n",
       "\t<tr><td>5                                                  </td><td>0                                                  </td><td>3                                                  </td><td>Allen, Mr. William Henry                           </td><td>male                                               </td><td>35                                                 </td><td>0                                                  </td><td>0                                                  </td><td>373450                                             </td><td> 8.0500                                            </td><td>                                                   </td><td>S                                                  </td></tr>\n",
       "\t<tr><td>6                                                  </td><td>0                                                  </td><td>3                                                  </td><td>Moran, Mr. James                                   </td><td>male                                               </td><td>NA                                                 </td><td>0                                                  </td><td>0                                                  </td><td>330877                                             </td><td> 8.4583                                            </td><td>                                                   </td><td>Q                                                  </td></tr>\n",
       "</tbody>\n",
       "</table>\n"
      ],
      "text/latex": [
       "\\begin{tabular}{r|llllllllllll}\n",
       " PassengerId & Survived & Pclass & Name & Sex & Age & SibSp & Parch & Ticket & Fare & Cabin & Embarked\\\\\n",
       "\\hline\n",
       "\t 1                                                   & 0                                                   & 3                                                   & Braund, Mr. Owen Harris                             & male                                                & 22                                                  & 1                                                   & 0                                                   & A/5 21171                                           &  7.2500                                             &                                                     & S                                                  \\\\\n",
       "\t 2                                                   & 1                                                   & 1                                                   & Cumings, Mrs. John Bradley (Florence Briggs Thayer) & female                                              & 38                                                  & 1                                                   & 0                                                   & PC 17599                                            & 71.2833                                             & C85                                                 & C                                                  \\\\\n",
       "\t 3                                                   & 1                                                   & 3                                                   & Heikkinen, Miss. Laina                              & female                                              & 26                                                  & 0                                                   & 0                                                   & STON/O2. 3101282                                    &  7.9250                                             &                                                     & S                                                  \\\\\n",
       "\t 4                                                   & 1                                                   & 1                                                   & Futrelle, Mrs. Jacques Heath (Lily May Peel)        & female                                              & 35                                                  & 1                                                   & 0                                                   & 113803                                              & 53.1000                                             & C123                                                & S                                                  \\\\\n",
       "\t 5                                                   & 0                                                   & 3                                                   & Allen, Mr. William Henry                            & male                                                & 35                                                  & 0                                                   & 0                                                   & 373450                                              &  8.0500                                             &                                                     & S                                                  \\\\\n",
       "\t 6                                                   & 0                                                   & 3                                                   & Moran, Mr. James                                    & male                                                & NA                                                  & 0                                                   & 0                                                   & 330877                                              &  8.4583                                             &                                                     & Q                                                  \\\\\n",
       "\\end{tabular}\n"
      ],
      "text/markdown": [
       "\n",
       "| PassengerId | Survived | Pclass | Name | Sex | Age | SibSp | Parch | Ticket | Fare | Cabin | Embarked |\n",
       "|---|---|---|---|---|---|---|---|---|---|---|---|\n",
       "| 1                                                   | 0                                                   | 3                                                   | Braund, Mr. Owen Harris                             | male                                                | 22                                                  | 1                                                   | 0                                                   | A/5 21171                                           |  7.2500                                             |                                                     | S                                                   |\n",
       "| 2                                                   | 1                                                   | 1                                                   | Cumings, Mrs. John Bradley (Florence Briggs Thayer) | female                                              | 38                                                  | 1                                                   | 0                                                   | PC 17599                                            | 71.2833                                             | C85                                                 | C                                                   |\n",
       "| 3                                                   | 1                                                   | 3                                                   | Heikkinen, Miss. Laina                              | female                                              | 26                                                  | 0                                                   | 0                                                   | STON/O2. 3101282                                    |  7.9250                                             |                                                     | S                                                   |\n",
       "| 4                                                   | 1                                                   | 1                                                   | Futrelle, Mrs. Jacques Heath (Lily May Peel)        | female                                              | 35                                                  | 1                                                   | 0                                                   | 113803                                              | 53.1000                                             | C123                                                | S                                                   |\n",
       "| 5                                                   | 0                                                   | 3                                                   | Allen, Mr. William Henry                            | male                                                | 35                                                  | 0                                                   | 0                                                   | 373450                                              |  8.0500                                             |                                                     | S                                                   |\n",
       "| 6                                                   | 0                                                   | 3                                                   | Moran, Mr. James                                    | male                                                | NA                                                  | 0                                                   | 0                                                   | 330877                                              |  8.4583                                             |                                                     | Q                                                   |\n",
       "\n"
      ],
      "text/plain": [
       "  PassengerId Survived Pclass\n",
       "1 1           0        3     \n",
       "2 2           1        1     \n",
       "3 3           1        3     \n",
       "4 4           1        1     \n",
       "5 5           0        3     \n",
       "6 6           0        3     \n",
       "  Name                                                Sex    Age SibSp Parch\n",
       "1 Braund, Mr. Owen Harris                             male   22  1     0    \n",
       "2 Cumings, Mrs. John Bradley (Florence Briggs Thayer) female 38  1     0    \n",
       "3 Heikkinen, Miss. Laina                              female 26  0     0    \n",
       "4 Futrelle, Mrs. Jacques Heath (Lily May Peel)        female 35  1     0    \n",
       "5 Allen, Mr. William Henry                            male   35  0     0    \n",
       "6 Moran, Mr. James                                    male   NA  0     0    \n",
       "  Ticket           Fare    Cabin Embarked\n",
       "1 A/5 21171         7.2500       S       \n",
       "2 PC 17599         71.2833 C85   C       \n",
       "3 STON/O2. 3101282  7.9250       S       \n",
       "4 113803           53.1000 C123  S       \n",
       "5 373450            8.0500       S       \n",
       "6 330877            8.4583       Q       "
      ]
     },
     "metadata": {},
     "output_type": "display_data"
    }
   ],
   "source": [
    "train_df <-read.csv(\"../Data/Titanic_train.csv\")\n",
    "head(train_df)"
   ]
  },
  {
   "cell_type": "markdown",
   "metadata": {},
   "source": [
    "---\n",
    "# 조별과제 "
   ]
  },
  {
   "cell_type": "markdown",
   "metadata": {},
   "source": [
    "### age 칼럼 "
   ]
  },
  {
   "cell_type": "code",
   "execution_count": 2,
   "metadata": {
    "vscode": {
     "languageId": "r"
    }
   },
   "outputs": [
    {
     "data": {
      "text/html": [
       "<table>\n",
       "<thead><tr><th scope=col>PassengerId</th><th scope=col>Survived</th><th scope=col>Pclass</th><th scope=col>Name</th><th scope=col>Sex</th><th scope=col>Age</th><th scope=col>SibSp</th><th scope=col>Parch</th><th scope=col>Ticket</th><th scope=col>Fare</th><th scope=col>Cabin</th><th scope=col>Embarked</th></tr></thead>\n",
       "<tbody>\n",
       "\t<tr><td>1                                                  </td><td>0                                                  </td><td>3                                                  </td><td>Braund, Mr. Owen Harris                            </td><td>male                                               </td><td>22                                                 </td><td>1                                                  </td><td>0                                                  </td><td>A/5 21171                                          </td><td> 7.2500                                            </td><td>                                                   </td><td>S                                                  </td></tr>\n",
       "\t<tr><td>2                                                  </td><td>1                                                  </td><td>1                                                  </td><td>Cumings, Mrs. John Bradley (Florence Briggs Thayer)</td><td>female                                             </td><td>38                                                 </td><td>1                                                  </td><td>0                                                  </td><td>PC 17599                                           </td><td>71.2833                                            </td><td>C85                                                </td><td>C                                                  </td></tr>\n",
       "\t<tr><td>3                                                  </td><td>1                                                  </td><td>3                                                  </td><td>Heikkinen, Miss. Laina                             </td><td>female                                             </td><td>26                                                 </td><td>0                                                  </td><td>0                                                  </td><td>STON/O2. 3101282                                   </td><td> 7.9250                                            </td><td>                                                   </td><td>S                                                  </td></tr>\n",
       "\t<tr><td>4                                                  </td><td>1                                                  </td><td>1                                                  </td><td>Futrelle, Mrs. Jacques Heath (Lily May Peel)       </td><td>female                                             </td><td>35                                                 </td><td>1                                                  </td><td>0                                                  </td><td>113803                                             </td><td>53.1000                                            </td><td>C123                                               </td><td>S                                                  </td></tr>\n",
       "\t<tr><td>5                                                  </td><td>0                                                  </td><td>3                                                  </td><td>Allen, Mr. William Henry                           </td><td>male                                               </td><td>35                                                 </td><td>0                                                  </td><td>0                                                  </td><td>373450                                             </td><td> 8.0500                                            </td><td>                                                   </td><td>S                                                  </td></tr>\n",
       "\t<tr><td>6                                                  </td><td>0                                                  </td><td>3                                                  </td><td>Moran, Mr. James                                   </td><td>male                                               </td><td>NA                                                 </td><td>0                                                  </td><td>0                                                  </td><td>330877                                             </td><td> 8.4583                                            </td><td>                                                   </td><td>Q                                                  </td></tr>\n",
       "</tbody>\n",
       "</table>\n"
      ],
      "text/latex": [
       "\\begin{tabular}{r|llllllllllll}\n",
       " PassengerId & Survived & Pclass & Name & Sex & Age & SibSp & Parch & Ticket & Fare & Cabin & Embarked\\\\\n",
       "\\hline\n",
       "\t 1                                                   & 0                                                   & 3                                                   & Braund, Mr. Owen Harris                             & male                                                & 22                                                  & 1                                                   & 0                                                   & A/5 21171                                           &  7.2500                                             &                                                     & S                                                  \\\\\n",
       "\t 2                                                   & 1                                                   & 1                                                   & Cumings, Mrs. John Bradley (Florence Briggs Thayer) & female                                              & 38                                                  & 1                                                   & 0                                                   & PC 17599                                            & 71.2833                                             & C85                                                 & C                                                  \\\\\n",
       "\t 3                                                   & 1                                                   & 3                                                   & Heikkinen, Miss. Laina                              & female                                              & 26                                                  & 0                                                   & 0                                                   & STON/O2. 3101282                                    &  7.9250                                             &                                                     & S                                                  \\\\\n",
       "\t 4                                                   & 1                                                   & 1                                                   & Futrelle, Mrs. Jacques Heath (Lily May Peel)        & female                                              & 35                                                  & 1                                                   & 0                                                   & 113803                                              & 53.1000                                             & C123                                                & S                                                  \\\\\n",
       "\t 5                                                   & 0                                                   & 3                                                   & Allen, Mr. William Henry                            & male                                                & 35                                                  & 0                                                   & 0                                                   & 373450                                              &  8.0500                                             &                                                     & S                                                  \\\\\n",
       "\t 6                                                   & 0                                                   & 3                                                   & Moran, Mr. James                                    & male                                                & NA                                                  & 0                                                   & 0                                                   & 330877                                              &  8.4583                                             &                                                     & Q                                                  \\\\\n",
       "\\end{tabular}\n"
      ],
      "text/markdown": [
       "\n",
       "| PassengerId | Survived | Pclass | Name | Sex | Age | SibSp | Parch | Ticket | Fare | Cabin | Embarked |\n",
       "|---|---|---|---|---|---|---|---|---|---|---|---|\n",
       "| 1                                                   | 0                                                   | 3                                                   | Braund, Mr. Owen Harris                             | male                                                | 22                                                  | 1                                                   | 0                                                   | A/5 21171                                           |  7.2500                                             |                                                     | S                                                   |\n",
       "| 2                                                   | 1                                                   | 1                                                   | Cumings, Mrs. John Bradley (Florence Briggs Thayer) | female                                              | 38                                                  | 1                                                   | 0                                                   | PC 17599                                            | 71.2833                                             | C85                                                 | C                                                   |\n",
       "| 3                                                   | 1                                                   | 3                                                   | Heikkinen, Miss. Laina                              | female                                              | 26                                                  | 0                                                   | 0                                                   | STON/O2. 3101282                                    |  7.9250                                             |                                                     | S                                                   |\n",
       "| 4                                                   | 1                                                   | 1                                                   | Futrelle, Mrs. Jacques Heath (Lily May Peel)        | female                                              | 35                                                  | 1                                                   | 0                                                   | 113803                                              | 53.1000                                             | C123                                                | S                                                   |\n",
       "| 5                                                   | 0                                                   | 3                                                   | Allen, Mr. William Henry                            | male                                                | 35                                                  | 0                                                   | 0                                                   | 373450                                              |  8.0500                                             |                                                     | S                                                   |\n",
       "| 6                                                   | 0                                                   | 3                                                   | Moran, Mr. James                                    | male                                                | NA                                                  | 0                                                   | 0                                                   | 330877                                              |  8.4583                                             |                                                     | Q                                                   |\n",
       "\n"
      ],
      "text/plain": [
       "  PassengerId Survived Pclass\n",
       "1 1           0        3     \n",
       "2 2           1        1     \n",
       "3 3           1        3     \n",
       "4 4           1        1     \n",
       "5 5           0        3     \n",
       "6 6           0        3     \n",
       "  Name                                                Sex    Age SibSp Parch\n",
       "1 Braund, Mr. Owen Harris                             male   22  1     0    \n",
       "2 Cumings, Mrs. John Bradley (Florence Briggs Thayer) female 38  1     0    \n",
       "3 Heikkinen, Miss. Laina                              female 26  0     0    \n",
       "4 Futrelle, Mrs. Jacques Heath (Lily May Peel)        female 35  1     0    \n",
       "5 Allen, Mr. William Henry                            male   35  0     0    \n",
       "6 Moran, Mr. James                                    male   NA  0     0    \n",
       "  Ticket           Fare    Cabin Embarked\n",
       "1 A/5 21171         7.2500       S       \n",
       "2 PC 17599         71.2833 C85   C       \n",
       "3 STON/O2. 3101282  7.9250       S       \n",
       "4 113803           53.1000 C123  S       \n",
       "5 373450            8.0500       S       \n",
       "6 330877            8.4583       Q       "
      ]
     },
     "metadata": {},
     "output_type": "display_data"
    }
   ],
   "source": [
    "head(train_df)"
   ]
  },
  {
   "cell_type": "code",
   "execution_count": 3,
   "metadata": {
    "vscode": {
     "languageId": "r"
    }
   },
   "outputs": [
    {
     "data": {
      "text/html": [
       "<table>\n",
       "<thead><tr><th></th><th scope=col>PassengerId</th><th scope=col>Survived</th><th scope=col>Pclass</th><th scope=col>Name</th><th scope=col>Sex</th><th scope=col>Age</th><th scope=col>SibSp</th><th scope=col>Parch</th><th scope=col>Ticket</th><th scope=col>Fare</th><th scope=col>Cabin</th><th scope=col>Embarked</th></tr></thead>\n",
       "<tbody>\n",
       "\t<tr><th scope=row>1</th><td>1                                                  </td><td>0                                                  </td><td>3                                                  </td><td>Braund, Mr. Owen Harris                            </td><td>male                                               </td><td>22                                                 </td><td>1                                                  </td><td>0                                                  </td><td>A/5 21171                                          </td><td> 7.2500                                            </td><td>                                                   </td><td>S                                                  </td></tr>\n",
       "\t<tr><th scope=row>2</th><td>2                                                  </td><td>1                                                  </td><td>1                                                  </td><td>Cumings, Mrs. John Bradley (Florence Briggs Thayer)</td><td>female                                             </td><td>38                                                 </td><td>1                                                  </td><td>0                                                  </td><td>PC 17599                                           </td><td>71.2833                                            </td><td>C85                                                </td><td>C                                                  </td></tr>\n",
       "\t<tr><th scope=row>3</th><td>3                                                  </td><td>1                                                  </td><td>3                                                  </td><td>Heikkinen, Miss. Laina                             </td><td>female                                             </td><td>26                                                 </td><td>0                                                  </td><td>0                                                  </td><td>STON/O2. 3101282                                   </td><td> 7.9250                                            </td><td>                                                   </td><td>S                                                  </td></tr>\n",
       "\t<tr><th scope=row>4</th><td>4                                                  </td><td>1                                                  </td><td>1                                                  </td><td>Futrelle, Mrs. Jacques Heath (Lily May Peel)       </td><td>female                                             </td><td>35                                                 </td><td>1                                                  </td><td>0                                                  </td><td>113803                                             </td><td>53.1000                                            </td><td>C123                                               </td><td>S                                                  </td></tr>\n",
       "\t<tr><th scope=row>5</th><td>5                                                  </td><td>0                                                  </td><td>3                                                  </td><td>Allen, Mr. William Henry                           </td><td>male                                               </td><td>35                                                 </td><td>0                                                  </td><td>0                                                  </td><td>373450                                             </td><td> 8.0500                                            </td><td>                                                   </td><td>S                                                  </td></tr>\n",
       "\t<tr><th scope=row>7</th><td>7                                                  </td><td>0                                                  </td><td>1                                                  </td><td>McCarthy, Mr. Timothy J                            </td><td>male                                               </td><td>54                                                 </td><td>0                                                  </td><td>0                                                  </td><td>17463                                              </td><td>51.8625                                            </td><td>E46                                                </td><td>S                                                  </td></tr>\n",
       "</tbody>\n",
       "</table>\n"
      ],
      "text/latex": [
       "\\begin{tabular}{r|llllllllllll}\n",
       "  & PassengerId & Survived & Pclass & Name & Sex & Age & SibSp & Parch & Ticket & Fare & Cabin & Embarked\\\\\n",
       "\\hline\n",
       "\t1 & 1                                                   & 0                                                   & 3                                                   & Braund, Mr. Owen Harris                             & male                                                & 22                                                  & 1                                                   & 0                                                   & A/5 21171                                           &  7.2500                                             &                                                     & S                                                  \\\\\n",
       "\t2 & 2                                                   & 1                                                   & 1                                                   & Cumings, Mrs. John Bradley (Florence Briggs Thayer) & female                                              & 38                                                  & 1                                                   & 0                                                   & PC 17599                                            & 71.2833                                             & C85                                                 & C                                                  \\\\\n",
       "\t3 & 3                                                   & 1                                                   & 3                                                   & Heikkinen, Miss. Laina                              & female                                              & 26                                                  & 0                                                   & 0                                                   & STON/O2. 3101282                                    &  7.9250                                             &                                                     & S                                                  \\\\\n",
       "\t4 & 4                                                   & 1                                                   & 1                                                   & Futrelle, Mrs. Jacques Heath (Lily May Peel)        & female                                              & 35                                                  & 1                                                   & 0                                                   & 113803                                              & 53.1000                                             & C123                                                & S                                                  \\\\\n",
       "\t5 & 5                                                   & 0                                                   & 3                                                   & Allen, Mr. William Henry                            & male                                                & 35                                                  & 0                                                   & 0                                                   & 373450                                              &  8.0500                                             &                                                     & S                                                  \\\\\n",
       "\t7 & 7                                                   & 0                                                   & 1                                                   & McCarthy, Mr. Timothy J                             & male                                                & 54                                                  & 0                                                   & 0                                                   & 17463                                               & 51.8625                                             & E46                                                 & S                                                  \\\\\n",
       "\\end{tabular}\n"
      ],
      "text/markdown": [
       "\n",
       "| <!--/--> | PassengerId | Survived | Pclass | Name | Sex | Age | SibSp | Parch | Ticket | Fare | Cabin | Embarked |\n",
       "|---|---|---|---|---|---|---|---|---|---|---|---|---|\n",
       "| 1 | 1                                                   | 0                                                   | 3                                                   | Braund, Mr. Owen Harris                             | male                                                | 22                                                  | 1                                                   | 0                                                   | A/5 21171                                           |  7.2500                                             |                                                     | S                                                   |\n",
       "| 2 | 2                                                   | 1                                                   | 1                                                   | Cumings, Mrs. John Bradley (Florence Briggs Thayer) | female                                              | 38                                                  | 1                                                   | 0                                                   | PC 17599                                            | 71.2833                                             | C85                                                 | C                                                   |\n",
       "| 3 | 3                                                   | 1                                                   | 3                                                   | Heikkinen, Miss. Laina                              | female                                              | 26                                                  | 0                                                   | 0                                                   | STON/O2. 3101282                                    |  7.9250                                             |                                                     | S                                                   |\n",
       "| 4 | 4                                                   | 1                                                   | 1                                                   | Futrelle, Mrs. Jacques Heath (Lily May Peel)        | female                                              | 35                                                  | 1                                                   | 0                                                   | 113803                                              | 53.1000                                             | C123                                                | S                                                   |\n",
       "| 5 | 5                                                   | 0                                                   | 3                                                   | Allen, Mr. William Henry                            | male                                                | 35                                                  | 0                                                   | 0                                                   | 373450                                              |  8.0500                                             |                                                     | S                                                   |\n",
       "| 7 | 7                                                   | 0                                                   | 1                                                   | McCarthy, Mr. Timothy J                             | male                                                | 54                                                  | 0                                                   | 0                                                   | 17463                                               | 51.8625                                             | E46                                                 | S                                                   |\n",
       "\n"
      ],
      "text/plain": [
       "  PassengerId Survived Pclass\n",
       "1 1           0        3     \n",
       "2 2           1        1     \n",
       "3 3           1        3     \n",
       "4 4           1        1     \n",
       "5 5           0        3     \n",
       "7 7           0        1     \n",
       "  Name                                                Sex    Age SibSp Parch\n",
       "1 Braund, Mr. Owen Harris                             male   22  1     0    \n",
       "2 Cumings, Mrs. John Bradley (Florence Briggs Thayer) female 38  1     0    \n",
       "3 Heikkinen, Miss. Laina                              female 26  0     0    \n",
       "4 Futrelle, Mrs. Jacques Heath (Lily May Peel)        female 35  1     0    \n",
       "5 Allen, Mr. William Henry                            male   35  0     0    \n",
       "7 McCarthy, Mr. Timothy J                             male   54  0     0    \n",
       "  Ticket           Fare    Cabin Embarked\n",
       "1 A/5 21171         7.2500       S       \n",
       "2 PC 17599         71.2833 C85   C       \n",
       "3 STON/O2. 3101282  7.9250       S       \n",
       "4 113803           53.1000 C123  S       \n",
       "5 373450            8.0500       S       \n",
       "7 17463            51.8625 E46   S       "
      ]
     },
     "metadata": {},
     "output_type": "display_data"
    }
   ],
   "source": [
    "# NA 있는 샘플 제거하고 데이터셋 새로 만들기 \n",
    "\n",
    "train_age <- subset(train_df, !is.na(Age))\n",
    "head(train_age)"
   ]
  },
  {
   "cell_type": "code",
   "execution_count": 4,
   "metadata": {
    "vscode": {
     "languageId": "r"
    }
   },
   "outputs": [
    {
     "data": {
      "text/html": [
       "891"
      ],
      "text/latex": [
       "891"
      ],
      "text/markdown": [
       "891"
      ],
      "text/plain": [
       "[1] 891"
      ]
     },
     "metadata": {},
     "output_type": "display_data"
    },
    {
     "data": {
      "text/html": [
       "177"
      ],
      "text/latex": [
       "177"
      ],
      "text/markdown": [
       "177"
      ],
      "text/plain": [
       "[1] 177"
      ]
     },
     "metadata": {},
     "output_type": "display_data"
    },
    {
     "data": {
      "text/html": [
       "0"
      ],
      "text/latex": [
       "0"
      ],
      "text/markdown": [
       "0"
      ],
      "text/plain": [
       "[1] 0"
      ]
     },
     "metadata": {},
     "output_type": "display_data"
    }
   ],
   "source": [
    "# 확인 \n",
    "nrow(train_df)\n",
    "sum((is.na(train_df$Age)))\n",
    "sum((is.na(train_age$Age)))"
   ]
  },
  {
   "cell_type": "code",
   "execution_count": 5,
   "metadata": {
    "vscode": {
     "languageId": "r"
    }
   },
   "outputs": [
    {
     "name": "stdout",
     "output_type": "stream",
     "text": [
      "'data.frame':\t714 obs. of  12 variables:\n",
      " $ PassengerId: int  1 2 3 4 5 7 8 9 10 11 ...\n",
      " $ Survived   : int  0 1 1 1 0 0 0 1 1 1 ...\n",
      " $ Pclass     : int  3 1 3 1 3 1 3 3 2 3 ...\n",
      " $ Name       : Factor w/ 891 levels \"Abbing, Mr. Anthony\",..: 109 191 354 273 16 516 625 413 577 728 ...\n",
      " $ Sex        : Factor w/ 2 levels \"female\",\"male\": 2 1 1 1 2 2 2 1 1 1 ...\n",
      " $ Age        : num  22 38 26 35 35 54 2 27 14 4 ...\n",
      " $ SibSp      : int  1 1 0 1 0 0 3 0 1 1 ...\n",
      " $ Parch      : int  0 0 0 0 0 0 1 2 0 1 ...\n",
      " $ Ticket     : Factor w/ 681 levels \"110152\",\"110413\",..: 524 597 670 50 473 86 396 345 133 617 ...\n",
      " $ Fare       : num  7.25 71.28 7.92 53.1 8.05 ...\n",
      " $ Cabin      : Factor w/ 148 levels \"\",\"A10\",\"A14\",..: 1 83 1 57 1 131 1 1 1 147 ...\n",
      " $ Embarked   : Factor w/ 4 levels \"\",\"C\",\"Q\",\"S\": 4 2 4 4 4 4 4 4 2 4 ...\n"
     ]
    },
    {
     "data": {
      "text/html": [
       "<table>\n",
       "<thead><tr><th></th><th scope=col>PassengerId</th><th scope=col>Survived</th><th scope=col>Pclass</th><th scope=col>Name</th><th scope=col>Sex</th><th scope=col>Age</th><th scope=col>SibSp</th><th scope=col>Parch</th><th scope=col>Ticket</th><th scope=col>Fare</th><th scope=col>Cabin</th><th scope=col>Embarked</th></tr></thead>\n",
       "<tbody>\n",
       "\t<tr><th scope=row>885</th><td>885                                 </td><td>0                                   </td><td>3                                   </td><td>Sutehall, Mr. Henry Jr              </td><td>male                                </td><td>25                                  </td><td>0                                   </td><td>0                                   </td><td>SOTON/OQ 392076                     </td><td> 7.050                              </td><td>                                    </td><td>S                                   </td></tr>\n",
       "\t<tr><th scope=row>886</th><td>886                                 </td><td>0                                   </td><td>3                                   </td><td>Rice, Mrs. William (Margaret Norton)</td><td>female                              </td><td>39                                  </td><td>0                                   </td><td>5                                   </td><td>382652                              </td><td>29.125                              </td><td>                                    </td><td>Q                                   </td></tr>\n",
       "\t<tr><th scope=row>887</th><td>887                                 </td><td>0                                   </td><td>2                                   </td><td>Montvila, Rev. Juozas               </td><td>male                                </td><td>27                                  </td><td>0                                   </td><td>0                                   </td><td>211536                              </td><td>13.000                              </td><td>                                    </td><td>S                                   </td></tr>\n",
       "\t<tr><th scope=row>888</th><td>888                                 </td><td>1                                   </td><td>1                                   </td><td>Graham, Miss. Margaret Edith        </td><td>female                              </td><td>19                                  </td><td>0                                   </td><td>0                                   </td><td>112053                              </td><td>30.000                              </td><td>B42                                 </td><td>S                                   </td></tr>\n",
       "\t<tr><th scope=row>890</th><td>890                                 </td><td>1                                   </td><td>1                                   </td><td>Behr, Mr. Karl Howell               </td><td>male                                </td><td>26                                  </td><td>0                                   </td><td>0                                   </td><td>111369                              </td><td>30.000                              </td><td>C148                                </td><td>C                                   </td></tr>\n",
       "\t<tr><th scope=row>891</th><td>891                                 </td><td>0                                   </td><td>3                                   </td><td>Dooley, Mr. Patrick                 </td><td>male                                </td><td>32                                  </td><td>0                                   </td><td>0                                   </td><td>370376                              </td><td> 7.750                              </td><td>                                    </td><td>Q                                   </td></tr>\n",
       "</tbody>\n",
       "</table>\n"
      ],
      "text/latex": [
       "\\begin{tabular}{r|llllllllllll}\n",
       "  & PassengerId & Survived & Pclass & Name & Sex & Age & SibSp & Parch & Ticket & Fare & Cabin & Embarked\\\\\n",
       "\\hline\n",
       "\t885 & 885                                  & 0                                    & 3                                    & Sutehall, Mr. Henry Jr               & male                                 & 25                                   & 0                                    & 0                                    & SOTON/OQ 392076                      &  7.050                               &                                      & S                                   \\\\\n",
       "\t886 & 886                                  & 0                                    & 3                                    & Rice, Mrs. William (Margaret Norton) & female                               & 39                                   & 0                                    & 5                                    & 382652                               & 29.125                               &                                      & Q                                   \\\\\n",
       "\t887 & 887                                  & 0                                    & 2                                    & Montvila, Rev. Juozas                & male                                 & 27                                   & 0                                    & 0                                    & 211536                               & 13.000                               &                                      & S                                   \\\\\n",
       "\t888 & 888                                  & 1                                    & 1                                    & Graham, Miss. Margaret Edith         & female                               & 19                                   & 0                                    & 0                                    & 112053                               & 30.000                               & B42                                  & S                                   \\\\\n",
       "\t890 & 890                                  & 1                                    & 1                                    & Behr, Mr. Karl Howell                & male                                 & 26                                   & 0                                    & 0                                    & 111369                               & 30.000                               & C148                                 & C                                   \\\\\n",
       "\t891 & 891                                  & 0                                    & 3                                    & Dooley, Mr. Patrick                  & male                                 & 32                                   & 0                                    & 0                                    & 370376                               &  7.750                               &                                      & Q                                   \\\\\n",
       "\\end{tabular}\n"
      ],
      "text/markdown": [
       "\n",
       "| <!--/--> | PassengerId | Survived | Pclass | Name | Sex | Age | SibSp | Parch | Ticket | Fare | Cabin | Embarked |\n",
       "|---|---|---|---|---|---|---|---|---|---|---|---|---|\n",
       "| 885 | 885                                  | 0                                    | 3                                    | Sutehall, Mr. Henry Jr               | male                                 | 25                                   | 0                                    | 0                                    | SOTON/OQ 392076                      |  7.050                               |                                      | S                                    |\n",
       "| 886 | 886                                  | 0                                    | 3                                    | Rice, Mrs. William (Margaret Norton) | female                               | 39                                   | 0                                    | 5                                    | 382652                               | 29.125                               |                                      | Q                                    |\n",
       "| 887 | 887                                  | 0                                    | 2                                    | Montvila, Rev. Juozas                | male                                 | 27                                   | 0                                    | 0                                    | 211536                               | 13.000                               |                                      | S                                    |\n",
       "| 888 | 888                                  | 1                                    | 1                                    | Graham, Miss. Margaret Edith         | female                               | 19                                   | 0                                    | 0                                    | 112053                               | 30.000                               | B42                                  | S                                    |\n",
       "| 890 | 890                                  | 1                                    | 1                                    | Behr, Mr. Karl Howell                | male                                 | 26                                   | 0                                    | 0                                    | 111369                               | 30.000                               | C148                                 | C                                    |\n",
       "| 891 | 891                                  | 0                                    | 3                                    | Dooley, Mr. Patrick                  | male                                 | 32                                   | 0                                    | 0                                    | 370376                               |  7.750                               |                                      | Q                                    |\n",
       "\n"
      ],
      "text/plain": [
       "    PassengerId Survived Pclass Name                                 Sex    Age\n",
       "885 885         0        3      Sutehall, Mr. Henry Jr               male   25 \n",
       "886 886         0        3      Rice, Mrs. William (Margaret Norton) female 39 \n",
       "887 887         0        2      Montvila, Rev. Juozas                male   27 \n",
       "888 888         1        1      Graham, Miss. Margaret Edith         female 19 \n",
       "890 890         1        1      Behr, Mr. Karl Howell                male   26 \n",
       "891 891         0        3      Dooley, Mr. Patrick                  male   32 \n",
       "    SibSp Parch Ticket          Fare   Cabin Embarked\n",
       "885 0     0     SOTON/OQ 392076  7.050       S       \n",
       "886 0     5     382652          29.125       Q       \n",
       "887 0     0     211536          13.000       S       \n",
       "888 0     0     112053          30.000 B42   S       \n",
       "890 0     0     111369          30.000 C148  C       \n",
       "891 0     0     370376           7.750       Q       "
      ]
     },
     "metadata": {},
     "output_type": "display_data"
    }
   ],
   "source": [
    "# 데이터 177개 감소하여 714개 \n",
    "str(train_age)\n",
    "tail(train_age)"
   ]
  },
  {
   "cell_type": "code",
   "execution_count": 6,
   "metadata": {
    "vscode": {
     "languageId": "r"
    }
   },
   "outputs": [
    {
     "name": "stdout",
     "output_type": "stream",
     "text": [
      "'data.frame':\t714 obs. of  12 variables:\n",
      " $ PassengerId: int  1 2 3 4 5 7 8 9 10 11 ...\n",
      " $ Survived   : int  0 1 1 1 0 0 0 1 1 1 ...\n",
      " $ Pclass     : int  3 1 3 1 3 1 3 3 2 3 ...\n",
      " $ Name       : Factor w/ 891 levels \"Abbing, Mr. Anthony\",..: 109 191 354 273 16 516 625 413 577 728 ...\n",
      " $ Sex        : Factor w/ 2 levels \"female\",\"male\": 2 1 1 1 2 2 2 1 1 1 ...\n",
      " $ Age        : num  22 38 26 35 35 54 2 27 14 4 ...\n",
      " $ SibSp      : int  1 1 0 1 0 0 3 0 1 1 ...\n",
      " $ Parch      : int  0 0 0 0 0 0 1 2 0 1 ...\n",
      " $ Ticket     : Factor w/ 681 levels \"110152\",\"110413\",..: 524 597 670 50 473 86 396 345 133 617 ...\n",
      " $ Fare       : num  7.25 71.28 7.92 53.1 8.05 ...\n",
      " $ Cabin      : Factor w/ 148 levels \"\",\"A10\",\"A14\",..: 1 83 1 57 1 131 1 1 1 147 ...\n",
      " $ Embarked   : Factor w/ 4 levels \"\",\"C\",\"Q\",\"S\": 4 2 4 4 4 4 4 4 2 4 ...\n"
     ]
    },
    {
     "data": {
      "text/html": [
       "<table>\n",
       "<thead><tr><th></th><th scope=col>PassengerId</th><th scope=col>Survived</th><th scope=col>Pclass</th><th scope=col>Name</th><th scope=col>Sex</th><th scope=col>Age</th><th scope=col>SibSp</th><th scope=col>Parch</th><th scope=col>Ticket</th><th scope=col>Fare</th><th scope=col>Cabin</th><th scope=col>Embarked</th></tr></thead>\n",
       "<tbody>\n",
       "\t<tr><th scope=row>709</th><td>885                                 </td><td>0                                   </td><td>3                                   </td><td>Sutehall, Mr. Henry Jr              </td><td>male                                </td><td>25                                  </td><td>0                                   </td><td>0                                   </td><td>SOTON/OQ 392076                     </td><td> 7.050                              </td><td>                                    </td><td>S                                   </td></tr>\n",
       "\t<tr><th scope=row>710</th><td>886                                 </td><td>0                                   </td><td>3                                   </td><td>Rice, Mrs. William (Margaret Norton)</td><td>female                              </td><td>39                                  </td><td>0                                   </td><td>5                                   </td><td>382652                              </td><td>29.125                              </td><td>                                    </td><td>Q                                   </td></tr>\n",
       "\t<tr><th scope=row>711</th><td>887                                 </td><td>0                                   </td><td>2                                   </td><td>Montvila, Rev. Juozas               </td><td>male                                </td><td>27                                  </td><td>0                                   </td><td>0                                   </td><td>211536                              </td><td>13.000                              </td><td>                                    </td><td>S                                   </td></tr>\n",
       "\t<tr><th scope=row>712</th><td>888                                 </td><td>1                                   </td><td>1                                   </td><td>Graham, Miss. Margaret Edith        </td><td>female                              </td><td>19                                  </td><td>0                                   </td><td>0                                   </td><td>112053                              </td><td>30.000                              </td><td>B42                                 </td><td>S                                   </td></tr>\n",
       "\t<tr><th scope=row>713</th><td>890                                 </td><td>1                                   </td><td>1                                   </td><td>Behr, Mr. Karl Howell               </td><td>male                                </td><td>26                                  </td><td>0                                   </td><td>0                                   </td><td>111369                              </td><td>30.000                              </td><td>C148                                </td><td>C                                   </td></tr>\n",
       "\t<tr><th scope=row>714</th><td>891                                 </td><td>0                                   </td><td>3                                   </td><td>Dooley, Mr. Patrick                 </td><td>male                                </td><td>32                                  </td><td>0                                   </td><td>0                                   </td><td>370376                              </td><td> 7.750                              </td><td>                                    </td><td>Q                                   </td></tr>\n",
       "</tbody>\n",
       "</table>\n"
      ],
      "text/latex": [
       "\\begin{tabular}{r|llllllllllll}\n",
       "  & PassengerId & Survived & Pclass & Name & Sex & Age & SibSp & Parch & Ticket & Fare & Cabin & Embarked\\\\\n",
       "\\hline\n",
       "\t709 & 885                                  & 0                                    & 3                                    & Sutehall, Mr. Henry Jr               & male                                 & 25                                   & 0                                    & 0                                    & SOTON/OQ 392076                      &  7.050                               &                                      & S                                   \\\\\n",
       "\t710 & 886                                  & 0                                    & 3                                    & Rice, Mrs. William (Margaret Norton) & female                               & 39                                   & 0                                    & 5                                    & 382652                               & 29.125                               &                                      & Q                                   \\\\\n",
       "\t711 & 887                                  & 0                                    & 2                                    & Montvila, Rev. Juozas                & male                                 & 27                                   & 0                                    & 0                                    & 211536                               & 13.000                               &                                      & S                                   \\\\\n",
       "\t712 & 888                                  & 1                                    & 1                                    & Graham, Miss. Margaret Edith         & female                               & 19                                   & 0                                    & 0                                    & 112053                               & 30.000                               & B42                                  & S                                   \\\\\n",
       "\t713 & 890                                  & 1                                    & 1                                    & Behr, Mr. Karl Howell                & male                                 & 26                                   & 0                                    & 0                                    & 111369                               & 30.000                               & C148                                 & C                                   \\\\\n",
       "\t714 & 891                                  & 0                                    & 3                                    & Dooley, Mr. Patrick                  & male                                 & 32                                   & 0                                    & 0                                    & 370376                               &  7.750                               &                                      & Q                                   \\\\\n",
       "\\end{tabular}\n"
      ],
      "text/markdown": [
       "\n",
       "| <!--/--> | PassengerId | Survived | Pclass | Name | Sex | Age | SibSp | Parch | Ticket | Fare | Cabin | Embarked |\n",
       "|---|---|---|---|---|---|---|---|---|---|---|---|---|\n",
       "| 709 | 885                                  | 0                                    | 3                                    | Sutehall, Mr. Henry Jr               | male                                 | 25                                   | 0                                    | 0                                    | SOTON/OQ 392076                      |  7.050                               |                                      | S                                    |\n",
       "| 710 | 886                                  | 0                                    | 3                                    | Rice, Mrs. William (Margaret Norton) | female                               | 39                                   | 0                                    | 5                                    | 382652                               | 29.125                               |                                      | Q                                    |\n",
       "| 711 | 887                                  | 0                                    | 2                                    | Montvila, Rev. Juozas                | male                                 | 27                                   | 0                                    | 0                                    | 211536                               | 13.000                               |                                      | S                                    |\n",
       "| 712 | 888                                  | 1                                    | 1                                    | Graham, Miss. Margaret Edith         | female                               | 19                                   | 0                                    | 0                                    | 112053                               | 30.000                               | B42                                  | S                                    |\n",
       "| 713 | 890                                  | 1                                    | 1                                    | Behr, Mr. Karl Howell                | male                                 | 26                                   | 0                                    | 0                                    | 111369                               | 30.000                               | C148                                 | C                                    |\n",
       "| 714 | 891                                  | 0                                    | 3                                    | Dooley, Mr. Patrick                  | male                                 | 32                                   | 0                                    | 0                                    | 370376                               |  7.750                               |                                      | Q                                    |\n",
       "\n"
      ],
      "text/plain": [
       "    PassengerId Survived Pclass Name                                 Sex    Age\n",
       "709 885         0        3      Sutehall, Mr. Henry Jr               male   25 \n",
       "710 886         0        3      Rice, Mrs. William (Margaret Norton) female 39 \n",
       "711 887         0        2      Montvila, Rev. Juozas                male   27 \n",
       "712 888         1        1      Graham, Miss. Margaret Edith         female 19 \n",
       "713 890         1        1      Behr, Mr. Karl Howell                male   26 \n",
       "714 891         0        3      Dooley, Mr. Patrick                  male   32 \n",
       "    SibSp Parch Ticket          Fare   Cabin Embarked\n",
       "709 0     0     SOTON/OQ 392076  7.050       S       \n",
       "710 0     5     382652          29.125       Q       \n",
       "711 0     0     211536          13.000       S       \n",
       "712 0     0     112053          30.000 B42   S       \n",
       "713 0     0     111369          30.000 C148  C       \n",
       "714 0     0     370376           7.750       Q       "
      ]
     },
     "metadata": {},
     "output_type": "display_data"
    }
   ],
   "source": [
    "# rownames 다시 맞춰주기 \n",
    "rownames(train_age) <- c()\n",
    "str(train_age)\n",
    "tail(train_age)"
   ]
  },
  {
   "cell_type": "code",
   "execution_count": 7,
   "metadata": {
    "vscode": {
     "languageId": "r"
    }
   },
   "outputs": [
    {
     "data": {
      "image/png": "[encoded data removed]",
      "text/plain": [
       "Plot with title “나이별 생존 / 사망 그래프”"
      ]
     },
     "metadata": {},
     "output_type": "display_data"
    }
   ],
   "source": [
    "# 나이별 승선 수 \n",
    "\n",
    "# 나이와 생존율의 관계 막대 그래프로 \n",
    "par(family =\"AppleGothic\", bg='white')\n",
    "options(warn=-1)\n",
    "barplot(table(train_age$Survived, train_age$Age),\n",
    "        beside = T, \n",
    "        ylim = c(0, 20),\n",
    "        col = c('red','blue'),\n",
    "        cex.names = 0.5, \n",
    "        las =2, \n",
    "        xlab = \"나이\", \n",
    "        main = \"나이별 생존 / 사망 그래프\", \n",
    "        ylab = \"인원수\")\n",
    "\n",
    "legend(220, 20, \n",
    "       c('사망','생존'), \n",
    "       fill = c('red','blue'))\n",
    "segments(60,0, 60, 20, col = \"green\", lty = 4)\n",
    "segments(120,0, 120, 20, col = \"green\", lty = 4)\n",
    "segments(180,0, 180, 20, col = \"green\", lty = 4)\n",
    "segments(240,0, 240, 20, col = \"green\", lty = 4)\n",
    "\n",
    "\n",
    "\n",
    "\n"
   ]
  },
  {
   "cell_type": "code",
   "execution_count": 8,
   "metadata": {
    "vscode": {
     "languageId": "r"
    }
   },
   "outputs": [
    {
     "data": {
      "text/html": [
       "<table>\n",
       "<thead><tr><th></th><th scope=col>PassengerId</th><th scope=col>Survived</th><th scope=col>Pclass</th><th scope=col>Name</th><th scope=col>Sex</th><th scope=col>Age</th><th scope=col>SibSp</th><th scope=col>Parch</th><th scope=col>Ticket</th><th scope=col>Fare</th><th scope=col>Cabin</th><th scope=col>Embarked</th></tr></thead>\n",
       "<tbody>\n",
       "\t<tr><th scope=row>62</th><td> 62                                      </td><td>1                                        </td><td>1                                        </td><td>Icard, Miss. Amelie                      </td><td>female                                   </td><td>38                                       </td><td>0                                        </td><td>0                                        </td><td>113572                                   </td><td>80                                       </td><td>B28                                      </td><td>                                         </td></tr>\n",
       "\t<tr><th scope=row>830</th><td>830                                      </td><td>1                                        </td><td>1                                        </td><td>Stone, Mrs. George Nelson (Martha Evelyn)</td><td>female                                   </td><td>62                                       </td><td>0                                        </td><td>0                                        </td><td>113572                                   </td><td>80                                       </td><td>B28                                      </td><td>                                         </td></tr>\n",
       "</tbody>\n",
       "</table>\n"
      ],
      "text/latex": [
       "\\begin{tabular}{r|llllllllllll}\n",
       "  & PassengerId & Survived & Pclass & Name & Sex & Age & SibSp & Parch & Ticket & Fare & Cabin & Embarked\\\\\n",
       "\\hline\n",
       "\t62 &  62                                       & 1                                         & 1                                         & Icard, Miss. Amelie                       & female                                    & 38                                        & 0                                         & 0                                         & 113572                                    & 80                                        & B28                                       &                                          \\\\\n",
       "\t830 & 830                                       & 1                                         & 1                                         & Stone, Mrs. George Nelson (Martha Evelyn) & female                                    & 62                                        & 0                                         & 0                                         & 113572                                    & 80                                        & B28                                       &                                          \\\\\n",
       "\\end{tabular}\n"
      ],
      "text/markdown": [
       "\n",
       "| <!--/--> | PassengerId | Survived | Pclass | Name | Sex | Age | SibSp | Parch | Ticket | Fare | Cabin | Embarked |\n",
       "|---|---|---|---|---|---|---|---|---|---|---|---|---|\n",
       "| 62 |  62                                       | 1                                         | 1                                         | Icard, Miss. Amelie                       | female                                    | 38                                        | 0                                         | 0                                         | 113572                                    | 80                                        | B28                                       |                                           |\n",
       "| 830 | 830                                       | 1                                         | 1                                         | Stone, Mrs. George Nelson (Martha Evelyn) | female                                    | 62                                        | 0                                         | 0                                         | 113572                                    | 80                                        | B28                                       |                                           |\n",
       "\n"
      ],
      "text/plain": [
       "    PassengerId Survived Pclass Name                                     \n",
       "62   62         1        1      Icard, Miss. Amelie                      \n",
       "830 830         1        1      Stone, Mrs. George Nelson (Martha Evelyn)\n",
       "    Sex    Age SibSp Parch Ticket Fare Cabin Embarked\n",
       "62  female 38  0     0     113572 80   B28           \n",
       "830 female 62  0     0     113572 80   B28           "
      ]
     },
     "metadata": {},
     "output_type": "display_data"
    }
   ],
   "source": [
    "# 빈칸 데이터 어딨는지 찾기 \n",
    "subset(train_df, Embarked == \"\")\n",
    "\n",
    "# --> PassengerId 62, 830번 항구 위치 없음 "
   ]
  },
  {
   "cell_type": "code",
   "execution_count": 9,
   "metadata": {
    "vscode": {
     "languageId": "r"
    }
   },
   "outputs": [
    {
     "data": {
      "text/html": [
       "644"
      ],
      "text/latex": [
       "644"
      ],
      "text/markdown": [
       "644"
      ],
      "text/plain": [
       "[1] 644"
      ]
     },
     "metadata": {},
     "output_type": "display_data"
    },
    {
     "data": {
      "text/html": [
       "168"
      ],
      "text/latex": [
       "168"
      ],
      "text/markdown": [
       "168"
      ],
      "text/plain": [
       "[1] 168"
      ]
     },
     "metadata": {},
     "output_type": "display_data"
    },
    {
     "data": {
      "text/html": [
       "77"
      ],
      "text/latex": [
       "77"
      ],
      "text/markdown": [
       "77"
      ],
      "text/plain": [
       "[1] 77"
      ]
     },
     "metadata": {},
     "output_type": "display_data"
    }
   ],
   "source": [
    "# 위에 두명 어떻게 처리 ? \n",
    "# - 항구별 탑승인원을 구하여 가장 많은 탑승인원의 항구로 결정 (확률상 가장 높을테니까)\n",
    "\n",
    "# -- S항구 탑승인원 \n",
    "sum(train_df$Embarked == \"S\")\n",
    "# -- C항구 탑승인원 \n",
    "sum(train_df$Embarked == \"C\")\n",
    "# -- Q항구 탑승인원 \n",
    "sum(train_df$Embarked == \"Q\")\n",
    "\n",
    "# ---> S항구로 지정해도 무방하다.. "
   ]
  },
  {
   "cell_type": "code",
   "execution_count": 10,
   "metadata": {
    "vscode": {
     "languageId": "r"
    }
   },
   "outputs": [],
   "source": [
    "# 연습을 위한 테이터셋 복제 \n",
    "train_df_T <- train_df"
   ]
  },
  {
   "cell_type": "code",
   "execution_count": 11,
   "metadata": {
    "vscode": {
     "languageId": "r"
    }
   },
   "outputs": [
    {
     "data": {
      "text/html": [
       "<table>\n",
       "<thead><tr><th></th><th scope=col>PassengerId</th><th scope=col>Survived</th><th scope=col>Pclass</th><th scope=col>Name</th><th scope=col>Sex</th><th scope=col>Age</th><th scope=col>SibSp</th><th scope=col>Parch</th><th scope=col>Ticket</th><th scope=col>Fare</th><th scope=col>Cabin</th><th scope=col>Embarked</th></tr></thead>\n",
       "<tbody>\n",
       "\t<tr><th scope=row>62</th><td> 62                                      </td><td>1                                        </td><td>1                                        </td><td>Icard, Miss. Amelie                      </td><td>female                                   </td><td>38                                       </td><td>0                                        </td><td>0                                        </td><td>113572                                   </td><td>80                                       </td><td>B28                                      </td><td>                                         </td></tr>\n",
       "\t<tr><th scope=row>830</th><td>830                                      </td><td>1                                        </td><td>1                                        </td><td>Stone, Mrs. George Nelson (Martha Evelyn)</td><td>female                                   </td><td>62                                       </td><td>0                                        </td><td>0                                        </td><td>113572                                   </td><td>80                                       </td><td>B28                                      </td><td>                                         </td></tr>\n",
       "</tbody>\n",
       "</table>\n"
      ],
      "text/latex": [
       "\\begin{tabular}{r|llllllllllll}\n",
       "  & PassengerId & Survived & Pclass & Name & Sex & Age & SibSp & Parch & Ticket & Fare & Cabin & Embarked\\\\\n",
       "\\hline\n",
       "\t62 &  62                                       & 1                                         & 1                                         & Icard, Miss. Amelie                       & female                                    & 38                                        & 0                                         & 0                                         & 113572                                    & 80                                        & B28                                       &                                          \\\\\n",
       "\t830 & 830                                       & 1                                         & 1                                         & Stone, Mrs. George Nelson (Martha Evelyn) & female                                    & 62                                        & 0                                         & 0                                         & 113572                                    & 80                                        & B28                                       &                                          \\\\\n",
       "\\end{tabular}\n"
      ],
      "text/markdown": [
       "\n",
       "| <!--/--> | PassengerId | Survived | Pclass | Name | Sex | Age | SibSp | Parch | Ticket | Fare | Cabin | Embarked |\n",
       "|---|---|---|---|---|---|---|---|---|---|---|---|---|\n",
       "| 62 |  62                                       | 1                                         | 1                                         | Icard, Miss. Amelie                       | female                                    | 38                                        | 0                                         | 0                                         | 113572                                    | 80                                        | B28                                       |                                           |\n",
       "| 830 | 830                                       | 1                                         | 1                                         | Stone, Mrs. George Nelson (Martha Evelyn) | female                                    | 62                                        | 0                                         | 0                                         | 113572                                    | 80                                        | B28                                       |                                           |\n",
       "\n"
      ],
      "text/plain": [
       "    PassengerId Survived Pclass Name                                     \n",
       "62   62         1        1      Icard, Miss. Amelie                      \n",
       "830 830         1        1      Stone, Mrs. George Nelson (Martha Evelyn)\n",
       "    Sex    Age SibSp Parch Ticket Fare Cabin Embarked\n",
       "62  female 38  0     0     113572 80   B28           \n",
       "830 female 62  0     0     113572 80   B28           "
      ]
     },
     "metadata": {},
     "output_type": "display_data"
    },
    {
     "data": {
      "text/html": [
       "<table>\n",
       "<thead><tr><th></th><th scope=col>PassengerId</th><th scope=col>Survived</th><th scope=col>Pclass</th><th scope=col>Name</th><th scope=col>Sex</th><th scope=col>Age</th><th scope=col>SibSp</th><th scope=col>Parch</th><th scope=col>Ticket</th><th scope=col>Fare</th><th scope=col>Cabin</th><th scope=col>Embarked</th></tr></thead>\n",
       "<tbody>\n",
       "\t<tr><th scope=row>62</th><td> 62                                      </td><td>1                                        </td><td>1                                        </td><td>Icard, Miss. Amelie                      </td><td>female                                   </td><td>38                                       </td><td>0                                        </td><td>0                                        </td><td>113572                                   </td><td>80                                       </td><td>B28                                      </td><td>                                         </td></tr>\n",
       "\t<tr><th scope=row>830</th><td>830                                      </td><td>1                                        </td><td>1                                        </td><td>Stone, Mrs. George Nelson (Martha Evelyn)</td><td>female                                   </td><td>62                                       </td><td>0                                        </td><td>0                                        </td><td>113572                                   </td><td>80                                       </td><td>B28                                      </td><td>                                         </td></tr>\n",
       "</tbody>\n",
       "</table>\n"
      ],
      "text/latex": [
       "\\begin{tabular}{r|llllllllllll}\n",
       "  & PassengerId & Survived & Pclass & Name & Sex & Age & SibSp & Parch & Ticket & Fare & Cabin & Embarked\\\\\n",
       "\\hline\n",
       "\t62 &  62                                       & 1                                         & 1                                         & Icard, Miss. Amelie                       & female                                    & 38                                        & 0                                         & 0                                         & 113572                                    & 80                                        & B28                                       &                                          \\\\\n",
       "\t830 & 830                                       & 1                                         & 1                                         & Stone, Mrs. George Nelson (Martha Evelyn) & female                                    & 62                                        & 0                                         & 0                                         & 113572                                    & 80                                        & B28                                       &                                          \\\\\n",
       "\\end{tabular}\n"
      ],
      "text/markdown": [
       "\n",
       "| <!--/--> | PassengerId | Survived | Pclass | Name | Sex | Age | SibSp | Parch | Ticket | Fare | Cabin | Embarked |\n",
       "|---|---|---|---|---|---|---|---|---|---|---|---|---|\n",
       "| 62 |  62                                       | 1                                         | 1                                         | Icard, Miss. Amelie                       | female                                    | 38                                        | 0                                         | 0                                         | 113572                                    | 80                                        | B28                                       |                                           |\n",
       "| 830 | 830                                       | 1                                         | 1                                         | Stone, Mrs. George Nelson (Martha Evelyn) | female                                    | 62                                        | 0                                         | 0                                         | 113572                                    | 80                                        | B28                                       |                                           |\n",
       "\n"
      ],
      "text/plain": [
       "    PassengerId Survived Pclass Name                                     \n",
       "62   62         1        1      Icard, Miss. Amelie                      \n",
       "830 830         1        1      Stone, Mrs. George Nelson (Martha Evelyn)\n",
       "    Sex    Age SibSp Parch Ticket Fare Cabin Embarked\n",
       "62  female 38  0     0     113572 80   B28           \n",
       "830 female 62  0     0     113572 80   B28           "
      ]
     },
     "metadata": {},
     "output_type": "display_data"
    },
    {
     "data": {
      "text/html": [
       "<table>\n",
       "<thead><tr><th scope=col>PassengerId</th><th scope=col>Survived</th><th scope=col>Pclass</th><th scope=col>Name</th><th scope=col>Sex</th><th scope=col>Age</th><th scope=col>SibSp</th><th scope=col>Parch</th><th scope=col>Ticket</th><th scope=col>Fare</th><th scope=col>Cabin</th><th scope=col>Embarked</th></tr></thead>\n",
       "<tbody>\n",
       "</tbody>\n",
       "</table>\n"
      ],
      "text/latex": [
       "\\begin{tabular}{r|llllllllllll}\n",
       " PassengerId & Survived & Pclass & Name & Sex & Age & SibSp & Parch & Ticket & Fare & Cabin & Embarked\\\\\n",
       "\\hline\n",
       "\\end{tabular}\n"
      ],
      "text/markdown": [
       "\n",
       "| PassengerId | Survived | Pclass | Name | Sex | Age | SibSp | Parch | Ticket | Fare | Cabin | Embarked |\n",
       "|---|---|---|---|---|---|---|---|---|---|---|---|\n",
       "\n"
      ],
      "text/plain": [
       "     PassengerId Survived Pclass Name Sex Age SibSp Parch Ticket Fare Cabin\n",
       "     Embarked"
      ]
     },
     "metadata": {},
     "output_type": "display_data"
    }
   ],
   "source": [
    "# 빈칸 항구 찾기 - 1 \n",
    "subset(train_df_T, Embarked == \"\")\n",
    "\n",
    "# 빈칸 항구 찾기 - 2\n",
    "train_df_T[train_df_T$Embarked == \"\",]\n",
    "\n",
    "# 빈 값에 S 넣기 - 1\n",
    "train_df_T$Embarked <- ifelse(train_df_T$Embarked == \"\", \"S\", train_df_T$Embarked)\n",
    "\n",
    "\n",
    "train_df_T[train_df_T$Embarked == \"\",]\n",
    "\n",
    "# 빈값에 S 넣기 - 2 \n",
    "train_df_T <- train_df\n",
    "\n",
    "train_df_T[train_df_T$Embarked == \"\",]$Embarked <- \"S\""
   ]
  },
  {
   "cell_type": "code",
   "execution_count": 12,
   "metadata": {
    "vscode": {
     "languageId": "r"
    }
   },
   "outputs": [
    {
     "data": {
      "text/html": [
       "<table>\n",
       "<thead><tr><th scope=col>PassengerId</th><th scope=col>Survived</th><th scope=col>Pclass</th><th scope=col>Name</th><th scope=col>Sex</th><th scope=col>Age</th><th scope=col>SibSp</th><th scope=col>Parch</th><th scope=col>Ticket</th><th scope=col>Fare</th><th scope=col>Cabin</th><th scope=col>Embarked</th></tr></thead>\n",
       "<tbody>\n",
       "</tbody>\n",
       "</table>\n"
      ],
      "text/latex": [
       "\\begin{tabular}{r|llllllllllll}\n",
       " PassengerId & Survived & Pclass & Name & Sex & Age & SibSp & Parch & Ticket & Fare & Cabin & Embarked\\\\\n",
       "\\hline\n",
       "\\end{tabular}\n"
      ],
      "text/markdown": [
       "\n",
       "| PassengerId | Survived | Pclass | Name | Sex | Age | SibSp | Parch | Ticket | Fare | Cabin | Embarked |\n",
       "|---|---|---|---|---|---|---|---|---|---|---|---|\n",
       "\n"
      ],
      "text/plain": [
       "     PassengerId Survived Pclass Name Sex Age SibSp Parch Ticket Fare Cabin\n",
       "     Embarked"
      ]
     },
     "metadata": {},
     "output_type": "display_data"
    }
   ],
   "source": [
    "# 빈값에 S 넣기 - 3\n",
    "train_df_T <- train_df\n",
    "train_df_T$Embarked[train_df_T$Embarked ==\"\"] <- \"S\"\n",
    "\n",
    "train_df_T[train_df_T$Embarked == \"\",]"
   ]
  },
  {
   "cell_type": "code",
   "execution_count": 13,
   "metadata": {
    "vscode": {
     "languageId": "r"
    }
   },
   "outputs": [
    {
     "name": "stdout",
     "output_type": "stream",
     "text": [
      "'data.frame':\t891 obs. of  12 variables:\n",
      " $ PassengerId: int  1 2 3 4 5 6 7 8 9 10 ...\n",
      " $ Survived   : int  0 1 1 1 0 0 0 0 1 1 ...\n",
      " $ Pclass     : int  3 1 3 1 3 3 1 3 3 2 ...\n",
      " $ Name       : Factor w/ 891 levels \"Abbing, Mr. Anthony\",..: 109 191 354 273 16 555 516 625 413 577 ...\n",
      " $ Sex        : Factor w/ 2 levels \"female\",\"male\": 2 1 1 1 2 2 2 2 1 1 ...\n",
      " $ Age        : num  22 38 26 35 35 NA 54 2 27 14 ...\n",
      " $ SibSp      : int  1 1 0 1 0 0 0 3 0 1 ...\n",
      " $ Parch      : int  0 0 0 0 0 0 0 1 2 0 ...\n",
      " $ Ticket     : Factor w/ 681 levels \"110152\",\"110413\",..: 524 597 670 50 473 276 86 396 345 133 ...\n",
      " $ Fare       : num  7.25 71.28 7.92 53.1 8.05 ...\n",
      " $ Cabin      : Factor w/ 148 levels \"\",\"A10\",\"A14\",..: 1 83 1 57 1 1 131 1 1 1 ...\n",
      " $ Embarked   : Factor w/ 4 levels \"\",\"C\",\"Q\",\"S\": 4 2 4 4 4 3 4 4 4 2 ...\n"
     ]
    }
   ],
   "source": [
    "# 적용 전 : Embarked의 팩터가 4개임 \n",
    "str(train_df)"
   ]
  },
  {
   "cell_type": "code",
   "execution_count": 15,
   "metadata": {
    "vscode": {
     "languageId": "r"
    }
   },
   "outputs": [
    {
     "data": {
      "text/html": [
       "<table>\n",
       "<thead><tr><th></th><th scope=col>PassengerId</th><th scope=col>Survived</th><th scope=col>Pclass</th><th scope=col>Name</th><th scope=col>Sex</th><th scope=col>Age</th><th scope=col>SibSp</th><th scope=col>Parch</th><th scope=col>Ticket</th><th scope=col>Fare</th><th scope=col>Cabin</th><th scope=col>Embarked</th></tr></thead>\n",
       "<tbody>\n",
       "\t<tr><th scope=row>62</th><td> 62                                      </td><td>1                                        </td><td>1                                        </td><td>Icard, Miss. Amelie                      </td><td>female                                   </td><td>38                                       </td><td>0                                        </td><td>0                                        </td><td>113572                                   </td><td>80                                       </td><td>B28                                      </td><td>                                         </td></tr>\n",
       "\t<tr><th scope=row>830</th><td>830                                      </td><td>1                                        </td><td>1                                        </td><td>Stone, Mrs. George Nelson (Martha Evelyn)</td><td>female                                   </td><td>62                                       </td><td>0                                        </td><td>0                                        </td><td>113572                                   </td><td>80                                       </td><td>B28                                      </td><td>                                         </td></tr>\n",
       "</tbody>\n",
       "</table>\n"
      ],
      "text/latex": [
       "\\begin{tabular}{r|llllllllllll}\n",
       "  & PassengerId & Survived & Pclass & Name & Sex & Age & SibSp & Parch & Ticket & Fare & Cabin & Embarked\\\\\n",
       "\\hline\n",
       "\t62 &  62                                       & 1                                         & 1                                         & Icard, Miss. Amelie                       & female                                    & 38                                        & 0                                         & 0                                         & 113572                                    & 80                                        & B28                                       &                                          \\\\\n",
       "\t830 & 830                                       & 1                                         & 1                                         & Stone, Mrs. George Nelson (Martha Evelyn) & female                                    & 62                                        & 0                                         & 0                                         & 113572                                    & 80                                        & B28                                       &                                          \\\\\n",
       "\\end{tabular}\n"
      ],
      "text/markdown": [
       "\n",
       "| <!--/--> | PassengerId | Survived | Pclass | Name | Sex | Age | SibSp | Parch | Ticket | Fare | Cabin | Embarked |\n",
       "|---|---|---|---|---|---|---|---|---|---|---|---|---|\n",
       "| 62 |  62                                       | 1                                         | 1                                         | Icard, Miss. Amelie                       | female                                    | 38                                        | 0                                         | 0                                         | 113572                                    | 80                                        | B28                                       |                                           |\n",
       "| 830 | 830                                       | 1                                         | 1                                         | Stone, Mrs. George Nelson (Martha Evelyn) | female                                    | 62                                        | 0                                         | 0                                         | 113572                                    | 80                                        | B28                                       |                                           |\n",
       "\n"
      ],
      "text/plain": [
       "    PassengerId Survived Pclass Name                                     \n",
       "62   62         1        1      Icard, Miss. Amelie                      \n",
       "830 830         1        1      Stone, Mrs. George Nelson (Martha Evelyn)\n",
       "    Sex    Age SibSp Parch Ticket Fare Cabin Embarked\n",
       "62  female 38  0     0     113572 80   B28           \n",
       "830 female 62  0     0     113572 80   B28           "
      ]
     },
     "metadata": {},
     "output_type": "display_data"
    }
   ],
   "source": [
    "# 데이터에 빈값 찾아 S로 바꾸기 (가장 높은 비율 )\n",
    "subset(train_df, Embarked == \"\")"
   ]
  },
  {
   "cell_type": "code",
   "execution_count": 17,
   "metadata": {
    "vscode": {
     "languageId": "r"
    }
   },
   "outputs": [],
   "source": [
    "#  S로 바꾸기\n",
    "train_df[train_df$Embarked == \"\",]$Embarked <- \"S\""
   ]
  },
  {
   "cell_type": "code",
   "execution_count": 18,
   "metadata": {
    "vscode": {
     "languageId": "r"
    }
   },
   "outputs": [
    {
     "data": {
      "text/html": [
       "<table>\n",
       "<thead><tr><th scope=col>PassengerId</th><th scope=col>Survived</th><th scope=col>Pclass</th><th scope=col>Name</th><th scope=col>Sex</th><th scope=col>Age</th><th scope=col>SibSp</th><th scope=col>Parch</th><th scope=col>Ticket</th><th scope=col>Fare</th><th scope=col>Cabin</th><th scope=col>Embarked</th></tr></thead>\n",
       "<tbody>\n",
       "</tbody>\n",
       "</table>\n"
      ],
      "text/latex": [
       "\\begin{tabular}{r|llllllllllll}\n",
       " PassengerId & Survived & Pclass & Name & Sex & Age & SibSp & Parch & Ticket & Fare & Cabin & Embarked\\\\\n",
       "\\hline\n",
       "\\end{tabular}\n"
      ],
      "text/markdown": [
       "\n",
       "| PassengerId | Survived | Pclass | Name | Sex | Age | SibSp | Parch | Ticket | Fare | Cabin | Embarked |\n",
       "|---|---|---|---|---|---|---|---|---|---|---|---|\n",
       "\n"
      ],
      "text/plain": [
       "     PassengerId Survived Pclass Name Sex Age SibSp Parch Ticket Fare Cabin\n",
       "     Embarked"
      ]
     },
     "metadata": {},
     "output_type": "display_data"
    }
   ],
   "source": [
    "# 검색\n",
    "train_df_T[train_df_T$Embarked == \"\",]"
   ]
  },
  {
   "cell_type": "code",
   "execution_count": 23,
   "metadata": {
    "vscode": {
     "languageId": "r"
    }
   },
   "outputs": [
    {
     "name": "stdout",
     "output_type": "stream",
     "text": [
      "'data.frame':\t891 obs. of  12 variables:\n",
      " $ PassengerId: int  1 2 3 4 5 6 7 8 9 10 ...\n",
      " $ Survived   : int  0 1 1 1 0 0 0 0 1 1 ...\n",
      " $ Pclass     : int  3 1 3 1 3 3 1 3 3 2 ...\n",
      " $ Name       : Factor w/ 891 levels \"Abbing, Mr. Anthony\",..: 109 191 354 273 16 555 516 625 413 577 ...\n",
      " $ Sex        : Factor w/ 2 levels \"female\",\"male\": 2 1 1 1 2 2 2 2 1 1 ...\n",
      " $ Age        : num  22 38 26 35 35 NA 54 2 27 14 ...\n",
      " $ SibSp      : int  1 1 0 1 0 0 0 3 0 1 ...\n",
      " $ Parch      : int  0 0 0 0 0 0 0 1 2 0 ...\n",
      " $ Ticket     : Factor w/ 681 levels \"110152\",\"110413\",..: 524 597 670 50 473 276 86 396 345 133 ...\n",
      " $ Fare       : num  7.25 71.28 7.92 53.1 8.05 ...\n",
      " $ Cabin      : Factor w/ 148 levels \"\",\"A10\",\"A14\",..: 1 83 1 57 1 1 131 1 1 1 ...\n",
      " $ Embarked   : Factor w/ 3 levels \"C\",\"Q\",\"S\": 3 1 3 3 3 2 3 3 3 1 ...\n"
     ]
    }
   ],
   "source": [
    "# 적용 후 : Embarked의 팩터가 3개임 \n",
    "c\n",
    "str(train_df)"
   ]
  },
  {
   "cell_type": "code",
   "execution_count": null,
   "metadata": {
    "vscode": {
     "languageId": "r"
    }
   },
   "outputs": [],
   "source": []
  },
  {
   "cell_type": "code",
   "execution_count": 20,
   "metadata": {
    "vscode": {
     "languageId": "r"
    }
   },
   "outputs": [
    {
     "data": {
      "text/html": [
       "0"
      ],
      "text/latex": [
       "0"
      ],
      "text/markdown": [
       "0"
      ],
      "text/plain": [
       "[1] 0"
      ]
     },
     "metadata": {},
     "output_type": "display_data"
    }
   ],
   "source": [
    "# age가 없는 칼럼 없애기\n",
    "sum(is.na(train_age$Age))"
   ]
  },
  {
   "cell_type": "code",
   "execution_count": 24,
   "metadata": {
    "vscode": {
     "languageId": "r"
    }
   },
   "outputs": [
    {
     "name": "stdout",
     "output_type": "stream",
     "text": [
      "'data.frame':\t714 obs. of  12 variables:\n",
      " $ PassengerId: int  1 2 3 4 5 7 8 9 10 11 ...\n",
      " $ Survived   : int  0 1 1 1 0 0 0 1 1 1 ...\n",
      " $ Pclass     : int  3 1 3 1 3 1 3 3 2 3 ...\n",
      " $ Name       : Factor w/ 891 levels \"Abbing, Mr. Anthony\",..: 109 191 354 273 16 516 625 413 577 728 ...\n",
      " $ Sex        : Factor w/ 2 levels \"female\",\"male\": 2 1 1 1 2 2 2 1 1 1 ...\n",
      " $ Age        : num  22 38 26 35 35 54 2 27 14 4 ...\n",
      " $ SibSp      : int  1 1 0 1 0 0 3 0 1 1 ...\n",
      " $ Parch      : int  0 0 0 0 0 0 1 2 0 1 ...\n",
      " $ Ticket     : Factor w/ 681 levels \"110152\",\"110413\",..: 524 597 670 50 473 86 396 345 133 617 ...\n",
      " $ Fare       : num  7.25 71.28 7.92 53.1 8.05 ...\n",
      " $ Cabin      : Factor w/ 148 levels \"\",\"A10\",\"A14\",..: 1 83 1 57 1 131 1 1 1 147 ...\n",
      " $ Embarked   : Factor w/ 4 levels \"\",\"C\",\"Q\",\"S\": 4 2 4 4 4 4 4 4 2 4 ...\n"
     ]
    },
    {
     "data": {
      "text/html": [
       "<table>\n",
       "<thead><tr><th></th><th scope=col>PassengerId</th><th scope=col>Survived</th><th scope=col>Pclass</th><th scope=col>Name</th><th scope=col>Sex</th><th scope=col>Age</th><th scope=col>SibSp</th><th scope=col>Parch</th><th scope=col>Ticket</th><th scope=col>Fare</th><th scope=col>Cabin</th><th scope=col>Embarked</th></tr></thead>\n",
       "<tbody>\n",
       "\t<tr><th scope=row>709</th><td>885                                 </td><td>0                                   </td><td>3                                   </td><td>Sutehall, Mr. Henry Jr              </td><td>male                                </td><td>25                                  </td><td>0                                   </td><td>0                                   </td><td>SOTON/OQ 392076                     </td><td> 7.050                              </td><td>                                    </td><td>S                                   </td></tr>\n",
       "\t<tr><th scope=row>710</th><td>886                                 </td><td>0                                   </td><td>3                                   </td><td>Rice, Mrs. William (Margaret Norton)</td><td>female                              </td><td>39                                  </td><td>0                                   </td><td>5                                   </td><td>382652                              </td><td>29.125                              </td><td>                                    </td><td>Q                                   </td></tr>\n",
       "\t<tr><th scope=row>711</th><td>887                                 </td><td>0                                   </td><td>2                                   </td><td>Montvila, Rev. Juozas               </td><td>male                                </td><td>27                                  </td><td>0                                   </td><td>0                                   </td><td>211536                              </td><td>13.000                              </td><td>                                    </td><td>S                                   </td></tr>\n",
       "\t<tr><th scope=row>712</th><td>888                                 </td><td>1                                   </td><td>1                                   </td><td>Graham, Miss. Margaret Edith        </td><td>female                              </td><td>19                                  </td><td>0                                   </td><td>0                                   </td><td>112053                              </td><td>30.000                              </td><td>B42                                 </td><td>S                                   </td></tr>\n",
       "\t<tr><th scope=row>713</th><td>890                                 </td><td>1                                   </td><td>1                                   </td><td>Behr, Mr. Karl Howell               </td><td>male                                </td><td>26                                  </td><td>0                                   </td><td>0                                   </td><td>111369                              </td><td>30.000                              </td><td>C148                                </td><td>C                                   </td></tr>\n",
       "\t<tr><th scope=row>714</th><td>891                                 </td><td>0                                   </td><td>3                                   </td><td>Dooley, Mr. Patrick                 </td><td>male                                </td><td>32                                  </td><td>0                                   </td><td>0                                   </td><td>370376                              </td><td> 7.750                              </td><td>                                    </td><td>Q                                   </td></tr>\n",
       "</tbody>\n",
       "</table>\n"
      ],
      "text/latex": [
       "\\begin{tabular}{r|llllllllllll}\n",
       "  & PassengerId & Survived & Pclass & Name & Sex & Age & SibSp & Parch & Ticket & Fare & Cabin & Embarked\\\\\n",
       "\\hline\n",
       "\t709 & 885                                  & 0                                    & 3                                    & Sutehall, Mr. Henry Jr               & male                                 & 25                                   & 0                                    & 0                                    & SOTON/OQ 392076                      &  7.050                               &                                      & S                                   \\\\\n",
       "\t710 & 886                                  & 0                                    & 3                                    & Rice, Mrs. William (Margaret Norton) & female                               & 39                                   & 0                                    & 5                                    & 382652                               & 29.125                               &                                      & Q                                   \\\\\n",
       "\t711 & 887                                  & 0                                    & 2                                    & Montvila, Rev. Juozas                & male                                 & 27                                   & 0                                    & 0                                    & 211536                               & 13.000                               &                                      & S                                   \\\\\n",
       "\t712 & 888                                  & 1                                    & 1                                    & Graham, Miss. Margaret Edith         & female                               & 19                                   & 0                                    & 0                                    & 112053                               & 30.000                               & B42                                  & S                                   \\\\\n",
       "\t713 & 890                                  & 1                                    & 1                                    & Behr, Mr. Karl Howell                & male                                 & 26                                   & 0                                    & 0                                    & 111369                               & 30.000                               & C148                                 & C                                   \\\\\n",
       "\t714 & 891                                  & 0                                    & 3                                    & Dooley, Mr. Patrick                  & male                                 & 32                                   & 0                                    & 0                                    & 370376                               &  7.750                               &                                      & Q                                   \\\\\n",
       "\\end{tabular}\n"
      ],
      "text/markdown": [
       "\n",
       "| <!--/--> | PassengerId | Survived | Pclass | Name | Sex | Age | SibSp | Parch | Ticket | Fare | Cabin | Embarked |\n",
       "|---|---|---|---|---|---|---|---|---|---|---|---|---|\n",
       "| 709 | 885                                  | 0                                    | 3                                    | Sutehall, Mr. Henry Jr               | male                                 | 25                                   | 0                                    | 0                                    | SOTON/OQ 392076                      |  7.050                               |                                      | S                                    |\n",
       "| 710 | 886                                  | 0                                    | 3                                    | Rice, Mrs. William (Margaret Norton) | female                               | 39                                   | 0                                    | 5                                    | 382652                               | 29.125                               |                                      | Q                                    |\n",
       "| 711 | 887                                  | 0                                    | 2                                    | Montvila, Rev. Juozas                | male                                 | 27                                   | 0                                    | 0                                    | 211536                               | 13.000                               |                                      | S                                    |\n",
       "| 712 | 888                                  | 1                                    | 1                                    | Graham, Miss. Margaret Edith         | female                               | 19                                   | 0                                    | 0                                    | 112053                               | 30.000                               | B42                                  | S                                    |\n",
       "| 713 | 890                                  | 1                                    | 1                                    | Behr, Mr. Karl Howell                | male                                 | 26                                   | 0                                    | 0                                    | 111369                               | 30.000                               | C148                                 | C                                    |\n",
       "| 714 | 891                                  | 0                                    | 3                                    | Dooley, Mr. Patrick                  | male                                 | 32                                   | 0                                    | 0                                    | 370376                               |  7.750                               |                                      | Q                                    |\n",
       "\n"
      ],
      "text/plain": [
       "    PassengerId Survived Pclass Name                                 Sex    Age\n",
       "709 885         0        3      Sutehall, Mr. Henry Jr               male   25 \n",
       "710 886         0        3      Rice, Mrs. William (Margaret Norton) female 39 \n",
       "711 887         0        2      Montvila, Rev. Juozas                male   27 \n",
       "712 888         1        1      Graham, Miss. Margaret Edith         female 19 \n",
       "713 890         1        1      Behr, Mr. Karl Howell                male   26 \n",
       "714 891         0        3      Dooley, Mr. Patrick                  male   32 \n",
       "    SibSp Parch Ticket          Fare   Cabin Embarked\n",
       "709 0     0     SOTON/OQ 392076  7.050       S       \n",
       "710 0     5     382652          29.125       Q       \n",
       "711 0     0     211536          13.000       S       \n",
       "712 0     0     112053          30.000 B42   S       \n",
       "713 0     0     111369          30.000 C148  C       \n",
       "714 0     0     370376           7.750       Q       "
      ]
     },
     "metadata": {},
     "output_type": "display_data"
    }
   ],
   "source": [
    "str(train_age)\n",
    "tail(train_age)\n",
    "# - 데이터 샘플 714개로 감소 "
   ]
  },
  {
   "cell_type": "code",
   "execution_count": 22,
   "metadata": {
    "vscode": {
     "languageId": "r"
    }
   },
   "outputs": [
    {
     "name": "stdout",
     "output_type": "stream",
     "text": [
      "'data.frame':\t714 obs. of  12 variables:\n",
      " $ PassengerId: int  1 2 3 4 5 7 8 9 10 11 ...\n",
      " $ Survived   : int  0 1 1 1 0 0 0 1 1 1 ...\n",
      " $ Pclass     : int  3 1 3 1 3 1 3 3 2 3 ...\n",
      " $ Name       : Factor w/ 891 levels \"Abbing, Mr. Anthony\",..: 109 191 354 273 16 516 625 413 577 728 ...\n",
      " $ Sex        : Factor w/ 2 levels \"female\",\"male\": 2 1 1 1 2 2 2 1 1 1 ...\n",
      " $ Age        : num  22 38 26 35 35 54 2 27 14 4 ...\n",
      " $ SibSp      : int  1 1 0 1 0 0 3 0 1 1 ...\n",
      " $ Parch      : int  0 0 0 0 0 0 1 2 0 1 ...\n",
      " $ Ticket     : Factor w/ 681 levels \"110152\",\"110413\",..: 524 597 670 50 473 86 396 345 133 617 ...\n",
      " $ Fare       : num  7.25 71.28 7.92 53.1 8.05 ...\n",
      " $ Cabin      : Factor w/ 148 levels \"\",\"A10\",\"A14\",..: 1 83 1 57 1 131 1 1 1 147 ...\n",
      " $ Embarked   : Factor w/ 4 levels \"\",\"C\",\"Q\",\"S\": 4 2 4 4 4 4 4 4 2 4 ...\n"
     ]
    },
    {
     "data": {
      "text/html": [
       "<table>\n",
       "<thead><tr><th></th><th scope=col>PassengerId</th><th scope=col>Survived</th><th scope=col>Pclass</th><th scope=col>Name</th><th scope=col>Sex</th><th scope=col>Age</th><th scope=col>SibSp</th><th scope=col>Parch</th><th scope=col>Ticket</th><th scope=col>Fare</th><th scope=col>Cabin</th><th scope=col>Embarked</th></tr></thead>\n",
       "<tbody>\n",
       "\t<tr><th scope=row>709</th><td>885                                 </td><td>0                                   </td><td>3                                   </td><td>Sutehall, Mr. Henry Jr              </td><td>male                                </td><td>25                                  </td><td>0                                   </td><td>0                                   </td><td>SOTON/OQ 392076                     </td><td> 7.050                              </td><td>                                    </td><td>S                                   </td></tr>\n",
       "\t<tr><th scope=row>710</th><td>886                                 </td><td>0                                   </td><td>3                                   </td><td>Rice, Mrs. William (Margaret Norton)</td><td>female                              </td><td>39                                  </td><td>0                                   </td><td>5                                   </td><td>382652                              </td><td>29.125                              </td><td>                                    </td><td>Q                                   </td></tr>\n",
       "\t<tr><th scope=row>711</th><td>887                                 </td><td>0                                   </td><td>2                                   </td><td>Montvila, Rev. Juozas               </td><td>male                                </td><td>27                                  </td><td>0                                   </td><td>0                                   </td><td>211536                              </td><td>13.000                              </td><td>                                    </td><td>S                                   </td></tr>\n",
       "\t<tr><th scope=row>712</th><td>888                                 </td><td>1                                   </td><td>1                                   </td><td>Graham, Miss. Margaret Edith        </td><td>female                              </td><td>19                                  </td><td>0                                   </td><td>0                                   </td><td>112053                              </td><td>30.000                              </td><td>B42                                 </td><td>S                                   </td></tr>\n",
       "\t<tr><th scope=row>713</th><td>890                                 </td><td>1                                   </td><td>1                                   </td><td>Behr, Mr. Karl Howell               </td><td>male                                </td><td>26                                  </td><td>0                                   </td><td>0                                   </td><td>111369                              </td><td>30.000                              </td><td>C148                                </td><td>C                                   </td></tr>\n",
       "\t<tr><th scope=row>714</th><td>891                                 </td><td>0                                   </td><td>3                                   </td><td>Dooley, Mr. Patrick                 </td><td>male                                </td><td>32                                  </td><td>0                                   </td><td>0                                   </td><td>370376                              </td><td> 7.750                              </td><td>                                    </td><td>Q                                   </td></tr>\n",
       "</tbody>\n",
       "</table>\n"
      ],
      "text/latex": [
       "\\begin{tabular}{r|llllllllllll}\n",
       "  & PassengerId & Survived & Pclass & Name & Sex & Age & SibSp & Parch & Ticket & Fare & Cabin & Embarked\\\\\n",
       "\\hline\n",
       "\t709 & 885                                  & 0                                    & 3                                    & Sutehall, Mr. Henry Jr               & male                                 & 25                                   & 0                                    & 0                                    & SOTON/OQ 392076                      &  7.050                               &                                      & S                                   \\\\\n",
       "\t710 & 886                                  & 0                                    & 3                                    & Rice, Mrs. William (Margaret Norton) & female                               & 39                                   & 0                                    & 5                                    & 382652                               & 29.125                               &                                      & Q                                   \\\\\n",
       "\t711 & 887                                  & 0                                    & 2                                    & Montvila, Rev. Juozas                & male                                 & 27                                   & 0                                    & 0                                    & 211536                               & 13.000                               &                                      & S                                   \\\\\n",
       "\t712 & 888                                  & 1                                    & 1                                    & Graham, Miss. Margaret Edith         & female                               & 19                                   & 0                                    & 0                                    & 112053                               & 30.000                               & B42                                  & S                                   \\\\\n",
       "\t713 & 890                                  & 1                                    & 1                                    & Behr, Mr. Karl Howell                & male                                 & 26                                   & 0                                    & 0                                    & 111369                               & 30.000                               & C148                                 & C                                   \\\\\n",
       "\t714 & 891                                  & 0                                    & 3                                    & Dooley, Mr. Patrick                  & male                                 & 32                                   & 0                                    & 0                                    & 370376                               &  7.750                               &                                      & Q                                   \\\\\n",
       "\\end{tabular}\n"
      ],
      "text/markdown": [
       "\n",
       "| <!--/--> | PassengerId | Survived | Pclass | Name | Sex | Age | SibSp | Parch | Ticket | Fare | Cabin | Embarked |\n",
       "|---|---|---|---|---|---|---|---|---|---|---|---|---|\n",
       "| 709 | 885                                  | 0                                    | 3                                    | Sutehall, Mr. Henry Jr               | male                                 | 25                                   | 0                                    | 0                                    | SOTON/OQ 392076                      |  7.050                               |                                      | S                                    |\n",
       "| 710 | 886                                  | 0                                    | 3                                    | Rice, Mrs. William (Margaret Norton) | female                               | 39                                   | 0                                    | 5                                    | 382652                               | 29.125                               |                                      | Q                                    |\n",
       "| 711 | 887                                  | 0                                    | 2                                    | Montvila, Rev. Juozas                | male                                 | 27                                   | 0                                    | 0                                    | 211536                               | 13.000                               |                                      | S                                    |\n",
       "| 712 | 888                                  | 1                                    | 1                                    | Graham, Miss. Margaret Edith         | female                               | 19                                   | 0                                    | 0                                    | 112053                               | 30.000                               | B42                                  | S                                    |\n",
       "| 713 | 890                                  | 1                                    | 1                                    | Behr, Mr. Karl Howell                | male                                 | 26                                   | 0                                    | 0                                    | 111369                               | 30.000                               | C148                                 | C                                    |\n",
       "| 714 | 891                                  | 0                                    | 3                                    | Dooley, Mr. Patrick                  | male                                 | 32                                   | 0                                    | 0                                    | 370376                               |  7.750                               |                                      | Q                                    |\n",
       "\n"
      ],
      "text/plain": [
       "    PassengerId Survived Pclass Name                                 Sex    Age\n",
       "709 885         0        3      Sutehall, Mr. Henry Jr               male   25 \n",
       "710 886         0        3      Rice, Mrs. William (Margaret Norton) female 39 \n",
       "711 887         0        2      Montvila, Rev. Juozas                male   27 \n",
       "712 888         1        1      Graham, Miss. Margaret Edith         female 19 \n",
       "713 890         1        1      Behr, Mr. Karl Howell                male   26 \n",
       "714 891         0        3      Dooley, Mr. Patrick                  male   32 \n",
       "    SibSp Parch Ticket          Fare   Cabin Embarked\n",
       "709 0     0     SOTON/OQ 392076  7.050       S       \n",
       "710 0     5     382652          29.125       Q       \n",
       "711 0     0     211536          13.000       S       \n",
       "712 0     0     112053          30.000 B42   S       \n",
       "713 0     0     111369          30.000 C148  C       \n",
       "714 0     0     370376           7.750       Q       "
      ]
     },
     "metadata": {},
     "output_type": "display_data"
    }
   ],
   "source": [
    "# rownames 다시 맞춰주기 \n",
    "rownames(train_age) <- c()\n",
    "str(train_age)\n",
    "tail(train_age)"
   ]
  },
  {
   "cell_type": "code",
   "execution_count": null,
   "metadata": {
    "vscode": {
     "languageId": "r"
    }
   },
   "outputs": [],
   "source": []
  }
 ],
 "metadata": {
  "kernelspec": {
   "display_name": "R",
   "language": "R",
   "name": "ir"
  },
  "language_info": {
   "codemirror_mode": "r",
   "file_extension": ".r",
   "mimetype": "text/x-r-source",
   "name": "R",
   "pygments_lexer": "r",
   "version": "3.6.1"
  },
  "orig_nbformat": 4
 },
 "nbformat": 4,
 "nbformat_minor": 2
}
