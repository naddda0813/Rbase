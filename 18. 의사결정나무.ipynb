{
 "cells": [
  {
   "cell_type": "code",
   "execution_count": 1,
   "metadata": {
    "vscode": {
     "languageId": "r"
    }
   },
   "outputs": [
    {
     "name": "stderr",
     "output_type": "stream",
     "text": [
      "Loading required package: grid\n",
      "Loading required package: mvtnorm\n",
      "Loading required package: modeltools\n",
      "Loading required package: stats4\n",
      "Loading required package: strucchange\n",
      "Loading required package: zoo\n",
      "\n",
      "Attaching package: ‘zoo’\n",
      "\n",
      "The following objects are masked from ‘package:base’:\n",
      "\n",
      "    as.Date, as.Date.numeric\n",
      "\n",
      "Loading required package: sandwich\n"
     ]
    }
   ],
   "source": [
    "# Anaconda Navigator에서 party 설치 \n",
    "library(party)"
   ]
  },
  {
   "cell_type": "code",
   "execution_count": 3,
   "metadata": {
    "vscode": {
     "languageId": "r"
    }
   },
   "outputs": [
    {
     "name": "stderr",
     "output_type": "stream",
     "text": [
      "Loading required package: lattice\n",
      "Loading required package: ggplot2\n",
      "Registered S3 methods overwritten by 'ggplot2':\n",
      "  method         from \n",
      "  [.quosures     rlang\n",
      "  c.quosures     rlang\n",
      "  print.quosures rlang\n"
     ]
    }
   ],
   "source": [
    "# Sampling\n",
    "set.seed(1234)\n",
    "library(caret)"
   ]
  },
  {
   "cell_type": "code",
   "execution_count": 20,
   "metadata": {
    "vscode": {
     "languageId": "r"
    }
   },
   "outputs": [
    {
     "data": {
      "text/html": [
       "<table>\n",
       "<thead><tr><th scope=col>Resample1</th></tr></thead>\n",
       "<tbody>\n",
       "\t<tr><td> 1</td></tr>\n",
       "\t<tr><td> 2</td></tr>\n",
       "\t<tr><td> 3</td></tr>\n",
       "\t<tr><td> 4</td></tr>\n",
       "\t<tr><td> 7</td></tr>\n",
       "\t<tr><td> 8</td></tr>\n",
       "\t<tr><td> 9</td></tr>\n",
       "\t<tr><td>13</td></tr>\n",
       "\t<tr><td>16</td></tr>\n",
       "\t<tr><td>17</td></tr>\n",
       "\t<tr><td>18</td></tr>\n",
       "\t<tr><td>19</td></tr>\n",
       "\t<tr><td>20</td></tr>\n",
       "\t<tr><td>23</td></tr>\n",
       "\t<tr><td>25</td></tr>\n",
       "\t<tr><td>26</td></tr>\n",
       "\t<tr><td>27</td></tr>\n",
       "\t<tr><td>28</td></tr>\n",
       "\t<tr><td>29</td></tr>\n",
       "\t<tr><td>30</td></tr>\n",
       "\t<tr><td>31</td></tr>\n",
       "\t<tr><td>32</td></tr>\n",
       "\t<tr><td>33</td></tr>\n",
       "\t<tr><td>36</td></tr>\n",
       "\t<tr><td>38</td></tr>\n",
       "\t<tr><td>39</td></tr>\n",
       "\t<tr><td>40</td></tr>\n",
       "\t<tr><td>41</td></tr>\n",
       "\t<tr><td>42</td></tr>\n",
       "\t<tr><td>43</td></tr>\n",
       "\t<tr><td>...</td></tr>\n",
       "\t<tr><td>107</td></tr>\n",
       "\t<tr><td>108</td></tr>\n",
       "\t<tr><td>110</td></tr>\n",
       "\t<tr><td>111</td></tr>\n",
       "\t<tr><td>112</td></tr>\n",
       "\t<tr><td>113</td></tr>\n",
       "\t<tr><td>114</td></tr>\n",
       "\t<tr><td>115</td></tr>\n",
       "\t<tr><td>119</td></tr>\n",
       "\t<tr><td>120</td></tr>\n",
       "\t<tr><td>122</td></tr>\n",
       "\t<tr><td>124</td></tr>\n",
       "\t<tr><td>125</td></tr>\n",
       "\t<tr><td>126</td></tr>\n",
       "\t<tr><td>127</td></tr>\n",
       "\t<tr><td>128</td></tr>\n",
       "\t<tr><td>129</td></tr>\n",
       "\t<tr><td>130</td></tr>\n",
       "\t<tr><td>131</td></tr>\n",
       "\t<tr><td>134</td></tr>\n",
       "\t<tr><td>137</td></tr>\n",
       "\t<tr><td>138</td></tr>\n",
       "\t<tr><td>139</td></tr>\n",
       "\t<tr><td>141</td></tr>\n",
       "\t<tr><td>142</td></tr>\n",
       "\t<tr><td>143</td></tr>\n",
       "\t<tr><td>145</td></tr>\n",
       "\t<tr><td>148</td></tr>\n",
       "\t<tr><td>149</td></tr>\n",
       "\t<tr><td>150</td></tr>\n",
       "</tbody>\n",
       "</table>\n"
      ],
      "text/latex": [
       "\\begin{tabular}{l}\n",
       " Resample1\\\\\n",
       "\\hline\n",
       "\t  1\\\\\n",
       "\t  2\\\\\n",
       "\t  3\\\\\n",
       "\t  4\\\\\n",
       "\t  7\\\\\n",
       "\t  8\\\\\n",
       "\t  9\\\\\n",
       "\t 13\\\\\n",
       "\t 16\\\\\n",
       "\t 17\\\\\n",
       "\t 18\\\\\n",
       "\t 19\\\\\n",
       "\t 20\\\\\n",
       "\t 23\\\\\n",
       "\t 25\\\\\n",
       "\t 26\\\\\n",
       "\t 27\\\\\n",
       "\t 28\\\\\n",
       "\t 29\\\\\n",
       "\t 30\\\\\n",
       "\t 31\\\\\n",
       "\t 32\\\\\n",
       "\t 33\\\\\n",
       "\t 36\\\\\n",
       "\t 38\\\\\n",
       "\t 39\\\\\n",
       "\t 40\\\\\n",
       "\t 41\\\\\n",
       "\t 42\\\\\n",
       "\t 43\\\\\n",
       "\t ...\\\\\n",
       "\t 107\\\\\n",
       "\t 108\\\\\n",
       "\t 110\\\\\n",
       "\t 111\\\\\n",
       "\t 112\\\\\n",
       "\t 113\\\\\n",
       "\t 114\\\\\n",
       "\t 115\\\\\n",
       "\t 119\\\\\n",
       "\t 120\\\\\n",
       "\t 122\\\\\n",
       "\t 124\\\\\n",
       "\t 125\\\\\n",
       "\t 126\\\\\n",
       "\t 127\\\\\n",
       "\t 128\\\\\n",
       "\t 129\\\\\n",
       "\t 130\\\\\n",
       "\t 131\\\\\n",
       "\t 134\\\\\n",
       "\t 137\\\\\n",
       "\t 138\\\\\n",
       "\t 139\\\\\n",
       "\t 141\\\\\n",
       "\t 142\\\\\n",
       "\t 143\\\\\n",
       "\t 145\\\\\n",
       "\t 148\\\\\n",
       "\t 149\\\\\n",
       "\t 150\\\\\n",
       "\\end{tabular}\n"
      ],
      "text/markdown": [
       "\n",
       "| Resample1 |\n",
       "|---|\n",
       "|  1 |\n",
       "|  2 |\n",
       "|  3 |\n",
       "|  4 |\n",
       "|  7 |\n",
       "|  8 |\n",
       "|  9 |\n",
       "| 13 |\n",
       "| 16 |\n",
       "| 17 |\n",
       "| 18 |\n",
       "| 19 |\n",
       "| 20 |\n",
       "| 23 |\n",
       "| 25 |\n",
       "| 26 |\n",
       "| 27 |\n",
       "| 28 |\n",
       "| 29 |\n",
       "| 30 |\n",
       "| 31 |\n",
       "| 32 |\n",
       "| 33 |\n",
       "| 36 |\n",
       "| 38 |\n",
       "| 39 |\n",
       "| 40 |\n",
       "| 41 |\n",
       "| 42 |\n",
       "| 43 |\n",
       "| ... |\n",
       "| 107 |\n",
       "| 108 |\n",
       "| 110 |\n",
       "| 111 |\n",
       "| 112 |\n",
       "| 113 |\n",
       "| 114 |\n",
       "| 115 |\n",
       "| 119 |\n",
       "| 120 |\n",
       "| 122 |\n",
       "| 124 |\n",
       "| 125 |\n",
       "| 126 |\n",
       "| 127 |\n",
       "| 128 |\n",
       "| 129 |\n",
       "| 130 |\n",
       "| 131 |\n",
       "| 134 |\n",
       "| 137 |\n",
       "| 138 |\n",
       "| 139 |\n",
       "| 141 |\n",
       "| 142 |\n",
       "| 143 |\n",
       "| 145 |\n",
       "| 148 |\n",
       "| 149 |\n",
       "| 150 |\n",
       "\n"
      ],
      "text/plain": [
       "      Resample1\n",
       " [1,]  1       \n",
       " [2,]  2       \n",
       " [3,]  3       \n",
       " [4,]  4       \n",
       " [5,]  7       \n",
       " [6,]  8       \n",
       " [7,]  9       \n",
       " [8,] 13       \n",
       " [9,] 16       \n",
       "[10,] 17       \n",
       "[11,] 18       \n",
       "[12,] 19       \n",
       "[13,] 20       \n",
       "[14,] 23       \n",
       "[15,] 25       \n",
       "[16,] 26       \n",
       "[17,] 27       \n",
       "[18,] 28       \n",
       "[19,] 29       \n",
       "[20,] 30       \n",
       "[21,] 31       \n",
       "[22,] 32       \n",
       "[23,] 33       \n",
       "[24,] 36       \n",
       "[25,] 38       \n",
       "[26,] 39       \n",
       "[27,] 40       \n",
       "[28,] 41       \n",
       "[29,] 42       \n",
       "[30,] 43       \n",
       "[31,] ...      \n",
       "[32,] 107      \n",
       "[33,] 108      \n",
       "[34,] 110      \n",
       "[35,] 111      \n",
       "[36,] 112      \n",
       "[37,] 113      \n",
       "[38,] 114      \n",
       "[39,] 115      \n",
       "[40,] 119      \n",
       "[41,] 120      \n",
       "[42,] 122      \n",
       "[43,] 124      \n",
       "[44,] 125      \n",
       "[45,] 126      \n",
       "[46,] 127      \n",
       "[47,] 128      \n",
       "[48,] 129      \n",
       "[49,] 130      \n",
       "[50,] 131      \n",
       "[51,] 134      \n",
       "[52,] 137      \n",
       "[53,] 138      \n",
       "[54,] 139      \n",
       "[55,] 141      \n",
       "[56,] 142      \n",
       "[57,] 143      \n",
       "[58,] 145      \n",
       "[59,] 148      \n",
       "[60,] 149      \n",
       "[61,] 150      "
      ]
     },
     "metadata": {},
     "output_type": "display_data"
    },
    {
     "data": {
      "text/html": [
       "105"
      ],
      "text/latex": [
       "105"
      ],
      "text/markdown": [
       "105"
      ],
      "text/plain": [
       "[1] 105"
      ]
     },
     "metadata": {},
     "output_type": "display_data"
    }
   ],
   "source": [
    "# 70%만 샘플링 \n",
    "samp <- createDataPartition(iris$Species,p=0.7,list=F)\n",
    "samp\n",
    "nrow(samp)"
   ]
  },
  {
   "cell_type": "code",
   "execution_count": 6,
   "metadata": {
    "vscode": {
     "languageId": "r"
    }
   },
   "outputs": [],
   "source": [
    "# 학습용\n",
    "data.tr <- iris[samp,]\n",
    "#테스트용 \n",
    "data.test <- iris[-samp,]"
   ]
  },
  {
   "cell_type": "code",
   "execution_count": 7,
   "metadata": {
    "vscode": {
     "languageId": "r"
    }
   },
   "outputs": [],
   "source": [
    "#학습시키기\n",
    "model.ctree <- ctree(Species ~., data=data.tr)"
   ]
  },
  {
   "cell_type": "code",
   "execution_count": 9,
   "metadata": {
    "vscode": {
     "languageId": "r"
    }
   },
   "outputs": [],
   "source": [
    "# 문제 및 정답 만들기 \n",
    "x <- subset(data.test,select=-Species)\n",
    "y <- data.test$Species"
   ]
  },
  {
   "cell_type": "code",
   "execution_count": 11,
   "metadata": {
    "vscode": {
     "languageId": "r"
    }
   },
   "outputs": [
    {
     "data": {
      "text/html": [
       "<ol class=list-inline>\n",
       "\t<li>setosa</li>\n",
       "\t<li>setosa</li>\n",
       "\t<li>setosa</li>\n",
       "\t<li>setosa</li>\n",
       "\t<li>setosa</li>\n",
       "\t<li>setosa</li>\n",
       "\t<li>setosa</li>\n",
       "\t<li>setosa</li>\n",
       "\t<li>setosa</li>\n",
       "\t<li>setosa</li>\n",
       "\t<li>setosa</li>\n",
       "\t<li>setosa</li>\n",
       "\t<li>setosa</li>\n",
       "\t<li>setosa</li>\n",
       "\t<li>setosa</li>\n",
       "\t<li>versicolor</li>\n",
       "\t<li>versicolor</li>\n",
       "\t<li>versicolor</li>\n",
       "\t<li>virginica</li>\n",
       "\t<li>versicolor</li>\n",
       "\t<li>versicolor</li>\n",
       "\t<li>virginica</li>\n",
       "\t<li>virginica</li>\n",
       "\t<li>versicolor</li>\n",
       "\t<li>versicolor</li>\n",
       "\t<li>versicolor</li>\n",
       "\t<li>versicolor</li>\n",
       "\t<li>versicolor</li>\n",
       "\t<li>versicolor</li>\n",
       "\t<li>versicolor</li>\n",
       "\t<li>virginica</li>\n",
       "\t<li>virginica</li>\n",
       "\t<li>virginica</li>\n",
       "\t<li>virginica</li>\n",
       "\t<li>virginica</li>\n",
       "\t<li>virginica</li>\n",
       "\t<li>virginica</li>\n",
       "\t<li>virginica</li>\n",
       "\t<li>virginica</li>\n",
       "\t<li>virginica</li>\n",
       "\t<li>virginica</li>\n",
       "\t<li>virginica</li>\n",
       "\t<li>virginica</li>\n",
       "\t<li>virginica</li>\n",
       "\t<li>virginica</li>\n",
       "</ol>\n",
       "\n",
       "<details>\n",
       "\t<summary style=display:list-item;cursor:pointer>\n",
       "\t\t<strong>Levels</strong>:\n",
       "\t</summary>\n",
       "\t<ol class=list-inline>\n",
       "\t\t<li>'setosa'</li>\n",
       "\t\t<li>'versicolor'</li>\n",
       "\t\t<li>'virginica'</li>\n",
       "\t</ol>\n",
       "</details>"
      ],
      "text/latex": [
       "\\begin{enumerate*}\n",
       "\\item setosa\n",
       "\\item setosa\n",
       "\\item setosa\n",
       "\\item setosa\n",
       "\\item setosa\n",
       "\\item setosa\n",
       "\\item setosa\n",
       "\\item setosa\n",
       "\\item setosa\n",
       "\\item setosa\n",
       "\\item setosa\n",
       "\\item setosa\n",
       "\\item setosa\n",
       "\\item setosa\n",
       "\\item setosa\n",
       "\\item versicolor\n",
       "\\item versicolor\n",
       "\\item versicolor\n",
       "\\item virginica\n",
       "\\item versicolor\n",
       "\\item versicolor\n",
       "\\item virginica\n",
       "\\item virginica\n",
       "\\item versicolor\n",
       "\\item versicolor\n",
       "\\item versicolor\n",
       "\\item versicolor\n",
       "\\item versicolor\n",
       "\\item versicolor\n",
       "\\item versicolor\n",
       "\\item virginica\n",
       "\\item virginica\n",
       "\\item virginica\n",
       "\\item virginica\n",
       "\\item virginica\n",
       "\\item virginica\n",
       "\\item virginica\n",
       "\\item virginica\n",
       "\\item virginica\n",
       "\\item virginica\n",
       "\\item virginica\n",
       "\\item virginica\n",
       "\\item virginica\n",
       "\\item virginica\n",
       "\\item virginica\n",
       "\\end{enumerate*}\n",
       "\n",
       "\\emph{Levels}: \\begin{enumerate*}\n",
       "\\item 'setosa'\n",
       "\\item 'versicolor'\n",
       "\\item 'virginica'\n",
       "\\end{enumerate*}\n"
      ],
      "text/markdown": [
       "1. setosa\n",
       "2. setosa\n",
       "3. setosa\n",
       "4. setosa\n",
       "5. setosa\n",
       "6. setosa\n",
       "7. setosa\n",
       "8. setosa\n",
       "9. setosa\n",
       "10. setosa\n",
       "11. setosa\n",
       "12. setosa\n",
       "13. setosa\n",
       "14. setosa\n",
       "15. setosa\n",
       "16. versicolor\n",
       "17. versicolor\n",
       "18. versicolor\n",
       "19. virginica\n",
       "20. versicolor\n",
       "21. versicolor\n",
       "22. virginica\n",
       "23. virginica\n",
       "24. versicolor\n",
       "25. versicolor\n",
       "26. versicolor\n",
       "27. versicolor\n",
       "28. versicolor\n",
       "29. versicolor\n",
       "30. versicolor\n",
       "31. virginica\n",
       "32. virginica\n",
       "33. virginica\n",
       "34. virginica\n",
       "35. virginica\n",
       "36. virginica\n",
       "37. virginica\n",
       "38. virginica\n",
       "39. virginica\n",
       "40. virginica\n",
       "41. virginica\n",
       "42. virginica\n",
       "43. virginica\n",
       "44. virginica\n",
       "45. virginica\n",
       "\n",
       "\n",
       "\n",
       "**Levels**: 1. 'setosa'\n",
       "2. 'versicolor'\n",
       "3. 'virginica'\n",
       "\n",
       "\n"
      ],
      "text/plain": [
       " [1] setosa     setosa     setosa     setosa     setosa     setosa    \n",
       " [7] setosa     setosa     setosa     setosa     setosa     setosa    \n",
       "[13] setosa     setosa     setosa     versicolor versicolor versicolor\n",
       "[19] virginica  versicolor versicolor virginica  virginica  versicolor\n",
       "[25] versicolor versicolor versicolor versicolor versicolor versicolor\n",
       "[31] virginica  virginica  virginica  virginica  virginica  virginica \n",
       "[37] virginica  virginica  virginica  virginica  virginica  virginica \n",
       "[43] virginica  virginica  virginica \n",
       "Levels: setosa versicolor virginica"
      ]
     },
     "metadata": {},
     "output_type": "display_data"
    }
   ],
   "source": [
    "#검증하기 \n",
    "pred <- predict(model.ctree,x)\n",
    "pred"
   ]
  },
  {
   "cell_type": "code",
   "execution_count": 12,
   "metadata": {
    "vscode": {
     "languageId": "r"
    }
   },
   "outputs": [
    {
     "data": {
      "text/html": [
       "0.933333333333333"
      ],
      "text/latex": [
       "0.933333333333333"
      ],
      "text/markdown": [
       "0.933333333333333"
      ],
      "text/plain": [
       "[1] 0.9333333"
      ]
     },
     "metadata": {},
     "output_type": "display_data"
    },
    {
     "data": {
      "text/plain": [
       "            y\n",
       "pred         setosa versicolor virginica\n",
       "  setosa         15          0         0\n",
       "  versicolor      0         12         0\n",
       "  virginica       0          3        15"
      ]
     },
     "metadata": {},
     "output_type": "display_data"
    }
   ],
   "source": [
    "# 예측력과 오분류표 \n",
    "mean(pred == y)\n",
    "table(pred,y)"
   ]
  },
  {
   "cell_type": "code",
   "execution_count": 14,
   "metadata": {
    "vscode": {
     "languageId": "r"
    }
   },
   "outputs": [
    {
     "data": {
      "image/png": "[encoded data removed]",
      "text/plain": [
       "plot without title"
      ]
     },
     "metadata": {},
     "output_type": "display_data"
    }
   ],
   "source": [
    "plot(model.ctree)"
   ]
  },
  {
   "cell_type": "markdown",
   "metadata": {},
   "source": []
  },
  {
   "cell_type": "code",
   "execution_count": null,
   "metadata": {
    "vscode": {
     "languageId": "r"
    }
   },
   "outputs": [],
   "source": []
  }
 ],
 "metadata": {
  "kernelspec": {
   "display_name": "R",
   "language": "R",
   "name": "ir"
  },
  "language_info": {
   "codemirror_mode": "r",
   "file_extension": ".r",
   "mimetype": "text/x-r-source",
   "name": "R",
   "pygments_lexer": "r",
   "version": "3.6.1"
  },
  "orig_nbformat": 4
 },
 "nbformat": 4,
 "nbformat_minor": 2
}
